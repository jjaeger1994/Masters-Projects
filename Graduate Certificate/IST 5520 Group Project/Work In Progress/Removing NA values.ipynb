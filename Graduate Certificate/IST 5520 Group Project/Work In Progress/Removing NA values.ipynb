{
 "cells": [
  {
   "cell_type": "code",
   "execution_count": 1,
   "id": "42bc733f",
   "metadata": {},
   "outputs": [],
   "source": [
    "import pandas as pd\n",
    "import numpy as np\n",
    "from statsmodels.stats.outliers_influence import variance_inflation_factor\n",
    "import seaborn as sns\n",
    "import matplotlib.pyplot as plt"
   ]
  },
  {
   "cell_type": "code",
   "execution_count": 2,
   "id": "89ba690f",
   "metadata": {},
   "outputs": [],
   "source": [
    "pitchingdat = pd.read_csv(r\"combinationPitchingDF.csv\", index_col = 0)\n",
    "hittingdat = pd.read_csv(r\"combinationHittingDF.csv\", index_col = 0)"
   ]
  },
  {
   "cell_type": "code",
   "execution_count": 3,
   "id": "5f7250ec",
   "metadata": {},
   "outputs": [
    {
     "data": {
      "text/plain": [
       "playerID     0\n",
       "yearID       0\n",
       "W            0\n",
       "L            0\n",
       "G            0\n",
       "GS           0\n",
       "CG           0\n",
       "SHO          0\n",
       "SV           0\n",
       "IPouts       0\n",
       "H            0\n",
       "ER           0\n",
       "HR           0\n",
       "BB           0\n",
       "SO           0\n",
       "BAOpp        0\n",
       "ERA          1\n",
       "IBB          0\n",
       "WP           0\n",
       "HBP          0\n",
       "BK           0\n",
       "BFP          0\n",
       "GF           0\n",
       "R            0\n",
       "SH           0\n",
       "SF           0\n",
       "GIDP         0\n",
       "nameFirst    0\n",
       "nameLast     0\n",
       "nameGiven    0\n",
       "throws       0\n",
       "teamName     0\n",
       "LogSalary    0\n",
       "dtype: int64"
      ]
     },
     "execution_count": 3,
     "metadata": {},
     "output_type": "execute_result"
    }
   ],
   "source": [
    "pitchingdat.isnull().sum()"
   ]
  },
  {
   "cell_type": "code",
   "execution_count": 8,
   "id": "d5a35a4f",
   "metadata": {},
   "outputs": [],
   "source": [
    "pitchingnoNA = pitchingdat.dropna()"
   ]
  },
  {
   "cell_type": "code",
   "execution_count": 9,
   "id": "ca28c3ce",
   "metadata": {},
   "outputs": [
    {
     "data": {
      "text/plain": [
       "playerID     0\n",
       "yearID       0\n",
       "W            0\n",
       "L            0\n",
       "G            0\n",
       "GS           0\n",
       "CG           0\n",
       "SHO          0\n",
       "SV           0\n",
       "IPouts       0\n",
       "H            0\n",
       "ER           0\n",
       "HR           0\n",
       "BB           0\n",
       "SO           0\n",
       "BAOpp        0\n",
       "ERA          0\n",
       "IBB          0\n",
       "WP           0\n",
       "HBP          0\n",
       "BK           0\n",
       "BFP          0\n",
       "GF           0\n",
       "R            0\n",
       "SH           0\n",
       "SF           0\n",
       "GIDP         0\n",
       "nameFirst    0\n",
       "nameLast     0\n",
       "nameGiven    0\n",
       "throws       0\n",
       "teamName     0\n",
       "LogSalary    0\n",
       "dtype: int64"
      ]
     },
     "execution_count": 9,
     "metadata": {},
     "output_type": "execute_result"
    }
   ],
   "source": [
    "pitchingnoNA.isnull().sum()"
   ]
  },
  {
   "cell_type": "code",
   "execution_count": 6,
   "id": "3760463c",
   "metadata": {},
   "outputs": [
    {
     "data": {
      "text/plain": [
       "playerID     0\n",
       "yearID       0\n",
       "G            0\n",
       "R            0\n",
       "RBI          0\n",
       "SB           0\n",
       "CS           0\n",
       "SO           0\n",
       "IBB          0\n",
       "SH           0\n",
       "SF           0\n",
       "GIDP         0\n",
       "nameFirst    0\n",
       "nameLast     0\n",
       "nameGiven    0\n",
       "bats         0\n",
       "teamName     0\n",
       "LogSalary    0\n",
       "XBH          0\n",
       "SLG          4\n",
       "BA           4\n",
       "OBP          3\n",
       "OPS          4\n",
       "dtype: int64"
      ]
     },
     "execution_count": 6,
     "metadata": {},
     "output_type": "execute_result"
    }
   ],
   "source": [
    "hittingdat.isnull().sum()"
   ]
  },
  {
   "cell_type": "code",
   "execution_count": 10,
   "id": "45f73289",
   "metadata": {},
   "outputs": [],
   "source": [
    "hittingnoNA = hittingdat.dropna()"
   ]
  },
  {
   "cell_type": "code",
   "execution_count": 12,
   "id": "5ef0bdf4",
   "metadata": {},
   "outputs": [
    {
     "data": {
      "text/plain": [
       "playerID     0\n",
       "yearID       0\n",
       "G            0\n",
       "R            0\n",
       "RBI          0\n",
       "SB           0\n",
       "CS           0\n",
       "SO           0\n",
       "IBB          0\n",
       "SH           0\n",
       "SF           0\n",
       "GIDP         0\n",
       "nameFirst    0\n",
       "nameLast     0\n",
       "nameGiven    0\n",
       "bats         0\n",
       "teamName     0\n",
       "LogSalary    0\n",
       "XBH          0\n",
       "SLG          0\n",
       "BA           0\n",
       "OBP          0\n",
       "OPS          0\n",
       "dtype: int64"
      ]
     },
     "execution_count": 12,
     "metadata": {},
     "output_type": "execute_result"
    }
   ],
   "source": [
    "hittingnoNA.isnull().sum()"
   ]
  },
  {
   "cell_type": "code",
   "execution_count": 13,
   "id": "0aa72f21",
   "metadata": {},
   "outputs": [],
   "source": [
    "pitchingnoNA.to_csv(\"no_NA_PitchingDF.csv\")"
   ]
  },
  {
   "cell_type": "code",
   "execution_count": 14,
   "id": "8b10fe1a",
   "metadata": {},
   "outputs": [],
   "source": [
    "hittingnoNA.to_csv(\"no_NA_HittingDF.csv\")"
   ]
  }
 ],
 "metadata": {
  "kernelspec": {
   "display_name": "Python 3 (ipykernel)",
   "language": "python",
   "name": "python3"
  },
  "language_info": {
   "codemirror_mode": {
    "name": "ipython",
    "version": 3
   },
   "file_extension": ".py",
   "mimetype": "text/x-python",
   "name": "python",
   "nbconvert_exporter": "python",
   "pygments_lexer": "ipython3",
   "version": "3.9.6"
  }
 },
 "nbformat": 4,
 "nbformat_minor": 5
}
