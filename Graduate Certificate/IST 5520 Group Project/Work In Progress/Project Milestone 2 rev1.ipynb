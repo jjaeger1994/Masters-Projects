{
 "cells": [
  {
   "cell_type": "markdown",
   "id": "67a3e836",
   "metadata": {},
   "source": [
    "<h1 align=\"center\"> Project Milestone 2: Data Analysis 1 </h1>\n",
    "<h3 align=\"center\"> Group 7 IST 5520  </h3>\n",
    "<h3 align=\"center\"> Members:  Joshua Jaeger, Maxwell Butler, Austin Funcheon, Conor Joyce, Casey Kemerer, David Poteet</h3>\n",
    "<h3 align=\"center\"> Oct 29th 2021 </h3>"
   ]
  },
  {
   "cell_type": "markdown",
   "id": "8199442c",
   "metadata": {},
   "source": [
    "<h3> Introduction: </h3>\n",
    "\n",
    "Group 7 intends to use the Lahman Database of MLB statistics to create a fair market calculator for different MLB player's salaries. The database will act as our training set and will be partitioned to include a test set to test the effectiveness of our calculator.\n",
    "\n",
    "General Managers, or GMs, in the MLB often struggle with determining the true value of a player. These GMs are expected to bring a championship to their team, which involves balancing talent with a budget. There are a significant number of statistics that are utilized to demonstrate the performance of both position players and pitchers, but what statistics truly determine the value of the player. How is a GM able to evaluate a player's performance and provide a salary relatable to their value? The business problems we intend to answer to understand the value of players can be summarized with the following questions:\n",
    "<ul>\n",
    "    <li> Given a pitcher's performance what should their salary be? </li>\n",
    "    <li> Given a batter's performance what should their salary be? </li>\n",
    "    <li> Given a position player's defensive performance what should their salary be? </li>\n",
    "</ul>\n",
    "\n",
    "Depending on project constraints, and what provide the best results, those questions may be modified to better understand the problem at hand.\n",
    "\n",
    "Our intended input will be relevant season statistics for each group. For example, statistics relevant to a pitcher are ERA, Strike Outs, Win-Loss record, and other stats. However, hitting statistics are not relevant for a pitcher.\n",
    "\n",
    "Our intended output will either be a specific value for a salary or a salary range which a team could negotiate in."
   ]
  },
  {
   "cell_type": "markdown",
   "id": "e33c3429",
   "metadata": {},
   "source": [
    "<h3> Database and collection: </h3>\n",
    "\n",
    "The database we will be using to accomplish our task is the Lahman database, considered the most comprehensive open-source database for baseball statistics. This database meets project requirements: \n",
    "<ul>\n",
    "    <li> the pitching table alone has 23 variables and over 48,000 observations, </li>\n",
    "    <li> the dataset is raw and uncleansed, we will need to do a lot of cleaning and extraction to get the data we need, </li>\n",
    "    <li> the data will tell an interesting story by answering our business problem, and </li>\n",
    "    <li> although the dataset is used by a large number of people (specifically Sabermatricians who use statistics to find truth in baseball) this specific problem has not been addressed and our solution will be unique and independent of any work done with this database.\n",
    "</ul>\n",
    "\n",
    "The database is in a relational format with each table in a unique .csv file and has been uploaded to github."
   ]
  },
  {
   "cell_type": "markdown",
   "id": "4b4c7bd7",
   "metadata": {},
   "source": [
    "<h3> Data Consolidation and Cleaning:</h3>\n",
    "\n",
    "First step is to clean, reduce dimensionally, and standardize the data.\n",
    "In this case, there are two data sets: Pitching, and Hitting.\n",
    "\n",
    "In file \"Data Joining.ipynb\", many of the raw files are processed and combined into the pitching and hitting data files, including the following steps:\n",
    "<br>Importing the data from: \n",
    "        <li> People.csv</li>\n",
    "        <li> Teams.csv </li>\n",
    "        <li> Pitching.csv </li>\n",
    "        <li> Batting.csv </li>\n",
    "        <li> Salaries.csv </li>\n",
    "Eliminating columns that have no relevance to salary analysis\n",
    "<br>Export of \"joinedPitchingDF.csv\" and \"joinedHittingDF.csv\"\n",
    "\n",
    "\n",
    "In file \"Data Cleansing2.ipynb\", several adjustments were made to clean up the data, including the following steps:\n",
    "<li> Importing the data from \"joinedPitchingDF.csv\" and \"joinedHittingDF.csv\" </li>\n",
    "<li> Cleansing the data of null datasets </li>\n",
    "<li> Visualize Salary data as a plot by year </li>\n",
    "<b>insert chart here</b>\n",
    "<li> Visualize Salary data as an avg plot by year </li>\n",
    "<b>insert chart here</b>\n",
    "<li> Creation of the \"RealSalary\" Field: Adjusting the salary data for inflation, using CPI to normalize the data to 2016 dollars</li>\n",
    "<li> From the Hitting data set, Pitchers from before 2003 were removed, as irrelevant datapoints. </li>\n",
    "<li> Creation of \"LogSalary\" Field, to account for data skew</li>\n",
    "<b>insert chart here</b>\n",
    "<li> Removal of data outliers > Q3 + 1.5*IQR on LogSalary </li>\n",
    "<b>insert chart here</b>\n",
    "<li> Finalizing and exporting cleansed data as \"cleansedPitchingDF.csv\" and \"cleansedHittingDF.csv\" respectively. </li>\n"
   ]
  },
  {
   "cell_type": "markdown",
   "id": "7295d2a1",
   "metadata": {},
   "source": [
    "<h3> Dimension Reduction Through Variable Combination:</h3>\n",
    "   \n",
    "In file \"Dimension Reduction - Variable combination.ipynb\", cleansed data is imported and variables are aggregated.\n",
    "  <li>Compliation of XBH, or Extra Base Hits. </li>\n",
    "  <li>Compliation of SLG, or Slugging  </li>\n",
    "  <li>Compliation of BA, or Batting Average  </li>\n",
    "  <li>Compliation of OBP, or On Base Percentage  </li>\n",
    "  <li>Compliation of OPS, or On Base Plus Slugging  </li>\n",
    "  <li>Dropping of irrelevant / combined varibles feeding the above common baseball summary statistics </li>\n",
    "Export of \"combinationPitchingDF.csv\" and \"combinationHittingDF.csv\""
   ]
  },
  {
   "cell_type": "markdown",
   "id": "b0106ea5",
   "metadata": {},
   "source": [
    "<h3> Correlation Analysis:</h3>\n",
    "\n",
    "This step is to run several steps of correlation analysis, and reduce the dimensionality of the dataset.\n",
    "\n",
    "In file \"Correlation .ipynb\", an initial review of the correlation of variables was conducted. \n",
    "<li> Importing the data </li>\n",
    "<li> Visualizing a heat map of the remaining variables</li>\n",
    "<b>insert chart here</b><br>\n",
    "In file \"Correlation Analysis after Variable Removal.ipynb\", an initial review of the correlation of variables was conducted. \n",
    "<li> Importing the data </li>\n",
    "<li> Visualizing a heat map of the remaining variables</li>\n",
    "<b>insert chart here</b>\n"
   ]
  },
  {
   "cell_type": "markdown",
   "id": "f66674d9",
   "metadata": {},
   "source": [
    "<h3> Random dictonary that might belong somewhere else later.,,</h3>"
   ]
  },
  {
   "cell_type": "markdown",
   "id": "50817944",
   "metadata": {},
   "source": [
    "\n",
    "From Hitting:\n",
    "\n",
    "·         XBH – Extra Base hits, SLG – Slugging, BA – Batting Average, OBP – On-Base Percentage = all of these variables are measuring similar effects and have a large amount of collinearity with eachother. These can be removed and OPS – On-Base Plus Slugging takes all of these into account, so we are not losing data fidelity.\n",
    "\n",
    "·         CS – Caught Stealing, this can be removed because it has little correlation with salary and has multicollinearity with SB – Stolen Bases. This makes since because someone who attempts to steal often will also get caught more often.\n",
    "\n",
    "·         G – Has multicollinearity with a large amount of useful variables. It is also not a reflection of a player’s ability to play.\n",
    "\n",
    "This should remove an additional six variables from what we have already removed.\n",
    "\n",
    "From Pitching:\n",
    "\n",
    "·         IPOuts – Innings Pitched * Outs and BFP – Batter’s Facing Pitcher. These both have major multicollinearity issues and are measuring the same thing.\n",
    "\n",
    "·         R – Runs, ER- Earned Runs. This has high multicollinearity, there is very little difference in measurement between the R, ER, and ERA, so we can drop R and ER and keep ERA. Keeping ERA will protect data fidelity\n",
    "\n",
    "·         IBB – Intentional Base on Balls. Firstly, from a baseball stand point, this is a coaching decision to intentionally walk a player and has very little to do with the pitcher. Secondly, as expected, it has low correlation with salary and some multicollinearity issues.\n",
    "\n",
    "·         BK – Balks. Low correlation with salary and some multicollinearity issues.\n",
    "\n",
    "·         GF – Games Finished. Low correlation with salary and some multicollinearity issues\n",
    "\n",
    "·         G- Games, Low correlation with salary and multicollinearity issues.\n",
    "\n",
    "·         L- Losses, has a lot of correlation with W – Wins,  Or we could combine wins and losses with a W/L ratio ( I like this Idea Best) then drop both.\n",
    "\n",
    " "
   ]
  },
  {
   "cell_type": "markdown",
   "id": "c8241e3d",
   "metadata": {},
   "source": []
  },
  {
   "cell_type": "code",
   "execution_count": null,
   "id": "5de6a8a6",
   "metadata": {},
   "outputs": [],
   "source": []
  }
 ],
 "metadata": {
  "kernelspec": {
   "display_name": "Python 3 (ipykernel)",
   "language": "python",
   "name": "python3"
  },
  "language_info": {
   "codemirror_mode": {
    "name": "ipython",
    "version": 3
   },
   "file_extension": ".py",
   "mimetype": "text/x-python",
   "name": "python",
   "nbconvert_exporter": "python",
   "pygments_lexer": "ipython3",
   "version": "3.9.6"
  }
 },
 "nbformat": 4,
 "nbformat_minor": 5
}
