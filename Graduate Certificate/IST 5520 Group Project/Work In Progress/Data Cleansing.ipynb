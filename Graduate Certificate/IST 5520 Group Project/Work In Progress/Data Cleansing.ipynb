{
 "cells": [
  {
   "cell_type": "markdown",
   "id": "2cba30a2",
   "metadata": {},
   "source": [
    "<h1 align = \"center\"> Data Cleansing and Outlier Analysis </h1>\n",
    "<h2 align = \"center\"> Group 7 </h2>"
   ]
  },
  {
   "cell_type": "code",
   "execution_count": null,
   "id": "f635851c",
   "metadata": {},
   "outputs": [],
   "source": [
    "import pandas as pd\n",
    "import numpy as np"
   ]
  }
 ],
 "metadata": {
  "kernelspec": {
   "display_name": "Python 3 (ipykernel)",
   "language": "python",
   "name": "python3"
  },
  "language_info": {
   "codemirror_mode": {
    "name": "ipython",
    "version": 3
   },
   "file_extension": ".py",
   "mimetype": "text/x-python",
   "name": "python",
   "nbconvert_exporter": "python",
   "pygments_lexer": "ipython3",
   "version": "3.9.6"
  }
 },
 "nbformat": 4,
 "nbformat_minor": 5
}
