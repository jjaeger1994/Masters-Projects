{
 "cells": [
  {
   "cell_type": "markdown",
   "id": "67a3e836",
   "metadata": {},
   "source": [
    "<h1 align=\"center\"> Project Milestone 1: Proposal </h1>\n",
    "<h3 align=\"center\"> Group 7 IST 5520  </h3>\n",
    "<h3 align=\"center\"> Members:  Austin Funcheon, Casey Kemerer, Conor Joyce, David Poteet, Joshua Jaeger, Maxwell Butler </h3>\n",
    "<h3 align=\"center\"> Sep 24th 2021 </h3>"
   ]
  },
  {
   "cell_type": "markdown",
   "id": "8199442c",
   "metadata": {},
   "source": [
    "<h3> Introduction: </h3>\n",
    "Group 7 intends to use the Lahman Database of MLB statistics to create a fair market calculator for different MLB player's salaries. The database will act as our training set and will be partitioned to include a test set to test the effectiveness of our calculator.\n",
    "\n",
    "General Managers, or GMs, in the MLB often struggle with determining the true value of a player. These GMs are expected to bring a championship to their team, which involves balancing talent with a budget. There are a significant number of statistics that are utilized to demonstrate the performance of both position players and pitchers, but what statistics truly determine the value of the player. How is a GM able to evaluate a player's performance and provide a salary relatable to their value? The business problems we intend to answer to understand the value of players can be summarized with the following questions:\n",
    "<ul>\n",
    "    <li> Given a pitcher's performance what should their salary be? </li>\n",
    "    <li> Given a batter's performance what should their salary be? </li>\n",
    "    <li> Given a position player's defensive performance what should their salary be? </li>\n",
    "</ul>\n",
    "\n",
    "Depending on project constraints, and what provide the best results, those questions may be modified to better understand the problem at hand.\n",
    "\n",
    "Our intended input will be relevant season statistics for each group. For example, statistics relevant to a pitcher are ERA, Strike Outs, Win-Loss record, and other stats. However, hitting statistics are not relevant for a pitcher.\n",
    "\n",
    "Our intended output will either be a specific value for a salary or a salary range which a team could negotiate in."
   ]
  },
  {
   "cell_type": "markdown",
   "id": "e33c3429",
   "metadata": {},
   "source": [
    "<h3> Database and collection: </h3>\n",
    "The database we will be using to accomplish our task is the Lahman database, considered the most comprehensive open-source database for baseball statistics. This database meets project requirements: \n",
    "<ul>\n",
    "    <li> the pitching table alone has 23 variables and over 48,000 observations, </li>\n",
    "    <li> the dataset is raw and uncleansed, we will need to do a lot of cleaning and extraction to get the data we need, </li>\n",
    "    <li> the data will tell an interesting story by answering our business problem, and </li>\n",
    "    <li> although the dataset is used by a large number of people (specifically Sabermatricians who use statistics to find truth in baseball) this specific problem has not been addressed and our solution will be unique and independent of any work done with this database.\n",
    "</ul>\n",
    "\n",
    "The database is in a relational format with each table in a unique .csv file and has been uploaded to github."
   ]
  },
  {
   "cell_type": "code",
   "execution_count": null,
   "id": "d3cae0fb",
   "metadata": {},
   "outputs": [],
   "source": []
  }
 ],
 "metadata": {
  "kernelspec": {
   "display_name": "Python 3 (ipykernel)",
   "language": "python",
   "name": "python3"
  },
  "language_info": {
   "codemirror_mode": {
    "name": "ipython",
    "version": 3
   },
   "file_extension": ".py",
   "mimetype": "text/x-python",
   "name": "python",
   "nbconvert_exporter": "python",
   "pygments_lexer": "ipython3",
   "version": "3.9.6"
  }
 },
 "nbformat": 4,
 "nbformat_minor": 5
}
