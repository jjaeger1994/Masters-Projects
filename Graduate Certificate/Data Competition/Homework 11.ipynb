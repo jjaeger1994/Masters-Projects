{
 "cells": [
  {
   "cell_type": "markdown",
   "id": "fc3c23a0",
   "metadata": {},
   "source": [
    "<h1 align = 'center'> Homework 11: Data Competition </h1>\n",
    "<h3 align = 'center'> By: Josh Jaeger and Max Butler </h3>"
   ]
  },
  {
   "cell_type": "code",
   "execution_count": 1,
   "id": "8d8343cd",
   "metadata": {},
   "outputs": [],
   "source": [
    "import pandas as pd\n",
    "import numpy as np\n",
    "from sklearn.naive_bayes import GaussianNB, BernoulliNB\n",
    "from sklearn.svm import SVC\n",
    "from sklearn.neural_network import MLPClassifier\n",
    "from sklearn.ensemble import RandomForestClassifier, VotingClassifier, BaggingClassifier\n",
    "from sklearn import neighbors\n",
    "from sklearn import metrics\n",
    "from sklearn import preprocessing"
   ]
  },
  {
   "cell_type": "markdown",
   "id": "a29fc7d2",
   "metadata": {},
   "source": [
    "<h3> Data Preprocessing and Feature Reduction </h3>"
   ]
  },
  {
   "cell_type": "code",
   "execution_count": 2,
   "id": "39d3ce03",
   "metadata": {},
   "outputs": [],
   "source": [
    "trainingDF = pd.read_csv(r\"../Competition/train_data.csv\")"
   ]
  },
  {
   "cell_type": "code",
   "execution_count": 3,
   "id": "7a9c8a4c",
   "metadata": {},
   "outputs": [
    {
     "data": {
      "text/html": [
       "<div>\n",
       "<style scoped>\n",
       "    .dataframe tbody tr th:only-of-type {\n",
       "        vertical-align: middle;\n",
       "    }\n",
       "\n",
       "    .dataframe tbody tr th {\n",
       "        vertical-align: top;\n",
       "    }\n",
       "\n",
       "    .dataframe thead th {\n",
       "        text-align: right;\n",
       "    }\n",
       "</style>\n",
       "<table border=\"1\" class=\"dataframe\">\n",
       "  <thead>\n",
       "    <tr style=\"text-align: right;\">\n",
       "      <th></th>\n",
       "      <th>word_freq_make</th>\n",
       "      <th>word_freq_address</th>\n",
       "      <th>word_freq_all</th>\n",
       "      <th>word_freq_3d</th>\n",
       "      <th>word_freq_our</th>\n",
       "      <th>word_freq_over</th>\n",
       "      <th>word_freq_remove</th>\n",
       "      <th>word_freq_internet</th>\n",
       "      <th>word_freq_order</th>\n",
       "      <th>word_freq_mail</th>\n",
       "      <th>...</th>\n",
       "      <th>char_freq_;</th>\n",
       "      <th>char_freq_(</th>\n",
       "      <th>char_freq_[</th>\n",
       "      <th>char_freq_!</th>\n",
       "      <th>char_freq_$</th>\n",
       "      <th>char_freq_#</th>\n",
       "      <th>capital_run_length_average</th>\n",
       "      <th>capital_run_length_longest</th>\n",
       "      <th>capital_run_length_total</th>\n",
       "      <th>class</th>\n",
       "    </tr>\n",
       "  </thead>\n",
       "  <tbody>\n",
       "    <tr>\n",
       "      <th>733</th>\n",
       "      <td>0.0</td>\n",
       "      <td>0.0</td>\n",
       "      <td>0.00</td>\n",
       "      <td>0.0</td>\n",
       "      <td>0.00</td>\n",
       "      <td>0.00</td>\n",
       "      <td>0.00</td>\n",
       "      <td>0.00</td>\n",
       "      <td>0.00</td>\n",
       "      <td>0.00</td>\n",
       "      <td>...</td>\n",
       "      <td>0.0</td>\n",
       "      <td>0.158</td>\n",
       "      <td>0.000</td>\n",
       "      <td>0.000</td>\n",
       "      <td>0.079</td>\n",
       "      <td>0.079</td>\n",
       "      <td>1.719</td>\n",
       "      <td>15</td>\n",
       "      <td>98</td>\n",
       "      <td>0</td>\n",
       "    </tr>\n",
       "    <tr>\n",
       "      <th>1779</th>\n",
       "      <td>0.0</td>\n",
       "      <td>0.0</td>\n",
       "      <td>0.29</td>\n",
       "      <td>0.0</td>\n",
       "      <td>0.59</td>\n",
       "      <td>0.29</td>\n",
       "      <td>0.29</td>\n",
       "      <td>0.00</td>\n",
       "      <td>0.29</td>\n",
       "      <td>1.78</td>\n",
       "      <td>...</td>\n",
       "      <td>0.0</td>\n",
       "      <td>0.137</td>\n",
       "      <td>0.000</td>\n",
       "      <td>0.045</td>\n",
       "      <td>0.045</td>\n",
       "      <td>0.000</td>\n",
       "      <td>12.200</td>\n",
       "      <td>163</td>\n",
       "      <td>488</td>\n",
       "      <td>1</td>\n",
       "    </tr>\n",
       "    <tr>\n",
       "      <th>125</th>\n",
       "      <td>0.0</td>\n",
       "      <td>0.0</td>\n",
       "      <td>0.34</td>\n",
       "      <td>0.0</td>\n",
       "      <td>0.34</td>\n",
       "      <td>0.00</td>\n",
       "      <td>0.00</td>\n",
       "      <td>0.00</td>\n",
       "      <td>0.00</td>\n",
       "      <td>0.00</td>\n",
       "      <td>...</td>\n",
       "      <td>0.0</td>\n",
       "      <td>0.232</td>\n",
       "      <td>0.000</td>\n",
       "      <td>0.406</td>\n",
       "      <td>0.000</td>\n",
       "      <td>0.000</td>\n",
       "      <td>1.425</td>\n",
       "      <td>6</td>\n",
       "      <td>77</td>\n",
       "      <td>0</td>\n",
       "    </tr>\n",
       "    <tr>\n",
       "      <th>3156</th>\n",
       "      <td>0.0</td>\n",
       "      <td>0.0</td>\n",
       "      <td>0.00</td>\n",
       "      <td>0.0</td>\n",
       "      <td>0.00</td>\n",
       "      <td>0.00</td>\n",
       "      <td>0.00</td>\n",
       "      <td>0.00</td>\n",
       "      <td>0.00</td>\n",
       "      <td>0.00</td>\n",
       "      <td>...</td>\n",
       "      <td>0.0</td>\n",
       "      <td>0.267</td>\n",
       "      <td>0.066</td>\n",
       "      <td>0.000</td>\n",
       "      <td>0.000</td>\n",
       "      <td>0.000</td>\n",
       "      <td>17.952</td>\n",
       "      <td>200</td>\n",
       "      <td>377</td>\n",
       "      <td>0</td>\n",
       "    </tr>\n",
       "    <tr>\n",
       "      <th>423</th>\n",
       "      <td>0.0</td>\n",
       "      <td>0.0</td>\n",
       "      <td>0.00</td>\n",
       "      <td>0.0</td>\n",
       "      <td>0.00</td>\n",
       "      <td>1.29</td>\n",
       "      <td>0.00</td>\n",
       "      <td>0.64</td>\n",
       "      <td>0.00</td>\n",
       "      <td>0.00</td>\n",
       "      <td>...</td>\n",
       "      <td>0.0</td>\n",
       "      <td>0.000</td>\n",
       "      <td>0.000</td>\n",
       "      <td>1.160</td>\n",
       "      <td>0.116</td>\n",
       "      <td>0.000</td>\n",
       "      <td>1.800</td>\n",
       "      <td>12</td>\n",
       "      <td>63</td>\n",
       "      <td>1</td>\n",
       "    </tr>\n",
       "  </tbody>\n",
       "</table>\n",
       "<p>5 rows × 58 columns</p>\n",
       "</div>"
      ],
      "text/plain": [
       "      word_freq_make  word_freq_address  word_freq_all  word_freq_3d  \\\n",
       "733              0.0                0.0           0.00           0.0   \n",
       "1779             0.0                0.0           0.29           0.0   \n",
       "125              0.0                0.0           0.34           0.0   \n",
       "3156             0.0                0.0           0.00           0.0   \n",
       "423              0.0                0.0           0.00           0.0   \n",
       "\n",
       "      word_freq_our  word_freq_over  word_freq_remove  word_freq_internet  \\\n",
       "733            0.00            0.00              0.00                0.00   \n",
       "1779           0.59            0.29              0.29                0.00   \n",
       "125            0.34            0.00              0.00                0.00   \n",
       "3156           0.00            0.00              0.00                0.00   \n",
       "423            0.00            1.29              0.00                0.64   \n",
       "\n",
       "      word_freq_order  word_freq_mail  ...  char_freq_;  char_freq_(  \\\n",
       "733              0.00            0.00  ...          0.0        0.158   \n",
       "1779             0.29            1.78  ...          0.0        0.137   \n",
       "125              0.00            0.00  ...          0.0        0.232   \n",
       "3156             0.00            0.00  ...          0.0        0.267   \n",
       "423              0.00            0.00  ...          0.0        0.000   \n",
       "\n",
       "      char_freq_[  char_freq_!  char_freq_$  char_freq_#  \\\n",
       "733         0.000        0.000        0.079        0.079   \n",
       "1779        0.000        0.045        0.045        0.000   \n",
       "125         0.000        0.406        0.000        0.000   \n",
       "3156        0.066        0.000        0.000        0.000   \n",
       "423         0.000        1.160        0.116        0.000   \n",
       "\n",
       "      capital_run_length_average  capital_run_length_longest  \\\n",
       "733                        1.719                          15   \n",
       "1779                      12.200                         163   \n",
       "125                        1.425                           6   \n",
       "3156                      17.952                         200   \n",
       "423                        1.800                          12   \n",
       "\n",
       "      capital_run_length_total  class  \n",
       "733                         98      0  \n",
       "1779                       488      1  \n",
       "125                         77      0  \n",
       "3156                       377      0  \n",
       "423                         63      1  \n",
       "\n",
       "[5 rows x 58 columns]"
      ]
     },
     "execution_count": 3,
     "metadata": {},
     "output_type": "execute_result"
    }
   ],
   "source": [
    "trainingDF.sample(5)"
   ]
  },
  {
   "cell_type": "code",
   "execution_count": 4,
   "id": "a0ab6ef8",
   "metadata": {},
   "outputs": [
    {
     "name": "stdout",
     "output_type": "stream",
     "text": [
      "<class 'pandas.core.frame.DataFrame'>\n",
      "RangeIndex: 3220 entries, 0 to 3219\n",
      "Data columns (total 58 columns):\n",
      " #   Column                      Non-Null Count  Dtype  \n",
      "---  ------                      --------------  -----  \n",
      " 0   word_freq_make              3220 non-null   float64\n",
      " 1   word_freq_address           3220 non-null   float64\n",
      " 2   word_freq_all               3220 non-null   float64\n",
      " 3   word_freq_3d                3220 non-null   float64\n",
      " 4   word_freq_our               3220 non-null   float64\n",
      " 5   word_freq_over              3220 non-null   float64\n",
      " 6   word_freq_remove            3220 non-null   float64\n",
      " 7   word_freq_internet          3220 non-null   float64\n",
      " 8   word_freq_order             3220 non-null   float64\n",
      " 9   word_freq_mail              3220 non-null   float64\n",
      " 10  word_freq_receive           3220 non-null   float64\n",
      " 11  word_freq_will              3220 non-null   float64\n",
      " 12  word_freq_people            3220 non-null   float64\n",
      " 13  word_freq_report            3220 non-null   float64\n",
      " 14  word_freq_addresses         3220 non-null   float64\n",
      " 15  word_freq_free              3220 non-null   float64\n",
      " 16  word_freq_business          3220 non-null   float64\n",
      " 17  word_freq_email             3220 non-null   float64\n",
      " 18  word_freq_you               3220 non-null   float64\n",
      " 19  word_freq_credit            3220 non-null   float64\n",
      " 20  word_freq_your              3220 non-null   float64\n",
      " 21  word_freq_font              3220 non-null   float64\n",
      " 22  word_freq_000               3220 non-null   float64\n",
      " 23  word_freq_money             3220 non-null   float64\n",
      " 24  word_freq_hp                3220 non-null   float64\n",
      " 25  word_freq_hpl               3220 non-null   float64\n",
      " 26  word_freq_george            3220 non-null   float64\n",
      " 27  word_freq_650               3220 non-null   float64\n",
      " 28  word_freq_lab               3220 non-null   float64\n",
      " 29  word_freq_labs              3220 non-null   float64\n",
      " 30  word_freq_telnet            3220 non-null   float64\n",
      " 31  word_freq_857               3220 non-null   float64\n",
      " 32  word_freq_data              3220 non-null   float64\n",
      " 33  word_freq_415               3220 non-null   float64\n",
      " 34  word_freq_85                3220 non-null   float64\n",
      " 35  word_freq_technology        3220 non-null   float64\n",
      " 36  word_freq_1999              3220 non-null   float64\n",
      " 37  word_freq_parts             3220 non-null   float64\n",
      " 38  word_freq_pm                3220 non-null   float64\n",
      " 39  word_freq_direct            3220 non-null   float64\n",
      " 40  word_freq_cs                3220 non-null   float64\n",
      " 41  word_freq_meeting           3220 non-null   float64\n",
      " 42  word_freq_original          3220 non-null   float64\n",
      " 43  word_freq_project           3220 non-null   float64\n",
      " 44  word_freq_re                3220 non-null   float64\n",
      " 45  word_freq_edu               3220 non-null   float64\n",
      " 46  word_freq_table             3220 non-null   float64\n",
      " 47  word_freq_conference        3220 non-null   float64\n",
      " 48  char_freq_;                 3220 non-null   float64\n",
      " 49  char_freq_(                 3220 non-null   float64\n",
      " 50  char_freq_[                 3220 non-null   float64\n",
      " 51  char_freq_!                 3220 non-null   float64\n",
      " 52  char_freq_$                 3220 non-null   float64\n",
      " 53  char_freq_#                 3220 non-null   float64\n",
      " 54  capital_run_length_average  3220 non-null   float64\n",
      " 55  capital_run_length_longest  3220 non-null   int64  \n",
      " 56  capital_run_length_total    3220 non-null   int64  \n",
      " 57  class                       3220 non-null   int64  \n",
      "dtypes: float64(55), int64(3)\n",
      "memory usage: 1.4 MB\n"
     ]
    }
   ],
   "source": [
    "trainingDF.info()"
   ]
  },
  {
   "cell_type": "code",
   "execution_count": 5,
   "id": "3b875fcf",
   "metadata": {},
   "outputs": [
    {
     "data": {
      "text/plain": [
       "0    1951\n",
       "1    1269\n",
       "Name: class, dtype: int64"
      ]
     },
     "execution_count": 5,
     "metadata": {},
     "output_type": "execute_result"
    }
   ],
   "source": [
    "trainingDF['class'].value_counts()"
   ]
  },
  {
   "cell_type": "code",
   "execution_count": 6,
   "id": "08bb9c3d",
   "metadata": {},
   "outputs": [],
   "source": [
    "train_X = trainingDF.drop(columns=['class'])\n",
    "train_y = trainingDF['class']"
   ]
  },
  {
   "cell_type": "code",
   "execution_count": 7,
   "id": "c18c7b7b",
   "metadata": {},
   "outputs": [],
   "source": [
    "rf = RandomForestClassifier(n_estimators=5, max_features=10,random_state=1984)"
   ]
  },
  {
   "cell_type": "code",
   "execution_count": 8,
   "id": "ff1960e8",
   "metadata": {},
   "outputs": [
    {
     "data": {
      "text/plain": [
       "RandomForestClassifier(max_features=10, n_estimators=5, random_state=1984)"
      ]
     },
     "execution_count": 8,
     "metadata": {},
     "output_type": "execute_result"
    }
   ],
   "source": [
    "rf.fit(train_X,train_y)"
   ]
  },
  {
   "cell_type": "code",
   "execution_count": 9,
   "id": "96b55eb9",
   "metadata": {},
   "outputs": [
    {
     "data": {
      "text/html": [
       "<div>\n",
       "<style scoped>\n",
       "    .dataframe tbody tr th:only-of-type {\n",
       "        vertical-align: middle;\n",
       "    }\n",
       "\n",
       "    .dataframe tbody tr th {\n",
       "        vertical-align: top;\n",
       "    }\n",
       "\n",
       "    .dataframe thead th {\n",
       "        text-align: right;\n",
       "    }\n",
       "</style>\n",
       "<table border=\"1\" class=\"dataframe\">\n",
       "  <thead>\n",
       "    <tr style=\"text-align: right;\">\n",
       "      <th></th>\n",
       "      <th>importance</th>\n",
       "    </tr>\n",
       "  </thead>\n",
       "  <tbody>\n",
       "    <tr>\n",
       "      <th>word_freq_hp</th>\n",
       "      <td>0.112480</td>\n",
       "    </tr>\n",
       "    <tr>\n",
       "      <th>word_freq_remove</th>\n",
       "      <td>0.104472</td>\n",
       "    </tr>\n",
       "    <tr>\n",
       "      <th>char_freq_$</th>\n",
       "      <td>0.092759</td>\n",
       "    </tr>\n",
       "    <tr>\n",
       "      <th>capital_run_length_longest</th>\n",
       "      <td>0.075843</td>\n",
       "    </tr>\n",
       "    <tr>\n",
       "      <th>char_freq_!</th>\n",
       "      <td>0.075690</td>\n",
       "    </tr>\n",
       "    <tr>\n",
       "      <th>word_freq_free</th>\n",
       "      <td>0.075457</td>\n",
       "    </tr>\n",
       "    <tr>\n",
       "      <th>word_freq_our</th>\n",
       "      <td>0.063328</td>\n",
       "    </tr>\n",
       "    <tr>\n",
       "      <th>capital_run_length_average</th>\n",
       "      <td>0.063076</td>\n",
       "    </tr>\n",
       "    <tr>\n",
       "      <th>word_freq_your</th>\n",
       "      <td>0.051859</td>\n",
       "    </tr>\n",
       "    <tr>\n",
       "      <th>capital_run_length_total</th>\n",
       "      <td>0.026204</td>\n",
       "    </tr>\n",
       "    <tr>\n",
       "      <th>word_freq_money</th>\n",
       "      <td>0.025179</td>\n",
       "    </tr>\n",
       "    <tr>\n",
       "      <th>word_freq_edu</th>\n",
       "      <td>0.020637</td>\n",
       "    </tr>\n",
       "    <tr>\n",
       "      <th>char_freq_(</th>\n",
       "      <td>0.016374</td>\n",
       "    </tr>\n",
       "    <tr>\n",
       "      <th>word_freq_you</th>\n",
       "      <td>0.015591</td>\n",
       "    </tr>\n",
       "    <tr>\n",
       "      <th>word_freq_000</th>\n",
       "      <td>0.014124</td>\n",
       "    </tr>\n",
       "    <tr>\n",
       "      <th>word_freq_will</th>\n",
       "      <td>0.011085</td>\n",
       "    </tr>\n",
       "    <tr>\n",
       "      <th>word_freq_all</th>\n",
       "      <td>0.010974</td>\n",
       "    </tr>\n",
       "    <tr>\n",
       "      <th>word_freq_hpl</th>\n",
       "      <td>0.010079</td>\n",
       "    </tr>\n",
       "    <tr>\n",
       "      <th>word_freq_mail</th>\n",
       "      <td>0.009948</td>\n",
       "    </tr>\n",
       "    <tr>\n",
       "      <th>word_freq_george</th>\n",
       "      <td>0.009730</td>\n",
       "    </tr>\n",
       "    <tr>\n",
       "      <th>word_freq_business</th>\n",
       "      <td>0.008845</td>\n",
       "    </tr>\n",
       "    <tr>\n",
       "      <th>word_freq_meeting</th>\n",
       "      <td>0.007350</td>\n",
       "    </tr>\n",
       "    <tr>\n",
       "      <th>word_freq_re</th>\n",
       "      <td>0.007223</td>\n",
       "    </tr>\n",
       "    <tr>\n",
       "      <th>word_freq_data</th>\n",
       "      <td>0.006858</td>\n",
       "    </tr>\n",
       "    <tr>\n",
       "      <th>word_freq_email</th>\n",
       "      <td>0.006752</td>\n",
       "    </tr>\n",
       "    <tr>\n",
       "      <th>word_freq_650</th>\n",
       "      <td>0.006703</td>\n",
       "    </tr>\n",
       "    <tr>\n",
       "      <th>word_freq_internet</th>\n",
       "      <td>0.006191</td>\n",
       "    </tr>\n",
       "    <tr>\n",
       "      <th>word_freq_1999</th>\n",
       "      <td>0.006052</td>\n",
       "    </tr>\n",
       "    <tr>\n",
       "      <th>word_freq_receive</th>\n",
       "      <td>0.004522</td>\n",
       "    </tr>\n",
       "    <tr>\n",
       "      <th>word_freq_font</th>\n",
       "      <td>0.004508</td>\n",
       "    </tr>\n",
       "    <tr>\n",
       "      <th>word_freq_make</th>\n",
       "      <td>0.004496</td>\n",
       "    </tr>\n",
       "    <tr>\n",
       "      <th>word_freq_address</th>\n",
       "      <td>0.004397</td>\n",
       "    </tr>\n",
       "    <tr>\n",
       "      <th>word_freq_over</th>\n",
       "      <td>0.004316</td>\n",
       "    </tr>\n",
       "    <tr>\n",
       "      <th>word_freq_order</th>\n",
       "      <td>0.004181</td>\n",
       "    </tr>\n",
       "    <tr>\n",
       "      <th>char_freq_;</th>\n",
       "      <td>0.003223</td>\n",
       "    </tr>\n",
       "    <tr>\n",
       "      <th>word_freq_people</th>\n",
       "      <td>0.002902</td>\n",
       "    </tr>\n",
       "    <tr>\n",
       "      <th>word_freq_original</th>\n",
       "      <td>0.002759</td>\n",
       "    </tr>\n",
       "    <tr>\n",
       "      <th>word_freq_labs</th>\n",
       "      <td>0.002507</td>\n",
       "    </tr>\n",
       "    <tr>\n",
       "      <th>word_freq_credit</th>\n",
       "      <td>0.002291</td>\n",
       "    </tr>\n",
       "    <tr>\n",
       "      <th>char_freq_#</th>\n",
       "      <td>0.002113</td>\n",
       "    </tr>\n",
       "    <tr>\n",
       "      <th>char_freq_[</th>\n",
       "      <td>0.002061</td>\n",
       "    </tr>\n",
       "    <tr>\n",
       "      <th>word_freq_technology</th>\n",
       "      <td>0.001999</td>\n",
       "    </tr>\n",
       "    <tr>\n",
       "      <th>word_freq_pm</th>\n",
       "      <td>0.001949</td>\n",
       "    </tr>\n",
       "    <tr>\n",
       "      <th>word_freq_report</th>\n",
       "      <td>0.001937</td>\n",
       "    </tr>\n",
       "    <tr>\n",
       "      <th>word_freq_cs</th>\n",
       "      <td>0.001582</td>\n",
       "    </tr>\n",
       "    <tr>\n",
       "      <th>word_freq_857</th>\n",
       "      <td>0.001189</td>\n",
       "    </tr>\n",
       "    <tr>\n",
       "      <th>word_freq_415</th>\n",
       "      <td>0.001147</td>\n",
       "    </tr>\n",
       "    <tr>\n",
       "      <th>word_freq_direct</th>\n",
       "      <td>0.001109</td>\n",
       "    </tr>\n",
       "    <tr>\n",
       "      <th>word_freq_3d</th>\n",
       "      <td>0.000804</td>\n",
       "    </tr>\n",
       "    <tr>\n",
       "      <th>word_freq_85</th>\n",
       "      <td>0.000696</td>\n",
       "    </tr>\n",
       "    <tr>\n",
       "      <th>word_freq_lab</th>\n",
       "      <td>0.000668</td>\n",
       "    </tr>\n",
       "    <tr>\n",
       "      <th>word_freq_parts</th>\n",
       "      <td>0.000544</td>\n",
       "    </tr>\n",
       "    <tr>\n",
       "      <th>word_freq_conference</th>\n",
       "      <td>0.000390</td>\n",
       "    </tr>\n",
       "    <tr>\n",
       "      <th>word_freq_project</th>\n",
       "      <td>0.000376</td>\n",
       "    </tr>\n",
       "    <tr>\n",
       "      <th>word_freq_table</th>\n",
       "      <td>0.000176</td>\n",
       "    </tr>\n",
       "    <tr>\n",
       "      <th>word_freq_addresses</th>\n",
       "      <td>0.000162</td>\n",
       "    </tr>\n",
       "    <tr>\n",
       "      <th>word_freq_telnet</th>\n",
       "      <td>0.000131</td>\n",
       "    </tr>\n",
       "  </tbody>\n",
       "</table>\n",
       "</div>"
      ],
      "text/plain": [
       "                            importance\n",
       "word_freq_hp                  0.112480\n",
       "word_freq_remove              0.104472\n",
       "char_freq_$                   0.092759\n",
       "capital_run_length_longest    0.075843\n",
       "char_freq_!                   0.075690\n",
       "word_freq_free                0.075457\n",
       "word_freq_our                 0.063328\n",
       "capital_run_length_average    0.063076\n",
       "word_freq_your                0.051859\n",
       "capital_run_length_total      0.026204\n",
       "word_freq_money               0.025179\n",
       "word_freq_edu                 0.020637\n",
       "char_freq_(                   0.016374\n",
       "word_freq_you                 0.015591\n",
       "word_freq_000                 0.014124\n",
       "word_freq_will                0.011085\n",
       "word_freq_all                 0.010974\n",
       "word_freq_hpl                 0.010079\n",
       "word_freq_mail                0.009948\n",
       "word_freq_george              0.009730\n",
       "word_freq_business            0.008845\n",
       "word_freq_meeting             0.007350\n",
       "word_freq_re                  0.007223\n",
       "word_freq_data                0.006858\n",
       "word_freq_email               0.006752\n",
       "word_freq_650                 0.006703\n",
       "word_freq_internet            0.006191\n",
       "word_freq_1999                0.006052\n",
       "word_freq_receive             0.004522\n",
       "word_freq_font                0.004508\n",
       "word_freq_make                0.004496\n",
       "word_freq_address             0.004397\n",
       "word_freq_over                0.004316\n",
       "word_freq_order               0.004181\n",
       "char_freq_;                   0.003223\n",
       "word_freq_people              0.002902\n",
       "word_freq_original            0.002759\n",
       "word_freq_labs                0.002507\n",
       "word_freq_credit              0.002291\n",
       "char_freq_#                   0.002113\n",
       "char_freq_[                   0.002061\n",
       "word_freq_technology          0.001999\n",
       "word_freq_pm                  0.001949\n",
       "word_freq_report              0.001937\n",
       "word_freq_cs                  0.001582\n",
       "word_freq_857                 0.001189\n",
       "word_freq_415                 0.001147\n",
       "word_freq_direct              0.001109\n",
       "word_freq_3d                  0.000804\n",
       "word_freq_85                  0.000696\n",
       "word_freq_lab                 0.000668\n",
       "word_freq_parts               0.000544\n",
       "word_freq_conference          0.000390\n",
       "word_freq_project             0.000376\n",
       "word_freq_table               0.000176\n",
       "word_freq_addresses           0.000162\n",
       "word_freq_telnet              0.000131"
      ]
     },
     "execution_count": 9,
     "metadata": {},
     "output_type": "execute_result"
    }
   ],
   "source": [
    "feature_importances = pd.DataFrame(rf.feature_importances_, \n",
    "                                   index = train_X.columns ,\n",
    "                                   columns = ['importance'])\n",
    "feature_importances = feature_importances.sort_values('importance'  , ascending=False)\n",
    "\n",
    "feature_importances"
   ]
  },
  {
   "cell_type": "code",
   "execution_count": 10,
   "id": "b4d2d547",
   "metadata": {},
   "outputs": [
    {
     "data": {
      "text/plain": [
       "<AxesSubplot:title={'center':'Feature Importance of Spam Email'}>"
      ]
     },
     "execution_count": 10,
     "metadata": {},
     "output_type": "execute_result"
    },
    {
     "data": {
      "image/png": "[encoded data removed]",
      "text/plain": [
       "<Figure size 1080x360 with 1 Axes>"
      ]
     },
     "metadata": {
      "needs_background": "light"
     },
     "output_type": "display_data"
    }
   ],
   "source": [
    "feature_importances.plot(kind = 'bar',figsize=(15,5), title='Feature Importance of Spam Email')"
   ]
  },
  {
   "cell_type": "code",
   "execution_count": 11,
   "id": "256ef56e",
   "metadata": {},
   "outputs": [],
   "source": [
    "featureThreshold = 0.005"
   ]
  },
  {
   "cell_type": "code",
   "execution_count": 12,
   "id": "f040a700",
   "metadata": {},
   "outputs": [],
   "source": [
    "features_to_drop = feature_importances.loc[feature_importances.importance < featureThreshold]"
   ]
  },
  {
   "cell_type": "code",
   "execution_count": 13,
   "id": "3180e44d",
   "metadata": {},
   "outputs": [
    {
     "data": {
      "text/plain": [
       "Index(['word_freq_receive', 'word_freq_font', 'word_freq_make',\n",
       "       'word_freq_address', 'word_freq_over', 'word_freq_order', 'char_freq_;',\n",
       "       'word_freq_people', 'word_freq_original', 'word_freq_labs',\n",
       "       'word_freq_credit', 'char_freq_#', 'char_freq_[',\n",
       "       'word_freq_technology', 'word_freq_pm', 'word_freq_report',\n",
       "       'word_freq_cs', 'word_freq_857', 'word_freq_415', 'word_freq_direct',\n",
       "       'word_freq_3d', 'word_freq_85', 'word_freq_lab', 'word_freq_parts',\n",
       "       'word_freq_conference', 'word_freq_project', 'word_freq_table',\n",
       "       'word_freq_addresses', 'word_freq_telnet'],\n",
       "      dtype='object')"
      ]
     },
     "execution_count": 13,
     "metadata": {},
     "output_type": "execute_result"
    }
   ],
   "source": [
    "features_to_drop.index"
   ]
  },
  {
   "cell_type": "code",
   "execution_count": 14,
   "id": "1c8660f1",
   "metadata": {},
   "outputs": [],
   "source": [
    "reducedTrainingDF = trainingDF.drop(columns = features_to_drop.index)"
   ]
  },
  {
   "cell_type": "code",
   "execution_count": 15,
   "id": "11e0361c",
   "metadata": {},
   "outputs": [],
   "source": [
    "train_X = reducedTrainingDF.drop(columns = ['class'])\n",
    "train_y = reducedTrainingDF['class']"
   ]
  },
  {
   "cell_type": "code",
   "execution_count": 16,
   "id": "76c4df49",
   "metadata": {},
   "outputs": [],
   "source": [
    "testDF = pd.read_csv(r\"../Competition/test_data.csv\")"
   ]
  },
  {
   "cell_type": "code",
   "execution_count": 17,
   "id": "b2a757e6",
   "metadata": {},
   "outputs": [],
   "source": [
    "reducedTestDF = testDF.drop(columns = features_to_drop.index)"
   ]
  },
  {
   "cell_type": "code",
   "execution_count": 18,
   "id": "856c4081",
   "metadata": {},
   "outputs": [],
   "source": [
    "test_X = reducedTestDF.drop(columns = 'class')\n",
    "test_y = reducedTestDF['class']"
   ]
  },
  {
   "cell_type": "code",
   "execution_count": 19,
   "id": "63a46dab",
   "metadata": {},
   "outputs": [],
   "source": [
    "##Remove for final\n",
    "train_X.to_csv(r\"../Competition/train_X.csv\")\n",
    "train_y.to_csv(r\"../Competition/train_y.csv\")"
   ]
  },
  {
   "cell_type": "code",
   "execution_count": 20,
   "id": "58385fbb",
   "metadata": {},
   "outputs": [
    {
     "data": {
      "text/plain": [
       "pandas.core.series.Series"
      ]
     },
     "execution_count": 20,
     "metadata": {},
     "output_type": "execute_result"
    }
   ],
   "source": [
    "type(train_y)"
   ]
  },
  {
   "cell_type": "markdown",
   "id": "cd766805",
   "metadata": {},
   "source": [
    "<h3> Data Normalization </h3>"
   ]
  },
  {
   "cell_type": "code",
   "execution_count": 21,
   "id": "827de50a",
   "metadata": {},
   "outputs": [],
   "source": [
    "scaler = preprocessing.MinMaxScaler().fit(train_X)"
   ]
  },
  {
   "cell_type": "code",
   "execution_count": 22,
   "id": "c5925762",
   "metadata": {},
   "outputs": [],
   "source": [
    "train_X_scale = scaler.transform(train_X)\n",
    "train_X_scale = pd.DataFrame(train_X_scale)\n",
    "train_X_scale.columns = train_X.columns\n"
   ]
  },
  {
   "cell_type": "code",
   "execution_count": 23,
   "id": "ae60da2d",
   "metadata": {},
   "outputs": [],
   "source": [
    "test_X_scale = scaler.transform(test_X)\n",
    "test_X_scale = pd.DataFrame(test_X_scale)\n",
    "test_X_scale.columns = test_X.columns"
   ]
  },
  {
   "cell_type": "code",
   "execution_count": 24,
   "id": "661a06d7",
   "metadata": {},
   "outputs": [],
   "source": [
    "#Remove in Final\n",
    "train_X_scale.to_csv(r\"../Competition/train_X_scale.csv\")"
   ]
  },
  {
   "cell_type": "markdown",
   "id": "b2cc25bd",
   "metadata": {},
   "source": [
    "<h3> Training Model <h3>"
   ]
  },
  {
   "cell_type": "code",
   "execution_count": 25,
   "id": "626ef909",
   "metadata": {},
   "outputs": [],
   "source": [
    "clf1 = BernoulliNB()"
   ]
  },
  {
   "cell_type": "code",
   "execution_count": 26,
   "id": "57fc196d",
   "metadata": {},
   "outputs": [],
   "source": [
    "clf2 = RandomForestClassifier(n_estimators = 150, criterion = 'entropy', max_features = 7, bootstrap=True, random_state=1984)"
   ]
  },
  {
   "cell_type": "code",
   "execution_count": 105,
   "id": "ed5ae252",
   "metadata": {},
   "outputs": [],
   "source": [
    "clf3 = MLPClassifier(solver = 'lbfgs', activation = 'tanh', max_iter=1500, early_stopping=True, tol =8e-4)"
   ]
  },
  {
   "cell_type": "code",
   "execution_count": 106,
   "id": "20e7f77a",
   "metadata": {},
   "outputs": [],
   "source": [
    "clf4 = SVC(kernel = 'rbf', gamma = 0.3, C=400, probability=True)"
   ]
  },
  {
   "cell_type": "code",
   "execution_count": 107,
   "id": "9496a58a",
   "metadata": {},
   "outputs": [],
   "source": [
    "clf5 = neighbors.KNeighborsClassifier(n_neighbors=11,weights='uniform',algorithm='auto')"
   ]
  },
  {
   "cell_type": "code",
   "execution_count": 108,
   "id": "e430b505",
   "metadata": {},
   "outputs": [],
   "source": [
    "clf5 = BaggingClassifier(clf5, n_estimators=50)"
   ]
  },
  {
   "cell_type": "code",
   "execution_count": 109,
   "id": "0d026c4a",
   "metadata": {},
   "outputs": [],
   "source": [
    "eclf = VotingClassifier(estimators = [('bnb',clf1),('rf',clf2),('mlp',clf3),('svc',clf4),('knn',clf5)], voting = 'soft', weights =[.5,3,1,1,1])"
   ]
  },
  {
   "cell_type": "code",
   "execution_count": 110,
   "id": "61333697",
   "metadata": {},
   "outputs": [
    {
     "data": {
      "text/plain": [
       "VotingClassifier(estimators=[('bnb', BernoulliNB()),\n",
       "                             ('rf',\n",
       "                              RandomForestClassifier(criterion='entropy',\n",
       "                                                     max_features=7,\n",
       "                                                     n_estimators=150,\n",
       "                                                     random_state=1984)),\n",
       "                             ('mlp',\n",
       "                              MLPClassifier(activation='tanh',\n",
       "                                            early_stopping=True, max_iter=1500,\n",
       "                                            solver='lbfgs', tol=0.0008)),\n",
       "                             ('svc', SVC(C=400, gamma=0.3, probability=True)),\n",
       "                             ('knn',\n",
       "                              BaggingClassifier(base_estimator=KNeighborsClassifier(n_neighbors=11),\n",
       "                                                n_estimators=50))],\n",
       "                 voting='soft', weights=[0.5, 3, 1, 1, 1])"
      ]
     },
     "execution_count": 110,
     "metadata": {},
     "output_type": "execute_result"
    }
   ],
   "source": [
    "eclf.fit(train_X_scale,train_y)"
   ]
  },
  {
   "cell_type": "code",
   "execution_count": 111,
   "id": "18fa4f49",
   "metadata": {},
   "outputs": [],
   "source": [
    "pred_y = eclf.predict(test_X_scale)"
   ]
  },
  {
   "cell_type": "code",
   "execution_count": 112,
   "id": "c3d26936",
   "metadata": {},
   "outputs": [
    {
     "name": "stdout",
     "output_type": "stream",
     "text": [
      "[[813  24]\n",
      " [ 41 503]]\n"
     ]
    }
   ],
   "source": [
    "cm = metrics.confusion_matrix(test_y, pred_y)\n",
    "print(cm)"
   ]
  },
  {
   "cell_type": "code",
   "execution_count": 113,
   "id": "d75c9961",
   "metadata": {},
   "outputs": [],
   "source": [
    "import matplotlib.pyplot as plt\n",
    "def print_cm(cm):\n",
    "    plt.clf()\n",
    "    plt.imshow(cm, interpolation='nearest', cmap=plt.cm.Wistia)\n",
    "    classNames = ['Spam','Not Spam']\n",
    "    plt.title('Confusion Matrix - Test Data')\n",
    "    plt.ylabel('True label')\n",
    "    plt.xlabel('Predicted label')\n",
    "    tick_marks = np.arange(len(classNames))\n",
    "    plt.xticks(tick_marks, classNames, rotation=45)\n",
    "    plt.yticks(tick_marks, classNames)\n",
    "    s = [['TN','FP'], ['FN', 'TP']] \n",
    "    for i in range(2):\n",
    "        for j in range(2):\n",
    "            plt.text(j,i, str(s[i][j])+\" = \"+str(cm[i][j]))\n",
    "    plt.show()"
   ]
  },
  {
   "cell_type": "code",
   "execution_count": 103,
   "id": "d1a6f87e",
   "metadata": {},
   "outputs": [
    {
     "data": {
      "image/png": "[encoded data removed]",
      "text/plain": [
       "<Figure size 432x288 with 1 Axes>"
      ]
     },
     "metadata": {
      "needs_background": "light"
     },
     "output_type": "display_data"
    }
   ],
   "source": [
    "print_cm(cm)"
   ]
  },
  {
   "cell_type": "code",
   "execution_count": 114,
   "id": "baf6674b",
   "metadata": {},
   "outputs": [
    {
     "data": {
      "text/plain": [
       "0.9479792589078643"
      ]
     },
     "execution_count": 114,
     "metadata": {},
     "output_type": "execute_result"
    }
   ],
   "source": [
    "metrics.roc_auc_score(test_y,pred_y)"
   ]
  },
  {
   "cell_type": "code",
   "execution_count": 115,
   "id": "b0457660",
   "metadata": {},
   "outputs": [
    {
     "data": {
      "text/plain": [
       "RandomForestClassifier(criterion='entropy', max_features=7, n_estimators=150,\n",
       "                       random_state=1984)"
      ]
     },
     "execution_count": 115,
     "metadata": {},
     "output_type": "execute_result"
    }
   ],
   "source": [
    "clf2.fit(train_X, train_y)"
   ]
  },
  {
   "cell_type": "code",
   "execution_count": 39,
   "id": "eddd5502",
   "metadata": {},
   "outputs": [],
   "source": [
    "pred_y_rf = clf2.predict(test_X)"
   ]
  },
  {
   "cell_type": "code",
   "execution_count": 40,
   "id": "9fd60855",
   "metadata": {},
   "outputs": [
    {
     "data": {
      "text/plain": [
       "0.9498174942019817"
      ]
     },
     "execution_count": 40,
     "metadata": {},
     "output_type": "execute_result"
    }
   ],
   "source": [
    "metrics.roc_auc_score(test_y,pred_y_rf)"
   ]
  },
  {
   "cell_type": "code",
   "execution_count": 41,
   "id": "dcbe88da",
   "metadata": {},
   "outputs": [
    {
     "data": {
      "text/plain": [
       "BernoulliNB()"
      ]
     },
     "execution_count": 41,
     "metadata": {},
     "output_type": "execute_result"
    }
   ],
   "source": [
    "clf1.fit(train_X, train_y)"
   ]
  },
  {
   "cell_type": "code",
   "execution_count": 42,
   "id": "a3cdd1a7",
   "metadata": {},
   "outputs": [],
   "source": [
    "pred_y_bnb = clf1.predict(test_X)"
   ]
  },
  {
   "cell_type": "code",
   "execution_count": 43,
   "id": "72cb9989",
   "metadata": {},
   "outputs": [
    {
     "data": {
      "text/plain": [
       "0.8861699697800267"
      ]
     },
     "execution_count": 43,
     "metadata": {},
     "output_type": "execute_result"
    }
   ],
   "source": [
    "metrics.roc_auc_score(test_y,pred_y_bnb)"
   ]
  },
  {
   "cell_type": "code",
   "execution_count": 44,
   "id": "398622dd",
   "metadata": {},
   "outputs": [
    {
     "data": {
      "text/plain": [
       "SVC(C=400, gamma=0.3, probability=True)"
      ]
     },
     "execution_count": 44,
     "metadata": {},
     "output_type": "execute_result"
    }
   ],
   "source": [
    "clf4.fit(train_X_scale, train_y)"
   ]
  },
  {
   "cell_type": "code",
   "execution_count": 45,
   "id": "bfde98b5",
   "metadata": {},
   "outputs": [],
   "source": [
    "pred_y_svc = clf4.predict(test_X_scale)"
   ]
  },
  {
   "cell_type": "code",
   "execution_count": 46,
   "id": "145783ee",
   "metadata": {},
   "outputs": [
    {
     "data": {
      "text/plain": [
       "0.9278970324689015"
      ]
     },
     "execution_count": 46,
     "metadata": {},
     "output_type": "execute_result"
    }
   ],
   "source": [
    "metrics.roc_auc_score(test_y,pred_y_svc)"
   ]
  },
  {
   "cell_type": "code",
   "execution_count": 47,
   "id": "aece378f",
   "metadata": {},
   "outputs": [
    {
     "data": {
      "text/plain": [
       "MLPClassifier(activation='tanh', early_stopping=True, max_iter=1500,\n",
       "              solver='lbfgs', tol=0.0008)"
      ]
     },
     "execution_count": 47,
     "metadata": {},
     "output_type": "execute_result"
    }
   ],
   "source": [
    "clf3.fit(train_X_scale, train_y)"
   ]
  },
  {
   "cell_type": "code",
   "execution_count": 48,
   "id": "39c5a27c",
   "metadata": {},
   "outputs": [],
   "source": [
    "pred_y_gnb = clf3.predict(test_X_scale)"
   ]
  },
  {
   "cell_type": "code",
   "execution_count": 49,
   "id": "5daab08a",
   "metadata": {},
   "outputs": [
    {
     "data": {
      "text/plain": [
       "0.9334589570595263"
      ]
     },
     "execution_count": 49,
     "metadata": {},
     "output_type": "execute_result"
    }
   ],
   "source": [
    "metrics.roc_auc_score(test_y,pred_y_gnb)"
   ]
  },
  {
   "cell_type": "code",
   "execution_count": 50,
   "id": "86f2af9b",
   "metadata": {},
   "outputs": [
    {
     "data": {
      "text/plain": [
       "BaggingClassifier(base_estimator=KNeighborsClassifier(n_neighbors=11),\n",
       "                  n_estimators=50)"
      ]
     },
     "execution_count": 50,
     "metadata": {},
     "output_type": "execute_result"
    }
   ],
   "source": [
    "clf5.fit(train_X_scale, train_y)"
   ]
  },
  {
   "cell_type": "code",
   "execution_count": 51,
   "id": "856716a4",
   "metadata": {},
   "outputs": [],
   "source": [
    "pred_y_knn = clf5.predict(test_X_scale)"
   ]
  },
  {
   "cell_type": "code",
   "execution_count": 52,
   "id": "15bdab4c",
   "metadata": {},
   "outputs": [
    {
     "data": {
      "text/plain": [
       "0.8798745080469463"
      ]
     },
     "execution_count": 52,
     "metadata": {},
     "output_type": "execute_result"
    }
   ],
   "source": [
    "metrics.roc_auc_score(test_y, pred_y_knn)"
   ]
  },
  {
   "cell_type": "code",
   "execution_count": null,
   "id": "e2b7f2e1",
   "metadata": {},
   "outputs": [],
   "source": []
  }
 ],
 "metadata": {
  "kernelspec": {
   "display_name": "Python 3 (ipykernel)",
   "language": "python",
   "name": "python3"
  },
  "language_info": {
   "codemirror_mode": {
    "name": "ipython",
    "version": 3
   },
   "file_extension": ".py",
   "mimetype": "text/x-python",
   "name": "python",
   "nbconvert_exporter": "python",
   "pygments_lexer": "ipython3",
   "version": "3.9.6"
  }
 },
 "nbformat": 4,
 "nbformat_minor": 5
}
