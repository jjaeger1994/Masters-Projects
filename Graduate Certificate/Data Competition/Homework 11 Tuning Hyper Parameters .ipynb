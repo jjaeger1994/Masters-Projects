{
 "cells": [
  {
   "cell_type": "markdown",
   "id": "ad227c8f",
   "metadata": {},
   "source": [
    "<h1 align = 'center'> Homework 11: Data Competition </h1>\n",
    "<h3 align = 'center'> By: Josh Jaeger and Max Butler </h3>\n",
    "<h3 align = 'center'> Tuning Hyper-Parameters </h3>"
   ]
  },
  {
   "cell_type": "code",
   "execution_count": 405,
   "id": "a2f0c81c",
   "metadata": {},
   "outputs": [],
   "source": [
    "import pandas as pd\n",
    "import numpy as np\n",
    "from sklearn.naive_bayes import GaussianNB, BernoulliNB\n",
    "from sklearn.svm import SVC\n",
    "from sklearn.ensemble import RandomForestClassifier, VotingClassifier\n",
    "from sklearn import metrics\n",
    "from sklearn.model_selection import GridSearchCV\n",
    "from sklearn import tree\n",
    "import sklearn\n",
    "import lightgbm as lgb"
   ]
  },
  {
   "cell_type": "code",
   "execution_count": 406,
   "id": "db1bbc83",
   "metadata": {},
   "outputs": [],
   "source": [
    "reducedTrainingDF = pd.read_csv(\"reducedTrainingDF.csv\", index_col = 0)\n",
    "reducedTestDF = pd.read_csv(\"reducedTestDF.csv\", index_col = 0)"
   ]
  },
  {
   "cell_type": "code",
   "execution_count": 407,
   "id": "48a4510b",
   "metadata": {},
   "outputs": [],
   "source": [
    "train_X = reducedTrainingDF.drop(columns = ['class'])\n",
    "train_y = reducedTrainingDF['class']"
   ]
  },
  {
   "cell_type": "code",
   "execution_count": 408,
   "id": "f113218c",
   "metadata": {},
   "outputs": [],
   "source": [
    "test_X = reducedTestDF.drop(columns = 'class')\n",
    "test_y = reducedTestDF['class']"
   ]
  },
  {
   "cell_type": "markdown",
   "id": "2d34a40e",
   "metadata": {},
   "source": [
    "<h3 align = 'center'> Without Hypertuning </h3>"
   ]
  },
  {
   "cell_type": "code",
   "execution_count": 409,
   "id": "3682e36f",
   "metadata": {},
   "outputs": [
    {
     "data": {
      "text/plain": [
       "VotingClassifier(estimators=[('bnb', BernoulliNB()),\n",
       "                             ('rf',\n",
       "                              RandomForestClassifier(n_estimators=50,\n",
       "                                                     random_state=1984)),\n",
       "                             ('gnb', GaussianNB()),\n",
       "                             ('svc', SVC(probability=True))],\n",
       "                 voting='soft', weights=[1, 2, 1, 1])"
      ]
     },
     "execution_count": 409,
     "metadata": {},
     "output_type": "execute_result"
    }
   ],
   "source": [
    "clf1 = BernoulliNB()\n",
    "clf2 = RandomForestClassifier(n_estimators = 50, random_state=1984)\n",
    "clf3 = GaussianNB()\n",
    "clf4 = SVC(kernel = 'rbf', probability=True)\n",
    "eclf = VotingClassifier(estimators = [('bnb',clf1),('rf',clf2),('gnb',clf3),('svc',clf4)], voting = 'soft', weights =[1,2,1,1])\n",
    "eclf.fit(train_X,train_y)"
   ]
  },
  {
   "cell_type": "code",
   "execution_count": 410,
   "id": "572bc871",
   "metadata": {},
   "outputs": [],
   "source": [
    "pred_y = eclf.predict(test_X)"
   ]
  },
  {
   "cell_type": "code",
   "execution_count": 411,
   "id": "b1227fdd",
   "metadata": {},
   "outputs": [
    {
     "name": "stdout",
     "output_type": "stream",
     "text": [
      "[[803  34]\n",
      " [ 47 497]]\n"
     ]
    }
   ],
   "source": [
    "cm = metrics.confusion_matrix(test_y, pred_y)\n",
    "print(cm)"
   ]
  },
  {
   "cell_type": "code",
   "execution_count": 412,
   "id": "3678ed24",
   "metadata": {},
   "outputs": [
    {
     "data": {
      "text/plain": [
       "0.9364908373743762"
      ]
     },
     "execution_count": 412,
     "metadata": {},
     "output_type": "execute_result"
    }
   ],
   "source": [
    "metrics.roc_auc_score(test_y,pred_y)"
   ]
  },
  {
   "cell_type": "code",
   "execution_count": 413,
   "id": "46ab5e92",
   "metadata": {},
   "outputs": [
    {
     "data": {
      "text/plain": [
       "RandomForestClassifier(n_estimators=50, random_state=1984)"
      ]
     },
     "execution_count": 413,
     "metadata": {},
     "output_type": "execute_result"
    }
   ],
   "source": [
    "clf2.fit(train_X, train_y)"
   ]
  },
  {
   "cell_type": "code",
   "execution_count": 414,
   "id": "1b4e86dc",
   "metadata": {},
   "outputs": [],
   "source": [
    "pred_y_rf = clf2.predict(test_X)"
   ]
  },
  {
   "cell_type": "code",
   "execution_count": 415,
   "id": "ab842a2c",
   "metadata": {},
   "outputs": [
    {
     "data": {
      "text/plain": [
       "0.9464166490969147"
      ]
     },
     "execution_count": 415,
     "metadata": {},
     "output_type": "execute_result"
    }
   ],
   "source": [
    "metrics.roc_auc_score(test_y,pred_y_rf)"
   ]
  },
  {
   "cell_type": "markdown",
   "id": "d4165e20",
   "metadata": {},
   "source": [
    "<h3 align = 'center'> Tuning Random Forests Hyper-Parameters </h3>"
   ]
  },
  {
   "cell_type": "code",
   "execution_count": 416,
   "id": "d19ea27b",
   "metadata": {},
   "outputs": [
    {
     "name": "stdout",
     "output_type": "stream",
     "text": [
      "Time Start:11/22/2021 19:01:46\n",
      "Time End:11/22/2021 19:12:41\n",
      "Execution Time (Seconds):654.603963136673\n",
      "The best parameters are {'bootstrap': True, 'criterion': 'entropy', 'max_features': 7, 'n_estimators': 150, 'random_state': 1984} with a score of 0.99\n"
     ]
    }
   ],
   "source": [
    "import time\n",
    "start = time.time()\n",
    "print('Time Start:' + time.strftime(\"%m/%d/%Y %H:%M:%S\"))\n",
    "\n",
    "max_features = [7,9,13,15,17]\n",
    "n_estimators = [10,20,30,40,50,60,70,80,90,100,140,150]\n",
    "criterion = ['gini', 'entropy']\n",
    "bootstrap = [True, False]\n",
    "param_grid = dict(max_features = max_features, n_estimators = n_estimators, criterion = criterion, bootstrap = bootstrap,\n",
    "                  random_state = [1984])\n",
    "\n",
    "rf = RandomForestClassifier()\n",
    "\n",
    "grid = GridSearchCV(estimator=rf, param_grid = param_grid, scoring = 'roc_auc', cv=5)\n",
    "\n",
    "grid.fit(train_X, train_y)\n",
    "\n",
    "end = time.time()\n",
    "print('Time End:'+ time.strftime(\"%m/%d/%Y %H:%M:%S\"))\n",
    "print('Execution Time (Seconds):' + str(end - start))\n",
    "\n",
    "print(\"The best parameters are %s with a score of %0.2f\"\n",
    "      % (grid.best_params_, grid.best_score_))"
   ]
  },
  {
   "cell_type": "code",
   "execution_count": 417,
   "id": "a7af1906",
   "metadata": {},
   "outputs": [],
   "source": [
    "rf_final12 = RandomForestClassifier(n_estimators = 150,\n",
    "                                   max_features = 7,\n",
    "                                   criterion = 'entropy',\n",
    "                                   bootstrap = True,\n",
    "                                   random_state = 1984)"
   ]
  },
  {
   "cell_type": "code",
   "execution_count": 418,
   "id": "9cc0ba57",
   "metadata": {},
   "outputs": [
    {
     "data": {
      "text/plain": [
       "RandomForestClassifier(criterion='entropy', max_features=7, n_estimators=150,\n",
       "                       random_state=1984)"
      ]
     },
     "execution_count": 418,
     "metadata": {},
     "output_type": "execute_result"
    }
   ],
   "source": [
    "rf_final12.fit(train_X,train_y)"
   ]
  },
  {
   "cell_type": "code",
   "execution_count": 419,
   "id": "fd001827",
   "metadata": {},
   "outputs": [],
   "source": [
    "pred_y_rf_final12 = rf_final12.predict(test_X)"
   ]
  },
  {
   "cell_type": "code",
   "execution_count": 420,
   "id": "b1500cc8",
   "metadata": {},
   "outputs": [
    {
     "data": {
      "text/plain": [
       "0.9498174942019817"
      ]
     },
     "execution_count": 420,
     "metadata": {},
     "output_type": "execute_result"
    }
   ],
   "source": [
    "metrics.roc_auc_score(test_y, pred_y_rf_final12)"
   ]
  },
  {
   "cell_type": "markdown",
   "id": "4413b7c3",
   "metadata": {},
   "source": [
    "I Found That the Model Will Preform Slightly Beter Using 140 n_estimators and Bootstrap set to False "
   ]
  },
  {
   "cell_type": "code",
   "execution_count": 421,
   "id": "9e273d04",
   "metadata": {},
   "outputs": [],
   "source": [
    "rf_final13 = RandomForestClassifier(n_estimators = 140,\n",
    "                                   max_features = 7,\n",
    "                                   criterion = 'entropy',\n",
    "                                   bootstrap = False,\n",
    "                                   random_state = 1984)"
   ]
  },
  {
   "cell_type": "code",
   "execution_count": 422,
   "id": "8a71b4a8",
   "metadata": {},
   "outputs": [
    {
     "data": {
      "text/plain": [
       "RandomForestClassifier(bootstrap=False, criterion='entropy', max_features=7,\n",
       "                       n_estimators=140, random_state=1984)"
      ]
     },
     "execution_count": 422,
     "metadata": {},
     "output_type": "execute_result"
    }
   ],
   "source": [
    "rf_final13.fit(train_X,train_y)"
   ]
  },
  {
   "cell_type": "code",
   "execution_count": 423,
   "id": "41a874b1",
   "metadata": {},
   "outputs": [],
   "source": [
    "pred_y_rf_final13 = rf_final13.predict(test_X)"
   ]
  },
  {
   "cell_type": "code",
   "execution_count": 424,
   "id": "bed97300",
   "metadata": {},
   "outputs": [
    {
     "data": {
      "text/plain": [
       "0.9513801040129313"
      ]
     },
     "execution_count": 424,
     "metadata": {},
     "output_type": "execute_result"
    }
   ],
   "source": [
    "metrics.roc_auc_score(test_y, pred_y_rf_final13)"
   ]
  },
  {
   "cell_type": "markdown",
   "id": "1a9903b1",
   "metadata": {},
   "source": [
    "<h3 align = 'center'> Model Comparison </h3>"
   ]
  },
  {
   "cell_type": "code",
   "execution_count": 425,
   "id": "b049cd2a",
   "metadata": {},
   "outputs": [],
   "source": [
    "acc = [metrics.accuracy_score(test_y, pred_y_rf),\n",
    "       metrics.accuracy_score(test_y, pred_y_rf_final12),\n",
    "       metrics.accuracy_score(test_y, pred_y_rf_final13)]\n",
    "\n",
    "pre = [metrics.precision_score(test_y, pred_y_rf),\n",
    "       metrics.precision_score(test_y, pred_y_rf_final12),\n",
    "       metrics.precision_score(test_y, pred_y_rf_final13)]\n",
    "\n",
    "rec = [metrics.recall_score(test_y, pred_y_rf),\n",
    "       metrics.recall_score(test_y, pred_y_rf_final12),\n",
    "       metrics.recall_score(test_y, pred_y_rf_final13)]\n",
    "\n",
    "f1  = [metrics.f1_score(test_y, pred_y_rf),\n",
    "       metrics.f1_score(test_y, pred_y_rf_final12),\n",
    "       metrics.f1_score(test_y, pred_y_rf_final13)]\n",
    "\n",
    "auc = [metrics.roc_auc_score(test_y, pred_y_rf),\n",
    "       metrics.roc_auc_score(test_y, pred_y_rf_final12),\n",
    "       metrics.roc_auc_score(test_y, pred_y_rf_final13)]"
   ]
  },
  {
   "cell_type": "code",
   "execution_count": 426,
   "id": "56b4fe0d",
   "metadata": {},
   "outputs": [
    {
     "data": {
      "text/html": [
       "<div>\n",
       "<style scoped>\n",
       "    .dataframe tbody tr th:only-of-type {\n",
       "        vertical-align: middle;\n",
       "    }\n",
       "\n",
       "    .dataframe tbody tr th {\n",
       "        vertical-align: top;\n",
       "    }\n",
       "\n",
       "    .dataframe thead th {\n",
       "        text-align: right;\n",
       "    }\n",
       "</style>\n",
       "<table border=\"1\" class=\"dataframe\">\n",
       "  <thead>\n",
       "    <tr style=\"text-align: right;\">\n",
       "      <th></th>\n",
       "      <th>Accuracy</th>\n",
       "      <th>Precision</th>\n",
       "      <th>Recall</th>\n",
       "      <th>F1 Score</th>\n",
       "      <th>AUC Score</th>\n",
       "    </tr>\n",
       "  </thead>\n",
       "  <tbody>\n",
       "    <tr>\n",
       "      <th>RF without Hyperparameter Tunning</th>\n",
       "      <td>0.952209</td>\n",
       "      <td>0.957854</td>\n",
       "      <td>0.919118</td>\n",
       "      <td>0.938086</td>\n",
       "      <td>0.946417</td>\n",
       "    </tr>\n",
       "    <tr>\n",
       "      <th>RF with GridSearchCV Hyperparameter Tunning</th>\n",
       "      <td>0.954381</td>\n",
       "      <td>0.954631</td>\n",
       "      <td>0.928309</td>\n",
       "      <td>0.941286</td>\n",
       "      <td>0.949817</td>\n",
       "    </tr>\n",
       "    <tr>\n",
       "      <th>RF with Manual Hyperparameter Tunning</th>\n",
       "      <td>0.955105</td>\n",
       "      <td>0.951311</td>\n",
       "      <td>0.933824</td>\n",
       "      <td>0.942486</td>\n",
       "      <td>0.951380</td>\n",
       "    </tr>\n",
       "  </tbody>\n",
       "</table>\n",
       "</div>"
      ],
      "text/plain": [
       "                                             Accuracy  Precision    Recall  \\\n",
       "RF without Hyperparameter Tunning            0.952209   0.957854  0.919118   \n",
       "RF with GridSearchCV Hyperparameter Tunning  0.954381   0.954631  0.928309   \n",
       "RF with Manual Hyperparameter Tunning        0.955105   0.951311  0.933824   \n",
       "\n",
       "                                             F1 Score  AUC Score  \n",
       "RF without Hyperparameter Tunning            0.938086   0.946417  \n",
       "RF with GridSearchCV Hyperparameter Tunning  0.941286   0.949817  \n",
       "RF with Manual Hyperparameter Tunning        0.942486   0.951380  "
      ]
     },
     "execution_count": 426,
     "metadata": {},
     "output_type": "execute_result"
    }
   ],
   "source": [
    "pd.DataFrame({'Accuracy':acc, 'Precision':pre, 'Recall':rec, 'F1 Score': f1, 'AUC Score':auc},\n",
    "             index = ['RF without Hyperparameter Tunning','RF with GridSearchCV Hyperparameter Tunning',\n",
    "                      'RF with Manual Hyperparameter Tunning'])"
   ]
  },
  {
   "cell_type": "markdown",
   "id": "65c578e1",
   "metadata": {},
   "source": [
    "<h3 align = 'center'> Fine Tuning for the Best Hyper Parameters </h3>"
   ]
  },
  {
   "cell_type": "code",
   "execution_count": 427,
   "id": "21ddfacc",
   "metadata": {},
   "outputs": [],
   "source": [
    "rf_final1= RandomForestClassifier(n_estimators = 250,\n",
    "                                   max_features = 7,\n",
    "                                   criterion = 'gini',\n",
    "                                   random_state = 1984)"
   ]
  },
  {
   "cell_type": "code",
   "execution_count": 428,
   "id": "5ec7f984",
   "metadata": {},
   "outputs": [],
   "source": [
    "rf_final2 = RandomForestClassifier(n_estimators = 50,\n",
    "                                   max_features = 3,\n",
    "                                   criterion = 'entropy',\n",
    "                                   random_state = 1984)"
   ]
  },
  {
   "cell_type": "code",
   "execution_count": 429,
   "id": "5670c920",
   "metadata": {},
   "outputs": [],
   "source": [
    "rf_final3 = RandomForestClassifier(n_estimators = 500,\n",
    "                                   max_features = 3,\n",
    "                                   criterion = 'gini',\n",
    "                                   random_state = 1984)"
   ]
  },
  {
   "cell_type": "code",
   "execution_count": 430,
   "id": "8433c8ff",
   "metadata": {},
   "outputs": [],
   "source": [
    "rf_final4 = RandomForestClassifier(n_estimators = 50,\n",
    "                                   max_features = 3,\n",
    "                                   criterion = 'gini',\n",
    "                                   random_state = 1984)"
   ]
  },
  {
   "cell_type": "code",
   "execution_count": 431,
   "id": "bc9c99ee",
   "metadata": {},
   "outputs": [],
   "source": [
    "rf_final5 = RandomForestClassifier(n_estimators = 250,\n",
    "                                   max_features = 6,\n",
    "                                   criterion = 'gini',\n",
    "                                   random_state = 1984)"
   ]
  },
  {
   "cell_type": "code",
   "execution_count": 432,
   "id": "a5abb580",
   "metadata": {},
   "outputs": [],
   "source": [
    "rf_final6 = RandomForestClassifier(n_estimators = 200,\n",
    "                                   max_features = 6,\n",
    "                                   criterion = 'gini',\n",
    "                                   random_state = 1984)"
   ]
  },
  {
   "cell_type": "code",
   "execution_count": 433,
   "id": "2c0ae879",
   "metadata": {},
   "outputs": [],
   "source": [
    "rf_final7 = RandomForestClassifier(n_estimators = 200,\n",
    "                                   max_features = 6,\n",
    "                                   criterion = 'entropy',\n",
    "                                   random_state = 1984)"
   ]
  },
  {
   "cell_type": "code",
   "execution_count": 434,
   "id": "29f5eea0",
   "metadata": {},
   "outputs": [],
   "source": [
    "rf_final8 = RandomForestClassifier(n_estimators = 150,\n",
    "                                   max_features = 6,\n",
    "                                   criterion = 'entropy',\n",
    "                                   random_state = 1984)"
   ]
  },
  {
   "cell_type": "code",
   "execution_count": 435,
   "id": "3a981d2d",
   "metadata": {},
   "outputs": [],
   "source": [
    "rf_final9 = RandomForestClassifier(n_estimators = 150,\n",
    "                                   max_features = 7,\n",
    "                                   criterion = 'entropy',\n",
    "                                   random_state = 1984)"
   ]
  },
  {
   "cell_type": "code",
   "execution_count": 436,
   "id": "dd1567a9",
   "metadata": {},
   "outputs": [],
   "source": [
    "rf_final10 = RandomForestClassifier(n_estimators = 150,\n",
    "                                   max_features = 7,\n",
    "                                   criterion = 'entropy',\n",
    "                                   bootstrap = False,\n",
    "                                   random_state = 1984)"
   ]
  },
  {
   "cell_type": "code",
   "execution_count": 437,
   "id": "0a0bddcb",
   "metadata": {},
   "outputs": [],
   "source": [
    "rf_final11 = RandomForestClassifier(n_estimators = 150,\n",
    "                                   max_features = 7,\n",
    "                                   criterion = 'entropy',\n",
    "                                   bootstrap = False,\n",
    "                                   random_state = 1984)"
   ]
  },
  {
   "cell_type": "code",
   "execution_count": 438,
   "id": "46a191ee",
   "metadata": {},
   "outputs": [
    {
     "data": {
      "text/plain": [
       "RandomForestClassifier(max_features=7, n_estimators=250, random_state=1984)"
      ]
     },
     "execution_count": 438,
     "metadata": {},
     "output_type": "execute_result"
    }
   ],
   "source": [
    "rf_final1.fit(train_X,train_y)"
   ]
  },
  {
   "cell_type": "code",
   "execution_count": 439,
   "id": "8453d1eb",
   "metadata": {},
   "outputs": [
    {
     "data": {
      "text/plain": [
       "RandomForestClassifier(criterion='entropy', max_features=3, n_estimators=50,\n",
       "                       random_state=1984)"
      ]
     },
     "execution_count": 439,
     "metadata": {},
     "output_type": "execute_result"
    }
   ],
   "source": [
    "rf_final2.fit(train_X,train_y)"
   ]
  },
  {
   "cell_type": "code",
   "execution_count": 440,
   "id": "c182ea2b",
   "metadata": {},
   "outputs": [
    {
     "data": {
      "text/plain": [
       "RandomForestClassifier(max_features=3, n_estimators=500, random_state=1984)"
      ]
     },
     "execution_count": 440,
     "metadata": {},
     "output_type": "execute_result"
    }
   ],
   "source": [
    "rf_final3.fit(train_X,train_y)"
   ]
  },
  {
   "cell_type": "code",
   "execution_count": 441,
   "id": "a29fc07a",
   "metadata": {},
   "outputs": [
    {
     "data": {
      "text/plain": [
       "RandomForestClassifier(max_features=3, n_estimators=50, random_state=1984)"
      ]
     },
     "execution_count": 441,
     "metadata": {},
     "output_type": "execute_result"
    }
   ],
   "source": [
    "rf_final4.fit(train_X,train_y)"
   ]
  },
  {
   "cell_type": "code",
   "execution_count": 442,
   "id": "a4b5c17f",
   "metadata": {},
   "outputs": [
    {
     "data": {
      "text/plain": [
       "RandomForestClassifier(max_features=6, n_estimators=250, random_state=1984)"
      ]
     },
     "execution_count": 442,
     "metadata": {},
     "output_type": "execute_result"
    }
   ],
   "source": [
    "rf_final5.fit(train_X,train_y)"
   ]
  },
  {
   "cell_type": "code",
   "execution_count": 443,
   "id": "382780c3",
   "metadata": {},
   "outputs": [
    {
     "data": {
      "text/plain": [
       "RandomForestClassifier(max_features=6, n_estimators=200, random_state=1984)"
      ]
     },
     "execution_count": 443,
     "metadata": {},
     "output_type": "execute_result"
    }
   ],
   "source": [
    "rf_final6.fit(train_X,train_y)"
   ]
  },
  {
   "cell_type": "code",
   "execution_count": 444,
   "id": "4b1407fe",
   "metadata": {},
   "outputs": [
    {
     "data": {
      "text/plain": [
       "RandomForestClassifier(criterion='entropy', max_features=6, n_estimators=200,\n",
       "                       random_state=1984)"
      ]
     },
     "execution_count": 444,
     "metadata": {},
     "output_type": "execute_result"
    }
   ],
   "source": [
    "rf_final7.fit(train_X,train_y)"
   ]
  },
  {
   "cell_type": "code",
   "execution_count": 445,
   "id": "21b90706",
   "metadata": {},
   "outputs": [
    {
     "data": {
      "text/plain": [
       "RandomForestClassifier(criterion='entropy', max_features=6, n_estimators=150,\n",
       "                       random_state=1984)"
      ]
     },
     "execution_count": 445,
     "metadata": {},
     "output_type": "execute_result"
    }
   ],
   "source": [
    "rf_final8.fit(train_X,train_y)"
   ]
  },
  {
   "cell_type": "code",
   "execution_count": 446,
   "id": "fb67ed43",
   "metadata": {},
   "outputs": [
    {
     "data": {
      "text/plain": [
       "RandomForestClassifier(criterion='entropy', max_features=7, n_estimators=150,\n",
       "                       random_state=1984)"
      ]
     },
     "execution_count": 446,
     "metadata": {},
     "output_type": "execute_result"
    }
   ],
   "source": [
    "rf_final9.fit(train_X,train_y)"
   ]
  },
  {
   "cell_type": "code",
   "execution_count": 447,
   "id": "bc1f60dd",
   "metadata": {},
   "outputs": [
    {
     "data": {
      "text/plain": [
       "RandomForestClassifier(bootstrap=False, criterion='entropy', max_features=7,\n",
       "                       n_estimators=150, random_state=1984)"
      ]
     },
     "execution_count": 447,
     "metadata": {},
     "output_type": "execute_result"
    }
   ],
   "source": [
    "rf_final10.fit(train_X,train_y)"
   ]
  },
  {
   "cell_type": "code",
   "execution_count": 448,
   "id": "2efb696c",
   "metadata": {},
   "outputs": [
    {
     "data": {
      "text/plain": [
       "RandomForestClassifier(bootstrap=False, criterion='entropy', max_features=7,\n",
       "                       n_estimators=150, random_state=1984)"
      ]
     },
     "execution_count": 448,
     "metadata": {},
     "output_type": "execute_result"
    }
   ],
   "source": [
    "rf_final11.fit(train_X,train_y)"
   ]
  },
  {
   "cell_type": "code",
   "execution_count": 449,
   "id": "6a4fd519",
   "metadata": {},
   "outputs": [],
   "source": [
    "pred_y_rf_final1 = rf_final1.predict(test_X)"
   ]
  },
  {
   "cell_type": "code",
   "execution_count": 450,
   "id": "9cd6a1d0",
   "metadata": {},
   "outputs": [],
   "source": [
    "pred_y_rf_final2 = rf_final2.predict(test_X)"
   ]
  },
  {
   "cell_type": "code",
   "execution_count": 451,
   "id": "d9539348",
   "metadata": {},
   "outputs": [],
   "source": [
    "pred_y_rf_final3 = rf_final3.predict(test_X)"
   ]
  },
  {
   "cell_type": "code",
   "execution_count": 452,
   "id": "4c843ee8",
   "metadata": {},
   "outputs": [],
   "source": [
    "pred_y_rf_final4 = rf_final4.predict(test_X)"
   ]
  },
  {
   "cell_type": "code",
   "execution_count": 453,
   "id": "45097738",
   "metadata": {},
   "outputs": [],
   "source": [
    "pred_y_rf_final5 = rf_final5.predict(test_X)"
   ]
  },
  {
   "cell_type": "code",
   "execution_count": 454,
   "id": "05ab58e8",
   "metadata": {},
   "outputs": [],
   "source": [
    "pred_y_rf_final6 = rf_final6.predict(test_X)"
   ]
  },
  {
   "cell_type": "code",
   "execution_count": 455,
   "id": "547664d0",
   "metadata": {},
   "outputs": [],
   "source": [
    "pred_y_rf_final7 = rf_final7.predict(test_X)"
   ]
  },
  {
   "cell_type": "code",
   "execution_count": 456,
   "id": "56e87808",
   "metadata": {},
   "outputs": [],
   "source": [
    "pred_y_rf_final8 = rf_final8.predict(test_X)"
   ]
  },
  {
   "cell_type": "code",
   "execution_count": 457,
   "id": "09721cce",
   "metadata": {},
   "outputs": [],
   "source": [
    "pred_y_rf_final9 = rf_final9.predict(test_X)"
   ]
  },
  {
   "cell_type": "code",
   "execution_count": 458,
   "id": "e2a5a885",
   "metadata": {},
   "outputs": [],
   "source": [
    "pred_y_rf_final10 = rf_final10.predict(test_X)"
   ]
  },
  {
   "cell_type": "code",
   "execution_count": 459,
   "id": "84019e85",
   "metadata": {},
   "outputs": [],
   "source": [
    "pred_y_rf_final11 = rf_final11.predict(test_X)"
   ]
  },
  {
   "cell_type": "code",
   "execution_count": 460,
   "id": "aa4f4550",
   "metadata": {},
   "outputs": [
    {
     "data": {
      "text/plain": [
       "0.946462769695692"
      ]
     },
     "execution_count": 460,
     "metadata": {},
     "output_type": "execute_result"
    }
   ],
   "source": [
    "metrics.roc_auc_score(test_y, pred_y_rf_final1)"
   ]
  },
  {
   "cell_type": "code",
   "execution_count": 461,
   "id": "6341711e",
   "metadata": {},
   "outputs": [
    {
     "data": {
      "text/plain": [
       "0.9421889275423432"
      ]
     },
     "execution_count": 461,
     "metadata": {},
     "output_type": "execute_result"
    }
   ],
   "source": [
    "metrics.roc_auc_score(test_y, pred_y_rf_final2)"
   ]
  },
  {
   "cell_type": "code",
   "execution_count": 462,
   "id": "32e3b206",
   "metadata": {},
   "outputs": [
    {
     "data": {
      "text/plain": [
       "0.9437054167545154"
      ]
     },
     "execution_count": 462,
     "metadata": {},
     "output_type": "execute_result"
    }
   ],
   "source": [
    "metrics.roc_auc_score(test_y, pred_y_rf_final3)"
   ]
  },
  {
   "cell_type": "code",
   "execution_count": 463,
   "id": "128321d5",
   "metadata": {},
   "outputs": [
    {
     "data": {
      "text/plain": [
       "0.9391098285192214"
      ]
     },
     "execution_count": 463,
     "metadata": {},
     "output_type": "execute_result"
    }
   ],
   "source": [
    "metrics.roc_auc_score(test_y, pred_y_rf_final4)"
   ]
  },
  {
   "cell_type": "code",
   "execution_count": 464,
   "id": "f579fdd4",
   "metadata": {},
   "outputs": [
    {
     "data": {
      "text/plain": [
       "0.9446245344015741"
      ]
     },
     "execution_count": 464,
     "metadata": {},
     "output_type": "execute_result"
    }
   ],
   "source": [
    "metrics.roc_auc_score(test_y, pred_y_rf_final5)"
   ]
  },
  {
   "cell_type": "code",
   "execution_count": 465,
   "id": "acf2953f",
   "metadata": {},
   "outputs": [
    {
     "data": {
      "text/plain": [
       "0.9458653981305783"
      ]
     },
     "execution_count": 465,
     "metadata": {},
     "output_type": "execute_result"
    }
   ],
   "source": [
    "metrics.roc_auc_score(test_y, pred_y_rf_final6)"
   ]
  },
  {
   "cell_type": "code",
   "execution_count": 466,
   "id": "32e03cce",
   "metadata": {},
   "outputs": [
    {
     "data": {
      "text/plain": [
       "0.9461871442125238"
      ]
     },
     "execution_count": 466,
     "metadata": {},
     "output_type": "execute_result"
    }
   ],
   "source": [
    "metrics.roc_auc_score(test_y, pred_y_rf_final7)"
   ]
  },
  {
   "cell_type": "code",
   "execution_count": 467,
   "id": "cd637820",
   "metadata": {},
   "outputs": [
    {
     "data": {
      "text/plain": [
       "0.946462769695692"
      ]
     },
     "execution_count": 467,
     "metadata": {},
     "output_type": "execute_result"
    }
   ],
   "source": [
    "metrics.roc_auc_score(test_y, pred_y_rf_final8)"
   ]
  },
  {
   "cell_type": "code",
   "execution_count": 468,
   "id": "e8308b8e",
   "metadata": {},
   "outputs": [
    {
     "data": {
      "text/plain": [
       "0.9498174942019817"
      ]
     },
     "execution_count": 468,
     "metadata": {},
     "output_type": "execute_result"
    }
   ],
   "source": [
    "metrics.roc_auc_score(test_y, pred_y_rf_final9)"
   ]
  },
  {
   "cell_type": "code",
   "execution_count": 469,
   "id": "cb20e1cf",
   "metadata": {},
   "outputs": [
    {
     "data": {
      "text/plain": [
       "0.9498636148007591"
      ]
     },
     "execution_count": 469,
     "metadata": {},
     "output_type": "execute_result"
    }
   ],
   "source": [
    "metrics.roc_auc_score(test_y, pred_y_rf_final10)"
   ]
  },
  {
   "cell_type": "code",
   "execution_count": 470,
   "id": "6303fbd2",
   "metadata": {},
   "outputs": [
    {
     "data": {
      "text/plain": [
       "0.9498636148007591"
      ]
     },
     "execution_count": 470,
     "metadata": {},
     "output_type": "execute_result"
    }
   ],
   "source": [
    "metrics.roc_auc_score(test_y, pred_y_rf_final11)"
   ]
  },
  {
   "cell_type": "code",
   "execution_count": 471,
   "id": "ea093294",
   "metadata": {},
   "outputs": [
    {
     "data": {
      "text/plain": [
       "0.9536567704561911"
      ]
     },
     "execution_count": 471,
     "metadata": {},
     "output_type": "execute_result"
    }
   ],
   "source": [
    "metrics.accuracy_score(test_y, pred_y_rf_final11)"
   ]
  },
  {
   "cell_type": "code",
   "execution_count": 472,
   "id": "0060fdde",
   "metadata": {},
   "outputs": [
    {
     "data": {
      "text/plain": [
       "0.9319852941176471"
      ]
     },
     "execution_count": 472,
     "metadata": {},
     "output_type": "execute_result"
    }
   ],
   "source": [
    "metrics.recall_score(test_y, pred_y_rf_final11)"
   ]
  },
  {
   "cell_type": "code",
   "execution_count": 473,
   "id": "07d399a2",
   "metadata": {},
   "outputs": [
    {
     "data": {
      "text/plain": [
       "0.9406307977736549"
      ]
     },
     "execution_count": 473,
     "metadata": {},
     "output_type": "execute_result"
    }
   ],
   "source": [
    "metrics.f1_score(test_y, pred_y_rf_final11)"
   ]
  }
 ],
 "metadata": {
  "kernelspec": {
   "display_name": "Python 3 (ipykernel)",
   "language": "python",
   "name": "python3"
  },
  "language_info": {
   "codemirror_mode": {
    "name": "ipython",
    "version": 3
   },
   "file_extension": ".py",
   "mimetype": "text/x-python",
   "name": "python",
   "nbconvert_exporter": "python",
   "pygments_lexer": "ipython3",
   "version": "3.9.6"
  }
 },
 "nbformat": 4,
 "nbformat_minor": 5
}
