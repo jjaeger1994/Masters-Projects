{
 "cells": [
  {
   "cell_type": "markdown",
   "id": "6d681208",
   "metadata": {},
   "source": [
    "<h1 align = 'center'> Hypertuning SVC Model </h1>\n",
    "<h3 align = 'center'> Max Butler and Josh Jaeger </h3> "
   ]
  },
  {
   "cell_type": "code",
   "execution_count": 13,
   "id": "c009141d",
   "metadata": {},
   "outputs": [],
   "source": [
    "import pandas as pd\n",
    "import numpy as np\n",
    "from sklearn.svm import SVC\n",
    "from sklearn import neighbors\n",
    "from sklearn import model_selection\n",
    "from sklearn.neural_network import MLPClassifier\n",
    "from sklearn.ensemble import RandomForestClassifier\n",
    "from sklearn.naive_bayes import BernoulliNB"
   ]
  },
  {
   "cell_type": "code",
   "execution_count": 14,
   "id": "8d142045",
   "metadata": {},
   "outputs": [],
   "source": [
    "train_X_scale = pd.read_csv(r\"../competition/train_X_scale.csv\",index_col = 0)\n",
    "train_y = pd.read_csv(r\"../competition/train_y.csv\",index_col = 0)"
   ]
  },
  {
   "cell_type": "code",
   "execution_count": 15,
   "id": "a29c10b6",
   "metadata": {},
   "outputs": [],
   "source": [
    "train_y = train_y['class'].to_numpy()"
   ]
  },
  {
   "cell_type": "markdown",
   "id": "f3ee7b7e",
   "metadata": {},
   "source": [
    "<h3> Tuning Random Forest </h3>"
   ]
  },
  {
   "cell_type": "code",
   "execution_count": 16,
   "id": "02dca41f",
   "metadata": {},
   "outputs": [],
   "source": [
    "max_features = [7,9,13,15,17]\n",
    "n_estimators = range(150,200,10)\n",
    "criterion = ['gini', 'entropy']\n",
    "bootstrap = [True, False]\n",
    "param_grid = dict(max_features = max_features, n_estimators = n_estimators, criterion = criterion, bootstrap = bootstrap,\n",
    "                  random_state = [1984])"
   ]
  },
  {
   "cell_type": "code",
   "execution_count": 17,
   "id": "b08d56d2",
   "metadata": {},
   "outputs": [],
   "source": [
    "rf = RandomForestClassifier()"
   ]
  },
  {
   "cell_type": "code",
   "execution_count": 18,
   "id": "56bd7af1",
   "metadata": {},
   "outputs": [],
   "source": [
    "gridrf = model_selection.GridSearchCV(estimator=rf, param_grid = param_grid, scoring = 'roc_auc', cv=5, n_jobs=-2)"
   ]
  },
  {
   "cell_type": "code",
   "execution_count": 19,
   "id": "977ec4fb",
   "metadata": {},
   "outputs": [
    {
     "data": {
      "text/plain": [
       "GridSearchCV(cv=5, estimator=RandomForestClassifier(), n_jobs=-2,\n",
       "             param_grid={'bootstrap': [True, False],\n",
       "                         'criterion': ['gini', 'entropy'],\n",
       "                         'max_features': [7, 9, 13, 15, 17],\n",
       "                         'n_estimators': range(150, 200, 10),\n",
       "                         'random_state': [1984]},\n",
       "             scoring='roc_auc')"
      ]
     },
     "execution_count": 19,
     "metadata": {},
     "output_type": "execute_result"
    }
   ],
   "source": [
    "gridrf.fit(train_X_scale, train_y)"
   ]
  },
  {
   "cell_type": "code",
   "execution_count": 20,
   "id": "fa5d407e",
   "metadata": {},
   "outputs": [
    {
     "name": "stdout",
     "output_type": "stream",
     "text": [
      "The best parameters are {'bootstrap': True, 'criterion': 'entropy', 'max_features': 7, 'n_estimators': 180, 'random_state': 1984} with a score of 0.99\n"
     ]
    }
   ],
   "source": [
    "print(\"The best parameters are %s with a score of %0.2f\"\n",
    "      % (gridrf.best_params_, gridrf.best_score_))"
   ]
  },
  {
   "cell_type": "markdown",
   "id": "03d0d440",
   "metadata": {},
   "source": [
    "<h3> Tune SVC </h3>"
   ]
  },
  {
   "cell_type": "code",
   "execution_count": 21,
   "id": "fa26c402",
   "metadata": {},
   "outputs": [],
   "source": [
    "parameters = {'kernel':['linear','rbf','poly'],\n",
    "              'C':[0.001,0.005,0.01,0.025,0.05,1,5,10,100],\n",
    "              'gamma':[0.01,0.02,0.03,0.04,0.05,0.10,0.2,0.3,0.4,0.5]}"
   ]
  },
  {
   "cell_type": "code",
   "execution_count": 22,
   "id": "3083e397",
   "metadata": {},
   "outputs": [],
   "source": [
    "svc = SVC(random_state=1984)"
   ]
  },
  {
   "cell_type": "code",
   "execution_count": 23,
   "id": "a71abee3",
   "metadata": {},
   "outputs": [],
   "source": [
    "grid_svc = model_selection.GridSearchCV(svc, parameters, scoring=\"roc_auc\", cv = 5, n_jobs=-2)"
   ]
  },
  {
   "cell_type": "code",
   "execution_count": 24,
   "id": "190cc78a",
   "metadata": {},
   "outputs": [
    {
     "data": {
      "text/plain": [
       "GridSearchCV(cv=5, estimator=SVC(random_state=1984), n_jobs=-2,\n",
       "             param_grid={'C': [0.001, 0.005, 0.01, 0.025, 0.05, 1, 5, 10, 100],\n",
       "                         'gamma': [0.01, 0.02, 0.03, 0.04, 0.05, 0.1, 0.2, 0.3,\n",
       "                                   0.4, 0.5],\n",
       "                         'kernel': ['linear', 'rbf', 'poly']},\n",
       "             scoring='roc_auc')"
      ]
     },
     "execution_count": 24,
     "metadata": {},
     "output_type": "execute_result"
    }
   ],
   "source": [
    "grid_svc.fit(train_X_scale, train_y)"
   ]
  },
  {
   "cell_type": "code",
   "execution_count": 25,
   "id": "72df6abe",
   "metadata": {},
   "outputs": [
    {
     "name": "stdout",
     "output_type": "stream",
     "text": [
      "The best parameters are {'C': 100, 'gamma': 0.4, 'kernel': 'rbf'} with a score of 0.97\n"
     ]
    }
   ],
   "source": [
    "print(\"The best parameters are %s with a score of %0.2f\"\n",
    "      % (grid_svc.best_params_, grid_svc.best_score_))"
   ]
  },
  {
   "cell_type": "code",
   "execution_count": 26,
   "id": "95344bb8",
   "metadata": {},
   "outputs": [],
   "source": [
    "## Test to see if there is improvement with a higher C\n",
    "parameters = {'kernel':['rbf'],\n",
    "              'C':[100, 200, 300, 400],\n",
    "              'gamma':[0.3,0.35,0.4,0.45]}"
   ]
  },
  {
   "cell_type": "code",
   "execution_count": 27,
   "id": "dd6cf306",
   "metadata": {},
   "outputs": [],
   "source": [
    "grid_svc = model_selection.GridSearchCV(svc, parameters, scoring=\"roc_auc\", cv = 5, n_jobs=-2)"
   ]
  },
  {
   "cell_type": "code",
   "execution_count": 28,
   "id": "6cb092e4",
   "metadata": {},
   "outputs": [
    {
     "data": {
      "text/plain": [
       "GridSearchCV(cv=5, estimator=SVC(random_state=1984), n_jobs=-2,\n",
       "             param_grid={'C': [100, 200, 300, 400],\n",
       "                         'gamma': [0.3, 0.35, 0.4, 0.45], 'kernel': ['rbf']},\n",
       "             scoring='roc_auc')"
      ]
     },
     "execution_count": 28,
     "metadata": {},
     "output_type": "execute_result"
    }
   ],
   "source": [
    "grid_svc.fit(train_X_scale, train_y)"
   ]
  },
  {
   "cell_type": "code",
   "execution_count": 29,
   "id": "fc44797b",
   "metadata": {},
   "outputs": [
    {
     "name": "stdout",
     "output_type": "stream",
     "text": [
      "The best parameters are {'C': 400, 'gamma': 0.3, 'kernel': 'rbf'} with a score of 0.97\n"
     ]
    }
   ],
   "source": [
    "print(\"The best parameters are %s with a score of %0.2f\"\n",
    "      % (grid_svc.best_params_, grid_svc.best_score_))"
   ]
  },
  {
   "cell_type": "markdown",
   "id": "589ccc10",
   "metadata": {},
   "source": [
    "<h3> Tune Neural Network </h3>"
   ]
  },
  {
   "cell_type": "code",
   "execution_count": 30,
   "id": "50b51125",
   "metadata": {},
   "outputs": [],
   "source": [
    "ann = MLPClassifier(solver = 'sgd', max_iter=1500, early_stopping=True, tol =2e-4, random_state=1984)"
   ]
  },
  {
   "cell_type": "code",
   "execution_count": 31,
   "id": "e1deece3",
   "metadata": {},
   "outputs": [],
   "source": [
    "parameters = {'activation':['identity','logistic','tanh','relu'], 'solver':['lbfgs', 'sgd', 'adam']}"
   ]
  },
  {
   "cell_type": "code",
   "execution_count": 32,
   "id": "f669a22d",
   "metadata": {},
   "outputs": [],
   "source": [
    "grid_ann = model_selection.GridSearchCV(ann, parameters, scoring=\"roc_auc\", cv=5, n_jobs=-2)"
   ]
  },
  {
   "cell_type": "code",
   "execution_count": 33,
   "id": "c8230cc6",
   "metadata": {},
   "outputs": [
    {
     "data": {
      "text/plain": [
       "GridSearchCV(cv=5,\n",
       "             estimator=MLPClassifier(early_stopping=True, max_iter=1500,\n",
       "                                     random_state=1984, solver='sgd',\n",
       "                                     tol=0.0002),\n",
       "             n_jobs=-2,\n",
       "             param_grid={'activation': ['identity', 'logistic', 'tanh', 'relu'],\n",
       "                         'solver': ['lbfgs', 'sgd', 'adam']},\n",
       "             scoring='roc_auc')"
      ]
     },
     "execution_count": 33,
     "metadata": {},
     "output_type": "execute_result"
    }
   ],
   "source": [
    "grid_ann.fit(train_X_scale, train_y)"
   ]
  },
  {
   "cell_type": "code",
   "execution_count": 34,
   "id": "54848cb8",
   "metadata": {},
   "outputs": [
    {
     "name": "stdout",
     "output_type": "stream",
     "text": [
      "The best parameters are {'activation': 'identity', 'solver': 'lbfgs'} with a score of 0.97\n"
     ]
    }
   ],
   "source": [
    "print(\"The best parameters are %s with a score of %0.2f\"\n",
    "      % (grid_ann.best_params_, grid_ann.best_score_))"
   ]
  }
 ],
 "metadata": {
  "kernelspec": {
   "display_name": "Python 3 (ipykernel)",
   "language": "python",
   "name": "python3"
  },
  "language_info": {
   "codemirror_mode": {
    "name": "ipython",
    "version": 3
   },
   "file_extension": ".py",
   "mimetype": "text/x-python",
   "name": "python",
   "nbconvert_exporter": "python",
   "pygments_lexer": "ipython3",
   "version": "3.9.6"
  }
 },
 "nbformat": 4,
 "nbformat_minor": 5
}
