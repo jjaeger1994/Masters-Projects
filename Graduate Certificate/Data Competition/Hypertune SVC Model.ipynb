{
 "cells": [
  {
   "cell_type": "markdown",
   "id": "6d681208",
   "metadata": {},
   "source": [
    "<h1 align = 'center'> Hypertuning SVC Model </h1>\n",
    "<h3 align = 'center'> Max Butler and Josh Jaeger </h3> "
   ]
  },
  {
   "cell_type": "code",
   "execution_count": 1,
   "id": "c009141d",
   "metadata": {},
   "outputs": [],
   "source": [
    "import pandas as pd\n",
    "import numpy as np\n",
    "from sklearn.svm import SVC\n",
    "from sklearn import neighbors\n",
    "from sklearn import model_selection\n",
    "from sklearn.neural_network import MLPClassifier"
   ]
  },
  {
   "cell_type": "code",
   "execution_count": 2,
   "id": "8d142045",
   "metadata": {},
   "outputs": [],
   "source": [
    "train_X_scale = pd.read_csv(r\"../competition/train_X_scale.csv\",index_col = 0)\n",
    "train_y = pd.read_csv(r\"../competition/train_y.csv\",index_col = 0)"
   ]
  },
  {
   "cell_type": "code",
   "execution_count": 3,
   "id": "a29c10b6",
   "metadata": {},
   "outputs": [],
   "source": [
    "train_y = train_y['class'].to_numpy()"
   ]
  },
  {
   "cell_type": "code",
   "execution_count": 4,
   "id": "663f291d",
   "metadata": {},
   "outputs": [
    {
     "data": {
      "text/plain": [
       "numpy.ndarray"
      ]
     },
     "execution_count": 4,
     "metadata": {},
     "output_type": "execute_result"
    }
   ],
   "source": [
    "type(train_y)"
   ]
  },
  {
   "cell_type": "code",
   "execution_count": 5,
   "id": "fa26c402",
   "metadata": {},
   "outputs": [],
   "source": [
    "parameters = {'kernel':['linear','rbf','poly'],\n",
    "              'C':[0.001,0.005,0.01,0.025,0.05,1,5,10,100],\n",
    "              'gamma':[0.01,0.02,0.03,0.04,0.05,0.10,0.2,0.3,0.4,0.5]}"
   ]
  },
  {
   "cell_type": "code",
   "execution_count": 6,
   "id": "3083e397",
   "metadata": {},
   "outputs": [],
   "source": [
    "svc = SVC()"
   ]
  },
  {
   "cell_type": "code",
   "execution_count": 7,
   "id": "a71abee3",
   "metadata": {},
   "outputs": [],
   "source": [
    "grid_svc = model_selection.GridSearchCV(svc, parameters, scoring=\"roc_auc\", cv = 5, n_jobs=-2)"
   ]
  },
  {
   "cell_type": "code",
   "execution_count": 8,
   "id": "190cc78a",
   "metadata": {},
   "outputs": [
    {
     "data": {
      "text/plain": [
       "GridSearchCV(cv=5, estimator=SVC(), n_jobs=-2,\n",
       "             param_grid={'C': [0.001, 0.005, 0.01, 0.025, 0.05, 1, 5, 10, 100],\n",
       "                         'gamma': [0.01, 0.02, 0.03, 0.04, 0.05, 0.1, 0.2, 0.3,\n",
       "                                   0.4, 0.5],\n",
       "                         'kernel': ['linear', 'rbf', 'poly']},\n",
       "             scoring='roc_auc')"
      ]
     },
     "execution_count": 8,
     "metadata": {},
     "output_type": "execute_result"
    }
   ],
   "source": [
    "grid_svc.fit(train_X_scale, train_y)"
   ]
  },
  {
   "cell_type": "code",
   "execution_count": 9,
   "id": "72df6abe",
   "metadata": {},
   "outputs": [
    {
     "data": {
      "text/plain": [
       "{'C': 100, 'gamma': 0.4, 'kernel': 'rbf'}"
      ]
     },
     "execution_count": 9,
     "metadata": {},
     "output_type": "execute_result"
    }
   ],
   "source": [
    "grid_svc.best_params_"
   ]
  },
  {
   "cell_type": "code",
   "execution_count": 10,
   "id": "95344bb8",
   "metadata": {},
   "outputs": [],
   "source": [
    " parameters = {'kernel':['linear','rbf','poly'],\n",
    "              'C':[100, 200, 300, 400, 500, 600],\n",
    "              'gamma':[0.01,0.02,0.025,0.03,0.035,0.04,0.045]}"
   ]
  },
  {
   "cell_type": "code",
   "execution_count": 11,
   "id": "dd6cf306",
   "metadata": {},
   "outputs": [],
   "source": [
    "grid_svc = model_selection.GridSearchCV(svc, parameters, scoring=\"roc_auc\", cv = 5, n_jobs=-2)"
   ]
  },
  {
   "cell_type": "code",
   "execution_count": 12,
   "id": "6cb092e4",
   "metadata": {},
   "outputs": [
    {
     "data": {
      "text/plain": [
       "GridSearchCV(cv=5, estimator=SVC(), n_jobs=-2,\n",
       "             param_grid={'C': [100, 200, 300, 400, 500, 600],\n",
       "                         'gamma': [0.01, 0.02, 0.025, 0.03, 0.035, 0.04, 0.045],\n",
       "                         'kernel': ['linear', 'rbf', 'poly']},\n",
       "             scoring='roc_auc')"
      ]
     },
     "execution_count": 12,
     "metadata": {},
     "output_type": "execute_result"
    }
   ],
   "source": [
    "grid_svc.fit(train_X_scale, train_y)"
   ]
  },
  {
   "cell_type": "code",
   "execution_count": 13,
   "id": "fc44797b",
   "metadata": {},
   "outputs": [
    {
     "data": {
      "text/plain": [
       "{'C': 500, 'gamma': 0.01, 'kernel': 'linear'}"
      ]
     },
     "execution_count": 13,
     "metadata": {},
     "output_type": "execute_result"
    }
   ],
   "source": [
    "grid_svc.best_params_"
   ]
  },
  {
   "cell_type": "code",
   "execution_count": 14,
   "id": "536c816b",
   "metadata": {},
   "outputs": [
    {
     "data": {
      "text/plain": [
       "0.9684000161856255"
      ]
     },
     "execution_count": 14,
     "metadata": {},
     "output_type": "execute_result"
    }
   ],
   "source": [
    "grid_svc.best_score_"
   ]
  },
  {
   "cell_type": "markdown",
   "id": "d3ae4ad5",
   "metadata": {},
   "source": [
    "<h3> Tune K-NN </h3>"
   ]
  },
  {
   "cell_type": "code",
   "execution_count": 15,
   "id": "5917cf53",
   "metadata": {},
   "outputs": [],
   "source": [
    "knn = neighbors.KNeighborsClassifier()"
   ]
  },
  {
   "cell_type": "code",
   "execution_count": 16,
   "id": "07f20de7",
   "metadata": {},
   "outputs": [],
   "source": [
    "parameters = {'n_neighbors':[10,11,12,13,14,15]}"
   ]
  },
  {
   "cell_type": "code",
   "execution_count": 17,
   "id": "b667db8b",
   "metadata": {},
   "outputs": [],
   "source": [
    "grid_knn = model_selection.GridSearchCV(knn, parameters, scoring=\"roc_auc\", cv = 5, n_jobs=-2)"
   ]
  },
  {
   "cell_type": "code",
   "execution_count": 18,
   "id": "f4c0cf36",
   "metadata": {},
   "outputs": [
    {
     "data": {
      "text/plain": [
       "GridSearchCV(cv=5, estimator=KNeighborsClassifier(), n_jobs=-2,\n",
       "             param_grid={'n_neighbors': [10, 11, 12, 13, 14, 15]},\n",
       "             scoring='roc_auc')"
      ]
     },
     "execution_count": 18,
     "metadata": {},
     "output_type": "execute_result"
    }
   ],
   "source": [
    "grid_knn.fit(train_X_scale, train_y)"
   ]
  },
  {
   "cell_type": "code",
   "execution_count": 19,
   "id": "7145aa78",
   "metadata": {},
   "outputs": [
    {
     "data": {
      "text/plain": [
       "{'n_neighbors': 11}"
      ]
     },
     "execution_count": 19,
     "metadata": {},
     "output_type": "execute_result"
    }
   ],
   "source": [
    "grid_knn.best_params_"
   ]
  },
  {
   "cell_type": "code",
   "execution_count": 20,
   "id": "2d61892c",
   "metadata": {},
   "outputs": [
    {
     "data": {
      "text/plain": [
       "0.9438015949135401"
      ]
     },
     "execution_count": 20,
     "metadata": {},
     "output_type": "execute_result"
    }
   ],
   "source": [
    "grid_knn.best_score_"
   ]
  },
  {
   "cell_type": "markdown",
   "id": "589ccc10",
   "metadata": {},
   "source": [
    "<h3> Tune Neural Network </h3>"
   ]
  },
  {
   "cell_type": "code",
   "execution_count": 21,
   "id": "50b51125",
   "metadata": {},
   "outputs": [],
   "source": [
    "ann = MLPClassifier(solver = 'sgd', max_iter=1500, alpha = 0.01, early_stopping=True, tol =2e-4)"
   ]
  },
  {
   "cell_type": "code",
   "execution_count": 22,
   "id": "e1deece3",
   "metadata": {},
   "outputs": [],
   "source": [
    "parameters = {'activation':['identity','logistic','tanh','relu'], 'solver':['lbfgs', 'sgd', 'adam']}"
   ]
  },
  {
   "cell_type": "code",
   "execution_count": 23,
   "id": "f669a22d",
   "metadata": {},
   "outputs": [],
   "source": [
    "grid_ann = model_selection.GridSearchCV(ann, parameters, scoring=\"roc_auc\", cv=5, n_jobs=-2)"
   ]
  },
  {
   "cell_type": "code",
   "execution_count": 24,
   "id": "c8230cc6",
   "metadata": {},
   "outputs": [
    {
     "name": "stderr",
     "output_type": "stream",
     "text": [
      "c:\\users\\josh\\appdata\\local\\programs\\python\\python39\\lib\\site-packages\\sklearn\\neural_network\\_multilayer_perceptron.py:500: ConvergenceWarning: lbfgs failed to converge (status=1):\n",
      "STOP: TOTAL NO. of ITERATIONS REACHED LIMIT.\n",
      "\n",
      "Increase the number of iterations (max_iter) or scale the data as shown in:\n",
      "    https://scikit-learn.org/stable/modules/preprocessing.html\n",
      "  self.n_iter_ = _check_optimize_result(\"lbfgs\", opt_res, self.max_iter)\n"
     ]
    },
    {
     "data": {
      "text/plain": [
       "GridSearchCV(cv=5,\n",
       "             estimator=MLPClassifier(alpha=0.01, early_stopping=True,\n",
       "                                     max_iter=1500, solver='sgd', tol=0.0002),\n",
       "             n_jobs=-2,\n",
       "             param_grid={'activation': ['identity', 'logistic', 'tanh', 'relu'],\n",
       "                         'solver': ['lbfgs', 'sgd', 'adam']},\n",
       "             scoring='roc_auc')"
      ]
     },
     "execution_count": 24,
     "metadata": {},
     "output_type": "execute_result"
    }
   ],
   "source": [
    "grid_ann.fit(train_X_scale, train_y)"
   ]
  },
  {
   "cell_type": "code",
   "execution_count": 25,
   "id": "54848cb8",
   "metadata": {},
   "outputs": [
    {
     "data": {
      "text/plain": [
       "{'activation': 'relu', 'solver': 'lbfgs'}"
      ]
     },
     "execution_count": 25,
     "metadata": {},
     "output_type": "execute_result"
    }
   ],
   "source": [
    "grid_ann.best_params_"
   ]
  },
  {
   "cell_type": "code",
   "execution_count": 26,
   "id": "8983b44e",
   "metadata": {},
   "outputs": [
    {
     "data": {
      "text/plain": [
       "0.9710787251788784"
      ]
     },
     "execution_count": 26,
     "metadata": {},
     "output_type": "execute_result"
    }
   ],
   "source": [
    "grid_ann.best_score_"
   ]
  },
  {
   "cell_type": "code",
   "execution_count": null,
   "id": "a99ee5fd",
   "metadata": {},
   "outputs": [],
   "source": []
  }
 ],
 "metadata": {
  "kernelspec": {
   "display_name": "Python 3 (ipykernel)",
   "language": "python",
   "name": "python3"
  },
  "language_info": {
   "codemirror_mode": {
    "name": "ipython",
    "version": 3
   },
   "file_extension": ".py",
   "mimetype": "text/x-python",
   "name": "python",
   "nbconvert_exporter": "python",
   "pygments_lexer": "ipython3",
   "version": "3.9.6"
  }
 },
 "nbformat": 4,
 "nbformat_minor": 5
}
