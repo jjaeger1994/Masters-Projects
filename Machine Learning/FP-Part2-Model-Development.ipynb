{
 "cells": [
  {
   "cell_type": "markdown",
   "metadata": {},
   "source": [
    "# Part II: Model Development\n",
    "\n",
    "In this part, we develop three unique pipelines for predicting backorder. We use the smart sample from Part I to fit and evaluate these pipelines. "
   ]
  },
  {
   "cell_type": "code",
   "execution_count": 1,
   "metadata": {},
   "outputs": [],
   "source": [
    "%matplotlib inline\n",
    "import matplotlib.pyplot as plt\n",
    "\n",
    "import os, sys\n",
    "import itertools\n",
    "import numpy as np\n",
    "import pandas as pd\n",
    "from sklearn.model_selection import train_test_split\n",
    "from sklearn.preprocessing import MinMaxScaler\n",
    "import joblib"
   ]
  },
  {
   "cell_type": "markdown",
   "metadata": {},
   "source": [
    "## Reload the smart sample"
   ]
  },
  {
   "cell_type": "code",
   "execution_count": 2,
   "metadata": {},
   "outputs": [],
   "source": [
    "\n",
    "# Reload your smart sampling from local file \n",
    "# ----------------------------------\n",
    "import joblib\n",
    "X,y = joblib.load(\"data/sampled_data.pkl\")"
   ]
  },
  {
   "cell_type": "markdown",
   "metadata": {},
   "source": [
    "## Split the data into Train/Test"
   ]
  },
  {
   "cell_type": "code",
   "execution_count": 3,
   "metadata": {},
   "outputs": [],
   "source": [
    "X_train,X_test,y_train,y_test = train_test_split(X,y,test_size=0.2)"
   ]
  },
  {
   "cell_type": "markdown",
   "metadata": {},
   "source": [
    "## Developing Pipeline\n",
    "\n",
    "In this section, we design an operationalized machine learning pipeline, which includes:\n",
    "\n",
    "* Anomaly detection\n",
    "* Dimensionality Reduction\n",
    "* Train a classification model\n"
   ]
  },
  {
   "cell_type": "code",
   "execution_count": 4,
   "metadata": {},
   "outputs": [],
   "source": [
    "from sklearn.svm import OneClassSVM\n",
    "from sklearn.neighbors import LocalOutlierFactor\n",
    "from sklearn.covariance import EllipticEnvelope\n",
    "from sklearn.ensemble import IsolationForest\n",
    "\n",
    "from sklearn.decomposition import PCA, FactorAnalysis\n",
    "from sklearn.preprocessing import StandardScaler\n",
    "from sklearn.feature_selection import SelectKBest, chi2, f_classif, mutual_info_classif,RFE\n",
    "\n",
    "from sklearn.pipeline import Pipeline\n",
    "\n",
    "from sklearn.svm import SVC\n",
    "from sklearn.ensemble import RandomForestClassifier\n",
    "from sklearn.ensemble import GradientBoostingClassifier\n",
    "from sklearn.model_selection import GridSearchCV\n",
    "\n",
    "from sklearn.metrics import accuracy_score, f1_score, confusion_matrix, recall_score, classification_report"
   ]
  },
  {
   "cell_type": "code",
   "execution_count": 5,
   "metadata": {},
   "outputs": [],
   "source": [
    "##An attempt to make a custom class to include outlier identification in the pipeline.\n",
    "from sklearn.pipeline import TransformerMixin\n",
    "\n",
    "class OutlierExtractor(TransformerMixin):\n",
    "    def __init__(self, method,**kwargs):\n",
    "        \"\"\"\n",
    "        Create a transformer to remove outliers.\n",
    "        \n",
    "        method (string): The outlier identification method to use \n",
    "        \"\"\"\n",
    "        self.method = method\n",
    "        self.kwargs = kwargs\n",
    "    def transform(self, X):\n",
    "        return self\n",
    "    \n",
    "    def fit(self, X, y, *args, **kwargs):\n",
    "        X = np.asarray(X)\n",
    "        y = np.asarray(y)\n",
    "        \n",
    "        method = self.method\n",
    "        \n",
    "        if method == \"LocalOutlierFactor\":\n",
    "            outlier_method = LocalOutlierFactor(self.kwargs)\n",
    "        elif method == \"EllipticEnvelope\":\n",
    "            outlier_method = EllipticEnvelope(self.kwargs)\n",
    "        elif method == \"IsolationForest\":\n",
    "            outlier_method = IsolationForest(self.kwargs)\n",
    "        elif method == \"OneClassSVM\":\n",
    "            outlier_method = OneClassSVM(self.kwargs)\n",
    "            \n",
    "        lof_labels = outlier_method.fit_predict(X,y)\n",
    "        inliers = lof_labels == 1\n",
    "        \n",
    "        return (X[inliers],y[inliers])"
   ]
  },
  {
   "cell_type": "markdown",
   "metadata": {},
   "source": [
    "### 1st pipeline \n",
    "  * Anomaly detection\n",
    "  * Dimensionality reduction\n",
    "  * Model training/validation\n",
    "  \n",
    "Add cells as needed. "
   ]
  },
  {
   "cell_type": "code",
   "execution_count": 7,
   "metadata": {},
   "outputs": [],
   "source": [
    "# Add anomaly detection code  (Question #E201)\n",
    "# ----------------------------------\n",
    "lof = LocalOutlierFactor(n_neighbors=5)\n",
    "lof_labels = lof.fit_predict(X_train, y_train)\n",
    "inliers = lof_labels == 1 # select inliers\n",
    "X_clean = X_train[inliers]\n",
    "y_clean = y_train[inliers]"
   ]
  },
  {
   "cell_type": "code",
   "execution_count": 25,
   "metadata": {},
   "outputs": [
    {
     "name": "stdout",
     "output_type": "stream",
     "text": [
      "Original: 27103 \n",
      "Inliers: 23876\n",
      "Points removed: 3227\n"
     ]
    }
   ],
   "source": [
    "inlier_count = len(y_clean)\n",
    "original_count = len(y_train)\n",
    "print(f\"Original: {original_count} \\nInliers: {inlier_count}\\nPoints removed: {original_count-inlier_count}\")"
   ]
  },
  {
   "cell_type": "code",
   "execution_count": 7,
   "metadata": {},
   "outputs": [],
   "source": [
    "# Add codes for feature selection and classification pipeline with grid search  (Question #E202)\n",
    "# ----------------------------------\n",
    "pipe = Pipeline([\n",
    "     (\"scale\",MinMaxScaler()),\n",
    "     (\"PCA\",PCA()),\n",
    "     (\"SVC\",SVC(kernel=\"rbf\"))\n",
    "                  ])"
   ]
  },
  {
   "cell_type": "code",
   "execution_count": 8,
   "metadata": {},
   "outputs": [],
   "source": [
    "param_grid = {\n",
    "    \"PCA__n_components\": [10,15],\n",
    "    \"SVC__C\": [ 1, 10, 100, 1000],\n",
    "    \"SVC__gamma\": [ 1, 10, 100]\n",
    "}"
   ]
  },
  {
   "cell_type": "code",
   "execution_count": 9,
   "metadata": {},
   "outputs": [],
   "source": [
    "grid = GridSearchCV(pipe, param_grid=param_grid, cv=5, n_jobs=-1,scoring=\"f1\",verbose=2)"
   ]
  },
  {
   "cell_type": "code",
   "execution_count": 10,
   "metadata": {},
   "outputs": [
    {
     "name": "stdout",
     "output_type": "stream",
     "text": [
      "Fitting 5 folds for each of 24 candidates, totalling 120 fits\n"
     ]
    },
    {
     "data": {
      "text/plain": [
       "GridSearchCV(cv=5,\n",
       "             estimator=Pipeline(steps=[('scale', MinMaxScaler()),\n",
       "                                       ('PCA', PCA()), ('SVC', SVC())]),\n",
       "             n_jobs=-1,\n",
       "             param_grid={'PCA__n_components': [10, 15],\n",
       "                         'SVC__C': [1, 10, 100, 1000],\n",
       "                         'SVC__gamma': [1, 10, 100]},\n",
       "             scoring='f1', verbose=2)"
      ]
     },
     "execution_count": 10,
     "metadata": {},
     "output_type": "execute_result"
    }
   ],
   "source": [
    "grid.fit(X_train, y_train)"
   ]
  },
  {
   "cell_type": "code",
   "execution_count": 11,
   "metadata": {},
   "outputs": [
    {
     "data": {
      "text/plain": [
       "['first_pipeline.pkl']"
      ]
     },
     "execution_count": 11,
     "metadata": {},
     "output_type": "execute_result"
    }
   ],
   "source": [
    "joblib.dump(grid,\"first_pipeline.pkl\")"
   ]
  },
  {
   "cell_type": "code",
   "execution_count": 5,
   "metadata": {},
   "outputs": [],
   "source": [
    "grid = joblib.load(\"first_pipeline.pkl\")"
   ]
  },
  {
   "cell_type": "code",
   "execution_count": 6,
   "metadata": {
    "scrolled": true
   },
   "outputs": [
    {
     "data": {
      "text/plain": [
       "{'mean_fit_time': array([21.67779121, 24.44914002, 24.50235605, 27.07789912, 30.34640741,\n",
       "        25.91304846, 38.04518991, 41.06209698, 29.85903621, 56.34769702,\n",
       "        71.73439784, 45.6243134 , 25.41245031, 28.45459981, 27.22150583,\n",
       "        30.02789702, 30.92732964, 26.03255792, 32.22865658, 33.66403117,\n",
       "        26.09849005, 38.95820518, 38.88577533, 29.27506137]),\n",
       " 'std_fit_time': array([0.25331992, 0.97993012, 0.31559785, 1.05804571, 0.72273235,\n",
       "        0.52850521, 1.11181372, 3.73032746, 0.46878718, 1.77750663,\n",
       "        3.6658286 , 1.67569576, 0.24659439, 0.76571189, 0.48798744,\n",
       "        0.69194372, 1.28332471, 0.57099724, 0.77761989, 1.04414943,\n",
       "        0.52836137, 0.91791267, 1.11075621, 0.71219461]),\n",
       " 'mean_score_time': array([5.06031423, 5.08852262, 5.03026466, 5.12937102, 5.07370739,\n",
       "        5.0542078 , 5.00159307, 5.08752208, 4.8417069 , 4.99982815,\n",
       "        4.90732436, 4.78644161, 5.60631967, 5.68257928, 5.65268755,\n",
       "        5.64757791, 5.7568222 , 5.62793674, 5.51252928, 5.57547073,\n",
       "        5.31004024, 5.36787825, 5.24905281, 4.86142421]),\n",
       " 'std_score_time': array([0.08912561, 0.08434813, 0.11759535, 0.06016886, 0.16787366,\n",
       "        0.12436773, 0.12705407, 0.12280539, 0.11671149, 0.087144  ,\n",
       "        0.10354521, 0.09372362, 0.03623899, 0.07527859, 0.06056845,\n",
       "        0.16576748, 0.20331631, 0.27898983, 0.03618078, 0.2429768 ,\n",
       "        0.19263691, 0.03780479, 0.10238992, 0.14487076]),\n",
       " 'param_PCA__n_components': masked_array(data=[10, 10, 10, 10, 10, 10, 10, 10, 10, 10, 10, 10, 15, 15,\n",
       "                    15, 15, 15, 15, 15, 15, 15, 15, 15, 15],\n",
       "              mask=[False, False, False, False, False, False, False, False,\n",
       "                    False, False, False, False, False, False, False, False,\n",
       "                    False, False, False, False, False, False, False, False],\n",
       "        fill_value='?',\n",
       "             dtype=object),\n",
       " 'param_SVC__C': masked_array(data=[1, 1, 1, 10, 10, 10, 100, 100, 100, 1000, 1000, 1000,\n",
       "                    1, 1, 1, 10, 10, 10, 100, 100, 100, 1000, 1000, 1000],\n",
       "              mask=[False, False, False, False, False, False, False, False,\n",
       "                    False, False, False, False, False, False, False, False,\n",
       "                    False, False, False, False, False, False, False, False],\n",
       "        fill_value='?',\n",
       "             dtype=object),\n",
       " 'param_SVC__gamma': masked_array(data=[1, 10, 100, 1, 10, 100, 1, 10, 100, 1, 10, 100, 1, 10,\n",
       "                    100, 1, 10, 100, 1, 10, 100, 1, 10, 100],\n",
       "              mask=[False, False, False, False, False, False, False, False,\n",
       "                    False, False, False, False, False, False, False, False,\n",
       "                    False, False, False, False, False, False, False, False],\n",
       "        fill_value='?',\n",
       "             dtype=object),\n",
       " 'params': [{'PCA__n_components': 10, 'SVC__C': 1, 'SVC__gamma': 1},\n",
       "  {'PCA__n_components': 10, 'SVC__C': 1, 'SVC__gamma': 10},\n",
       "  {'PCA__n_components': 10, 'SVC__C': 1, 'SVC__gamma': 100},\n",
       "  {'PCA__n_components': 10, 'SVC__C': 10, 'SVC__gamma': 1},\n",
       "  {'PCA__n_components': 10, 'SVC__C': 10, 'SVC__gamma': 10},\n",
       "  {'PCA__n_components': 10, 'SVC__C': 10, 'SVC__gamma': 100},\n",
       "  {'PCA__n_components': 10, 'SVC__C': 100, 'SVC__gamma': 1},\n",
       "  {'PCA__n_components': 10, 'SVC__C': 100, 'SVC__gamma': 10},\n",
       "  {'PCA__n_components': 10, 'SVC__C': 100, 'SVC__gamma': 100},\n",
       "  {'PCA__n_components': 10, 'SVC__C': 1000, 'SVC__gamma': 1},\n",
       "  {'PCA__n_components': 10, 'SVC__C': 1000, 'SVC__gamma': 10},\n",
       "  {'PCA__n_components': 10, 'SVC__C': 1000, 'SVC__gamma': 100},\n",
       "  {'PCA__n_components': 15, 'SVC__C': 1, 'SVC__gamma': 1},\n",
       "  {'PCA__n_components': 15, 'SVC__C': 1, 'SVC__gamma': 10},\n",
       "  {'PCA__n_components': 15, 'SVC__C': 1, 'SVC__gamma': 100},\n",
       "  {'PCA__n_components': 15, 'SVC__C': 10, 'SVC__gamma': 1},\n",
       "  {'PCA__n_components': 15, 'SVC__C': 10, 'SVC__gamma': 10},\n",
       "  {'PCA__n_components': 15, 'SVC__C': 10, 'SVC__gamma': 100},\n",
       "  {'PCA__n_components': 15, 'SVC__C': 100, 'SVC__gamma': 1},\n",
       "  {'PCA__n_components': 15, 'SVC__C': 100, 'SVC__gamma': 10},\n",
       "  {'PCA__n_components': 15, 'SVC__C': 100, 'SVC__gamma': 100},\n",
       "  {'PCA__n_components': 15, 'SVC__C': 1000, 'SVC__gamma': 1},\n",
       "  {'PCA__n_components': 15, 'SVC__C': 1000, 'SVC__gamma': 10},\n",
       "  {'PCA__n_components': 15, 'SVC__C': 1000, 'SVC__gamma': 100}],\n",
       " 'split0_test_score': array([0.02079912, 0.03145336, 0.12293853, 0.03043478, 0.12624254,\n",
       "        0.18857143, 0.03459459, 0.10282776, 0.21870638, 0.0674039 ,\n",
       "        0.14143426, 0.26904232, 0.02403058, 0.04621171, 0.16973812,\n",
       "        0.0452099 , 0.16221467, 0.24977043, 0.08986416, 0.19070668,\n",
       "        0.37526118, 0.148     , 0.31764188, 0.50185322]),\n",
       " 'split1_test_score': array([0.03831825, 0.07168831, 0.16096386, 0.065625  , 0.14951456,\n",
       "        0.20817844, 0.08534704, 0.16978417, 0.23721141, 0.11818182,\n",
       "        0.19594913, 0.27336245, 0.04352442, 0.08255934, 0.18155894,\n",
       "        0.07759959, 0.17748092, 0.27159394, 0.11925215, 0.23313447,\n",
       "        0.35546218, 0.18489835, 0.30358705, 0.46330275]),\n",
       " 'split2_test_score': array([0.01427003, 0.02931596, 0.11072664, 0.02720348, 0.1083499 ,\n",
       "        0.18011257, 0.03557951, 0.12684366, 0.22887796, 0.09509202,\n",
       "        0.1730038 , 0.27217916, 0.01861993, 0.0452099 , 0.16216216,\n",
       "        0.04420485, 0.14922481, 0.24539326, 0.13273453, 0.21893764,\n",
       "        0.35884774, 0.19391635, 0.32647815, 0.54501217]),\n",
       " 'split3_test_score': array([0.01211454, 0.03038524, 0.12024048, 0.03043478, 0.10558376,\n",
       "        0.18602455, 0.03033586, 0.13101737, 0.244098  , 0.0613432 ,\n",
       "        0.16231884, 0.25493716, 0.01320859, 0.04413348, 0.1734104 ,\n",
       "        0.04523425, 0.14759782, 0.25136116, 0.07602957, 0.2238806 ,\n",
       "        0.36205468, 0.16468254, 0.31814198, 0.49196262]),\n",
       " 'split4_test_score': array([0.04428044, 0.05125523, 0.10427011, 0.05230126, 0.10421836,\n",
       "        0.18070588, 0.05329154, 0.11249378, 0.21939008, 0.0839304 ,\n",
       "        0.15198451, 0.26982041, 0.04934383, 0.07621009, 0.15302663,\n",
       "        0.076328  , 0.15540541, 0.25327906, 0.10358974, 0.20692884,\n",
       "        0.36973415, 0.19342544, 0.31442183, 0.50183959]),\n",
       " 'mean_test_score': array([0.02595648, 0.04281962, 0.12382792, 0.04119986, 0.11878183,\n",
       "        0.18871857, 0.04782971, 0.12859335, 0.22965676, 0.08519027,\n",
       "        0.16493811, 0.2678683 , 0.02974547, 0.05886491, 0.16797925,\n",
       "        0.05771532, 0.15838472, 0.25427957, 0.10429403, 0.21471765,\n",
       "        0.36427199, 0.17698454, 0.31605418, 0.50079407]),\n",
       " 'std_test_score': array([0.01298732, 0.01655727, 0.01973266, 0.01514926, 0.01729319,\n",
       "        0.01023946, 0.02034036, 0.02292895, 0.00991508, 0.02036228,\n",
       "        0.01872873, 0.0066509 , 0.01416941, 0.01688703, 0.00974082,\n",
       "        0.01572585, 0.01084869, 0.00903996, 0.02020002, 0.01468427,\n",
       "        0.00724637, 0.01795027, 0.00739774, 0.02623375]),\n",
       " 'rank_test_score': array([24, 21, 14, 22, 15,  8, 20, 13,  6, 17, 11,  4, 23, 18, 10, 19, 12,\n",
       "         5, 16,  7,  2,  9,  3,  1], dtype=int32)}"
      ]
     },
     "execution_count": 6,
     "metadata": {},
     "output_type": "execute_result"
    }
   ],
   "source": [
    "grid.cv_results_"
   ]
  },
  {
   "cell_type": "code",
   "execution_count": 7,
   "metadata": {},
   "outputs": [
    {
     "data": {
      "text/plain": [
       "Pipeline(steps=[('scale', MinMaxScaler()), ('PCA', PCA(n_components=15)),\n",
       "                ('SVC', SVC(C=1000, gamma=100))])"
      ]
     },
     "execution_count": 7,
     "metadata": {},
     "output_type": "execute_result"
    }
   ],
   "source": [
    "grid.best_estimator_"
   ]
  },
  {
   "cell_type": "markdown",
   "metadata": {},
   "source": [
    "### Performance on training data"
   ]
  },
  {
   "cell_type": "code",
   "execution_count": 8,
   "metadata": {},
   "outputs": [],
   "source": [
    "y_pred_train = grid.predict(X_clean)"
   ]
  },
  {
   "cell_type": "code",
   "execution_count": 9,
   "metadata": {},
   "outputs": [
    {
     "name": "stdout",
     "output_type": "stream",
     "text": [
      "              precision    recall  f1-score   support\n",
      "\n",
      "           0       0.73      0.94      0.83     15438\n",
      "           1       0.78      0.38      0.51      8438\n",
      "\n",
      "    accuracy                           0.74     23876\n",
      "   macro avg       0.76      0.66      0.67     23876\n",
      "weighted avg       0.75      0.74      0.71     23876\n",
      "\n"
     ]
    }
   ],
   "source": [
    "print(classification_report(y_clean, y_pred_train))"
   ]
  },
  {
   "cell_type": "code",
   "execution_count": 11,
   "metadata": {},
   "outputs": [
    {
     "data": {
      "text/html": [
       "<div>\n",
       "<style scoped>\n",
       "    .dataframe tbody tr th:only-of-type {\n",
       "        vertical-align: middle;\n",
       "    }\n",
       "\n",
       "    .dataframe tbody tr th {\n",
       "        vertical-align: top;\n",
       "    }\n",
       "\n",
       "    .dataframe thead th {\n",
       "        text-align: right;\n",
       "    }\n",
       "</style>\n",
       "<table border=\"1\" class=\"dataframe\">\n",
       "  <thead>\n",
       "    <tr style=\"text-align: right;\">\n",
       "      <th></th>\n",
       "      <th>0</th>\n",
       "      <th>1</th>\n",
       "    </tr>\n",
       "  </thead>\n",
       "  <tbody>\n",
       "    <tr>\n",
       "      <th>0</th>\n",
       "      <td>14549</td>\n",
       "      <td>889</td>\n",
       "    </tr>\n",
       "    <tr>\n",
       "      <th>1</th>\n",
       "      <td>5268</td>\n",
       "      <td>3170</td>\n",
       "    </tr>\n",
       "  </tbody>\n",
       "</table>\n",
       "</div>"
      ],
      "text/plain": [
       "       0     1\n",
       "0  14549   889\n",
       "1   5268  3170"
      ]
     },
     "execution_count": 11,
     "metadata": {},
     "output_type": "execute_result"
    }
   ],
   "source": [
    "pd.DataFrame(confusion_matrix(y_clean,y_pred_train))"
   ]
  },
  {
   "cell_type": "markdown",
   "metadata": {},
   "source": [
    "### Performance on test data"
   ]
  },
  {
   "cell_type": "code",
   "execution_count": 15,
   "metadata": {},
   "outputs": [],
   "source": [
    "# Given an unbiased evaluation  (Question #E203)\n",
    "# ----------------------------------\n",
    "y_pred = grid.predict(X_test)\n",
    "\n"
   ]
  },
  {
   "cell_type": "code",
   "execution_count": 16,
   "metadata": {},
   "outputs": [
    {
     "name": "stdout",
     "output_type": "stream",
     "text": [
      "              precision    recall  f1-score   support\n",
      "\n",
      "           0       0.75      0.93      0.83      4498\n",
      "           1       0.74      0.37      0.49      2278\n",
      "\n",
      "    accuracy                           0.74      6776\n",
      "   macro avg       0.74      0.65      0.66      6776\n",
      "weighted avg       0.74      0.74      0.72      6776\n",
      "\n"
     ]
    }
   ],
   "source": [
    "print(classification_report(y_test, y_pred))"
   ]
  },
  {
   "cell_type": "code",
   "execution_count": 17,
   "metadata": {},
   "outputs": [
    {
     "data": {
      "text/html": [
       "<div>\n",
       "<style scoped>\n",
       "    .dataframe tbody tr th:only-of-type {\n",
       "        vertical-align: middle;\n",
       "    }\n",
       "\n",
       "    .dataframe tbody tr th {\n",
       "        vertical-align: top;\n",
       "    }\n",
       "\n",
       "    .dataframe thead th {\n",
       "        text-align: right;\n",
       "    }\n",
       "</style>\n",
       "<table border=\"1\" class=\"dataframe\">\n",
       "  <thead>\n",
       "    <tr style=\"text-align: right;\">\n",
       "      <th></th>\n",
       "      <th>0</th>\n",
       "      <th>1</th>\n",
       "    </tr>\n",
       "  </thead>\n",
       "  <tbody>\n",
       "    <tr>\n",
       "      <th>0</th>\n",
       "      <td>4201</td>\n",
       "      <td>297</td>\n",
       "    </tr>\n",
       "    <tr>\n",
       "      <th>1</th>\n",
       "      <td>1434</td>\n",
       "      <td>844</td>\n",
       "    </tr>\n",
       "  </tbody>\n",
       "</table>\n",
       "</div>"
      ],
      "text/plain": [
       "      0    1\n",
       "0  4201  297\n",
       "1  1434  844"
      ]
     },
     "execution_count": 17,
     "metadata": {},
     "output_type": "execute_result"
    }
   ],
   "source": [
    "pd.DataFrame(confusion_matrix(y_test,y_pred))"
   ]
  },
  {
   "cell_type": "markdown",
   "metadata": {},
   "source": [
    "#### <center>Record the optimal hyperparameters and performance resulting from this pipeline.</center>"
   ]
  },
  {
   "cell_type": "raw",
   "metadata": {},
   "source": [
    "# Detail Hyperparameters and Results below  (Question #E204)\n",
    "# ---------------------------------------------\n",
    "\n",
    "\n",
    "SVC optimal parameters from GridSearch were C=1000 and gamma=100. Additionally, the search found that the best performance occured with 15 principle components. Even with hypertuned parameters and a balanced dataset, the model did not perform very well.\n",
    "\n",
    "\n",
    "\n",
    "\n"
   ]
  },
  {
   "cell_type": "markdown",
   "metadata": {},
   "source": [
    "### 2nd pipeline\n",
    "  * Anomaly detection\n",
    "  * Dimensionality reduction\n",
    "  * Model training/validation"
   ]
  },
  {
   "cell_type": "code",
   "execution_count": 12,
   "metadata": {},
   "outputs": [],
   "source": [
    "# Add anomaly detection code  (Question #E205)\n",
    "# ----------------------------------\n",
    "envelope = EllipticEnvelope(support_fraction=1, contamination = 0.2).fit(X_train)\n",
    "\n",
    "inliers = envelope.predict(X_train) == 1\n",
    "\n",
    "X_clean2 = X_train[inliers]\n",
    "y_clean2 = y_train[inliers]"
   ]
  },
  {
   "cell_type": "code",
   "execution_count": 24,
   "metadata": {},
   "outputs": [
    {
     "name": "stdout",
     "output_type": "stream",
     "text": [
      "Original: 27103 \n",
      "Inliers: 21682\n",
      "Points removed: 5421\n"
     ]
    }
   ],
   "source": [
    "inlier_count = len(y_clean2)\n",
    "original_count = len(y_train)\n",
    "print(f\"Original: {original_count} \\nInliers: {inlier_count}\\nPoints removed: {original_count-inlier_count}\")"
   ]
  },
  {
   "cell_type": "code",
   "execution_count": 19,
   "metadata": {},
   "outputs": [],
   "source": [
    "# Add codes for feature selection and classification pipeline with grid search  (Question #E206)\n",
    "# ----------------------------------\n",
    "pipe2 = Pipeline([\n",
    "     (\"kbest\",SelectKBest(mutual_info_classif)),\n",
    "     (\"Boost\",GradientBoostingClassifier())\n",
    "                  ])"
   ]
  },
  {
   "cell_type": "code",
   "execution_count": 20,
   "metadata": {},
   "outputs": [],
   "source": [
    "param_grid = {\n",
    "    \"kbest__k\":[15,20],\n",
    "    \"Boost__n_estimators\":[50,60,70],\n",
    "    \"Boost__max_depth\":[5,10,15],\n",
    "    \"Boost__learning_rate\":[0.05,0.1,0.2]\n",
    "}"
   ]
  },
  {
   "cell_type": "code",
   "execution_count": 21,
   "metadata": {},
   "outputs": [],
   "source": [
    "grid2 = GridSearchCV(pipe2, param_grid=param_grid, cv=5,n_jobs=-1,scoring=\"f1\",verbose=2)"
   ]
  },
  {
   "cell_type": "code",
   "execution_count": 22,
   "metadata": {},
   "outputs": [
    {
     "name": "stdout",
     "output_type": "stream",
     "text": [
      "Fitting 5 folds for each of 54 candidates, totalling 270 fits\n"
     ]
    },
    {
     "data": {
      "text/plain": [
       "GridSearchCV(cv=5,\n",
       "             estimator=Pipeline(steps=[('kbest',\n",
       "                                        SelectKBest(score_func=<function mutual_info_classif at 0x7f781ef45488>)),\n",
       "                                       ('Boost',\n",
       "                                        GradientBoostingClassifier())]),\n",
       "             n_jobs=-1,\n",
       "             param_grid={'Boost__learning_rate': [0.05, 0.1, 0.2],\n",
       "                         'Boost__max_depth': [5, 10, 15],\n",
       "                         'Boost__n_estimators': [50, 60, 70],\n",
       "                         'kbest__k': [15, 20]},\n",
       "             scoring='f1', verbose=2)"
      ]
     },
     "execution_count": 22,
     "metadata": {},
     "output_type": "execute_result"
    }
   ],
   "source": [
    "grid2.fit(X_train,y_train)"
   ]
  },
  {
   "cell_type": "code",
   "execution_count": 23,
   "metadata": {},
   "outputs": [
    {
     "data": {
      "text/plain": [
       "['second_pipeline.pkl']"
      ]
     },
     "execution_count": 23,
     "metadata": {},
     "output_type": "execute_result"
    }
   ],
   "source": [
    "joblib.dump(grid2,\"second_pipeline.pkl\")"
   ]
  },
  {
   "cell_type": "code",
   "execution_count": 13,
   "metadata": {},
   "outputs": [],
   "source": [
    "grid2 = joblib.load(\"second_pipeline.pkl\")"
   ]
  },
  {
   "cell_type": "code",
   "execution_count": 25,
   "metadata": {},
   "outputs": [
    {
     "data": {
      "text/plain": [
       "{'mean_fit_time': array([ 5.55530887,  5.84385743,  6.14451556,  6.22472105,  6.60797029,\n",
       "         6.78209877,  8.85131154,  9.1817462 , 10.25080376, 10.6458981 ,\n",
       "        11.48495083, 11.72897401, 14.53626208, 15.00262246, 17.31867108,\n",
       "        17.73155875, 20.26097908, 20.36038074,  5.45935612,  5.839359  ,\n",
       "         6.18644409,  6.2365591 ,  6.61869926,  6.81709657,  8.71698203,\n",
       "         9.25958662, 10.06418939, 10.52148685, 11.16578031, 11.69290729,\n",
       "        15.54326758, 15.96171365, 18.13799024, 18.58834286, 20.7940649 ,\n",
       "        21.73433332,  5.53198986,  5.74273143,  6.15696044,  6.24138589,\n",
       "         6.50324998,  6.85216036,  8.83276992,  9.23556681, 10.00732007,\n",
       "        10.32805839, 11.29495249, 11.75008097, 15.62085347, 16.32272635,\n",
       "        18.26200418, 18.77120323, 20.53905177, 21.44288363]),\n",
       " 'std_fit_time': array([0.09644069, 0.1963508 , 0.22650928, 0.03226254, 0.05281185,\n",
       "        0.04629682, 0.10193192, 0.08381315, 0.32969183, 0.32327896,\n",
       "        0.15407804, 0.07243526, 0.32436491, 0.27566776, 0.57062599,\n",
       "        0.52744035, 0.4084592 , 0.24816795, 0.06570827, 0.2327096 ,\n",
       "        0.20688318, 0.01964888, 0.11858371, 0.04137796, 0.13798232,\n",
       "        0.20294941, 0.2407429 , 0.32842869, 0.28200604, 0.26963804,\n",
       "        0.34657474, 0.47708025, 0.70579946, 0.2882126 , 0.37243545,\n",
       "        0.6316212 , 0.05187509, 0.09575387, 0.17094586, 0.02682864,\n",
       "        0.08793764, 0.05458552, 0.2099239 , 0.19682792, 0.20045319,\n",
       "        0.12045966, 0.38187469, 0.21853076, 0.25653787, 0.30530674,\n",
       "        0.55045489, 0.34548355, 0.25999989, 0.40470652]),\n",
       " 'mean_score_time': array([0.01505418, 0.0171123 , 0.01682453, 0.01720653, 0.01836181,\n",
       "        0.01869192, 0.02753406, 0.02832928, 0.03113551, 0.031635  ,\n",
       "        0.0347775 , 0.03528624, 0.04641581, 0.04528413, 0.05596929,\n",
       "        0.05473595, 0.06530313, 0.06232829, 0.01567292, 0.0147881 ,\n",
       "        0.01598692, 0.01609678, 0.01697311, 0.01716003, 0.0259222 ,\n",
       "        0.02767377, 0.02896171, 0.0300528 , 0.03248467, 0.0333755 ,\n",
       "        0.04824958, 0.04722028, 0.05548759, 0.05602045, 0.06769085,\n",
       "        0.06581788, 0.01353164, 0.0138134 , 0.0147059 , 0.0147974 ,\n",
       "        0.01560783, 0.01713428, 0.02469163, 0.02449203, 0.02822232,\n",
       "        0.0277513 , 0.03174167, 0.03150358, 0.04649205, 0.04818635,\n",
       "        0.0558598 , 0.05512552, 0.0597672 , 0.06075149]),\n",
       " 'std_score_time': array([1.61963579e-04, 2.22784461e-03, 2.02613961e-04, 2.78988681e-04,\n",
       "        8.64688672e-05, 1.81630935e-04, 4.71357991e-04, 1.35698665e-03,\n",
       "        1.97795387e-04, 5.82911522e-04, 2.66638948e-04, 3.20273931e-04,\n",
       "        1.31310073e-03, 2.89239162e-04, 3.27600707e-03, 1.39988148e-03,\n",
       "        2.81721537e-03, 1.14772628e-03, 1.74505591e-03, 2.34198287e-04,\n",
       "        1.42231900e-04, 1.78342541e-04, 6.61135365e-05, 9.15843442e-05,\n",
       "        1.85437342e-04, 2.51251349e-03, 1.92582681e-04, 1.01275450e-03,\n",
       "        6.18281972e-04, 1.10289790e-03, 1.30837387e-03, 2.77415786e-04,\n",
       "        7.12740009e-04, 1.14345524e-03, 4.97919897e-03, 2.15386498e-03,\n",
       "        2.35000059e-04, 3.08751990e-04, 2.37324876e-04, 2.19406161e-04,\n",
       "        1.29336047e-04, 1.66608828e-03, 9.97776830e-04, 6.29148133e-04,\n",
       "        1.25645695e-03, 4.47666157e-04, 1.81836976e-03, 9.08513767e-04,\n",
       "        7.90244707e-04, 2.54651656e-03, 1.23939091e-03, 2.42323900e-03,\n",
       "        3.66123861e-04, 9.64811047e-04]),\n",
       " 'param_Boost__learning_rate': masked_array(data=[0.05, 0.05, 0.05, 0.05, 0.05, 0.05, 0.05, 0.05, 0.05,\n",
       "                    0.05, 0.05, 0.05, 0.05, 0.05, 0.05, 0.05, 0.05, 0.05,\n",
       "                    0.1, 0.1, 0.1, 0.1, 0.1, 0.1, 0.1, 0.1, 0.1, 0.1, 0.1,\n",
       "                    0.1, 0.1, 0.1, 0.1, 0.1, 0.1, 0.1, 0.2, 0.2, 0.2, 0.2,\n",
       "                    0.2, 0.2, 0.2, 0.2, 0.2, 0.2, 0.2, 0.2, 0.2, 0.2, 0.2,\n",
       "                    0.2, 0.2, 0.2],\n",
       "              mask=[False, False, False, False, False, False, False, False,\n",
       "                    False, False, False, False, False, False, False, False,\n",
       "                    False, False, False, False, False, False, False, False,\n",
       "                    False, False, False, False, False, False, False, False,\n",
       "                    False, False, False, False, False, False, False, False,\n",
       "                    False, False, False, False, False, False, False, False,\n",
       "                    False, False, False, False, False, False],\n",
       "        fill_value='?',\n",
       "             dtype=object),\n",
       " 'param_Boost__max_depth': masked_array(data=[5, 5, 5, 5, 5, 5, 10, 10, 10, 10, 10, 10, 15, 15, 15,\n",
       "                    15, 15, 15, 5, 5, 5, 5, 5, 5, 10, 10, 10, 10, 10, 10,\n",
       "                    15, 15, 15, 15, 15, 15, 5, 5, 5, 5, 5, 5, 10, 10, 10,\n",
       "                    10, 10, 10, 15, 15, 15, 15, 15, 15],\n",
       "              mask=[False, False, False, False, False, False, False, False,\n",
       "                    False, False, False, False, False, False, False, False,\n",
       "                    False, False, False, False, False, False, False, False,\n",
       "                    False, False, False, False, False, False, False, False,\n",
       "                    False, False, False, False, False, False, False, False,\n",
       "                    False, False, False, False, False, False, False, False,\n",
       "                    False, False, False, False, False, False],\n",
       "        fill_value='?',\n",
       "             dtype=object),\n",
       " 'param_Boost__n_estimators': masked_array(data=[50, 50, 60, 60, 70, 70, 50, 50, 60, 60, 70, 70, 50, 50,\n",
       "                    60, 60, 70, 70, 50, 50, 60, 60, 70, 70, 50, 50, 60, 60,\n",
       "                    70, 70, 50, 50, 60, 60, 70, 70, 50, 50, 60, 60, 70, 70,\n",
       "                    50, 50, 60, 60, 70, 70, 50, 50, 60, 60, 70, 70],\n",
       "              mask=[False, False, False, False, False, False, False, False,\n",
       "                    False, False, False, False, False, False, False, False,\n",
       "                    False, False, False, False, False, False, False, False,\n",
       "                    False, False, False, False, False, False, False, False,\n",
       "                    False, False, False, False, False, False, False, False,\n",
       "                    False, False, False, False, False, False, False, False,\n",
       "                    False, False, False, False, False, False],\n",
       "        fill_value='?',\n",
       "             dtype=object),\n",
       " 'param_kbest__k': masked_array(data=[15, 20, 15, 20, 15, 20, 15, 20, 15, 20, 15, 20, 15, 20,\n",
       "                    15, 20, 15, 20, 15, 20, 15, 20, 15, 20, 15, 20, 15, 20,\n",
       "                    15, 20, 15, 20, 15, 20, 15, 20, 15, 20, 15, 20, 15, 20,\n",
       "                    15, 20, 15, 20, 15, 20, 15, 20, 15, 20, 15, 20],\n",
       "              mask=[False, False, False, False, False, False, False, False,\n",
       "                    False, False, False, False, False, False, False, False,\n",
       "                    False, False, False, False, False, False, False, False,\n",
       "                    False, False, False, False, False, False, False, False,\n",
       "                    False, False, False, False, False, False, False, False,\n",
       "                    False, False, False, False, False, False, False, False,\n",
       "                    False, False, False, False, False, False],\n",
       "        fill_value='?',\n",
       "             dtype=object),\n",
       " 'params': [{'Boost__learning_rate': 0.05,\n",
       "   'Boost__max_depth': 5,\n",
       "   'Boost__n_estimators': 50,\n",
       "   'kbest__k': 15},\n",
       "  {'Boost__learning_rate': 0.05,\n",
       "   'Boost__max_depth': 5,\n",
       "   'Boost__n_estimators': 50,\n",
       "   'kbest__k': 20},\n",
       "  {'Boost__learning_rate': 0.05,\n",
       "   'Boost__max_depth': 5,\n",
       "   'Boost__n_estimators': 60,\n",
       "   'kbest__k': 15},\n",
       "  {'Boost__learning_rate': 0.05,\n",
       "   'Boost__max_depth': 5,\n",
       "   'Boost__n_estimators': 60,\n",
       "   'kbest__k': 20},\n",
       "  {'Boost__learning_rate': 0.05,\n",
       "   'Boost__max_depth': 5,\n",
       "   'Boost__n_estimators': 70,\n",
       "   'kbest__k': 15},\n",
       "  {'Boost__learning_rate': 0.05,\n",
       "   'Boost__max_depth': 5,\n",
       "   'Boost__n_estimators': 70,\n",
       "   'kbest__k': 20},\n",
       "  {'Boost__learning_rate': 0.05,\n",
       "   'Boost__max_depth': 10,\n",
       "   'Boost__n_estimators': 50,\n",
       "   'kbest__k': 15},\n",
       "  {'Boost__learning_rate': 0.05,\n",
       "   'Boost__max_depth': 10,\n",
       "   'Boost__n_estimators': 50,\n",
       "   'kbest__k': 20},\n",
       "  {'Boost__learning_rate': 0.05,\n",
       "   'Boost__max_depth': 10,\n",
       "   'Boost__n_estimators': 60,\n",
       "   'kbest__k': 15},\n",
       "  {'Boost__learning_rate': 0.05,\n",
       "   'Boost__max_depth': 10,\n",
       "   'Boost__n_estimators': 60,\n",
       "   'kbest__k': 20},\n",
       "  {'Boost__learning_rate': 0.05,\n",
       "   'Boost__max_depth': 10,\n",
       "   'Boost__n_estimators': 70,\n",
       "   'kbest__k': 15},\n",
       "  {'Boost__learning_rate': 0.05,\n",
       "   'Boost__max_depth': 10,\n",
       "   'Boost__n_estimators': 70,\n",
       "   'kbest__k': 20},\n",
       "  {'Boost__learning_rate': 0.05,\n",
       "   'Boost__max_depth': 15,\n",
       "   'Boost__n_estimators': 50,\n",
       "   'kbest__k': 15},\n",
       "  {'Boost__learning_rate': 0.05,\n",
       "   'Boost__max_depth': 15,\n",
       "   'Boost__n_estimators': 50,\n",
       "   'kbest__k': 20},\n",
       "  {'Boost__learning_rate': 0.05,\n",
       "   'Boost__max_depth': 15,\n",
       "   'Boost__n_estimators': 60,\n",
       "   'kbest__k': 15},\n",
       "  {'Boost__learning_rate': 0.05,\n",
       "   'Boost__max_depth': 15,\n",
       "   'Boost__n_estimators': 60,\n",
       "   'kbest__k': 20},\n",
       "  {'Boost__learning_rate': 0.05,\n",
       "   'Boost__max_depth': 15,\n",
       "   'Boost__n_estimators': 70,\n",
       "   'kbest__k': 15},\n",
       "  {'Boost__learning_rate': 0.05,\n",
       "   'Boost__max_depth': 15,\n",
       "   'Boost__n_estimators': 70,\n",
       "   'kbest__k': 20},\n",
       "  {'Boost__learning_rate': 0.1,\n",
       "   'Boost__max_depth': 5,\n",
       "   'Boost__n_estimators': 50,\n",
       "   'kbest__k': 15},\n",
       "  {'Boost__learning_rate': 0.1,\n",
       "   'Boost__max_depth': 5,\n",
       "   'Boost__n_estimators': 50,\n",
       "   'kbest__k': 20},\n",
       "  {'Boost__learning_rate': 0.1,\n",
       "   'Boost__max_depth': 5,\n",
       "   'Boost__n_estimators': 60,\n",
       "   'kbest__k': 15},\n",
       "  {'Boost__learning_rate': 0.1,\n",
       "   'Boost__max_depth': 5,\n",
       "   'Boost__n_estimators': 60,\n",
       "   'kbest__k': 20},\n",
       "  {'Boost__learning_rate': 0.1,\n",
       "   'Boost__max_depth': 5,\n",
       "   'Boost__n_estimators': 70,\n",
       "   'kbest__k': 15},\n",
       "  {'Boost__learning_rate': 0.1,\n",
       "   'Boost__max_depth': 5,\n",
       "   'Boost__n_estimators': 70,\n",
       "   'kbest__k': 20},\n",
       "  {'Boost__learning_rate': 0.1,\n",
       "   'Boost__max_depth': 10,\n",
       "   'Boost__n_estimators': 50,\n",
       "   'kbest__k': 15},\n",
       "  {'Boost__learning_rate': 0.1,\n",
       "   'Boost__max_depth': 10,\n",
       "   'Boost__n_estimators': 50,\n",
       "   'kbest__k': 20},\n",
       "  {'Boost__learning_rate': 0.1,\n",
       "   'Boost__max_depth': 10,\n",
       "   'Boost__n_estimators': 60,\n",
       "   'kbest__k': 15},\n",
       "  {'Boost__learning_rate': 0.1,\n",
       "   'Boost__max_depth': 10,\n",
       "   'Boost__n_estimators': 60,\n",
       "   'kbest__k': 20},\n",
       "  {'Boost__learning_rate': 0.1,\n",
       "   'Boost__max_depth': 10,\n",
       "   'Boost__n_estimators': 70,\n",
       "   'kbest__k': 15},\n",
       "  {'Boost__learning_rate': 0.1,\n",
       "   'Boost__max_depth': 10,\n",
       "   'Boost__n_estimators': 70,\n",
       "   'kbest__k': 20},\n",
       "  {'Boost__learning_rate': 0.1,\n",
       "   'Boost__max_depth': 15,\n",
       "   'Boost__n_estimators': 50,\n",
       "   'kbest__k': 15},\n",
       "  {'Boost__learning_rate': 0.1,\n",
       "   'Boost__max_depth': 15,\n",
       "   'Boost__n_estimators': 50,\n",
       "   'kbest__k': 20},\n",
       "  {'Boost__learning_rate': 0.1,\n",
       "   'Boost__max_depth': 15,\n",
       "   'Boost__n_estimators': 60,\n",
       "   'kbest__k': 15},\n",
       "  {'Boost__learning_rate': 0.1,\n",
       "   'Boost__max_depth': 15,\n",
       "   'Boost__n_estimators': 60,\n",
       "   'kbest__k': 20},\n",
       "  {'Boost__learning_rate': 0.1,\n",
       "   'Boost__max_depth': 15,\n",
       "   'Boost__n_estimators': 70,\n",
       "   'kbest__k': 15},\n",
       "  {'Boost__learning_rate': 0.1,\n",
       "   'Boost__max_depth': 15,\n",
       "   'Boost__n_estimators': 70,\n",
       "   'kbest__k': 20},\n",
       "  {'Boost__learning_rate': 0.2,\n",
       "   'Boost__max_depth': 5,\n",
       "   'Boost__n_estimators': 50,\n",
       "   'kbest__k': 15},\n",
       "  {'Boost__learning_rate': 0.2,\n",
       "   'Boost__max_depth': 5,\n",
       "   'Boost__n_estimators': 50,\n",
       "   'kbest__k': 20},\n",
       "  {'Boost__learning_rate': 0.2,\n",
       "   'Boost__max_depth': 5,\n",
       "   'Boost__n_estimators': 60,\n",
       "   'kbest__k': 15},\n",
       "  {'Boost__learning_rate': 0.2,\n",
       "   'Boost__max_depth': 5,\n",
       "   'Boost__n_estimators': 60,\n",
       "   'kbest__k': 20},\n",
       "  {'Boost__learning_rate': 0.2,\n",
       "   'Boost__max_depth': 5,\n",
       "   'Boost__n_estimators': 70,\n",
       "   'kbest__k': 15},\n",
       "  {'Boost__learning_rate': 0.2,\n",
       "   'Boost__max_depth': 5,\n",
       "   'Boost__n_estimators': 70,\n",
       "   'kbest__k': 20},\n",
       "  {'Boost__learning_rate': 0.2,\n",
       "   'Boost__max_depth': 10,\n",
       "   'Boost__n_estimators': 50,\n",
       "   'kbest__k': 15},\n",
       "  {'Boost__learning_rate': 0.2,\n",
       "   'Boost__max_depth': 10,\n",
       "   'Boost__n_estimators': 50,\n",
       "   'kbest__k': 20},\n",
       "  {'Boost__learning_rate': 0.2,\n",
       "   'Boost__max_depth': 10,\n",
       "   'Boost__n_estimators': 60,\n",
       "   'kbest__k': 15},\n",
       "  {'Boost__learning_rate': 0.2,\n",
       "   'Boost__max_depth': 10,\n",
       "   'Boost__n_estimators': 60,\n",
       "   'kbest__k': 20},\n",
       "  {'Boost__learning_rate': 0.2,\n",
       "   'Boost__max_depth': 10,\n",
       "   'Boost__n_estimators': 70,\n",
       "   'kbest__k': 15},\n",
       "  {'Boost__learning_rate': 0.2,\n",
       "   'Boost__max_depth': 10,\n",
       "   'Boost__n_estimators': 70,\n",
       "   'kbest__k': 20},\n",
       "  {'Boost__learning_rate': 0.2,\n",
       "   'Boost__max_depth': 15,\n",
       "   'Boost__n_estimators': 50,\n",
       "   'kbest__k': 15},\n",
       "  {'Boost__learning_rate': 0.2,\n",
       "   'Boost__max_depth': 15,\n",
       "   'Boost__n_estimators': 50,\n",
       "   'kbest__k': 20},\n",
       "  {'Boost__learning_rate': 0.2,\n",
       "   'Boost__max_depth': 15,\n",
       "   'Boost__n_estimators': 60,\n",
       "   'kbest__k': 15},\n",
       "  {'Boost__learning_rate': 0.2,\n",
       "   'Boost__max_depth': 15,\n",
       "   'Boost__n_estimators': 60,\n",
       "   'kbest__k': 20},\n",
       "  {'Boost__learning_rate': 0.2,\n",
       "   'Boost__max_depth': 15,\n",
       "   'Boost__n_estimators': 70,\n",
       "   'kbest__k': 15},\n",
       "  {'Boost__learning_rate': 0.2,\n",
       "   'Boost__max_depth': 15,\n",
       "   'Boost__n_estimators': 70,\n",
       "   'kbest__k': 20}],\n",
       " 'split0_test_score': array([0.83119777, 0.829555  , 0.83184358, 0.83245052, 0.83333333,\n",
       "        0.83537946, 0.85517241, 0.856986  , 0.85933644, 0.86191781,\n",
       "        0.85972108, 0.86498353, 0.85125103, 0.84958678, 0.85448578,\n",
       "        0.85172982, 0.85215494, 0.85534247, 0.83671766, 0.83783032,\n",
       "        0.83888889, 0.84087753, 0.84      , 0.84342032, 0.86544259,\n",
       "        0.86725178, 0.86788341, 0.87264794, 0.87273725, 0.87479497,\n",
       "        0.86345053, 0.86752253, 0.86452666, 0.87008734, 0.87203274,\n",
       "        0.86999182, 0.84373274, 0.84344694, 0.84362026, 0.8459617 ,\n",
       "        0.84632394, 0.84568584, 0.87100271, 0.87901907, 0.88143908,\n",
       "        0.87748977, 0.87903667, 0.88156087, 0.87527233, 0.87639228,\n",
       "        0.87564626, 0.87466088, 0.88166802, 0.88272109]),\n",
       " 'split1_test_score': array([0.8195341 , 0.82257159, 0.82286996, 0.82379349, 0.82513966,\n",
       "        0.82517483, 0.85034578, 0.8502895 , 0.8477842 , 0.85259402,\n",
       "        0.85344353, 0.85581395, 0.82497946, 0.82365767, 0.82837653,\n",
       "        0.82910875, 0.83169399, 0.82407407, 0.82503477, 0.82881877,\n",
       "        0.82989403, 0.82668155, 0.83226347, 0.82928192, 0.85910088,\n",
       "        0.86262682, 0.86012068, 0.86576997, 0.86386003, 0.86486486,\n",
       "        0.83709546, 0.83247072, 0.83886772, 0.84004353, 0.84318489,\n",
       "        0.84073673, 0.83743017, 0.8320356 , 0.83542889, 0.83486494,\n",
       "        0.83333333, 0.8380477 , 0.86152162, 0.86790393, 0.86337606,\n",
       "        0.86517467, 0.86814087, 0.86892409, 0.85062466, 0.85092492,\n",
       "        0.85473341, 0.85472881, 0.85667575, 0.86032609]),\n",
       " 'split2_test_score': array([0.82857143, 0.82719865, 0.82982899, 0.8316943 , 0.83212087,\n",
       "        0.83211679, 0.85817374, 0.85911985, 0.85801273, 0.86552297,\n",
       "        0.8677686 , 0.86802871, 0.84893268, 0.85408667, 0.85472419,\n",
       "        0.85417804, 0.85270049, 0.85644105, 0.8390516 , 0.83791363,\n",
       "        0.841841  , 0.84207589, 0.84424631, 0.84531469, 0.86692435,\n",
       "        0.86923077, 0.86808042, 0.87417582, 0.87445175, 0.87606019,\n",
       "        0.85839256, 0.86410959, 0.86332882, 0.86328976, 0.86704887,\n",
       "        0.8691385 , 0.84213452, 0.85088692, 0.84324625, 0.84848485,\n",
       "        0.85001386, 0.84848485, 0.87211855, 0.87820863, 0.87770178,\n",
       "        0.87995625, 0.87387633, 0.88359354, 0.87204564, 0.87940935,\n",
       "        0.86992092, 0.87960688, 0.86935086, 0.8777566 ]),\n",
       " 'split3_test_score': array([0.81864121, 0.81871673, 0.82319978, 0.82586786, 0.82395746,\n",
       "        0.82862734, 0.84792883, 0.84824903, 0.85137005, 0.85161647,\n",
       "        0.85437966, 0.85540839, 0.83252033, 0.84107045, 0.83414899,\n",
       "        0.8453159 , 0.84013051, 0.84929271, 0.83379655, 0.83221851,\n",
       "        0.82741398, 0.83481646, 0.84181416, 0.83792049, 0.85525954,\n",
       "        0.86162311, 0.86476086, 0.86334891, 0.86606409, 0.87166804,\n",
       "        0.84440843, 0.85480349, 0.84675888, 0.8522449 , 0.85248574,\n",
       "        0.86166439, 0.84026622, 0.84289277, 0.84260028, 0.8449848 ,\n",
       "        0.84289277, 0.84638804, 0.8702332 , 0.87691466, 0.87087087,\n",
       "        0.87735591, 0.87599234, 0.87827511, 0.85472881, 0.86398259,\n",
       "        0.87339349, 0.87394039, 0.87087087, 0.8713355 ]),\n",
       " 'split4_test_score': array([0.82244556, 0.82207901, 0.82864308, 0.82639083, 0.82718447,\n",
       "        0.82841226, 0.85444444, 0.85254096, 0.85327439, 0.85001386,\n",
       "        0.86070341, 0.86447695, 0.84273973, 0.85      , 0.85043668,\n",
       "        0.8521262 , 0.85245902, 0.85002737, 0.8318535 , 0.83421272,\n",
       "        0.83540802, 0.83629301, 0.83812155, 0.8386918 , 0.86423841,\n",
       "        0.86635437, 0.86541644, 0.86641012, 0.867643  , 0.87169604,\n",
       "        0.8529251 , 0.85993485, 0.86142935, 0.8619657 , 0.85784717,\n",
       "        0.86550976, 0.83778573, 0.83711911, 0.83862069, 0.84152095,\n",
       "        0.84070796, 0.83863825, 0.87287671, 0.87161237, 0.87061404,\n",
       "        0.87613293, 0.86834888, 0.87404162, 0.86911281, 0.87295529,\n",
       "        0.86875853, 0.87159956, 0.8722997 , 0.87537497]),\n",
       " 'mean_test_score': array([0.82407801, 0.8240242 , 0.82727707, 0.8280394 , 0.82834716,\n",
       "        0.82994214, 0.85321304, 0.85343707, 0.85395556, 0.85633302,\n",
       "        0.85920325, 0.86174231, 0.84008464, 0.84368031, 0.84443444,\n",
       "        0.84649174, 0.84582779, 0.84703553, 0.83329082, 0.83419879,\n",
       "        0.83468919, 0.83614889, 0.8392891 , 0.83892584, 0.86219315,\n",
       "        0.86541737, 0.86525236, 0.86847055, 0.86895122, 0.87181682,\n",
       "        0.85125442, 0.85576824, 0.85498229, 0.85752624, 0.85851988,\n",
       "        0.86140824, 0.84026988, 0.84127627, 0.84070327, 0.84316345,\n",
       "        0.84265437, 0.84344894, 0.86955056, 0.87473173, 0.87280037,\n",
       "        0.87522191, 0.87307902, 0.87727904, 0.86435685, 0.86873289,\n",
       "        0.86849052, 0.8709073 , 0.87017304, 0.87350285]),\n",
       " 'std_test_score': array([0.00497499, 0.003866  , 0.00361326, 0.00341401, 0.00374198,\n",
       "        0.00349543, 0.00363616, 0.00406239, 0.00425791, 0.00619359,\n",
       "        0.00514442, 0.00515299, 0.009954  , 0.01087046, 0.01101437,\n",
       "        0.00918493, 0.008526  , 0.01182153, 0.00480445, 0.0034599 ,\n",
       "        0.00538934, 0.0054574 , 0.00405408, 0.00556935, 0.00435346,\n",
       "        0.00286247, 0.00288177, 0.00418976, 0.0040139 , 0.00387923,\n",
       "        0.00948507, 0.01240006, 0.01029202, 0.01043308, 0.01027002,\n",
       "        0.01074834, 0.00243735, 0.00636178, 0.00318529, 0.00471228,\n",
       "        0.0056277 , 0.00427361, 0.00411574, 0.00427983, 0.00626054,\n",
       "        0.00517471, 0.00427496, 0.00528177, 0.00981995, 0.01029729,\n",
       "        0.00730233, 0.00849935, 0.00799996, 0.0075485 ]),\n",
       " 'rank_test_score': array([53, 54, 52, 51, 50, 49, 29, 28, 27, 24, 21, 19, 42, 35, 34, 32, 33,\n",
       "        31, 48, 47, 46, 45, 43, 44, 18, 15, 16, 14, 11,  7, 30, 25, 26, 23,\n",
       "        22, 20, 41, 39, 40, 37, 38, 36, 10,  3,  6,  2,  5,  1, 17, 12, 13,\n",
       "         8,  9,  4], dtype=int32)}"
      ]
     },
     "execution_count": 25,
     "metadata": {},
     "output_type": "execute_result"
    }
   ],
   "source": [
    "grid2.cv_results_"
   ]
  },
  {
   "cell_type": "code",
   "execution_count": 26,
   "metadata": {},
   "outputs": [
    {
     "data": {
      "text/plain": [
       "Pipeline(steps=[('kbest',\n",
       "                 SelectKBest(k=20,\n",
       "                             score_func=<function mutual_info_classif at 0x7f781ef45488>)),\n",
       "                ('Boost',\n",
       "                 GradientBoostingClassifier(learning_rate=0.2, max_depth=10,\n",
       "                                            n_estimators=70))])"
      ]
     },
     "execution_count": 26,
     "metadata": {},
     "output_type": "execute_result"
    }
   ],
   "source": [
    "grid2.best_estimator_"
   ]
  },
  {
   "cell_type": "markdown",
   "metadata": {},
   "source": [
    "### Performance on training data"
   ]
  },
  {
   "cell_type": "code",
   "execution_count": 14,
   "metadata": {},
   "outputs": [],
   "source": [
    "y_train_pred2 = grid2.predict(X_clean2)"
   ]
  },
  {
   "cell_type": "code",
   "execution_count": 16,
   "metadata": {},
   "outputs": [
    {
     "name": "stdout",
     "output_type": "stream",
     "text": [
      "              precision    recall  f1-score   support\n",
      "\n",
      "           0       0.99      0.98      0.99     14317\n",
      "           1       0.97      0.98      0.97      7365\n",
      "\n",
      "    accuracy                           0.98     21682\n",
      "   macro avg       0.98      0.98      0.98     21682\n",
      "weighted avg       0.98      0.98      0.98     21682\n",
      "\n"
     ]
    }
   ],
   "source": [
    "print(classification_report(y_clean2,y_train_pred2))"
   ]
  },
  {
   "cell_type": "code",
   "execution_count": 29,
   "metadata": {},
   "outputs": [
    {
     "data": {
      "text/html": [
       "<div>\n",
       "<style scoped>\n",
       "    .dataframe tbody tr th:only-of-type {\n",
       "        vertical-align: middle;\n",
       "    }\n",
       "\n",
       "    .dataframe tbody tr th {\n",
       "        vertical-align: top;\n",
       "    }\n",
       "\n",
       "    .dataframe thead th {\n",
       "        text-align: right;\n",
       "    }\n",
       "</style>\n",
       "<table border=\"1\" class=\"dataframe\">\n",
       "  <thead>\n",
       "    <tr style=\"text-align: right;\">\n",
       "      <th></th>\n",
       "      <th>0</th>\n",
       "      <th>1</th>\n",
       "    </tr>\n",
       "  </thead>\n",
       "  <tbody>\n",
       "    <tr>\n",
       "      <th>0</th>\n",
       "      <td>14099</td>\n",
       "      <td>218</td>\n",
       "    </tr>\n",
       "    <tr>\n",
       "      <th>1</th>\n",
       "      <td>153</td>\n",
       "      <td>7212</td>\n",
       "    </tr>\n",
       "  </tbody>\n",
       "</table>\n",
       "</div>"
      ],
      "text/plain": [
       "       0     1\n",
       "0  14099   218\n",
       "1    153  7212"
      ]
     },
     "execution_count": 29,
     "metadata": {},
     "output_type": "execute_result"
    }
   ],
   "source": [
    "pd.DataFrame(confusion_matrix(y_clean2,y_train_pred2))"
   ]
  },
  {
   "cell_type": "markdown",
   "metadata": {},
   "source": [
    "### Performance on test data"
   ]
  },
  {
   "cell_type": "code",
   "execution_count": 27,
   "metadata": {},
   "outputs": [],
   "source": [
    "# Given an unbiased evaluation  (Question #E207)\n",
    "# ----------------------------------\n",
    "y_pred2 = grid2.predict(X_test)"
   ]
  },
  {
   "cell_type": "code",
   "execution_count": 28,
   "metadata": {},
   "outputs": [
    {
     "name": "stdout",
     "output_type": "stream",
     "text": [
      "              precision    recall  f1-score   support\n",
      "\n",
      "           0       0.95      0.93      0.94      4498\n",
      "           1       0.87      0.90      0.89      2278\n",
      "\n",
      "    accuracy                           0.92      6776\n",
      "   macro avg       0.91      0.92      0.92      6776\n",
      "weighted avg       0.92      0.92      0.92      6776\n",
      "\n"
     ]
    }
   ],
   "source": [
    "print(classification_report(y_test, y_pred2))"
   ]
  },
  {
   "cell_type": "code",
   "execution_count": 29,
   "metadata": {},
   "outputs": [
    {
     "data": {
      "text/html": [
       "<div>\n",
       "<style scoped>\n",
       "    .dataframe tbody tr th:only-of-type {\n",
       "        vertical-align: middle;\n",
       "    }\n",
       "\n",
       "    .dataframe tbody tr th {\n",
       "        vertical-align: top;\n",
       "    }\n",
       "\n",
       "    .dataframe thead th {\n",
       "        text-align: right;\n",
       "    }\n",
       "</style>\n",
       "<table border=\"1\" class=\"dataframe\">\n",
       "  <thead>\n",
       "    <tr style=\"text-align: right;\">\n",
       "      <th></th>\n",
       "      <th>0</th>\n",
       "      <th>1</th>\n",
       "    </tr>\n",
       "  </thead>\n",
       "  <tbody>\n",
       "    <tr>\n",
       "      <th>0</th>\n",
       "      <td>4200</td>\n",
       "      <td>298</td>\n",
       "    </tr>\n",
       "    <tr>\n",
       "      <th>1</th>\n",
       "      <td>220</td>\n",
       "      <td>2058</td>\n",
       "    </tr>\n",
       "  </tbody>\n",
       "</table>\n",
       "</div>"
      ],
      "text/plain": [
       "      0     1\n",
       "0  4200   298\n",
       "1   220  2058"
      ]
     },
     "execution_count": 29,
     "metadata": {},
     "output_type": "execute_result"
    }
   ],
   "source": [
    "pd.DataFrame(confusion_matrix(y_test,y_pred2))"
   ]
  },
  {
   "cell_type": "markdown",
   "metadata": {},
   "source": [
    "#### <center>Record the optimal hyperparameters and performance resulting from this pipeline.</center>"
   ]
  },
  {
   "cell_type": "raw",
   "metadata": {},
   "source": [
    "# Detail Hyperparameters and Results below  (Question #E208)\n",
    "# ---------------------------------------------\n",
    "\n",
    "\n",
    "The gradient boosting model paired with select k best using a mutual info classifier had optimized parameters of:\n",
    "learning_rate = 0.2\n",
    "max_depth=15\n",
    "n_estimators=70\n",
    "k =20 features\n",
    "\n",
    "This model drastically improved upon the SVM paired with PCA with higher F-Scores and accuracy.\n",
    "\n",
    "\n",
    "\n",
    "\n",
    "\n"
   ]
  },
  {
   "cell_type": "markdown",
   "metadata": {},
   "source": [
    "### 3rd pipeline\n",
    "  * Anomaly detection\n",
    "  * Dimensionality reduction\n",
    "  * Model training/validation"
   ]
  },
  {
   "cell_type": "code",
   "execution_count": 27,
   "metadata": {},
   "outputs": [],
   "source": [
    "# Add anomaly detection code  (Question #E209)\n",
    "# ----------------------------------\n",
    "iso = IsolationForest()\n",
    "\n",
    "inliers = iso.fit(X_train,y_train).predict(X_train) == 1\n",
    "\n",
    "X_clean3 = X_train[inliers]\n",
    "y_clean3 = y_train[inliers]"
   ]
  },
  {
   "cell_type": "code",
   "execution_count": 28,
   "metadata": {},
   "outputs": [
    {
     "name": "stdout",
     "output_type": "stream",
     "text": [
      "Original: 27103 \n",
      "Inliers: 25066\n",
      "Points removed: 2037\n"
     ]
    }
   ],
   "source": [
    "inlier_count = len(y_clean3)\n",
    "original_count = len(y_train)\n",
    "print(f\"Original: {original_count} \\nInliers: {inlier_count}\\nPoints removed: {original_count-inlier_count}\")"
   ]
  },
  {
   "cell_type": "code",
   "execution_count": 31,
   "metadata": {},
   "outputs": [],
   "source": [
    "# Add codes for feature selection and classification pipeline with grid search  (Question #E210)\n",
    "# ----------------------------------\n",
    "rfe = RFE(estimator=RandomForestClassifier())\n",
    "pipe3 = Pipeline([\n",
    "    (\"RFE\",rfe),\n",
    "    (\"RandomForest\",RandomForestClassifier())\n",
    "])"
   ]
  },
  {
   "cell_type": "code",
   "execution_count": 32,
   "metadata": {},
   "outputs": [],
   "source": [
    "param_grid = {\n",
    "    \"RFE__n_features_to_select\":[15,20],\n",
    "    \"RandomForest__n_estimators\":[600,1000,1400],\n",
    "    \"RandomForest__max_depth\":[10,30,None]\n",
    "}"
   ]
  },
  {
   "cell_type": "code",
   "execution_count": 33,
   "metadata": {},
   "outputs": [],
   "source": [
    "grid3 = GridSearchCV(pipe3, param_grid=param_grid, cv=5, n_jobs=-1, scoring='f1',verbose=2)"
   ]
  },
  {
   "cell_type": "code",
   "execution_count": 34,
   "metadata": {},
   "outputs": [
    {
     "name": "stdout",
     "output_type": "stream",
     "text": [
      "Fitting 5 folds for each of 18 candidates, totalling 90 fits\n"
     ]
    },
    {
     "data": {
      "text/plain": [
       "GridSearchCV(cv=5,\n",
       "             estimator=Pipeline(steps=[('RFE',\n",
       "                                        RFE(estimator=RandomForestClassifier())),\n",
       "                                       ('RandomForest',\n",
       "                                        RandomForestClassifier())]),\n",
       "             n_jobs=-1,\n",
       "             param_grid={'RFE__n_features_to_select': [15, 20],\n",
       "                         'RandomForest__max_depth': [10, 30, None],\n",
       "                         'RandomForest__n_estimators': [600, 1000, 1400]},\n",
       "             scoring='f1', verbose=2)"
      ]
     },
     "execution_count": 34,
     "metadata": {},
     "output_type": "execute_result"
    }
   ],
   "source": [
    "grid3.fit(X_train,y_train)"
   ]
  },
  {
   "cell_type": "code",
   "execution_count": 35,
   "metadata": {},
   "outputs": [
    {
     "data": {
      "text/plain": [
       "['third_pipeline.pkl']"
      ]
     },
     "execution_count": 35,
     "metadata": {},
     "output_type": "execute_result"
    }
   ],
   "source": [
    "joblib.dump(grid3,\"third_pipeline.pkl\")"
   ]
  },
  {
   "cell_type": "code",
   "execution_count": 30,
   "metadata": {},
   "outputs": [],
   "source": [
    "grid3 = joblib.load(\"third_pipeline.pkl\")"
   ]
  },
  {
   "cell_type": "code",
   "execution_count": 37,
   "metadata": {},
   "outputs": [
    {
     "data": {
      "text/plain": [
       "Pipeline(steps=[('RFE',\n",
       "                 RFE(estimator=RandomForestClassifier(),\n",
       "                     n_features_to_select=20)),\n",
       "                ('RandomForest', RandomForestClassifier(n_estimators=1400))])"
      ]
     },
     "execution_count": 37,
     "metadata": {},
     "output_type": "execute_result"
    }
   ],
   "source": [
    "grid3.best_estimator_"
   ]
  },
  {
   "cell_type": "markdown",
   "metadata": {},
   "source": [
    "### Performance on training data"
   ]
  },
  {
   "cell_type": "code",
   "execution_count": 31,
   "metadata": {},
   "outputs": [],
   "source": [
    "y_train_pred3 = grid2.predict(X_clean3)"
   ]
  },
  {
   "cell_type": "code",
   "execution_count": 32,
   "metadata": {},
   "outputs": [
    {
     "name": "stdout",
     "output_type": "stream",
     "text": [
      "              precision    recall  f1-score   support\n",
      "\n",
      "           0       0.99      0.99      0.99     16690\n",
      "           1       0.97      0.98      0.97      8376\n",
      "\n",
      "    accuracy                           0.98     25066\n",
      "   macro avg       0.98      0.98      0.98     25066\n",
      "weighted avg       0.98      0.98      0.98     25066\n",
      "\n"
     ]
    }
   ],
   "source": [
    "print(classification_report(y_clean3, y_train_pred3))"
   ]
  },
  {
   "cell_type": "code",
   "execution_count": 33,
   "metadata": {},
   "outputs": [
    {
     "data": {
      "text/html": [
       "<div>\n",
       "<style scoped>\n",
       "    .dataframe tbody tr th:only-of-type {\n",
       "        vertical-align: middle;\n",
       "    }\n",
       "\n",
       "    .dataframe tbody tr th {\n",
       "        vertical-align: top;\n",
       "    }\n",
       "\n",
       "    .dataframe thead th {\n",
       "        text-align: right;\n",
       "    }\n",
       "</style>\n",
       "<table border=\"1\" class=\"dataframe\">\n",
       "  <thead>\n",
       "    <tr style=\"text-align: right;\">\n",
       "      <th></th>\n",
       "      <th>0</th>\n",
       "      <th>1</th>\n",
       "    </tr>\n",
       "  </thead>\n",
       "  <tbody>\n",
       "    <tr>\n",
       "      <th>0</th>\n",
       "      <td>16450</td>\n",
       "      <td>240</td>\n",
       "    </tr>\n",
       "    <tr>\n",
       "      <th>1</th>\n",
       "      <td>194</td>\n",
       "      <td>8182</td>\n",
       "    </tr>\n",
       "  </tbody>\n",
       "</table>\n",
       "</div>"
      ],
      "text/plain": [
       "       0     1\n",
       "0  16450   240\n",
       "1    194  8182"
      ]
     },
     "execution_count": 33,
     "metadata": {},
     "output_type": "execute_result"
    }
   ],
   "source": [
    "pd.DataFrame(confusion_matrix(y_clean3, y_train_pred3))"
   ]
  },
  {
   "cell_type": "markdown",
   "metadata": {},
   "source": [
    "### Performance on test data"
   ]
  },
  {
   "cell_type": "code",
   "execution_count": 38,
   "metadata": {},
   "outputs": [],
   "source": [
    "# Given an unbiased evaluation  (Question #E211)\n",
    "# ----------------------------------\n",
    "y_pred3 = grid3.predict(X_test)"
   ]
  },
  {
   "cell_type": "code",
   "execution_count": 39,
   "metadata": {},
   "outputs": [
    {
     "name": "stdout",
     "output_type": "stream",
     "text": [
      "              precision    recall  f1-score   support\n",
      "\n",
      "           0       0.96      0.93      0.94      4498\n",
      "           1       0.87      0.91      0.89      2278\n",
      "\n",
      "    accuracy                           0.93      6776\n",
      "   macro avg       0.91      0.92      0.92      6776\n",
      "weighted avg       0.93      0.93      0.93      6776\n",
      "\n"
     ]
    }
   ],
   "source": [
    "print(classification_report(y_test,y_pred3))"
   ]
  },
  {
   "cell_type": "code",
   "execution_count": 40,
   "metadata": {},
   "outputs": [
    {
     "data": {
      "text/html": [
       "<div>\n",
       "<style scoped>\n",
       "    .dataframe tbody tr th:only-of-type {\n",
       "        vertical-align: middle;\n",
       "    }\n",
       "\n",
       "    .dataframe tbody tr th {\n",
       "        vertical-align: top;\n",
       "    }\n",
       "\n",
       "    .dataframe thead th {\n",
       "        text-align: right;\n",
       "    }\n",
       "</style>\n",
       "<table border=\"1\" class=\"dataframe\">\n",
       "  <thead>\n",
       "    <tr style=\"text-align: right;\">\n",
       "      <th></th>\n",
       "      <th>0</th>\n",
       "      <th>1</th>\n",
       "    </tr>\n",
       "  </thead>\n",
       "  <tbody>\n",
       "    <tr>\n",
       "      <th>0</th>\n",
       "      <td>4194</td>\n",
       "      <td>304</td>\n",
       "    </tr>\n",
       "    <tr>\n",
       "      <th>1</th>\n",
       "      <td>194</td>\n",
       "      <td>2084</td>\n",
       "    </tr>\n",
       "  </tbody>\n",
       "</table>\n",
       "</div>"
      ],
      "text/plain": [
       "      0     1\n",
       "0  4194   304\n",
       "1   194  2084"
      ]
     },
     "execution_count": 40,
     "metadata": {},
     "output_type": "execute_result"
    }
   ],
   "source": [
    "pd.DataFrame(confusion_matrix(y_test,y_pred3))"
   ]
  },
  {
   "cell_type": "markdown",
   "metadata": {},
   "source": [
    "#### <center>Record the optimal hyperparameters and performance resulting from this pipeline.</center>"
   ]
  },
  {
   "cell_type": "raw",
   "metadata": {},
   "source": [
    "# Detail Hyperparameters and Results below  (Question #E212)\n",
    "# ---------------------------------------------\n",
    "\n",
    "This method used RFE and a random forest model with an isolation forest to remove outliers. The selected hyperparameters were 20 features, No max depth and 1400 estimators. This model performed similar to gradient boosting. However, the random forest performed marginally better.\n",
    "\n",
    "\n",
    "\n",
    "\n",
    "\n",
    "\n"
   ]
  },
  {
   "cell_type": "markdown",
   "metadata": {},
   "source": [
    "## Compare these three pipelines and discuss findings"
   ]
  },
  {
   "cell_type": "raw",
   "metadata": {},
   "source": [
    "# Write your analysis in this cell (Question #E213)\n",
    "# ----------------------------------\n",
    "\n",
    "The best pipeline was the third pipeline. One thing I noticed in this process was that despite different selection techniques, the cross validated scores were better with the most number of features available to the grid search. This indicates to me that there are important indicators in all of the features.\n",
    "\n",
    "\n",
    "\n",
    "\n",
    "\n"
   ]
  },
  {
   "cell_type": "markdown",
   "metadata": {},
   "source": [
    "### Pickle the required pipeline/models for Part III."
   ]
  },
  {
   "cell_type": "code",
   "execution_count": 41,
   "metadata": {},
   "outputs": [
    {
     "data": {
      "text/plain": [
       "['models.pkl']"
      ]
     },
     "execution_count": 41,
     "metadata": {},
     "output_type": "execute_result"
    }
   ],
   "source": [
    "import joblib\n",
    "\n",
    "joblib.dump([pipe,pipe2,pipe3],\"models.pkl\")\n",
    "\n",
    "\n"
   ]
  }
 ],
 "metadata": {
  "kernelspec": {
   "display_name": "Python 3 (ipykernel)",
   "language": "python",
   "name": "python3"
  },
  "language_info": {
   "codemirror_mode": {
    "name": "ipython",
    "version": 3
   },
   "file_extension": ".py",
   "mimetype": "text/x-python",
   "name": "python",
   "nbconvert_exporter": "python",
   "pygments_lexer": "ipython3",
   "version": "3.10.9"
  }
 },
 "nbformat": 4,
 "nbformat_minor": 4
}
