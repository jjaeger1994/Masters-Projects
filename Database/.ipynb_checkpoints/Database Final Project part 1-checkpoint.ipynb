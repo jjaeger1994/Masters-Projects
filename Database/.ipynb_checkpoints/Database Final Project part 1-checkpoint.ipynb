{
 "cells": [
  {
   "cell_type": "markdown",
   "metadata": {
    "toc": "true"
   },
   "source": [
    "# Final Project Part I\n"
   ]
  },
  {
   "cell_type": "markdown",
   "metadata": {},
   "source": [
    "## Source SQLite Database\n",
    "\n",
    "* Dataset URL: **/dsa/data/DSA-7030/cc0122dbv2.sqlite.db**\n",
    "* Data Dictionary: [pdf](./ChicagoData-Description.pdf)\n",
    "* [Chicago Crimes 2001-Present Dashboard](https://data.cityofchicago.org/Public-Safety/Crimes-2001-to-present-Dashboard/5cd6-ry5g)\n",
    "\n",
    "This SQLite database consists of a set of normalized relations populated with publically available Chicago crime data for the years 2001 to 2022.  "
   ]
  },
  {
   "cell_type": "markdown",
   "metadata": {},
   "source": [
    "## Database exploration\n",
    "\n",
    "The cells below provide SQL DML statments for examining the underlying metadata in the SQLite database that describes the table, column, and relationship details.  An initial connection and subsequent SQL statements are provided for acquiring the information necessary for reconstructing the table and relational structure in your postgres SSO database."
   ]
  },
  {
   "cell_type": "code",
   "execution_count": 1,
   "metadata": {},
   "outputs": [
    {
     "data": {
      "text/plain": [
       "'Connected: @/dsa/data/DSA-7030/cc0122dbv2.sqlite.db'"
      ]
     },
     "execution_count": 1,
     "metadata": {},
     "output_type": "execute_result"
    }
   ],
   "source": [
    "#Load extention and connect to database\n",
    "%load_ext sql\n",
    "%sql sqlite:////dsa/data/DSA-7030/cc0122dbv2.sqlite.db"
   ]
  },
  {
   "cell_type": "markdown",
   "metadata": {},
   "source": [
    "## Explore the SQLite Tables List\n",
    "\n",
    "This quiery simply lists the names of the database tables."
   ]
  },
  {
   "cell_type": "code",
   "execution_count": 2,
   "metadata": {},
   "outputs": [
    {
     "name": "stdout",
     "output_type": "stream",
     "text": [
      " * sqlite:////dsa/data/DSA-7030/cc0122dbv2.sqlite.db\n",
      "Done.\n"
     ]
    },
    {
     "data": {
      "text/html": [
       "<table>\n",
       "    <tr>\n",
       "        <th>type</th>\n",
       "        <th>tbl_name</th>\n",
       "    </tr>\n",
       "    <tr>\n",
       "        <td>table</td>\n",
       "        <td>cc_case_location</td>\n",
       "    </tr>\n",
       "    <tr>\n",
       "        <td>table</td>\n",
       "        <td>cc_cases</td>\n",
       "    </tr>\n",
       "    <tr>\n",
       "        <td>table</td>\n",
       "        <td>cc_iucr_codes</td>\n",
       "    </tr>\n",
       "    <tr>\n",
       "        <td>table</td>\n",
       "        <td>cc_iucr_codes_primary_descriptions</td>\n",
       "    </tr>\n",
       "    <tr>\n",
       "        <td>table</td>\n",
       "        <td>cc_iucr_codes_secondary_descriptions</td>\n",
       "    </tr>\n",
       "    <tr>\n",
       "        <td>table</td>\n",
       "        <td>cc_nibrs_categories</td>\n",
       "    </tr>\n",
       "    <tr>\n",
       "        <td>table</td>\n",
       "        <td>cc_nibrs_crimes_against</td>\n",
       "    </tr>\n",
       "    <tr>\n",
       "        <td>table</td>\n",
       "        <td>cc_nibrs_fbicode_offenses</td>\n",
       "    </tr>\n",
       "    <tr>\n",
       "        <td>table</td>\n",
       "        <td>cc_nibrs_offenses_crimes_aginst</td>\n",
       "    </tr>\n",
       "</table>"
      ],
      "text/plain": [
       "[('table', 'cc_case_location'),\n",
       " ('table', 'cc_cases'),\n",
       " ('table', 'cc_iucr_codes'),\n",
       " ('table', 'cc_iucr_codes_primary_descriptions'),\n",
       " ('table', 'cc_iucr_codes_secondary_descriptions'),\n",
       " ('table', 'cc_nibrs_categories'),\n",
       " ('table', 'cc_nibrs_crimes_against'),\n",
       " ('table', 'cc_nibrs_fbicode_offenses'),\n",
       " ('table', 'cc_nibrs_offenses_crimes_aginst')]"
      ]
     },
     "execution_count": 2,
     "metadata": {},
     "output_type": "execute_result"
    }
   ],
   "source": [
    "%%sql\n",
    "SELECT distinct m.type, m.tbl_name --m.sql\n",
    "FROM sqlite_master AS m,\n",
    "     pragma_table_info(m.name) AS t\n",
    "WHERE m.type = 'table'\n",
    "order by m.name, t.pk DESC"
   ]
  },
  {
   "cell_type": "markdown",
   "metadata": {},
   "source": [
    "## Explore Column Details\n",
    "\n",
    "The query below provdes the complete list of tables and their columns with important details.\n",
    "\n",
    "* **tbl_name** = Name of the table\n",
    "* **name** = column name\n",
    "* **type** = declared data type\n",
    "* **notnull** = indicates column declared as NOT NULL\n",
    "* **pk** = indicates column is the primary key"
   ]
  },
  {
   "cell_type": "code",
   "execution_count": 3,
   "metadata": {
    "scrolled": true
   },
   "outputs": [
    {
     "name": "stdout",
     "output_type": "stream",
     "text": [
      " * sqlite:////dsa/data/DSA-7030/cc0122dbv2.sqlite.db\n",
      "Done.\n"
     ]
    },
    {
     "data": {
      "text/html": [
       "<table>\n",
       "    <tr>\n",
       "        <th>tbl_name</th>\n",
       "        <th>cid</th>\n",
       "        <th>name</th>\n",
       "        <th>type</th>\n",
       "        <th>notnull</th>\n",
       "        <th>dflt_value</th>\n",
       "        <th>pk</th>\n",
       "    </tr>\n",
       "    <tr>\n",
       "        <td>cc_case_location</td>\n",
       "        <td>0</td>\n",
       "        <td>case_number</td>\n",
       "        <td>varchar(20)</td>\n",
       "        <td>0</td>\n",
       "        <td>None</td>\n",
       "        <td>1</td>\n",
       "    </tr>\n",
       "    <tr>\n",
       "        <td>cc_case_location</td>\n",
       "        <td>1</td>\n",
       "        <td>block</td>\n",
       "        <td>varchar(100)</td>\n",
       "        <td>0</td>\n",
       "        <td>None</td>\n",
       "        <td>0</td>\n",
       "    </tr>\n",
       "    <tr>\n",
       "        <td>cc_case_location</td>\n",
       "        <td>2</td>\n",
       "        <td>location_description</td>\n",
       "        <td>varchar(100)</td>\n",
       "        <td>0</td>\n",
       "        <td>None</td>\n",
       "        <td>0</td>\n",
       "    </tr>\n",
       "    <tr>\n",
       "        <td>cc_case_location</td>\n",
       "        <td>3</td>\n",
       "        <td>community_area</td>\n",
       "        <td>integer</td>\n",
       "        <td>0</td>\n",
       "        <td>None</td>\n",
       "        <td>0</td>\n",
       "    </tr>\n",
       "    <tr>\n",
       "        <td>cc_case_location</td>\n",
       "        <td>4</td>\n",
       "        <td>ward</td>\n",
       "        <td>integer</td>\n",
       "        <td>0</td>\n",
       "        <td>None</td>\n",
       "        <td>0</td>\n",
       "    </tr>\n",
       "    <tr>\n",
       "        <td>cc_case_location</td>\n",
       "        <td>5</td>\n",
       "        <td>district</td>\n",
       "        <td>integer</td>\n",
       "        <td>0</td>\n",
       "        <td>None</td>\n",
       "        <td>0</td>\n",
       "    </tr>\n",
       "    <tr>\n",
       "        <td>cc_case_location</td>\n",
       "        <td>6</td>\n",
       "        <td>beat</td>\n",
       "        <td>integer</td>\n",
       "        <td>0</td>\n",
       "        <td>None</td>\n",
       "        <td>0</td>\n",
       "    </tr>\n",
       "    <tr>\n",
       "        <td>cc_case_location</td>\n",
       "        <td>7</td>\n",
       "        <td>latitude</td>\n",
       "        <td>real</td>\n",
       "        <td>0</td>\n",
       "        <td>None</td>\n",
       "        <td>0</td>\n",
       "    </tr>\n",
       "    <tr>\n",
       "        <td>cc_case_location</td>\n",
       "        <td>8</td>\n",
       "        <td>longitude</td>\n",
       "        <td>real</td>\n",
       "        <td>0</td>\n",
       "        <td>None</td>\n",
       "        <td>0</td>\n",
       "    </tr>\n",
       "    <tr>\n",
       "        <td>cc_iucr_codes</td>\n",
       "        <td>0</td>\n",
       "        <td>iucr_code</td>\n",
       "        <td>varchar(10)</td>\n",
       "        <td>0</td>\n",
       "        <td>None</td>\n",
       "        <td>1</td>\n",
       "    </tr>\n",
       "    <tr>\n",
       "        <td>cc_iucr_codes</td>\n",
       "        <td>1</td>\n",
       "        <td>iucr_index_code</td>\n",
       "        <td>char</td>\n",
       "        <td>0</td>\n",
       "        <td>None</td>\n",
       "        <td>0</td>\n",
       "    </tr>\n",
       "    <tr>\n",
       "        <td>cc_iucr_codes_primary_descriptions</td>\n",
       "        <td>0</td>\n",
       "        <td>iucr_code</td>\n",
       "        <td>varchar(10)</td>\n",
       "        <td>0</td>\n",
       "        <td>None</td>\n",
       "        <td>1</td>\n",
       "    </tr>\n",
       "    <tr>\n",
       "        <td>cc_iucr_codes_primary_descriptions</td>\n",
       "        <td>1</td>\n",
       "        <td>iucr_primary_desc</td>\n",
       "        <td>varchar(100)</td>\n",
       "        <td>0</td>\n",
       "        <td>None</td>\n",
       "        <td>0</td>\n",
       "    </tr>\n",
       "    <tr>\n",
       "        <td>cc_iucr_codes_secondary_descriptions</td>\n",
       "        <td>0</td>\n",
       "        <td>iucr_code</td>\n",
       "        <td>varchar(10)</td>\n",
       "        <td>0</td>\n",
       "        <td>None</td>\n",
       "        <td>1</td>\n",
       "    </tr>\n",
       "    <tr>\n",
       "        <td>cc_iucr_codes_secondary_descriptions</td>\n",
       "        <td>1</td>\n",
       "        <td>iucr_secondary_desc</td>\n",
       "        <td>varchar(100)</td>\n",
       "        <td>0</td>\n",
       "        <td>None</td>\n",
       "        <td>0</td>\n",
       "    </tr>\n",
       "    <tr>\n",
       "        <td>cc_nibrs_categories</td>\n",
       "        <td>0</td>\n",
       "        <td>nibrs_offense_code</td>\n",
       "        <td>varchar(10)</td>\n",
       "        <td>1</td>\n",
       "        <td>None</td>\n",
       "        <td>1</td>\n",
       "    </tr>\n",
       "    <tr>\n",
       "        <td>cc_nibrs_categories</td>\n",
       "        <td>1</td>\n",
       "        <td>nibrs_offense_category_name</td>\n",
       "        <td>varchar(50)</td>\n",
       "        <td>0</td>\n",
       "        <td>None</td>\n",
       "        <td>0</td>\n",
       "    </tr>\n",
       "    <tr>\n",
       "        <td>cc_nibrs_crimes_against</td>\n",
       "        <td>0</td>\n",
       "        <td>nibrs_crime_against</td>\n",
       "        <td>varchar(20)</td>\n",
       "        <td>1</td>\n",
       "        <td>None</td>\n",
       "        <td>1</td>\n",
       "    </tr>\n",
       "    <tr>\n",
       "        <td>cc_nibrs_fbicode_offenses</td>\n",
       "        <td>0</td>\n",
       "        <td>nibrs_offense_code</td>\n",
       "        <td>varchar(10)</td>\n",
       "        <td>1</td>\n",
       "        <td>None</td>\n",
       "        <td>1</td>\n",
       "    </tr>\n",
       "    <tr>\n",
       "        <td>cc_nibrs_fbicode_offenses</td>\n",
       "        <td>1</td>\n",
       "        <td>nibrs_offense_name</td>\n",
       "        <td>varchar(100)</td>\n",
       "        <td>1</td>\n",
       "        <td>None</td>\n",
       "        <td>0</td>\n",
       "    </tr>\n",
       "    <tr>\n",
       "        <td>cc_nibrs_offenses_crimes_aginst</td>\n",
       "        <td>0</td>\n",
       "        <td>nibrs_crime_against</td>\n",
       "        <td>varchar(20)</td>\n",
       "        <td>0</td>\n",
       "        <td>None</td>\n",
       "        <td>1</td>\n",
       "    </tr>\n",
       "    <tr>\n",
       "        <td>cc_nibrs_offenses_crimes_aginst</td>\n",
       "        <td>1</td>\n",
       "        <td>nibrs_offense_code</td>\n",
       "        <td>varchar(10)</td>\n",
       "        <td>1</td>\n",
       "        <td>None</td>\n",
       "        <td>2</td>\n",
       "    </tr>\n",
       "    <tr>\n",
       "        <td>cc_cases</td>\n",
       "        <td>0</td>\n",
       "        <td>case_number</td>\n",
       "        <td>varchar(20)</td>\n",
       "        <td>0</td>\n",
       "        <td>None</td>\n",
       "        <td>1</td>\n",
       "    </tr>\n",
       "    <tr>\n",
       "        <td>cc_cases</td>\n",
       "        <td>1</td>\n",
       "        <td>incident_date</td>\n",
       "        <td>timestamp</td>\n",
       "        <td>0</td>\n",
       "        <td>None</td>\n",
       "        <td>0</td>\n",
       "    </tr>\n",
       "    <tr>\n",
       "        <td>cc_cases</td>\n",
       "        <td>2</td>\n",
       "        <td>iucr_code</td>\n",
       "        <td>varchar(10)</td>\n",
       "        <td>0</td>\n",
       "        <td>None</td>\n",
       "        <td>0</td>\n",
       "    </tr>\n",
       "    <tr>\n",
       "        <td>cc_cases</td>\n",
       "        <td>3</td>\n",
       "        <td>nibrs_fbi_offense_code</td>\n",
       "        <td>varchar(10)</td>\n",
       "        <td>0</td>\n",
       "        <td>None</td>\n",
       "        <td>0</td>\n",
       "    </tr>\n",
       "    <tr>\n",
       "        <td>cc_cases</td>\n",
       "        <td>4</td>\n",
       "        <td>arrest</td>\n",
       "        <td>boolean</td>\n",
       "        <td>0</td>\n",
       "        <td>None</td>\n",
       "        <td>0</td>\n",
       "    </tr>\n",
       "    <tr>\n",
       "        <td>cc_cases</td>\n",
       "        <td>5</td>\n",
       "        <td>domestic</td>\n",
       "        <td>boolean</td>\n",
       "        <td>0</td>\n",
       "        <td>None</td>\n",
       "        <td>0</td>\n",
       "    </tr>\n",
       "    <tr>\n",
       "        <td>cc_cases</td>\n",
       "        <td>6</td>\n",
       "        <td>updated_on</td>\n",
       "        <td>timestamp</td>\n",
       "        <td>0</td>\n",
       "        <td>None</td>\n",
       "        <td>0</td>\n",
       "    </tr>\n",
       "</table>"
      ],
      "text/plain": [
       "[('cc_case_location', 0, 'case_number', 'varchar(20)', 0, None, 1),\n",
       " ('cc_case_location', 1, 'block', 'varchar(100)', 0, None, 0),\n",
       " ('cc_case_location', 2, 'location_description', 'varchar(100)', 0, None, 0),\n",
       " ('cc_case_location', 3, 'community_area', 'integer', 0, None, 0),\n",
       " ('cc_case_location', 4, 'ward', 'integer', 0, None, 0),\n",
       " ('cc_case_location', 5, 'district', 'integer', 0, None, 0),\n",
       " ('cc_case_location', 6, 'beat', 'integer', 0, None, 0),\n",
       " ('cc_case_location', 7, 'latitude', 'real', 0, None, 0),\n",
       " ('cc_case_location', 8, 'longitude', 'real', 0, None, 0),\n",
       " ('cc_iucr_codes', 0, 'iucr_code', 'varchar(10)', 0, None, 1),\n",
       " ('cc_iucr_codes', 1, 'iucr_index_code', 'char', 0, None, 0),\n",
       " ('cc_iucr_codes_primary_descriptions', 0, 'iucr_code', 'varchar(10)', 0, None, 1),\n",
       " ('cc_iucr_codes_primary_descriptions', 1, 'iucr_primary_desc', 'varchar(100)', 0, None, 0),\n",
       " ('cc_iucr_codes_secondary_descriptions', 0, 'iucr_code', 'varchar(10)', 0, None, 1),\n",
       " ('cc_iucr_codes_secondary_descriptions', 1, 'iucr_secondary_desc', 'varchar(100)', 0, None, 0),\n",
       " ('cc_nibrs_categories', 0, 'nibrs_offense_code', 'varchar(10)', 1, None, 1),\n",
       " ('cc_nibrs_categories', 1, 'nibrs_offense_category_name', 'varchar(50)', 0, None, 0),\n",
       " ('cc_nibrs_crimes_against', 0, 'nibrs_crime_against', 'varchar(20)', 1, None, 1),\n",
       " ('cc_nibrs_fbicode_offenses', 0, 'nibrs_offense_code', 'varchar(10)', 1, None, 1),\n",
       " ('cc_nibrs_fbicode_offenses', 1, 'nibrs_offense_name', 'varchar(100)', 1, None, 0),\n",
       " ('cc_nibrs_offenses_crimes_aginst', 0, 'nibrs_crime_against', 'varchar(20)', 0, None, 1),\n",
       " ('cc_nibrs_offenses_crimes_aginst', 1, 'nibrs_offense_code', 'varchar(10)', 1, None, 2),\n",
       " ('cc_cases', 0, 'case_number', 'varchar(20)', 0, None, 1),\n",
       " ('cc_cases', 1, 'incident_date', 'timestamp', 0, None, 0),\n",
       " ('cc_cases', 2, 'iucr_code', 'varchar(10)', 0, None, 0),\n",
       " ('cc_cases', 3, 'nibrs_fbi_offense_code', 'varchar(10)', 0, None, 0),\n",
       " ('cc_cases', 4, 'arrest', 'boolean', 0, None, 0),\n",
       " ('cc_cases', 5, 'domestic', 'boolean', 0, None, 0),\n",
       " ('cc_cases', 6, 'updated_on', 'timestamp', 0, None, 0)]"
      ]
     },
     "execution_count": 3,
     "metadata": {},
     "output_type": "execute_result"
    }
   ],
   "source": [
    "%%sql \n",
    "SELECT m.tbl_name, t.* --m.sql\n",
    " FROM pragma_table_info(m.tbl_name) t, sqlite_master m WHERE m.type='table';"
   ]
  },
  {
   "cell_type": "markdown",
   "metadata": {},
   "source": [
    "## Below query provdes the list of columns that are declared \"unique\" for referential integrity enforcement.\n",
    "\n",
    "<u>Query Output Descriptions</u>\n",
    "* **name** = the table name begining at the \"cc_\" -- cc_case_location is table name.\n",
    "* **unique** = indicates the column is declared \"unique\"\n",
    "* **origin** = indicates the columns is declared as primary key\n",
    "* **name_1** = column name"
   ]
  },
  {
   "cell_type": "code",
   "execution_count": 4,
   "metadata": {},
   "outputs": [
    {
     "name": "stdout",
     "output_type": "stream",
     "text": [
      " * sqlite:////dsa/data/DSA-7030/cc0122dbv2.sqlite.db\n",
      "Done.\n"
     ]
    },
    {
     "data": {
      "text/html": [
       "<table>\n",
       "    <tr>\n",
       "        <th>seq</th>\n",
       "        <th>name</th>\n",
       "        <th>unique</th>\n",
       "        <th>origin</th>\n",
       "        <th>partial</th>\n",
       "        <th>seqno</th>\n",
       "        <th>cid</th>\n",
       "        <th>name_1</th>\n",
       "    </tr>\n",
       "    <tr>\n",
       "        <td>0</td>\n",
       "        <td>sqlite_autoindex_cc_case_location_1</td>\n",
       "        <td>1</td>\n",
       "        <td>pk</td>\n",
       "        <td>0</td>\n",
       "        <td>0</td>\n",
       "        <td>0</td>\n",
       "        <td>case_number</td>\n",
       "    </tr>\n",
       "    <tr>\n",
       "        <td>0</td>\n",
       "        <td>sqlite_autoindex_cc_iucr_codes_1</td>\n",
       "        <td>1</td>\n",
       "        <td>pk</td>\n",
       "        <td>0</td>\n",
       "        <td>0</td>\n",
       "        <td>0</td>\n",
       "        <td>iucr_code</td>\n",
       "    </tr>\n",
       "    <tr>\n",
       "        <td>0</td>\n",
       "        <td>sqlite_autoindex_cc_iucr_codes_primary_descriptions_1</td>\n",
       "        <td>1</td>\n",
       "        <td>pk</td>\n",
       "        <td>0</td>\n",
       "        <td>0</td>\n",
       "        <td>0</td>\n",
       "        <td>iucr_code</td>\n",
       "    </tr>\n",
       "    <tr>\n",
       "        <td>0</td>\n",
       "        <td>sqlite_autoindex_cc_iucr_codes_secondary_descriptions_1</td>\n",
       "        <td>1</td>\n",
       "        <td>pk</td>\n",
       "        <td>0</td>\n",
       "        <td>0</td>\n",
       "        <td>0</td>\n",
       "        <td>iucr_code</td>\n",
       "    </tr>\n",
       "    <tr>\n",
       "        <td>0</td>\n",
       "        <td>sqlite_autoindex_cc_nibrs_categories_1</td>\n",
       "        <td>1</td>\n",
       "        <td>pk</td>\n",
       "        <td>0</td>\n",
       "        <td>0</td>\n",
       "        <td>0</td>\n",
       "        <td>nibrs_offense_code</td>\n",
       "    </tr>\n",
       "    <tr>\n",
       "        <td>0</td>\n",
       "        <td>sqlite_autoindex_cc_nibrs_crimes_against_1</td>\n",
       "        <td>1</td>\n",
       "        <td>pk</td>\n",
       "        <td>0</td>\n",
       "        <td>0</td>\n",
       "        <td>0</td>\n",
       "        <td>nibrs_crime_against</td>\n",
       "    </tr>\n",
       "    <tr>\n",
       "        <td>0</td>\n",
       "        <td>sqlite_autoindex_cc_nibrs_fbicode_offenses_1</td>\n",
       "        <td>1</td>\n",
       "        <td>pk</td>\n",
       "        <td>0</td>\n",
       "        <td>0</td>\n",
       "        <td>0</td>\n",
       "        <td>nibrs_offense_code</td>\n",
       "    </tr>\n",
       "    <tr>\n",
       "        <td>0</td>\n",
       "        <td>sqlite_autoindex_cc_nibrs_offenses_crimes_aginst_1</td>\n",
       "        <td>1</td>\n",
       "        <td>pk</td>\n",
       "        <td>0</td>\n",
       "        <td>0</td>\n",
       "        <td>0</td>\n",
       "        <td>nibrs_crime_against</td>\n",
       "    </tr>\n",
       "    <tr>\n",
       "        <td>0</td>\n",
       "        <td>sqlite_autoindex_cc_nibrs_offenses_crimes_aginst_1</td>\n",
       "        <td>1</td>\n",
       "        <td>pk</td>\n",
       "        <td>0</td>\n",
       "        <td>1</td>\n",
       "        <td>1</td>\n",
       "        <td>nibrs_offense_code</td>\n",
       "    </tr>\n",
       "    <tr>\n",
       "        <td>0</td>\n",
       "        <td>sqlite_autoindex_cc_cases_1</td>\n",
       "        <td>1</td>\n",
       "        <td>pk</td>\n",
       "        <td>0</td>\n",
       "        <td>0</td>\n",
       "        <td>0</td>\n",
       "        <td>case_number</td>\n",
       "    </tr>\n",
       "</table>"
      ],
      "text/plain": [
       "[(0, 'sqlite_autoindex_cc_case_location_1', 1, 'pk', 0, 0, 0, 'case_number'),\n",
       " (0, 'sqlite_autoindex_cc_iucr_codes_1', 1, 'pk', 0, 0, 0, 'iucr_code'),\n",
       " (0, 'sqlite_autoindex_cc_iucr_codes_primary_descriptions_1', 1, 'pk', 0, 0, 0, 'iucr_code'),\n",
       " (0, 'sqlite_autoindex_cc_iucr_codes_secondary_descriptions_1', 1, 'pk', 0, 0, 0, 'iucr_code'),\n",
       " (0, 'sqlite_autoindex_cc_nibrs_categories_1', 1, 'pk', 0, 0, 0, 'nibrs_offense_code'),\n",
       " (0, 'sqlite_autoindex_cc_nibrs_crimes_against_1', 1, 'pk', 0, 0, 0, 'nibrs_crime_against'),\n",
       " (0, 'sqlite_autoindex_cc_nibrs_fbicode_offenses_1', 1, 'pk', 0, 0, 0, 'nibrs_offense_code'),\n",
       " (0, 'sqlite_autoindex_cc_nibrs_offenses_crimes_aginst_1', 1, 'pk', 0, 0, 0, 'nibrs_crime_against'),\n",
       " (0, 'sqlite_autoindex_cc_nibrs_offenses_crimes_aginst_1', 1, 'pk', 0, 1, 1, 'nibrs_offense_code'),\n",
       " (0, 'sqlite_autoindex_cc_cases_1', 1, 'pk', 0, 0, 0, 'case_number')]"
      ]
     },
     "execution_count": 4,
     "metadata": {},
     "output_type": "execute_result"
    }
   ],
   "source": [
    "%%sql \n",
    "select il.*,ii.* --,m.sql\n",
    "    from sqlite_master m, \n",
    "    pragma_index_list( m.name ) as il,\n",
    "    pragma_index_info(il.name) as ii"
   ]
  },
  {
   "cell_type": "markdown",
   "metadata": {},
   "source": [
    "## Explore Relationship Details (get foreign key references)\n",
    "\n",
    "The below query exracts the details describing the foreign key referenes bewtween tables.\n",
    "\n",
    "* **from_table** = the name of the one-side table\n",
    "* **from_column** = the name of the foreign key column in the one-side table\n",
    "* **to_table** = the name of the many-side reference table\n",
    "* **to_column** = the name of the foreign key column in the one-side reference table\n",
    "\n",
    "These metadata can be translated to the necessary SQL statement to establish a relationship between tables:\n",
    "\n",
    "```SQL\n",
    "FOREIGN KEY (<from_column>) REFERENCES <to_table>(<to_column>)\n",
    "```"
   ]
  },
  {
   "cell_type": "code",
   "execution_count": 5,
   "metadata": {},
   "outputs": [
    {
     "name": "stdout",
     "output_type": "stream",
     "text": [
      " * sqlite:////dsa/data/DSA-7030/cc0122dbv2.sqlite.db\n",
      "Done.\n"
     ]
    },
    {
     "data": {
      "text/html": [
       "<table>\n",
       "    <tr>\n",
       "        <th>from_table</th>\n",
       "        <th>from_column</th>\n",
       "        <th>to_table</th>\n",
       "        <th>to_column</th>\n",
       "    </tr>\n",
       "    <tr>\n",
       "        <td>cc_case_location</td>\n",
       "        <td>case_number</td>\n",
       "        <td>cc_cases</td>\n",
       "        <td>case_number</td>\n",
       "    </tr>\n",
       "    <tr>\n",
       "        <td>cc_cases</td>\n",
       "        <td>iucr_code</td>\n",
       "        <td>cc_iucr_codes</td>\n",
       "        <td>iucr_code</td>\n",
       "    </tr>\n",
       "    <tr>\n",
       "        <td>cc_iucr_codes</td>\n",
       "        <td>iucr_code</td>\n",
       "        <td>cc_cases</td>\n",
       "        <td>iucr_code</td>\n",
       "    </tr>\n",
       "    <tr>\n",
       "        <td>cc_iucr_codes_primary_descriptions</td>\n",
       "        <td>iucr_code</td>\n",
       "        <td>cc_iucr_codes</td>\n",
       "        <td>iucr_code</td>\n",
       "    </tr>\n",
       "    <tr>\n",
       "        <td>cc_iucr_codes_secondary_descriptions</td>\n",
       "        <td>iucr_code</td>\n",
       "        <td>cc_iucr_codes</td>\n",
       "        <td>iucr_code</td>\n",
       "    </tr>\n",
       "    <tr>\n",
       "        <td>cc_nibrs_fbicode_offenses</td>\n",
       "        <td>nibrs_offense_code</td>\n",
       "        <td>cc_cases</td>\n",
       "        <td>nibrs_fbi_offense_code</td>\n",
       "    </tr>\n",
       "    <tr>\n",
       "        <td>cc_nibrs_fbicode_offenses</td>\n",
       "        <td>nibrs_offense_code</td>\n",
       "        <td>cc_nibrs_categories</td>\n",
       "        <td>nibrs_offense_code</td>\n",
       "    </tr>\n",
       "    <tr>\n",
       "        <td>cc_nibrs_offenses_crimes_aginst</td>\n",
       "        <td>nibrs_offense_code</td>\n",
       "        <td>cc_nibrs_fbicode_offenses</td>\n",
       "        <td>nibrs_offense_code</td>\n",
       "    </tr>\n",
       "    <tr>\n",
       "        <td>cc_nibrs_offenses_crimes_aginst</td>\n",
       "        <td>nibrs_crime_against</td>\n",
       "        <td>cc_nibrs_crimes_against</td>\n",
       "        <td>nibrs_crime_against</td>\n",
       "    </tr>\n",
       "</table>"
      ],
      "text/plain": [
       "[('cc_case_location', 'case_number', 'cc_cases', 'case_number'),\n",
       " ('cc_cases', 'iucr_code', 'cc_iucr_codes', 'iucr_code'),\n",
       " ('cc_iucr_codes', 'iucr_code', 'cc_cases', 'iucr_code'),\n",
       " ('cc_iucr_codes_primary_descriptions', 'iucr_code', 'cc_iucr_codes', 'iucr_code'),\n",
       " ('cc_iucr_codes_secondary_descriptions', 'iucr_code', 'cc_iucr_codes', 'iucr_code'),\n",
       " ('cc_nibrs_fbicode_offenses', 'nibrs_offense_code', 'cc_cases', 'nibrs_fbi_offense_code'),\n",
       " ('cc_nibrs_fbicode_offenses', 'nibrs_offense_code', 'cc_nibrs_categories', 'nibrs_offense_code'),\n",
       " ('cc_nibrs_offenses_crimes_aginst', 'nibrs_offense_code', 'cc_nibrs_fbicode_offenses', 'nibrs_offense_code'),\n",
       " ('cc_nibrs_offenses_crimes_aginst', 'nibrs_crime_against', 'cc_nibrs_crimes_against', 'nibrs_crime_against')]"
      ]
     },
     "execution_count": 5,
     "metadata": {},
     "output_type": "execute_result"
    }
   ],
   "source": [
    "%%sql\n",
    "SELECT \n",
    "    m.name as from_table, f.'from' as from_column, f.'table' as to_table, f.'to' as to_column --, m.sql\n",
    "FROM\n",
    "    sqlite_master m\n",
    "    JOIN pragma_foreign_key_list(m.name) f ON m.name != f.\"table\"\n",
    "WHERE m.type = 'table'\n",
    "ORDER BY m.name\n",
    ";"
   ]
  },
  {
   "cell_type": "markdown",
   "metadata": {},
   "source": [
    "## Using the metadata from above:\n",
    "\n",
    "## Implement the required CREATE TABLE statements for establishing the Chicago Crime Database in your SSO dsa_student database.  \n",
    "\n",
    "The SQL statement takes this form:\n",
    "\n",
    "```SQL\n",
    "CREATE TABLE SSO.tbl_name (\n",
    " column_name_1 data_type <unqiue, not null>,\n",
    " column_name_N data_type <unqiue, not null>,\n",
    " PRIMARY KEY (<column_name>),\n",
    " <FOREIGN KEY (from_column_name) REFERENCES <SSO.to_table_name>(to_column_name)\n",
    " );\n",
    "```\n",
    "\n",
    "**The database tables and column names created in your SSO postgres server dsa_student database should be named exactly as they appear in the ```cc0122dbv2.sqlite.db``` SQLite database.**\n",
    "\n",
    "Use as many cells as desired."
   ]
  },
  {
   "cell_type": "raw",
   "metadata": {},
   "source": [
    "#sql create table statements\n",
    "##Make First\n",
    "\n",
    "CREATE TABLE jwj8c8.cc_case_location (\n",
    "   case_number varchar(20) not null unique,\n",
    "   block varchar(100),\n",
    "   location_description varchar(100),\n",
    "   community_area integer,\n",
    "   ward integer,\n",
    "   district integer,\n",
    "   beat integer,\n",
    "   latitude real,\n",
    "   longitude real, \n",
    "   PRIMARY KEY (case_number),\n",
    "   FOREIGN KEY (case_number) REFERENCES (jwj8c8.cc_cases)\n",
    ");\n"
   ]
  },
  {
   "cell_type": "raw",
   "metadata": {},
   "source": [
    "##Make ninth (last)\n",
    "\n",
    "CREATE TABLE jwj8c8.cc_cases (\n",
    "    case_number varchar(20) not null unique,\n",
    "    incident_date timestamp,\n",
    "    iucr_code varchar(10),\n",
    "    nibrs_fbi_offense_code varchar(10),\n",
    "    arrest boolean,\n",
    "    domestic boolean,\n",
    "    updated_on timestamp,\n",
    "    PRIMARY KEY (case_number)\n",
    ");"
   ]
  },
  {
   "cell_type": "raw",
   "metadata": {},
   "source": [
    "##Make after primary and secondary (eigth)\n",
    "\n",
    "CREATE TABLE jwj8c8.cc_iucr_codes (\n",
    "    iucr_code varchar(10) not null unique,\n",
    "    iucr_index_code char,\n",
    "    PRIMARY KEY (iucr_code)\n",
    "    FOREIGN KEY (iucr_code) REFERENCES jwj8c8.cc_cases(iucr_code)\n",
    ");"
   ]
  },
  {
   "cell_type": "raw",
   "metadata": {},
   "source": [
    "##Make second\n",
    "\n",
    "CREATE TABLE jwj8c8.cc_iucr_codes_primary_descriptions (\n",
    "    iucr_code varchar(10) not null unique,\n",
    "    iucr_primary_desc varchar(100),  \n",
    "    PRIMARY KEY (iucr_code),\n",
    "    FOREIGN KEY (iucr_code) REFERENCES jwj8c8.cc_iucr_codes(iucr_code)\n",
    ");"
   ]
  },
  {
   "cell_type": "raw",
   "metadata": {},
   "source": [
    "##Make third\n",
    "\n",
    "CREATE TABLE jwj8c8.cc_iucr_codes_secondary_descriptions (\n",
    "    iucr_code varchar(10) not null unique,\n",
    "    iucr_secondary_desc varchar(100),\n",
    "    PRIMARY KEY (iucr_code),\n",
    "    FOREIGN KEY (iucr_code) REFERENCES jwj8c8.cc_iucr_codes(iucr_code)\n",
    ");"
   ]
  },
  {
   "cell_type": "raw",
   "metadata": {},
   "source": [
    "##Make fourth\n",
    "\n",
    "CREATE TABLE jwj8c8.cc_nibrs_categories (\n",
    "    nibrs_offense_code varchar(10) not null unique,\n",
    "    nibrs_offense_category_name varchar(50), \n",
    "    PRIMARY KEY (nibrs_offense_code)\n",
    ");"
   ]
  },
  {
   "cell_type": "raw",
   "metadata": {},
   "source": [
    "##Make Fifth\n",
    "\n",
    "CREATE TABLE jwj8c8.cc_nibrs_crimes_against (\n",
    "    nibrs_crime_against varchar(20) not null unique,   \n",
    "    PRIMARY KEY (nibrs_crime_against)\n",
    ");"
   ]
  },
  {
   "cell_type": "raw",
   "metadata": {},
   "source": [
    "##Make sixth \n",
    "\n",
    "CREATE TABLE jwj8c8.cc_nibrs_fbicode_offenses (\n",
    "    nibrs_offense_code varchar(20) not null unique,\n",
    "    nibrs_offense_name varchar(100) not null,\n",
    "    PRIMARY KEY (nibrs_offense_code),\n",
    "    FOREIGN KEY (nibrs_offense_code) REFERENCES jwj8c8.cc_cases (nibrs_fbi_offense_code),\n",
    "    FOREIGN KEY (nibrs_offense_code) REFERENCES jwj8c8.cc_nibrs_categories (nibrs_offense_code)\n",
    ");"
   ]
  },
  {
   "cell_type": "raw",
   "metadata": {},
   "source": [
    "##Make Seventh \n",
    "\n",
    "CREATE TABLE jwj8c8.cc_nibrs_offenses_crimes_against (\n",
    "    nibrs_crime_against varchar(20) not null unique,\n",
    "    nibrs_offense_code varchar(20) not null unique,\n",
    "    PRIMARY KEY (nibrs_crime_against,nibrs_offense_code),\n",
    "    FOREIGN KEY(nibrs_offense_code) REFERENCES jwj8c8.cc_nibrs_fbicode_offenses(nibrs_offense_code),\n",
    "    FOREIGN KEY (nibrs_crime_against) REFERENCES jwj8c8.cc_nibrs_crimes_against(nibrs_crime_against)\n",
    ");"
   ]
  },
  {
   "cell_type": "markdown",
   "metadata": {},
   "source": [
    "# Connect to your SSO database using sqlAlchmey connection and implement your database structure"
   ]
  },
  {
   "cell_type": "code",
   "execution_count": 8,
   "metadata": {},
   "outputs": [
    {
     "name": "stdout",
     "output_type": "stream",
     "text": [
      "········\n"
     ]
    }
   ],
   "source": [
    "#implement tables in SSO database\n",
    "import psycopg2\n",
    "import sqlalchemy\n",
    "import getpass\n",
    "\n",
    "user = \"jwj8c8\"\n",
    "host = \"pgsql.dsa.lan\"\n",
    "database = \"dsa_student\"\n",
    "password = getpass.getpass()\n",
    "connectionstring = \"postgresql://\" + user + \":\" + password + \"@\" + host + \"/\" + database\n",
    "\n",
    "engine = sqlalchemy.create_engine(connectionstring)\n",
    "\n",
    "connection = None\n",
    "\n",
    "try:\n",
    "    connection = engine.connect()\n",
    "except Excerption as err:\n",
    "    print(\"An error has occurred trying to connect: {}\".format(err))\n",
    "    \n",
    "del password"
   ]
  },
  {
   "cell_type": "code",
   "execution_count": 20,
   "metadata": {},
   "outputs": [],
   "source": [
    "##Deletes Tables\n",
    "with engine.connect() as cursor:\n",
    "    cursor.execute(\"DROP TABLE IF EXISTS jwj8c8.cc_case_location CASCADE\")\n",
    "    cursor.execute(\"DROP TABLE IF EXISTS jwj8c8.cc_iucr_codes_primary_descriptions CASCADE\")\n",
    "    cursor.execute(\"DROP TABLE IF EXISTS jwj8c8.cc_iucr_codes_secondary_descriptions CASCADE\")\n",
    "    cursor.execute(\"DROP TABLE IF EXISTS jwj8c8.cc_nibrs_crimes_against CASCADE\")\n",
    "    cursor.execute(\"DROP TABLE IF EXISTS jwj8c8.cc_nibrs_categories CASCADE\")\n",
    "    cursor.execute(\"DROP TABLE IF EXISTS jwj8c8.cc_iucr_codes CASCADE\")\n",
    "    cursor.execute(\"DROP TABLE IF EXISTS jwj8c8.cc_nibrs_fbicode_offenses CASCADE\")\n",
    "    cursor.execute(\"DROP TABLE IF EXISTS jwj8c8.cc_nibrs_offenses_crimes_aginst CASCADE\")\n",
    "    cursor.execute(\"DROP TABLE IF EXISTS jwj8c8.cc_cases CASCADE\")"
   ]
  },
  {
   "cell_type": "code",
   "execution_count": 22,
   "metadata": {},
   "outputs": [],
   "source": [
    "with engine.connect() as connection:\n",
    "    connection.execute('''CREATE TABLE jwj8c8.cc_iucr_codes (\n",
    "    iucr_code varchar(10) not null unique,\n",
    "    iucr_index_code char,\n",
    "    PRIMARY KEY (iucr_code)    \n",
    ");''')"
   ]
  },
  {
   "cell_type": "code",
   "execution_count": 23,
   "metadata": {},
   "outputs": [],
   "source": [
    "with engine.connect() as connection:\n",
    "    connection.execute(\"\"\"CREATE TABLE jwj8c8.cc_iucr_codes_primary_descriptions (\n",
    "    iucr_code varchar(10) not null unique,\n",
    "    iucr_primary_desc varchar(100),  \n",
    "    PRIMARY KEY (iucr_code),\n",
    "    FOREIGN KEY (iucr_code) REFERENCES jwj8c8.cc_iucr_codes(iucr_code)\n",
    ");\"\"\")"
   ]
  },
  {
   "cell_type": "code",
   "execution_count": 24,
   "metadata": {},
   "outputs": [],
   "source": [
    "with engine.connect() as connection:\n",
    "    connection.execute('''\n",
    "CREATE TABLE jwj8c8.cc_iucr_codes_secondary_descriptions (\n",
    "    iucr_code varchar(10) not null unique,\n",
    "    iucr_secondary_desc varchar(100),\n",
    "    PRIMARY KEY (iucr_code),\n",
    "    FOREIGN KEY (iucr_code) REFERENCES jwj8c8.cc_iucr_codes(iucr_code)\n",
    ");''')"
   ]
  },
  {
   "cell_type": "code",
   "execution_count": 25,
   "metadata": {},
   "outputs": [],
   "source": [
    "with engine.connect() as connection:\n",
    "    connection.execute('''CREATE TABLE jwj8c8.cc_nibrs_crimes_against (\n",
    "    nibrs_crime_against varchar(20) not null unique,   \n",
    "    PRIMARY KEY (nibrs_crime_against)\n",
    ");''')"
   ]
  },
  {
   "cell_type": "code",
   "execution_count": 26,
   "metadata": {},
   "outputs": [],
   "source": [
    "with engine.connect() as connection:\n",
    "    connection.execute('''CREATE TABLE jwj8c8.cc_nibrs_categories (\n",
    "    nibrs_offense_code varchar(10) not null unique,\n",
    "    nibrs_offense_category_name varchar(50), \n",
    "    PRIMARY KEY (nibrs_offense_code)\n",
    ");''')"
   ]
  },
  {
   "cell_type": "code",
   "execution_count": 27,
   "metadata": {},
   "outputs": [],
   "source": [
    "with engine.connect() as connection:\n",
    "    connection.execute('''CREATE TABLE jwj8c8.cc_nibrs_fbicode_offenses (\n",
    "    nibrs_offense_code varchar(20) not null unique,\n",
    "    nibrs_offense_name varchar(100) not null,\n",
    "    PRIMARY KEY (nibrs_offense_code),\n",
    "    FOREIGN KEY (nibrs_offense_code) REFERENCES jwj8c8.cc_nibrs_categories (nibrs_offense_code)\n",
    ");''')"
   ]
  },
  {
   "cell_type": "code",
   "execution_count": 28,
   "metadata": {},
   "outputs": [],
   "source": [
    "with engine.connect() as connection:\n",
    "    connection.execute('''CREATE TABLE jwj8c8.cc_nibrs_offenses_crimes_aginst (\n",
    "    nibrs_crime_against varchar(20),\n",
    "    nibrs_offense_code varchar(20),\n",
    "    PRIMARY KEY (nibrs_crime_against,nibrs_offense_code),\n",
    "    FOREIGN KEY(nibrs_offense_code) REFERENCES jwj8c8.cc_nibrs_fbicode_offenses(nibrs_offense_code),\n",
    "    FOREIGN KEY (nibrs_crime_against) REFERENCES jwj8c8.cc_nibrs_crimes_against(nibrs_crime_against)\n",
    ");''')"
   ]
  },
  {
   "cell_type": "code",
   "execution_count": 29,
   "metadata": {},
   "outputs": [],
   "source": [
    "with engine.connect() as connection:\n",
    "    connection.execute('''CREATE TABLE jwj8c8.cc_cases (\n",
    "    case_number varchar(20) not null unique,\n",
    "    incident_date timestamp,\n",
    "    iucr_code varchar(10),\n",
    "    nibrs_fbi_offense_code varchar(10),\n",
    "    arrest boolean,\n",
    "    domestic boolean,\n",
    "    updated_on timestamp,\n",
    "    PRIMARY KEY (case_number),\n",
    "    FOREIGN KEY (iucr_code) REFERENCES jwj8c8.cc_iucr_codes(iucr_code),\n",
    "    FOREIGN KEY (nibrs_fbi_offense_code) REFERENCES jwj8c8.cc_nibrs_fbicode_offenses (nibrs_offense_code)\n",
    ");''')"
   ]
  },
  {
   "cell_type": "code",
   "execution_count": 30,
   "metadata": {},
   "outputs": [],
   "source": [
    "with engine.connect() as connection:\n",
    "    connection.execute(\"\"\"CREATE TABLE jwj8c8.cc_case_location (\n",
    "   case_number varchar(20) not null unique,\n",
    "   block varchar(100),\n",
    "   location_description varchar(100),\n",
    "   community_area integer,\n",
    "   ward integer,\n",
    "   district integer,\n",
    "   beat integer,\n",
    "   latitude real,\n",
    "   longitude real, \n",
    "   PRIMARY KEY (case_number),\n",
    "   FOREIGN KEY (case_number) REFERENCES jwj8c8.cc_cases(case_number)\n",
    ");\"\"\")"
   ]
  },
  {
   "cell_type": "markdown",
   "metadata": {},
   "source": [
    "## Construct and embed your Entity Relationship Diagram\n",
    "\n",
    "Upload your ERD image to the \"final_project\" folder and update the markdown below to display it here:\n",
    "\n",
    "![ERD-HERE](chicagocrimeERD.png)\n"
   ]
  },
  {
   "cell_type": "markdown",
   "metadata": {},
   "source": [
    "# Perform the ETL of the source data to your SSO dsa_student Chicago Crime Database\n",
    "\n",
    "* Establish a connection to the the SQLite source database using sqlAlchemy\n",
    "* Establish a connection to your SSQ dsa_student postgres server destination database using sqlAlchemy\n",
    "* Peform ETL of the source data tables to the destination data tables incrementally.\n",
    "  * You may want to consider using pandas as the medium between the two databases \n",
    "     * it can easliy read sql table data\n",
    "     * hold data in a data frame\n",
    "     * make any necessary transformations to data values\n",
    "     * write to sql table data\n",
    "    "
   ]
  },
  {
   "cell_type": "code",
   "execution_count": 1,
   "metadata": {},
   "outputs": [],
   "source": [
    "# ETL Here\n",
    "##establish source connection\n",
    "import psycopg2\n",
    "import sqlalchemy\n",
    "import getpass\n",
    "\n",
    "source_engine = sqlalchemy.create_engine(\"sqlite:////dsa/data/DSA-7030/cc0122dbv2.sqlite.db\")\n",
    "\n",
    "source_connection = None\n",
    "\n",
    "try:\n",
    "    source_connection = source_engine.connect()\n",
    "except Excerption as err:\n",
    "    print(\"An error has occurred trying to connect: {}\".format(err))"
   ]
  },
  {
   "cell_type": "code",
   "execution_count": 2,
   "metadata": {},
   "outputs": [
    {
     "name": "stdout",
     "output_type": "stream",
     "text": [
      "········\n"
     ]
    }
   ],
   "source": [
    "##establish destination connection\n",
    "user = \"jwj8c8\"\n",
    "host = \"pgsql.dsa.lan\"\n",
    "database = \"dsa_student\"\n",
    "password = getpass.getpass()\n",
    "connectionstring = \"postgresql://\" + user + \":\" + password + \"@\" + host + \"/\" + database\n",
    "\n",
    "engine = sqlalchemy.create_engine(connectionstring)\n",
    "\n",
    "connection = None\n",
    "\n",
    "try:\n",
    "    connection = engine.connect()\n",
    "except Excerption as err:\n",
    "    print(\"An error has occurred trying to connect: {}\".format(err))\n",
    "    \n",
    "del password"
   ]
  },
  {
   "cell_type": "code",
   "execution_count": 4,
   "metadata": {},
   "outputs": [],
   "source": [
    "import numpy as np\n",
    "import pandas as pd"
   ]
  },
  {
   "cell_type": "code",
   "execution_count": 31,
   "metadata": {},
   "outputs": [],
   "source": [
    "##Create cc_nibrs_categories\n",
    "\n",
    "df = pd.read_sql_table(\"cc_nibrs_categories\",con=source_connection)\n",
    "df.to_sql(\"cc_nibrs_categories\",\n",
    "         engine,\n",
    "         schema=user,\n",
    "         if_exists= 'append',\n",
    "         index = False)"
   ]
  },
  {
   "cell_type": "code",
   "execution_count": 33,
   "metadata": {},
   "outputs": [],
   "source": [
    "## Create cc_nibres_crimes_against\n",
    "\n",
    "df = pd.read_sql_table(\"cc_nibrs_crimes_against\", con=source_connection)\n",
    "df.to_sql(\"cc_nibrs_crimes_against\",\n",
    "         engine,\n",
    "         schema = user,\n",
    "         if_exists='append',\n",
    "         index= False)"
   ]
  },
  {
   "cell_type": "code",
   "execution_count": 34,
   "metadata": {},
   "outputs": [],
   "source": [
    "## Create cc_nibrs_fbicode_offenses\n",
    "\n",
    "df = pd.read_sql_table(\"cc_nibrs_fbicode_offenses\", con=source_connection)\n",
    "df.to_sql(\"cc_nibrs_fbicode_offenses\",\n",
    "         engine,\n",
    "         schema = user,\n",
    "         if_exists='append',\n",
    "         index= False)"
   ]
  },
  {
   "cell_type": "code",
   "execution_count": 35,
   "metadata": {},
   "outputs": [],
   "source": [
    "## Create cc_nibrs_offenses_crimes_aginst\n",
    "\n",
    "df = pd.read_sql_table(\"cc_nibrs_offenses_crimes_aginst\", con=source_connection)\n",
    "df.to_sql(\"cc_nibrs_offenses_crimes_aginst\",\n",
    "         engine,\n",
    "         schema = user,\n",
    "         if_exists='append',\n",
    "         index= False)"
   ]
  },
  {
   "cell_type": "code",
   "execution_count": 36,
   "metadata": {},
   "outputs": [],
   "source": [
    "## Create cc_iucr_codes\n",
    "\n",
    "df = pd.read_sql_table(\"cc_iucr_codes\", con=source_connection)\n",
    "df.to_sql(\"cc_iucr_codes\",\n",
    "         engine,\n",
    "         schema = user,\n",
    "         if_exists='append',\n",
    "         index= False)\n"
   ]
  },
  {
   "cell_type": "code",
   "execution_count": 37,
   "metadata": {},
   "outputs": [],
   "source": [
    "##Create cc_iucr_codes_primary_descriptions\n",
    "df = pd.read_sql_table(\"cc_iucr_codes_primary_descriptions\",con=source_connection)\n",
    "df.to_sql(\"cc_iucr_codes_primary_descriptions\",\n",
    "         engine,\n",
    "         schema=user,\n",
    "         if_exists='append',\n",
    "         index=False)"
   ]
  },
  {
   "cell_type": "code",
   "execution_count": 38,
   "metadata": {},
   "outputs": [],
   "source": [
    "##Create cc_iucr_codes_secondary_descriptions\n",
    "df = pd.read_sql_table(\"cc_iucr_codes_secondary_descriptions\",con=source_connection)\n",
    "df.to_sql(\"cc_iucr_codes_secondary_descriptions\",\n",
    "         engine,\n",
    "         schema = user,\n",
    "         if_exists='append',\n",
    "         index=False)"
   ]
  },
  {
   "cell_type": "code",
   "execution_count": 49,
   "metadata": {},
   "outputs": [],
   "source": [
    "## Create cc_cases\n",
    "\n",
    "for df in pd.read_sql_query(\"SELECT * FROM cc_cases\", con=source_connection, chunksize=1000):\n",
    "     \n",
    "    df[\"arrest\"] = df[\"arrest\"].astype(\"bool\")\n",
    "    df[\"domestic\"] = df[\"domestic\"].astype(\"bool\")    \n",
    "        \n",
    "    \n",
    "    df.to_sql(\"cc_cases\",\n",
    "             engine,\n",
    "             schema = user,\n",
    "             if_exists='append',\n",
    "             index=False)\n"
   ]
  },
  {
   "cell_type": "code",
   "execution_count": 7,
   "metadata": {},
   "outputs": [],
   "source": [
    "##Create cc_case_location\n",
    "\n",
    "for df in pd.read_sql_table(\"cc_case_location\",con=source_connection, chunksize=100000):\n",
    "    \n",
    "    df.to_sql(\"cc_case_location\",\n",
    "             engine,\n",
    "             schema = user,\n",
    "             if_exists='append',\n",
    "             index=False)\n"
   ]
  },
  {
   "cell_type": "markdown",
   "metadata": {},
   "source": [
    "# Execute SQL DML commands to confirm the table record counts for the destination database tables are consistent with the source database table record counts"
   ]
  },
  {
   "cell_type": "code",
   "execution_count": 12,
   "metadata": {},
   "outputs": [
    {
     "name": "stdout",
     "output_type": "stream",
     "text": [
      "   COUNT(*)\n",
      "0        90\n",
      "   count\n",
      "0     90\n"
     ]
    }
   ],
   "source": [
    "# Confirm counts here\n",
    "## cc_nibrs_categories\n",
    "\n",
    "print(pd.read_sql_query(\"SELECT COUNT(*) FROM cc_nibrs_categories\", con= source_engine.connect()))\n",
    "print(pd.read_sql_query(\"SELECT COUNT(*) FROM cc_nibrs_categories\", con= engine.connect()))"
   ]
  },
  {
   "cell_type": "code",
   "execution_count": 13,
   "metadata": {},
   "outputs": [
    {
     "name": "stdout",
     "output_type": "stream",
     "text": [
      "   COUNT(*)\n",
      "0         4\n",
      "   count\n",
      "0      4\n"
     ]
    }
   ],
   "source": [
    "# Confirm counts here\n",
    "## cc_nibrs_crimes_against\n",
    "\n",
    "print(pd.read_sql_query(\"SELECT COUNT(*) FROM cc_nibrs_crimes_against\", con= source_engine.connect()))\n",
    "print(pd.read_sql_query(\"SELECT COUNT(*) FROM cc_nibrs_crimes_against\", con= engine.connect()))"
   ]
  },
  {
   "cell_type": "code",
   "execution_count": 14,
   "metadata": {},
   "outputs": [
    {
     "name": "stdout",
     "output_type": "stream",
     "text": [
      "   COUNT(*)\n",
      "0        90\n",
      "   count\n",
      "0     90\n"
     ]
    }
   ],
   "source": [
    "# Confirm counts here\n",
    "##cc_nibrs_fbicode_offenses\n",
    "\n",
    "print(pd.read_sql_query(\"SELECT COUNT(*) FROM cc_nibrs_fbicode_offenses\", con= source_engine.connect()))\n",
    "print(pd.read_sql_query(\"SELECT COUNT(*) FROM cc_nibrs_fbicode_offenses\", con= engine.connect()))"
   ]
  },
  {
   "cell_type": "code",
   "execution_count": 15,
   "metadata": {},
   "outputs": [
    {
     "name": "stdout",
     "output_type": "stream",
     "text": [
      "   COUNT(*)\n",
      "0        64\n",
      "   count\n",
      "0     64\n"
     ]
    }
   ],
   "source": [
    "# Confirm counts here\n",
    "## cc_nibrs_offenses_crimes_aginst\n",
    "\n",
    "print(pd.read_sql_query(\"SELECT COUNT(*) FROM cc_nibrs_offenses_crimes_aginst\", con= source_engine.connect()))\n",
    "print(pd.read_sql_query(\"SELECT COUNT(*) FROM cc_nibrs_offenses_crimes_aginst\", con= engine.connect()))"
   ]
  },
  {
   "cell_type": "code",
   "execution_count": 16,
   "metadata": {},
   "outputs": [
    {
     "name": "stdout",
     "output_type": "stream",
     "text": [
      "   COUNT(*)\n",
      "0       520\n",
      "   count\n",
      "0    520\n"
     ]
    }
   ],
   "source": [
    "# Confirm counts here\n",
    "## cc_iucr_codes\n",
    "\n",
    "print(pd.read_sql_query(\"SELECT COUNT(*) FROM cc_iucr_codes\", con= source_engine.connect()))\n",
    "print(pd.read_sql_query(\"SELECT COUNT(*) FROM cc_iucr_codes\", con= engine.connect()))"
   ]
  },
  {
   "cell_type": "code",
   "execution_count": 17,
   "metadata": {},
   "outputs": [
    {
     "name": "stdout",
     "output_type": "stream",
     "text": [
      "   COUNT(*)\n",
      "0       401\n",
      "   count\n",
      "0    401\n"
     ]
    }
   ],
   "source": [
    "# Confirm counts here\n",
    "## cc_iucr_codes_primary_descriptions\n",
    "\n",
    "print(pd.read_sql_query(\"SELECT COUNT(*) FROM cc_iucr_codes_primary_descriptions\", con= source_engine.connect()))\n",
    "print(pd.read_sql_query(\"SELECT COUNT(*) FROM cc_iucr_codes_primary_descriptions\", con= engine.connect()))"
   ]
  },
  {
   "cell_type": "code",
   "execution_count": 18,
   "metadata": {},
   "outputs": [
    {
     "name": "stdout",
     "output_type": "stream",
     "text": [
      "   COUNT(*)\n",
      "0       401\n",
      "   count\n",
      "0    401\n"
     ]
    }
   ],
   "source": [
    "# Confirm counts here\n",
    "## cc_iucr_codes_secondary_descriptions\n",
    "\n",
    "print(pd.read_sql_query(\"SELECT COUNT(*) FROM cc_iucr_codes_secondary_descriptions\", con= source_engine.connect()))\n",
    "print(pd.read_sql_query(\"SELECT COUNT(*) FROM cc_iucr_codes_secondary_descriptions\", con= engine.connect()))"
   ]
  },
  {
   "cell_type": "code",
   "execution_count": 19,
   "metadata": {},
   "outputs": [
    {
     "name": "stdout",
     "output_type": "stream",
     "text": [
      "   COUNT(*)\n",
      "0   7676541\n",
      "     count\n",
      "0  7676541\n"
     ]
    }
   ],
   "source": [
    "# Confirm counts here\n",
    "## cc_cases\n",
    "\n",
    "print(pd.read_sql_query(\"SELECT COUNT(*) FROM cc_cases\", con= source_engine.connect()))\n",
    "print(pd.read_sql_query(\"SELECT COUNT(*) FROM cc_cases\", con= engine.connect()))"
   ]
  },
  {
   "cell_type": "code",
   "execution_count": 8,
   "metadata": {},
   "outputs": [
    {
     "name": "stdout",
     "output_type": "stream",
     "text": [
      "   COUNT(*)\n",
      "0   7676541\n",
      "     count\n",
      "0  7676541\n"
     ]
    }
   ],
   "source": [
    "# Confirm counts here\n",
    "## cc_cases_location\n",
    "\n",
    "print(pd.read_sql_query(\"SELECT COUNT(*) FROM cc_case_location\", con= source_engine.connect()))\n",
    "print(pd.read_sql_query(\"SELECT COUNT(*) FROM cc_case_location\", con= engine.connect()))"
   ]
  }
 ],
 "metadata": {
  "kernelspec": {
   "display_name": "Python 3 (ipykernel)",
   "language": "python",
   "name": "python3"
  },
  "language_info": {
   "codemirror_mode": {
    "name": "ipython",
    "version": 3
   },
   "file_extension": ".py",
   "mimetype": "text/x-python",
   "name": "python",
   "nbconvert_exporter": "python",
   "pygments_lexer": "ipython3",
   "version": "3.9.13"
  },
  "latex_envs": {
   "LaTeX_envs_menu_present": true,
   "bibliofile": "biblio.bib",
   "cite_by": "apalike",
   "current_citInitial": 1,
   "eqLabelWithNumbers": true,
   "eqNumInitial": 1,
   "labels_anchors": false,
   "latex_user_defs": false,
   "report_style_numbering": false,
   "user_envs_cfg": false
  },
  "toc": {
   "colors": {
    "hover_highlight": "#DAA520",
    "running_highlight": "#FF0000",
    "selected_highlight": "#FFD700"
   },
   "moveMenuLeft": true,
   "nav_menu": {
    "height": "11.9886px",
    "width": "251.989px"
   },
   "navigate_menu": true,
   "number_sections": true,
   "sideBar": true,
   "threshold": 4,
   "toc_cell": true,
   "toc_section_display": "block",
   "toc_window_display": false
  }
 },
 "nbformat": 4,
 "nbformat_minor": 4
}
