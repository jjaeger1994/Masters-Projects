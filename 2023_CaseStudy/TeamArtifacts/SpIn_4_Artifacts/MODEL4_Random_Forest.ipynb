{
 "cells": [
  {
   "cell_type": "markdown",
   "metadata": {},
   "source": [
    "#### 1. [Installation and Importing of Libraries](#eda_import)\n",
    "#### 2. [Retreival of Data and Cleanup](#eda_retrieval)\n",
    "#### 3. [Handling of NAs](#eda_na)\n",
    "#### 4. [Feature Reduction](#reduction)\n",
    "#### 5. [Visualization](#visualization)\n",
    "\n",
    "This was a workbook that first started as a cleanup of our merged dataset that also began some of our modeling efforts.  It's been revised to now use our cleaned \"merged_df\" data.  We still use Random Forest to look at Feature Importance however the findings are consistent with what's expected - a stronger correlation to Bone Mineral Density.  Some of the other features could be interesting when cross-referenced with what we find from our other techniques. "
   ]
  },
  {
   "cell_type": "markdown",
   "metadata": {},
   "source": [
    "### <a name=\"eda_import\"></a>Installation and Importing of Libraries\n",
    "In order to both explore and visualize the data, it's necessary for us to load various libraries.  In addition to loading already pre-installed libraries, we've also had to install seaborn for plotting. "
   ]
  },
  {
   "cell_type": "code",
   "execution_count": 2,
   "metadata": {},
   "outputs": [
    {
     "name": "stdout",
     "output_type": "stream",
     "text": [
      "Requirement already up-to-date: seaborn in /opt/conda/lib/python3.7/site-packages (0.12.2)\n",
      "Requirement already satisfied, skipping upgrade: numpy!=1.24.0,>=1.17 in /opt/conda/lib/python3.7/site-packages (from seaborn) (1.17.3)\n",
      "Requirement already satisfied, skipping upgrade: typing_extensions; python_version < \"3.8\" in /opt/conda/lib/python3.7/site-packages (from seaborn) (4.7.1)\n",
      "Requirement already satisfied, skipping upgrade: pandas>=0.25 in /opt/conda/lib/python3.7/site-packages (from seaborn) (0.25.2)\n",
      "Requirement already satisfied, skipping upgrade: matplotlib!=3.6.1,>=3.1 in /opt/conda/lib/python3.7/site-packages (from seaborn) (3.1.1)\n",
      "Requirement already satisfied, skipping upgrade: pytz>=2017.2 in /opt/conda/lib/python3.7/site-packages (from pandas>=0.25->seaborn) (2019.2)\n",
      "Requirement already satisfied, skipping upgrade: python-dateutil>=2.6.1 in /opt/conda/lib/python3.7/site-packages (from pandas>=0.25->seaborn) (2.8.0)\n",
      "Requirement already satisfied, skipping upgrade: cycler>=0.10 in /opt/conda/lib/python3.7/site-packages (from matplotlib!=3.6.1,>=3.1->seaborn) (0.10.0)\n",
      "Requirement already satisfied, skipping upgrade: kiwisolver>=1.0.1 in /opt/conda/lib/python3.7/site-packages (from matplotlib!=3.6.1,>=3.1->seaborn) (1.1.0)\n",
      "Requirement already satisfied, skipping upgrade: pyparsing!=2.0.4,!=2.1.2,!=2.1.6,>=2.0.1 in /opt/conda/lib/python3.7/site-packages (from matplotlib!=3.6.1,>=3.1->seaborn) (2.4.2)\n",
      "Requirement already satisfied, skipping upgrade: six>=1.5 in /opt/conda/lib/python3.7/site-packages (from python-dateutil>=2.6.1->pandas>=0.25->seaborn) (1.12.0)\n",
      "Requirement already satisfied, skipping upgrade: setuptools in /opt/conda/lib/python3.7/site-packages (from kiwisolver>=1.0.1->matplotlib!=3.6.1,>=3.1->seaborn) (41.0.1)\n"
     ]
    }
   ],
   "source": [
    "!pip install seaborn --upgrade"
   ]
  },
  {
   "cell_type": "code",
   "execution_count": 3,
   "metadata": {},
   "outputs": [],
   "source": [
    "##import libraries required for analysis\n",
    "import numpy as np\n",
    "import os\n",
    "import pandas as pd\n",
    "import matplotlib.pyplot as plt\n",
    "import seaborn as sns\n",
    "from sklearn.decomposition import PCA\n",
    "import mpl_toolkits.mplot3d\n",
    "from sklearn.feature_selection import SelectKBest, f_classif\n",
    "from sklearn.preprocessing import StandardScaler\n",
    "from sklearn.compose import make_column_transformer\n",
    "from sklearn.feature_selection import SelectKBest, chi2\n",
    "from sklearn.feature_selection import RFE\n",
    "from sklearn.ensemble import RandomForestClassifier\n",
    "from sklearn.model_selection import train_test_split\n",
    "from sklearn.metrics import accuracy_score, confusion_matrix\n",
    "from sklearn.metrics import ConfusionMatrixDisplay\n",
    "import psycopg2\n",
    "import sqlalchemy\n",
    "import getpass\n",
    "import pandas as pd \n"
   ]
  },
  {
   "cell_type": "markdown",
   "metadata": {},
   "source": [
    "### <a name=\"eda_retrieval\"></a>Retreival of Data and Cleanup\n",
    "We need to retrieve all the CSVs that have been cleaned by our team and then merge them together based on the ID field.  There's also some minor carpentry work we need to do before running any models"
   ]
  },
  {
   "cell_type": "code",
   "execution_count": 4,
   "metadata": {},
   "outputs": [],
   "source": [
    "# Hooray for clean data!  No  need to do this anymore.  \n",
    "# dir_path = '/dsa/groups/casestudy2023su/team03/model_data/'\n",
    "\n",
    "# # Get all files in the directory and filter CSVs\n",
    "# file_names = os.listdir(dir_path)\n",
    "# csv_files = [file for file in file_names if file.endswith('.csv')]\n",
    "# dfs = []\n",
    "\n",
    "# # Loop all csv files and read \n",
    "# for csv_file in csv_files:\n",
    "#     df = pd.read_csv(os.path.join(dir_path, csv_file))\n",
    "    \n",
    "#     #some files have id in lowercase and others in uppercase\n",
    "#     if 'Id' in df.columns:\n",
    "#         df = df.rename(columns={'Id': 'ID'})\n",
    "#     elif 'id' in df.columns:\n",
    "#         df = df.rename(columns={'id': 'ID'})\n",
    "    \n",
    "#     dfs.append(df)\n",
    "\n",
    "#     # Print name and columns\n",
    "#     print(f\"File: {csv_file}\")\n",
    "#     print(\"Columns:\", df.columns)\n",
    "#     print()\n",
    "\n",
    "# # Merge all dataframes on 'ID'\n",
    "# merged_df = dfs[0]\n",
    "# for df in dfs[1:]:\n",
    "#     merged_df = pd.merge(merged_df, df, on='ID', how='outer')\n",
    "\n",
    "# # Converting everything to uppercase for simplicity\n",
    "# merged_df.columns = merged_df.columns.str.upper()\n",
    "\n",
    "# # Update \"yes\" values to 1 and \"no\" values to 0\n",
    "# for column in merged_df.columns:\n",
    "#     if merged_df[column].dtype == object:\n",
    "#         merged_df[column] = merged_df[column].replace({'yes': 1, 'no': 0, '0': 0})\n",
    "\n",
    "# print(merged_df)\n",
    "\n",
    "# Set file path\n",
    "file_path = \"/dsa/groups/casestudy2023su/team03/merged_data/mros_merged_clean.csv\"\n",
    "\n",
    "# Load dataframe from CSV\n",
    "merged_df = pd.read_csv(file_path)"
   ]
  },
  {
   "cell_type": "code",
   "execution_count": 5,
   "metadata": {},
   "outputs": [
    {
     "data": {
      "text/html": [
       "<div>\n",
       "<style scoped>\n",
       "    .dataframe tbody tr th:only-of-type {\n",
       "        vertical-align: middle;\n",
       "    }\n",
       "\n",
       "    .dataframe tbody tr th {\n",
       "        vertical-align: top;\n",
       "    }\n",
       "\n",
       "    .dataframe thead th {\n",
       "        text-align: right;\n",
       "    }\n",
       "</style>\n",
       "<table border=\"1\" class=\"dataframe\">\n",
       "  <thead>\n",
       "    <tr style=\"text-align: right;\">\n",
       "      <th></th>\n",
       "      <th>B1TRD</th>\n",
       "      <th>B1ITD</th>\n",
       "      <th>B1FND</th>\n",
       "      <th>B1L1D</th>\n",
       "      <th>B1L3D</th>\n",
       "      <th>B1TBD</th>\n",
       "      <th>B1HDD</th>\n",
       "      <th>B1LAD</th>\n",
       "      <th>B1RAD</th>\n",
       "      <th>B1LRD</th>\n",
       "      <th>...</th>\n",
       "      <th>RADIALPULSE_MEAS1</th>\n",
       "      <th>BMI</th>\n",
       "      <th>HEIGHTCHANGEFROM25</th>\n",
       "      <th>WEIGHTCHANGEFROM25</th>\n",
       "      <th>FAFXN</th>\n",
       "      <th>FAFXNT</th>\n",
       "      <th>GIAGE1</th>\n",
       "      <th>FAFXN_BIN</th>\n",
       "      <th>FAFXNT_BIN</th>\n",
       "      <th>outlier</th>\n",
       "    </tr>\n",
       "  </thead>\n",
       "  <tbody>\n",
       "    <tr>\n",
       "      <th>count</th>\n",
       "      <td>5994.000000</td>\n",
       "      <td>5994.000000</td>\n",
       "      <td>5994.000000</td>\n",
       "      <td>5994.000000</td>\n",
       "      <td>5994.000000</td>\n",
       "      <td>5994.000000</td>\n",
       "      <td>5994.000000</td>\n",
       "      <td>5994.000000</td>\n",
       "      <td>5994.000000</td>\n",
       "      <td>5994.000000</td>\n",
       "      <td>...</td>\n",
       "      <td>5994.000000</td>\n",
       "      <td>5994.000000</td>\n",
       "      <td>5994.000000</td>\n",
       "      <td>5994.000000</td>\n",
       "      <td>5994.000000</td>\n",
       "      <td>5994.000000</td>\n",
       "      <td>5994.000000</td>\n",
       "      <td>5994.000000</td>\n",
       "      <td>5994.000000</td>\n",
       "      <td>5994.000000</td>\n",
       "    </tr>\n",
       "    <tr>\n",
       "      <th>mean</th>\n",
       "      <td>0.764990</td>\n",
       "      <td>1.111712</td>\n",
       "      <td>0.784170</td>\n",
       "      <td>0.979764</td>\n",
       "      <td>1.098752</td>\n",
       "      <td>1.167219</td>\n",
       "      <td>2.132447</td>\n",
       "      <td>0.848691</td>\n",
       "      <td>0.861511</td>\n",
       "      <td>0.706571</td>\n",
       "      <td>...</td>\n",
       "      <td>64.349891</td>\n",
       "      <td>27.378324</td>\n",
       "      <td>3.705292</td>\n",
       "      <td>10.339891</td>\n",
       "      <td>0.432432</td>\n",
       "      <td>0.343577</td>\n",
       "      <td>73.657658</td>\n",
       "      <td>0.253420</td>\n",
       "      <td>0.214715</td>\n",
       "      <td>0.899900</td>\n",
       "    </tr>\n",
       "    <tr>\n",
       "      <th>std</th>\n",
       "      <td>0.127367</td>\n",
       "      <td>0.166538</td>\n",
       "      <td>0.128116</td>\n",
       "      <td>0.176903</td>\n",
       "      <td>0.207320</td>\n",
       "      <td>0.126578</td>\n",
       "      <td>0.332499</td>\n",
       "      <td>0.091894</td>\n",
       "      <td>0.092162</td>\n",
       "      <td>0.135757</td>\n",
       "      <td>...</td>\n",
       "      <td>9.989382</td>\n",
       "      <td>3.829940</td>\n",
       "      <td>2.960090</td>\n",
       "      <td>11.375341</td>\n",
       "      <td>1.002012</td>\n",
       "      <td>0.813297</td>\n",
       "      <td>5.872264</td>\n",
       "      <td>0.435006</td>\n",
       "      <td>0.410659</td>\n",
       "      <td>0.436133</td>\n",
       "    </tr>\n",
       "    <tr>\n",
       "      <th>min</th>\n",
       "      <td>0.167047</td>\n",
       "      <td>0.389357</td>\n",
       "      <td>0.272729</td>\n",
       "      <td>0.298691</td>\n",
       "      <td>0.382238</td>\n",
       "      <td>0.764788</td>\n",
       "      <td>1.056920</td>\n",
       "      <td>0.515547</td>\n",
       "      <td>0.515601</td>\n",
       "      <td>0.443625</td>\n",
       "      <td>...</td>\n",
       "      <td>36.000000</td>\n",
       "      <td>17.211000</td>\n",
       "      <td>-30.180000</td>\n",
       "      <td>-42.393700</td>\n",
       "      <td>0.000000</td>\n",
       "      <td>0.000000</td>\n",
       "      <td>64.000000</td>\n",
       "      <td>0.000000</td>\n",
       "      <td>0.000000</td>\n",
       "      <td>-1.000000</td>\n",
       "    </tr>\n",
       "    <tr>\n",
       "      <th>25%</th>\n",
       "      <td>0.677239</td>\n",
       "      <td>0.998989</td>\n",
       "      <td>0.696196</td>\n",
       "      <td>0.859821</td>\n",
       "      <td>0.955975</td>\n",
       "      <td>1.083122</td>\n",
       "      <td>1.905628</td>\n",
       "      <td>0.791598</td>\n",
       "      <td>0.804045</td>\n",
       "      <td>0.636937</td>\n",
       "      <td>...</td>\n",
       "      <td>58.000000</td>\n",
       "      <td>24.777850</td>\n",
       "      <td>1.970000</td>\n",
       "      <td>2.994512</td>\n",
       "      <td>0.000000</td>\n",
       "      <td>0.000000</td>\n",
       "      <td>69.000000</td>\n",
       "      <td>0.000000</td>\n",
       "      <td>0.000000</td>\n",
       "      <td>1.000000</td>\n",
       "    </tr>\n",
       "    <tr>\n",
       "      <th>50%</th>\n",
       "      <td>0.758539</td>\n",
       "      <td>1.104805</td>\n",
       "      <td>0.773544</td>\n",
       "      <td>0.968030</td>\n",
       "      <td>1.081870</td>\n",
       "      <td>1.157550</td>\n",
       "      <td>2.113950</td>\n",
       "      <td>0.843987</td>\n",
       "      <td>0.856622</td>\n",
       "      <td>0.691454</td>\n",
       "      <td>...</td>\n",
       "      <td>64.000000</td>\n",
       "      <td>26.905750</td>\n",
       "      <td>3.590000</td>\n",
       "      <td>9.365350</td>\n",
       "      <td>0.000000</td>\n",
       "      <td>0.000000</td>\n",
       "      <td>73.000000</td>\n",
       "      <td>0.000000</td>\n",
       "      <td>0.000000</td>\n",
       "      <td>1.000000</td>\n",
       "    </tr>\n",
       "    <tr>\n",
       "      <th>75%</th>\n",
       "      <td>0.847302</td>\n",
       "      <td>1.221518</td>\n",
       "      <td>0.860129</td>\n",
       "      <td>1.086195</td>\n",
       "      <td>1.219765</td>\n",
       "      <td>1.241125</td>\n",
       "      <td>2.339317</td>\n",
       "      <td>0.898742</td>\n",
       "      <td>0.913262</td>\n",
       "      <td>0.751444</td>\n",
       "      <td>...</td>\n",
       "      <td>70.000000</td>\n",
       "      <td>29.490625</td>\n",
       "      <td>5.240000</td>\n",
       "      <td>17.125600</td>\n",
       "      <td>1.000000</td>\n",
       "      <td>0.000000</td>\n",
       "      <td>78.000000</td>\n",
       "      <td>1.000000</td>\n",
       "      <td>0.000000</td>\n",
       "      <td>1.000000</td>\n",
       "    </tr>\n",
       "    <tr>\n",
       "      <th>max</th>\n",
       "      <td>1.699030</td>\n",
       "      <td>1.984450</td>\n",
       "      <td>1.598350</td>\n",
       "      <td>1.976850</td>\n",
       "      <td>2.245680</td>\n",
       "      <td>2.046580</td>\n",
       "      <td>4.695200</td>\n",
       "      <td>1.945820</td>\n",
       "      <td>2.139360</td>\n",
       "      <td>4.667740</td>\n",
       "      <td>...</td>\n",
       "      <td>198.000000</td>\n",
       "      <td>50.668700</td>\n",
       "      <td>30.870000</td>\n",
       "      <td>69.257700</td>\n",
       "      <td>12.000000</td>\n",
       "      <td>12.000000</td>\n",
       "      <td>100.000000</td>\n",
       "      <td>1.000000</td>\n",
       "      <td>1.000000</td>\n",
       "      <td>1.000000</td>\n",
       "    </tr>\n",
       "  </tbody>\n",
       "</table>\n",
       "<p>8 rows × 269 columns</p>\n",
       "</div>"
      ],
      "text/plain": [
       "             B1TRD        B1ITD        B1FND        B1L1D        B1L3D  \\\n",
       "count  5994.000000  5994.000000  5994.000000  5994.000000  5994.000000   \n",
       "mean      0.764990     1.111712     0.784170     0.979764     1.098752   \n",
       "std       0.127367     0.166538     0.128116     0.176903     0.207320   \n",
       "min       0.167047     0.389357     0.272729     0.298691     0.382238   \n",
       "25%       0.677239     0.998989     0.696196     0.859821     0.955975   \n",
       "50%       0.758539     1.104805     0.773544     0.968030     1.081870   \n",
       "75%       0.847302     1.221518     0.860129     1.086195     1.219765   \n",
       "max       1.699030     1.984450     1.598350     1.976850     2.245680   \n",
       "\n",
       "             B1TBD        B1HDD        B1LAD        B1RAD        B1LRD  ...  \\\n",
       "count  5994.000000  5994.000000  5994.000000  5994.000000  5994.000000  ...   \n",
       "mean      1.167219     2.132447     0.848691     0.861511     0.706571  ...   \n",
       "std       0.126578     0.332499     0.091894     0.092162     0.135757  ...   \n",
       "min       0.764788     1.056920     0.515547     0.515601     0.443625  ...   \n",
       "25%       1.083122     1.905628     0.791598     0.804045     0.636937  ...   \n",
       "50%       1.157550     2.113950     0.843987     0.856622     0.691454  ...   \n",
       "75%       1.241125     2.339317     0.898742     0.913262     0.751444  ...   \n",
       "max       2.046580     4.695200     1.945820     2.139360     4.667740  ...   \n",
       "\n",
       "       RADIALPULSE_MEAS1          BMI  HEIGHTCHANGEFROM25  WEIGHTCHANGEFROM25  \\\n",
       "count        5994.000000  5994.000000         5994.000000         5994.000000   \n",
       "mean           64.349891    27.378324            3.705292           10.339891   \n",
       "std             9.989382     3.829940            2.960090           11.375341   \n",
       "min            36.000000    17.211000          -30.180000          -42.393700   \n",
       "25%            58.000000    24.777850            1.970000            2.994512   \n",
       "50%            64.000000    26.905750            3.590000            9.365350   \n",
       "75%            70.000000    29.490625            5.240000           17.125600   \n",
       "max           198.000000    50.668700           30.870000           69.257700   \n",
       "\n",
       "             FAFXN       FAFXNT       GIAGE1    FAFXN_BIN   FAFXNT_BIN  \\\n",
       "count  5994.000000  5994.000000  5994.000000  5994.000000  5994.000000   \n",
       "mean      0.432432     0.343577    73.657658     0.253420     0.214715   \n",
       "std       1.002012     0.813297     5.872264     0.435006     0.410659   \n",
       "min       0.000000     0.000000    64.000000     0.000000     0.000000   \n",
       "25%       0.000000     0.000000    69.000000     0.000000     0.000000   \n",
       "50%       0.000000     0.000000    73.000000     0.000000     0.000000   \n",
       "75%       1.000000     0.000000    78.000000     1.000000     0.000000   \n",
       "max      12.000000    12.000000   100.000000     1.000000     1.000000   \n",
       "\n",
       "           outlier  \n",
       "count  5994.000000  \n",
       "mean      0.899900  \n",
       "std       0.436133  \n",
       "min      -1.000000  \n",
       "25%       1.000000  \n",
       "50%       1.000000  \n",
       "75%       1.000000  \n",
       "max       1.000000  \n",
       "\n",
       "[8 rows x 269 columns]"
      ]
     },
     "execution_count": 5,
     "metadata": {},
     "output_type": "execute_result"
    }
   ],
   "source": [
    "merged_df.describe()"
   ]
  },
  {
   "cell_type": "markdown",
   "metadata": {},
   "source": [
    "### <a name=\"eda_na\"></a>Handling of NAs"
   ]
  },
  {
   "cell_type": "code",
   "execution_count": 6,
   "metadata": {
    "scrolled": false
   },
   "outputs": [
    {
     "name": "stdout",
     "output_type": "stream",
     "text": [
      "Empty DataFrame\n",
      "Columns: [Missing Values]\n",
      "Index: []\n"
     ]
    }
   ],
   "source": [
    "# Clean data - no need for this anymore!\n",
    "pd.set_option('display.max_rows', None)\n",
    "missing_values = merged_df.isna().sum()\n",
    "missing_values = missing_values[missing_values > 0]\n",
    "print(pd.DataFrame(missing_values, columns=['Missing Values']))\n",
    "pd.reset_option('display.max_rows')"
   ]
  },
  {
   "cell_type": "markdown",
   "metadata": {},
   "source": [
    "### <a name=\"cleanup\"></a> Data Cleanup\n",
    "In order to do my feature reduction, we're going to need to perform just tiny bit of carpentry.  First, let's look at what non-numeric values we have and then and then determine whether one-hot encoding is necessary."
   ]
  },
  {
   "cell_type": "code",
   "execution_count": 7,
   "metadata": {},
   "outputs": [
    {
     "name": "stdout",
     "output_type": "stream",
     "text": [
      "Feature: GIEDUC\n",
      "['7. Some Grad' '5. Some College' '3. Some Highschool' '4. High School'\n",
      " '6. College' '8. Grad School' '2. Elementary' '1. Some Elementary']\n",
      "\n",
      "Feature: GIERACE\n",
      "['1. WHITE' '5. OTHER' '2. AFRICAN AMERICAN' '4. HISPANIC' '3. ASIAN']\n",
      "\n"
     ]
    }
   ],
   "source": [
    "alphanumeric_features = []\n",
    "\n",
    "for column in merged_df.columns:\n",
    "    if merged_df[column].dtype == object:\n",
    "        alphanumeric_features.append(column)\n",
    "\n",
    "for feature in alphanumeric_features:\n",
    "    if feature in merged_df.columns:\n",
    "        print(\"Feature:\", feature)\n",
    "        print(merged_df[feature].unique())\n",
    "        print()\n",
    "    else:\n",
    "        print(\"Feature\", feature, \"does not exist in the DataFrame.\")\n",
    "        print()"
   ]
  },
  {
   "cell_type": "markdown",
   "metadata": {},
   "source": [
    "We'll trim these values to just the very first number.  It'll be important to remember that it's still categorical and not continuous.  "
   ]
  },
  {
   "cell_type": "code",
   "execution_count": 8,
   "metadata": {},
   "outputs": [],
   "source": [
    "merged_df[\"GIEDUC\"] = merged_df[\"GIEDUC\"].str.extract(r'^(\\d+)', expand=False).astype(int)\n",
    "merged_df[\"GIERACE\"] = merged_df[\"GIERACE\"].str.extract(r'^(\\d+)', expand=False).astype(int)"
   ]
  },
  {
   "cell_type": "code",
   "execution_count": 9,
   "metadata": {},
   "outputs": [],
   "source": [
    "# No longer need to delete these columns\n",
    "#merged_df = merged_df.drop(['ID', 'STAFFID#', 'NPSTAFF'], axis=1)"
   ]
  },
  {
   "cell_type": "markdown",
   "metadata": {},
   "source": [
    "## <a name=\"reduction\"></a> Feature Reduction"
   ]
  },
  {
   "cell_type": "markdown",
   "metadata": {},
   "source": [
    "### Removal of Highly Correlated Features\n",
    "\n",
    "This logic is now being done upstream and no longer necessary."
   ]
  },
  {
   "cell_type": "code",
   "execution_count": 10,
   "metadata": {},
   "outputs": [
    {
     "name": "stdout",
     "output_type": "stream",
     "text": [
      "Number of columns (excluding independent variables): 267\n"
     ]
    }
   ],
   "source": [
    "# Count the number of columns that are not independent variables\n",
    "independent_vars = ['FAFXN', 'FAFXNT', 'FAFXN_BIN', 'FAFXNT_BIN']\n",
    "num_columns = sum(1 for col in merged_df.columns if col not in independent_vars)\n",
    "\n",
    "print(\"Number of columns (excluding independent variables):\", num_columns)"
   ]
  },
  {
   "cell_type": "markdown",
   "metadata": {},
   "source": [
    "### Recursive Feature Elimintation\n",
    "\n",
    "Since the number of columns still remaining is still higher than we want to work with, we'll use now Recursive Feature Elimination by training a Random Forest model and removing the least important feature at each iteration."
   ]
  },
  {
   "cell_type": "code",
   "execution_count": 12,
   "metadata": {
    "scrolled": false
   },
   "outputs": [],
   "source": [
    "# Perform Recursive Feature Elimination with Rand Forest Classifier\n",
    "# Starting with just traumatic fractures (FAFXN)\n",
    "# Adding the class_weight parameter\n",
    "model = RandomForestClassifier(n_estimators=100, class_weight='balanced')\n",
    "rfe = RFE(estimator=model, n_features_to_select=25)\n",
    "X = merged_df.drop(['FAFXN', 'FAFXNT', 'FAFXN_BIN', 'FAFXNT_BIN'], axis=1)  # Exclude target variables\n",
    "y = merged_df['FAFXN_BIN']  # Target variable\n",
    "X_selected = rfe.fit_transform(X, y)\n",
    "\n",
    "# Get selected feature names\n",
    "selected_feature_names = X.columns[rfe.support_]\n",
    "\n",
    "# Filter the DataFrame to include only selected features\n",
    "merged_df = merged_df[selected_feature_names.union(['FAFXN_BIN'])]"
   ]
  },
  {
   "cell_type": "markdown",
   "metadata": {},
   "source": [
    "## <a name=\"visualization\"></a> Visualization"
   ]
  },
  {
   "cell_type": "code",
   "execution_count": 13,
   "metadata": {},
   "outputs": [
    {
     "name": "stdout",
     "output_type": "stream",
     "text": [
      "Accuracy: 0.75\n"
     ]
    }
   ],
   "source": [
    "#creating initial temp split of 10% for testing\n",
    "X_temp, X_test, y_temp, y_test = train_test_split(X, y, test_size=0.1, random_state=42)\n",
    "\n",
    "#second split of 10% for validation... leaving us with 80% for training.\n",
    "X_train, X_val, y_train, y_val = train_test_split(X_temp, y_temp, test_size=0.1111, random_state=42) # 0.1111 * 0.9 = 0.1\n",
    "\n",
    "# Train the Random Forest Classifier\n",
    "model.fit(X_train, y_train)\n",
    "\n",
    "# Predict on the test set\n",
    "y_pred = model.predict(X_test)\n",
    "\n",
    "# Calculate accuracy\n",
    "accuracy = accuracy_score(y_test, y_pred)\n",
    "print(\"Accuracy:\", accuracy)"
   ]
  },
  {
   "cell_type": "code",
   "execution_count": 14,
   "metadata": {},
   "outputs": [
    {
     "data": {
      "image/png": "[encoded data removed]",
      "text/plain": [
       "<Figure size 432x288 with 2 Axes>"
      ]
     },
     "metadata": {
      "needs_background": "light"
     },
     "output_type": "display_data"
    }
   ],
   "source": [
    "# Create a confusion matrix\n",
    "cm = confusion_matrix(y_test, y_pred)\n",
    "cm_display = ConfusionMatrixDisplay(confusion_matrix=cm)\n",
    "\n",
    "cm_display.plot(cmap='Blues')\n",
    "\n",
    "plt.xlabel('Predicted')\n",
    "plt.ylabel('Actual')\n",
    "plt.title('Confusion Matrix')\n",
    "plt.show()"
   ]
  },
  {
   "cell_type": "markdown",
   "metadata": {},
   "source": [
    "We see that wer'e still getting a high amount of False Negatives (144).  In our scenario, we would prefer to error on the side of caution when it comes to fractures and have a higher number of False Positives (6).  "
   ]
  },
  {
   "cell_type": "code",
   "execution_count": 15,
   "metadata": {},
   "outputs": [
    {
     "data": {
      "image/png": "[encoded data removed]",
      "text/plain": [
       "<Figure size 720x432 with 1 Axes>"
      ]
     },
     "metadata": {
      "needs_background": "light"
     },
     "output_type": "display_data"
    }
   ],
   "source": [
    "# Get feature importances\n",
    "feature_importances = model.feature_importances_\n",
    "\n",
    "# Create a DataFrame to show feature importance\n",
    "importance_df = pd.DataFrame({'Feature': X_train.columns, 'Importance': feature_importances})\n",
    "importance_df = importance_df.sort_values('Importance', ascending=False)\n",
    "\n",
    "# Select top 25 features\n",
    "top_25_features = importance_df.head(25)\n",
    "\n",
    "# Plot top 25 feature importances\n",
    "plt.figure(figsize=(10, 6))\n",
    "sns.barplot(x='Importance', y='Feature', data=top_25_features)\n",
    "plt.xlabel('Importance')\n",
    "plt.ylabel('Feature')\n",
    "plt.title('Top 25 Feature Importances')\n",
    "plt.show()"
   ]
  },
  {
   "cell_type": "markdown",
   "metadata": {},
   "source": [
    "As anticipated, the highest level of correlation comes from Bone Mineral Density (B1 data) but we do also see other interesting findings around weight (weightchangefrom25, BMI). "
   ]
  }
 ],
 "metadata": {
  "kernelspec": {
   "display_name": "Python 3",
   "language": "python",
   "name": "python3"
  },
  "language_info": {
   "codemirror_mode": {
    "name": "ipython",
    "version": 3
   },
   "file_extension": ".py",
   "mimetype": "text/x-python",
   "name": "python",
   "nbconvert_exporter": "python",
   "pygments_lexer": "ipython3",
   "version": "3.7.3"
  }
 },
 "nbformat": 4,
 "nbformat_minor": 2
}
