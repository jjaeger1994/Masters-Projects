{
 "cells": [
  {
   "cell_type": "markdown",
   "metadata": {},
   "source": [
    "## Analysis of Fracture Form in MrOS V1 Data (EDA3-V1-FF.ipynb)\n",
    "The Fracture Form is essential in understanding the occurrence, characteristics, and management of fractures within the study population. It provides valuable insights into the prevalence of fractures, associated risk factors, treatment patterns, and the impact of fractures on the participants' health and well-being.\n",
    "\n",
    "#### 1. [Installation and Importing of Libraries](#eda_import)\n",
    "#### 2. [Retreival of Data](#eda_retrieval)\n",
    "#### 3. [Fracture Form Analysis](#eda_form)\n",
    "#### 4. [Results for Modeling](#eda_FR)\n"
   ]
  },
  {
   "cell_type": "markdown",
   "metadata": {},
   "source": [
    "### <a name=\"eda_import\"></a>Installation and Importing of Libraries\n",
    "In order to both explore and visualize the data, it's necessary for us to load various libraries.  In addition to loading already pre-installed libraries, we've also had to install seaborn for plotting. "
   ]
  },
  {
   "cell_type": "code",
   "execution_count": 1,
   "metadata": {},
   "outputs": [
    {
     "name": "stdout",
     "output_type": "stream",
     "text": [
      "Requirement already up-to-date: seaborn in /opt/conda/lib/python3.7/site-packages (0.12.2)\n",
      "Requirement already satisfied, skipping upgrade: pandas>=0.25 in /opt/conda/lib/python3.7/site-packages (from seaborn) (0.25.2)\n",
      "Requirement already satisfied, skipping upgrade: numpy!=1.24.0,>=1.17 in /opt/conda/lib/python3.7/site-packages (from seaborn) (1.17.3)\n",
      "Requirement already satisfied, skipping upgrade: matplotlib!=3.6.1,>=3.1 in /opt/conda/lib/python3.7/site-packages (from seaborn) (3.1.1)\n",
      "Requirement already satisfied, skipping upgrade: typing_extensions; python_version < \"3.8\" in /opt/conda/lib/python3.7/site-packages (from seaborn) (4.7.0)\n",
      "Requirement already satisfied, skipping upgrade: pytz>=2017.2 in /opt/conda/lib/python3.7/site-packages (from pandas>=0.25->seaborn) (2019.2)\n",
      "Requirement already satisfied, skipping upgrade: python-dateutil>=2.6.1 in /opt/conda/lib/python3.7/site-packages (from pandas>=0.25->seaborn) (2.8.0)\n",
      "Requirement already satisfied, skipping upgrade: cycler>=0.10 in /opt/conda/lib/python3.7/site-packages (from matplotlib!=3.6.1,>=3.1->seaborn) (0.10.0)\n",
      "Requirement already satisfied, skipping upgrade: kiwisolver>=1.0.1 in /opt/conda/lib/python3.7/site-packages (from matplotlib!=3.6.1,>=3.1->seaborn) (1.1.0)\n",
      "Requirement already satisfied, skipping upgrade: pyparsing!=2.0.4,!=2.1.2,!=2.1.6,>=2.0.1 in /opt/conda/lib/python3.7/site-packages (from matplotlib!=3.6.1,>=3.1->seaborn) (2.4.2)\n",
      "Requirement already satisfied, skipping upgrade: six>=1.5 in /opt/conda/lib/python3.7/site-packages (from python-dateutil>=2.6.1->pandas>=0.25->seaborn) (1.12.0)\n",
      "Requirement already satisfied, skipping upgrade: setuptools in /opt/conda/lib/python3.7/site-packages (from kiwisolver>=1.0.1->matplotlib!=3.6.1,>=3.1->seaborn) (41.0.1)\n"
     ]
    }
   ],
   "source": [
    "!pip install seaborn --upgrade"
   ]
  },
  {
   "cell_type": "code",
   "execution_count": 2,
   "metadata": {},
   "outputs": [],
   "source": [
    "import os\n",
    "import numpy as np\n",
    "import pandas as pd\n",
    "import matplotlib.pyplot as plt\n",
    "import seaborn as sns\n",
    "import seaborn.objects as so\n",
    "from sklearn.decomposition import PCA\n",
    "import mpl_toolkits.mplot3d\n",
    "from scipy.stats import chi2_contingency\n"
   ]
  },
  {
   "cell_type": "markdown",
   "metadata": {},
   "source": [
    "### <a name=\"eda_retrieval\"></a>Retreival of Data\n",
    "The data needs to be retrieved from the Postgres database and stored in a dataframe for us to begin analyzing."
   ]
  },
  {
   "cell_type": "code",
   "execution_count": 3,
   "metadata": {},
   "outputs": [
    {
     "name": "stdout",
     "output_type": "stream",
     "text": [
      "········\n"
     ]
    }
   ],
   "source": [
    "import psycopg2\n",
    "import sqlalchemy\n",
    "import getpass\n",
    "\n",
    "user = \"jwj8c8\"\n",
    "host = \"pgsql.dsa.lan\"\n",
    "database = \"casestdysu23t03\"\n",
    "password = getpass.getpass()\n",
    "connectionstring = \"postgresql://\" + user + \":\" + password + \"@\" + host + \"/\" + database\n",
    "engine = sqlalchemy.create_engine(connectionstring)\n",
    "connection = None\n",
    "\n",
    "try:\n",
    "    connection = engine.connect()\n",
    "except Exception as err:\n",
    "    print(\"An error has occurred trying to connect: {}\".format(err))\n",
    "\n",
    "del password"
   ]
  },
  {
   "cell_type": "code",
   "execution_count": 4,
   "metadata": {},
   "outputs": [],
   "source": [
    "def binary2StringLiteral(df):\n",
    "    for column in df.columns:\n",
    "        if df[column].dtype == \"object\":\n",
    "            df[column] = df[column].str.decode('utf-8')"
   ]
  },
  {
   "cell_type": "code",
   "execution_count": 5,
   "metadata": {},
   "outputs": [],
   "source": [
    "def chi2Results(res,alpha=0.05):\n",
    "    print(f\"The p-value is: {res[1]}\")\n",
    "    print(f\"The test statistic is: {res[0]}\")\n",
    "    if res[1] > alpha:\n",
    "        print(\"Thus we cannot reject the null hypthesis and the two variables are independent\")\n",
    "    else:\n",
    "        print(\"Thus we must reject the null hypothesis and conclude the two variables are not independent\")"
   ]
  },
  {
   "cell_type": "code",
   "execution_count": 6,
   "metadata": {},
   "outputs": [],
   "source": [
    "fafeb23_df = pd.read_sas(\"/dsa/groups/casestudy2023su/team03/FAFEB23.SAS7BDAT\")\n",
    "fafeb23_df = fafeb23_df[[\"ID\",\"FANOTMOF\"]]\n",
    "binary2StringLiteral(fafeb23_df)"
   ]
  },
  {
   "cell_type": "markdown",
   "metadata": {},
   "source": [
    "<h2><a name=\"eda_form\"></a> Fracture Form Analysis </h2>"
   ]
  },
  {
   "cell_type": "markdown",
   "metadata": {},
   "source": [
    "<h3> Family History </h3>"
   ]
  },
  {
   "cell_type": "code",
   "execution_count": 7,
   "metadata": {},
   "outputs": [],
   "source": [
    "query = \"SELECT * FROM public.v1_form_FF\"\n",
    "form_ff_df = pd.read_sql_query(query, con=connection)\n",
    "\n",
    "##Remove Staff IDs\n",
    "##form_ff_df = form_ff_df.drop(form_ff_df.filter(regex=\"(STAFF)\",axis=1).columns,axis=1)"
   ]
  },
  {
   "cell_type": "code",
   "execution_count": 8,
   "metadata": {},
   "outputs": [],
   "source": [
    "form_ff_df = form_ff_df.loc[:,form_ff_df.columns.str.startswith((\"FF\",\"ID\"))]"
   ]
  },
  {
   "cell_type": "code",
   "execution_count": 9,
   "metadata": {},
   "outputs": [],
   "source": [
    "FFFX50_cats = {0:\"0: NO FRACTURE BEFORE BASELINE\",1:\"1: FRACTURE AFTER AGE 50, BEFORE BASELINE\",\\\n",
    "              2:\"2: FRACTURE BEFORE AGE 50\"}\n",
    "form_ff_df.FFFX50 = form_ff_df.FFFX50.map(FFFX50_cats)"
   ]
  },
  {
   "cell_type": "code",
   "execution_count": 10,
   "metadata": {},
   "outputs": [],
   "source": [
    "family_fractures = form_ff_df.filter(regex=\"(MOM)|(DAD)|(DAUGH)|(SON)|(SIS)|(BRO)\")"
   ]
  },
  {
   "cell_type": "code",
   "execution_count": 11,
   "metadata": {},
   "outputs": [
    {
     "data": {
      "text/plain": [
       "FFMOMOST    2299\n",
       "FFMOMFX     1762\n",
       "FFMOMHIP    4703\n",
       "FFMOMWST    4802\n",
       "FFMOMSPN    4755\n",
       "FFMOMOTH    4931\n",
       "FFMOM         36\n",
       "FFMOMAGE    5659\n",
       "FFMOMDIE     393\n",
       "FFDADOST    2202\n",
       "FFDADFX     2647\n",
       "FFDADHIP    5140\n",
       "FFDADWST    5198\n",
       "FFDADSPN    5146\n",
       "FFDADOTH    5202\n",
       "FFDAD         91\n",
       "FFDAUGH        0\n",
       "FFDADAGE    5928\n",
       "FFDADDIE     201\n",
       "FFSIS          5\n",
       "FFBRO          3\n",
       "FFSON          2\n",
       "dtype: int64"
      ]
     },
     "execution_count": 11,
     "metadata": {},
     "output_type": "execute_result"
    }
   ],
   "source": [
    "family_fractures.isna().sum().T"
   ]
  },
  {
   "cell_type": "markdown",
   "metadata": {},
   "source": [
    "The variables of interest in the family history portion of FF form have such a large amount of missing values (>50% in most cases) that it would be innapropriate to use."
   ]
  },
  {
   "cell_type": "markdown",
   "metadata": {},
   "source": [
    "<h3> Fracture History </h3>"
   ]
  },
  {
   "cell_type": "code",
   "execution_count": 12,
   "metadata": {},
   "outputs": [],
   "source": [
    "##Only keep data related to the subject\n",
    "fracture_hist = form_ff_df.drop(family_fractures.columns,axis=1)"
   ]
  },
  {
   "cell_type": "code",
   "execution_count": 13,
   "metadata": {
    "scrolled": true
   },
   "outputs": [
    {
     "name": "stdout",
     "output_type": "stream",
     "text": [
      "ID             0\n",
      "FFFRAC         1\n",
      "FFHIP       2677\n",
      "FFHIPAG1    5895\n",
      "FFHIPTR1    5903\n",
      "FFHIPAG2    5992\n",
      "FFHIPTR2    5992\n",
      "FFHIPAG3    5994\n",
      "FFHIPTR3    5994\n",
      "FFWST       2677\n",
      "FFWSTAG1    4978\n",
      "FFWSTTR1    5076\n",
      "FFWSTAG2    5832\n",
      "FFWSTTR2    5849\n",
      "FFWSTAG3    5968\n",
      "FFWSTTR3    5971\n",
      "FFSPN       2677\n",
      "FFSPNAG1    5760\n",
      "FFSPNTR1    5826\n",
      "FFSPNAG2    5976\n",
      "FFSPNTR2    5982\n",
      "FFSPNAG3    5993\n",
      "FFSPNTR3    5993\n",
      "FFSLD       2677\n",
      "FFSLDAG1    5550\n",
      "FFSLDTR1    5600\n",
      "FFSLDAG2    5970\n",
      "FFSLDTR2    5974\n",
      "FFSLDAG3    5993\n",
      "FFSLDTR3    5993\n",
      "FFUAM       2677\n",
      "FFUAMAG1    5851\n",
      "FFUAMTR1    5873\n",
      "FFUAMAG2    5987\n",
      "FFUAMTR2    5987\n",
      "FFUAMAG3    5994\n",
      "FFUAMTR3    5994\n",
      "FFRCS       2677\n",
      "FFRCSAG1    5113\n",
      "FFRCSTR1    5293\n",
      "FFRCSAG2    5848\n",
      "FFRCSTR2    5883\n",
      "FFRCSAG3    5958\n",
      "FFRCSTR3    5963\n",
      "FFULG       2677\n",
      "FFULGAG1    5915\n",
      "FFULGTR1    5932\n",
      "FFULGAG2    5991\n",
      "FFULGTR2    5992\n",
      "FFULGAG3    5993\n",
      "FFULGTR3    5994\n",
      "FFKNC       2677\n",
      "FFKNCAG1    5841\n",
      "FFKNCTR1    5862\n",
      "FFKNCAG2    5986\n",
      "FFKNCTR2    5989\n",
      "FFKNCAG3    5994\n",
      "FFKNCTR3    5994\n",
      "FFLLG       2677\n",
      "FFLLGAG1    5651\n",
      "FFLLGTR1    5714\n",
      "FFLLGAG2    5967\n",
      "FFLLGTR2    5971\n",
      "FFLLGAG3    5990\n",
      "FFLLGTR3    5991\n",
      "FFAFT       2677\n",
      "FFAFTAG1    4885\n",
      "FFAFTTR1    5268\n",
      "FFAFTAG2    5879\n",
      "FFAFTTR2    5923\n",
      "FFAFTAG3    5978\n",
      "FFAFTTR3    5986\n",
      "FFHFI       2677\n",
      "FFHFIAG1    5157\n",
      "FFHFITR1    5493\n",
      "FFHFIAG2    5905\n",
      "FFHFITR2    5941\n",
      "FFHFIAG3    5979\n",
      "FFHFITR3    5988\n",
      "FFOTH       2677\n",
      "FFOTHAG1    5567\n",
      "FFOTHTR1    5640\n",
      "FFOTHAG2    5924\n",
      "FFOTHTR2    5934\n",
      "FFOTHAG3    5974\n",
      "FFOTHTR3    5980\n",
      "FFNOHP         1\n",
      "FFNOSP         1\n",
      "FFNOHS         1\n",
      "FFNOHSW        1\n",
      "FFNT504        1\n",
      "FFNT502        1\n",
      "FFNTGT50       1\n",
      "FFNTLE50       1\n",
      "FFNTAGE     3277\n",
      "FFNMGT50       9\n",
      "FFNMLE50       9\n",
      "FFMAXAGE    2685\n",
      "FFFX50         9\n",
      "FF             0\n",
      "dtype: int64\n"
     ]
    }
   ],
   "source": [
    "pd.set_option('display.max_rows', None)\n",
    "print(fracture_hist.isna().sum().T)\n",
    "pd.reset_option('display.max_rows')"
   ]
  },
  {
   "cell_type": "markdown",
   "metadata": {},
   "source": [
    "Many of the features have a large chunk of missing data. This is in part due to hierarchal survey questions and we could replace with zeroes. But at this stage we will drop data that is not hight fidelity."
   ]
  },
  {
   "cell_type": "code",
   "execution_count": 14,
   "metadata": {},
   "outputs": [],
   "source": [
    "##Keep only high fidelity data\n",
    "fracture_hist = fracture_hist.dropna(axis=1,thresh=5800)"
   ]
  },
  {
   "cell_type": "code",
   "execution_count": 15,
   "metadata": {},
   "outputs": [
    {
     "data": {
      "text/plain": [
       "Index(['ID', 'FFFRAC', 'FFNOHP', 'FFNOSP', 'FFNOHS', 'FFNOHSW', 'FFNT504',\n",
       "       'FFNT502', 'FFNTGT50', 'FFNTLE50', 'FFNMGT50', 'FFNMLE50', 'FFFX50',\n",
       "       'FF'],\n",
       "      dtype='object')"
      ]
     },
     "execution_count": 15,
     "metadata": {},
     "output_type": "execute_result"
    }
   ],
   "source": [
    "fracture_hist.columns"
   ]
  },
  {
   "cell_type": "code",
   "execution_count": 16,
   "metadata": {},
   "outputs": [],
   "source": [
    "fracture_hist = fracture_hist.merge(fafeb23_df,on=\"ID\")"
   ]
  },
  {
   "cell_type": "code",
   "execution_count": 17,
   "metadata": {},
   "outputs": [],
   "source": [
    "fracture_hist.shape\n",
    "ff_with_nulls = fracture_hist"
   ]
  },
  {
   "cell_type": "code",
   "execution_count": 18,
   "metadata": {},
   "outputs": [],
   "source": [
    "fracture_hist.FFFRAC = fracture_hist.FFFRAC.astype(str)"
   ]
  },
  {
   "cell_type": "markdown",
   "metadata": {},
   "source": [
    "For the purposes of this analysis we want to determine if having previous history of fracture in general is indicative of future fractures."
   ]
  },
  {
   "cell_type": "code",
   "execution_count": 19,
   "metadata": {},
   "outputs": [
    {
     "data": {
      "text/plain": [
       "<matplotlib.axes._subplots.AxesSubplot at 0x7f83992422e8>"
      ]
     },
     "execution_count": 19,
     "metadata": {},
     "output_type": "execute_result"
    },
    {
     "data": {
      "image/png": "[encoded data removed]",
      "text/plain": [
       "<Figure size 432x288 with 1 Axes>"
      ]
     },
     "metadata": {
      "needs_background": "light"
     },
     "output_type": "display_data"
    }
   ],
   "source": [
    "plot_data = fracture_hist.groupby(\"FANOTMOF\")[\"FFFRAC\"].value_counts(normalize=True).mul(100).rename(\"percent\").reset_index()\n",
    "sns.barplot(data=plot_data,x=\"percent\",y=\"FFFRAC\", hue=\"FANOTMOF\")"
   ]
  },
  {
   "cell_type": "code",
   "execution_count": 20,
   "metadata": {},
   "outputs": [
    {
     "data": {
      "text/html": [
       "<div>\n",
       "<style scoped>\n",
       "    .dataframe tbody tr th:only-of-type {\n",
       "        vertical-align: middle;\n",
       "    }\n",
       "\n",
       "    .dataframe tbody tr th {\n",
       "        vertical-align: top;\n",
       "    }\n",
       "\n",
       "    .dataframe thead th {\n",
       "        text-align: right;\n",
       "    }\n",
       "</style>\n",
       "<table border=\"1\" class=\"dataframe\">\n",
       "  <thead>\n",
       "    <tr style=\"text-align: right;\">\n",
       "      <th>FANOTMOF</th>\n",
       "      <th>0.0</th>\n",
       "      <th>1.0</th>\n",
       "    </tr>\n",
       "    <tr>\n",
       "      <th>FFFRAC</th>\n",
       "      <th></th>\n",
       "      <th></th>\n",
       "    </tr>\n",
       "  </thead>\n",
       "  <tbody>\n",
       "    <tr>\n",
       "      <th>0.0</th>\n",
       "      <td>2407</td>\n",
       "      <td>244</td>\n",
       "    </tr>\n",
       "    <tr>\n",
       "      <th>1.0</th>\n",
       "      <td>2842</td>\n",
       "      <td>421</td>\n",
       "    </tr>\n",
       "    <tr>\n",
       "      <th>nan</th>\n",
       "      <td>0</td>\n",
       "      <td>1</td>\n",
       "    </tr>\n",
       "  </tbody>\n",
       "</table>\n",
       "</div>"
      ],
      "text/plain": [
       "FANOTMOF   0.0  1.0\n",
       "FFFRAC             \n",
       "0.0       2407  244\n",
       "1.0       2842  421\n",
       "nan          0    1"
      ]
     },
     "execution_count": 20,
     "metadata": {},
     "output_type": "execute_result"
    }
   ],
   "source": [
    "pd.crosstab(fracture_hist.FFFRAC,fracture_hist.FANOTMOF)"
   ]
  },
  {
   "cell_type": "code",
   "execution_count": 21,
   "metadata": {},
   "outputs": [
    {
     "data": {
      "text/html": [
       "<div>\n",
       "<style scoped>\n",
       "    .dataframe tbody tr th:only-of-type {\n",
       "        vertical-align: middle;\n",
       "    }\n",
       "\n",
       "    .dataframe tbody tr th {\n",
       "        vertical-align: top;\n",
       "    }\n",
       "\n",
       "    .dataframe thead th {\n",
       "        text-align: right;\n",
       "    }\n",
       "</style>\n",
       "<table border=\"1\" class=\"dataframe\">\n",
       "  <thead>\n",
       "    <tr style=\"text-align: right;\">\n",
       "      <th>FANOTMOF</th>\n",
       "      <th>0.0</th>\n",
       "      <th>1.0</th>\n",
       "    </tr>\n",
       "    <tr>\n",
       "      <th>FFFRAC</th>\n",
       "      <th></th>\n",
       "      <th></th>\n",
       "    </tr>\n",
       "  </thead>\n",
       "  <tbody>\n",
       "    <tr>\n",
       "      <th>0.0</th>\n",
       "      <td>0.907959</td>\n",
       "      <td>0.092041</td>\n",
       "    </tr>\n",
       "    <tr>\n",
       "      <th>1.0</th>\n",
       "      <td>0.870978</td>\n",
       "      <td>0.129022</td>\n",
       "    </tr>\n",
       "    <tr>\n",
       "      <th>nan</th>\n",
       "      <td>0.000000</td>\n",
       "      <td>1.000000</td>\n",
       "    </tr>\n",
       "  </tbody>\n",
       "</table>\n",
       "</div>"
      ],
      "text/plain": [
       "FANOTMOF       0.0       1.0\n",
       "FFFRAC                      \n",
       "0.0       0.907959  0.092041\n",
       "1.0       0.870978  0.129022\n",
       "nan       0.000000  1.000000"
      ]
     },
     "execution_count": 21,
     "metadata": {},
     "output_type": "execute_result"
    }
   ],
   "source": [
    "pd.crosstab(fracture_hist.FFFRAC,fracture_hist.FANOTMOF,normalize=\"index\")"
   ]
  },
  {
   "cell_type": "code",
   "execution_count": 22,
   "metadata": {},
   "outputs": [],
   "source": [
    "contingency = pd.crosstab(fracture_hist.FFFRAC,fracture_hist.FANOTMOF)\n",
    "res = chi2_contingency(contingency)"
   ]
  },
  {
   "cell_type": "code",
   "execution_count": 23,
   "metadata": {},
   "outputs": [
    {
     "data": {
      "text/html": [
       "<div>\n",
       "<style scoped>\n",
       "    .dataframe tbody tr th:only-of-type {\n",
       "        vertical-align: middle;\n",
       "    }\n",
       "\n",
       "    .dataframe tbody tr th {\n",
       "        vertical-align: top;\n",
       "    }\n",
       "\n",
       "    .dataframe thead th {\n",
       "        text-align: right;\n",
       "    }\n",
       "</style>\n",
       "<table border=\"1\" class=\"dataframe\">\n",
       "  <thead>\n",
       "    <tr style=\"text-align: right;\">\n",
       "      <th></th>\n",
       "      <th>0</th>\n",
       "      <th>1</th>\n",
       "    </tr>\n",
       "  </thead>\n",
       "  <tbody>\n",
       "    <tr>\n",
       "      <th>0</th>\n",
       "      <td>2352.510397</td>\n",
       "      <td>298.489603</td>\n",
       "    </tr>\n",
       "    <tr>\n",
       "      <th>1</th>\n",
       "      <td>2895.602198</td>\n",
       "      <td>367.397802</td>\n",
       "    </tr>\n",
       "    <tr>\n",
       "      <th>2</th>\n",
       "      <td>0.887405</td>\n",
       "      <td>0.112595</td>\n",
       "    </tr>\n",
       "  </tbody>\n",
       "</table>\n",
       "</div>"
      ],
      "text/plain": [
       "             0           1\n",
       "0  2352.510397  298.489603\n",
       "1  2895.602198  367.397802\n",
       "2     0.887405    0.112595"
      ]
     },
     "execution_count": 23,
     "metadata": {},
     "output_type": "execute_result"
    }
   ],
   "source": [
    "pd.DataFrame(res[3])"
   ]
  },
  {
   "cell_type": "code",
   "execution_count": 24,
   "metadata": {},
   "outputs": [
    {
     "name": "stdout",
     "output_type": "stream",
     "text": [
      "The p-value is: 8.727298778204382e-07\n",
      "The test statistic is: 27.903279494581447\n",
      "Thus we must reject the null hypothesis and conclude the two variables are not independent\n"
     ]
    }
   ],
   "source": [
    "chi2Results(res)"
   ]
  },
  {
   "cell_type": "code",
   "execution_count": 25,
   "metadata": {},
   "outputs": [
    {
     "data": {
      "text/plain": [
       "<matplotlib.axes._subplots.AxesSubplot at 0x7f839b9012b0>"
      ]
     },
     "execution_count": 25,
     "metadata": {},
     "output_type": "execute_result"
    },
    {
     "data": {
      "image/png": "[encoded data removed]",
      "text/plain": [
       "<Figure size 432x288 with 1 Axes>"
      ]
     },
     "metadata": {
      "needs_background": "light"
     },
     "output_type": "display_data"
    }
   ],
   "source": [
    "plot_data = fracture_hist.groupby(\"FANOTMOF\")[\"FFFX50\"].value_counts(normalize=True).mul(100).rename(\"percent\").reset_index()\n",
    "sns.barplot(data=plot_data,x=\"percent\",y=\"FFFX50\", hue=\"FANOTMOF\")"
   ]
  },
  {
   "cell_type": "code",
   "execution_count": 26,
   "metadata": {},
   "outputs": [
    {
     "data": {
      "text/html": [
       "<div>\n",
       "<style scoped>\n",
       "    .dataframe tbody tr th:only-of-type {\n",
       "        vertical-align: middle;\n",
       "    }\n",
       "\n",
       "    .dataframe tbody tr th {\n",
       "        vertical-align: top;\n",
       "    }\n",
       "\n",
       "    .dataframe thead th {\n",
       "        text-align: right;\n",
       "    }\n",
       "</style>\n",
       "<table border=\"1\" class=\"dataframe\">\n",
       "  <thead>\n",
       "    <tr style=\"text-align: right;\">\n",
       "      <th>FFFX50</th>\n",
       "      <th>0: NO FRACTURE BEFORE BASELINE</th>\n",
       "      <th>1: FRACTURE AFTER AGE 50, BEFORE BASELINE</th>\n",
       "      <th>2: FRACTURE BEFORE AGE 50</th>\n",
       "    </tr>\n",
       "    <tr>\n",
       "      <th>FANOTMOF</th>\n",
       "      <th></th>\n",
       "      <th></th>\n",
       "      <th></th>\n",
       "    </tr>\n",
       "  </thead>\n",
       "  <tbody>\n",
       "    <tr>\n",
       "      <th>0.0</th>\n",
       "      <td>2407</td>\n",
       "      <td>1109</td>\n",
       "      <td>1725</td>\n",
       "    </tr>\n",
       "    <tr>\n",
       "      <th>1.0</th>\n",
       "      <td>244</td>\n",
       "      <td>220</td>\n",
       "      <td>201</td>\n",
       "    </tr>\n",
       "  </tbody>\n",
       "</table>\n",
       "</div>"
      ],
      "text/plain": [
       "FFFX50    0: NO FRACTURE BEFORE BASELINE  \\\n",
       "FANOTMOF                                   \n",
       "0.0                                 2407   \n",
       "1.0                                  244   \n",
       "\n",
       "FFFX50    1: FRACTURE AFTER AGE 50, BEFORE BASELINE  2: FRACTURE BEFORE AGE 50  \n",
       "FANOTMOF                                                                        \n",
       "0.0                                            1109                       1725  \n",
       "1.0                                             220                        201  "
      ]
     },
     "execution_count": 26,
     "metadata": {},
     "output_type": "execute_result"
    }
   ],
   "source": [
    "pd.crosstab(fracture_hist.FANOTMOF,fracture_hist.FFFX50)"
   ]
  },
  {
   "cell_type": "code",
   "execution_count": 27,
   "metadata": {},
   "outputs": [
    {
     "data": {
      "text/html": [
       "<div>\n",
       "<style scoped>\n",
       "    .dataframe tbody tr th:only-of-type {\n",
       "        vertical-align: middle;\n",
       "    }\n",
       "\n",
       "    .dataframe tbody tr th {\n",
       "        vertical-align: top;\n",
       "    }\n",
       "\n",
       "    .dataframe thead th {\n",
       "        text-align: right;\n",
       "    }\n",
       "</style>\n",
       "<table border=\"1\" class=\"dataframe\">\n",
       "  <thead>\n",
       "    <tr style=\"text-align: right;\">\n",
       "      <th>FFFX50</th>\n",
       "      <th>0: NO FRACTURE BEFORE BASELINE</th>\n",
       "      <th>1: FRACTURE AFTER AGE 50, BEFORE BASELINE</th>\n",
       "      <th>2: FRACTURE BEFORE AGE 50</th>\n",
       "    </tr>\n",
       "    <tr>\n",
       "      <th>FANOTMOF</th>\n",
       "      <th></th>\n",
       "      <th></th>\n",
       "      <th></th>\n",
       "    </tr>\n",
       "  </thead>\n",
       "  <tbody>\n",
       "    <tr>\n",
       "      <th>0.0</th>\n",
       "      <td>0.459263</td>\n",
       "      <td>0.211601</td>\n",
       "      <td>0.329136</td>\n",
       "    </tr>\n",
       "    <tr>\n",
       "      <th>1.0</th>\n",
       "      <td>0.366917</td>\n",
       "      <td>0.330827</td>\n",
       "      <td>0.302256</td>\n",
       "    </tr>\n",
       "  </tbody>\n",
       "</table>\n",
       "</div>"
      ],
      "text/plain": [
       "FFFX50    0: NO FRACTURE BEFORE BASELINE  \\\n",
       "FANOTMOF                                   \n",
       "0.0                             0.459263   \n",
       "1.0                             0.366917   \n",
       "\n",
       "FFFX50    1: FRACTURE AFTER AGE 50, BEFORE BASELINE  2: FRACTURE BEFORE AGE 50  \n",
       "FANOTMOF                                                                        \n",
       "0.0                                        0.211601                   0.329136  \n",
       "1.0                                        0.330827                   0.302256  "
      ]
     },
     "execution_count": 27,
     "metadata": {},
     "output_type": "execute_result"
    }
   ],
   "source": [
    "pd.crosstab(fracture_hist.FANOTMOF,fracture_hist.FFFX50,normalize=\"index\")"
   ]
  },
  {
   "cell_type": "code",
   "execution_count": 28,
   "metadata": {},
   "outputs": [],
   "source": [
    "contingency = pd.crosstab(fracture_hist.FANOTMOF,fracture_hist.FFFX50)\n",
    "res = chi2_contingency(contingency)"
   ]
  },
  {
   "cell_type": "code",
   "execution_count": 29,
   "metadata": {},
   "outputs": [
    {
     "data": {
      "text/html": [
       "<div>\n",
       "<style scoped>\n",
       "    .dataframe tbody tr th:only-of-type {\n",
       "        vertical-align: middle;\n",
       "    }\n",
       "\n",
       "    .dataframe tbody tr th {\n",
       "        vertical-align: top;\n",
       "    }\n",
       "\n",
       "    .dataframe thead th {\n",
       "        text-align: right;\n",
       "    }\n",
       "</style>\n",
       "<table border=\"1\" class=\"dataframe\">\n",
       "  <thead>\n",
       "    <tr style=\"text-align: right;\">\n",
       "      <th></th>\n",
       "      <th>0</th>\n",
       "      <th>1</th>\n",
       "      <th>2</th>\n",
       "    </tr>\n",
       "  </thead>\n",
       "  <tbody>\n",
       "    <tr>\n",
       "      <th>0</th>\n",
       "      <td>2352.504402</td>\n",
       "      <td>1179.35811</td>\n",
       "      <td>1709.137487</td>\n",
       "    </tr>\n",
       "    <tr>\n",
       "      <th>1</th>\n",
       "      <td>298.495598</td>\n",
       "      <td>149.64189</td>\n",
       "      <td>216.862513</td>\n",
       "    </tr>\n",
       "  </tbody>\n",
       "</table>\n",
       "</div>"
      ],
      "text/plain": [
       "             0           1            2\n",
       "0  2352.504402  1179.35811  1709.137487\n",
       "1   298.495598   149.64189   216.862513"
      ]
     },
     "execution_count": 29,
     "metadata": {},
     "output_type": "execute_result"
    }
   ],
   "source": [
    "pd.DataFrame(res[3])"
   ]
  },
  {
   "cell_type": "code",
   "execution_count": 30,
   "metadata": {},
   "outputs": [
    {
     "name": "stdout",
     "output_type": "stream",
     "text": [
      "The p-value is: 1.53703591538416e-11\n",
      "The test statistic is: 49.79716038290502\n",
      "Thus we must reject the null hypothesis and conclude the two variables are not independent\n"
     ]
    }
   ],
   "source": [
    "chi2Results(res)"
   ]
  },
  {
   "cell_type": "markdown",
   "metadata": {},
   "source": [
    "### <a name=\"eda_FR\"></a>Results for Modeling\n",
    "\n",
    "From this form, the variable that provides the most information is FFFX50, so to remove noise and capture the most variance that is what we will import into the final model."
   ]
  },
  {
   "cell_type": "code",
   "execution_count": 31,
   "metadata": {},
   "outputs": [],
   "source": [
    "results = form_ff_df[[\"ID\",\"FFFX50\"]]"
   ]
  },
  {
   "cell_type": "code",
   "execution_count": 33,
   "metadata": {},
   "outputs": [],
   "source": [
    "results.to_csv(\"/dsa/groups/casestudy2023su/team03/model_data/ff_results.csv\",index=False)\n",
    "os.chmod(\"/dsa/groups/casestudy2023su/team03/model_data/ff_results.csv\",0o777)\n",
    "\n",
    "file_path_with_nulls = \"/dsa/groups/casestudy2023su/team03/model_data/null_included/FF_results_with_nulls.csv\"\n",
    "ff_with_nulls.to_csv(file_path_with_nulls, index=False)\n",
    "os.chmod(file_path_with_nulls, 0o777)"
   ]
  },
  {
   "cell_type": "code",
   "execution_count": null,
   "metadata": {},
   "outputs": [],
   "source": []
  }
 ],
 "metadata": {
  "kernelspec": {
   "display_name": "Python 3",
   "language": "python",
   "name": "python3"
  },
  "language_info": {
   "codemirror_mode": {
    "name": "ipython",
    "version": 3
   },
   "file_extension": ".py",
   "mimetype": "text/x-python",
   "name": "python",
   "nbconvert_exporter": "python",
   "pygments_lexer": "ipython3",
   "version": "3.7.3"
  }
 },
 "nbformat": 4,
 "nbformat_minor": 2
}
