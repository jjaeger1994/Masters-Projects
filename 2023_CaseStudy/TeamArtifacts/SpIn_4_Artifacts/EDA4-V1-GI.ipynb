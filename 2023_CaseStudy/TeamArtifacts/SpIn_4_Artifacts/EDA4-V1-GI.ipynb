{
 "cells": [
  {
   "cell_type": "markdown",
   "metadata": {},
   "source": [
    "## Analysis of General Information Form in MrOS V1 Data (EDA3-V1-GI.ipynb)\n",
    "The General Information Form is essential in understanding the demographics and backgrounds of the survey population. It provides information related to social determinants of health.\n",
    "\n",
    "#### 1. [Installation and Importing of Libraries](#eda_import)\n",
    "#### 2. [Retreival of Data](#eda_retrieval)\n",
    "#### 3. [Handling of NAs](#eda_na)\n",
    "#### 4. [Descriptive Statistics and Visualizations](#eda_describe)\n",
    "#### 5. [Bivariate Analysis and Visualizations](#eda_bivariate)\n",
    "#### 6. [Results for Modeling](#eda_FR)"
   ]
  },
  {
   "cell_type": "markdown",
   "metadata": {},
   "source": [
    "### <a name=\"eda_import\"></a>Installation and Importing of Libraries\n",
    "In order to both explore and visualize the data, it's necessary for us to load various libraries.  In addition to loading already pre-installed libraries, we've also had to install seaborn for plotting. "
   ]
  },
  {
   "cell_type": "code",
   "execution_count": 2,
   "metadata": {},
   "outputs": [
    {
     "name": "stdout",
     "output_type": "stream",
     "text": [
      "Requirement already up-to-date: seaborn in /opt/conda/lib/python3.7/site-packages (0.12.2)\n",
      "Requirement already satisfied, skipping upgrade: matplotlib!=3.6.1,>=3.1 in /opt/conda/lib/python3.7/site-packages (from seaborn) (3.1.1)\n",
      "Requirement already satisfied, skipping upgrade: typing_extensions; python_version < \"3.8\" in /opt/conda/lib/python3.7/site-packages (from seaborn) (4.7.1)\n",
      "Requirement already satisfied, skipping upgrade: numpy!=1.24.0,>=1.17 in /opt/conda/lib/python3.7/site-packages (from seaborn) (1.17.3)\n",
      "Requirement already satisfied, skipping upgrade: pandas>=0.25 in /opt/conda/lib/python3.7/site-packages (from seaborn) (0.25.2)\n",
      "Requirement already satisfied, skipping upgrade: kiwisolver>=1.0.1 in /opt/conda/lib/python3.7/site-packages (from matplotlib!=3.6.1,>=3.1->seaborn) (1.1.0)\n",
      "Requirement already satisfied, skipping upgrade: cycler>=0.10 in /opt/conda/lib/python3.7/site-packages (from matplotlib!=3.6.1,>=3.1->seaborn) (0.10.0)\n",
      "Requirement already satisfied, skipping upgrade: python-dateutil>=2.1 in /opt/conda/lib/python3.7/site-packages (from matplotlib!=3.6.1,>=3.1->seaborn) (2.8.0)\n",
      "Requirement already satisfied, skipping upgrade: pyparsing!=2.0.4,!=2.1.2,!=2.1.6,>=2.0.1 in /opt/conda/lib/python3.7/site-packages (from matplotlib!=3.6.1,>=3.1->seaborn) (2.4.2)\n",
      "Requirement already satisfied, skipping upgrade: pytz>=2017.2 in /opt/conda/lib/python3.7/site-packages (from pandas>=0.25->seaborn) (2019.2)\n",
      "Requirement already satisfied, skipping upgrade: setuptools in /opt/conda/lib/python3.7/site-packages (from kiwisolver>=1.0.1->matplotlib!=3.6.1,>=3.1->seaborn) (41.0.1)\n",
      "Requirement already satisfied, skipping upgrade: six in /opt/conda/lib/python3.7/site-packages (from cycler>=0.10->matplotlib!=3.6.1,>=3.1->seaborn) (1.12.0)\n"
     ]
    }
   ],
   "source": [
    "!pip install seaborn --upgrade"
   ]
  },
  {
   "cell_type": "code",
   "execution_count": 3,
   "metadata": {},
   "outputs": [],
   "source": [
    "import numpy as np\n",
    "import pandas as pd\n",
    "import matplotlib.pyplot as plt\n",
    "import seaborn as sns\n",
    "import seaborn.objects as so\n",
    "from sklearn.decomposition import PCA\n",
    "import mpl_toolkits.mplot3d\n",
    "from scipy.stats import chi2_contingency\n",
    "import os\n"
   ]
  },
  {
   "cell_type": "markdown",
   "metadata": {},
   "source": [
    "### <a name=\"eda_retrieval\"></a>Retreival of Data\n",
    "The data needs to be retrieved from the Postgres database and stored in a dataframe for us to begin analyzing."
   ]
  },
  {
   "cell_type": "code",
   "execution_count": 4,
   "metadata": {},
   "outputs": [
    {
     "name": "stdout",
     "output_type": "stream",
     "text": [
      "········\n"
     ]
    }
   ],
   "source": [
    "import psycopg2\n",
    "import sqlalchemy\n",
    "import getpass\n",
    "\n",
    "user = \"jwj8c8\"\n",
    "host = \"pgsql.dsa.lan\"\n",
    "database = \"casestdysu23t03\"\n",
    "password = getpass.getpass()\n",
    "connectionstring = \"postgresql://\" + user + \":\" + password + \"@\" + host + \"/\" + database\n",
    "engine = sqlalchemy.create_engine(connectionstring)\n",
    "connection = None\n",
    "\n",
    "try:\n",
    "    connection = engine.connect()\n",
    "except Exception as err:\n",
    "    print(\"An error has occurred trying to connect: {}\".format(err))\n",
    "\n",
    "del password"
   ]
  },
  {
   "cell_type": "code",
   "execution_count": 5,
   "metadata": {},
   "outputs": [],
   "source": [
    "def binary2StringLiteral(df):\n",
    "    for column in df.columns:\n",
    "        if df[column].dtype == \"object\":\n",
    "            df[column] = df[column].str.decode('utf-8')"
   ]
  },
  {
   "cell_type": "code",
   "execution_count": 6,
   "metadata": {},
   "outputs": [],
   "source": [
    "def chi2Results(res,alpha=0.05):\n",
    "    print(f\"The p-value is: {res[1]}\")\n",
    "    print(f\"The test statistic is: {res[0]}\")\n",
    "    if res[1] > alpha:\n",
    "        print(\"Thus we cannot reject the null hypthesis and the two variables are independent\")\n",
    "    else:\n",
    "        print(\"Thus we must reject the null hypothesis and conclude the two variables are not independent\")"
   ]
  },
  {
   "cell_type": "markdown",
   "metadata": {},
   "source": [
    "<h4> Fracture Incidence </h4>"
   ]
  },
  {
   "cell_type": "code",
   "execution_count": 7,
   "metadata": {},
   "outputs": [],
   "source": [
    "fafeb23_df = pd.read_sas(\"/dsa/groups/casestudy2023su/team03/FAFEB23.SAS7BDAT\")\n",
    "fafeb23_df = fafeb23_df[[\"ID\",\"FANOTMOF\"]]\n",
    "binary2StringLiteral(fafeb23_df)"
   ]
  },
  {
   "cell_type": "markdown",
   "metadata": {},
   "source": [
    "<h4> Form GI </h4>"
   ]
  },
  {
   "cell_type": "code",
   "execution_count": 8,
   "metadata": {},
   "outputs": [],
   "source": [
    "query = \"SELECT * FROM public.v1_form_gi\"\n",
    "form_gi_df = pd.read_sql_query(query, con=connection)"
   ]
  },
  {
   "cell_type": "code",
   "execution_count": 41,
   "metadata": {},
   "outputs": [],
   "source": [
    "form_gi_df.shape\n",
    "gi_with_nulls = form_gi_df\n",
    "form_gi_final = form_gi_df[[\"ID\",\"GIEDUC\",\"GIERACE\",\"GISOC\",\"GIAGE1\"]]"
   ]
  },
  {
   "cell_type": "markdown",
   "metadata": {},
   "source": [
    "### <a name=\"eda_na\"></a>Handling of NAs\n",
    "After reviewing, the GI form has a high completion rate meaning it won't be necessary to do additional processing on the NA values. "
   ]
  },
  {
   "cell_type": "code",
   "execution_count": 10,
   "metadata": {},
   "outputs": [
    {
     "data": {
      "text/plain": [
       "ID          0\n",
       "GIMSTAT     0\n",
       "GILIVE      0\n",
       "GIEDUC      0\n",
       "GISOC       0\n",
       "GIWHITE     0\n",
       "GIAA        0\n",
       "GIASIAN     0\n",
       "GIHISPA     0\n",
       "GIAI        0\n",
       "GIPI        0\n",
       "GIAGE1      0\n",
       "GIAGE1RG    0\n",
       "GIRACE      0\n",
       "GIERACE     0\n",
       "GI          0\n",
       "dtype: int64"
      ]
     },
     "execution_count": 10,
     "metadata": {},
     "output_type": "execute_result"
    }
   ],
   "source": [
    "form_gi_df.isna().sum().T"
   ]
  },
  {
   "cell_type": "markdown",
   "metadata": {},
   "source": [
    "The GI form has a high completion rate. Little to no nulls."
   ]
  },
  {
   "cell_type": "markdown",
   "metadata": {},
   "source": [
    "<a name=\"eda_describe\"></a><h3> Descriptive Statistics and Visualizations </h3>\n",
    "Below are a set of descriptive statistics meant to familiarize the audience"
   ]
  },
  {
   "cell_type": "code",
   "execution_count": 11,
   "metadata": {},
   "outputs": [
    {
     "data": {
      "text/html": [
       "<div>\n",
       "<style scoped>\n",
       "    .dataframe tbody tr th:only-of-type {\n",
       "        vertical-align: middle;\n",
       "    }\n",
       "\n",
       "    .dataframe tbody tr th {\n",
       "        vertical-align: top;\n",
       "    }\n",
       "\n",
       "    .dataframe thead th {\n",
       "        text-align: right;\n",
       "    }\n",
       "</style>\n",
       "<table border=\"1\" class=\"dataframe\">\n",
       "  <thead>\n",
       "    <tr style=\"text-align: right;\">\n",
       "      <th></th>\n",
       "      <th>count</th>\n",
       "      <th>mean</th>\n",
       "      <th>std</th>\n",
       "      <th>min</th>\n",
       "      <th>25%</th>\n",
       "      <th>50%</th>\n",
       "      <th>75%</th>\n",
       "      <th>max</th>\n",
       "    </tr>\n",
       "  </thead>\n",
       "  <tbody>\n",
       "    <tr>\n",
       "      <th>GIMSTAT</th>\n",
       "      <td>5994.0</td>\n",
       "      <td>1.371038</td>\n",
       "      <td>0.941543</td>\n",
       "      <td>1.0</td>\n",
       "      <td>1.0</td>\n",
       "      <td>1.0</td>\n",
       "      <td>1.0</td>\n",
       "      <td>5.0</td>\n",
       "    </tr>\n",
       "    <tr>\n",
       "      <th>GILIVE</th>\n",
       "      <td>5994.0</td>\n",
       "      <td>1.859860</td>\n",
       "      <td>0.347161</td>\n",
       "      <td>1.0</td>\n",
       "      <td>2.0</td>\n",
       "      <td>2.0</td>\n",
       "      <td>2.0</td>\n",
       "      <td>2.0</td>\n",
       "    </tr>\n",
       "    <tr>\n",
       "      <th>GIWHITE</th>\n",
       "      <td>5994.0</td>\n",
       "      <td>0.907741</td>\n",
       "      <td>0.289415</td>\n",
       "      <td>0.0</td>\n",
       "      <td>1.0</td>\n",
       "      <td>1.0</td>\n",
       "      <td>1.0</td>\n",
       "      <td>1.0</td>\n",
       "    </tr>\n",
       "    <tr>\n",
       "      <th>GIAA</th>\n",
       "      <td>5994.0</td>\n",
       "      <td>0.042376</td>\n",
       "      <td>0.201462</td>\n",
       "      <td>0.0</td>\n",
       "      <td>0.0</td>\n",
       "      <td>0.0</td>\n",
       "      <td>0.0</td>\n",
       "      <td>1.0</td>\n",
       "    </tr>\n",
       "    <tr>\n",
       "      <th>GIASIAN</th>\n",
       "      <td>5994.0</td>\n",
       "      <td>0.032699</td>\n",
       "      <td>0.177863</td>\n",
       "      <td>0.0</td>\n",
       "      <td>0.0</td>\n",
       "      <td>0.0</td>\n",
       "      <td>0.0</td>\n",
       "      <td>1.0</td>\n",
       "    </tr>\n",
       "    <tr>\n",
       "      <th>GIHISPA</th>\n",
       "      <td>5994.0</td>\n",
       "      <td>0.021021</td>\n",
       "      <td>0.143466</td>\n",
       "      <td>0.0</td>\n",
       "      <td>0.0</td>\n",
       "      <td>0.0</td>\n",
       "      <td>0.0</td>\n",
       "      <td>1.0</td>\n",
       "    </tr>\n",
       "    <tr>\n",
       "      <th>GIAI</th>\n",
       "      <td>5994.0</td>\n",
       "      <td>0.009510</td>\n",
       "      <td>0.097060</td>\n",
       "      <td>0.0</td>\n",
       "      <td>0.0</td>\n",
       "      <td>0.0</td>\n",
       "      <td>0.0</td>\n",
       "      <td>1.0</td>\n",
       "    </tr>\n",
       "    <tr>\n",
       "      <th>GIPI</th>\n",
       "      <td>5994.0</td>\n",
       "      <td>0.002503</td>\n",
       "      <td>0.049967</td>\n",
       "      <td>0.0</td>\n",
       "      <td>0.0</td>\n",
       "      <td>0.0</td>\n",
       "      <td>0.0</td>\n",
       "      <td>1.0</td>\n",
       "    </tr>\n",
       "    <tr>\n",
       "      <th>GIAGE1</th>\n",
       "      <td>5994.0</td>\n",
       "      <td>73.657658</td>\n",
       "      <td>5.872264</td>\n",
       "      <td>64.0</td>\n",
       "      <td>69.0</td>\n",
       "      <td>73.0</td>\n",
       "      <td>78.0</td>\n",
       "      <td>100.0</td>\n",
       "    </tr>\n",
       "    <tr>\n",
       "      <th>GIAGE1RG</th>\n",
       "      <td>5994.0</td>\n",
       "      <td>2.303637</td>\n",
       "      <td>1.076839</td>\n",
       "      <td>1.0</td>\n",
       "      <td>1.0</td>\n",
       "      <td>2.0</td>\n",
       "      <td>3.0</td>\n",
       "      <td>4.0</td>\n",
       "    </tr>\n",
       "    <tr>\n",
       "      <th>GIRACE</th>\n",
       "      <td>5994.0</td>\n",
       "      <td>1.261929</td>\n",
       "      <td>0.986203</td>\n",
       "      <td>1.0</td>\n",
       "      <td>1.0</td>\n",
       "      <td>1.0</td>\n",
       "      <td>1.0</td>\n",
       "      <td>7.0</td>\n",
       "    </tr>\n",
       "    <tr>\n",
       "      <th>GI</th>\n",
       "      <td>5994.0</td>\n",
       "      <td>1.000000</td>\n",
       "      <td>0.000000</td>\n",
       "      <td>1.0</td>\n",
       "      <td>1.0</td>\n",
       "      <td>1.0</td>\n",
       "      <td>1.0</td>\n",
       "      <td>1.0</td>\n",
       "    </tr>\n",
       "  </tbody>\n",
       "</table>\n",
       "</div>"
      ],
      "text/plain": [
       "           count       mean       std   min   25%   50%   75%    max\n",
       "GIMSTAT   5994.0   1.371038  0.941543   1.0   1.0   1.0   1.0    5.0\n",
       "GILIVE    5994.0   1.859860  0.347161   1.0   2.0   2.0   2.0    2.0\n",
       "GIWHITE   5994.0   0.907741  0.289415   0.0   1.0   1.0   1.0    1.0\n",
       "GIAA      5994.0   0.042376  0.201462   0.0   0.0   0.0   0.0    1.0\n",
       "GIASIAN   5994.0   0.032699  0.177863   0.0   0.0   0.0   0.0    1.0\n",
       "GIHISPA   5994.0   0.021021  0.143466   0.0   0.0   0.0   0.0    1.0\n",
       "GIAI      5994.0   0.009510  0.097060   0.0   0.0   0.0   0.0    1.0\n",
       "GIPI      5994.0   0.002503  0.049967   0.0   0.0   0.0   0.0    1.0\n",
       "GIAGE1    5994.0  73.657658  5.872264  64.0  69.0  73.0  78.0  100.0\n",
       "GIAGE1RG  5994.0   2.303637  1.076839   1.0   1.0   2.0   3.0    4.0\n",
       "GIRACE    5994.0   1.261929  0.986203   1.0   1.0   1.0   1.0    7.0\n",
       "GI        5994.0   1.000000  0.000000   1.0   1.0   1.0   1.0    1.0"
      ]
     },
     "execution_count": 11,
     "metadata": {},
     "output_type": "execute_result"
    }
   ],
   "source": [
    "form_gi_df.describe().T"
   ]
  },
  {
   "cell_type": "code",
   "execution_count": 12,
   "metadata": {},
   "outputs": [
    {
     "data": {
      "text/plain": [
       "<matplotlib.axes._subplots.AxesSubplot at 0x7fa819d10780>"
      ]
     },
     "execution_count": 12,
     "metadata": {},
     "output_type": "execute_result"
    },
    {
     "data": {
      "image/png": "[encoded data removed]",
      "text/plain": [
       "<Figure size 432x288 with 1 Axes>"
      ]
     },
     "metadata": {
      "needs_background": "light"
     },
     "output_type": "display_data"
    }
   ],
   "source": [
    "sns.countplot(data=form_gi_df.sort_values(\"GIERACE\"),y=\"GIERACE\")"
   ]
  },
  {
   "cell_type": "markdown",
   "metadata": {},
   "source": [
    "This data set is predominantly white with only small representation from other ethnic groups"
   ]
  },
  {
   "cell_type": "code",
   "execution_count": 13,
   "metadata": {},
   "outputs": [
    {
     "data": {
      "text/plain": [
       "<matplotlib.axes._subplots.AxesSubplot at 0x7fa819e08780>"
      ]
     },
     "execution_count": 13,
     "metadata": {},
     "output_type": "execute_result"
    },
    {
     "data": {
      "image/png": "[encoded data removed]",
      "text/plain": [
       "<Figure size 432x288 with 1 Axes>"
      ]
     },
     "metadata": {
      "needs_background": "light"
     },
     "output_type": "display_data"
    }
   ],
   "source": [
    "sns.countplot(data=form_gi_df.sort_values(\"GIEDUC\"),y=\"GIEDUC\")"
   ]
  },
  {
   "cell_type": "code",
   "execution_count": 14,
   "metadata": {},
   "outputs": [
    {
     "data": {
      "text/plain": [
       "<matplotlib.axes._subplots.AxesSubplot at 0x7fa81a010160>"
      ]
     },
     "execution_count": 14,
     "metadata": {},
     "output_type": "execute_result"
    },
    {
     "data": {
      "image/png": "[encoded data removed]",
      "text/plain": [
       "<Figure size 432x288 with 1 Axes>"
      ]
     },
     "metadata": {
      "needs_background": "light"
     },
     "output_type": "display_data"
    }
   ],
   "source": [
    "sns.countplot(data=form_gi_df.sort_values(\"GISOC\"), y=\"GISOC\")"
   ]
  },
  {
   "cell_type": "code",
   "execution_count": 15,
   "metadata": {},
   "outputs": [
    {
     "data": {
      "text/plain": [
       "<matplotlib.axes._subplots.AxesSubplot at 0x7fa819deb1d0>"
      ]
     },
     "execution_count": 15,
     "metadata": {},
     "output_type": "execute_result"
    },
    {
     "data": {
      "image/png": "[encoded data removed]",
      "text/plain": [
       "<Figure size 432x288 with 1 Axes>"
      ]
     },
     "metadata": {
      "needs_background": "light"
     },
     "output_type": "display_data"
    }
   ],
   "source": [
    "sns.histplot(data=form_gi_df, x=\"GIAGE1\")"
   ]
  },
  {
   "cell_type": "markdown",
   "metadata": {},
   "source": [
    "<a name=\"eda_bivariate\"></a><h3> Bivariate Statistics and Visualizations </h3>\n",
    "Below is a bivariate analysis used to determine the relationship between the incidence of fracture and our values in form GI."
   ]
  },
  {
   "cell_type": "code",
   "execution_count": 16,
   "metadata": {},
   "outputs": [],
   "source": [
    "mergedData = form_gi_df.merge(fafeb23_df,on=\"ID\",how=\"inner\")"
   ]
  },
  {
   "cell_type": "code",
   "execution_count": 17,
   "metadata": {},
   "outputs": [],
   "source": [
    "mergedData = mergedData.dropna()"
   ]
  },
  {
   "cell_type": "markdown",
   "metadata": {},
   "source": [
    "#### Education Vs Fracture.\n"
   ]
  },
  {
   "cell_type": "code",
   "execution_count": 18,
   "metadata": {},
   "outputs": [
    {
     "data": {
      "text/plain": [
       "<matplotlib.axes._subplots.AxesSubplot at 0x7fa819c21438>"
      ]
     },
     "execution_count": 18,
     "metadata": {},
     "output_type": "execute_result"
    },
    {
     "data": {
      "image/png": "[encoded data removed]",
      "text/plain": [
       "<Figure size 432x288 with 1 Axes>"
      ]
     },
     "metadata": {
      "needs_background": "light"
     },
     "output_type": "display_data"
    }
   ],
   "source": [
    "plot_data = mergedData.groupby(\"FANOTMOF\")[\"GIEDUC\"].value_counts(normalize=True).mul(100).rename(\"percent\").reset_index()\n",
    "sns.barplot(data=plot_data,x=\"percent\",y=\"GIEDUC\", hue=\"FANOTMOF\")"
   ]
  },
  {
   "cell_type": "markdown",
   "metadata": {},
   "source": [
    "##### Contingency Tables"
   ]
  },
  {
   "cell_type": "code",
   "execution_count": 19,
   "metadata": {},
   "outputs": [
    {
     "data": {
      "text/html": [
       "<div>\n",
       "<style scoped>\n",
       "    .dataframe tbody tr th:only-of-type {\n",
       "        vertical-align: middle;\n",
       "    }\n",
       "\n",
       "    .dataframe tbody tr th {\n",
       "        vertical-align: top;\n",
       "    }\n",
       "\n",
       "    .dataframe thead th {\n",
       "        text-align: right;\n",
       "    }\n",
       "</style>\n",
       "<table border=\"1\" class=\"dataframe\">\n",
       "  <thead>\n",
       "    <tr style=\"text-align: right;\">\n",
       "      <th>GIEDUC</th>\n",
       "      <th>1. Some Elementary</th>\n",
       "      <th>2. Elementary</th>\n",
       "      <th>3. Some Highschool</th>\n",
       "      <th>4. High School</th>\n",
       "      <th>5. Some College</th>\n",
       "      <th>6. College</th>\n",
       "      <th>7. Some Grad</th>\n",
       "      <th>8. Grad School</th>\n",
       "    </tr>\n",
       "    <tr>\n",
       "      <th>FANOTMOF</th>\n",
       "      <th></th>\n",
       "      <th></th>\n",
       "      <th></th>\n",
       "      <th></th>\n",
       "      <th></th>\n",
       "      <th></th>\n",
       "      <th></th>\n",
       "      <th></th>\n",
       "    </tr>\n",
       "  </thead>\n",
       "  <tbody>\n",
       "    <tr>\n",
       "      <th>0.0</th>\n",
       "      <td>17</td>\n",
       "      <td>86</td>\n",
       "      <td>250</td>\n",
       "      <td>924</td>\n",
       "      <td>1214</td>\n",
       "      <td>939</td>\n",
       "      <td>551</td>\n",
       "      <td>1268</td>\n",
       "    </tr>\n",
       "    <tr>\n",
       "      <th>1.0</th>\n",
       "      <td>0</td>\n",
       "      <td>10</td>\n",
       "      <td>27</td>\n",
       "      <td>100</td>\n",
       "      <td>147</td>\n",
       "      <td>139</td>\n",
       "      <td>73</td>\n",
       "      <td>170</td>\n",
       "    </tr>\n",
       "  </tbody>\n",
       "</table>\n",
       "</div>"
      ],
      "text/plain": [
       "GIEDUC    1. Some Elementary  2. Elementary  3. Some Highschool  \\\n",
       "FANOTMOF                                                          \n",
       "0.0                       17             86                 250   \n",
       "1.0                        0             10                  27   \n",
       "\n",
       "GIEDUC    4. High School  5. Some College  6. College  7. Some Grad  \\\n",
       "FANOTMOF                                                              \n",
       "0.0                  924             1214         939           551   \n",
       "1.0                  100              147         139            73   \n",
       "\n",
       "GIEDUC    8. Grad School  \n",
       "FANOTMOF                  \n",
       "0.0                 1268  \n",
       "1.0                  170  "
      ]
     },
     "execution_count": 19,
     "metadata": {},
     "output_type": "execute_result"
    }
   ],
   "source": [
    "pd.crosstab(mergedData.FANOTMOF,mergedData.GIEDUC)"
   ]
  },
  {
   "cell_type": "code",
   "execution_count": 20,
   "metadata": {},
   "outputs": [
    {
     "data": {
      "text/html": [
       "<div>\n",
       "<style scoped>\n",
       "    .dataframe tbody tr th:only-of-type {\n",
       "        vertical-align: middle;\n",
       "    }\n",
       "\n",
       "    .dataframe tbody tr th {\n",
       "        vertical-align: top;\n",
       "    }\n",
       "\n",
       "    .dataframe thead th {\n",
       "        text-align: right;\n",
       "    }\n",
       "</style>\n",
       "<table border=\"1\" class=\"dataframe\">\n",
       "  <thead>\n",
       "    <tr style=\"text-align: right;\">\n",
       "      <th>GIEDUC</th>\n",
       "      <th>1. Some Elementary</th>\n",
       "      <th>2. Elementary</th>\n",
       "      <th>3. Some Highschool</th>\n",
       "      <th>4. High School</th>\n",
       "      <th>5. Some College</th>\n",
       "      <th>6. College</th>\n",
       "      <th>7. Some Grad</th>\n",
       "      <th>8. Grad School</th>\n",
       "    </tr>\n",
       "    <tr>\n",
       "      <th>FANOTMOF</th>\n",
       "      <th></th>\n",
       "      <th></th>\n",
       "      <th></th>\n",
       "      <th></th>\n",
       "      <th></th>\n",
       "      <th></th>\n",
       "      <th></th>\n",
       "      <th></th>\n",
       "    </tr>\n",
       "  </thead>\n",
       "  <tbody>\n",
       "    <tr>\n",
       "      <th>0.0</th>\n",
       "      <td>0.003239</td>\n",
       "      <td>0.016384</td>\n",
       "      <td>0.047628</td>\n",
       "      <td>0.176034</td>\n",
       "      <td>0.231282</td>\n",
       "      <td>0.178891</td>\n",
       "      <td>0.104972</td>\n",
       "      <td>0.241570</td>\n",
       "    </tr>\n",
       "    <tr>\n",
       "      <th>1.0</th>\n",
       "      <td>0.000000</td>\n",
       "      <td>0.015015</td>\n",
       "      <td>0.040541</td>\n",
       "      <td>0.150150</td>\n",
       "      <td>0.220721</td>\n",
       "      <td>0.208709</td>\n",
       "      <td>0.109610</td>\n",
       "      <td>0.255255</td>\n",
       "    </tr>\n",
       "  </tbody>\n",
       "</table>\n",
       "</div>"
      ],
      "text/plain": [
       "GIEDUC    1. Some Elementary  2. Elementary  3. Some Highschool  \\\n",
       "FANOTMOF                                                          \n",
       "0.0                 0.003239       0.016384            0.047628   \n",
       "1.0                 0.000000       0.015015            0.040541   \n",
       "\n",
       "GIEDUC    4. High School  5. Some College  6. College  7. Some Grad  \\\n",
       "FANOTMOF                                                              \n",
       "0.0             0.176034         0.231282    0.178891      0.104972   \n",
       "1.0             0.150150         0.220721    0.208709      0.109610   \n",
       "\n",
       "GIEDUC    8. Grad School  \n",
       "FANOTMOF                  \n",
       "0.0             0.241570  \n",
       "1.0             0.255255  "
      ]
     },
     "execution_count": 20,
     "metadata": {},
     "output_type": "execute_result"
    }
   ],
   "source": [
    "pd.crosstab(mergedData.FANOTMOF,mergedData.GIEDUC,normalize=\"index\")"
   ]
  },
  {
   "cell_type": "markdown",
   "metadata": {},
   "source": [
    "##### Chi-Squared Test of Independence"
   ]
  },
  {
   "cell_type": "code",
   "execution_count": 21,
   "metadata": {},
   "outputs": [],
   "source": [
    "contingency = pd.crosstab(mergedData[~mergedData.GIEDUC.isin([\"1. Some Elementary\"])].FANOTMOF,mergedData[~mergedData.GIEDUC.isin([\"1. Some Elementary\"])].GIEDUC)\n",
    "res = chi2_contingency(contingency)"
   ]
  },
  {
   "cell_type": "code",
   "execution_count": 22,
   "metadata": {},
   "outputs": [
    {
     "data": {
      "text/html": [
       "<div>\n",
       "<style scoped>\n",
       "    .dataframe tbody tr th:only-of-type {\n",
       "        vertical-align: middle;\n",
       "    }\n",
       "\n",
       "    .dataframe tbody tr th {\n",
       "        vertical-align: top;\n",
       "    }\n",
       "\n",
       "    .dataframe thead th {\n",
       "        text-align: right;\n",
       "    }\n",
       "</style>\n",
       "<table border=\"1\" class=\"dataframe\">\n",
       "  <thead>\n",
       "    <tr style=\"text-align: right;\">\n",
       "      <th></th>\n",
       "      <th>0</th>\n",
       "      <th>1</th>\n",
       "      <th>2</th>\n",
       "      <th>3</th>\n",
       "      <th>4</th>\n",
       "      <th>5</th>\n",
       "      <th>6</th>\n",
       "    </tr>\n",
       "  </thead>\n",
       "  <tbody>\n",
       "    <tr>\n",
       "      <th>0</th>\n",
       "      <td>85.159715</td>\n",
       "      <td>245.721261</td>\n",
       "      <td>908.370295</td>\n",
       "      <td>1207.316378</td>\n",
       "      <td>956.272635</td>\n",
       "      <td>553.538149</td>\n",
       "      <td>1275.621567</td>\n",
       "    </tr>\n",
       "    <tr>\n",
       "      <th>1</th>\n",
       "      <td>10.840285</td>\n",
       "      <td>31.278739</td>\n",
       "      <td>115.629705</td>\n",
       "      <td>153.683622</td>\n",
       "      <td>121.727365</td>\n",
       "      <td>70.461851</td>\n",
       "      <td>162.378433</td>\n",
       "    </tr>\n",
       "  </tbody>\n",
       "</table>\n",
       "</div>"
      ],
      "text/plain": [
       "           0           1           2            3           4           5  \\\n",
       "0  85.159715  245.721261  908.370295  1207.316378  956.272635  553.538149   \n",
       "1  10.840285   31.278739  115.629705   153.683622  121.727365   70.461851   \n",
       "\n",
       "             6  \n",
       "0  1275.621567  \n",
       "1   162.378433  "
      ]
     },
     "execution_count": 22,
     "metadata": {},
     "output_type": "execute_result"
    }
   ],
   "source": [
    "## Expected values\n",
    "pd.DataFrame(res[3])"
   ]
  },
  {
   "cell_type": "code",
   "execution_count": 23,
   "metadata": {},
   "outputs": [
    {
     "name": "stdout",
     "output_type": "stream",
     "text": [
      "The p-value is: 0.3483289303295525\n",
      "The test statistic is: 6.711748646581272\n",
      "Thus we cannot reject the null hypthesis and the two variables are independent\n"
     ]
    }
   ],
   "source": [
    "chi2Results(res)"
   ]
  },
  {
   "cell_type": "markdown",
   "metadata": {},
   "source": [
    "#### Race Vs Fracture.\n"
   ]
  },
  {
   "cell_type": "code",
   "execution_count": 24,
   "metadata": {},
   "outputs": [
    {
     "data": {
      "text/plain": [
       "<matplotlib.axes._subplots.AxesSubplot at 0x7fa819be4518>"
      ]
     },
     "execution_count": 24,
     "metadata": {},
     "output_type": "execute_result"
    },
    {
     "data": {
      "image/png": "[encoded data removed]",
      "text/plain": [
       "<Figure size 432x288 with 1 Axes>"
      ]
     },
     "metadata": {
      "needs_background": "light"
     },
     "output_type": "display_data"
    }
   ],
   "source": [
    "plot_data = mergedData.groupby(\"FANOTMOF\")[\"GIERACE\"].value_counts(normalize=True).mul(100).rename(\"percent\").reset_index()\n",
    "sns.barplot(data=plot_data,x=\"percent\",y=\"GIERACE\", hue=\"FANOTMOF\")"
   ]
  },
  {
   "cell_type": "markdown",
   "metadata": {},
   "source": [
    "##### Contingency Tables"
   ]
  },
  {
   "cell_type": "code",
   "execution_count": 25,
   "metadata": {},
   "outputs": [
    {
     "data": {
      "text/html": [
       "<div>\n",
       "<style scoped>\n",
       "    .dataframe tbody tr th:only-of-type {\n",
       "        vertical-align: middle;\n",
       "    }\n",
       "\n",
       "    .dataframe tbody tr th {\n",
       "        vertical-align: top;\n",
       "    }\n",
       "\n",
       "    .dataframe thead th {\n",
       "        text-align: right;\n",
       "    }\n",
       "</style>\n",
       "<table border=\"1\" class=\"dataframe\">\n",
       "  <thead>\n",
       "    <tr style=\"text-align: right;\">\n",
       "      <th>GIERACE</th>\n",
       "      <th>1. WHITE</th>\n",
       "      <th>2. AFRICAN AMERICAN</th>\n",
       "      <th>3. ASIAN</th>\n",
       "      <th>4. HISPANIC</th>\n",
       "      <th>5. OTHER</th>\n",
       "    </tr>\n",
       "    <tr>\n",
       "      <th>FANOTMOF</th>\n",
       "      <th></th>\n",
       "      <th></th>\n",
       "      <th></th>\n",
       "      <th></th>\n",
       "      <th></th>\n",
       "    </tr>\n",
       "  </thead>\n",
       "  <tbody>\n",
       "    <tr>\n",
       "      <th>0.0</th>\n",
       "      <td>4664</td>\n",
       "      <td>230</td>\n",
       "      <td>172</td>\n",
       "      <td>116</td>\n",
       "      <td>67</td>\n",
       "    </tr>\n",
       "    <tr>\n",
       "      <th>1.0</th>\n",
       "      <td>624</td>\n",
       "      <td>13</td>\n",
       "      <td>17</td>\n",
       "      <td>9</td>\n",
       "      <td>3</td>\n",
       "    </tr>\n",
       "  </tbody>\n",
       "</table>\n",
       "</div>"
      ],
      "text/plain": [
       "GIERACE   1. WHITE  2. AFRICAN AMERICAN  3. ASIAN  4. HISPANIC  5. OTHER\n",
       "FANOTMOF                                                                \n",
       "0.0           4664                  230       172          116        67\n",
       "1.0            624                   13        17            9         3"
      ]
     },
     "execution_count": 25,
     "metadata": {},
     "output_type": "execute_result"
    }
   ],
   "source": [
    "pd.crosstab(mergedData.FANOTMOF, mergedData.GIERACE)"
   ]
  },
  {
   "cell_type": "code",
   "execution_count": 26,
   "metadata": {},
   "outputs": [
    {
     "data": {
      "text/html": [
       "<div>\n",
       "<style scoped>\n",
       "    .dataframe tbody tr th:only-of-type {\n",
       "        vertical-align: middle;\n",
       "    }\n",
       "\n",
       "    .dataframe tbody tr th {\n",
       "        vertical-align: top;\n",
       "    }\n",
       "\n",
       "    .dataframe thead th {\n",
       "        text-align: right;\n",
       "    }\n",
       "</style>\n",
       "<table border=\"1\" class=\"dataframe\">\n",
       "  <thead>\n",
       "    <tr style=\"text-align: right;\">\n",
       "      <th>GIERACE</th>\n",
       "      <th>1. WHITE</th>\n",
       "      <th>2. AFRICAN AMERICAN</th>\n",
       "      <th>3. ASIAN</th>\n",
       "      <th>4. HISPANIC</th>\n",
       "      <th>5. OTHER</th>\n",
       "    </tr>\n",
       "    <tr>\n",
       "      <th>FANOTMOF</th>\n",
       "      <th></th>\n",
       "      <th></th>\n",
       "      <th></th>\n",
       "      <th></th>\n",
       "      <th></th>\n",
       "    </tr>\n",
       "  </thead>\n",
       "  <tbody>\n",
       "    <tr>\n",
       "      <th>0.0</th>\n",
       "      <td>0.888550</td>\n",
       "      <td>0.043818</td>\n",
       "      <td>0.032768</td>\n",
       "      <td>0.022099</td>\n",
       "      <td>0.012764</td>\n",
       "    </tr>\n",
       "    <tr>\n",
       "      <th>1.0</th>\n",
       "      <td>0.936937</td>\n",
       "      <td>0.019520</td>\n",
       "      <td>0.025526</td>\n",
       "      <td>0.013514</td>\n",
       "      <td>0.004505</td>\n",
       "    </tr>\n",
       "  </tbody>\n",
       "</table>\n",
       "</div>"
      ],
      "text/plain": [
       "GIERACE   1. WHITE  2. AFRICAN AMERICAN  3. ASIAN  4. HISPANIC  5. OTHER\n",
       "FANOTMOF                                                                \n",
       "0.0       0.888550             0.043818  0.032768     0.022099  0.012764\n",
       "1.0       0.936937             0.019520  0.025526     0.013514  0.004505"
      ]
     },
     "execution_count": 26,
     "metadata": {},
     "output_type": "execute_result"
    }
   ],
   "source": [
    "pd.crosstab(mergedData.FANOTMOF, mergedData.GIERACE,normalize=\"index\")"
   ]
  },
  {
   "cell_type": "markdown",
   "metadata": {},
   "source": [
    "##### Chi-Squared Test of Independence"
   ]
  },
  {
   "cell_type": "code",
   "execution_count": 27,
   "metadata": {},
   "outputs": [],
   "source": [
    "contingency = pd.crosstab(mergedData.FANOTMOF, mergedData.GIERACE)\n",
    "res= chi2_contingency(contingency)"
   ]
  },
  {
   "cell_type": "code",
   "execution_count": 28,
   "metadata": {},
   "outputs": [
    {
     "data": {
      "text/html": [
       "<div>\n",
       "<style scoped>\n",
       "    .dataframe tbody tr th:only-of-type {\n",
       "        vertical-align: middle;\n",
       "    }\n",
       "\n",
       "    .dataframe tbody tr th {\n",
       "        vertical-align: top;\n",
       "    }\n",
       "\n",
       "    .dataframe thead th {\n",
       "        text-align: right;\n",
       "    }\n",
       "</style>\n",
       "<table border=\"1\" class=\"dataframe\">\n",
       "  <thead>\n",
       "    <tr style=\"text-align: right;\">\n",
       "      <th></th>\n",
       "      <th>0</th>\n",
       "      <th>1</th>\n",
       "      <th>2</th>\n",
       "      <th>3</th>\n",
       "      <th>4</th>\n",
       "    </tr>\n",
       "  </thead>\n",
       "  <tbody>\n",
       "    <tr>\n",
       "      <th>0</th>\n",
       "      <td>4692.597126</td>\n",
       "      <td>215.639391</td>\n",
       "      <td>167.719527</td>\n",
       "      <td>110.925613</td>\n",
       "      <td>62.118343</td>\n",
       "    </tr>\n",
       "    <tr>\n",
       "      <th>1</th>\n",
       "      <td>595.402874</td>\n",
       "      <td>27.360609</td>\n",
       "      <td>21.280473</td>\n",
       "      <td>14.074387</td>\n",
       "      <td>7.881657</td>\n",
       "    </tr>\n",
       "  </tbody>\n",
       "</table>\n",
       "</div>"
      ],
      "text/plain": [
       "             0           1           2           3          4\n",
       "0  4692.597126  215.639391  167.719527  110.925613  62.118343\n",
       "1   595.402874   27.360609   21.280473   14.074387   7.881657"
      ]
     },
     "execution_count": 28,
     "metadata": {},
     "output_type": "execute_result"
    }
   ],
   "source": [
    "pd.DataFrame(res[3])"
   ]
  },
  {
   "cell_type": "code",
   "execution_count": 29,
   "metadata": {},
   "outputs": [
    {
     "name": "stdout",
     "output_type": "stream",
     "text": [
      "The p-value is: 0.002437647672064372\n",
      "The test statistic is: 16.48059131213598\n",
      "Thus we must reject the null hypothesis and conclude the two variables are not independent\n"
     ]
    }
   ],
   "source": [
    "chi2Results(res)"
   ]
  },
  {
   "cell_type": "markdown",
   "metadata": {},
   "source": [
    "#### Occupation Vs Fracture.\n"
   ]
  },
  {
   "cell_type": "code",
   "execution_count": 30,
   "metadata": {},
   "outputs": [
    {
     "data": {
      "text/plain": [
       "<matplotlib.axes._subplots.AxesSubplot at 0x7fa817701978>"
      ]
     },
     "execution_count": 30,
     "metadata": {},
     "output_type": "execute_result"
    },
    {
     "data": {
      "image/png": "[encoded data removed]",
      "text/plain": [
       "<Figure size 432x288 with 1 Axes>"
      ]
     },
     "metadata": {
      "needs_background": "light"
     },
     "output_type": "display_data"
    }
   ],
   "source": [
    "plot_data = mergedData.groupby(\"FANOTMOF\")[\"GISOC\"].value_counts(normalize=True).mul(100).rename(\"percent\").reset_index()\n",
    "sns.barplot(data=plot_data,x=\"percent\",y=\"GISOC\", hue=\"FANOTMOF\")"
   ]
  },
  {
   "cell_type": "markdown",
   "metadata": {},
   "source": [
    "##### Contingency Tables"
   ]
  },
  {
   "cell_type": "code",
   "execution_count": 31,
   "metadata": {},
   "outputs": [
    {
     "data": {
      "text/html": [
       "<div>\n",
       "<style scoped>\n",
       "    .dataframe tbody tr th:only-of-type {\n",
       "        vertical-align: middle;\n",
       "    }\n",
       "\n",
       "    .dataframe tbody tr th {\n",
       "        vertical-align: top;\n",
       "    }\n",
       "\n",
       "    .dataframe thead th {\n",
       "        text-align: right;\n",
       "    }\n",
       "</style>\n",
       "<table border=\"1\" class=\"dataframe\">\n",
       "  <thead>\n",
       "    <tr style=\"text-align: right;\">\n",
       "      <th>FANOTMOF</th>\n",
       "      <th>0.0</th>\n",
       "      <th>1.0</th>\n",
       "    </tr>\n",
       "    <tr>\n",
       "      <th>GISOC</th>\n",
       "      <th></th>\n",
       "      <th></th>\n",
       "    </tr>\n",
       "  </thead>\n",
       "  <tbody>\n",
       "    <tr>\n",
       "      <th>11. Management</th>\n",
       "      <td>798</td>\n",
       "      <td>99</td>\n",
       "    </tr>\n",
       "    <tr>\n",
       "      <th>13. Business and Financial</th>\n",
       "      <td>302</td>\n",
       "      <td>42</td>\n",
       "    </tr>\n",
       "    <tr>\n",
       "      <th>15. Computer and Mathematical</th>\n",
       "      <td>116</td>\n",
       "      <td>15</td>\n",
       "    </tr>\n",
       "    <tr>\n",
       "      <th>17. Architecture and Engineering</th>\n",
       "      <td>592</td>\n",
       "      <td>88</td>\n",
       "    </tr>\n",
       "    <tr>\n",
       "      <th>19. Life; Physical; and Social Science</th>\n",
       "      <td>141</td>\n",
       "      <td>20</td>\n",
       "    </tr>\n",
       "    <tr>\n",
       "      <th>21. Community and Social Service</th>\n",
       "      <td>106</td>\n",
       "      <td>21</td>\n",
       "    </tr>\n",
       "    <tr>\n",
       "      <th>23. Legal</th>\n",
       "      <td>82</td>\n",
       "      <td>13</td>\n",
       "    </tr>\n",
       "    <tr>\n",
       "      <th>25. Education; Training and Library</th>\n",
       "      <td>350</td>\n",
       "      <td>52</td>\n",
       "    </tr>\n",
       "    <tr>\n",
       "      <th>27. Arts; Design; Entertainment; Sports and Media</th>\n",
       "      <td>106</td>\n",
       "      <td>9</td>\n",
       "    </tr>\n",
       "    <tr>\n",
       "      <th>29. Healthcare Practitioners and Technical</th>\n",
       "      <td>177</td>\n",
       "      <td>18</td>\n",
       "    </tr>\n",
       "    <tr>\n",
       "      <th>31. Healthcare Support</th>\n",
       "      <td>7</td>\n",
       "      <td>2</td>\n",
       "    </tr>\n",
       "    <tr>\n",
       "      <th>33. Protective Service</th>\n",
       "      <td>77</td>\n",
       "      <td>6</td>\n",
       "    </tr>\n",
       "    <tr>\n",
       "      <th>35. Food Preparation and Serving Related</th>\n",
       "      <td>35</td>\n",
       "      <td>2</td>\n",
       "    </tr>\n",
       "    <tr>\n",
       "      <th>37. Building and Grounds Cleaning and Maintenance</th>\n",
       "      <td>48</td>\n",
       "      <td>5</td>\n",
       "    </tr>\n",
       "    <tr>\n",
       "      <th>39. Personal Care and Service</th>\n",
       "      <td>23</td>\n",
       "      <td>5</td>\n",
       "    </tr>\n",
       "    <tr>\n",
       "      <th>41. Sales and Related</th>\n",
       "      <td>543</td>\n",
       "      <td>61</td>\n",
       "    </tr>\n",
       "    <tr>\n",
       "      <th>43. Office and Administrative Support</th>\n",
       "      <td>196</td>\n",
       "      <td>17</td>\n",
       "    </tr>\n",
       "    <tr>\n",
       "      <th>45. Farming; Fishing and Forestry</th>\n",
       "      <td>49</td>\n",
       "      <td>5</td>\n",
       "    </tr>\n",
       "    <tr>\n",
       "      <th>47. Construction and Extraction</th>\n",
       "      <td>355</td>\n",
       "      <td>44</td>\n",
       "    </tr>\n",
       "    <tr>\n",
       "      <th>49. Installation; Maintenance and Repair</th>\n",
       "      <td>281</td>\n",
       "      <td>30</td>\n",
       "    </tr>\n",
       "    <tr>\n",
       "      <th>51. Production</th>\n",
       "      <td>402</td>\n",
       "      <td>53</td>\n",
       "    </tr>\n",
       "    <tr>\n",
       "      <th>53. Transportation and Material Moving</th>\n",
       "      <td>212</td>\n",
       "      <td>30</td>\n",
       "    </tr>\n",
       "    <tr>\n",
       "      <th>55. Military Specific</th>\n",
       "      <td>251</td>\n",
       "      <td>29</td>\n",
       "    </tr>\n",
       "  </tbody>\n",
       "</table>\n",
       "</div>"
      ],
      "text/plain": [
       "FANOTMOF                                           0.0  1.0\n",
       "GISOC                                                      \n",
       "11. Management                                     798   99\n",
       "13. Business and Financial                         302   42\n",
       "15. Computer and Mathematical                      116   15\n",
       "17. Architecture and Engineering                   592   88\n",
       "19. Life; Physical; and Social Science             141   20\n",
       "21. Community and Social Service                   106   21\n",
       "23. Legal                                           82   13\n",
       "25. Education; Training and Library                350   52\n",
       "27. Arts; Design; Entertainment; Sports and Media  106    9\n",
       "29. Healthcare Practitioners and Technical         177   18\n",
       "31. Healthcare Support                               7    2\n",
       "33. Protective Service                              77    6\n",
       "35. Food Preparation and Serving Related            35    2\n",
       "37. Building and Grounds Cleaning and Maintenance   48    5\n",
       "39. Personal Care and Service                       23    5\n",
       "41. Sales and Related                              543   61\n",
       "43. Office and Administrative Support              196   17\n",
       "45. Farming; Fishing and Forestry                   49    5\n",
       "47. Construction and Extraction                    355   44\n",
       "49. Installation; Maintenance and Repair           281   30\n",
       "51. Production                                     402   53\n",
       "53. Transportation and Material Moving             212   30\n",
       "55. Military Specific                              251   29"
      ]
     },
     "execution_count": 31,
     "metadata": {},
     "output_type": "execute_result"
    }
   ],
   "source": [
    "pd.crosstab(mergedData.FANOTMOF, mergedData.GISOC).T"
   ]
  },
  {
   "cell_type": "code",
   "execution_count": 32,
   "metadata": {},
   "outputs": [
    {
     "data": {
      "text/html": [
       "<div>\n",
       "<style scoped>\n",
       "    .dataframe tbody tr th:only-of-type {\n",
       "        vertical-align: middle;\n",
       "    }\n",
       "\n",
       "    .dataframe tbody tr th {\n",
       "        vertical-align: top;\n",
       "    }\n",
       "\n",
       "    .dataframe thead th {\n",
       "        text-align: right;\n",
       "    }\n",
       "</style>\n",
       "<table border=\"1\" class=\"dataframe\">\n",
       "  <thead>\n",
       "    <tr style=\"text-align: right;\">\n",
       "      <th>FANOTMOF</th>\n",
       "      <th>0.0</th>\n",
       "      <th>1.0</th>\n",
       "    </tr>\n",
       "    <tr>\n",
       "      <th>GISOC</th>\n",
       "      <th></th>\n",
       "      <th></th>\n",
       "    </tr>\n",
       "  </thead>\n",
       "  <tbody>\n",
       "    <tr>\n",
       "      <th>11. Management</th>\n",
       "      <td>0.152029</td>\n",
       "      <td>0.148649</td>\n",
       "    </tr>\n",
       "    <tr>\n",
       "      <th>13. Business and Financial</th>\n",
       "      <td>0.057535</td>\n",
       "      <td>0.063063</td>\n",
       "    </tr>\n",
       "    <tr>\n",
       "      <th>15. Computer and Mathematical</th>\n",
       "      <td>0.022099</td>\n",
       "      <td>0.022523</td>\n",
       "    </tr>\n",
       "    <tr>\n",
       "      <th>17. Architecture and Engineering</th>\n",
       "      <td>0.112783</td>\n",
       "      <td>0.132132</td>\n",
       "    </tr>\n",
       "    <tr>\n",
       "      <th>19. Life; Physical; and Social Science</th>\n",
       "      <td>0.026862</td>\n",
       "      <td>0.030030</td>\n",
       "    </tr>\n",
       "    <tr>\n",
       "      <th>21. Community and Social Service</th>\n",
       "      <td>0.020194</td>\n",
       "      <td>0.031532</td>\n",
       "    </tr>\n",
       "    <tr>\n",
       "      <th>23. Legal</th>\n",
       "      <td>0.015622</td>\n",
       "      <td>0.019520</td>\n",
       "    </tr>\n",
       "    <tr>\n",
       "      <th>25. Education; Training and Library</th>\n",
       "      <td>0.066679</td>\n",
       "      <td>0.078078</td>\n",
       "    </tr>\n",
       "    <tr>\n",
       "      <th>27. Arts; Design; Entertainment; Sports and Media</th>\n",
       "      <td>0.020194</td>\n",
       "      <td>0.013514</td>\n",
       "    </tr>\n",
       "    <tr>\n",
       "      <th>29. Healthcare Practitioners and Technical</th>\n",
       "      <td>0.033721</td>\n",
       "      <td>0.027027</td>\n",
       "    </tr>\n",
       "    <tr>\n",
       "      <th>31. Healthcare Support</th>\n",
       "      <td>0.001334</td>\n",
       "      <td>0.003003</td>\n",
       "    </tr>\n",
       "    <tr>\n",
       "      <th>33. Protective Service</th>\n",
       "      <td>0.014669</td>\n",
       "      <td>0.009009</td>\n",
       "    </tr>\n",
       "    <tr>\n",
       "      <th>35. Food Preparation and Serving Related</th>\n",
       "      <td>0.006668</td>\n",
       "      <td>0.003003</td>\n",
       "    </tr>\n",
       "    <tr>\n",
       "      <th>37. Building and Grounds Cleaning and Maintenance</th>\n",
       "      <td>0.009145</td>\n",
       "      <td>0.007508</td>\n",
       "    </tr>\n",
       "    <tr>\n",
       "      <th>39. Personal Care and Service</th>\n",
       "      <td>0.004382</td>\n",
       "      <td>0.007508</td>\n",
       "    </tr>\n",
       "    <tr>\n",
       "      <th>41. Sales and Related</th>\n",
       "      <td>0.103448</td>\n",
       "      <td>0.091592</td>\n",
       "    </tr>\n",
       "    <tr>\n",
       "      <th>43. Office and Administrative Support</th>\n",
       "      <td>0.037340</td>\n",
       "      <td>0.025526</td>\n",
       "    </tr>\n",
       "    <tr>\n",
       "      <th>45. Farming; Fishing and Forestry</th>\n",
       "      <td>0.009335</td>\n",
       "      <td>0.007508</td>\n",
       "    </tr>\n",
       "    <tr>\n",
       "      <th>47. Construction and Extraction</th>\n",
       "      <td>0.067632</td>\n",
       "      <td>0.066066</td>\n",
       "    </tr>\n",
       "    <tr>\n",
       "      <th>49. Installation; Maintenance and Repair</th>\n",
       "      <td>0.053534</td>\n",
       "      <td>0.045045</td>\n",
       "    </tr>\n",
       "    <tr>\n",
       "      <th>51. Production</th>\n",
       "      <td>0.076586</td>\n",
       "      <td>0.079580</td>\n",
       "    </tr>\n",
       "    <tr>\n",
       "      <th>53. Transportation and Material Moving</th>\n",
       "      <td>0.040389</td>\n",
       "      <td>0.045045</td>\n",
       "    </tr>\n",
       "    <tr>\n",
       "      <th>55. Military Specific</th>\n",
       "      <td>0.047819</td>\n",
       "      <td>0.043544</td>\n",
       "    </tr>\n",
       "  </tbody>\n",
       "</table>\n",
       "</div>"
      ],
      "text/plain": [
       "FANOTMOF                                                0.0       1.0\n",
       "GISOC                                                                \n",
       "11. Management                                     0.152029  0.148649\n",
       "13. Business and Financial                         0.057535  0.063063\n",
       "15. Computer and Mathematical                      0.022099  0.022523\n",
       "17. Architecture and Engineering                   0.112783  0.132132\n",
       "19. Life; Physical; and Social Science             0.026862  0.030030\n",
       "21. Community and Social Service                   0.020194  0.031532\n",
       "23. Legal                                          0.015622  0.019520\n",
       "25. Education; Training and Library                0.066679  0.078078\n",
       "27. Arts; Design; Entertainment; Sports and Media  0.020194  0.013514\n",
       "29. Healthcare Practitioners and Technical         0.033721  0.027027\n",
       "31. Healthcare Support                             0.001334  0.003003\n",
       "33. Protective Service                             0.014669  0.009009\n",
       "35. Food Preparation and Serving Related           0.006668  0.003003\n",
       "37. Building and Grounds Cleaning and Maintenance  0.009145  0.007508\n",
       "39. Personal Care and Service                      0.004382  0.007508\n",
       "41. Sales and Related                              0.103448  0.091592\n",
       "43. Office and Administrative Support              0.037340  0.025526\n",
       "45. Farming; Fishing and Forestry                  0.009335  0.007508\n",
       "47. Construction and Extraction                    0.067632  0.066066\n",
       "49. Installation; Maintenance and Repair           0.053534  0.045045\n",
       "51. Production                                     0.076586  0.079580\n",
       "53. Transportation and Material Moving             0.040389  0.045045\n",
       "55. Military Specific                              0.047819  0.043544"
      ]
     },
     "execution_count": 32,
     "metadata": {},
     "output_type": "execute_result"
    }
   ],
   "source": [
    "pd.crosstab(mergedData.FANOTMOF, mergedData.GISOC,normalize=\"index\").T"
   ]
  },
  {
   "cell_type": "markdown",
   "metadata": {},
   "source": [
    "##### Chi-Squared Test of Independence"
   ]
  },
  {
   "cell_type": "code",
   "execution_count": 33,
   "metadata": {},
   "outputs": [],
   "source": [
    "low_expected = [\"31. Healthcare Support\",\"35. Food Preparation and Serving Related\",\"39. Personal Care and Service\"]"
   ]
  },
  {
   "cell_type": "code",
   "execution_count": 34,
   "metadata": {},
   "outputs": [],
   "source": [
    "contingency = pd.crosstab(mergedData[~mergedData.GISOC.isin(low_expected)].FANOTMOF, mergedData[~mergedData.GISOC.isin(low_expected)].GISOC)\n",
    "res= chi2_contingency(contingency)"
   ]
  },
  {
   "cell_type": "code",
   "execution_count": 35,
   "metadata": {},
   "outputs": [
    {
     "data": {
      "text/html": [
       "<div>\n",
       "<style scoped>\n",
       "    .dataframe tbody tr th:only-of-type {\n",
       "        vertical-align: middle;\n",
       "    }\n",
       "\n",
       "    .dataframe tbody tr th {\n",
       "        vertical-align: top;\n",
       "    }\n",
       "\n",
       "    .dataframe thead th {\n",
       "        text-align: right;\n",
       "    }\n",
       "</style>\n",
       "<table border=\"1\" class=\"dataframe\">\n",
       "  <thead>\n",
       "    <tr style=\"text-align: right;\">\n",
       "      <th></th>\n",
       "      <th>0</th>\n",
       "      <th>1</th>\n",
       "    </tr>\n",
       "  </thead>\n",
       "  <tbody>\n",
       "    <tr>\n",
       "      <th>0</th>\n",
       "      <td>796.104777</td>\n",
       "      <td>100.895223</td>\n",
       "    </tr>\n",
       "    <tr>\n",
       "      <th>1</th>\n",
       "      <td>305.306626</td>\n",
       "      <td>38.693374</td>\n",
       "    </tr>\n",
       "    <tr>\n",
       "      <th>2</th>\n",
       "      <td>116.265023</td>\n",
       "      <td>14.734977</td>\n",
       "    </tr>\n",
       "    <tr>\n",
       "      <th>3</th>\n",
       "      <td>603.513097</td>\n",
       "      <td>76.486903</td>\n",
       "    </tr>\n",
       "    <tr>\n",
       "      <th>4</th>\n",
       "      <td>142.890601</td>\n",
       "      <td>18.109399</td>\n",
       "    </tr>\n",
       "    <tr>\n",
       "      <th>5</th>\n",
       "      <td>112.714946</td>\n",
       "      <td>14.285054</td>\n",
       "    </tr>\n",
       "    <tr>\n",
       "      <th>6</th>\n",
       "      <td>84.314330</td>\n",
       "      <td>10.685670</td>\n",
       "    </tr>\n",
       "    <tr>\n",
       "      <th>7</th>\n",
       "      <td>356.782743</td>\n",
       "      <td>45.217257</td>\n",
       "    </tr>\n",
       "    <tr>\n",
       "      <th>8</th>\n",
       "      <td>102.064715</td>\n",
       "      <td>12.935285</td>\n",
       "    </tr>\n",
       "    <tr>\n",
       "      <th>9</th>\n",
       "      <td>173.066256</td>\n",
       "      <td>21.933744</td>\n",
       "    </tr>\n",
       "    <tr>\n",
       "      <th>10</th>\n",
       "      <td>73.664099</td>\n",
       "      <td>9.335901</td>\n",
       "    </tr>\n",
       "    <tr>\n",
       "      <th>11</th>\n",
       "      <td>47.038521</td>\n",
       "      <td>5.961479</td>\n",
       "    </tr>\n",
       "    <tr>\n",
       "      <th>12</th>\n",
       "      <td>536.061633</td>\n",
       "      <td>67.938367</td>\n",
       "    </tr>\n",
       "    <tr>\n",
       "      <th>13</th>\n",
       "      <td>189.041602</td>\n",
       "      <td>23.958398</td>\n",
       "    </tr>\n",
       "    <tr>\n",
       "      <th>14</th>\n",
       "      <td>47.926040</td>\n",
       "      <td>6.073960</td>\n",
       "    </tr>\n",
       "    <tr>\n",
       "      <th>15</th>\n",
       "      <td>354.120185</td>\n",
       "      <td>44.879815</td>\n",
       "    </tr>\n",
       "    <tr>\n",
       "      <th>16</th>\n",
       "      <td>276.018490</td>\n",
       "      <td>34.981510</td>\n",
       "    </tr>\n",
       "    <tr>\n",
       "      <th>17</th>\n",
       "      <td>403.821263</td>\n",
       "      <td>51.178737</td>\n",
       "    </tr>\n",
       "    <tr>\n",
       "      <th>18</th>\n",
       "      <td>214.779661</td>\n",
       "      <td>27.220339</td>\n",
       "    </tr>\n",
       "    <tr>\n",
       "      <th>19</th>\n",
       "      <td>248.505393</td>\n",
       "      <td>31.494607</td>\n",
       "    </tr>\n",
       "  </tbody>\n",
       "</table>\n",
       "</div>"
      ],
      "text/plain": [
       "             0           1\n",
       "0   796.104777  100.895223\n",
       "1   305.306626   38.693374\n",
       "2   116.265023   14.734977\n",
       "3   603.513097   76.486903\n",
       "4   142.890601   18.109399\n",
       "5   112.714946   14.285054\n",
       "6    84.314330   10.685670\n",
       "7   356.782743   45.217257\n",
       "8   102.064715   12.935285\n",
       "9   173.066256   21.933744\n",
       "10   73.664099    9.335901\n",
       "11   47.038521    5.961479\n",
       "12  536.061633   67.938367\n",
       "13  189.041602   23.958398\n",
       "14   47.926040    6.073960\n",
       "15  354.120185   44.879815\n",
       "16  276.018490   34.981510\n",
       "17  403.821263   51.178737\n",
       "18  214.779661   27.220339\n",
       "19  248.505393   31.494607"
      ]
     },
     "execution_count": 35,
     "metadata": {},
     "output_type": "execute_result"
    }
   ],
   "source": [
    "pd.DataFrame(res[3]).T"
   ]
  },
  {
   "cell_type": "code",
   "execution_count": 36,
   "metadata": {},
   "outputs": [
    {
     "name": "stdout",
     "output_type": "stream",
     "text": [
      "The p-value is: 0.6444395310856577\n",
      "The test statistic is: 16.191881229433008\n",
      "Thus we cannot reject the null hypthesis and the two variables are independent\n"
     ]
    }
   ],
   "source": [
    "chi2Results(res)"
   ]
  },
  {
   "cell_type": "markdown",
   "metadata": {},
   "source": [
    "#### Age"
   ]
  },
  {
   "cell_type": "code",
   "execution_count": 37,
   "metadata": {},
   "outputs": [
    {
     "data": {
      "text/plain": [
       "<matplotlib.axes._subplots.AxesSubplot at 0x7fa8174f55c0>"
      ]
     },
     "execution_count": 37,
     "metadata": {},
     "output_type": "execute_result"
    },
    {
     "data": {
      "image/png": "[encoded data removed]",
      "text/plain": [
       "<Figure size 432x288 with 1 Axes>"
      ]
     },
     "metadata": {
      "needs_background": "light"
     },
     "output_type": "display_data"
    }
   ],
   "source": [
    "sns.histplot(mergedData,x=\"GIAGE1\",hue=\"FANOTMOF\")"
   ]
  },
  {
   "cell_type": "markdown",
   "metadata": {},
   "source": [
    "### <a name=\"eda_FR\"></a>Results for Modeling\n",
    "\n",
    "While there is important information in form GI related to social determinants of health, The variables are not convincing that they would provide adequate information to our model. Additionally, some variables like race/ethnicity have some influence on the outcome variable, but these groups are not adequately represented. However, we will include the results and use feature reduction techniques to weed them out if necessary. Additionally, the information could potentially provide good demographic data for our data story. \n"
   ]
  },
  {
   "cell_type": "code",
   "execution_count": 42,
   "metadata": {},
   "outputs": [],
   "source": [
    "form_gi_final.to_csv(\"/dsa/groups/casestudy2023su/team03/model_data/gi_results.csv\",index=False)\n",
    "##os.chmod(\"/dsa/groups/casestudy2023su/team03/model_data/gi_results.csv\",0o777)\n",
    "\n",
    "file_path_with_nulls = \"/dsa/groups/casestudy2023su/team03/model_data/null_included/GI_results_with_nulls.csv\"\n",
    "gi_with_nulls.to_csv(file_path_with_nulls, index=False)\n",
    "##os.chmod(file_path_with_nulls, 0o777)"
   ]
  },
  {
   "cell_type": "code",
   "execution_count": null,
   "metadata": {},
   "outputs": [],
   "source": []
  }
 ],
 "metadata": {
  "kernelspec": {
   "display_name": "Python 3",
   "language": "python",
   "name": "python3"
  },
  "language_info": {
   "codemirror_mode": {
    "name": "ipython",
    "version": 3
   },
   "file_extension": ".py",
   "mimetype": "text/x-python",
   "name": "python",
   "nbconvert_exporter": "python",
   "pygments_lexer": "ipython3",
   "version": "3.7.3"
  }
 },
 "nbformat": 4,
 "nbformat_minor": 2
}
