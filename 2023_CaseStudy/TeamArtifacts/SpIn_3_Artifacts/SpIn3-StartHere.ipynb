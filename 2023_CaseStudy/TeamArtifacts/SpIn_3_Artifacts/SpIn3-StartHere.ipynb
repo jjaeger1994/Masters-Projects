{
 "cells": [
  {
   "cell_type": "markdown",
   "metadata": {},
   "source": [
    "# SpIn 3 - StartHere -- Notebook workflow/pipeline"
   ]
  },
  {
   "cell_type": "markdown",
   "metadata": {},
   "source": [
    "### This notebook indexes the workflow/pipeline for SpIn #3\n",
    "\n",
    "This week we focused our Exploratory Data Analysis of our visit baseline (V1) dataset. MrOS provides a [highly detailed document outlining](MrOSVisit_Information.pdf) what's included with the visit information and any considerations. We took the week to deep dive specifically on health form data since it provided several categorical as well as continuous features that coudl prove to be insightful. Examples of the forms that were used can be [found here](V1_ANNOTATED.pdf). \n",
    "\n",
    "### Data Integestion\n",
    "This notebook builds on the Data Engineering code that was used in our previous SpIn\n",
    "1. [Data2.ipynb](Data2.ipynb)\n",
    "    1. Connection to the database \n",
    "    2. CSV Creation of 12 patient forms and insertion in to our group directory\n",
    "    3. Creation of tables and insertion data\n",
    "\n",
    "### Exploratory Data Analysis\n",
    "This spin, all group members committed the majority of the time performing EDA on the Form data. We needed to familiarize ourselves with each of the 12 forms that seemed applicable to our project scope.  The goal of this exercise was to identify features and interest findings from the various forms that we can then use to contribute to our domain questions.  \n",
    "\n",
    "1. [Dietary Health - DH](EDA3-V1-DH.ipynb)\n",
    "1. [Functional Vision - FV](EDA3-V1-FV.ipynb)\n",
    "1. [Grip Strength - GS](EDA3-V1-GS.ipynb)\n",
    "1. [Height and Weight - HW](EDA3-V1-HW.ipynb)\n",
    "1. [Nottingham Power Rig - NP](EDA3-V1-NP.ipynb)\n",
    "1. [Medical History - MH](EDA3-V1-MH.ipynb)\n",
    "1. [Medication Use - MU](EDA3-V1-MU.ipynb)\n",
    "1. [Neruomuscular Function - NF](EDA3-V1-NF.ipynb)\n",
    "1. [Tabacco & Alcohol Use - TU](EDA3-V1-TU.ipynb)\n",
    "1. [Fracture History - FF](EDA3-V1-FF.ipynb)\n",
    "1. [General Information - GI](EDA3-V1-GI.ipynb)\n",
    "\n"
   ]
  }
 ],
 "metadata": {
  "kernelspec": {
   "display_name": "Python 3",
   "language": "python",
   "name": "python3"
  },
  "language_info": {
   "codemirror_mode": {
    "name": "ipython",
    "version": 3
   },
   "file_extension": ".py",
   "mimetype": "text/x-python",
   "name": "python",
   "nbconvert_exporter": "python",
   "pygments_lexer": "ipython3",
   "version": "3.7.3"
  }
 },
 "nbformat": 4,
 "nbformat_minor": 2
}
