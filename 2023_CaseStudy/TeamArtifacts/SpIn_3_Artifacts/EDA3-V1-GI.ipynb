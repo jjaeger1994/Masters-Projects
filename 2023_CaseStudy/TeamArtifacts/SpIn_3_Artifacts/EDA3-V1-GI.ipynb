{
 "cells": [
  {
   "cell_type": "markdown",
   "metadata": {},
   "source": [
    "## Analysis of General Information Form in MrOS V1 Data (EDA3-V1-FF.ipynb)\n",
    "The Fracture Form is essential in understanding the occurrence, characteristics, and management of fractures within the study population. It provides valuable insights into the prevalence of fractures, associated risk factors, treatment patterns, and the impact of fractures on the participants' health and well-being.\n",
    "\n",
    "#### 1. [Installation and Importing of Libraries](#eda_import)\n",
    "#### 2. [Retreival of Data](#eda_retrieval)\n",
    "#### 3. [Handling of NAs](#eda_na)\n",
    "#### 4. [Descriptive Statistics and Visualizations](#eda_describe)"
   ]
  },
  {
   "cell_type": "markdown",
   "metadata": {},
   "source": [
    "### <a name=\"eda_import\"></a>Installation and Importing of Libraries\n",
    "In order to both explore and visualize the data, it's necessary for us to load various libraries.  In addition to loading already pre-installed libraries, we've also had to install seaborn for plotting. "
   ]
  },
  {
   "cell_type": "code",
   "execution_count": 1,
   "metadata": {},
   "outputs": [
    {
     "name": "stdout",
     "output_type": "stream",
     "text": [
      "Requirement already up-to-date: seaborn in /opt/conda/lib/python3.7/site-packages (0.12.2)\n",
      "Requirement already satisfied, skipping upgrade: matplotlib!=3.6.1,>=3.1 in /opt/conda/lib/python3.7/site-packages (from seaborn) (3.1.1)\n",
      "Requirement already satisfied, skipping upgrade: pandas>=0.25 in /opt/conda/lib/python3.7/site-packages (from seaborn) (0.25.2)\n",
      "Requirement already satisfied, skipping upgrade: typing_extensions; python_version < \"3.8\" in /opt/conda/lib/python3.7/site-packages (from seaborn) (4.6.3)\n",
      "Requirement already satisfied, skipping upgrade: numpy!=1.24.0,>=1.17 in /opt/conda/lib/python3.7/site-packages (from seaborn) (1.17.3)\n",
      "Requirement already satisfied, skipping upgrade: cycler>=0.10 in /opt/conda/lib/python3.7/site-packages (from matplotlib!=3.6.1,>=3.1->seaborn) (0.10.0)\n",
      "Requirement already satisfied, skipping upgrade: python-dateutil>=2.1 in /opt/conda/lib/python3.7/site-packages (from matplotlib!=3.6.1,>=3.1->seaborn) (2.8.0)\n",
      "Requirement already satisfied, skipping upgrade: pyparsing!=2.0.4,!=2.1.2,!=2.1.6,>=2.0.1 in /opt/conda/lib/python3.7/site-packages (from matplotlib!=3.6.1,>=3.1->seaborn) (2.4.2)\n",
      "Requirement already satisfied, skipping upgrade: kiwisolver>=1.0.1 in /opt/conda/lib/python3.7/site-packages (from matplotlib!=3.6.1,>=3.1->seaborn) (1.1.0)\n",
      "Requirement already satisfied, skipping upgrade: pytz>=2017.2 in /opt/conda/lib/python3.7/site-packages (from pandas>=0.25->seaborn) (2019.2)\n",
      "Requirement already satisfied, skipping upgrade: six in /opt/conda/lib/python3.7/site-packages (from cycler>=0.10->matplotlib!=3.6.1,>=3.1->seaborn) (1.12.0)\n",
      "Requirement already satisfied, skipping upgrade: setuptools in /opt/conda/lib/python3.7/site-packages (from kiwisolver>=1.0.1->matplotlib!=3.6.1,>=3.1->seaborn) (41.0.1)\n"
     ]
    }
   ],
   "source": [
    "!pip install seaborn --upgrade"
   ]
  },
  {
   "cell_type": "code",
   "execution_count": 2,
   "metadata": {},
   "outputs": [],
   "source": [
    "import numpy as np\n",
    "import pandas as pd\n",
    "import matplotlib.pyplot as plt\n",
    "import seaborn as sns\n",
    "import seaborn.objects as so\n",
    "from sklearn.decomposition import PCA\n",
    "import mpl_toolkits.mplot3d\n",
    "from scipy.stats import chi2_contingency\n"
   ]
  },
  {
   "cell_type": "markdown",
   "metadata": {},
   "source": [
    "### <a name=\"eda_retrieval\"></a>Retreival of Data\n",
    "The data needs to be retrieved from the Postgres database and stored in a dataframe for us to begin analyzing."
   ]
  },
  {
   "cell_type": "code",
   "execution_count": 4,
   "metadata": {},
   "outputs": [
    {
     "name": "stdout",
     "output_type": "stream",
     "text": [
      "········\n"
     ]
    }
   ],
   "source": [
    "import psycopg2\n",
    "import sqlalchemy\n",
    "import getpass\n",
    "\n",
    "user = \"dtfp3\"\n",
    "host = \"pgsql.dsa.lan\"\n",
    "database = \"casestdysu23t03\"\n",
    "password = getpass.getpass()\n",
    "connectionstring = \"postgresql://\" + user + \":\" + password + \"@\" + host + \"/\" + database\n",
    "engine = sqlalchemy.create_engine(connectionstring)\n",
    "connection = None\n",
    "\n",
    "try:\n",
    "    connection = engine.connect()\n",
    "except Exception as err:\n",
    "    print(\"An error has occurred trying to connect: {}\".format(err))\n",
    "\n",
    "del password"
   ]
  },
  {
   "cell_type": "code",
   "execution_count": 6,
   "metadata": {},
   "outputs": [],
   "source": [
    "query = \"SELECT * FROM public.v1_form_gi\"\n",
    "form_gi_df = pd.read_sql_query(query, con=connection)"
   ]
  },
  {
   "cell_type": "code",
   "execution_count": 8,
   "metadata": {},
   "outputs": [
    {
     "data": {
      "text/plain": [
       "(5994, 16)"
      ]
     },
     "execution_count": 8,
     "metadata": {},
     "output_type": "execute_result"
    }
   ],
   "source": [
    "form_gi_df.shape"
   ]
  },
  {
   "cell_type": "markdown",
   "metadata": {},
   "source": [
    "### <a name=\"eda_na\"></a>Handling of NAs\n",
    "After reviewing, the GI form has a high completion rate meaning it won't be necessary to do additional processing on the NA values. "
   ]
  },
  {
   "cell_type": "code",
   "execution_count": 9,
   "metadata": {},
   "outputs": [
    {
     "data": {
      "text/plain": [
       "ID          0\n",
       "GIMSTAT     0\n",
       "GILIVE      0\n",
       "GIEDUC      0\n",
       "GISOC       0\n",
       "GIWHITE     0\n",
       "GIAA        0\n",
       "GIASIAN     0\n",
       "GIHISPA     0\n",
       "GIAI        0\n",
       "GIPI        0\n",
       "GIAGE1      0\n",
       "GIAGE1RG    0\n",
       "GIRACE      0\n",
       "GIERACE     0\n",
       "GI          0\n",
       "dtype: int64"
      ]
     },
     "execution_count": 9,
     "metadata": {},
     "output_type": "execute_result"
    }
   ],
   "source": [
    "form_gi_df.isna().sum().T"
   ]
  },
  {
   "cell_type": "markdown",
   "metadata": {},
   "source": [
    "<a name=\"eda_describe\"></a><h3> Descriptive Statistics and Visualizations </h3>\n",
    "Below are a set of descriptive statistics meant to familiarize the audience"
   ]
  },
  {
   "cell_type": "code",
   "execution_count": 10,
   "metadata": {},
   "outputs": [
    {
     "data": {
      "text/plain": [
       "<matplotlib.axes._subplots.AxesSubplot at 0x7f11649bb1d0>"
      ]
     },
     "execution_count": 10,
     "metadata": {},
     "output_type": "execute_result"
    },
    {
     "data": {
      "image/png": "[encoded data removed]",
      "text/plain": [
       "<Figure size 432x288 with 1 Axes>"
      ]
     },
     "metadata": {
      "needs_background": "light"
     },
     "output_type": "display_data"
    }
   ],
   "source": [
    "sns.countplot(data=form_gi_df,y=\"GIERACE\")"
   ]
  },
  {
   "cell_type": "code",
   "execution_count": 11,
   "metadata": {},
   "outputs": [
    {
     "data": {
      "text/plain": [
       "<matplotlib.axes._subplots.AxesSubplot at 0x7f1164e90240>"
      ]
     },
     "execution_count": 11,
     "metadata": {},
     "output_type": "execute_result"
    },
    {
     "data": {
      "image/png": "[encoded data removed]",
      "text/plain": [
       "<Figure size 432x288 with 1 Axes>"
      ]
     },
     "metadata": {
      "needs_background": "light"
     },
     "output_type": "display_data"
    }
   ],
   "source": [
    "sns.countplot(data=form_gi_df,y=\"GIEDUC\")"
   ]
  },
  {
   "cell_type": "code",
   "execution_count": 12,
   "metadata": {},
   "outputs": [
    {
     "data": {
      "text/plain": [
       "<matplotlib.axes._subplots.AxesSubplot at 0x7f1164d2e550>"
      ]
     },
     "execution_count": 12,
     "metadata": {},
     "output_type": "execute_result"
    },
    {
     "data": {
      "image/png": "[encoded data removed]",
      "text/plain": [
       "<Figure size 432x288 with 1 Axes>"
      ]
     },
     "metadata": {
      "needs_background": "light"
     },
     "output_type": "display_data"
    }
   ],
   "source": [
    "sns.countplot(data=form_gi_df, y=\"GISOC\")"
   ]
  },
  {
   "cell_type": "code",
   "execution_count": 13,
   "metadata": {},
   "outputs": [
    {
     "data": {
      "text/plain": [
       "<matplotlib.axes._subplots.AxesSubplot at 0x7f1188452a58>"
      ]
     },
     "execution_count": 13,
     "metadata": {},
     "output_type": "execute_result"
    },
    {
     "data": {
      "image/png": "[encoded data removed]",
      "text/plain": [
       "<Figure size 432x288 with 1 Axes>"
      ]
     },
     "metadata": {
      "needs_background": "light"
     },
     "output_type": "display_data"
    }
   ],
   "source": [
    "sns.histplot(data=form_gi_df, x=\"GIAGE1\")"
   ]
  },
  {
   "cell_type": "code",
   "execution_count": 16,
   "metadata": {},
   "outputs": [],
   "source": [
    "# Review analysis with the merged datasets\n",
    "def binary2StringLiteral(df):\n",
    "    for column in df.columns:\n",
    "        if df[column].dtype == \"object\":\n",
    "            df[column] = df[column].str.decode('utf-8')\n",
    "\n",
    "fafeb23_df = pd.read_sas(\"/dsa/groups/casestudy2023su/team03/FAFEB23.SAS7BDAT\")\n",
    "fafeb23_df = fafeb23_df[[\"ID\",\"FANOTMOF\"]]\n",
    "binary2StringLiteral(fafeb23_df)\n",
    "\n",
    "mergedData = form_gi_df.merge(fafeb23_df,on=\"ID\",how=\"inner\")"
   ]
  },
  {
   "cell_type": "code",
   "execution_count": 17,
   "metadata": {},
   "outputs": [],
   "source": [
    "mergedData = mergedData.dropna()"
   ]
  },
  {
   "cell_type": "code",
   "execution_count": 18,
   "metadata": {},
   "outputs": [
    {
     "data": {
      "text/html": [
       "<div>\n",
       "<style scoped>\n",
       "    .dataframe tbody tr th:only-of-type {\n",
       "        vertical-align: middle;\n",
       "    }\n",
       "\n",
       "    .dataframe tbody tr th {\n",
       "        vertical-align: top;\n",
       "    }\n",
       "\n",
       "    .dataframe thead th {\n",
       "        text-align: right;\n",
       "    }\n",
       "</style>\n",
       "<table border=\"1\" class=\"dataframe\">\n",
       "  <thead>\n",
       "    <tr style=\"text-align: right;\">\n",
       "      <th>GIEDUC</th>\n",
       "      <th>1. Some Elementary</th>\n",
       "      <th>2. Elementary</th>\n",
       "      <th>3. Some Highschool</th>\n",
       "      <th>4. High School</th>\n",
       "      <th>5. Some College</th>\n",
       "      <th>6. College</th>\n",
       "      <th>7. Some Grad</th>\n",
       "      <th>8. Grad School</th>\n",
       "    </tr>\n",
       "    <tr>\n",
       "      <th>FANOTMOF</th>\n",
       "      <th></th>\n",
       "      <th></th>\n",
       "      <th></th>\n",
       "      <th></th>\n",
       "      <th></th>\n",
       "      <th></th>\n",
       "      <th></th>\n",
       "      <th></th>\n",
       "    </tr>\n",
       "  </thead>\n",
       "  <tbody>\n",
       "    <tr>\n",
       "      <th>0.0</th>\n",
       "      <td>17</td>\n",
       "      <td>86</td>\n",
       "      <td>250</td>\n",
       "      <td>924</td>\n",
       "      <td>1214</td>\n",
       "      <td>939</td>\n",
       "      <td>551</td>\n",
       "      <td>1268</td>\n",
       "    </tr>\n",
       "    <tr>\n",
       "      <th>1.0</th>\n",
       "      <td>0</td>\n",
       "      <td>10</td>\n",
       "      <td>27</td>\n",
       "      <td>100</td>\n",
       "      <td>147</td>\n",
       "      <td>139</td>\n",
       "      <td>73</td>\n",
       "      <td>170</td>\n",
       "    </tr>\n",
       "  </tbody>\n",
       "</table>\n",
       "</div>"
      ],
      "text/plain": [
       "GIEDUC    1. Some Elementary  2. Elementary  3. Some Highschool  \\\n",
       "FANOTMOF                                                          \n",
       "0.0                       17             86                 250   \n",
       "1.0                        0             10                  27   \n",
       "\n",
       "GIEDUC    4. High School  5. Some College  6. College  7. Some Grad  \\\n",
       "FANOTMOF                                                              \n",
       "0.0                  924             1214         939           551   \n",
       "1.0                  100              147         139            73   \n",
       "\n",
       "GIEDUC    8. Grad School  \n",
       "FANOTMOF                  \n",
       "0.0                 1268  \n",
       "1.0                  170  "
      ]
     },
     "execution_count": 18,
     "metadata": {},
     "output_type": "execute_result"
    }
   ],
   "source": [
    "pd.crosstab(mergedData.FANOTMOF,mergedData.GIEDUC)"
   ]
  },
  {
   "cell_type": "code",
   "execution_count": 19,
   "metadata": {},
   "outputs": [
    {
     "data": {
      "text/html": [
       "<div>\n",
       "<style scoped>\n",
       "    .dataframe tbody tr th:only-of-type {\n",
       "        vertical-align: middle;\n",
       "    }\n",
       "\n",
       "    .dataframe tbody tr th {\n",
       "        vertical-align: top;\n",
       "    }\n",
       "\n",
       "    .dataframe thead th {\n",
       "        text-align: right;\n",
       "    }\n",
       "</style>\n",
       "<table border=\"1\" class=\"dataframe\">\n",
       "  <thead>\n",
       "    <tr style=\"text-align: right;\">\n",
       "      <th>GIEDUC</th>\n",
       "      <th>1. Some Elementary</th>\n",
       "      <th>2. Elementary</th>\n",
       "      <th>3. Some Highschool</th>\n",
       "      <th>4. High School</th>\n",
       "      <th>5. Some College</th>\n",
       "      <th>6. College</th>\n",
       "      <th>7. Some Grad</th>\n",
       "      <th>8. Grad School</th>\n",
       "    </tr>\n",
       "    <tr>\n",
       "      <th>FANOTMOF</th>\n",
       "      <th></th>\n",
       "      <th></th>\n",
       "      <th></th>\n",
       "      <th></th>\n",
       "      <th></th>\n",
       "      <th></th>\n",
       "      <th></th>\n",
       "      <th></th>\n",
       "    </tr>\n",
       "  </thead>\n",
       "  <tbody>\n",
       "    <tr>\n",
       "      <th>0.0</th>\n",
       "      <td>0.003239</td>\n",
       "      <td>0.016384</td>\n",
       "      <td>0.047628</td>\n",
       "      <td>0.176034</td>\n",
       "      <td>0.231282</td>\n",
       "      <td>0.178891</td>\n",
       "      <td>0.104972</td>\n",
       "      <td>0.241570</td>\n",
       "    </tr>\n",
       "    <tr>\n",
       "      <th>1.0</th>\n",
       "      <td>0.000000</td>\n",
       "      <td>0.015015</td>\n",
       "      <td>0.040541</td>\n",
       "      <td>0.150150</td>\n",
       "      <td>0.220721</td>\n",
       "      <td>0.208709</td>\n",
       "      <td>0.109610</td>\n",
       "      <td>0.255255</td>\n",
       "    </tr>\n",
       "  </tbody>\n",
       "</table>\n",
       "</div>"
      ],
      "text/plain": [
       "GIEDUC    1. Some Elementary  2. Elementary  3. Some Highschool  \\\n",
       "FANOTMOF                                                          \n",
       "0.0                 0.003239       0.016384            0.047628   \n",
       "1.0                 0.000000       0.015015            0.040541   \n",
       "\n",
       "GIEDUC    4. High School  5. Some College  6. College  7. Some Grad  \\\n",
       "FANOTMOF                                                              \n",
       "0.0             0.176034         0.231282    0.178891      0.104972   \n",
       "1.0             0.150150         0.220721    0.208709      0.109610   \n",
       "\n",
       "GIEDUC    8. Grad School  \n",
       "FANOTMOF                  \n",
       "0.0             0.241570  \n",
       "1.0             0.255255  "
      ]
     },
     "execution_count": 19,
     "metadata": {},
     "output_type": "execute_result"
    }
   ],
   "source": [
    "pd.crosstab(mergedData.FANOTMOF,mergedData.GIEDUC,normalize=\"index\")"
   ]
  },
  {
   "cell_type": "code",
   "execution_count": 20,
   "metadata": {},
   "outputs": [],
   "source": [
    "contingency = pd.crosstab(mergedData[mergedData.GIEDUC != \"1. Some Elementary\"].FANOTMOF,mergedData[mergedData.GIEDUC != \"1. Some Elementary\"].GIEDUC)\n",
    "res = chi2_contingency(contingency)"
   ]
  },
  {
   "cell_type": "code",
   "execution_count": 21,
   "metadata": {},
   "outputs": [
    {
     "data": {
      "text/html": [
       "<div>\n",
       "<style scoped>\n",
       "    .dataframe tbody tr th:only-of-type {\n",
       "        vertical-align: middle;\n",
       "    }\n",
       "\n",
       "    .dataframe tbody tr th {\n",
       "        vertical-align: top;\n",
       "    }\n",
       "\n",
       "    .dataframe thead th {\n",
       "        text-align: right;\n",
       "    }\n",
       "</style>\n",
       "<table border=\"1\" class=\"dataframe\">\n",
       "  <thead>\n",
       "    <tr style=\"text-align: right;\">\n",
       "      <th></th>\n",
       "      <th>0</th>\n",
       "      <th>1</th>\n",
       "      <th>2</th>\n",
       "      <th>3</th>\n",
       "      <th>4</th>\n",
       "      <th>5</th>\n",
       "      <th>6</th>\n",
       "    </tr>\n",
       "  </thead>\n",
       "  <tbody>\n",
       "    <tr>\n",
       "      <th>0</th>\n",
       "      <td>85.159715</td>\n",
       "      <td>245.721261</td>\n",
       "      <td>908.370295</td>\n",
       "      <td>1207.316378</td>\n",
       "      <td>956.272635</td>\n",
       "      <td>553.538149</td>\n",
       "      <td>1275.621567</td>\n",
       "    </tr>\n",
       "    <tr>\n",
       "      <th>1</th>\n",
       "      <td>10.840285</td>\n",
       "      <td>31.278739</td>\n",
       "      <td>115.629705</td>\n",
       "      <td>153.683622</td>\n",
       "      <td>121.727365</td>\n",
       "      <td>70.461851</td>\n",
       "      <td>162.378433</td>\n",
       "    </tr>\n",
       "  </tbody>\n",
       "</table>\n",
       "</div>"
      ],
      "text/plain": [
       "           0           1           2            3           4           5  \\\n",
       "0  85.159715  245.721261  908.370295  1207.316378  956.272635  553.538149   \n",
       "1  10.840285   31.278739  115.629705   153.683622  121.727365   70.461851   \n",
       "\n",
       "             6  \n",
       "0  1275.621567  \n",
       "1   162.378433  "
      ]
     },
     "execution_count": 21,
     "metadata": {},
     "output_type": "execute_result"
    }
   ],
   "source": [
    "pd.DataFrame(res[3])"
   ]
  },
  {
   "cell_type": "code",
   "execution_count": 22,
   "metadata": {},
   "outputs": [
    {
     "data": {
      "text/plain": [
       "34.83289303295525"
      ]
     },
     "execution_count": 22,
     "metadata": {},
     "output_type": "execute_result"
    }
   ],
   "source": [
    "res[1]*100"
   ]
  },
  {
   "cell_type": "code",
   "execution_count": 23,
   "metadata": {},
   "outputs": [
    {
     "data": {
      "text/plain": [
       "6.711748646581272"
      ]
     },
     "execution_count": 23,
     "metadata": {},
     "output_type": "execute_result"
    }
   ],
   "source": [
    "res[0]"
   ]
  }
 ],
 "metadata": {
  "kernelspec": {
   "display_name": "Python 3",
   "language": "python",
   "name": "python3"
  },
  "language_info": {
   "codemirror_mode": {
    "name": "ipython",
    "version": 3
   },
   "file_extension": ".py",
   "mimetype": "text/x-python",
   "name": "python",
   "nbconvert_exporter": "python",
   "pygments_lexer": "ipython3",
   "version": "3.7.3"
  }
 },
 "nbformat": 4,
 "nbformat_minor": 2
}
