{
 "cells": [
  {
   "cell_type": "markdown",
   "metadata": {},
   "source": [
    "## Analysis of Fracture Form in MrOS V1 Data (EDA3-V1-FF.ipynb)\n",
    "The Fracture Form is essential in understanding the occurrence, characteristics, and management of fractures within the study population. It provides valuable insights into the prevalence of fractures, associated risk factors, treatment patterns, and the impact of fractures on the participants' health and well-being.\n",
    "\n",
    "#### 1. [Installation and Importing of Libraries](#eda_import)\n",
    "#### 2. [Retreival of Data](#eda_retrieval)\n",
    "#### 3. [Data Cleanup and Consolidation](#eda_cleanup)\n",
    "#### 4. [Handling of NAs](#eda_na)"
   ]
  },
  {
   "cell_type": "markdown",
   "metadata": {},
   "source": [
    "### <a name=\"eda_import\"></a>Installation and Importing of Libraries\n",
    "In order to both explore and visualize the data, it's necessary for us to load various libraries.  In addition to loading already pre-installed libraries, we've also had to install seaborn for plotting. "
   ]
  },
  {
   "cell_type": "code",
   "execution_count": 1,
   "metadata": {},
   "outputs": [
    {
     "name": "stdout",
     "output_type": "stream",
     "text": [
      "Requirement already up-to-date: seaborn in /opt/conda/lib/python3.7/site-packages (0.12.2)\n",
      "Requirement already satisfied, skipping upgrade: numpy!=1.24.0,>=1.17 in /opt/conda/lib/python3.7/site-packages (from seaborn) (1.17.3)\n",
      "Requirement already satisfied, skipping upgrade: pandas>=0.25 in /opt/conda/lib/python3.7/site-packages (from seaborn) (0.25.2)\n",
      "Requirement already satisfied, skipping upgrade: matplotlib!=3.6.1,>=3.1 in /opt/conda/lib/python3.7/site-packages (from seaborn) (3.1.1)\n",
      "Requirement already satisfied, skipping upgrade: typing_extensions; python_version < \"3.8\" in /opt/conda/lib/python3.7/site-packages (from seaborn) (4.6.3)\n",
      "Requirement already satisfied, skipping upgrade: pytz>=2017.2 in /opt/conda/lib/python3.7/site-packages (from pandas>=0.25->seaborn) (2019.2)\n",
      "Requirement already satisfied, skipping upgrade: python-dateutil>=2.6.1 in /opt/conda/lib/python3.7/site-packages (from pandas>=0.25->seaborn) (2.8.0)\n",
      "Requirement already satisfied, skipping upgrade: cycler>=0.10 in /opt/conda/lib/python3.7/site-packages (from matplotlib!=3.6.1,>=3.1->seaborn) (0.10.0)\n",
      "Requirement already satisfied, skipping upgrade: kiwisolver>=1.0.1 in /opt/conda/lib/python3.7/site-packages (from matplotlib!=3.6.1,>=3.1->seaborn) (1.1.0)\n",
      "Requirement already satisfied, skipping upgrade: pyparsing!=2.0.4,!=2.1.2,!=2.1.6,>=2.0.1 in /opt/conda/lib/python3.7/site-packages (from matplotlib!=3.6.1,>=3.1->seaborn) (2.4.2)\n",
      "Requirement already satisfied, skipping upgrade: six>=1.5 in /opt/conda/lib/python3.7/site-packages (from python-dateutil>=2.6.1->pandas>=0.25->seaborn) (1.12.0)\n",
      "Requirement already satisfied, skipping upgrade: setuptools in /opt/conda/lib/python3.7/site-packages (from kiwisolver>=1.0.1->matplotlib!=3.6.1,>=3.1->seaborn) (41.0.1)\n"
     ]
    }
   ],
   "source": [
    "!pip install seaborn --upgrade"
   ]
  },
  {
   "cell_type": "code",
   "execution_count": 2,
   "metadata": {},
   "outputs": [],
   "source": [
    "import numpy as np\n",
    "import pandas as pd\n",
    "import matplotlib.pyplot as plt\n",
    "import seaborn as sns\n",
    "import seaborn.objects as so\n",
    "from sklearn.decomposition import PCA\n",
    "import mpl_toolkits.mplot3d\n",
    "from scipy.stats import chi2_contingency\n"
   ]
  },
  {
   "cell_type": "markdown",
   "metadata": {},
   "source": [
    "### <a name=\"eda_retrieval\"></a>Retreival of Data\n",
    "The data needs to be retrieved from the Postgres database and stored in a dataframe for us to begin analyzing."
   ]
  },
  {
   "cell_type": "code",
   "execution_count": 3,
   "metadata": {},
   "outputs": [
    {
     "name": "stdout",
     "output_type": "stream",
     "text": [
      "········\n"
     ]
    }
   ],
   "source": [
    "import psycopg2\n",
    "import sqlalchemy\n",
    "import getpass\n",
    "\n",
    "user = \"dtfp3\"\n",
    "host = \"pgsql.dsa.lan\"\n",
    "database = \"casestdysu23t03\"\n",
    "password = getpass.getpass()\n",
    "connectionstring = \"postgresql://\" + user + \":\" + password + \"@\" + host + \"/\" + database\n",
    "engine = sqlalchemy.create_engine(connectionstring)\n",
    "connection = None\n",
    "\n",
    "try:\n",
    "    connection = engine.connect()\n",
    "except Exception as err:\n",
    "    print(\"An error has occurred trying to connect: {}\".format(err))\n",
    "\n",
    "del password"
   ]
  },
  {
   "cell_type": "code",
   "execution_count": 4,
   "metadata": {},
   "outputs": [],
   "source": [
    "def binary2StringLiteral(df):\n",
    "    for column in df.columns:\n",
    "        if df[column].dtype == \"object\":\n",
    "            df[column] = df[column].str.decode('utf-8')"
   ]
  },
  {
   "cell_type": "code",
   "execution_count": 5,
   "metadata": {},
   "outputs": [],
   "source": [
    "fafeb23_df = pd.read_sas(\"/dsa/groups/casestudy2023su/team03/FAFEB23.SAS7BDAT\")\n",
    "fafeb23_df = fafeb23_df[[\"ID\",\"FANOTMOF\"]]\n",
    "binary2StringLiteral(fafeb23_df)"
   ]
  },
  {
   "cell_type": "markdown",
   "metadata": {},
   "source": [
    "### <a name=\"eda_cleanup\"></a>Data Cleanup and Consolidation"
   ]
  },
  {
   "cell_type": "code",
   "execution_count": 6,
   "metadata": {},
   "outputs": [],
   "source": [
    "query = \"SELECT * FROM public.v1_form_FF\"\n",
    "form_ff_df = pd.read_sql_query(query, con=connection)\n",
    "\n",
    "##Remove Staff IDs\n",
    "##form_ff_df = form_ff_df.drop(form_ff_df.filter(regex=\"(STAFF)\",axis=1).columns,axis=1)"
   ]
  },
  {
   "cell_type": "code",
   "execution_count": 7,
   "metadata": {},
   "outputs": [],
   "source": [
    "form_ff_df = form_ff_df.loc[:,form_ff_df.columns.str.startswith((\"FF\",\"ID\"))]"
   ]
  },
  {
   "cell_type": "code",
   "execution_count": 8,
   "metadata": {},
   "outputs": [],
   "source": [
    "family_fractures = form_ff_df.filter(regex=\"(MOM)|(DAD)\")"
   ]
  },
  {
   "cell_type": "markdown",
   "metadata": {},
   "source": [
    "### <a name=\"eda_na\"></a>Exploration of NA Values"
   ]
  },
  {
   "cell_type": "code",
   "execution_count": 9,
   "metadata": {},
   "outputs": [
    {
     "data": {
      "text/plain": [
       "FFMOMOST    2299\n",
       "FFMOMFX     1762\n",
       "FFMOMHIP    4703\n",
       "FFMOMWST    4802\n",
       "FFMOMSPN    4755\n",
       "FFMOMOTH    4931\n",
       "FFMOM         36\n",
       "FFMOMAGE    5659\n",
       "FFMOMDIE     393\n",
       "FFDADOST    2202\n",
       "FFDADFX     2647\n",
       "FFDADHIP    5140\n",
       "FFDADWST    5198\n",
       "FFDADSPN    5146\n",
       "FFDADOTH    5202\n",
       "FFDAD         91\n",
       "FFDADAGE    5928\n",
       "FFDADDIE     201\n",
       "dtype: int64"
      ]
     },
     "execution_count": 9,
     "metadata": {},
     "output_type": "execute_result"
    }
   ],
   "source": [
    "family_fractures.isna().sum().T"
   ]
  },
  {
   "cell_type": "markdown",
   "metadata": {},
   "source": [
    "The variables of interest in the family history portion of FF form have such a large amount of missing values (>50% in most cases) that it would be innapropriate to use."
   ]
  },
  {
   "cell_type": "code",
   "execution_count": 10,
   "metadata": {},
   "outputs": [],
   "source": [
    "##Only keep high fidelity data\n",
    "fracture_hist = form_ff_df.drop(family_fractures.columns,axis=1).dropna(axis=1,thresh=5800)"
   ]
  },
  {
   "cell_type": "code",
   "execution_count": 11,
   "metadata": {},
   "outputs": [
    {
     "data": {
      "text/plain": [
       "Index(['ID', 'FFFRAC', 'FFDAUGH', 'FFSIS', 'FFBRO', 'FFSON', 'FFNOHP',\n",
       "       'FFNOSP', 'FFNOHS', 'FFNOHSW', 'FFNT504', 'FFNT502', 'FFNTGT50',\n",
       "       'FFNTLE50', 'FFNMGT50', 'FFNMLE50', 'FFFX50', 'FF'],\n",
       "      dtype='object')"
      ]
     },
     "execution_count": 11,
     "metadata": {},
     "output_type": "execute_result"
    }
   ],
   "source": [
    "fracture_hist.columns"
   ]
  },
  {
   "cell_type": "code",
   "execution_count": 12,
   "metadata": {},
   "outputs": [
    {
     "data": {
      "text/plain": [
       "(5994, 18)"
      ]
     },
     "execution_count": 12,
     "metadata": {},
     "output_type": "execute_result"
    }
   ],
   "source": [
    "fracture_hist.shape"
   ]
  },
  {
   "cell_type": "code",
   "execution_count": 13,
   "metadata": {},
   "outputs": [
    {
     "data": {
      "text/plain": [
       "0       0.0\n",
       "1       0.0\n",
       "2       1.0\n",
       "3       0.0\n",
       "4       1.0\n",
       "       ... \n",
       "5989    0.0\n",
       "5990    1.0\n",
       "5991    0.0\n",
       "5992    1.0\n",
       "5993    1.0\n",
       "Name: FFFRAC, Length: 5994, dtype: float64"
      ]
     },
     "execution_count": 13,
     "metadata": {},
     "output_type": "execute_result"
    }
   ],
   "source": [
    "form_ff_df.FFFRAC"
   ]
  }
 ],
 "metadata": {
  "kernelspec": {
   "display_name": "Python 3",
   "language": "python",
   "name": "python3"
  },
  "language_info": {
   "codemirror_mode": {
    "name": "ipython",
    "version": 3
   },
   "file_extension": ".py",
   "mimetype": "text/x-python",
   "name": "python",
   "nbconvert_exporter": "python",
   "pygments_lexer": "ipython3",
   "version": "3.7.3"
  }
 },
 "nbformat": 4,
 "nbformat_minor": 2
}
