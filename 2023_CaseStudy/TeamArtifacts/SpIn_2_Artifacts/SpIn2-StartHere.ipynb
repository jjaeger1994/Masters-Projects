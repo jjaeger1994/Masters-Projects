{
 "cells": [
  {
   "cell_type": "markdown",
   "metadata": {},
   "source": [
    "# SpIn 2 - StartHere -- Notebook workflow/pipeline"
   ]
  },
  {
   "cell_type": "markdown",
   "metadata": {},
   "source": [
    "### This notebook indexes the workflow/pipeline for SpIn #2\n",
    "\n",
    "Due to our challenges with accessing the data we originally hoped to access, we focused on Data Ingestion and starting our Exploratory Data Analysis during this sprint. \n",
    "\n",
    "#### Data Integestion\n",
    "1. [Data1.ipynb](Data1.ipynb)\n",
    "    1. This notebook is used to verify database connectivity for the specified user\n",
    "    2. Convert our raw SAS7BDAT data files to CSV\n",
    "    3. Upload the CSVs in to Postgres tables\n",
    "    4. Confirm successful data upload\n",
    "    \n",
    "#### Data Carpentry\n",
    "This is a highly documented and public dataset so we've fortunately found that minimal data carpentry has been necessary.  We've begun to commit the time that would have otherwise been spent on carpentry working through EDA.  <br>\n",
    "\n",
    "One consideration that we have needed to make is that since the dataset has a standardized nomenclature for feature naming, we've been isolating specific features with regex. \n",
    "\n",
    "#### Exploratory Data Analysis\n",
    "1. [EDA1.ipynb](EDA1.ipynb)\n",
    "    1. This notebook is used for preliminary analysis of Bone Mineral Densities in MrOS B1 Data. As a note, this does require the installation of Seaborn.\n",
    "    2. Retrieval of the data from the database\n",
    "    3. NA Analysis\n",
    "    4. Principle Component Analysis\n",
    "    5. Feature Selection\n",
    "    6. Summary of Insights"
   ]
  }
 ],
 "metadata": {
  "kernelspec": {
   "display_name": "Python 3",
   "language": "python",
   "name": "python3"
  },
  "language_info": {
   "codemirror_mode": {
    "name": "ipython",
    "version": 3
   },
   "file_extension": ".py",
   "mimetype": "text/x-python",
   "name": "python",
   "nbconvert_exporter": "python",
   "pygments_lexer": "ipython3",
   "version": "3.7.3"
  }
 },
 "nbformat": 4,
 "nbformat_minor": 2
}
