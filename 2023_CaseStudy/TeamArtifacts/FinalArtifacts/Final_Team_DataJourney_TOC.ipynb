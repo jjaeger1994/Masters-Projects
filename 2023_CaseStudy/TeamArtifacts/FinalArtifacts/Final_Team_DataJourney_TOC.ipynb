{
 "cells": [
  {
   "cell_type": "markdown",
   "metadata": {},
   "source": [
    "# Final Team Data Journey - Table of Contents\n",
    "\n",
    "## Team03 - Cracking the Code: Predicting Fracture Risk using Health and Lifestyle Data\n",
    "\n",
    "### Team Members\n",
    "| Name          | Pawprint | Emphasis Area             | Reason for selecting project                                     |\n",
    "|---------------|----------|---------------------------|----------------------------------------------------------------|\n",
    "| Josh Jaeger   | Jwj8c8   | High Performance Computing | While my background is in engineering and utility data, I have experience in the medical field and have seen what data can do to improve patient outcomes. |\n",
    "| Tyler Hall    | Hallty   | Biohealth                 | Background is in physiology and previous experience at MOI.      |\n",
    "| Karen Bromert | bromertk | Biohealth                 | My background is in biology but I’m interested in the medical recovery process. |\n",
    "| David Turvey  | Dtfp3    | High Performance Computing | Worked at Cerner for 10 years assisting with interoperability of data. |\n",
    "\n",
    "### Project Description\n",
    "Our project scope is to identify and understand the effects of lifestyle factors, medical history, and specific biomarkers on the risk of osteoporosis-related bone fractures. The objective is to build a predictive model that can anticipate the likelihood of fractures based on identified risk factors. The project will involve the following components:\n",
    "\n",
    "1. **Data Analysis and Exploration:**\n",
    "   - Descriptive Analytics: Examine general trends, patterns, and correlations in the data to gain insights into the relationships between risk factors and fractures.\n",
    "   - Diagnostic Analytics: Delve deeper into identified patterns to understand the underlying reasons behind these patterns.\n",
    "\n",
    "2. **Predictive Modeling:**\n",
    "   - Utilize machine learning algorithms to develop a predictive model that accurately predicts fracture risk based on health and lifestyle factors.\n",
    "   - Employ a black box ensemble method to identify important features and refine the model's accuracy.\n",
    "\n",
    "3. **Prescriptive Analytics:**\n",
    "   - Provide prescriptive insights based on the predictive model to guide preventive measures, treatment plans, and policy decisions.\n",
    "   - Recommend lifestyle changes and interventions for high-risk groups identified by the model.\n",
    "\n",
    "The project will provide valuable insights into fracture risk assessment and enable informed decision-making regarding preventive measures, treatments, and policies related to osteoporosis-related fractures.\n",
    "\n",
    "### Domain Question\n",
    "When combined with BMD data, what specific health-related issues or lifestyle factors are associated with increased fracture risk?\n",
    "\n",
    "### Intended Audience\n",
    "The data story is targeted primarily towards healthcare professionals and researchers interested in predicting fracture risk using lifestyle factors.\n",
    "\n",
    "### Table of Contents\n",
    "These notebooks contain links to each Sprint-Increment (SpIn) \"StartHere\" notebook documenting the steps needed to reproduce the project end-to-end\n",
    "\n",
    "1. [Sprint Increment #1](../SpIn_1_Artifacts): Due to challenges working with data containing PHI, we were unable to make data carpentry progress\n",
    "1. [Sprint Increment #2](../SpIn_2_Artifacts/SpIn2-StartHere.ipynb): We started data ingestion and Exploratory Data Analysis of the MrOS public dataset\n",
    "1. [Sprint Increment #3](../SpIn_3_Artifacts/SpIn3-StartHere.ipynb): Narrowing our scope and focus on the Visit Baseline (V1) data as well as the Bone Mineral Density (BMD) data\n",
    "1. [Sprint Increment #4](../SpIn_4_Artifacts/SpIn4-StartHere.ipynb): Continued exploration of V1 data, merging of our findings, preliminary model exploration\n",
    "1. [Sprint Increment #5](../SpIn_5_Artifacts/SpIn5-StartHere.ipynb): Model hypertuning and review of performance\n",
    "1. [Final Data Story](Final_DataStory_TOC.ipynb): Final Data Story Table of Contents\n",
    "1. [Final Model Comparison](Model_Test_Comparison.ipynb) and [Best Model Visualization](Best_Model_Visualization.ipynb): Final model performance comparisons and visualizations"
   ]
  }
 ],
 "metadata": {
  "kernelspec": {
   "display_name": "Python 3",
   "language": "python",
   "name": "python3"
  },
  "language_info": {
   "codemirror_mode": {
    "name": "ipython",
    "version": 3
   },
   "file_extension": ".py",
   "mimetype": "text/x-python",
   "name": "python",
   "nbconvert_exporter": "python",
   "pygments_lexer": "ipython3",
   "version": "3.7.3"
  }
 },
 "nbformat": 4,
 "nbformat_minor": 2
}
