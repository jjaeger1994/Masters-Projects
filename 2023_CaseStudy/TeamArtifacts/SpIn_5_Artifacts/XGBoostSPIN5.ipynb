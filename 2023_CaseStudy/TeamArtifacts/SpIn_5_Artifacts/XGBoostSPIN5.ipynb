{
 "cells": [
  {
   "cell_type": "markdown",
   "metadata": {},
   "source": [
    "# XGBoost Model Building\n",
    "#### For this week's spin, each team member is working on building a model using an ensemble tree based method. Below is work for XGBoost."
   ]
  },
  {
   "cell_type": "markdown",
   "metadata": {},
   "source": [
    "1. [Import Libraries](#import-libraries)\n",
    "2. [Read split csv files](#read-split-csv-files)\n",
    "3. [Train XGBoost Model](#train-xgboost-model)\n",
    "4. [Validation Set Performance and Decision Threshold Tuning](#validation-set-performance-and-decision-threshold-tuning)\n",
    "5. [Optuna Hypertuning](#optuna-hypertuning)\n",
    "6. [Risk Stratification](#risk-stratification)"
   ]
  },
  {
   "cell_type": "markdown",
   "metadata": {},
   "source": [
    "### Import Libraries<a name=\"import-libraries\"></a>"
   ]
  },
  {
   "cell_type": "code",
   "execution_count": 1,
   "metadata": {},
   "outputs": [
    {
     "name": "stdout",
     "output_type": "stream",
     "text": [
      "Collecting pip\n",
      "\u001b[?25l  Downloading https://files.pythonhosted.org/packages/50/c2/e06851e8cc28dcad7c155f4753da8833ac06a5c704c109313b8d5a62968a/pip-23.2.1-py3-none-any.whl (2.1MB)\n",
      "\u001b[K     |████████████████████████████████| 2.1MB 3.5MB/s eta 0:00:01\n",
      "\u001b[?25hInstalling collected packages: pip\n",
      "  Found existing installation: pip 19.2.2\n",
      "    Uninstalling pip-19.2.2:\n",
      "      Successfully uninstalled pip-19.2.2\n",
      "Successfully installed pip-23.2.1\n",
      "Requirement already satisfied: scikit-learn in /opt/conda/lib/python3.7/site-packages (1.0.2)\n",
      "Requirement already satisfied: numpy>=1.14.6 in /opt/conda/lib/python3.7/site-packages (from scikit-learn) (1.17.3)\n",
      "Requirement already satisfied: scipy>=1.1.0 in /opt/conda/lib/python3.7/site-packages (from scikit-learn) (1.2.1)\n",
      "Requirement already satisfied: joblib>=0.11 in /opt/conda/lib/python3.7/site-packages (from scikit-learn) (1.3.1)\n",
      "Requirement already satisfied: threadpoolctl>=2.0.0 in /opt/conda/lib/python3.7/site-packages (from scikit-learn) (3.1.0)\n",
      "Requirement already satisfied: wheel in /opt/conda/lib/python3.7/site-packages (0.33.4)\n",
      "Requirement already satisfied: setuptools in /opt/conda/lib/python3.7/site-packages (41.0.1)\n",
      "Requirement already satisfied: numpy in /opt/conda/lib/python3.7/site-packages (1.17.3)\n",
      "Requirement already satisfied: scipy in /opt/conda/lib/python3.7/site-packages (1.2.1)\n",
      "Requirement already satisfied: xgboost in /opt/conda/lib/python3.7/site-packages (1.6.2)\n",
      "Requirement already satisfied: numpy in /opt/conda/lib/python3.7/site-packages (from xgboost) (1.17.3)\n",
      "Requirement already satisfied: scipy in /opt/conda/lib/python3.7/site-packages (from xgboost) (1.2.1)\n",
      "Collecting optuna\n",
      "  Obtaining dependency information for optuna from https://files.pythonhosted.org/packages/a0/8c/f72c6bc61b3c71149af95cd91e16149ea5b5aeae99e6d197f80e79a1035a/optuna-3.2.0-py3-none-any.whl.metadata\n",
      "  Downloading optuna-3.2.0-py3-none-any.whl.metadata (17 kB)\n",
      "Collecting alembic>=1.5.0 (from optuna)\n",
      "  Obtaining dependency information for alembic>=1.5.0 from https://files.pythonhosted.org/packages/11/00/46a4f66ad54c661350a1cd5daae4b4ab2232486c55635ee12ff12958b03f/alembic-1.11.1-py3-none-any.whl.metadata\n",
      "  Downloading alembic-1.11.1-py3-none-any.whl.metadata (7.2 kB)\n",
      "Collecting cmaes>=0.9.1 (from optuna)\n",
      "  Obtaining dependency information for cmaes>=0.9.1 from https://files.pythonhosted.org/packages/f7/46/7d9544d453346f6c0c405916c95fdb653491ea2e9976cabb810ba2fe8cd4/cmaes-0.10.0-py3-none-any.whl.metadata\n",
      "  Downloading cmaes-0.10.0-py3-none-any.whl.metadata (19 kB)\n",
      "Collecting colorlog (from optuna)\n",
      "  Downloading colorlog-6.7.0-py2.py3-none-any.whl (11 kB)\n",
      "Requirement already satisfied: numpy in /opt/conda/lib/python3.7/site-packages (from optuna) (1.17.3)\n",
      "Collecting packaging>=20.0 (from optuna)\n",
      "  Downloading packaging-23.1-py3-none-any.whl (48 kB)\n",
      "\u001b[2K     \u001b[90m━━━━━━━━━━━━━━━━━━━━━━━━━━━━━━━━━━━━━━━━\u001b[0m \u001b[32m48.9/48.9 kB\u001b[0m \u001b[31m2.7 MB/s\u001b[0m eta \u001b[36m0:00:00\u001b[0m\n",
      "\u001b[?25hRequirement already satisfied: sqlalchemy>=1.3.0 in /opt/conda/lib/python3.7/site-packages (from optuna) (1.3.6)\n",
      "Requirement already satisfied: tqdm in /opt/conda/lib/python3.7/site-packages (from optuna) (4.33.0)\n",
      "Requirement already satisfied: PyYAML in /opt/conda/lib/python3.7/site-packages (from optuna) (5.1.2)\n",
      "Requirement already satisfied: Mako in /opt/conda/lib/python3.7/site-packages (from alembic>=1.5.0->optuna) (1.1.0)\n",
      "Requirement already satisfied: typing-extensions>=4 in /opt/conda/lib/python3.7/site-packages (from alembic>=1.5.0->optuna) (4.7.1)\n",
      "Collecting importlib-metadata (from alembic>=1.5.0->optuna)\n",
      "  Obtaining dependency information for importlib-metadata from https://files.pythonhosted.org/packages/ff/94/64287b38c7de4c90683630338cf28f129decbba0a44f0c6db35a873c73c4/importlib_metadata-6.7.0-py3-none-any.whl.metadata\n",
      "  Downloading importlib_metadata-6.7.0-py3-none-any.whl.metadata (4.9 kB)\n",
      "Collecting importlib-resources (from alembic>=1.5.0->optuna)\n",
      "  Downloading importlib_resources-5.12.0-py3-none-any.whl (36 kB)\n",
      "Collecting zipp>=0.5 (from importlib-metadata->alembic>=1.5.0->optuna)\n",
      "  Downloading zipp-3.15.0-py3-none-any.whl (6.8 kB)\n",
      "Requirement already satisfied: MarkupSafe>=0.9.2 in /opt/conda/lib/python3.7/site-packages (from Mako->alembic>=1.5.0->optuna) (1.1.1)\n",
      "Downloading optuna-3.2.0-py3-none-any.whl (390 kB)\n",
      "\u001b[2K   \u001b[90m━━━━━━━━━━━━━━━━━━━━━━━━━━━━━━━━━━━━━━━━\u001b[0m \u001b[32m390.6/390.6 kB\u001b[0m \u001b[31m10.7 MB/s\u001b[0m eta \u001b[36m0:00:00\u001b[0m00:01\u001b[0m\n",
      "\u001b[?25hDownloading alembic-1.11.1-py3-none-any.whl (224 kB)\n",
      "\u001b[2K   \u001b[90m━━━━━━━━━━━━━━━━━━━━━━━━━━━━━━━━━━━━━━━━\u001b[0m \u001b[32m224.5/224.5 kB\u001b[0m \u001b[31m18.5 MB/s\u001b[0m eta \u001b[36m0:00:00\u001b[0m\n",
      "\u001b[?25hDownloading cmaes-0.10.0-py3-none-any.whl (29 kB)\n",
      "Downloading importlib_metadata-6.7.0-py3-none-any.whl (22 kB)\n",
      "Installing collected packages: zipp, packaging, colorlog, cmaes, importlib-resources, importlib-metadata, alembic, optuna\n",
      "  Attempting uninstall: packaging\n",
      "    Found existing installation: packaging 19.0\n",
      "    Uninstalling packaging-19.0:\n",
      "      Successfully uninstalled packaging-19.0\n",
      "  Attempting uninstall: alembic\n",
      "    Found existing installation: alembic 1.0.11\n",
      "    Uninstalling alembic-1.0.11:\n",
      "      Successfully uninstalled alembic-1.0.11\n",
      "Successfully installed alembic-1.11.1 cmaes-0.10.0 colorlog-6.7.0 importlib-metadata-6.7.0 importlib-resources-5.12.0 optuna-3.2.0 packaging-23.1 zipp-3.15.0\n",
      "Collecting graphviz\n",
      "  Downloading graphviz-0.20.1-py3-none-any.whl (47 kB)\n",
      "\u001b[2K     \u001b[90m━━━━━━━━━━━━━━━━━━━━━━━━━━━━━━━━━━━━━━━━\u001b[0m \u001b[32m47.0/47.0 kB\u001b[0m \u001b[31m2.1 MB/s\u001b[0m eta \u001b[36m0:00:00\u001b[0m\n",
      "\u001b[?25hInstalling collected packages: graphviz\n",
      "Successfully installed graphviz-0.20.1\n"
     ]
    }
   ],
   "source": [
    "!pip install --upgrade pip\n",
    "\n",
    "!pip install scikit-learn\n",
    "\n",
    "!pip install wheel setuptools numpy scipy\n",
    "\n",
    "!pip install xgboost\n",
    "\n",
    "!pip install optuna\n",
    "\n",
    "!pip install graphviz"
   ]
  },
  {
   "cell_type": "code",
   "execution_count": 2,
   "metadata": {},
   "outputs": [],
   "source": [
    "import numpy as np\n",
    "import pandas as pd\n",
    "import matplotlib.pyplot as plt\n",
    "import xgboost as xgb\n",
    "from sklearn.metrics import roc_auc_score, accuracy_score, classification_report, precision_recall_curve, recall_score, f1_score, roc_curve\n",
    "from xgboost import plot_importance\n",
    "import optuna\n",
    "from xgboost import DMatrix, plot_tree, XGBClassifier\n",
    "import seaborn as sns\n",
    "import graphviz\n",
    "from sklearn.model_selection import StratifiedKFold, learning_curve\n",
    "from sklearn.calibration import calibration_curve\n"
   ]
  },
  {
   "cell_type": "markdown",
   "metadata": {},
   "source": [
    "### Read split csv files<a name=\"read-split-csv-files\"></a>"
   ]
  },
  {
   "cell_type": "code",
   "execution_count": 3,
   "metadata": {},
   "outputs": [],
   "source": [
    "file_path = \"/dsa/groups/casestudy2023su/team03/Data4/\"\n",
    "\n",
    "merged_df = pd.read_csv(file_path + \"mros_merged.csv\")\n",
    "\n",
    "X_train = pd.read_csv(file_path + \"X_train.csv\")\n",
    "X_test = pd.read_csv(file_path + \"X_test.csv\")\n",
    "X_val = pd.read_csv(file_path + \"X_validation.csv\")\n",
    "\n",
    "y_train = pd.read_csv(file_path + \"y_train.csv\")\n",
    "y_test = pd.read_csv(file_path + \"y_test.csv\")\n",
    "y_val = pd.read_csv(file_path + \"y_validation.csv\")\n",
    "\n"
   ]
  },
  {
   "cell_type": "code",
   "execution_count": 4,
   "metadata": {},
   "outputs": [
    {
     "name": "stdout",
     "output_type": "stream",
     "text": [
      "merged_df shape:  (5994, 381)\n",
      "X_train shape:  (7528, 292)\n",
      "X_test shape:  (599, 292)\n",
      "X_validation shape:  (600, 292)\n",
      "y_train shape:  (7528, 1)\n",
      "y_test shape:  (599, 1)\n",
      "y_validation shape:  (600, 1)\n",
      "merged_df type:  <class 'pandas.core.frame.DataFrame'>\n",
      "X_train type:  <class 'pandas.core.frame.DataFrame'>\n",
      "X_test type:  <class 'pandas.core.frame.DataFrame'>\n",
      "X_validation type:  <class 'pandas.core.frame.DataFrame'>\n",
      "y_train type:  <class 'pandas.core.frame.DataFrame'>\n",
      "y_test type:  <class 'pandas.core.frame.DataFrame'>\n",
      "y_validation type:  <class 'pandas.core.frame.DataFrame'>\n"
     ]
    }
   ],
   "source": [
    "#double checking our split counts\n",
    "\n",
    "print(\"merged_df shape: \", merged_df.shape)\n",
    "print(\"X_train shape: \", X_train.shape)\n",
    "print(\"X_test shape: \", X_test.shape)\n",
    "print(\"X_validation shape: \", X_val.shape)\n",
    "print(\"y_train shape: \", y_train.shape)\n",
    "print(\"y_test shape: \", y_test.shape)\n",
    "print(\"y_validation shape: \", y_val.shape)\n",
    "print(\"merged_df type: \", type(merged_df))\n",
    "print(\"X_train type: \", type(X_train))\n",
    "print(\"X_test type: \", type(X_test))\n",
    "print(\"X_validation type: \", type(X_val))\n",
    "print(\"y_train type: \", type(y_train))\n",
    "print(\"y_test type: \", type(y_test))\n",
    "print(\"y_validation type: \", type(y_val))\n",
    "\n"
   ]
  },
  {
   "cell_type": "markdown",
   "metadata": {},
   "source": [
    "# Train XGBoost Model<a name=\"train-xgboost-model\"></a>"
   ]
  },
  {
   "cell_type": "code",
   "execution_count": 5,
   "metadata": {},
   "outputs": [],
   "source": [
    "#converting to numpy array for XGBoost\n",
    "\n",
    "y_train = y_train.values.ravel()\n",
    "y_test = y_test.values.ravel()\n",
    "y_validation = y_val.values.ravel()"
   ]
  },
  {
   "cell_type": "code",
   "execution_count": 6,
   "metadata": {},
   "outputs": [],
   "source": [
    "train_data = xgb.DMatrix(data=X_train, label=y_train)\n",
    "param = {\n",
    "    'objective': 'binary:logistic',\n",
    "    'eval_metric': 'auc',\n",
    "}\n",
    "bst = xgb.train(param, train_data)"
   ]
  },
  {
   "cell_type": "code",
   "execution_count": 7,
   "metadata": {},
   "outputs": [
    {
     "name": "stdout",
     "output_type": "stream",
     "text": [
      "Training set classification report:\n",
      "              precision    recall  f1-score   support\n",
      "\n",
      "           0       0.82      0.99      0.90      3764\n",
      "           1       0.99      0.78      0.87      3764\n",
      "\n",
      "    accuracy                           0.89      7528\n",
      "   macro avg       0.90      0.89      0.88      7528\n",
      "weighted avg       0.90      0.89      0.88      7528\n",
      "\n"
     ]
    }
   ],
   "source": [
    "train_predictions = bst.predict(xgb.DMatrix(data=X_train))\n",
    "train_predictions_binary = (train_predictions > 0.5).astype(int)\n",
    "print(\"Training set classification report:\")\n",
    "print(classification_report(y_train, train_predictions_binary))"
   ]
  },
  {
   "cell_type": "code",
   "execution_count": 8,
   "metadata": {},
   "outputs": [],
   "source": [
    "#Make predictions on the validation set\n",
    "val_data = xgb.DMatrix(data=X_val)\n",
    "val_predictions = bst.predict(val_data)"
   ]
  },
  {
   "cell_type": "code",
   "execution_count": 9,
   "metadata": {},
   "outputs": [
    {
     "name": "stdout",
     "output_type": "stream",
     "text": [
      "\n",
      "Validation AUC: 0.6368677171610169\n",
      "Validation Accuracy: 0.785\n"
     ]
    }
   ],
   "source": [
    "#calculate some eval metrics for the val set\n",
    "val_auc_score = roc_auc_score(y_val, val_predictions)\n",
    "val_accuracy = accuracy_score(y_val, (val_predictions > 0.5).astype(int))\n",
    "print(f\"\\nValidation AUC: {val_auc_score}\")\n",
    "print(f\"Validation Accuracy: {val_accuracy}\")"
   ]
  },
  {
   "cell_type": "code",
   "execution_count": 10,
   "metadata": {},
   "outputs": [
    {
     "data": {
      "image/png": "[encoded data removed]",
      "text/plain": [
       "<Figure size 432x288 with 1 Axes>"
      ]
     },
     "metadata": {
      "needs_background": "light"
     },
     "output_type": "display_data"
    }
   ],
   "source": [
    "#plot feature importance\n",
    "\n",
    "plot_importance(bst)\n",
    "plt.show()\n",
    "\n",
    "importance = bst.get_score(importance_type='gain')\n",
    "\n",
    "# Convert into a pandas dataframe\n",
    "importance_df = pd.DataFrame({\n",
    "    'Feature': list(importance.keys()),\n",
    "    'Score': list(importance.values())\n",
    "})"
   ]
  },
  {
   "cell_type": "markdown",
   "metadata": {},
   "source": [
    "#### Feature importance plot is unreadable. Lets convert to a dataframe, and limit to the gainers with a score above 20"
   ]
  },
  {
   "cell_type": "code",
   "execution_count": 11,
   "metadata": {},
   "outputs": [
    {
     "data": {
      "image/png": "[encoded data removed]",
      "text/plain": [
       "<Figure size 720x432 with 1 Axes>"
      ]
     },
     "metadata": {
      "needs_background": "light"
     },
     "output_type": "display_data"
    }
   ],
   "source": [
    "threshold = 20\n",
    "\n",
    "# Filter the DataFrame based on the score threshold\n",
    "filtered_df = importance_df[importance_df['Score'] > threshold]\n",
    "\n",
    "plt.figure(figsize=(10, 6))\n",
    "sns.barplot(x='Score', y='Feature', data=filtered_df, orient='h')\n",
    "plt.xlabel('Feature Importance')\n",
    "plt.ylabel('Feature')\n",
    "plt.title('Feature Importance Plot (Threshold: > {})'.format(threshold))\n",
    "plt.show()"
   ]
  },
  {
   "cell_type": "code",
   "execution_count": 12,
   "metadata": {},
   "outputs": [
    {
     "name": "stdout",
     "output_type": "stream",
     "text": [
      "                               Feature       Score\n",
      "109                    FractureAfter50  452.784576\n",
      "110                   FractureBefore50  271.633209\n",
      "108                         NoFracture  240.055038\n",
      "86            TAKEASPIRINATLEAST3XWEEK   82.769066\n",
      "72                      LOWCHOLESTEROL   72.399971\n",
      "..                                 ...         ...\n",
      "40     STAYEDWITHINLINESFORNARROWWALK2    2.892051\n",
      "36            SECONDSTOCOMPLETE5STANDS    2.741497\n",
      "77            DIRUETICPOTASSIUMSPARING    1.922306\n",
      "122  GISOC_47ConstructionandExtraction    1.707411\n",
      "97                       PLATE1_TRIAL4    1.532604\n",
      "\n",
      "[125 rows x 2 columns]\n",
      "                                    Feature       Score\n",
      "109                         FractureAfter50  452.784576\n",
      "110                        FractureBefore50  271.633209\n",
      "108                              NoFracture  240.055038\n",
      "86                 TAKEASPIRINATLEAST3XWEEK   82.769066\n",
      "72                           LOWCHOLESTEROL   72.399971\n",
      "68              EVERDRANK5DRINKSDAYEVERYDAY   59.328594\n",
      "61              INPAST12MONTHS12DRINKSALCOH   52.282578\n",
      "67               CDIDNOTHAVE5DRINKSONANYDAY   46.101166\n",
      "52              HAVEYOUSMOKEPIPECIGARSREGUL   44.275440\n",
      "55               HAVEYOUFELTCUTDOWNDRINKING   41.760342\n",
      "17                                   MHHAND   41.709290\n",
      "25                                   MHFALL   40.794567\n",
      "29                                     MHBW   40.754917\n",
      "15                                 MHOSTART   39.802620\n",
      "70                                  ANYDIET   35.796570\n",
      "7                                      MHBP   33.961250\n",
      "11                                 MHPROSTT   31.601255\n",
      "22                                     MHOC   30.750053\n",
      "14                                   MHARTH   29.467653\n",
      "18                                 MHARTHMD   29.288422\n",
      "12                                    MHCAT   28.496666\n",
      "10                                  MHPROST   23.030128\n",
      "56             HAVEPEOPLEANNOYEDYOUDRINKING   22.787327\n",
      "124                                 BMD_pca   22.533375\n",
      "96                            PLATE1_TRIAL1   21.000046\n",
      "8                                      MHMI   20.505686\n",
      "116                GIERACE_2AFRICANAMERICAN   20.488476\n",
      "112                     GIEDUC_5SomeCollege   20.322538\n",
      "20                                     MHSC   20.276545\n",
      "88                          GLASSESDISTANCE   20.066055\n",
      "73                                  LOWSALT   19.611900\n",
      "26                                   MHHEAD   19.151087\n",
      "5                                   MHOSTEO   18.919483\n",
      "32                                  MHHGTCM   18.434616\n",
      "100                       LCSLESSTHANNORMAL   17.894274\n",
      "111                      GIEDUC_4HighSchool   17.175245\n",
      "16                                  MHARTDK   17.104290\n",
      "117                          GIERACE_3ASIAN   16.901966\n",
      "28                                 MHNOINJR   16.693991\n",
      "79           HMGCOAREDUCTASEINHIBITORSTATIN   16.549923\n",
      "85          HOWMANYMONTHSRECEIVEDTESTOSTINJ   16.525909\n",
      "21                                  MHPCOTH   15.230286\n",
      "71                                   LOWFAT   13.657657\n",
      "93                          DEPTHCUENOHESIT   12.969621\n",
      "81        NONSTEROIDALANTIINFLAMMATORYAGENT   12.699880\n",
      "75                             ALPHABLOCKER   12.163646\n",
      "63              ACALENDARUNITFORANYDRINKING   12.026966\n",
      "24                                  MHDZBAL   11.987873\n",
      "13                                   MHSTOM   11.881672\n",
      "69                  NUMBEROFDRINKSWKCALCVAR   11.865550\n",
      "76                    CALCIUMCHANNELBLOCKER   11.696707\n",
      "51             HOWOLDWEREWHENSTOPPEDSMOKING   11.535982\n",
      "107                                FFFX50_0   11.419662\n",
      "99                          ACUITY2040WORSE   11.282441\n",
      "42                STEPLENGTHINMETERSCALCVAR   11.120407\n",
      "94                            PLATE2_TRIAL1   10.976855\n",
      "103                                     BMI   10.793995\n",
      "48              AVGCIGSDAYENTIRETIMESMOKING   10.637628\n",
      "62                      ADAYSDRANKPERWKMOYR   10.329462\n",
      "58                                    SCORE   10.299792\n",
      "80          NONBENZODIAZEPINEANTICONVULSANT   10.285851\n",
      "92                         GLASSESCONTACTFS   10.042669\n",
      "78              HISTAMINERECEPTORANTAGONIST    9.969318\n",
      "84                           THYROIDHORMONE    9.523568\n",
      "82                      PROTONPUMPINHIBITOR    9.473737\n",
      "91                     CORRECTLETTERSPRTEST    9.401326\n",
      "31                                 MHWGTAGE    9.206607\n",
      "57           HAVEYOUFELTBADORGUILTYDRINKING    8.945125\n",
      "106                                  GIAGE1    8.792073\n",
      "1                                    NPSEAT    8.322794\n",
      "102                       RADIALPULSE_MEAS1    8.126947\n",
      "30                                 MHWEIGHT    8.041767\n",
      "60                                  PACKYRS    8.034320\n",
      "46               DIFFBTWNARROWUSUALPACECALC    7.962156\n",
      "47   STANDSPER10SECTHOSEUNABLEREFUSEDSETTO0    7.798045\n",
      "44                 TIMEFORNARROWWALKCALCVAR    7.588451\n",
      "98                           NONSTDDISTANCE    7.494400\n",
      "54          HOWMUCHPIPECIGARSDIDDOSMOKEWEEK    7.469147\n",
      "118                      GISOC_11Management    7.465205\n",
      "34                                  MHHIPOA    7.320885\n",
      "19                                   MHKDNY    7.250771\n",
      "104                      HEIGHTCHANGEFROM25    7.193680\n",
      "35              DOESTHEPPTUSEANYWALKINGAIDS    7.113342\n",
      "9                                    MHCOPD    7.042889\n",
      "123                GISOC_55MilitarySpecific    7.040373\n",
      "87            INANOTHERCLINICALMEDICALTRIAL    7.023458\n",
      "105                      WEIGHTCHANGEFROM25    6.801893\n",
      "65                 CDAYSPERWKMOYRHAD5DRINKS    6.744811\n",
      "89                     CORRECTLETTERSBLTEST    6.711276\n",
      "53             HOWMANYYEARSSMOKEDPIPECIGARS    6.611142\n",
      "0                                     index    6.565029\n",
      "41           TIMETOCOMPLETENARROWWALKTRIAL2    6.473994\n",
      "3                                  NPRIGHT6    6.402711\n",
      "50                      AVGCIGSDAYSMOKEDNOW    6.294880\n",
      "101                         RIGHTGRIPTRIAL1    6.187269\n",
      "113                         GIEDUC_6College    6.165535\n",
      "120                           GISOC_23Legal    6.086525\n",
      "2                                   NPLEFT1    6.058599\n",
      "49                  DOYOUSMOKECIGARETTESNOW    6.003662\n",
      "59              YRSSTOPPEDSMOKINGCIGARETTES    5.874529\n",
      "23                                  MHDIZZY    5.855332\n",
      "33                                 MHWGTMKG    5.838814\n",
      "64             BHOWMANYDRINKSDIDYOUHAVEADAY    5.652512\n",
      "6                                    MHSTRK    5.466309\n",
      "39           TIMETOCOMPLETENARROWWALKTRIAL1    5.186087\n",
      "115                          GIERACE_1WHITE    4.718708\n",
      "119            GISOC_13BusinessandFinancial    4.575439\n",
      "43              SPEEDINMSUSINGBOTHTIMESCALC    4.354321\n",
      "27                                 MHSPRAIN    4.242935\n",
      "4                                    MHHTHY    4.240219\n",
      "37            TIMETOCOMPLETETRIAL1USUALPACE    4.214115\n",
      "114                      GIEDUC_8GradSchool    4.202458\n",
      "121  GISOC_43OfficeandAdministrativeSupport    4.191725\n",
      "74                             DIABETESDIET    4.186650\n",
      "45                WALKINMSUSINGBESTTIMECALC    3.924103\n",
      "38              NOOFSTEPSFORTRIAL2USUALPACE    3.860675\n",
      "95                            PLATE3_TRIAL1    3.616417\n",
      "83      SELECTIVESEROTONINREUPTAKEINHIBITOR    3.321705\n",
      "90                              CHARTPRTEST    2.932375\n",
      "66                  CCALENDARUNITFOR5DRINKS    2.921517\n",
      "40          STAYEDWITHINLINESFORNARROWWALK2    2.892051\n",
      "36                 SECONDSTOCOMPLETE5STANDS    2.741497\n",
      "77                 DIRUETICPOTASSIUMSPARING    1.922306\n",
      "122       GISOC_47ConstructionandExtraction    1.707411\n",
      "97                            PLATE1_TRIAL4    1.532604\n"
     ]
    }
   ],
   "source": [
    "# Sort by the score in descending order\n",
    "importance_df = importance_df.sort_values(by='Score', ascending=False)\n",
    "\n",
    "# Display the importance_df dataframe\n",
    "print(importance_df)\n",
    "\n",
    "# Modify pandas display options to show all rows\n",
    "pd.set_option('display.max_rows', None)\n",
    "\n",
    "# Display the importance_df dataframe\n",
    "print(importance_df)\n",
    "\n",
    "# Reset pandas display options to default\n",
    "pd.reset_option('display.max_rows')\n"
   ]
  },
  {
   "cell_type": "code",
   "execution_count": 27,
   "metadata": {},
   "outputs": [
    {
     "data": {
      "image/png": "[encoded data removed]",
      "text/plain": [
       "<Figure size 720x432 with 1 Axes>"
      ]
     },
     "metadata": {
      "needs_background": "light"
     },
     "output_type": "display_data"
    }
   ],
   "source": [
    "# Variable name - description mapping\n",
    "variables_dict = {\n",
    "    'MHHAND': 'Have arthritis in Hand/Fingers?',\n",
    "    'MHFALL': 'Fallen in past 12 months?',\n",
    "    'MHBW': 'Birth weight',\n",
    "    'MHOSTART': 'Have Osteoarthritis or degenerative arthritis?',\n",
    "    'ANYDIET': 'Follow any diet?',\n",
    "    'MHBP': 'Have hypertension?',\n",
    "    'MHPROSTT': 'Prostatitis treated by doctor?',\n",
    "    'MHOC': 'Had other kind of cancer?',\n",
    "    'MHARTH': 'Have arthritis or gout?',\n",
    "    'MHARTHMD': 'Take medications for arthritis?',\n",
    "    'MHCAT': 'Have cataracts?',\n",
    "    'MHPROST': 'Have prostatitis?',\n",
    "    'MHSC': 'Had skin cancer?',\n",
    "    'MHMI': 'Had heart attack?',\n",
    "    'GLASSESDISTANCE': 'Use glasses for distance?',\n",
    "    'BMD_pca': 'Principal component of Bone Mineral Density',\n",
    "    'HAVEPEOPLEANNOYEDYOUDRINKING': 'People annoyed you by criticizing your drinking?',\n",
    "    'PLATE1_TRIAL1': 'Outcome of first trial on Plate 1 task',\n",
    "    'GIEDUC_5SomeCollege': 'Education: Some College',\n",
    "    'GIERACE_2AFRICANAMERICAN': 'Race: African American',\n",
    "    'FractureAfter50': 'Had fracture after age 50',\n",
    "    'FractureBefore50': 'Had fracture before age 50',\n",
    "    'NoFracture': 'Never had a fracture',\n",
    "    'TAKEASPIRINATLEAST3XWEEK': 'Take aspirin at least 3 times a week',\n",
    "    'LOWCHOLESTEROL': 'Have low cholesterol?',\n",
    "    'EVERDRANK5DRINKSDAYEVERYDAY': 'Ever drank 5 drinks a day everyday?',\n",
    "    'INPAST12MONTHS12DRINKSALCOH': 'Had 12 drinks of alcohol in past 12 months?',\n",
    "    'CDIDNOTHAVE5DRINKSONANYDAY': 'Did not have 5 drinks on any day?',\n",
    "    'HAVEYOUSMOKEPIPECIGARSREGUL': 'Do you smoke pipe/cigars regularly?',\n",
    "    'HAVEYOUFELTCUTDOWNDRINKING': 'Have you felt the need to cut down drinking?',\n",
    "}\n",
    "\n",
    "# Create a new column with the descriptive names\n",
    "importance_df['FeatureDescription'] = importance_df['Feature'].map(variables_dict)\n",
    "\n",
    "# Replace NaNs in 'FeatureDescription' with original feature name\n",
    "importance_df['FeatureDescription'].fillna(importance_df['Feature'], inplace=True)\n",
    "\n",
    "# Drop the original 'Feature' column and rename 'FeatureDescription' as 'Feature'\n",
    "importance_df.drop('Feature', axis=1, inplace=True)\n",
    "importance_df.rename(columns={'FeatureDescription': 'Feature'}, inplace=True)\n",
    "\n",
    "# Now the plot redux\n",
    "filtered_df = importance_df[importance_df['Score'] > threshold]\n",
    "\n",
    "plt.figure(figsize=(10, 6))\n",
    "sns.barplot(x='Score', y='Feature', data=filtered_df, orient='h')\n",
    "plt.xlabel('Feature Importance')\n",
    "plt.ylabel('Feature')\n",
    "plt.title('Feature Importance Plot (Threshold: > {})'.format(threshold))\n",
    "plt.show()\n"
   ]
  },
  {
   "cell_type": "markdown",
   "metadata": {},
   "source": [
    "# Validation Set Performance and Decision Threshold Tuning<a name=\"validation-set-performance-and-decision-threshold-tuning\"></a>"
   ]
  },
  {
   "cell_type": "code",
   "execution_count": 13,
   "metadata": {},
   "outputs": [
    {
     "name": "stdout",
     "output_type": "stream",
     "text": [
      "\n",
      "Validation set classification report:\n",
      "              precision    recall  f1-score   support\n",
      "\n",
      "           0       0.80      0.98      0.88       472\n",
      "           1       0.47      0.07      0.12       128\n",
      "\n",
      "    accuracy                           0.79       600\n",
      "   macro avg       0.63      0.52      0.50       600\n",
      "weighted avg       0.73      0.79      0.72       600\n",
      "\n"
     ]
    }
   ],
   "source": [
    "# Validation set classification report\n",
    "val_predictions_binary = (val_predictions > 0.5).astype(int)\n",
    "print(\"\\nValidation set classification report:\")\n",
    "print(classification_report(y_val, val_predictions_binary))"
   ]
  },
  {
   "cell_type": "markdown",
   "metadata": {},
   "source": [
    "### Unsurprisingly, our predictive performance on class 1 dropped substantially on the validation set. Let's see if we can alter the decision threshold to increase recall on class 1. "
   ]
  },
  {
   "cell_type": "code",
   "execution_count": 14,
   "metadata": {},
   "outputs": [
    {
     "name": "stdout",
     "output_type": "stream",
     "text": [
      "     Feature      Score\n",
      "124  BMD_pca  22.533375\n"
     ]
    }
   ],
   "source": [
    "# was curious how important the BMD_pca values are\n",
    "# Search for the feature in the DataFrame\n",
    "feature_rank = importance_df[importance_df['Feature'] == 'BMD_pca']\n",
    "\n",
    "# Print the result\n",
    "print(feature_rank)\n"
   ]
  },
  {
   "cell_type": "code",
   "execution_count": 15,
   "metadata": {},
   "outputs": [
    {
     "name": "stdout",
     "output_type": "stream",
     "text": [
      "Best Threshold=0.168732, F-Score=0.408, Precision=0.262, Recall=0.914\n",
      "              precision    recall  f1-score   support\n",
      "\n",
      "           0       0.93      0.30      0.46       472\n",
      "           1       0.26      0.91      0.41       128\n",
      "\n",
      "    accuracy                           0.43       600\n",
      "   macro avg       0.60      0.61      0.43       600\n",
      "weighted avg       0.79      0.43      0.45       600\n",
      "\n"
     ]
    }
   ],
   "source": [
    "# get probabilities of the prediction\n",
    "y_val_prob = bst.predict(val_data)\n",
    "\n",
    "# generate precision-recall curve values: precisions, recalls, thresholds\n",
    "precisions, recalls, thresholds = precision_recall_curve(y_val, y_val_prob)\n",
    "\n",
    "# convert to f score\n",
    "fscore = (2 * precisions * recalls) / (precisions + recalls)\n",
    "\n",
    "# locate the index of the largest f score\n",
    "ix = np.argmax(fscore)\n",
    "print('Best Threshold=%f, F-Score=%.3f, Precision=%.3f, Recall=%.3f' % (thresholds[ix], fscore[ix], precisions[ix], recalls[ix]))\n",
    "\n",
    "# adjust the threshold\n",
    "adjusted_y_val_pred = [1 if y >= thresholds[ix] else 0 for y in y_val_prob]\n",
    "\n",
    "print(classification_report(y_val, adjusted_y_val_pred))\n"
   ]
  },
  {
   "cell_type": "markdown",
   "metadata": {},
   "source": [
    "# Optuna Hypertuning<a name=\"optuna-hypertuning\"></a>\n",
    "\n",
    "### Able to get recall pretty high at the drawback of a lot of false positives. May have utility as an early warning system. Below, let's try and use optuna for hyperparameter tuning."
   ]
  },
  {
   "cell_type": "code",
   "execution_count": 16,
   "metadata": {},
   "outputs": [
    {
     "name": "stderr",
     "output_type": "stream",
     "text": [
      "[I 2023-07-25 12:45:09,202] A new study created in memory with name: no-name-1ffc5eb8-6333-4678-8fcd-3d7abd57f8b7\n"
     ]
    },
    {
     "name": "stdout",
     "output_type": "stream",
     "text": [
      "[0]\teval-logloss:0.66773\n",
      "[1]\teval-logloss:0.64524\n",
      "[2]\teval-logloss:0.62441\n",
      "[3]\teval-logloss:0.60547\n",
      "[4]\teval-logloss:0.58766\n",
      "[5]\teval-logloss:0.57266\n",
      "[6]\teval-logloss:0.55776\n",
      "[7]\teval-logloss:0.54427\n",
      "[8]\teval-logloss:0.53292\n",
      "[9]\teval-logloss:0.52271\n",
      "[0]\teval-logloss:0.66616\n",
      "[1]\teval-logloss:0.64219\n",
      "[2]\teval-logloss:0.62083\n"
     ]
    },
    {
     "name": "stderr",
     "output_type": "stream",
     "text": [
      "/opt/conda/lib/python3.7/site-packages/xgboost/core.py:94: UserWarning: ntree_limit is deprecated, use `iteration_range` or model slicing instead.\n",
      "  UserWarning\n"
     ]
    },
    {
     "name": "stdout",
     "output_type": "stream",
     "text": [
      "[3]\teval-logloss:0.60166\n",
      "[4]\teval-logloss:0.58465\n",
      "[5]\teval-logloss:0.56896\n",
      "[6]\teval-logloss:0.55372\n",
      "[7]\teval-logloss:0.53933\n",
      "[8]\teval-logloss:0.52620\n",
      "[9]\teval-logloss:0.51357\n",
      "[0]\teval-logloss:0.66766\n",
      "[1]\teval-logloss:0.64507\n",
      "[2]\teval-logloss:0.62374\n"
     ]
    },
    {
     "name": "stderr",
     "output_type": "stream",
     "text": [
      "/opt/conda/lib/python3.7/site-packages/xgboost/core.py:94: UserWarning: ntree_limit is deprecated, use `iteration_range` or model slicing instead.\n",
      "  UserWarning\n"
     ]
    },
    {
     "name": "stdout",
     "output_type": "stream",
     "text": [
      "[3]\teval-logloss:0.60558\n",
      "[4]\teval-logloss:0.58810\n",
      "[5]\teval-logloss:0.57294\n",
      "[6]\teval-logloss:0.55836\n",
      "[7]\teval-logloss:0.54567\n",
      "[8]\teval-logloss:0.53361\n",
      "[9]\teval-logloss:0.52283\n",
      "[0]\teval-logloss:0.66751\n",
      "[1]\teval-logloss:0.64346\n",
      "[2]\teval-logloss:0.62240\n"
     ]
    },
    {
     "name": "stderr",
     "output_type": "stream",
     "text": [
      "/opt/conda/lib/python3.7/site-packages/xgboost/core.py:94: UserWarning: ntree_limit is deprecated, use `iteration_range` or model slicing instead.\n",
      "  UserWarning\n"
     ]
    },
    {
     "name": "stdout",
     "output_type": "stream",
     "text": [
      "[3]\teval-logloss:0.60387\n",
      "[4]\teval-logloss:0.58604\n",
      "[5]\teval-logloss:0.57052\n",
      "[6]\teval-logloss:0.55563\n",
      "[7]\teval-logloss:0.54217\n",
      "[8]\teval-logloss:0.52981\n",
      "[9]\teval-logloss:0.51851\n",
      "[0]\teval-logloss:0.66492\n",
      "[1]\teval-logloss:0.64037\n",
      "[2]\teval-logloss:0.61857\n"
     ]
    },
    {
     "name": "stderr",
     "output_type": "stream",
     "text": [
      "/opt/conda/lib/python3.7/site-packages/xgboost/core.py:94: UserWarning: ntree_limit is deprecated, use `iteration_range` or model slicing instead.\n",
      "  UserWarning\n"
     ]
    },
    {
     "name": "stdout",
     "output_type": "stream",
     "text": [
      "[3]\teval-logloss:0.59846\n",
      "[4]\teval-logloss:0.57950\n",
      "[5]\teval-logloss:0.56304\n",
      "[6]\teval-logloss:0.54744\n",
      "[7]\teval-logloss:0.53333\n",
      "[8]\teval-logloss:0.52015\n",
      "[9]\teval-logloss:0.50821\n"
     ]
    },
    {
     "name": "stderr",
     "output_type": "stream",
     "text": [
      "/opt/conda/lib/python3.7/site-packages/xgboost/core.py:94: UserWarning: ntree_limit is deprecated, use `iteration_range` or model slicing instead.\n",
      "  UserWarning\n",
      "[I 2023-07-25 12:45:11,727] Trial 0 finished with value: 0.8146295946297473 and parameters: {'booster': 'gbtree', 'lambda': 1.871326119428741, 'alpha': 0.9796689057060904, 'max_depth': 10, 'eta': 0.059521489956924856, 'gamma': 0.7798244776863487, 'grow_policy': 'lossguide', 'min_child_weight': 1, 'scale_pos_weight': 1.4397460831377786}. Best is trial 0 with value: 0.8146295946297473.\n"
     ]
    },
    {
     "name": "stdout",
     "output_type": "stream",
     "text": [
      "[0]\teval-logloss:0.66011\n",
      "[1]\teval-logloss:0.65189\n",
      "[2]\teval-logloss:0.65407\n",
      "[3]\teval-logloss:0.65164\n",
      "[4]\teval-logloss:0.65007\n",
      "[5]\teval-logloss:0.64246\n",
      "[6]\teval-logloss:0.63836\n",
      "[7]\teval-logloss:0.63588\n",
      "[8]\teval-logloss:0.62560\n",
      "[9]\teval-logloss:0.61611\n",
      "[0]\teval-logloss:0.65734\n",
      "[1]\teval-logloss:0.65328\n",
      "[2]\teval-logloss:0.66005\n",
      "[3]\teval-logloss:0.66184\n",
      "[4]\teval-logloss:0.66344\n",
      "[5]\teval-logloss:0.65452\n",
      "[6]\teval-logloss:0.64540\n"
     ]
    },
    {
     "name": "stderr",
     "output_type": "stream",
     "text": [
      "/opt/conda/lib/python3.7/site-packages/xgboost/core.py:94: UserWarning: ntree_limit is deprecated, use `iteration_range` or model slicing instead.\n",
      "  UserWarning\n"
     ]
    },
    {
     "name": "stdout",
     "output_type": "stream",
     "text": [
      "[7]\teval-logloss:0.64259\n",
      "[8]\teval-logloss:0.63445\n",
      "[9]\teval-logloss:0.62298\n",
      "[0]\teval-logloss:0.65857\n",
      "[1]\teval-logloss:0.65265\n",
      "[2]\teval-logloss:0.65323\n",
      "[3]\teval-logloss:0.65068\n",
      "[4]\teval-logloss:0.65014\n",
      "[5]\teval-logloss:0.64355\n",
      "[6]\teval-logloss:0.63562\n"
     ]
    },
    {
     "name": "stderr",
     "output_type": "stream",
     "text": [
      "/opt/conda/lib/python3.7/site-packages/xgboost/core.py:94: UserWarning: ntree_limit is deprecated, use `iteration_range` or model slicing instead.\n",
      "  UserWarning\n"
     ]
    },
    {
     "name": "stdout",
     "output_type": "stream",
     "text": [
      "[7]\teval-logloss:0.63065\n",
      "[8]\teval-logloss:0.62588\n",
      "[9]\teval-logloss:0.62398\n",
      "[0]\teval-logloss:0.65934\n",
      "[1]\teval-logloss:0.65535\n",
      "[2]\teval-logloss:0.66097\n",
      "[3]\teval-logloss:0.66619\n",
      "[4]\teval-logloss:0.66292\n",
      "[5]\teval-logloss:0.66262\n"
     ]
    },
    {
     "name": "stderr",
     "output_type": "stream",
     "text": [
      "/opt/conda/lib/python3.7/site-packages/xgboost/core.py:94: UserWarning: ntree_limit is deprecated, use `iteration_range` or model slicing instead.\n",
      "  UserWarning\n"
     ]
    },
    {
     "name": "stdout",
     "output_type": "stream",
     "text": [
      "[6]\teval-logloss:0.65899\n",
      "[7]\teval-logloss:0.65248\n",
      "[8]\teval-logloss:0.64206\n",
      "[9]\teval-logloss:0.63380\n",
      "[0]\teval-logloss:0.65445\n",
      "[1]\teval-logloss:0.64418\n",
      "[2]\teval-logloss:0.64368\n",
      "[3]\teval-logloss:0.63860\n",
      "[4]\teval-logloss:0.63823\n",
      "[5]\teval-logloss:0.63488\n",
      "[6]\teval-logloss:0.63338\n"
     ]
    },
    {
     "name": "stderr",
     "output_type": "stream",
     "text": [
      "/opt/conda/lib/python3.7/site-packages/xgboost/core.py:94: UserWarning: ntree_limit is deprecated, use `iteration_range` or model slicing instead.\n",
      "  UserWarning\n"
     ]
    },
    {
     "name": "stdout",
     "output_type": "stream",
     "text": [
      "[7]\teval-logloss:0.63068\n",
      "[8]\teval-logloss:0.62340\n",
      "[9]\teval-logloss:0.60823\n"
     ]
    },
    {
     "name": "stderr",
     "output_type": "stream",
     "text": [
      "/opt/conda/lib/python3.7/site-packages/xgboost/core.py:94: UserWarning: ntree_limit is deprecated, use `iteration_range` or model slicing instead.\n",
      "  UserWarning\n",
      "[I 2023-07-25 12:45:13,072] Trial 1 finished with value: 0.7070631611131738 and parameters: {'booster': 'gbtree', 'lambda': 0.028322369227076098, 'alpha': 0.010892755663158988, 'max_depth': 5, 'eta': 0.30502492453134095, 'gamma': 0.3344393481399495, 'grow_policy': 'lossguide', 'min_child_weight': 7, 'scale_pos_weight': 7.722740471841526}. Best is trial 0 with value: 0.8146295946297473.\n"
     ]
    },
    {
     "name": "stdout",
     "output_type": "stream",
     "text": [
      "[0]\teval-logloss:0.67583\n",
      "[1]\teval-logloss:0.66644\n",
      "[2]\teval-logloss:0.66456\n",
      "[3]\teval-logloss:0.66247\n",
      "[4]\teval-logloss:0.66438\n",
      "[5]\teval-logloss:0.66686\n",
      "[6]\teval-logloss:0.67003\n",
      "[7]\teval-logloss:0.67208\n",
      "[8]\teval-logloss:0.67233\n",
      "[9]\teval-logloss:0.67579\n",
      "[0]\teval-logloss:0.67452\n",
      "[1]\teval-logloss:0.66706\n",
      "[2]\teval-logloss:0.66339\n",
      "[3]\teval-logloss:0.66141\n",
      "[4]\teval-logloss:0.66345\n",
      "[5]\teval-logloss:0.66789\n",
      "[6]\teval-logloss:0.67017\n"
     ]
    },
    {
     "name": "stderr",
     "output_type": "stream",
     "text": [
      "/opt/conda/lib/python3.7/site-packages/xgboost/core.py:94: UserWarning: ntree_limit is deprecated, use `iteration_range` or model slicing instead.\n",
      "  UserWarning\n"
     ]
    },
    {
     "name": "stdout",
     "output_type": "stream",
     "text": [
      "[7]\teval-logloss:0.67336\n",
      "[8]\teval-logloss:0.67534\n",
      "[9]\teval-logloss:0.67911\n",
      "[0]\teval-logloss:0.67480\n",
      "[1]\teval-logloss:0.66438\n",
      "[2]\teval-logloss:0.65814\n",
      "[3]\teval-logloss:0.65813\n",
      "[4]\teval-logloss:0.65745\n",
      "[5]\teval-logloss:0.66228\n",
      "[6]\teval-logloss:0.66483\n"
     ]
    },
    {
     "name": "stderr",
     "output_type": "stream",
     "text": [
      "/opt/conda/lib/python3.7/site-packages/xgboost/core.py:94: UserWarning: ntree_limit is deprecated, use `iteration_range` or model slicing instead.\n",
      "  UserWarning\n"
     ]
    },
    {
     "name": "stdout",
     "output_type": "stream",
     "text": [
      "[7]\teval-logloss:0.66739\n",
      "[8]\teval-logloss:0.66840\n",
      "[9]\teval-logloss:0.67292\n",
      "[0]\teval-logloss:0.67727\n",
      "[1]\teval-logloss:0.66922\n",
      "[2]\teval-logloss:0.66327\n",
      "[3]\teval-logloss:0.66315\n",
      "[4]\teval-logloss:0.66547\n",
      "[5]\teval-logloss:0.66862\n",
      "[6]\teval-logloss:0.67461\n"
     ]
    },
    {
     "name": "stderr",
     "output_type": "stream",
     "text": [
      "/opt/conda/lib/python3.7/site-packages/xgboost/core.py:94: UserWarning: ntree_limit is deprecated, use `iteration_range` or model slicing instead.\n",
      "  UserWarning\n"
     ]
    },
    {
     "name": "stdout",
     "output_type": "stream",
     "text": [
      "[7]\teval-logloss:0.67655\n",
      "[8]\teval-logloss:0.68025\n",
      "[9]\teval-logloss:0.68160\n",
      "[0]\teval-logloss:0.67262\n",
      "[1]\teval-logloss:0.66295\n",
      "[2]\teval-logloss:0.66053\n",
      "[3]\teval-logloss:0.65766\n",
      "[4]\teval-logloss:0.65837\n",
      "[5]\teval-logloss:0.66142\n",
      "[6]\teval-logloss:0.66485\n"
     ]
    },
    {
     "name": "stderr",
     "output_type": "stream",
     "text": [
      "/opt/conda/lib/python3.7/site-packages/xgboost/core.py:94: UserWarning: ntree_limit is deprecated, use `iteration_range` or model slicing instead.\n",
      "  UserWarning\n"
     ]
    },
    {
     "name": "stdout",
     "output_type": "stream",
     "text": [
      "[7]\teval-logloss:0.66589\n",
      "[8]\teval-logloss:0.66625\n",
      "[9]\teval-logloss:0.66914\n"
     ]
    },
    {
     "name": "stderr",
     "output_type": "stream",
     "text": [
      "/opt/conda/lib/python3.7/site-packages/xgboost/core.py:94: UserWarning: ntree_limit is deprecated, use `iteration_range` or model slicing instead.\n",
      "  UserWarning\n",
      "[I 2023-07-25 12:45:14,364] Trial 2 finished with value: 0.6825593012010367 and parameters: {'booster': 'gbtree', 'lambda': 0.16383422689677282, 'alpha': 2.326559061421879, 'max_depth': 5, 'eta': 0.13112371788979463, 'gamma': 0.08022158590238913, 'grow_policy': 'depthwise', 'min_child_weight': 10, 'scale_pos_weight': 9.571883233534823}. Best is trial 0 with value: 0.8146295946297473.\n"
     ]
    },
    {
     "name": "stdout",
     "output_type": "stream",
     "text": [
      "[0]\teval-logloss:0.63495\n",
      "[1]\teval-logloss:0.60731\n",
      "[2]\teval-logloss:0.58816\n",
      "[3]\teval-logloss:0.57027\n",
      "[4]\teval-logloss:0.55514\n",
      "[5]\teval-logloss:0.54536\n",
      "[6]\teval-logloss:0.53649\n",
      "[7]\teval-logloss:0.52500\n",
      "[8]\teval-logloss:0.51325\n",
      "[9]\teval-logloss:0.50271\n",
      "[0]\teval-logloss:0.64283\n",
      "[1]\teval-logloss:0.61484\n",
      "[2]\teval-logloss:0.59738\n",
      "[3]\teval-logloss:0.58200\n",
      "[4]\teval-logloss:0.56969\n"
     ]
    },
    {
     "name": "stderr",
     "output_type": "stream",
     "text": [
      "/opt/conda/lib/python3.7/site-packages/xgboost/core.py:94: UserWarning: ntree_limit is deprecated, use `iteration_range` or model slicing instead.\n",
      "  UserWarning\n"
     ]
    },
    {
     "name": "stdout",
     "output_type": "stream",
     "text": [
      "[5]\teval-logloss:0.56042\n",
      "[6]\teval-logloss:0.54729\n",
      "[7]\teval-logloss:0.53867\n",
      "[8]\teval-logloss:0.53203\n",
      "[9]\teval-logloss:0.52778\n",
      "[0]\teval-logloss:0.63893\n",
      "[1]\teval-logloss:0.60597\n",
      "[2]\teval-logloss:0.58484\n",
      "[3]\teval-logloss:0.56750\n",
      "[4]\teval-logloss:0.55490\n"
     ]
    },
    {
     "name": "stderr",
     "output_type": "stream",
     "text": [
      "/opt/conda/lib/python3.7/site-packages/xgboost/core.py:94: UserWarning: ntree_limit is deprecated, use `iteration_range` or model slicing instead.\n",
      "  UserWarning\n"
     ]
    },
    {
     "name": "stdout",
     "output_type": "stream",
     "text": [
      "[5]\teval-logloss:0.54463\n",
      "[6]\teval-logloss:0.53617\n",
      "[7]\teval-logloss:0.52254\n",
      "[8]\teval-logloss:0.51327\n",
      "[9]\teval-logloss:0.50431\n",
      "[0]\teval-logloss:0.63891\n",
      "[1]\teval-logloss:0.61539\n",
      "[2]\teval-logloss:0.59478\n",
      "[3]\teval-logloss:0.58443\n",
      "[4]\teval-logloss:0.57212\n"
     ]
    },
    {
     "name": "stderr",
     "output_type": "stream",
     "text": [
      "/opt/conda/lib/python3.7/site-packages/xgboost/core.py:94: UserWarning: ntree_limit is deprecated, use `iteration_range` or model slicing instead.\n",
      "  UserWarning\n"
     ]
    },
    {
     "name": "stdout",
     "output_type": "stream",
     "text": [
      "[5]\teval-logloss:0.55969\n",
      "[6]\teval-logloss:0.55196\n",
      "[7]\teval-logloss:0.54494\n",
      "[8]\teval-logloss:0.53379\n",
      "[9]\teval-logloss:0.52576\n",
      "[0]\teval-logloss:0.63831\n",
      "[1]\teval-logloss:0.60375\n",
      "[2]\teval-logloss:0.58640\n",
      "[3]\teval-logloss:0.56929\n",
      "[4]\teval-logloss:0.55462\n"
     ]
    },
    {
     "name": "stderr",
     "output_type": "stream",
     "text": [
      "/opt/conda/lib/python3.7/site-packages/xgboost/core.py:94: UserWarning: ntree_limit is deprecated, use `iteration_range` or model slicing instead.\n",
      "  UserWarning\n"
     ]
    },
    {
     "name": "stdout",
     "output_type": "stream",
     "text": [
      "[5]\teval-logloss:0.54365\n",
      "[6]\teval-logloss:0.53252\n",
      "[7]\teval-logloss:0.51753\n",
      "[8]\teval-logloss:0.50743\n",
      "[9]\teval-logloss:0.49726\n"
     ]
    },
    {
     "name": "stderr",
     "output_type": "stream",
     "text": [
      "/opt/conda/lib/python3.7/site-packages/xgboost/core.py:94: UserWarning: ntree_limit is deprecated, use `iteration_range` or model slicing instead.\n",
      "  UserWarning\n",
      "[I 2023-07-25 12:45:16,094] Trial 3 finished with value: 0.7484128764441097 and parameters: {'booster': 'gbtree', 'lambda': 0.02625424131855266, 'alpha': 0.4176401514596012, 'max_depth': 7, 'eta': 0.25970008780289966, 'gamma': 0.997026679860834, 'grow_policy': 'lossguide', 'min_child_weight': 6, 'scale_pos_weight': 6.117207444273803}. Best is trial 0 with value: 0.8146295946297473.\n"
     ]
    },
    {
     "name": "stdout",
     "output_type": "stream",
     "text": [
      "[0]\teval-logloss:0.65838\n",
      "[1]\teval-logloss:0.63502\n",
      "[2]\teval-logloss:0.61748\n",
      "[3]\teval-logloss:0.60711\n",
      "[4]\teval-logloss:0.59867\n",
      "[5]\teval-logloss:0.59218\n",
      "[6]\teval-logloss:0.58432\n",
      "[7]\teval-logloss:0.57709\n",
      "[8]\teval-logloss:0.57111\n",
      "[9]\teval-logloss:0.56221\n",
      "[0]\teval-logloss:0.65614\n",
      "[1]\teval-logloss:0.63260\n",
      "[2]\teval-logloss:0.61752\n",
      "[3]\teval-logloss:0.60595\n",
      "[4]\teval-logloss:0.59790\n",
      "[5]\teval-logloss:0.59230\n",
      "[6]\teval-logloss:0.58699\n",
      "[7]\teval-logloss:0.57838\n"
     ]
    },
    {
     "name": "stderr",
     "output_type": "stream",
     "text": [
      "/opt/conda/lib/python3.7/site-packages/xgboost/core.py:94: UserWarning: ntree_limit is deprecated, use `iteration_range` or model slicing instead.\n",
      "  UserWarning\n"
     ]
    },
    {
     "name": "stdout",
     "output_type": "stream",
     "text": [
      "[8]\teval-logloss:0.57329\n",
      "[9]\teval-logloss:0.56942\n",
      "[0]\teval-logloss:0.65649\n",
      "[1]\teval-logloss:0.63278\n",
      "[2]\teval-logloss:0.61915\n",
      "[3]\teval-logloss:0.60974\n",
      "[4]\teval-logloss:0.59947\n",
      "[5]\teval-logloss:0.59150\n",
      "[6]\teval-logloss:0.58308\n",
      "[7]\teval-logloss:0.57747\n",
      "[8]\teval-logloss:0.57115\n"
     ]
    },
    {
     "name": "stderr",
     "output_type": "stream",
     "text": [
      "/opt/conda/lib/python3.7/site-packages/xgboost/core.py:94: UserWarning: ntree_limit is deprecated, use `iteration_range` or model slicing instead.\n",
      "  UserWarning\n"
     ]
    },
    {
     "name": "stdout",
     "output_type": "stream",
     "text": [
      "[9]\teval-logloss:0.56552\n",
      "[0]\teval-logloss:0.65770\n",
      "[1]\teval-logloss:0.63633\n",
      "[2]\teval-logloss:0.62338\n",
      "[3]\teval-logloss:0.61147\n",
      "[4]\teval-logloss:0.60067\n",
      "[5]\teval-logloss:0.59598\n",
      "[6]\teval-logloss:0.59516\n",
      "[7]\teval-logloss:0.58922\n",
      "[8]\teval-logloss:0.58657\n"
     ]
    },
    {
     "name": "stderr",
     "output_type": "stream",
     "text": [
      "/opt/conda/lib/python3.7/site-packages/xgboost/core.py:94: UserWarning: ntree_limit is deprecated, use `iteration_range` or model slicing instead.\n",
      "  UserWarning\n"
     ]
    },
    {
     "name": "stdout",
     "output_type": "stream",
     "text": [
      "[9]\teval-logloss:0.58182\n",
      "[0]\teval-logloss:0.65819\n",
      "[1]\teval-logloss:0.63599\n",
      "[2]\teval-logloss:0.61885\n",
      "[3]\teval-logloss:0.60491\n",
      "[4]\teval-logloss:0.59674\n",
      "[5]\teval-logloss:0.59131\n",
      "[6]\teval-logloss:0.58376\n",
      "[7]\teval-logloss:0.57751\n",
      "[8]\teval-logloss:0.57726\n"
     ]
    },
    {
     "name": "stderr",
     "output_type": "stream",
     "text": [
      "/opt/conda/lib/python3.7/site-packages/xgboost/core.py:94: UserWarning: ntree_limit is deprecated, use `iteration_range` or model slicing instead.\n",
      "  UserWarning\n"
     ]
    },
    {
     "name": "stdout",
     "output_type": "stream",
     "text": [
      "[9]\teval-logloss:0.57163\n"
     ]
    },
    {
     "name": "stderr",
     "output_type": "stream",
     "text": [
      "/opt/conda/lib/python3.7/site-packages/xgboost/core.py:94: UserWarning: ntree_limit is deprecated, use `iteration_range` or model slicing instead.\n",
      "  UserWarning\n",
      "[I 2023-07-25 12:45:17,220] Trial 4 finished with value: 0.7078673111715214 and parameters: {'booster': 'gbtree', 'lambda': 0.11725388938300232, 'alpha': 0.34074377450615523, 'max_depth': 4, 'eta': 0.1767465423789597, 'gamma': 0.3737864335426532, 'grow_policy': 'lossguide', 'min_child_weight': 8, 'scale_pos_weight': 4.295522359341957}. Best is trial 0 with value: 0.8146295946297473.\n"
     ]
    },
    {
     "name": "stdout",
     "output_type": "stream",
     "text": [
      "[0]\teval-logloss:0.68431\n",
      "[1]\teval-logloss:0.67661\n",
      "[2]\teval-logloss:0.66936\n",
      "[3]\teval-logloss:0.66306\n",
      "[4]\teval-logloss:0.65711\n",
      "[5]\teval-logloss:0.65246\n",
      "[6]\teval-logloss:0.64694\n",
      "[7]\teval-logloss:0.64228\n",
      "[8]\teval-logloss:0.63664\n",
      "[9]\teval-logloss:0.63309\n",
      "[0]\teval-logloss:0.68318\n",
      "[1]\teval-logloss:0.67395\n",
      "[2]\teval-logloss:0.66615\n",
      "[3]\teval-logloss:0.65955\n"
     ]
    },
    {
     "name": "stderr",
     "output_type": "stream",
     "text": [
      "/opt/conda/lib/python3.7/site-packages/xgboost/core.py:94: UserWarning: ntree_limit is deprecated, use `iteration_range` or model slicing instead.\n",
      "  UserWarning\n"
     ]
    },
    {
     "name": "stdout",
     "output_type": "stream",
     "text": [
      "[4]\teval-logloss:0.65328\n",
      "[5]\teval-logloss:0.64777\n",
      "[6]\teval-logloss:0.64342\n",
      "[7]\teval-logloss:0.63929\n",
      "[8]\teval-logloss:0.63582\n",
      "[9]\teval-logloss:0.63127\n",
      "[0]\teval-logloss:0.68344\n",
      "[1]\teval-logloss:0.67474\n",
      "[2]\teval-logloss:0.66671\n",
      "[3]\teval-logloss:0.65979\n"
     ]
    },
    {
     "name": "stderr",
     "output_type": "stream",
     "text": [
      "/opt/conda/lib/python3.7/site-packages/xgboost/core.py:94: UserWarning: ntree_limit is deprecated, use `iteration_range` or model slicing instead.\n",
      "  UserWarning\n"
     ]
    },
    {
     "name": "stdout",
     "output_type": "stream",
     "text": [
      "[4]\teval-logloss:0.65309\n",
      "[5]\teval-logloss:0.64708\n",
      "[6]\teval-logloss:0.64134\n",
      "[7]\teval-logloss:0.63536\n",
      "[8]\teval-logloss:0.63113\n",
      "[9]\teval-logloss:0.62690\n",
      "[0]\teval-logloss:0.68379\n",
      "[1]\teval-logloss:0.67617\n",
      "[2]\teval-logloss:0.66893\n",
      "[3]\teval-logloss:0.66288\n"
     ]
    },
    {
     "name": "stderr",
     "output_type": "stream",
     "text": [
      "/opt/conda/lib/python3.7/site-packages/xgboost/core.py:94: UserWarning: ntree_limit is deprecated, use `iteration_range` or model slicing instead.\n",
      "  UserWarning\n"
     ]
    },
    {
     "name": "stdout",
     "output_type": "stream",
     "text": [
      "[4]\teval-logloss:0.65761\n",
      "[5]\teval-logloss:0.65317\n",
      "[6]\teval-logloss:0.64832\n",
      "[7]\teval-logloss:0.64457\n",
      "[8]\teval-logloss:0.64107\n",
      "[9]\teval-logloss:0.63799\n",
      "[0]\teval-logloss:0.68239\n",
      "[1]\teval-logloss:0.67326\n",
      "[2]\teval-logloss:0.66507\n",
      "[3]\teval-logloss:0.65732\n"
     ]
    },
    {
     "name": "stderr",
     "output_type": "stream",
     "text": [
      "/opt/conda/lib/python3.7/site-packages/xgboost/core.py:94: UserWarning: ntree_limit is deprecated, use `iteration_range` or model slicing instead.\n",
      "  UserWarning\n"
     ]
    },
    {
     "name": "stdout",
     "output_type": "stream",
     "text": [
      "[4]\teval-logloss:0.65128\n",
      "[5]\teval-logloss:0.64618\n",
      "[6]\teval-logloss:0.64101\n",
      "[7]\teval-logloss:0.63677\n",
      "[8]\teval-logloss:0.63327\n",
      "[9]\teval-logloss:0.62894\n"
     ]
    },
    {
     "name": "stderr",
     "output_type": "stream",
     "text": [
      "/opt/conda/lib/python3.7/site-packages/xgboost/core.py:94: UserWarning: ntree_limit is deprecated, use `iteration_range` or model slicing instead.\n",
      "  UserWarning\n",
      "[I 2023-07-25 12:45:19,157] Trial 5 finished with value: 0.707824100415738 and parameters: {'booster': 'gbtree', 'lambda': 0.025134399615073025, 'alpha': 1.8886411918163988, 'max_depth': 8, 'eta': 0.04064651676971624, 'gamma': 0.13520611088140752, 'grow_policy': 'depthwise', 'min_child_weight': 10, 'scale_pos_weight': 9.102146848839524}. Best is trial 0 with value: 0.8146295946297473.\n"
     ]
    },
    {
     "name": "stdout",
     "output_type": "stream",
     "text": [
      "[0]\teval-logloss:0.68813\n",
      "[1]\teval-logloss:0.68319\n",
      "[2]\teval-logloss:0.67860\n",
      "[3]\teval-logloss:0.67417\n",
      "[4]\teval-logloss:0.66992\n",
      "[5]\teval-logloss:0.66566\n",
      "[6]\teval-logloss:0.66182\n",
      "[7]\teval-logloss:0.65808\n",
      "[8]\teval-logloss:0.65452\n",
      "[9]\teval-logloss:0.65111\n",
      "[0]\teval-logloss:0.68745\n",
      "[1]\teval-logloss:0.68250\n",
      "[2]\teval-logloss:0.67757\n",
      "[3]\teval-logloss:0.67298\n"
     ]
    },
    {
     "name": "stderr",
     "output_type": "stream",
     "text": [
      "/opt/conda/lib/python3.7/site-packages/xgboost/core.py:94: UserWarning: ntree_limit is deprecated, use `iteration_range` or model slicing instead.\n",
      "  UserWarning\n"
     ]
    },
    {
     "name": "stdout",
     "output_type": "stream",
     "text": [
      "[4]\teval-logloss:0.66852\n",
      "[5]\teval-logloss:0.66404\n",
      "[6]\teval-logloss:0.65964\n",
      "[7]\teval-logloss:0.65589\n",
      "[8]\teval-logloss:0.65230\n",
      "[9]\teval-logloss:0.64953\n",
      "[0]\teval-logloss:0.68786\n",
      "[1]\teval-logloss:0.68249\n",
      "[2]\teval-logloss:0.67753\n",
      "[3]\teval-logloss:0.67258\n"
     ]
    },
    {
     "name": "stderr",
     "output_type": "stream",
     "text": [
      "/opt/conda/lib/python3.7/site-packages/xgboost/core.py:94: UserWarning: ntree_limit is deprecated, use `iteration_range` or model slicing instead.\n",
      "  UserWarning\n"
     ]
    },
    {
     "name": "stdout",
     "output_type": "stream",
     "text": [
      "[4]\teval-logloss:0.66821\n",
      "[5]\teval-logloss:0.66452\n",
      "[6]\teval-logloss:0.66057\n",
      "[7]\teval-logloss:0.65682\n",
      "[8]\teval-logloss:0.65288\n",
      "[9]\teval-logloss:0.64963\n",
      "[0]\teval-logloss:0.68834\n",
      "[1]\teval-logloss:0.68387\n",
      "[2]\teval-logloss:0.67943\n",
      "[3]\teval-logloss:0.67490\n"
     ]
    },
    {
     "name": "stderr",
     "output_type": "stream",
     "text": [
      "/opt/conda/lib/python3.7/site-packages/xgboost/core.py:94: UserWarning: ntree_limit is deprecated, use `iteration_range` or model slicing instead.\n",
      "  UserWarning\n"
     ]
    },
    {
     "name": "stdout",
     "output_type": "stream",
     "text": [
      "[4]\teval-logloss:0.67086\n",
      "[5]\teval-logloss:0.66668\n",
      "[6]\teval-logloss:0.66325\n",
      "[7]\teval-logloss:0.65970\n",
      "[8]\teval-logloss:0.65671\n",
      "[9]\teval-logloss:0.65344\n",
      "[0]\teval-logloss:0.68755\n",
      "[1]\teval-logloss:0.68228\n",
      "[2]\teval-logloss:0.67700\n",
      "[3]\teval-logloss:0.67219\n"
     ]
    },
    {
     "name": "stderr",
     "output_type": "stream",
     "text": [
      "/opt/conda/lib/python3.7/site-packages/xgboost/core.py:94: UserWarning: ntree_limit is deprecated, use `iteration_range` or model slicing instead.\n",
      "  UserWarning\n"
     ]
    },
    {
     "name": "stdout",
     "output_type": "stream",
     "text": [
      "[4]\teval-logloss:0.66770\n",
      "[5]\teval-logloss:0.66292\n",
      "[6]\teval-logloss:0.65885\n",
      "[7]\teval-logloss:0.65462\n",
      "[8]\teval-logloss:0.65083\n",
      "[9]\teval-logloss:0.64725\n"
     ]
    },
    {
     "name": "stderr",
     "output_type": "stream",
     "text": [
      "/opt/conda/lib/python3.7/site-packages/xgboost/core.py:94: UserWarning: ntree_limit is deprecated, use `iteration_range` or model slicing instead.\n",
      "  UserWarning\n",
      "[I 2023-07-25 12:45:21,329] Trial 6 finished with value: 0.7144104696589105 and parameters: {'booster': 'gbtree', 'lambda': 1.8098062748969808, 'alpha': 0.03482840016120625, 'max_depth': 9, 'eta': 0.019317595648471683, 'gamma': 0.4387980894350138, 'grow_policy': 'lossguide', 'min_child_weight': 3, 'scale_pos_weight': 8.680717160090744}. Best is trial 0 with value: 0.8146295946297473.\n"
     ]
    },
    {
     "name": "stdout",
     "output_type": "stream",
     "text": [
      "[0]\teval-logloss:0.66627\n",
      "[1]\teval-logloss:0.66813\n",
      "[2]\teval-logloss:0.67878\n",
      "[3]\teval-logloss:0.68096\n",
      "[4]\teval-logloss:0.67802\n",
      "[5]\teval-logloss:0.68139\n",
      "[6]\teval-logloss:0.67720\n",
      "[7]\teval-logloss:0.67117\n",
      "[8]\teval-logloss:0.65673\n",
      "[9]\teval-logloss:0.63647\n",
      "[0]\teval-logloss:0.66222\n",
      "[1]\teval-logloss:0.66726\n",
      "[2]\teval-logloss:0.68651\n",
      "[3]\teval-logloss:0.69027\n",
      "[4]\teval-logloss:0.69485\n",
      "[5]\teval-logloss:0.67736\n",
      "[6]\teval-logloss:0.67942\n"
     ]
    },
    {
     "name": "stderr",
     "output_type": "stream",
     "text": [
      "/opt/conda/lib/python3.7/site-packages/xgboost/core.py:94: UserWarning: ntree_limit is deprecated, use `iteration_range` or model slicing instead.\n",
      "  UserWarning\n"
     ]
    },
    {
     "name": "stdout",
     "output_type": "stream",
     "text": [
      "[7]\teval-logloss:0.67386\n",
      "[8]\teval-logloss:0.66138\n",
      "[9]\teval-logloss:0.64440\n",
      "[0]\teval-logloss:0.66365\n",
      "[1]\teval-logloss:0.67169\n",
      "[2]\teval-logloss:0.67486\n",
      "[3]\teval-logloss:0.67817\n",
      "[4]\teval-logloss:0.68115\n",
      "[5]\teval-logloss:0.68308\n",
      "[6]\teval-logloss:0.67245\n"
     ]
    },
    {
     "name": "stderr",
     "output_type": "stream",
     "text": [
      "/opt/conda/lib/python3.7/site-packages/xgboost/core.py:94: UserWarning: ntree_limit is deprecated, use `iteration_range` or model slicing instead.\n",
      "  UserWarning\n"
     ]
    },
    {
     "name": "stdout",
     "output_type": "stream",
     "text": [
      "[7]\teval-logloss:0.66715\n",
      "[8]\teval-logloss:0.65824\n",
      "[9]\teval-logloss:0.64788\n",
      "[0]\teval-logloss:0.66873\n",
      "[1]\teval-logloss:0.67594\n",
      "[2]\teval-logloss:0.68927\n",
      "[3]\teval-logloss:0.68653\n",
      "[4]\teval-logloss:0.69232\n",
      "[5]\teval-logloss:0.69285\n",
      "[6]\teval-logloss:0.69356\n"
     ]
    },
    {
     "name": "stderr",
     "output_type": "stream",
     "text": [
      "/opt/conda/lib/python3.7/site-packages/xgboost/core.py:94: UserWarning: ntree_limit is deprecated, use `iteration_range` or model slicing instead.\n",
      "  UserWarning\n"
     ]
    },
    {
     "name": "stdout",
     "output_type": "stream",
     "text": [
      "[7]\teval-logloss:0.68007\n",
      "[8]\teval-logloss:0.66927\n",
      "[9]\teval-logloss:0.65904\n",
      "[0]\teval-logloss:0.65920\n",
      "[1]\teval-logloss:0.65656\n",
      "[2]\teval-logloss:0.66476\n",
      "[3]\teval-logloss:0.66619\n",
      "[4]\teval-logloss:0.66551\n",
      "[5]\teval-logloss:0.66784\n",
      "[6]\teval-logloss:0.66677\n"
     ]
    },
    {
     "name": "stderr",
     "output_type": "stream",
     "text": [
      "/opt/conda/lib/python3.7/site-packages/xgboost/core.py:94: UserWarning: ntree_limit is deprecated, use `iteration_range` or model slicing instead.\n",
      "  UserWarning\n"
     ]
    },
    {
     "name": "stdout",
     "output_type": "stream",
     "text": [
      "[7]\teval-logloss:0.66380\n",
      "[8]\teval-logloss:0.65822\n",
      "[9]\teval-logloss:0.64865\n"
     ]
    },
    {
     "name": "stderr",
     "output_type": "stream",
     "text": [
      "/opt/conda/lib/python3.7/site-packages/xgboost/core.py:94: UserWarning: ntree_limit is deprecated, use `iteration_range` or model slicing instead.\n",
      "  UserWarning\n",
      "[I 2023-07-25 12:45:22,649] Trial 7 finished with value: 0.7034098394390913 and parameters: {'booster': 'gbtree', 'lambda': 0.26695755280640565, 'alpha': 0.024963175681408576, 'max_depth': 5, 'eta': 0.3427959154256091, 'gamma': 0.010163986742182224, 'grow_policy': 'depthwise', 'min_child_weight': 7, 'scale_pos_weight': 9.03691679032705}. Best is trial 0 with value: 0.8146295946297473.\n"
     ]
    },
    {
     "name": "stdout",
     "output_type": "stream",
     "text": [
      "[0]\teval-logloss:0.67404\n",
      "[1]\teval-logloss:0.65717\n",
      "[2]\teval-logloss:0.64343\n",
      "[3]\teval-logloss:0.63293\n",
      "[4]\teval-logloss:0.62314\n",
      "[5]\teval-logloss:0.61388\n",
      "[6]\teval-logloss:0.60566\n",
      "[7]\teval-logloss:0.59850\n",
      "[8]\teval-logloss:0.59206\n",
      "[9]\teval-logloss:0.58712\n",
      "[0]\teval-logloss:0.67334\n",
      "[1]\teval-logloss:0.65798\n",
      "[2]\teval-logloss:0.64432\n",
      "[3]\teval-logloss:0.63296\n",
      "[4]\teval-logloss:0.62350\n"
     ]
    },
    {
     "name": "stderr",
     "output_type": "stream",
     "text": [
      "/opt/conda/lib/python3.7/site-packages/xgboost/core.py:94: UserWarning: ntree_limit is deprecated, use `iteration_range` or model slicing instead.\n",
      "  UserWarning\n"
     ]
    },
    {
     "name": "stdout",
     "output_type": "stream",
     "text": [
      "[5]\teval-logloss:0.61606\n",
      "[6]\teval-logloss:0.60908\n",
      "[7]\teval-logloss:0.60237\n",
      "[8]\teval-logloss:0.59609\n",
      "[9]\teval-logloss:0.58967\n",
      "[0]\teval-logloss:0.67131\n",
      "[1]\teval-logloss:0.65416\n",
      "[2]\teval-logloss:0.64031\n",
      "[3]\teval-logloss:0.62796\n",
      "[4]\teval-logloss:0.61794\n"
     ]
    },
    {
     "name": "stderr",
     "output_type": "stream",
     "text": [
      "/opt/conda/lib/python3.7/site-packages/xgboost/core.py:94: UserWarning: ntree_limit is deprecated, use `iteration_range` or model slicing instead.\n",
      "  UserWarning\n"
     ]
    },
    {
     "name": "stdout",
     "output_type": "stream",
     "text": [
      "[5]\teval-logloss:0.61040\n",
      "[6]\teval-logloss:0.60146\n",
      "[7]\teval-logloss:0.59415\n",
      "[8]\teval-logloss:0.58832\n",
      "[9]\teval-logloss:0.58324\n",
      "[0]\teval-logloss:0.67331\n",
      "[1]\teval-logloss:0.65782\n",
      "[2]\teval-logloss:0.64543\n",
      "[3]\teval-logloss:0.63584\n",
      "[4]\teval-logloss:0.62570\n"
     ]
    },
    {
     "name": "stderr",
     "output_type": "stream",
     "text": [
      "/opt/conda/lib/python3.7/site-packages/xgboost/core.py:94: UserWarning: ntree_limit is deprecated, use `iteration_range` or model slicing instead.\n",
      "  UserWarning\n"
     ]
    },
    {
     "name": "stdout",
     "output_type": "stream",
     "text": [
      "[5]\teval-logloss:0.61799\n",
      "[6]\teval-logloss:0.61105\n",
      "[7]\teval-logloss:0.60423\n",
      "[8]\teval-logloss:0.59889\n",
      "[9]\teval-logloss:0.59291\n",
      "[0]\teval-logloss:0.67247\n",
      "[1]\teval-logloss:0.65525\n",
      "[2]\teval-logloss:0.64069\n",
      "[3]\teval-logloss:0.62865\n",
      "[4]\teval-logloss:0.61934\n"
     ]
    },
    {
     "name": "stderr",
     "output_type": "stream",
     "text": [
      "/opt/conda/lib/python3.7/site-packages/xgboost/core.py:94: UserWarning: ntree_limit is deprecated, use `iteration_range` or model slicing instead.\n",
      "  UserWarning\n"
     ]
    },
    {
     "name": "stdout",
     "output_type": "stream",
     "text": [
      "[5]\teval-logloss:0.60978\n",
      "[6]\teval-logloss:0.60236\n",
      "[7]\teval-logloss:0.59609\n",
      "[8]\teval-logloss:0.58958\n",
      "[9]\teval-logloss:0.58387\n"
     ]
    },
    {
     "name": "stderr",
     "output_type": "stream",
     "text": [
      "/opt/conda/lib/python3.7/site-packages/xgboost/core.py:94: UserWarning: ntree_limit is deprecated, use `iteration_range` or model slicing instead.\n",
      "  UserWarning\n",
      "[I 2023-07-25 12:45:24,414] Trial 8 finished with value: 0.7148436265656689 and parameters: {'booster': 'gbtree', 'lambda': 8.3123801449745, 'alpha': 0.07920467941417539, 'max_depth': 7, 'eta': 0.08483368162306364, 'gamma': 0.11169408595948409, 'grow_policy': 'depthwise', 'min_child_weight': 6, 'scale_pos_weight': 5.953114064475754}. Best is trial 0 with value: 0.8146295946297473.\n"
     ]
    },
    {
     "name": "stdout",
     "output_type": "stream",
     "text": [
      "[0]\teval-logloss:0.68600\n",
      "[1]\teval-logloss:0.67968\n",
      "[2]\teval-logloss:0.67474\n",
      "[3]\teval-logloss:0.67128\n",
      "[4]\teval-logloss:0.66781\n",
      "[5]\teval-logloss:0.66556\n",
      "[6]\teval-logloss:0.66450\n",
      "[7]\teval-logloss:0.66332\n",
      "[8]\teval-logloss:0.66261\n",
      "[9]\teval-logloss:0.66275\n"
     ]
    },
    {
     "name": "stderr",
     "output_type": "stream",
     "text": [
      "/opt/conda/lib/python3.7/site-packages/xgboost/core.py:94: UserWarning: ntree_limit is deprecated, use `iteration_range` or model slicing instead.\n",
      "  UserWarning\n"
     ]
    },
    {
     "name": "stdout",
     "output_type": "stream",
     "text": [
      "[0]\teval-logloss:0.68527\n",
      "[1]\teval-logloss:0.67823\n",
      "[2]\teval-logloss:0.67263\n",
      "[3]\teval-logloss:0.66875\n",
      "[4]\teval-logloss:0.66545\n",
      "[5]\teval-logloss:0.66262\n",
      "[6]\teval-logloss:0.66125\n",
      "[7]\teval-logloss:0.65965\n",
      "[8]\teval-logloss:0.65871\n",
      "[9]\teval-logloss:0.65920\n"
     ]
    },
    {
     "name": "stderr",
     "output_type": "stream",
     "text": [
      "/opt/conda/lib/python3.7/site-packages/xgboost/core.py:94: UserWarning: ntree_limit is deprecated, use `iteration_range` or model slicing instead.\n",
      "  UserWarning\n"
     ]
    },
    {
     "name": "stdout",
     "output_type": "stream",
     "text": [
      "[0]\teval-logloss:0.68544\n",
      "[1]\teval-logloss:0.67923\n",
      "[2]\teval-logloss:0.67342\n",
      "[3]\teval-logloss:0.66935\n",
      "[4]\teval-logloss:0.66562\n",
      "[5]\teval-logloss:0.66279\n",
      "[6]\teval-logloss:0.66153\n",
      "[7]\teval-logloss:0.65985\n",
      "[8]\teval-logloss:0.65921\n",
      "[9]\teval-logloss:0.65865\n"
     ]
    },
    {
     "name": "stderr",
     "output_type": "stream",
     "text": [
      "/opt/conda/lib/python3.7/site-packages/xgboost/core.py:94: UserWarning: ntree_limit is deprecated, use `iteration_range` or model slicing instead.\n",
      "  UserWarning\n"
     ]
    },
    {
     "name": "stdout",
     "output_type": "stream",
     "text": [
      "[0]\teval-logloss:0.68588\n",
      "[1]\teval-logloss:0.68001\n",
      "[2]\teval-logloss:0.67543\n",
      "[3]\teval-logloss:0.67200\n",
      "[4]\teval-logloss:0.66833\n",
      "[5]\teval-logloss:0.66556\n",
      "[6]\teval-logloss:0.66372\n",
      "[7]\teval-logloss:0.66279\n",
      "[8]\teval-logloss:0.66302\n",
      "[9]\teval-logloss:0.66250\n"
     ]
    },
    {
     "name": "stderr",
     "output_type": "stream",
     "text": [
      "/opt/conda/lib/python3.7/site-packages/xgboost/core.py:94: UserWarning: ntree_limit is deprecated, use `iteration_range` or model slicing instead.\n",
      "  UserWarning\n"
     ]
    },
    {
     "name": "stdout",
     "output_type": "stream",
     "text": [
      "[0]\teval-logloss:0.68507\n",
      "[1]\teval-logloss:0.67860\n",
      "[2]\teval-logloss:0.67339\n",
      "[3]\teval-logloss:0.66943\n",
      "[4]\teval-logloss:0.66629\n",
      "[5]\teval-logloss:0.66287\n",
      "[6]\teval-logloss:0.66046\n",
      "[7]\teval-logloss:0.65979\n",
      "[8]\teval-logloss:0.65811\n",
      "[9]\teval-logloss:0.65747\n"
     ]
    },
    {
     "name": "stderr",
     "output_type": "stream",
     "text": [
      "/opt/conda/lib/python3.7/site-packages/xgboost/core.py:94: UserWarning: ntree_limit is deprecated, use `iteration_range` or model slicing instead.\n",
      "  UserWarning\n",
      "[I 2023-07-25 12:45:25,317] Trial 9 finished with value: 0.6718253278877204 and parameters: {'booster': 'gbtree', 'lambda': 0.061875564693766164, 'alpha': 0.015156169713181867, 'max_depth': 3, 'eta': 0.05302235343076402, 'gamma': 0.06569467642245559, 'grow_policy': 'depthwise', 'min_child_weight': 9, 'scale_pos_weight': 6.440549287276092}. Best is trial 0 with value: 0.8146295946297473.\n"
     ]
    },
    {
     "name": "stdout",
     "output_type": "stream",
     "text": [
      "[0]\teval-logloss:0.50520\n",
      "[1]\teval-logloss:0.45381\n",
      "[2]\teval-logloss:0.42476\n",
      "[3]\teval-logloss:0.41394\n",
      "[4]\teval-logloss:0.41598\n",
      "[5]\teval-logloss:0.40925\n",
      "[6]\teval-logloss:0.41174\n",
      "[7]\teval-logloss:0.40958\n",
      "[8]\teval-logloss:0.41373\n",
      "[9]\teval-logloss:0.41365\n",
      "[0]\teval-logloss:0.51079\n",
      "[1]\teval-logloss:0.43878\n",
      "[2]\teval-logloss:0.41837\n"
     ]
    },
    {
     "name": "stderr",
     "output_type": "stream",
     "text": [
      "/opt/conda/lib/python3.7/site-packages/xgboost/core.py:94: UserWarning: ntree_limit is deprecated, use `iteration_range` or model slicing instead.\n",
      "  UserWarning\n"
     ]
    },
    {
     "name": "stdout",
     "output_type": "stream",
     "text": [
      "[3]\teval-logloss:0.40114\n",
      "[4]\teval-logloss:0.38805\n",
      "[5]\teval-logloss:0.38564\n",
      "[6]\teval-logloss:0.38341\n",
      "[7]\teval-logloss:0.37074\n",
      "[8]\teval-logloss:0.36945\n",
      "[9]\teval-logloss:0.36935\n",
      "[0]\teval-logloss:0.52029\n",
      "[1]\teval-logloss:0.45927\n",
      "[2]\teval-logloss:0.44133\n"
     ]
    },
    {
     "name": "stderr",
     "output_type": "stream",
     "text": [
      "/opt/conda/lib/python3.7/site-packages/xgboost/core.py:94: UserWarning: ntree_limit is deprecated, use `iteration_range` or model slicing instead.\n",
      "  UserWarning\n"
     ]
    },
    {
     "name": "stdout",
     "output_type": "stream",
     "text": [
      "[3]\teval-logloss:0.43379\n",
      "[4]\teval-logloss:0.43402\n",
      "[5]\teval-logloss:0.43338\n",
      "[6]\teval-logloss:0.42872\n",
      "[7]\teval-logloss:0.42821\n",
      "[8]\teval-logloss:0.42491\n",
      "[9]\teval-logloss:0.41636\n",
      "[0]\teval-logloss:0.50124\n",
      "[1]\teval-logloss:0.45052\n",
      "[2]\teval-logloss:0.43310\n"
     ]
    },
    {
     "name": "stderr",
     "output_type": "stream",
     "text": [
      "/opt/conda/lib/python3.7/site-packages/xgboost/core.py:94: UserWarning: ntree_limit is deprecated, use `iteration_range` or model slicing instead.\n",
      "  UserWarning\n"
     ]
    },
    {
     "name": "stdout",
     "output_type": "stream",
     "text": [
      "[3]\teval-logloss:0.42433\n",
      "[4]\teval-logloss:0.41081\n",
      "[5]\teval-logloss:0.41412\n",
      "[6]\teval-logloss:0.41512\n",
      "[7]\teval-logloss:0.41553\n",
      "[8]\teval-logloss:0.41336\n",
      "[9]\teval-logloss:0.41024\n",
      "[0]\teval-logloss:0.49649\n",
      "[1]\teval-logloss:0.44113\n",
      "[2]\teval-logloss:0.41524\n"
     ]
    },
    {
     "name": "stderr",
     "output_type": "stream",
     "text": [
      "/opt/conda/lib/python3.7/site-packages/xgboost/core.py:94: UserWarning: ntree_limit is deprecated, use `iteration_range` or model slicing instead.\n",
      "  UserWarning\n"
     ]
    },
    {
     "name": "stdout",
     "output_type": "stream",
     "text": [
      "[3]\teval-logloss:0.39536\n",
      "[4]\teval-logloss:0.38574\n",
      "[5]\teval-logloss:0.38387\n",
      "[6]\teval-logloss:0.38618\n",
      "[7]\teval-logloss:0.38824\n",
      "[8]\teval-logloss:0.38607\n",
      "[9]\teval-logloss:0.38223\n"
     ]
    },
    {
     "name": "stderr",
     "output_type": "stream",
     "text": [
      "/opt/conda/lib/python3.7/site-packages/xgboost/core.py:94: UserWarning: ntree_limit is deprecated, use `iteration_range` or model slicing instead.\n",
      "  UserWarning\n",
      "[I 2023-07-25 12:45:27,946] Trial 10 finished with value: 0.8139567744695547 and parameters: {'booster': 'gbtree', 'lambda': 0.8703753777303117, 'alpha': 5.795423739649313, 'max_depth': 10, 'eta': 0.7693480610569197, 'gamma': 0.9621466938268615, 'grow_policy': 'lossguide', 'min_child_weight': 1, 'scale_pos_weight': 2.1081358587658094}. Best is trial 0 with value: 0.8146295946297473.\n"
     ]
    },
    {
     "name": "stdout",
     "output_type": "stream",
     "text": [
      "[0]\teval-logloss:0.49336\n",
      "[1]\teval-logloss:0.43469\n",
      "[2]\teval-logloss:0.42955\n",
      "[3]\teval-logloss:0.42049\n",
      "[4]\teval-logloss:0.41246\n",
      "[5]\teval-logloss:0.40611\n",
      "[6]\teval-logloss:0.40400\n",
      "[7]\teval-logloss:0.41179\n",
      "[8]\teval-logloss:0.41517\n",
      "[9]\teval-logloss:0.42276\n",
      "[0]\teval-logloss:0.47124\n",
      "[1]\teval-logloss:0.41592\n",
      "[2]\teval-logloss:0.40256\n"
     ]
    },
    {
     "name": "stderr",
     "output_type": "stream",
     "text": [
      "/opt/conda/lib/python3.7/site-packages/xgboost/core.py:94: UserWarning: ntree_limit is deprecated, use `iteration_range` or model slicing instead.\n",
      "  UserWarning\n"
     ]
    },
    {
     "name": "stdout",
     "output_type": "stream",
     "text": [
      "[3]\teval-logloss:0.39957\n",
      "[4]\teval-logloss:0.39350\n",
      "[5]\teval-logloss:0.38783\n",
      "[6]\teval-logloss:0.38771\n",
      "[7]\teval-logloss:0.38783\n",
      "[8]\teval-logloss:0.38889\n",
      "[9]\teval-logloss:0.39139\n",
      "[0]\teval-logloss:0.48958\n",
      "[1]\teval-logloss:0.43833\n",
      "[2]\teval-logloss:0.42884\n"
     ]
    },
    {
     "name": "stderr",
     "output_type": "stream",
     "text": [
      "/opt/conda/lib/python3.7/site-packages/xgboost/core.py:94: UserWarning: ntree_limit is deprecated, use `iteration_range` or model slicing instead.\n",
      "  UserWarning\n"
     ]
    },
    {
     "name": "stdout",
     "output_type": "stream",
     "text": [
      "[3]\teval-logloss:0.41431\n",
      "[4]\teval-logloss:0.42128\n",
      "[5]\teval-logloss:0.41564\n",
      "[6]\teval-logloss:0.42054\n",
      "[7]\teval-logloss:0.42563\n",
      "[8]\teval-logloss:0.42680\n",
      "[9]\teval-logloss:0.42772\n",
      "[0]\teval-logloss:0.47471\n",
      "[1]\teval-logloss:0.43962\n",
      "[2]\teval-logloss:0.41267\n"
     ]
    },
    {
     "name": "stderr",
     "output_type": "stream",
     "text": [
      "/opt/conda/lib/python3.7/site-packages/xgboost/core.py:94: UserWarning: ntree_limit is deprecated, use `iteration_range` or model slicing instead.\n",
      "  UserWarning\n"
     ]
    },
    {
     "name": "stdout",
     "output_type": "stream",
     "text": [
      "[3]\teval-logloss:0.41200\n",
      "[4]\teval-logloss:0.41547\n",
      "[5]\teval-logloss:0.41062\n",
      "[6]\teval-logloss:0.41145\n",
      "[7]\teval-logloss:0.41134\n",
      "[8]\teval-logloss:0.41279\n",
      "[9]\teval-logloss:0.41729\n",
      "[0]\teval-logloss:0.46250\n",
      "[1]\teval-logloss:0.41293\n",
      "[2]\teval-logloss:0.38223\n"
     ]
    },
    {
     "name": "stderr",
     "output_type": "stream",
     "text": [
      "/opt/conda/lib/python3.7/site-packages/xgboost/core.py:94: UserWarning: ntree_limit is deprecated, use `iteration_range` or model slicing instead.\n",
      "  UserWarning\n"
     ]
    },
    {
     "name": "stdout",
     "output_type": "stream",
     "text": [
      "[3]\teval-logloss:0.38185\n",
      "[4]\teval-logloss:0.37282\n",
      "[5]\teval-logloss:0.36926\n",
      "[6]\teval-logloss:0.37380\n",
      "[7]\teval-logloss:0.38137\n",
      "[8]\teval-logloss:0.37654\n",
      "[9]\teval-logloss:0.38041\n"
     ]
    },
    {
     "name": "stderr",
     "output_type": "stream",
     "text": [
      "/opt/conda/lib/python3.7/site-packages/xgboost/core.py:94: UserWarning: ntree_limit is deprecated, use `iteration_range` or model slicing instead.\n",
      "  UserWarning\n",
      "[I 2023-07-25 12:45:30,548] Trial 11 finished with value: 0.8160167584239577 and parameters: {'booster': 'gbtree', 'lambda': 0.9782135396966771, 'alpha': 9.674870764477486, 'max_depth': 10, 'eta': 0.9868853475382119, 'gamma': 0.9660434260565358, 'grow_policy': 'lossguide', 'min_child_weight': 1, 'scale_pos_weight': 1.6194748751061905}. Best is trial 11 with value: 0.8160167584239577.\n"
     ]
    },
    {
     "name": "stdout",
     "output_type": "stream",
     "text": [
      "[0]\teval-logloss:0.49828\n",
      "[1]\teval-logloss:0.43549\n",
      "[2]\teval-logloss:0.39569\n",
      "[3]\teval-logloss:0.38474\n",
      "[4]\teval-logloss:0.37975\n",
      "[5]\teval-logloss:0.38362\n",
      "[6]\teval-logloss:0.39365\n",
      "[7]\teval-logloss:0.39289\n",
      "[8]\teval-logloss:0.39508\n",
      "[9]\teval-logloss:0.39694\n",
      "[0]\teval-logloss:0.47596\n",
      "[1]\teval-logloss:0.39397\n",
      "[2]\teval-logloss:0.37382\n"
     ]
    },
    {
     "name": "stderr",
     "output_type": "stream",
     "text": [
      "/opt/conda/lib/python3.7/site-packages/xgboost/core.py:94: UserWarning: ntree_limit is deprecated, use `iteration_range` or model slicing instead.\n",
      "  UserWarning\n"
     ]
    },
    {
     "name": "stdout",
     "output_type": "stream",
     "text": [
      "[3]\teval-logloss:0.36556\n",
      "[4]\teval-logloss:0.35633\n",
      "[5]\teval-logloss:0.35760\n",
      "[6]\teval-logloss:0.36124\n",
      "[7]\teval-logloss:0.35926\n",
      "[8]\teval-logloss:0.36192\n",
      "[9]\teval-logloss:0.36539\n",
      "[0]\teval-logloss:0.49263\n",
      "[1]\teval-logloss:0.42778\n",
      "[2]\teval-logloss:0.39790\n"
     ]
    },
    {
     "name": "stderr",
     "output_type": "stream",
     "text": [
      "/opt/conda/lib/python3.7/site-packages/xgboost/core.py:94: UserWarning: ntree_limit is deprecated, use `iteration_range` or model slicing instead.\n",
      "  UserWarning\n"
     ]
    },
    {
     "name": "stdout",
     "output_type": "stream",
     "text": [
      "[3]\teval-logloss:0.38998\n",
      "[4]\teval-logloss:0.38566\n",
      "[5]\teval-logloss:0.38350\n",
      "[6]\teval-logloss:0.38306\n",
      "[7]\teval-logloss:0.38396\n",
      "[8]\teval-logloss:0.38448\n",
      "[9]\teval-logloss:0.38318\n",
      "[0]\teval-logloss:0.47238\n",
      "[1]\teval-logloss:0.42782\n",
      "[2]\teval-logloss:0.40233\n"
     ]
    },
    {
     "name": "stderr",
     "output_type": "stream",
     "text": [
      "/opt/conda/lib/python3.7/site-packages/xgboost/core.py:94: UserWarning: ntree_limit is deprecated, use `iteration_range` or model slicing instead.\n",
      "  UserWarning\n"
     ]
    },
    {
     "name": "stdout",
     "output_type": "stream",
     "text": [
      "[3]\teval-logloss:0.39247\n",
      "[4]\teval-logloss:0.38987\n",
      "[5]\teval-logloss:0.38449\n",
      "[6]\teval-logloss:0.38629\n",
      "[7]\teval-logloss:0.38601\n",
      "[8]\teval-logloss:0.39248\n",
      "[9]\teval-logloss:0.39002\n",
      "[0]\teval-logloss:0.47441\n",
      "[1]\teval-logloss:0.39351\n",
      "[2]\teval-logloss:0.36442\n"
     ]
    },
    {
     "name": "stderr",
     "output_type": "stream",
     "text": [
      "/opt/conda/lib/python3.7/site-packages/xgboost/core.py:94: UserWarning: ntree_limit is deprecated, use `iteration_range` or model slicing instead.\n",
      "  UserWarning\n"
     ]
    },
    {
     "name": "stdout",
     "output_type": "stream",
     "text": [
      "[3]\teval-logloss:0.35284\n",
      "[4]\teval-logloss:0.34740\n",
      "[5]\teval-logloss:0.34365\n",
      "[6]\teval-logloss:0.34259\n",
      "[7]\teval-logloss:0.34154\n",
      "[8]\teval-logloss:0.34243\n",
      "[9]\teval-logloss:0.34470\n"
     ]
    },
    {
     "name": "stderr",
     "output_type": "stream",
     "text": [
      "/opt/conda/lib/python3.7/site-packages/xgboost/core.py:94: UserWarning: ntree_limit is deprecated, use `iteration_range` or model slicing instead.\n",
      "  UserWarning\n",
      "[I 2023-07-25 12:45:33,164] Trial 12 finished with value: 0.8259199955926719 and parameters: {'booster': 'gbtree', 'lambda': 0.8396481267503857, 'alpha': 8.094542903563699, 'max_depth': 10, 'eta': 0.8152659217717106, 'gamma': 0.9202939608319634, 'grow_policy': 'lossguide', 'min_child_weight': 1, 'scale_pos_weight': 1.1688028744366248}. Best is trial 12 with value: 0.8259199955926719.\n"
     ]
    },
    {
     "name": "stdout",
     "output_type": "stream",
     "text": [
      "[0]\teval-logloss:0.49479\n",
      "[1]\teval-logloss:0.43840\n",
      "[2]\teval-logloss:0.40922\n",
      "[3]\teval-logloss:0.39378\n",
      "[4]\teval-logloss:0.38504\n",
      "[5]\teval-logloss:0.39021\n",
      "[6]\teval-logloss:0.39596\n",
      "[7]\teval-logloss:0.39564\n",
      "[8]\teval-logloss:0.39612\n",
      "[9]\teval-logloss:0.39917\n",
      "[0]\teval-logloss:0.47185\n",
      "[1]\teval-logloss:0.39365\n",
      "[2]\teval-logloss:0.36821\n"
     ]
    },
    {
     "name": "stderr",
     "output_type": "stream",
     "text": [
      "/opt/conda/lib/python3.7/site-packages/xgboost/core.py:94: UserWarning: ntree_limit is deprecated, use `iteration_range` or model slicing instead.\n",
      "  UserWarning\n"
     ]
    },
    {
     "name": "stdout",
     "output_type": "stream",
     "text": [
      "[3]\teval-logloss:0.35794\n",
      "[4]\teval-logloss:0.35585\n",
      "[5]\teval-logloss:0.35744\n",
      "[6]\teval-logloss:0.35890\n",
      "[7]\teval-logloss:0.35881\n",
      "[8]\teval-logloss:0.35920\n",
      "[9]\teval-logloss:0.35882\n",
      "[0]\teval-logloss:0.47737\n",
      "[1]\teval-logloss:0.42277\n",
      "[2]\teval-logloss:0.39840\n"
     ]
    },
    {
     "name": "stderr",
     "output_type": "stream",
     "text": [
      "/opt/conda/lib/python3.7/site-packages/xgboost/core.py:94: UserWarning: ntree_limit is deprecated, use `iteration_range` or model slicing instead.\n",
      "  UserWarning\n"
     ]
    },
    {
     "name": "stdout",
     "output_type": "stream",
     "text": [
      "[3]\teval-logloss:0.38532\n",
      "[4]\teval-logloss:0.37887\n",
      "[5]\teval-logloss:0.38031\n",
      "[6]\teval-logloss:0.38512\n",
      "[7]\teval-logloss:0.38781\n",
      "[8]\teval-logloss:0.38711\n",
      "[9]\teval-logloss:0.38677\n",
      "[0]\teval-logloss:0.46390\n",
      "[1]\teval-logloss:0.41701\n",
      "[2]\teval-logloss:0.39107\n"
     ]
    },
    {
     "name": "stderr",
     "output_type": "stream",
     "text": [
      "/opt/conda/lib/python3.7/site-packages/xgboost/core.py:94: UserWarning: ntree_limit is deprecated, use `iteration_range` or model slicing instead.\n",
      "  UserWarning\n"
     ]
    },
    {
     "name": "stdout",
     "output_type": "stream",
     "text": [
      "[3]\teval-logloss:0.38119\n",
      "[4]\teval-logloss:0.37416\n",
      "[5]\teval-logloss:0.37981\n",
      "[6]\teval-logloss:0.38089\n",
      "[7]\teval-logloss:0.37825\n",
      "[8]\teval-logloss:0.38247\n",
      "[9]\teval-logloss:0.38226\n",
      "[0]\teval-logloss:0.47490\n",
      "[1]\teval-logloss:0.39817\n",
      "[2]\teval-logloss:0.37057\n",
      "[3]\teval-logloss:0.36342\n"
     ]
    },
    {
     "name": "stderr",
     "output_type": "stream",
     "text": [
      "/opt/conda/lib/python3.7/site-packages/xgboost/core.py:94: UserWarning: ntree_limit is deprecated, use `iteration_range` or model slicing instead.\n",
      "  UserWarning\n"
     ]
    },
    {
     "name": "stdout",
     "output_type": "stream",
     "text": [
      "[4]\teval-logloss:0.35754\n",
      "[5]\teval-logloss:0.34880\n",
      "[6]\teval-logloss:0.34940\n",
      "[7]\teval-logloss:0.34720\n",
      "[8]\teval-logloss:0.34795\n",
      "[9]\teval-logloss:0.35004\n"
     ]
    },
    {
     "name": "stderr",
     "output_type": "stream",
     "text": [
      "/opt/conda/lib/python3.7/site-packages/xgboost/core.py:94: UserWarning: ntree_limit is deprecated, use `iteration_range` or model slicing instead.\n",
      "  UserWarning\n",
      "[I 2023-07-25 12:45:35,501] Trial 13 finished with value: 0.8223600142467433 and parameters: {'booster': 'gbtree', 'lambda': 0.5893339327921796, 'alpha': 9.228940759100967, 'max_depth': 9, 'eta': 0.8853865206882966, 'gamma': 0.4923819282200736, 'grow_policy': 'lossguide', 'min_child_weight': 3, 'scale_pos_weight': 1.1144642585446016}. Best is trial 12 with value: 0.8259199955926719.\n"
     ]
    },
    {
     "name": "stdout",
     "output_type": "stream",
     "text": [
      "[0]\teval-logloss:0.55556\n",
      "[1]\teval-logloss:0.49894\n",
      "[2]\teval-logloss:0.47050\n",
      "[3]\teval-logloss:0.44352\n",
      "[4]\teval-logloss:0.42872\n",
      "[5]\teval-logloss:0.42044\n",
      "[6]\teval-logloss:0.40797\n",
      "[7]\teval-logloss:0.40102\n",
      "[8]\teval-logloss:0.39464\n",
      "[9]\teval-logloss:0.39412\n",
      "[0]\teval-logloss:0.56311\n",
      "[1]\teval-logloss:0.49970\n",
      "[2]\teval-logloss:0.46006\n",
      "[3]\teval-logloss:0.44897\n"
     ]
    },
    {
     "name": "stderr",
     "output_type": "stream",
     "text": [
      "/opt/conda/lib/python3.7/site-packages/xgboost/core.py:94: UserWarning: ntree_limit is deprecated, use `iteration_range` or model slicing instead.\n",
      "  UserWarning\n"
     ]
    },
    {
     "name": "stdout",
     "output_type": "stream",
     "text": [
      "[4]\teval-logloss:0.43093\n",
      "[5]\teval-logloss:0.41913\n",
      "[6]\teval-logloss:0.40228\n",
      "[7]\teval-logloss:0.39201\n",
      "[8]\teval-logloss:0.38900\n",
      "[9]\teval-logloss:0.38304\n",
      "[0]\teval-logloss:0.56582\n",
      "[1]\teval-logloss:0.50966\n",
      "[2]\teval-logloss:0.46690\n",
      "[3]\teval-logloss:0.45334\n"
     ]
    },
    {
     "name": "stderr",
     "output_type": "stream",
     "text": [
      "/opt/conda/lib/python3.7/site-packages/xgboost/core.py:94: UserWarning: ntree_limit is deprecated, use `iteration_range` or model slicing instead.\n",
      "  UserWarning\n"
     ]
    },
    {
     "name": "stdout",
     "output_type": "stream",
     "text": [
      "[4]\teval-logloss:0.43581\n",
      "[5]\teval-logloss:0.42422\n",
      "[6]\teval-logloss:0.41673\n",
      "[7]\teval-logloss:0.41049\n",
      "[8]\teval-logloss:0.40892\n",
      "[9]\teval-logloss:0.40676\n",
      "[0]\teval-logloss:0.55007\n",
      "[1]\teval-logloss:0.49046\n",
      "[2]\teval-logloss:0.46128\n",
      "[3]\teval-logloss:0.44091\n"
     ]
    },
    {
     "name": "stderr",
     "output_type": "stream",
     "text": [
      "/opt/conda/lib/python3.7/site-packages/xgboost/core.py:94: UserWarning: ntree_limit is deprecated, use `iteration_range` or model slicing instead.\n",
      "  UserWarning\n"
     ]
    },
    {
     "name": "stdout",
     "output_type": "stream",
     "text": [
      "[4]\teval-logloss:0.42307\n",
      "[5]\teval-logloss:0.41284\n",
      "[6]\teval-logloss:0.40912\n",
      "[7]\teval-logloss:0.40487\n",
      "[8]\teval-logloss:0.40181\n",
      "[9]\teval-logloss:0.39964\n",
      "[0]\teval-logloss:0.55162\n",
      "[1]\teval-logloss:0.49548\n",
      "[2]\teval-logloss:0.45453\n",
      "[3]\teval-logloss:0.42640\n"
     ]
    },
    {
     "name": "stderr",
     "output_type": "stream",
     "text": [
      "/opt/conda/lib/python3.7/site-packages/xgboost/core.py:94: UserWarning: ntree_limit is deprecated, use `iteration_range` or model slicing instead.\n",
      "  UserWarning\n"
     ]
    },
    {
     "name": "stdout",
     "output_type": "stream",
     "text": [
      "[4]\teval-logloss:0.40892\n",
      "[5]\teval-logloss:0.39366\n",
      "[6]\teval-logloss:0.38962\n",
      "[7]\teval-logloss:0.38828\n",
      "[8]\teval-logloss:0.38070\n",
      "[9]\teval-logloss:0.37598\n"
     ]
    },
    {
     "name": "stderr",
     "output_type": "stream",
     "text": [
      "/opt/conda/lib/python3.7/site-packages/xgboost/core.py:94: UserWarning: ntree_limit is deprecated, use `iteration_range` or model slicing instead.\n",
      "  UserWarning\n",
      "[I 2023-07-25 12:45:37,599] Trial 14 finished with value: 0.8074749217902445 and parameters: {'booster': 'gbtree', 'lambda': 0.4376278917677154, 'alpha': 4.674328584541167, 'max_depth': 8, 'eta': 0.5411489590243187, 'gamma': 0.23552813471587425, 'grow_policy': 'lossguide', 'min_child_weight': 3, 'scale_pos_weight': 2.7505024452730593}. Best is trial 12 with value: 0.8259199955926719.\n"
     ]
    },
    {
     "name": "stdout",
     "output_type": "stream",
     "text": [
      "[0]\teval-logloss:0.54531\n",
      "[1]\teval-logloss:0.50663\n",
      "[2]\teval-logloss:0.48555\n",
      "[3]\teval-logloss:0.45917\n",
      "[4]\teval-logloss:0.44459\n",
      "[5]\teval-logloss:0.42971\n",
      "[6]\teval-logloss:0.41969\n",
      "[7]\teval-logloss:0.41237\n",
      "[8]\teval-logloss:0.40672\n",
      "[9]\teval-logloss:0.40642\n",
      "[0]\teval-logloss:0.55748\n",
      "[1]\teval-logloss:0.50192\n",
      "[2]\teval-logloss:0.46184\n"
     ]
    },
    {
     "name": "stderr",
     "output_type": "stream",
     "text": [
      "/opt/conda/lib/python3.7/site-packages/xgboost/core.py:94: UserWarning: ntree_limit is deprecated, use `iteration_range` or model slicing instead.\n",
      "  UserWarning\n"
     ]
    },
    {
     "name": "stdout",
     "output_type": "stream",
     "text": [
      "[3]\teval-logloss:0.43600\n",
      "[4]\teval-logloss:0.41987\n",
      "[5]\teval-logloss:0.40375\n",
      "[6]\teval-logloss:0.39013\n",
      "[7]\teval-logloss:0.37897\n",
      "[8]\teval-logloss:0.38344\n",
      "[9]\teval-logloss:0.37750\n",
      "[0]\teval-logloss:0.56630\n",
      "[1]\teval-logloss:0.51566\n",
      "[2]\teval-logloss:0.48456\n"
     ]
    },
    {
     "name": "stderr",
     "output_type": "stream",
     "text": [
      "/opt/conda/lib/python3.7/site-packages/xgboost/core.py:94: UserWarning: ntree_limit is deprecated, use `iteration_range` or model slicing instead.\n",
      "  UserWarning\n"
     ]
    },
    {
     "name": "stdout",
     "output_type": "stream",
     "text": [
      "[3]\teval-logloss:0.46721\n",
      "[4]\teval-logloss:0.45359\n",
      "[5]\teval-logloss:0.43605\n",
      "[6]\teval-logloss:0.43378\n",
      "[7]\teval-logloss:0.42452\n",
      "[8]\teval-logloss:0.42439\n",
      "[9]\teval-logloss:0.42103\n",
      "[0]\teval-logloss:0.56229\n",
      "[1]\teval-logloss:0.50774\n",
      "[2]\teval-logloss:0.48518\n"
     ]
    },
    {
     "name": "stderr",
     "output_type": "stream",
     "text": [
      "/opt/conda/lib/python3.7/site-packages/xgboost/core.py:94: UserWarning: ntree_limit is deprecated, use `iteration_range` or model slicing instead.\n",
      "  UserWarning\n"
     ]
    },
    {
     "name": "stdout",
     "output_type": "stream",
     "text": [
      "[3]\teval-logloss:0.46364\n",
      "[4]\teval-logloss:0.45159\n",
      "[5]\teval-logloss:0.44565\n",
      "[6]\teval-logloss:0.44562\n",
      "[7]\teval-logloss:0.43884\n",
      "[8]\teval-logloss:0.43347\n",
      "[9]\teval-logloss:0.42666\n",
      "[0]\teval-logloss:0.55036\n",
      "[1]\teval-logloss:0.48758\n",
      "[2]\teval-logloss:0.45475\n"
     ]
    },
    {
     "name": "stderr",
     "output_type": "stream",
     "text": [
      "/opt/conda/lib/python3.7/site-packages/xgboost/core.py:94: UserWarning: ntree_limit is deprecated, use `iteration_range` or model slicing instead.\n",
      "  UserWarning\n"
     ]
    },
    {
     "name": "stdout",
     "output_type": "stream",
     "text": [
      "[3]\teval-logloss:0.42809\n",
      "[4]\teval-logloss:0.41649\n",
      "[5]\teval-logloss:0.41037\n",
      "[6]\teval-logloss:0.40133\n",
      "[7]\teval-logloss:0.39127\n",
      "[8]\teval-logloss:0.39368\n",
      "[9]\teval-logloss:0.38920\n"
     ]
    },
    {
     "name": "stderr",
     "output_type": "stream",
     "text": [
      "/opt/conda/lib/python3.7/site-packages/xgboost/core.py:94: UserWarning: ntree_limit is deprecated, use `iteration_range` or model slicing instead.\n",
      "  UserWarning\n",
      "[I 2023-07-25 12:45:39,947] Trial 15 finished with value: 0.8021916219051963 and parameters: {'booster': 'gbtree', 'lambda': 0.45026563518124, 'alpha': 8.465946616997403, 'max_depth': 9, 'eta': 0.6050997614429408, 'gamma': 0.5668580397190142, 'grow_policy': 'lossguide', 'min_child_weight': 3, 'scale_pos_weight': 3.1482615797087563}. Best is trial 12 with value: 0.8259199955926719.\n"
     ]
    },
    {
     "name": "stdout",
     "output_type": "stream",
     "text": [
      "[0]\teval-logloss:0.48151\n",
      "[1]\teval-logloss:0.42759\n",
      "[2]\teval-logloss:0.40787\n",
      "[3]\teval-logloss:0.40161\n",
      "[4]\teval-logloss:0.39499\n",
      "[5]\teval-logloss:0.39068\n",
      "[6]\teval-logloss:0.39053\n",
      "[7]\teval-logloss:0.38807\n",
      "[8]\teval-logloss:0.39283\n",
      "[9]\teval-logloss:0.39478\n",
      "[0]\teval-logloss:0.46980\n",
      "[1]\teval-logloss:0.38791\n",
      "[2]\teval-logloss:0.36508\n"
     ]
    },
    {
     "name": "stderr",
     "output_type": "stream",
     "text": [
      "/opt/conda/lib/python3.7/site-packages/xgboost/core.py:94: UserWarning: ntree_limit is deprecated, use `iteration_range` or model slicing instead.\n",
      "  UserWarning\n"
     ]
    },
    {
     "name": "stdout",
     "output_type": "stream",
     "text": [
      "[3]\teval-logloss:0.35162\n",
      "[4]\teval-logloss:0.35678\n",
      "[5]\teval-logloss:0.35621\n",
      "[6]\teval-logloss:0.34883\n",
      "[7]\teval-logloss:0.35089\n",
      "[8]\teval-logloss:0.35665\n",
      "[9]\teval-logloss:0.35965\n",
      "[0]\teval-logloss:0.48486\n",
      "[1]\teval-logloss:0.43552\n",
      "[2]\teval-logloss:0.40843\n",
      "[3]\teval-logloss:0.39466\n"
     ]
    },
    {
     "name": "stderr",
     "output_type": "stream",
     "text": [
      "/opt/conda/lib/python3.7/site-packages/xgboost/core.py:94: UserWarning: ntree_limit is deprecated, use `iteration_range` or model slicing instead.\n",
      "  UserWarning\n"
     ]
    },
    {
     "name": "stdout",
     "output_type": "stream",
     "text": [
      "[4]\teval-logloss:0.39138\n",
      "[5]\teval-logloss:0.39068\n",
      "[6]\teval-logloss:0.39767\n",
      "[7]\teval-logloss:0.39772\n",
      "[8]\teval-logloss:0.39827\n",
      "[9]\teval-logloss:0.39940\n",
      "[0]\teval-logloss:0.46284\n",
      "[1]\teval-logloss:0.40834\n",
      "[2]\teval-logloss:0.38285\n"
     ]
    },
    {
     "name": "stderr",
     "output_type": "stream",
     "text": [
      "/opt/conda/lib/python3.7/site-packages/xgboost/core.py:94: UserWarning: ntree_limit is deprecated, use `iteration_range` or model slicing instead.\n",
      "  UserWarning\n"
     ]
    },
    {
     "name": "stdout",
     "output_type": "stream",
     "text": [
      "[3]\teval-logloss:0.37835\n",
      "[4]\teval-logloss:0.37733\n",
      "[5]\teval-logloss:0.37711\n",
      "[6]\teval-logloss:0.37501\n",
      "[7]\teval-logloss:0.37596\n",
      "[8]\teval-logloss:0.38105\n",
      "[9]\teval-logloss:0.38082\n",
      "[0]\teval-logloss:0.46321\n",
      "[1]\teval-logloss:0.39127\n",
      "[2]\teval-logloss:0.36862\n",
      "[3]\teval-logloss:0.35845\n"
     ]
    },
    {
     "name": "stderr",
     "output_type": "stream",
     "text": [
      "/opt/conda/lib/python3.7/site-packages/xgboost/core.py:94: UserWarning: ntree_limit is deprecated, use `iteration_range` or model slicing instead.\n",
      "  UserWarning\n"
     ]
    },
    {
     "name": "stdout",
     "output_type": "stream",
     "text": [
      "[4]\teval-logloss:0.35337\n",
      "[5]\teval-logloss:0.35795\n",
      "[6]\teval-logloss:0.35676\n",
      "[7]\teval-logloss:0.35865\n",
      "[8]\teval-logloss:0.36003\n",
      "[9]\teval-logloss:0.36328\n"
     ]
    },
    {
     "name": "stderr",
     "output_type": "stream",
     "text": [
      "/opt/conda/lib/python3.7/site-packages/xgboost/core.py:94: UserWarning: ntree_limit is deprecated, use `iteration_range` or model slicing instead.\n",
      "  UserWarning\n",
      "[I 2023-07-25 12:45:42,235] Trial 16 finished with value: 0.8273030207770914 and parameters: {'booster': 'gbtree', 'lambda': 5.542606540411751, 'alpha': 3.034935567000695, 'max_depth': 9, 'eta': 0.9400978899294584, 'gamma': 0.24865652859245532, 'grow_policy': 'lossguide', 'min_child_weight': 4, 'scale_pos_weight': 1.024847735829706}. Best is trial 16 with value: 0.8273030207770914.\n"
     ]
    },
    {
     "name": "stdout",
     "output_type": "stream",
     "text": [
      "[0]\teval-logloss:0.58947\n",
      "[1]\teval-logloss:0.54666\n",
      "[2]\teval-logloss:0.51778\n",
      "[3]\teval-logloss:0.49325\n",
      "[4]\teval-logloss:0.47570\n",
      "[5]\teval-logloss:0.45841\n",
      "[6]\teval-logloss:0.44126\n",
      "[7]\teval-logloss:0.42931\n",
      "[8]\teval-logloss:0.42086\n",
      "[9]\teval-logloss:0.41623\n",
      "[0]\teval-logloss:0.59239\n",
      "[1]\teval-logloss:0.54978\n",
      "[2]\teval-logloss:0.51968\n",
      "[3]\teval-logloss:0.49559\n"
     ]
    },
    {
     "name": "stderr",
     "output_type": "stream",
     "text": [
      "/opt/conda/lib/python3.7/site-packages/xgboost/core.py:94: UserWarning: ntree_limit is deprecated, use `iteration_range` or model slicing instead.\n",
      "  UserWarning\n"
     ]
    },
    {
     "name": "stdout",
     "output_type": "stream",
     "text": [
      "[4]\teval-logloss:0.47058\n",
      "[5]\teval-logloss:0.45409\n",
      "[6]\teval-logloss:0.44262\n",
      "[7]\teval-logloss:0.43364\n",
      "[8]\teval-logloss:0.42638\n",
      "[9]\teval-logloss:0.41833\n",
      "[0]\teval-logloss:0.59156\n",
      "[1]\teval-logloss:0.53506\n",
      "[2]\teval-logloss:0.50641\n",
      "[3]\teval-logloss:0.48821\n"
     ]
    },
    {
     "name": "stderr",
     "output_type": "stream",
     "text": [
      "/opt/conda/lib/python3.7/site-packages/xgboost/core.py:94: UserWarning: ntree_limit is deprecated, use `iteration_range` or model slicing instead.\n",
      "  UserWarning\n"
     ]
    },
    {
     "name": "stdout",
     "output_type": "stream",
     "text": [
      "[4]\teval-logloss:0.46778\n",
      "[5]\teval-logloss:0.44949\n",
      "[6]\teval-logloss:0.43998\n",
      "[7]\teval-logloss:0.43084\n",
      "[8]\teval-logloss:0.42276\n",
      "[9]\teval-logloss:0.41880\n",
      "[0]\teval-logloss:0.58591\n",
      "[1]\teval-logloss:0.54282\n",
      "[2]\teval-logloss:0.51281\n",
      "[3]\teval-logloss:0.49409\n"
     ]
    },
    {
     "name": "stderr",
     "output_type": "stream",
     "text": [
      "/opt/conda/lib/python3.7/site-packages/xgboost/core.py:94: UserWarning: ntree_limit is deprecated, use `iteration_range` or model slicing instead.\n",
      "  UserWarning\n"
     ]
    },
    {
     "name": "stdout",
     "output_type": "stream",
     "text": [
      "[4]\teval-logloss:0.47852\n",
      "[5]\teval-logloss:0.46790\n",
      "[6]\teval-logloss:0.45810\n",
      "[7]\teval-logloss:0.45129\n",
      "[8]\teval-logloss:0.44248\n",
      "[9]\teval-logloss:0.43795\n",
      "[0]\teval-logloss:0.57906\n",
      "[1]\teval-logloss:0.53021\n",
      "[2]\teval-logloss:0.50203\n",
      "[3]\teval-logloss:0.47224\n"
     ]
    },
    {
     "name": "stderr",
     "output_type": "stream",
     "text": [
      "/opt/conda/lib/python3.7/site-packages/xgboost/core.py:94: UserWarning: ntree_limit is deprecated, use `iteration_range` or model slicing instead.\n",
      "  UserWarning\n"
     ]
    },
    {
     "name": "stdout",
     "output_type": "stream",
     "text": [
      "[4]\teval-logloss:0.45602\n",
      "[5]\teval-logloss:0.43801\n",
      "[6]\teval-logloss:0.42151\n",
      "[7]\teval-logloss:0.41663\n",
      "[8]\teval-logloss:0.40984\n",
      "[9]\teval-logloss:0.40429\n"
     ]
    },
    {
     "name": "stderr",
     "output_type": "stream",
     "text": [
      "/opt/conda/lib/python3.7/site-packages/xgboost/core.py:94: UserWarning: ntree_limit is deprecated, use `iteration_range` or model slicing instead.\n",
      "  UserWarning\n",
      "[I 2023-07-25 12:45:44,318] Trial 17 finished with value: 0.7908762700348456 and parameters: {'booster': 'gbtree', 'lambda': 7.352590437480805, 'alpha': 2.93764437198831, 'max_depth': 8, 'eta': 0.4969931605643421, 'gamma': 0.20392917608604325, 'grow_policy': 'lossguide', 'min_child_weight': 4, 'scale_pos_weight': 3.8192420314496567}. Best is trial 16 with value: 0.8273030207770914.\n"
     ]
    },
    {
     "name": "stdout",
     "output_type": "stream",
     "text": [
      "[0]\teval-logloss:0.56342\n",
      "[1]\teval-logloss:0.50484\n",
      "[2]\teval-logloss:0.46674\n",
      "[3]\teval-logloss:0.43307\n",
      "[4]\teval-logloss:0.41631\n",
      "[5]\teval-logloss:0.40606\n",
      "[6]\teval-logloss:0.39311\n",
      "[7]\teval-logloss:0.38747\n",
      "[8]\teval-logloss:0.38235\n",
      "[9]\teval-logloss:0.38024\n",
      "[0]\teval-logloss:0.54950\n",
      "[1]\teval-logloss:0.47241\n",
      "[2]\teval-logloss:0.43837\n",
      "[3]\teval-logloss:0.40260\n",
      "[4]\teval-logloss:0.38801\n"
     ]
    },
    {
     "name": "stderr",
     "output_type": "stream",
     "text": [
      "/opt/conda/lib/python3.7/site-packages/xgboost/core.py:94: UserWarning: ntree_limit is deprecated, use `iteration_range` or model slicing instead.\n",
      "  UserWarning\n"
     ]
    },
    {
     "name": "stdout",
     "output_type": "stream",
     "text": [
      "[5]\teval-logloss:0.37069\n",
      "[6]\teval-logloss:0.36167\n",
      "[7]\teval-logloss:0.35245\n",
      "[8]\teval-logloss:0.34524\n",
      "[9]\teval-logloss:0.33889\n",
      "[0]\teval-logloss:0.56095\n",
      "[1]\teval-logloss:0.49034\n",
      "[2]\teval-logloss:0.45119\n",
      "[3]\teval-logloss:0.41846\n",
      "[4]\teval-logloss:0.40085\n",
      "[5]\teval-logloss:0.38718\n"
     ]
    },
    {
     "name": "stderr",
     "output_type": "stream",
     "text": [
      "/opt/conda/lib/python3.7/site-packages/xgboost/core.py:94: UserWarning: ntree_limit is deprecated, use `iteration_range` or model slicing instead.\n",
      "  UserWarning\n"
     ]
    },
    {
     "name": "stdout",
     "output_type": "stream",
     "text": [
      "[6]\teval-logloss:0.37990\n",
      "[7]\teval-logloss:0.37118\n",
      "[8]\teval-logloss:0.36483\n",
      "[9]\teval-logloss:0.35953\n",
      "[0]\teval-logloss:0.54953\n",
      "[1]\teval-logloss:0.47879\n",
      "[2]\teval-logloss:0.42993\n",
      "[3]\teval-logloss:0.40356\n",
      "[4]\teval-logloss:0.38648\n",
      "[5]\teval-logloss:0.37439\n"
     ]
    },
    {
     "name": "stderr",
     "output_type": "stream",
     "text": [
      "/opt/conda/lib/python3.7/site-packages/xgboost/core.py:94: UserWarning: ntree_limit is deprecated, use `iteration_range` or model slicing instead.\n",
      "  UserWarning\n"
     ]
    },
    {
     "name": "stdout",
     "output_type": "stream",
     "text": [
      "[6]\teval-logloss:0.36757\n",
      "[7]\teval-logloss:0.36335\n",
      "[8]\teval-logloss:0.36070\n",
      "[9]\teval-logloss:0.36024\n",
      "[0]\teval-logloss:0.54491\n",
      "[1]\teval-logloss:0.46660\n",
      "[2]\teval-logloss:0.42325\n",
      "[3]\teval-logloss:0.38960\n",
      "[4]\teval-logloss:0.37166\n",
      "[5]\teval-logloss:0.36249\n"
     ]
    },
    {
     "name": "stderr",
     "output_type": "stream",
     "text": [
      "/opt/conda/lib/python3.7/site-packages/xgboost/core.py:94: UserWarning: ntree_limit is deprecated, use `iteration_range` or model slicing instead.\n",
      "  UserWarning\n"
     ]
    },
    {
     "name": "stdout",
     "output_type": "stream",
     "text": [
      "[6]\teval-logloss:0.34762\n",
      "[7]\teval-logloss:0.34258\n",
      "[8]\teval-logloss:0.33406\n",
      "[9]\teval-logloss:0.33058\n"
     ]
    },
    {
     "name": "stderr",
     "output_type": "stream",
     "text": [
      "/opt/conda/lib/python3.7/site-packages/xgboost/core.py:94: UserWarning: ntree_limit is deprecated, use `iteration_range` or model slicing instead.\n",
      "  UserWarning\n",
      "[I 2023-07-25 12:45:45,903] Trial 18 finished with value: 0.836590541750283 and parameters: {'booster': 'gbtree', 'lambda': 4.123776409269136, 'alpha': 1.0330237532058395, 'max_depth': 6, 'eta': 0.4239651650421416, 'gamma': 0.24603806192791097, 'grow_policy': 'lossguide', 'min_child_weight': 5, 'scale_pos_weight': 1.0510461692310542}. Best is trial 18 with value: 0.836590541750283.\n"
     ]
    },
    {
     "name": "stdout",
     "output_type": "stream",
     "text": [
      "[0]\teval-logloss:0.58016\n",
      "[1]\teval-logloss:0.52685\n",
      "[2]\teval-logloss:0.50306\n",
      "[3]\teval-logloss:0.47057\n",
      "[4]\teval-logloss:0.45337\n",
      "[5]\teval-logloss:0.43193\n",
      "[6]\teval-logloss:0.41919\n",
      "[7]\teval-logloss:0.41075\n",
      "[8]\teval-logloss:0.40486\n",
      "[9]\teval-logloss:0.40250\n",
      "[0]\teval-logloss:0.57900\n",
      "[1]\teval-logloss:0.51606\n",
      "[2]\teval-logloss:0.48014\n",
      "[3]\teval-logloss:0.45055\n",
      "[4]\teval-logloss:0.43234\n"
     ]
    },
    {
     "name": "stderr",
     "output_type": "stream",
     "text": [
      "/opt/conda/lib/python3.7/site-packages/xgboost/core.py:94: UserWarning: ntree_limit is deprecated, use `iteration_range` or model slicing instead.\n",
      "  UserWarning\n"
     ]
    },
    {
     "name": "stdout",
     "output_type": "stream",
     "text": [
      "[5]\teval-logloss:0.42050\n",
      "[6]\teval-logloss:0.41105\n",
      "[7]\teval-logloss:0.40612\n",
      "[8]\teval-logloss:0.39503\n",
      "[9]\teval-logloss:0.38939\n",
      "[0]\teval-logloss:0.58512\n",
      "[1]\teval-logloss:0.53046\n",
      "[2]\teval-logloss:0.49525\n",
      "[3]\teval-logloss:0.46933\n",
      "[4]\teval-logloss:0.44753\n",
      "[5]\teval-logloss:0.44170\n"
     ]
    },
    {
     "name": "stderr",
     "output_type": "stream",
     "text": [
      "/opt/conda/lib/python3.7/site-packages/xgboost/core.py:94: UserWarning: ntree_limit is deprecated, use `iteration_range` or model slicing instead.\n",
      "  UserWarning\n"
     ]
    },
    {
     "name": "stdout",
     "output_type": "stream",
     "text": [
      "[6]\teval-logloss:0.42883\n",
      "[7]\teval-logloss:0.41677\n",
      "[8]\teval-logloss:0.40987\n",
      "[9]\teval-logloss:0.40191\n",
      "[0]\teval-logloss:0.57268\n",
      "[1]\teval-logloss:0.51691\n",
      "[2]\teval-logloss:0.49152\n",
      "[3]\teval-logloss:0.46340\n",
      "[4]\teval-logloss:0.44801\n",
      "[5]\teval-logloss:0.43163\n"
     ]
    },
    {
     "name": "stderr",
     "output_type": "stream",
     "text": [
      "/opt/conda/lib/python3.7/site-packages/xgboost/core.py:94: UserWarning: ntree_limit is deprecated, use `iteration_range` or model slicing instead.\n",
      "  UserWarning\n"
     ]
    },
    {
     "name": "stdout",
     "output_type": "stream",
     "text": [
      "[6]\teval-logloss:0.41908\n",
      "[7]\teval-logloss:0.41084\n",
      "[8]\teval-logloss:0.40746\n",
      "[9]\teval-logloss:0.40087\n",
      "[0]\teval-logloss:0.57444\n",
      "[1]\teval-logloss:0.51537\n",
      "[2]\teval-logloss:0.48578\n",
      "[3]\teval-logloss:0.45618\n",
      "[4]\teval-logloss:0.43559\n"
     ]
    },
    {
     "name": "stderr",
     "output_type": "stream",
     "text": [
      "/opt/conda/lib/python3.7/site-packages/xgboost/core.py:94: UserWarning: ntree_limit is deprecated, use `iteration_range` or model slicing instead.\n",
      "  UserWarning\n"
     ]
    },
    {
     "name": "stdout",
     "output_type": "stream",
     "text": [
      "[5]\teval-logloss:0.41635\n",
      "[6]\teval-logloss:0.40503\n",
      "[7]\teval-logloss:0.39208\n",
      "[8]\teval-logloss:0.38875\n",
      "[9]\teval-logloss:0.38643\n"
     ]
    },
    {
     "name": "stderr",
     "output_type": "stream",
     "text": [
      "/opt/conda/lib/python3.7/site-packages/xgboost/core.py:94: UserWarning: ntree_limit is deprecated, use `iteration_range` or model slicing instead.\n",
      "  UserWarning\n",
      "[I 2023-07-25 12:45:47,503] Trial 19 finished with value: 0.8005432442243574 and parameters: {'booster': 'gbtree', 'lambda': 4.15848553311727, 'alpha': 1.1199372245871602, 'max_depth': 6, 'eta': 0.4250301883118807, 'gamma': 0.17592510381155882, 'grow_policy': 'lossguide', 'min_child_weight': 4, 'scale_pos_weight': 2.425349368328675}. Best is trial 18 with value: 0.836590541750283.\n"
     ]
    },
    {
     "name": "stdout",
     "output_type": "stream",
     "text": [
      "[0]\teval-logloss:0.63796\n",
      "[1]\teval-logloss:0.60444\n",
      "[2]\teval-logloss:0.58094\n",
      "[3]\teval-logloss:0.56440\n",
      "[4]\teval-logloss:0.55408\n",
      "[5]\teval-logloss:0.54005\n",
      "[6]\teval-logloss:0.52942\n",
      "[7]\teval-logloss:0.51920\n",
      "[8]\teval-logloss:0.51287\n",
      "[9]\teval-logloss:0.50357\n",
      "[0]\teval-logloss:0.64035\n",
      "[1]\teval-logloss:0.60861\n",
      "[2]\teval-logloss:0.58832\n",
      "[3]\teval-logloss:0.57241\n",
      "[4]\teval-logloss:0.55813\n",
      "[5]\teval-logloss:0.54689\n"
     ]
    },
    {
     "name": "stderr",
     "output_type": "stream",
     "text": [
      "/opt/conda/lib/python3.7/site-packages/xgboost/core.py:94: UserWarning: ntree_limit is deprecated, use `iteration_range` or model slicing instead.\n",
      "  UserWarning\n"
     ]
    },
    {
     "name": "stdout",
     "output_type": "stream",
     "text": [
      "[6]\teval-logloss:0.53647\n",
      "[7]\teval-logloss:0.52513\n",
      "[8]\teval-logloss:0.51541\n",
      "[9]\teval-logloss:0.50530\n",
      "[0]\teval-logloss:0.64090\n",
      "[1]\teval-logloss:0.61007\n",
      "[2]\teval-logloss:0.58603\n",
      "[3]\teval-logloss:0.57046\n",
      "[4]\teval-logloss:0.55834\n"
     ]
    },
    {
     "name": "stderr",
     "output_type": "stream",
     "text": [
      "/opt/conda/lib/python3.7/site-packages/xgboost/core.py:94: UserWarning: ntree_limit is deprecated, use `iteration_range` or model slicing instead.\n",
      "  UserWarning\n"
     ]
    },
    {
     "name": "stdout",
     "output_type": "stream",
     "text": [
      "[5]\teval-logloss:0.54228\n",
      "[6]\teval-logloss:0.52903\n",
      "[7]\teval-logloss:0.51887\n",
      "[8]\teval-logloss:0.51228\n",
      "[9]\teval-logloss:0.50177\n",
      "[0]\teval-logloss:0.63941\n",
      "[1]\teval-logloss:0.61113\n",
      "[2]\teval-logloss:0.58942\n",
      "[3]\teval-logloss:0.57262\n",
      "[4]\teval-logloss:0.56234\n"
     ]
    },
    {
     "name": "stderr",
     "output_type": "stream",
     "text": [
      "/opt/conda/lib/python3.7/site-packages/xgboost/core.py:94: UserWarning: ntree_limit is deprecated, use `iteration_range` or model slicing instead.\n",
      "  UserWarning\n"
     ]
    },
    {
     "name": "stdout",
     "output_type": "stream",
     "text": [
      "[5]\teval-logloss:0.55360\n",
      "[6]\teval-logloss:0.54257\n",
      "[7]\teval-logloss:0.53195\n",
      "[8]\teval-logloss:0.52652\n",
      "[9]\teval-logloss:0.51869\n",
      "[0]\teval-logloss:0.63791\n",
      "[1]\teval-logloss:0.60695\n",
      "[2]\teval-logloss:0.58333\n",
      "[3]\teval-logloss:0.56535\n",
      "[4]\teval-logloss:0.55021\n"
     ]
    },
    {
     "name": "stderr",
     "output_type": "stream",
     "text": [
      "/opt/conda/lib/python3.7/site-packages/xgboost/core.py:94: UserWarning: ntree_limit is deprecated, use `iteration_range` or model slicing instead.\n",
      "  UserWarning\n"
     ]
    },
    {
     "name": "stdout",
     "output_type": "stream",
     "text": [
      "[5]\teval-logloss:0.53416\n",
      "[6]\teval-logloss:0.52723\n",
      "[7]\teval-logloss:0.51446\n",
      "[8]\teval-logloss:0.50261\n",
      "[9]\teval-logloss:0.49754\n"
     ]
    },
    {
     "name": "stderr",
     "output_type": "stream",
     "text": [
      "/opt/conda/lib/python3.7/site-packages/xgboost/core.py:94: UserWarning: ntree_limit is deprecated, use `iteration_range` or model slicing instead.\n",
      "  UserWarning\n",
      "[I 2023-07-25 12:45:49,138] Trial 20 finished with value: 0.7424823386292394 and parameters: {'booster': 'gbtree', 'lambda': 3.649327462140004, 'alpha': 0.6830686376679478, 'max_depth': 6, 'eta': 0.22834108539360728, 'gamma': 0.2883150969161743, 'grow_policy': 'lossguide', 'min_child_weight': 5, 'scale_pos_weight': 4.507538724430824}. Best is trial 18 with value: 0.836590541750283.\n"
     ]
    },
    {
     "name": "stdout",
     "output_type": "stream",
     "text": [
      "[0]\teval-logloss:0.48963\n",
      "[1]\teval-logloss:0.43271\n",
      "[2]\teval-logloss:0.41225\n",
      "[3]\teval-logloss:0.41084\n",
      "[4]\teval-logloss:0.40791\n",
      "[5]\teval-logloss:0.40927\n",
      "[6]\teval-logloss:0.41429\n",
      "[7]\teval-logloss:0.41615\n",
      "[8]\teval-logloss:0.42258\n",
      "[9]\teval-logloss:0.42063\n",
      "[0]\teval-logloss:0.47031\n",
      "[1]\teval-logloss:0.40616\n",
      "[2]\teval-logloss:0.39394\n"
     ]
    },
    {
     "name": "stderr",
     "output_type": "stream",
     "text": [
      "/opt/conda/lib/python3.7/site-packages/xgboost/core.py:94: UserWarning: ntree_limit is deprecated, use `iteration_range` or model slicing instead.\n",
      "  UserWarning\n"
     ]
    },
    {
     "name": "stdout",
     "output_type": "stream",
     "text": [
      "[3]\teval-logloss:0.38191\n",
      "[4]\teval-logloss:0.37959\n",
      "[5]\teval-logloss:0.36795\n",
      "[6]\teval-logloss:0.36621\n",
      "[7]\teval-logloss:0.36448\n",
      "[8]\teval-logloss:0.36165\n",
      "[9]\teval-logloss:0.36743\n",
      "[0]\teval-logloss:0.48753\n",
      "[1]\teval-logloss:0.43192\n",
      "[2]\teval-logloss:0.42233\n",
      "[3]\teval-logloss:0.42033\n"
     ]
    },
    {
     "name": "stderr",
     "output_type": "stream",
     "text": [
      "/opt/conda/lib/python3.7/site-packages/xgboost/core.py:94: UserWarning: ntree_limit is deprecated, use `iteration_range` or model slicing instead.\n",
      "  UserWarning\n"
     ]
    },
    {
     "name": "stdout",
     "output_type": "stream",
     "text": [
      "[4]\teval-logloss:0.42020\n",
      "[5]\teval-logloss:0.42039\n",
      "[6]\teval-logloss:0.41936\n",
      "[7]\teval-logloss:0.42106\n",
      "[8]\teval-logloss:0.42025\n",
      "[9]\teval-logloss:0.42149\n",
      "[0]\teval-logloss:0.47819\n",
      "[1]\teval-logloss:0.44013\n",
      "[2]\teval-logloss:0.42534\n"
     ]
    },
    {
     "name": "stderr",
     "output_type": "stream",
     "text": [
      "/opt/conda/lib/python3.7/site-packages/xgboost/core.py:94: UserWarning: ntree_limit is deprecated, use `iteration_range` or model slicing instead.\n",
      "  UserWarning\n"
     ]
    },
    {
     "name": "stdout",
     "output_type": "stream",
     "text": [
      "[3]\teval-logloss:0.41560\n",
      "[4]\teval-logloss:0.42074\n",
      "[5]\teval-logloss:0.41957\n",
      "[6]\teval-logloss:0.41911\n",
      "[7]\teval-logloss:0.41776\n",
      "[8]\teval-logloss:0.41841\n",
      "[9]\teval-logloss:0.41877\n",
      "[0]\teval-logloss:0.46102\n",
      "[1]\teval-logloss:0.40985\n",
      "[2]\teval-logloss:0.39778\n",
      "[3]\teval-logloss:0.38941\n"
     ]
    },
    {
     "name": "stderr",
     "output_type": "stream",
     "text": [
      "/opt/conda/lib/python3.7/site-packages/xgboost/core.py:94: UserWarning: ntree_limit is deprecated, use `iteration_range` or model slicing instead.\n",
      "  UserWarning\n"
     ]
    },
    {
     "name": "stdout",
     "output_type": "stream",
     "text": [
      "[4]\teval-logloss:0.37946\n",
      "[5]\teval-logloss:0.37711\n",
      "[6]\teval-logloss:0.37653\n",
      "[7]\teval-logloss:0.37801\n",
      "[8]\teval-logloss:0.38056\n",
      "[9]\teval-logloss:0.38098\n"
     ]
    },
    {
     "name": "stderr",
     "output_type": "stream",
     "text": [
      "/opt/conda/lib/python3.7/site-packages/xgboost/core.py:94: UserWarning: ntree_limit is deprecated, use `iteration_range` or model slicing instead.\n",
      "  UserWarning\n",
      "[I 2023-07-25 12:45:51,465] Trial 21 finished with value: 0.8108582011839977 and parameters: {'booster': 'gbtree', 'lambda': 2.574630759516999, 'alpha': 3.660483326171457, 'max_depth': 9, 'eta': 0.943952495681486, 'gamma': 0.5801269607881966, 'grow_policy': 'lossguide', 'min_child_weight': 5, 'scale_pos_weight': 1.4704784251004415}. Best is trial 18 with value: 0.836590541750283.\n"
     ]
    },
    {
     "name": "stdout",
     "output_type": "stream",
     "text": [
      "[0]\teval-logloss:0.52676\n",
      "[1]\teval-logloss:0.47095\n",
      "[2]\teval-logloss:0.42230\n",
      "[3]\teval-logloss:0.40003\n",
      "[4]\teval-logloss:0.38391\n",
      "[5]\teval-logloss:0.38053\n",
      "[6]\teval-logloss:0.37764\n",
      "[7]\teval-logloss:0.37872\n",
      "[8]\teval-logloss:0.37980\n",
      "[9]\teval-logloss:0.37754\n",
      "[0]\teval-logloss:0.51129\n",
      "[1]\teval-logloss:0.43882\n",
      "[2]\teval-logloss:0.38925\n",
      "[3]\teval-logloss:0.37667\n",
      "[4]\teval-logloss:0.35827\n"
     ]
    },
    {
     "name": "stderr",
     "output_type": "stream",
     "text": [
      "/opt/conda/lib/python3.7/site-packages/xgboost/core.py:94: UserWarning: ntree_limit is deprecated, use `iteration_range` or model slicing instead.\n",
      "  UserWarning\n"
     ]
    },
    {
     "name": "stdout",
     "output_type": "stream",
     "text": [
      "[5]\teval-logloss:0.34792\n",
      "[6]\teval-logloss:0.34171\n",
      "[7]\teval-logloss:0.34015\n",
      "[8]\teval-logloss:0.33827\n",
      "[9]\teval-logloss:0.33936\n",
      "[0]\teval-logloss:0.52726\n",
      "[1]\teval-logloss:0.45919\n",
      "[2]\teval-logloss:0.42226\n",
      "[3]\teval-logloss:0.40073\n",
      "[4]\teval-logloss:0.38710\n"
     ]
    },
    {
     "name": "stderr",
     "output_type": "stream",
     "text": [
      "/opt/conda/lib/python3.7/site-packages/xgboost/core.py:94: UserWarning: ntree_limit is deprecated, use `iteration_range` or model slicing instead.\n",
      "  UserWarning\n"
     ]
    },
    {
     "name": "stdout",
     "output_type": "stream",
     "text": [
      "[5]\teval-logloss:0.37627\n",
      "[6]\teval-logloss:0.36815\n",
      "[7]\teval-logloss:0.36538\n",
      "[8]\teval-logloss:0.36598\n",
      "[9]\teval-logloss:0.36433\n",
      "[0]\teval-logloss:0.51320\n",
      "[1]\teval-logloss:0.45284\n",
      "[2]\teval-logloss:0.40488\n",
      "[3]\teval-logloss:0.38454\n",
      "[4]\teval-logloss:0.37503\n"
     ]
    },
    {
     "name": "stderr",
     "output_type": "stream",
     "text": [
      "/opt/conda/lib/python3.7/site-packages/xgboost/core.py:94: UserWarning: ntree_limit is deprecated, use `iteration_range` or model slicing instead.\n",
      "  UserWarning\n"
     ]
    },
    {
     "name": "stdout",
     "output_type": "stream",
     "text": [
      "[5]\teval-logloss:0.36709\n",
      "[6]\teval-logloss:0.36409\n",
      "[7]\teval-logloss:0.35660\n",
      "[8]\teval-logloss:0.35810\n",
      "[9]\teval-logloss:0.35758\n",
      "[0]\teval-logloss:0.51449\n",
      "[1]\teval-logloss:0.43968\n",
      "[2]\teval-logloss:0.40096\n",
      "[3]\teval-logloss:0.36995\n",
      "[4]\teval-logloss:0.35913\n"
     ]
    },
    {
     "name": "stderr",
     "output_type": "stream",
     "text": [
      "/opt/conda/lib/python3.7/site-packages/xgboost/core.py:94: UserWarning: ntree_limit is deprecated, use `iteration_range` or model slicing instead.\n",
      "  UserWarning\n"
     ]
    },
    {
     "name": "stdout",
     "output_type": "stream",
     "text": [
      "[5]\teval-logloss:0.35650\n",
      "[6]\teval-logloss:0.34646\n",
      "[7]\teval-logloss:0.34274\n",
      "[8]\teval-logloss:0.34073\n",
      "[9]\teval-logloss:0.33939\n"
     ]
    },
    {
     "name": "stderr",
     "output_type": "stream",
     "text": [
      "/opt/conda/lib/python3.7/site-packages/xgboost/core.py:94: UserWarning: ntree_limit is deprecated, use `iteration_range` or model slicing instead.\n",
      "  UserWarning\n",
      "[I 2023-07-25 12:45:53,297] Trial 22 finished with value: 0.8301945210420832 and parameters: {'booster': 'gbtree', 'lambda': 9.102764380811072, 'alpha': 1.7397874486570886, 'max_depth': 7, 'eta': 0.5918076099347276, 'gamma': 0.2868479579858885, 'grow_policy': 'lossguide', 'min_child_weight': 2, 'scale_pos_weight': 1.0242555914212643}. Best is trial 18 with value: 0.836590541750283.\n"
     ]
    },
    {
     "name": "stdout",
     "output_type": "stream",
     "text": [
      "[0]\teval-logloss:0.58541\n",
      "[1]\teval-logloss:0.52622\n",
      "[2]\teval-logloss:0.49234\n",
      "[3]\teval-logloss:0.46745\n",
      "[4]\teval-logloss:0.44662\n",
      "[5]\teval-logloss:0.43076\n",
      "[6]\teval-logloss:0.41693\n",
      "[7]\teval-logloss:0.40653\n",
      "[8]\teval-logloss:0.39666\n",
      "[9]\teval-logloss:0.39511\n",
      "[0]\teval-logloss:0.58590\n",
      "[1]\teval-logloss:0.51921\n",
      "[2]\teval-logloss:0.48173\n",
      "[3]\teval-logloss:0.45868\n"
     ]
    },
    {
     "name": "stderr",
     "output_type": "stream",
     "text": [
      "/opt/conda/lib/python3.7/site-packages/xgboost/core.py:94: UserWarning: ntree_limit is deprecated, use `iteration_range` or model slicing instead.\n",
      "  UserWarning\n"
     ]
    },
    {
     "name": "stdout",
     "output_type": "stream",
     "text": [
      "[4]\teval-logloss:0.43812\n",
      "[5]\teval-logloss:0.42138\n",
      "[6]\teval-logloss:0.40913\n",
      "[7]\teval-logloss:0.40198\n",
      "[8]\teval-logloss:0.39434\n",
      "[9]\teval-logloss:0.38535\n",
      "[0]\teval-logloss:0.58844\n",
      "[1]\teval-logloss:0.52772\n",
      "[2]\teval-logloss:0.49166\n",
      "[3]\teval-logloss:0.46571\n",
      "[4]\teval-logloss:0.44520\n"
     ]
    },
    {
     "name": "stderr",
     "output_type": "stream",
     "text": [
      "/opt/conda/lib/python3.7/site-packages/xgboost/core.py:94: UserWarning: ntree_limit is deprecated, use `iteration_range` or model slicing instead.\n",
      "  UserWarning\n"
     ]
    },
    {
     "name": "stdout",
     "output_type": "stream",
     "text": [
      "[5]\teval-logloss:0.43606\n",
      "[6]\teval-logloss:0.42004\n",
      "[7]\teval-logloss:0.41291\n",
      "[8]\teval-logloss:0.40474\n",
      "[9]\teval-logloss:0.39851\n",
      "[0]\teval-logloss:0.58121\n",
      "[1]\teval-logloss:0.52538\n",
      "[2]\teval-logloss:0.48936\n",
      "[3]\teval-logloss:0.46002\n",
      "[4]\teval-logloss:0.44046\n"
     ]
    },
    {
     "name": "stderr",
     "output_type": "stream",
     "text": [
      "/opt/conda/lib/python3.7/site-packages/xgboost/core.py:94: UserWarning: ntree_limit is deprecated, use `iteration_range` or model slicing instead.\n",
      "  UserWarning\n"
     ]
    },
    {
     "name": "stdout",
     "output_type": "stream",
     "text": [
      "[5]\teval-logloss:0.42642\n",
      "[6]\teval-logloss:0.41537\n",
      "[7]\teval-logloss:0.40483\n",
      "[8]\teval-logloss:0.39271\n",
      "[9]\teval-logloss:0.38603\n",
      "[0]\teval-logloss:0.57588\n",
      "[1]\teval-logloss:0.51184\n",
      "[2]\teval-logloss:0.46849\n",
      "[3]\teval-logloss:0.43597\n",
      "[4]\teval-logloss:0.41681\n"
     ]
    },
    {
     "name": "stderr",
     "output_type": "stream",
     "text": [
      "/opt/conda/lib/python3.7/site-packages/xgboost/core.py:94: UserWarning: ntree_limit is deprecated, use `iteration_range` or model slicing instead.\n",
      "  UserWarning\n"
     ]
    },
    {
     "name": "stdout",
     "output_type": "stream",
     "text": [
      "[5]\teval-logloss:0.40336\n",
      "[6]\teval-logloss:0.39033\n",
      "[7]\teval-logloss:0.37834\n",
      "[8]\teval-logloss:0.37372\n",
      "[9]\teval-logloss:0.37318\n"
     ]
    },
    {
     "name": "stderr",
     "output_type": "stream",
     "text": [
      "/opt/conda/lib/python3.7/site-packages/xgboost/core.py:94: UserWarning: ntree_limit is deprecated, use `iteration_range` or model slicing instead.\n",
      "  UserWarning\n",
      "[I 2023-07-25 12:45:55,140] Trial 23 finished with value: 0.8103929530613201 and parameters: {'booster': 'gbtree', 'lambda': 7.971892861696217, 'alpha': 1.6077888156641933, 'max_depth': 7, 'eta': 0.380046372526687, 'gamma': 0.2719599848663099, 'grow_policy': 'lossguide', 'min_child_weight': 2, 'scale_pos_weight': 2.2276495756793313}. Best is trial 18 with value: 0.836590541750283.\n"
     ]
    },
    {
     "name": "stdout",
     "output_type": "stream",
     "text": [
      "[0]\teval-logloss:0.57121\n",
      "[1]\teval-logloss:0.52855\n",
      "[2]\teval-logloss:0.49376\n",
      "[3]\teval-logloss:0.47359\n",
      "[4]\teval-logloss:0.45836\n",
      "[5]\teval-logloss:0.45382\n",
      "[6]\teval-logloss:0.43387\n",
      "[7]\teval-logloss:0.42797\n",
      "[8]\teval-logloss:0.42591\n",
      "[9]\teval-logloss:0.42443\n",
      "[0]\teval-logloss:0.57326\n",
      "[1]\teval-logloss:0.52131\n",
      "[2]\teval-logloss:0.48365\n",
      "[3]\teval-logloss:0.45924\n",
      "[4]\teval-logloss:0.44430\n",
      "[5]\teval-logloss:0.43736\n"
     ]
    },
    {
     "name": "stderr",
     "output_type": "stream",
     "text": [
      "/opt/conda/lib/python3.7/site-packages/xgboost/core.py:94: UserWarning: ntree_limit is deprecated, use `iteration_range` or model slicing instead.\n",
      "  UserWarning\n"
     ]
    },
    {
     "name": "stdout",
     "output_type": "stream",
     "text": [
      "[6]\teval-logloss:0.43457\n",
      "[7]\teval-logloss:0.42906\n",
      "[8]\teval-logloss:0.42828\n",
      "[9]\teval-logloss:0.42030\n",
      "[0]\teval-logloss:0.57962\n",
      "[1]\teval-logloss:0.53278\n",
      "[2]\teval-logloss:0.50301\n",
      "[3]\teval-logloss:0.48127\n",
      "[4]\teval-logloss:0.46911\n",
      "[5]\teval-logloss:0.45806\n"
     ]
    },
    {
     "name": "stderr",
     "output_type": "stream",
     "text": [
      "/opt/conda/lib/python3.7/site-packages/xgboost/core.py:94: UserWarning: ntree_limit is deprecated, use `iteration_range` or model slicing instead.\n",
      "  UserWarning\n"
     ]
    },
    {
     "name": "stdout",
     "output_type": "stream",
     "text": [
      "[6]\teval-logloss:0.45392\n",
      "[7]\teval-logloss:0.45072\n",
      "[8]\teval-logloss:0.44609\n",
      "[9]\teval-logloss:0.44051\n",
      "[0]\teval-logloss:0.57363\n",
      "[1]\teval-logloss:0.51184\n",
      "[2]\teval-logloss:0.50460\n",
      "[3]\teval-logloss:0.47497\n",
      "[4]\teval-logloss:0.45930\n",
      "[5]\teval-logloss:0.45404\n"
     ]
    },
    {
     "name": "stderr",
     "output_type": "stream",
     "text": [
      "/opt/conda/lib/python3.7/site-packages/xgboost/core.py:94: UserWarning: ntree_limit is deprecated, use `iteration_range` or model slicing instead.\n",
      "  UserWarning\n"
     ]
    },
    {
     "name": "stdout",
     "output_type": "stream",
     "text": [
      "[6]\teval-logloss:0.44951\n",
      "[7]\teval-logloss:0.44667\n",
      "[8]\teval-logloss:0.44001\n",
      "[9]\teval-logloss:0.43863\n",
      "[0]\teval-logloss:0.56050\n",
      "[1]\teval-logloss:0.51336\n",
      "[2]\teval-logloss:0.49859\n",
      "[3]\teval-logloss:0.46899\n",
      "[4]\teval-logloss:0.44336\n"
     ]
    },
    {
     "name": "stderr",
     "output_type": "stream",
     "text": [
      "/opt/conda/lib/python3.7/site-packages/xgboost/core.py:94: UserWarning: ntree_limit is deprecated, use `iteration_range` or model slicing instead.\n",
      "  UserWarning\n"
     ]
    },
    {
     "name": "stdout",
     "output_type": "stream",
     "text": [
      "[5]\teval-logloss:0.43492\n",
      "[6]\teval-logloss:0.42408\n",
      "[7]\teval-logloss:0.41925\n",
      "[8]\teval-logloss:0.41702\n",
      "[9]\teval-logloss:0.41772\n"
     ]
    },
    {
     "name": "stderr",
     "output_type": "stream",
     "text": [
      "/opt/conda/lib/python3.7/site-packages/xgboost/core.py:94: UserWarning: ntree_limit is deprecated, use `iteration_range` or model slicing instead.\n",
      "  UserWarning\n",
      "[I 2023-07-25 12:45:56,727] Trial 24 finished with value: 0.7858258355306563 and parameters: {'booster': 'gbtree', 'lambda': 4.538704942389228, 'alpha': 1.4540970988704218, 'max_depth': 6, 'eta': 0.604592284139205, 'gamma': 0.15323320791655598, 'grow_policy': 'lossguide', 'min_child_weight': 4, 'scale_pos_weight': 3.3330141469933023}. Best is trial 18 with value: 0.836590541750283.\n"
     ]
    },
    {
     "name": "stdout",
     "output_type": "stream",
     "text": [
      "[0]\teval-logloss:0.55293\n",
      "[1]\teval-logloss:0.49206\n",
      "[2]\teval-logloss:0.45385\n",
      "[3]\teval-logloss:0.42258\n",
      "[4]\teval-logloss:0.40713\n",
      "[5]\teval-logloss:0.39817\n",
      "[6]\teval-logloss:0.39003\n",
      "[7]\teval-logloss:0.38386\n",
      "[8]\teval-logloss:0.37828\n",
      "[9]\teval-logloss:0.37290\n",
      "[0]\teval-logloss:0.53957\n",
      "[1]\teval-logloss:0.46176\n",
      "[2]\teval-logloss:0.42704\n",
      "[3]\teval-logloss:0.39790\n"
     ]
    },
    {
     "name": "stderr",
     "output_type": "stream",
     "text": [
      "/opt/conda/lib/python3.7/site-packages/xgboost/core.py:94: UserWarning: ntree_limit is deprecated, use `iteration_range` or model slicing instead.\n",
      "  UserWarning\n"
     ]
    },
    {
     "name": "stdout",
     "output_type": "stream",
     "text": [
      "[4]\teval-logloss:0.37768\n",
      "[5]\teval-logloss:0.36581\n",
      "[6]\teval-logloss:0.35492\n",
      "[7]\teval-logloss:0.34801\n",
      "[8]\teval-logloss:0.34762\n",
      "[9]\teval-logloss:0.34371\n",
      "[0]\teval-logloss:0.54910\n",
      "[1]\teval-logloss:0.47675\n",
      "[2]\teval-logloss:0.43857\n",
      "[3]\teval-logloss:0.41843\n"
     ]
    },
    {
     "name": "stderr",
     "output_type": "stream",
     "text": [
      "/opt/conda/lib/python3.7/site-packages/xgboost/core.py:94: UserWarning: ntree_limit is deprecated, use `iteration_range` or model slicing instead.\n",
      "  UserWarning\n"
     ]
    },
    {
     "name": "stdout",
     "output_type": "stream",
     "text": [
      "[4]\teval-logloss:0.39415\n",
      "[5]\teval-logloss:0.38155\n",
      "[6]\teval-logloss:0.37218\n",
      "[7]\teval-logloss:0.36462\n",
      "[8]\teval-logloss:0.35999\n",
      "[9]\teval-logloss:0.35644\n",
      "[0]\teval-logloss:0.54115\n",
      "[1]\teval-logloss:0.47324\n",
      "[2]\teval-logloss:0.43992\n",
      "[3]\teval-logloss:0.40957\n"
     ]
    },
    {
     "name": "stderr",
     "output_type": "stream",
     "text": [
      "/opt/conda/lib/python3.7/site-packages/xgboost/core.py:94: UserWarning: ntree_limit is deprecated, use `iteration_range` or model slicing instead.\n",
      "  UserWarning\n"
     ]
    },
    {
     "name": "stdout",
     "output_type": "stream",
     "text": [
      "[4]\teval-logloss:0.39098\n",
      "[5]\teval-logloss:0.37993\n",
      "[6]\teval-logloss:0.36997\n",
      "[7]\teval-logloss:0.36205\n",
      "[8]\teval-logloss:0.35953\n",
      "[9]\teval-logloss:0.35695\n",
      "[0]\teval-logloss:0.53905\n",
      "[1]\teval-logloss:0.46373\n",
      "[2]\teval-logloss:0.41158\n",
      "[3]\teval-logloss:0.38539\n"
     ]
    },
    {
     "name": "stderr",
     "output_type": "stream",
     "text": [
      "/opt/conda/lib/python3.7/site-packages/xgboost/core.py:94: UserWarning: ntree_limit is deprecated, use `iteration_range` or model slicing instead.\n",
      "  UserWarning\n"
     ]
    },
    {
     "name": "stdout",
     "output_type": "stream",
     "text": [
      "[4]\teval-logloss:0.36812\n",
      "[5]\teval-logloss:0.35668\n",
      "[6]\teval-logloss:0.34788\n",
      "[7]\teval-logloss:0.34268\n",
      "[8]\teval-logloss:0.33670\n",
      "[9]\teval-logloss:0.33350\n"
     ]
    },
    {
     "name": "stderr",
     "output_type": "stream",
     "text": [
      "/opt/conda/lib/python3.7/site-packages/xgboost/core.py:94: UserWarning: ntree_limit is deprecated, use `iteration_range` or model slicing instead.\n",
      "  UserWarning\n",
      "[I 2023-07-25 12:45:58,787] Trial 25 finished with value: 0.8354733882937646 and parameters: {'booster': 'gbtree', 'lambda': 9.943829812402033, 'alpha': 0.6273583442858472, 'max_depth': 8, 'eta': 0.4604193507980334, 'gamma': 0.22853076984320644, 'grow_policy': 'lossguide', 'min_child_weight': 2, 'scale_pos_weight': 1.0024464051302513}. Best is trial 18 with value: 0.836590541750283.\n"
     ]
    },
    {
     "name": "stdout",
     "output_type": "stream",
     "text": [
      "[0]\teval-logloss:0.62851\n",
      "[1]\teval-logloss:0.58119\n",
      "[2]\teval-logloss:0.54564\n",
      "[3]\teval-logloss:0.51804\n",
      "[4]\teval-logloss:0.49677\n",
      "[5]\teval-logloss:0.47887\n",
      "[6]\teval-logloss:0.46595\n",
      "[7]\teval-logloss:0.45057\n",
      "[8]\teval-logloss:0.43818\n",
      "[9]\teval-logloss:0.42628\n",
      "[0]\teval-logloss:0.62465\n",
      "[1]\teval-logloss:0.57506\n",
      "[2]\teval-logloss:0.53543\n",
      "[3]\teval-logloss:0.50588\n"
     ]
    },
    {
     "name": "stderr",
     "output_type": "stream",
     "text": [
      "/opt/conda/lib/python3.7/site-packages/xgboost/core.py:94: UserWarning: ntree_limit is deprecated, use `iteration_range` or model slicing instead.\n",
      "  UserWarning\n"
     ]
    },
    {
     "name": "stdout",
     "output_type": "stream",
     "text": [
      "[4]\teval-logloss:0.48114\n",
      "[5]\teval-logloss:0.46067\n",
      "[6]\teval-logloss:0.44646\n",
      "[7]\teval-logloss:0.43052\n",
      "[8]\teval-logloss:0.41961\n",
      "[9]\teval-logloss:0.40727\n",
      "[0]\teval-logloss:0.62711\n",
      "[1]\teval-logloss:0.57929\n",
      "[2]\teval-logloss:0.54692\n",
      "[3]\teval-logloss:0.51693\n",
      "[4]\teval-logloss:0.49407\n"
     ]
    },
    {
     "name": "stderr",
     "output_type": "stream",
     "text": [
      "/opt/conda/lib/python3.7/site-packages/xgboost/core.py:94: UserWarning: ntree_limit is deprecated, use `iteration_range` or model slicing instead.\n",
      "  UserWarning\n"
     ]
    },
    {
     "name": "stdout",
     "output_type": "stream",
     "text": [
      "[5]\teval-logloss:0.47507\n",
      "[6]\teval-logloss:0.45934\n",
      "[7]\teval-logloss:0.44903\n",
      "[8]\teval-logloss:0.43762\n",
      "[9]\teval-logloss:0.42519\n",
      "[0]\teval-logloss:0.62595\n",
      "[1]\teval-logloss:0.58176\n",
      "[2]\teval-logloss:0.54399\n",
      "[3]\teval-logloss:0.51648\n",
      "[4]\teval-logloss:0.49487\n"
     ]
    },
    {
     "name": "stderr",
     "output_type": "stream",
     "text": [
      "/opt/conda/lib/python3.7/site-packages/xgboost/core.py:94: UserWarning: ntree_limit is deprecated, use `iteration_range` or model slicing instead.\n",
      "  UserWarning\n"
     ]
    },
    {
     "name": "stdout",
     "output_type": "stream",
     "text": [
      "[5]\teval-logloss:0.47793\n",
      "[6]\teval-logloss:0.46329\n",
      "[7]\teval-logloss:0.44894\n",
      "[8]\teval-logloss:0.43686\n",
      "[9]\teval-logloss:0.42837\n",
      "[0]\teval-logloss:0.62226\n",
      "[1]\teval-logloss:0.57354\n",
      "[2]\teval-logloss:0.53234\n",
      "[3]\teval-logloss:0.50264\n"
     ]
    },
    {
     "name": "stderr",
     "output_type": "stream",
     "text": [
      "/opt/conda/lib/python3.7/site-packages/xgboost/core.py:94: UserWarning: ntree_limit is deprecated, use `iteration_range` or model slicing instead.\n",
      "  UserWarning\n"
     ]
    },
    {
     "name": "stdout",
     "output_type": "stream",
     "text": [
      "[4]\teval-logloss:0.47833\n",
      "[5]\teval-logloss:0.45631\n",
      "[6]\teval-logloss:0.43590\n",
      "[7]\teval-logloss:0.42332\n",
      "[8]\teval-logloss:0.41328\n",
      "[9]\teval-logloss:0.40508\n"
     ]
    },
    {
     "name": "stderr",
     "output_type": "stream",
     "text": [
      "/opt/conda/lib/python3.7/site-packages/xgboost/core.py:94: UserWarning: ntree_limit is deprecated, use `iteration_range` or model slicing instead.\n",
      "  UserWarning\n",
      "[I 2023-07-25 12:46:00,624] Trial 26 finished with value: 0.8159355633534762 and parameters: {'booster': 'gbtree', 'lambda': 9.308514681074985, 'alpha': 0.18589419989831016, 'max_depth': 7, 'eta': 0.20300552388377488, 'gamma': 0.17551665034030234, 'grow_policy': 'depthwise', 'min_child_weight': 2, 'scale_pos_weight': 2.014974829329518}. Best is trial 18 with value: 0.836590541750283.\n"
     ]
    },
    {
     "name": "stdout",
     "output_type": "stream",
     "text": [
      "[0]\teval-logloss:0.59044\n",
      "[1]\teval-logloss:0.53379\n",
      "[2]\teval-logloss:0.50879\n",
      "[3]\teval-logloss:0.47064\n",
      "[4]\teval-logloss:0.45306\n",
      "[5]\teval-logloss:0.43769\n",
      "[6]\teval-logloss:0.43065\n",
      "[7]\teval-logloss:0.41964\n",
      "[8]\teval-logloss:0.41090\n",
      "[9]\teval-logloss:0.40357\n",
      "[0]\teval-logloss:0.59060\n",
      "[1]\teval-logloss:0.53385\n",
      "[2]\teval-logloss:0.49796\n",
      "[3]\teval-logloss:0.46732\n"
     ]
    },
    {
     "name": "stderr",
     "output_type": "stream",
     "text": [
      "/opt/conda/lib/python3.7/site-packages/xgboost/core.py:94: UserWarning: ntree_limit is deprecated, use `iteration_range` or model slicing instead.\n",
      "  UserWarning\n"
     ]
    },
    {
     "name": "stdout",
     "output_type": "stream",
     "text": [
      "[4]\teval-logloss:0.44528\n",
      "[5]\teval-logloss:0.42842\n",
      "[6]\teval-logloss:0.41173\n",
      "[7]\teval-logloss:0.40329\n",
      "[8]\teval-logloss:0.39521\n",
      "[9]\teval-logloss:0.38815\n",
      "[0]\teval-logloss:0.59387\n",
      "[1]\teval-logloss:0.53629\n",
      "[2]\teval-logloss:0.49794\n",
      "[3]\teval-logloss:0.47472\n"
     ]
    },
    {
     "name": "stderr",
     "output_type": "stream",
     "text": [
      "/opt/conda/lib/python3.7/site-packages/xgboost/core.py:94: UserWarning: ntree_limit is deprecated, use `iteration_range` or model slicing instead.\n",
      "  UserWarning\n"
     ]
    },
    {
     "name": "stdout",
     "output_type": "stream",
     "text": [
      "[4]\teval-logloss:0.45557\n",
      "[5]\teval-logloss:0.43663\n",
      "[6]\teval-logloss:0.42462\n",
      "[7]\teval-logloss:0.41764\n",
      "[8]\teval-logloss:0.40808\n",
      "[9]\teval-logloss:0.40230\n",
      "[0]\teval-logloss:0.58405\n",
      "[1]\teval-logloss:0.53136\n",
      "[2]\teval-logloss:0.49529\n",
      "[3]\teval-logloss:0.47025\n"
     ]
    },
    {
     "name": "stderr",
     "output_type": "stream",
     "text": [
      "/opt/conda/lib/python3.7/site-packages/xgboost/core.py:94: UserWarning: ntree_limit is deprecated, use `iteration_range` or model slicing instead.\n",
      "  UserWarning\n"
     ]
    },
    {
     "name": "stdout",
     "output_type": "stream",
     "text": [
      "[4]\teval-logloss:0.45511\n",
      "[5]\teval-logloss:0.44049\n",
      "[6]\teval-logloss:0.42957\n",
      "[7]\teval-logloss:0.41937\n",
      "[8]\teval-logloss:0.40661\n",
      "[9]\teval-logloss:0.39766\n",
      "[0]\teval-logloss:0.58331\n",
      "[1]\teval-logloss:0.52158\n",
      "[2]\teval-logloss:0.48094\n",
      "[3]\teval-logloss:0.45660\n"
     ]
    },
    {
     "name": "stderr",
     "output_type": "stream",
     "text": [
      "/opt/conda/lib/python3.7/site-packages/xgboost/core.py:94: UserWarning: ntree_limit is deprecated, use `iteration_range` or model slicing instead.\n",
      "  UserWarning\n"
     ]
    },
    {
     "name": "stdout",
     "output_type": "stream",
     "text": [
      "[4]\teval-logloss:0.43290\n",
      "[5]\teval-logloss:0.41142\n",
      "[6]\teval-logloss:0.39652\n",
      "[7]\teval-logloss:0.38837\n",
      "[8]\teval-logloss:0.37667\n",
      "[9]\teval-logloss:0.36950\n"
     ]
    },
    {
     "name": "stderr",
     "output_type": "stream",
     "text": [
      "/opt/conda/lib/python3.7/site-packages/xgboost/core.py:94: UserWarning: ntree_limit is deprecated, use `iteration_range` or model slicing instead.\n",
      "  UserWarning\n",
      "[I 2023-07-25 12:46:02,722] Trial 27 finished with value: 0.8118406027874154 and parameters: {'booster': 'gbtree', 'lambda': 2.9306747509451894, 'alpha': 0.6402294318093619, 'max_depth': 8, 'eta': 0.34958484576229387, 'gamma': 0.33355247034291446, 'grow_policy': 'lossguide', 'min_child_weight': 2, 'scale_pos_weight': 2.784578191483152}. Best is trial 18 with value: 0.836590541750283.\n"
     ]
    },
    {
     "name": "stdout",
     "output_type": "stream",
     "text": [
      "[0]\teval-logloss:0.56531\n",
      "[1]\teval-logloss:0.50283\n",
      "[2]\teval-logloss:0.46167\n",
      "[3]\teval-logloss:0.44362\n",
      "[4]\teval-logloss:0.42238\n",
      "[5]\teval-logloss:0.41124\n",
      "[6]\teval-logloss:0.40031\n",
      "[7]\teval-logloss:0.39243\n",
      "[8]\teval-logloss:0.38928\n",
      "[9]\teval-logloss:0.38937\n",
      "[0]\teval-logloss:0.55589\n",
      "[1]\teval-logloss:0.49088\n",
      "[2]\teval-logloss:0.45959\n",
      "[3]\teval-logloss:0.42845\n",
      "[4]\teval-logloss:0.40958\n"
     ]
    },
    {
     "name": "stderr",
     "output_type": "stream",
     "text": [
      "/opt/conda/lib/python3.7/site-packages/xgboost/core.py:94: UserWarning: ntree_limit is deprecated, use `iteration_range` or model slicing instead.\n",
      "  UserWarning\n"
     ]
    },
    {
     "name": "stdout",
     "output_type": "stream",
     "text": [
      "[5]\teval-logloss:0.39473\n",
      "[6]\teval-logloss:0.38382\n",
      "[7]\teval-logloss:0.37258\n",
      "[8]\teval-logloss:0.36910\n",
      "[9]\teval-logloss:0.36283\n",
      "[0]\teval-logloss:0.56135\n",
      "[1]\teval-logloss:0.50153\n",
      "[2]\teval-logloss:0.46482\n",
      "[3]\teval-logloss:0.43219\n",
      "[4]\teval-logloss:0.40969\n"
     ]
    },
    {
     "name": "stderr",
     "output_type": "stream",
     "text": [
      "/opt/conda/lib/python3.7/site-packages/xgboost/core.py:94: UserWarning: ntree_limit is deprecated, use `iteration_range` or model slicing instead.\n",
      "  UserWarning\n"
     ]
    },
    {
     "name": "stdout",
     "output_type": "stream",
     "text": [
      "[5]\teval-logloss:0.39873\n",
      "[6]\teval-logloss:0.38845\n",
      "[7]\teval-logloss:0.38576\n",
      "[8]\teval-logloss:0.37788\n",
      "[9]\teval-logloss:0.37261\n",
      "[0]\teval-logloss:0.56422\n",
      "[1]\teval-logloss:0.50499\n",
      "[2]\teval-logloss:0.46237\n",
      "[3]\teval-logloss:0.43718\n",
      "[4]\teval-logloss:0.42077\n"
     ]
    },
    {
     "name": "stderr",
     "output_type": "stream",
     "text": [
      "/opt/conda/lib/python3.7/site-packages/xgboost/core.py:94: UserWarning: ntree_limit is deprecated, use `iteration_range` or model slicing instead.\n",
      "  UserWarning\n"
     ]
    },
    {
     "name": "stdout",
     "output_type": "stream",
     "text": [
      "[5]\teval-logloss:0.40767\n",
      "[6]\teval-logloss:0.39651\n",
      "[7]\teval-logloss:0.38739\n",
      "[8]\teval-logloss:0.38051\n",
      "[9]\teval-logloss:0.38399\n",
      "[0]\teval-logloss:0.55973\n",
      "[1]\teval-logloss:0.49154\n",
      "[2]\teval-logloss:0.44591\n",
      "[3]\teval-logloss:0.41838\n",
      "[4]\teval-logloss:0.39948\n"
     ]
    },
    {
     "name": "stderr",
     "output_type": "stream",
     "text": [
      "/opt/conda/lib/python3.7/site-packages/xgboost/core.py:94: UserWarning: ntree_limit is deprecated, use `iteration_range` or model slicing instead.\n",
      "  UserWarning\n"
     ]
    },
    {
     "name": "stdout",
     "output_type": "stream",
     "text": [
      "[5]\teval-logloss:0.38770\n",
      "[6]\teval-logloss:0.37376\n",
      "[7]\teval-logloss:0.36936\n",
      "[8]\teval-logloss:0.36721\n",
      "[9]\teval-logloss:0.36169\n"
     ]
    },
    {
     "name": "stderr",
     "output_type": "stream",
     "text": [
      "/opt/conda/lib/python3.7/site-packages/xgboost/core.py:94: UserWarning: ntree_limit is deprecated, use `iteration_range` or model slicing instead.\n",
      "  UserWarning\n",
      "[I 2023-07-25 12:46:04,343] Trial 28 finished with value: 0.8210753229992698 and parameters: {'booster': 'gbtree', 'lambda': 9.954334882125698, 'alpha': 0.21557257794462112, 'max_depth': 6, 'eta': 0.46297482887488517, 'gamma': 0.09854574305817143, 'grow_policy': 'lossguide', 'min_child_weight': 2, 'scale_pos_weight': 1.8199808895825609}. Best is trial 18 with value: 0.836590541750283.\n"
     ]
    },
    {
     "name": "stdout",
     "output_type": "stream",
     "text": [
      "[0]\teval-logloss:0.61413\n",
      "[1]\teval-logloss:0.56162\n",
      "[2]\teval-logloss:0.52969\n",
      "[3]\teval-logloss:0.50250\n",
      "[4]\teval-logloss:0.47824\n",
      "[5]\teval-logloss:0.45916\n",
      "[6]\teval-logloss:0.43992\n",
      "[7]\teval-logloss:0.43191\n",
      "[8]\teval-logloss:0.42440\n",
      "[9]\teval-logloss:0.41429\n",
      "[0]\teval-logloss:0.60827\n",
      "[1]\teval-logloss:0.55845\n",
      "[2]\teval-logloss:0.52307\n",
      "[3]\teval-logloss:0.49282\n",
      "[4]\teval-logloss:0.47240\n",
      "[5]\teval-logloss:0.44997\n",
      "[6]\teval-logloss:0.43481\n",
      "[7]\teval-logloss:0.42374\n"
     ]
    },
    {
     "name": "stderr",
     "output_type": "stream",
     "text": [
      "/opt/conda/lib/python3.7/site-packages/xgboost/core.py:94: UserWarning: ntree_limit is deprecated, use `iteration_range` or model slicing instead.\n",
      "  UserWarning\n"
     ]
    },
    {
     "name": "stdout",
     "output_type": "stream",
     "text": [
      "[8]\teval-logloss:0.41376\n",
      "[9]\teval-logloss:0.40154\n",
      "[0]\teval-logloss:0.61443\n",
      "[1]\teval-logloss:0.56635\n",
      "[2]\teval-logloss:0.52974\n",
      "[3]\teval-logloss:0.49987\n",
      "[4]\teval-logloss:0.48334\n",
      "[5]\teval-logloss:0.46217\n",
      "[6]\teval-logloss:0.44502\n",
      "[7]\teval-logloss:0.43053\n"
     ]
    },
    {
     "name": "stderr",
     "output_type": "stream",
     "text": [
      "/opt/conda/lib/python3.7/site-packages/xgboost/core.py:94: UserWarning: ntree_limit is deprecated, use `iteration_range` or model slicing instead.\n",
      "  UserWarning\n"
     ]
    },
    {
     "name": "stdout",
     "output_type": "stream",
     "text": [
      "[8]\teval-logloss:0.42377\n",
      "[9]\teval-logloss:0.41733\n",
      "[0]\teval-logloss:0.61108\n",
      "[1]\teval-logloss:0.56013\n",
      "[2]\teval-logloss:0.52110\n",
      "[3]\teval-logloss:0.49335\n",
      "[4]\teval-logloss:0.47522\n",
      "[5]\teval-logloss:0.45800\n",
      "[6]\teval-logloss:0.44673\n",
      "[7]\teval-logloss:0.44213\n"
     ]
    },
    {
     "name": "stderr",
     "output_type": "stream",
     "text": [
      "/opt/conda/lib/python3.7/site-packages/xgboost/core.py:94: UserWarning: ntree_limit is deprecated, use `iteration_range` or model slicing instead.\n",
      "  UserWarning\n"
     ]
    },
    {
     "name": "stdout",
     "output_type": "stream",
     "text": [
      "[8]\teval-logloss:0.43061\n",
      "[9]\teval-logloss:0.41573\n",
      "[0]\teval-logloss:0.60966\n",
      "[1]\teval-logloss:0.55732\n",
      "[2]\teval-logloss:0.51471\n",
      "[3]\teval-logloss:0.48486\n",
      "[4]\teval-logloss:0.46838\n",
      "[5]\teval-logloss:0.45464\n",
      "[6]\teval-logloss:0.43888\n",
      "[7]\teval-logloss:0.42730\n"
     ]
    },
    {
     "name": "stderr",
     "output_type": "stream",
     "text": [
      "/opt/conda/lib/python3.7/site-packages/xgboost/core.py:94: UserWarning: ntree_limit is deprecated, use `iteration_range` or model slicing instead.\n",
      "  UserWarning\n"
     ]
    },
    {
     "name": "stdout",
     "output_type": "stream",
     "text": [
      "[8]\teval-logloss:0.41217\n",
      "[9]\teval-logloss:0.39857\n"
     ]
    },
    {
     "name": "stderr",
     "output_type": "stream",
     "text": [
      "/opt/conda/lib/python3.7/site-packages/xgboost/core.py:94: UserWarning: ntree_limit is deprecated, use `iteration_range` or model slicing instead.\n",
      "  UserWarning\n",
      "[I 2023-07-25 12:46:05,529] Trial 29 finished with value: 0.8176586800744742 and parameters: {'booster': 'gbtree', 'lambda': 1.799381893284382, 'alpha': 0.9504883735529773, 'max_depth': 4, 'eta': 0.2757776474277918, 'gamma': 0.6003437500019311, 'grow_policy': 'lossguide', 'min_child_weight': 5, 'scale_pos_weight': 1.707898990334853}. Best is trial 18 with value: 0.836590541750283.\n"
     ]
    },
    {
     "name": "stdout",
     "output_type": "stream",
     "text": [
      "[0]\teval-logloss:0.63934\n",
      "[1]\teval-logloss:0.59829\n",
      "[2]\teval-logloss:0.56313\n",
      "[3]\teval-logloss:0.53610\n",
      "[4]\teval-logloss:0.51396\n",
      "[5]\teval-logloss:0.49533\n",
      "[6]\teval-logloss:0.47910\n",
      "[7]\teval-logloss:0.46430\n",
      "[8]\teval-logloss:0.45272\n",
      "[9]\teval-logloss:0.43997\n",
      "[0]\teval-logloss:0.63617\n",
      "[1]\teval-logloss:0.59125\n",
      "[2]\teval-logloss:0.55401\n",
      "[3]\teval-logloss:0.52477\n"
     ]
    },
    {
     "name": "stderr",
     "output_type": "stream",
     "text": [
      "/opt/conda/lib/python3.7/site-packages/xgboost/core.py:94: UserWarning: ntree_limit is deprecated, use `iteration_range` or model slicing instead.\n",
      "  UserWarning\n"
     ]
    },
    {
     "name": "stdout",
     "output_type": "stream",
     "text": [
      "[4]\teval-logloss:0.49988\n",
      "[5]\teval-logloss:0.47903\n",
      "[6]\teval-logloss:0.46053\n",
      "[7]\teval-logloss:0.44455\n",
      "[8]\teval-logloss:0.43200\n",
      "[9]\teval-logloss:0.41779\n",
      "[0]\teval-logloss:0.63955\n",
      "[1]\teval-logloss:0.59545\n",
      "[2]\teval-logloss:0.56271\n",
      "[3]\teval-logloss:0.53516\n"
     ]
    },
    {
     "name": "stderr",
     "output_type": "stream",
     "text": [
      "/opt/conda/lib/python3.7/site-packages/xgboost/core.py:94: UserWarning: ntree_limit is deprecated, use `iteration_range` or model slicing instead.\n",
      "  UserWarning\n"
     ]
    },
    {
     "name": "stdout",
     "output_type": "stream",
     "text": [
      "[4]\teval-logloss:0.51257\n",
      "[5]\teval-logloss:0.49282\n",
      "[6]\teval-logloss:0.47648\n",
      "[7]\teval-logloss:0.46238\n",
      "[8]\teval-logloss:0.45012\n",
      "[9]\teval-logloss:0.43838\n",
      "[0]\teval-logloss:0.63625\n",
      "[1]\teval-logloss:0.59350\n",
      "[2]\teval-logloss:0.55834\n",
      "[3]\teval-logloss:0.52774\n",
      "[4]\teval-logloss:0.50237\n"
     ]
    },
    {
     "name": "stderr",
     "output_type": "stream",
     "text": [
      "/opt/conda/lib/python3.7/site-packages/xgboost/core.py:94: UserWarning: ntree_limit is deprecated, use `iteration_range` or model slicing instead.\n",
      "  UserWarning\n"
     ]
    },
    {
     "name": "stdout",
     "output_type": "stream",
     "text": [
      "[5]\teval-logloss:0.48195\n",
      "[6]\teval-logloss:0.46486\n",
      "[7]\teval-logloss:0.45151\n",
      "[8]\teval-logloss:0.43751\n",
      "[9]\teval-logloss:0.42717\n",
      "[0]\teval-logloss:0.63731\n",
      "[1]\teval-logloss:0.59235\n",
      "[2]\teval-logloss:0.55573\n",
      "[3]\teval-logloss:0.52439\n"
     ]
    },
    {
     "name": "stderr",
     "output_type": "stream",
     "text": [
      "/opt/conda/lib/python3.7/site-packages/xgboost/core.py:94: UserWarning: ntree_limit is deprecated, use `iteration_range` or model slicing instead.\n",
      "  UserWarning\n"
     ]
    },
    {
     "name": "stdout",
     "output_type": "stream",
     "text": [
      "[4]\teval-logloss:0.49721\n",
      "[5]\teval-logloss:0.47699\n",
      "[6]\teval-logloss:0.45764\n",
      "[7]\teval-logloss:0.43954\n",
      "[8]\teval-logloss:0.42296\n",
      "[9]\teval-logloss:0.41186\n"
     ]
    },
    {
     "name": "stderr",
     "output_type": "stream",
     "text": [
      "/opt/conda/lib/python3.7/site-packages/xgboost/core.py:94: UserWarning: ntree_limit is deprecated, use `iteration_range` or model slicing instead.\n",
      "  UserWarning\n",
      "[I 2023-07-25 12:46:07,413] Trial 30 finished with value: 0.8219209443150198 and parameters: {'booster': 'gbtree', 'lambda': 5.899274780004067, 'alpha': 0.8837017681257234, 'max_depth': 7, 'eta': 0.14130864421664857, 'gamma': 0.3824907451983287, 'grow_policy': 'lossguide', 'min_child_weight': 1, 'scale_pos_weight': 1.1082372252222177}. Best is trial 18 with value: 0.836590541750283.\n"
     ]
    },
    {
     "name": "stdout",
     "output_type": "stream",
     "text": [
      "[0]\teval-logloss:0.51437\n",
      "[1]\teval-logloss:0.46394\n",
      "[2]\teval-logloss:0.42606\n",
      "[3]\teval-logloss:0.40357\n",
      "[4]\teval-logloss:0.38769\n",
      "[5]\teval-logloss:0.38492\n",
      "[6]\teval-logloss:0.37851\n",
      "[7]\teval-logloss:0.37084\n",
      "[8]\teval-logloss:0.37209\n",
      "[9]\teval-logloss:0.36960\n",
      "[0]\teval-logloss:0.49901\n",
      "[1]\teval-logloss:0.42875\n",
      "[2]\teval-logloss:0.39287\n",
      "[3]\teval-logloss:0.36986\n"
     ]
    },
    {
     "name": "stderr",
     "output_type": "stream",
     "text": [
      "/opt/conda/lib/python3.7/site-packages/xgboost/core.py:94: UserWarning: ntree_limit is deprecated, use `iteration_range` or model slicing instead.\n",
      "  UserWarning\n"
     ]
    },
    {
     "name": "stdout",
     "output_type": "stream",
     "text": [
      "[4]\teval-logloss:0.35993\n",
      "[5]\teval-logloss:0.35262\n",
      "[6]\teval-logloss:0.34977\n",
      "[7]\teval-logloss:0.34984\n",
      "[8]\teval-logloss:0.34912\n",
      "[9]\teval-logloss:0.34831\n",
      "[0]\teval-logloss:0.51144\n",
      "[1]\teval-logloss:0.44516\n",
      "[2]\teval-logloss:0.40806\n",
      "[3]\teval-logloss:0.38974\n"
     ]
    },
    {
     "name": "stderr",
     "output_type": "stream",
     "text": [
      "/opt/conda/lib/python3.7/site-packages/xgboost/core.py:94: UserWarning: ntree_limit is deprecated, use `iteration_range` or model slicing instead.\n",
      "  UserWarning\n"
     ]
    },
    {
     "name": "stdout",
     "output_type": "stream",
     "text": [
      "[4]\teval-logloss:0.37611\n",
      "[5]\teval-logloss:0.37368\n",
      "[6]\teval-logloss:0.37208\n",
      "[7]\teval-logloss:0.36819\n",
      "[8]\teval-logloss:0.36453\n",
      "[9]\teval-logloss:0.36533\n",
      "[0]\teval-logloss:0.50727\n",
      "[1]\teval-logloss:0.44622\n",
      "[2]\teval-logloss:0.42108\n",
      "[3]\teval-logloss:0.40263\n"
     ]
    },
    {
     "name": "stderr",
     "output_type": "stream",
     "text": [
      "/opt/conda/lib/python3.7/site-packages/xgboost/core.py:94: UserWarning: ntree_limit is deprecated, use `iteration_range` or model slicing instead.\n",
      "  UserWarning\n"
     ]
    },
    {
     "name": "stdout",
     "output_type": "stream",
     "text": [
      "[4]\teval-logloss:0.39388\n",
      "[5]\teval-logloss:0.38453\n",
      "[6]\teval-logloss:0.38523\n",
      "[7]\teval-logloss:0.38596\n",
      "[8]\teval-logloss:0.38806\n",
      "[9]\teval-logloss:0.38664\n",
      "[0]\teval-logloss:0.50298\n",
      "[1]\teval-logloss:0.41867\n",
      "[2]\teval-logloss:0.37506\n",
      "[3]\teval-logloss:0.35946\n"
     ]
    },
    {
     "name": "stderr",
     "output_type": "stream",
     "text": [
      "/opt/conda/lib/python3.7/site-packages/xgboost/core.py:94: UserWarning: ntree_limit is deprecated, use `iteration_range` or model slicing instead.\n",
      "  UserWarning\n"
     ]
    },
    {
     "name": "stdout",
     "output_type": "stream",
     "text": [
      "[4]\teval-logloss:0.34464\n",
      "[5]\teval-logloss:0.34299\n",
      "[6]\teval-logloss:0.34094\n",
      "[7]\teval-logloss:0.33439\n",
      "[8]\teval-logloss:0.33697\n",
      "[9]\teval-logloss:0.33489\n"
     ]
    },
    {
     "name": "stderr",
     "output_type": "stream",
     "text": [
      "/opt/conda/lib/python3.7/site-packages/xgboost/core.py:94: UserWarning: ntree_limit is deprecated, use `iteration_range` or model slicing instead.\n",
      "  UserWarning\n",
      "[I 2023-07-25 12:46:09,478] Trial 31 finished with value: 0.8264163914525475 and parameters: {'booster': 'gbtree', 'lambda': 5.310688638163703, 'alpha': 2.608929591990993, 'max_depth': 8, 'eta': 0.6679303506875869, 'gamma': 0.20664508052990901, 'grow_policy': 'lossguide', 'min_child_weight': 4, 'scale_pos_weight': 1.2747872538074239}. Best is trial 18 with value: 0.836590541750283.\n"
     ]
    },
    {
     "name": "stdout",
     "output_type": "stream",
     "text": [
      "[0]\teval-logloss:0.54136\n",
      "[1]\teval-logloss:0.48407\n",
      "[2]\teval-logloss:0.44558\n",
      "[3]\teval-logloss:0.42111\n",
      "[4]\teval-logloss:0.39642\n",
      "[5]\teval-logloss:0.39492\n",
      "[6]\teval-logloss:0.38783\n",
      "[7]\teval-logloss:0.38873\n",
      "[8]\teval-logloss:0.38646\n",
      "[9]\teval-logloss:0.38276\n",
      "[0]\teval-logloss:0.52619\n",
      "[1]\teval-logloss:0.46975\n",
      "[2]\teval-logloss:0.44223\n"
     ]
    },
    {
     "name": "stderr",
     "output_type": "stream",
     "text": [
      "/opt/conda/lib/python3.7/site-packages/xgboost/core.py:94: UserWarning: ntree_limit is deprecated, use `iteration_range` or model slicing instead.\n",
      "  UserWarning\n"
     ]
    },
    {
     "name": "stdout",
     "output_type": "stream",
     "text": [
      "[3]\teval-logloss:0.42540\n",
      "[4]\teval-logloss:0.40785\n",
      "[5]\teval-logloss:0.39961\n",
      "[6]\teval-logloss:0.39393\n",
      "[7]\teval-logloss:0.38948\n",
      "[8]\teval-logloss:0.38610\n",
      "[9]\teval-logloss:0.38858\n",
      "[0]\teval-logloss:0.54072\n",
      "[1]\teval-logloss:0.47330\n",
      "[2]\teval-logloss:0.44703\n"
     ]
    },
    {
     "name": "stderr",
     "output_type": "stream",
     "text": [
      "/opt/conda/lib/python3.7/site-packages/xgboost/core.py:94: UserWarning: ntree_limit is deprecated, use `iteration_range` or model slicing instead.\n",
      "  UserWarning\n"
     ]
    },
    {
     "name": "stdout",
     "output_type": "stream",
     "text": [
      "[3]\teval-logloss:0.43118\n",
      "[4]\teval-logloss:0.41632\n",
      "[5]\teval-logloss:0.40123\n",
      "[6]\teval-logloss:0.40252\n",
      "[7]\teval-logloss:0.39938\n",
      "[8]\teval-logloss:0.39771\n",
      "[9]\teval-logloss:0.39560\n",
      "[0]\teval-logloss:0.53581\n",
      "[1]\teval-logloss:0.47462\n",
      "[2]\teval-logloss:0.45360\n"
     ]
    },
    {
     "name": "stderr",
     "output_type": "stream",
     "text": [
      "/opt/conda/lib/python3.7/site-packages/xgboost/core.py:94: UserWarning: ntree_limit is deprecated, use `iteration_range` or model slicing instead.\n",
      "  UserWarning\n"
     ]
    },
    {
     "name": "stdout",
     "output_type": "stream",
     "text": [
      "[3]\teval-logloss:0.42102\n",
      "[4]\teval-logloss:0.41476\n",
      "[5]\teval-logloss:0.42120\n",
      "[6]\teval-logloss:0.41663\n",
      "[7]\teval-logloss:0.41208\n",
      "[8]\teval-logloss:0.41583\n",
      "[9]\teval-logloss:0.41268\n",
      "[0]\teval-logloss:0.52053\n",
      "[1]\teval-logloss:0.46379\n",
      "[2]\teval-logloss:0.43340\n"
     ]
    },
    {
     "name": "stderr",
     "output_type": "stream",
     "text": [
      "/opt/conda/lib/python3.7/site-packages/xgboost/core.py:94: UserWarning: ntree_limit is deprecated, use `iteration_range` or model slicing instead.\n",
      "  UserWarning\n"
     ]
    },
    {
     "name": "stdout",
     "output_type": "stream",
     "text": [
      "[3]\teval-logloss:0.40643\n",
      "[4]\teval-logloss:0.39665\n",
      "[5]\teval-logloss:0.38753\n",
      "[6]\teval-logloss:0.39050\n",
      "[7]\teval-logloss:0.38365\n",
      "[8]\teval-logloss:0.38109\n",
      "[9]\teval-logloss:0.38209\n"
     ]
    },
    {
     "name": "stderr",
     "output_type": "stream",
     "text": [
      "/opt/conda/lib/python3.7/site-packages/xgboost/core.py:94: UserWarning: ntree_limit is deprecated, use `iteration_range` or model slicing instead.\n",
      "  UserWarning\n",
      "[I 2023-07-25 12:46:11,757] Trial 32 finished with value: 0.806704141435597 and parameters: {'booster': 'gbtree', 'lambda': 4.93845228090543, 'alpha': 1.4614459103511934, 'max_depth': 9, 'eta': 0.6762043806376841, 'gamma': 0.26745372917538784, 'grow_policy': 'lossguide', 'min_child_weight': 6, 'scale_pos_weight': 2.3868484133963337}. Best is trial 18 with value: 0.836590541750283.\n"
     ]
    },
    {
     "name": "stdout",
     "output_type": "stream",
     "text": [
      "[0]\teval-logloss:0.53487\n",
      "[1]\teval-logloss:0.47561\n",
      "[2]\teval-logloss:0.43725\n",
      "[3]\teval-logloss:0.41196\n",
      "[4]\teval-logloss:0.39564\n",
      "[5]\teval-logloss:0.38794\n",
      "[6]\teval-logloss:0.38076\n",
      "[7]\teval-logloss:0.37390\n",
      "[8]\teval-logloss:0.37147\n",
      "[9]\teval-logloss:0.36846\n",
      "[0]\teval-logloss:0.51640\n",
      "[1]\teval-logloss:0.43662\n",
      "[2]\teval-logloss:0.39300\n",
      "[3]\teval-logloss:0.37751\n"
     ]
    },
    {
     "name": "stderr",
     "output_type": "stream",
     "text": [
      "/opt/conda/lib/python3.7/site-packages/xgboost/core.py:94: UserWarning: ntree_limit is deprecated, use `iteration_range` or model slicing instead.\n",
      "  UserWarning\n"
     ]
    },
    {
     "name": "stdout",
     "output_type": "stream",
     "text": [
      "[4]\teval-logloss:0.36286\n",
      "[5]\teval-logloss:0.35016\n",
      "[6]\teval-logloss:0.34471\n",
      "[7]\teval-logloss:0.34480\n",
      "[8]\teval-logloss:0.33906\n",
      "[9]\teval-logloss:0.33294\n",
      "[0]\teval-logloss:0.53266\n",
      "[1]\teval-logloss:0.46009\n",
      "[2]\teval-logloss:0.42411\n",
      "[3]\teval-logloss:0.40098\n"
     ]
    },
    {
     "name": "stderr",
     "output_type": "stream",
     "text": [
      "/opt/conda/lib/python3.7/site-packages/xgboost/core.py:94: UserWarning: ntree_limit is deprecated, use `iteration_range` or model slicing instead.\n",
      "  UserWarning\n"
     ]
    },
    {
     "name": "stdout",
     "output_type": "stream",
     "text": [
      "[4]\teval-logloss:0.38975\n",
      "[5]\teval-logloss:0.38102\n",
      "[6]\teval-logloss:0.37420\n",
      "[7]\teval-logloss:0.37019\n",
      "[8]\teval-logloss:0.36596\n",
      "[9]\teval-logloss:0.36434\n",
      "[0]\teval-logloss:0.52313\n",
      "[1]\teval-logloss:0.45537\n",
      "[2]\teval-logloss:0.41414\n",
      "[3]\teval-logloss:0.39476\n"
     ]
    },
    {
     "name": "stderr",
     "output_type": "stream",
     "text": [
      "/opt/conda/lib/python3.7/site-packages/xgboost/core.py:94: UserWarning: ntree_limit is deprecated, use `iteration_range` or model slicing instead.\n",
      "  UserWarning\n"
     ]
    },
    {
     "name": "stdout",
     "output_type": "stream",
     "text": [
      "[4]\teval-logloss:0.38065\n",
      "[5]\teval-logloss:0.37168\n",
      "[6]\teval-logloss:0.36730\n",
      "[7]\teval-logloss:0.36297\n",
      "[8]\teval-logloss:0.36168\n",
      "[9]\teval-logloss:0.36292\n",
      "[0]\teval-logloss:0.52023\n",
      "[1]\teval-logloss:0.44570\n",
      "[2]\teval-logloss:0.39238\n",
      "[3]\teval-logloss:0.37160\n"
     ]
    },
    {
     "name": "stderr",
     "output_type": "stream",
     "text": [
      "/opt/conda/lib/python3.7/site-packages/xgboost/core.py:94: UserWarning: ntree_limit is deprecated, use `iteration_range` or model slicing instead.\n",
      "  UserWarning\n"
     ]
    },
    {
     "name": "stdout",
     "output_type": "stream",
     "text": [
      "[4]\teval-logloss:0.36041\n",
      "[5]\teval-logloss:0.34652\n",
      "[6]\teval-logloss:0.34549\n",
      "[7]\teval-logloss:0.33593\n",
      "[8]\teval-logloss:0.33232\n",
      "[9]\teval-logloss:0.33427\n"
     ]
    },
    {
     "name": "stderr",
     "output_type": "stream",
     "text": [
      "/opt/conda/lib/python3.7/site-packages/xgboost/core.py:94: UserWarning: ntree_limit is deprecated, use `iteration_range` or model slicing instead.\n",
      "  UserWarning\n",
      "[I 2023-07-25 12:46:13,832] Trial 33 finished with value: 0.8334164035128879 and parameters: {'booster': 'gbtree', 'lambda': 3.1092006554826814, 'alpha': 2.2749199590670828, 'max_depth': 8, 'eta': 0.5213390157945454, 'gamma': 0.2305808718991415, 'grow_policy': 'lossguide', 'min_child_weight': 3, 'scale_pos_weight': 1.047807446102608}. Best is trial 18 with value: 0.836590541750283.\n"
     ]
    },
    {
     "name": "stdout",
     "output_type": "stream",
     "text": [
      "[0]\teval-logloss:0.60148\n",
      "[1]\teval-logloss:0.54250\n",
      "[2]\teval-logloss:0.50603\n",
      "[3]\teval-logloss:0.48121\n",
      "[4]\teval-logloss:0.46636\n",
      "[5]\teval-logloss:0.44394\n",
      "[6]\teval-logloss:0.42897\n",
      "[7]\teval-logloss:0.41620\n",
      "[8]\teval-logloss:0.40696\n",
      "[9]\teval-logloss:0.39975\n",
      "[0]\teval-logloss:0.59644\n",
      "[1]\teval-logloss:0.54135\n",
      "[2]\teval-logloss:0.49625\n",
      "[3]\teval-logloss:0.46374\n",
      "[4]\teval-logloss:0.44621\n",
      "[5]\teval-logloss:0.42757\n"
     ]
    },
    {
     "name": "stderr",
     "output_type": "stream",
     "text": [
      "/opt/conda/lib/python3.7/site-packages/xgboost/core.py:94: UserWarning: ntree_limit is deprecated, use `iteration_range` or model slicing instead.\n",
      "  UserWarning\n"
     ]
    },
    {
     "name": "stdout",
     "output_type": "stream",
     "text": [
      "[6]\teval-logloss:0.41242\n",
      "[7]\teval-logloss:0.39866\n",
      "[8]\teval-logloss:0.38737\n",
      "[9]\teval-logloss:0.37731\n",
      "[0]\teval-logloss:0.60025\n",
      "[1]\teval-logloss:0.54584\n",
      "[2]\teval-logloss:0.50777\n",
      "[3]\teval-logloss:0.47739\n",
      "[4]\teval-logloss:0.45245\n",
      "[5]\teval-logloss:0.43349\n"
     ]
    },
    {
     "name": "stderr",
     "output_type": "stream",
     "text": [
      "/opt/conda/lib/python3.7/site-packages/xgboost/core.py:94: UserWarning: ntree_limit is deprecated, use `iteration_range` or model slicing instead.\n",
      "  UserWarning\n"
     ]
    },
    {
     "name": "stdout",
     "output_type": "stream",
     "text": [
      "[6]\teval-logloss:0.41951\n",
      "[7]\teval-logloss:0.40662\n",
      "[8]\teval-logloss:0.39540\n",
      "[9]\teval-logloss:0.39015\n",
      "[0]\teval-logloss:0.59782\n",
      "[1]\teval-logloss:0.53925\n",
      "[2]\teval-logloss:0.49449\n",
      "[3]\teval-logloss:0.46459\n",
      "[4]\teval-logloss:0.45207\n"
     ]
    },
    {
     "name": "stderr",
     "output_type": "stream",
     "text": [
      "/opt/conda/lib/python3.7/site-packages/xgboost/core.py:94: UserWarning: ntree_limit is deprecated, use `iteration_range` or model slicing instead.\n",
      "  UserWarning\n"
     ]
    },
    {
     "name": "stdout",
     "output_type": "stream",
     "text": [
      "[5]\teval-logloss:0.43611\n",
      "[6]\teval-logloss:0.42521\n",
      "[7]\teval-logloss:0.41110\n",
      "[8]\teval-logloss:0.40163\n",
      "[9]\teval-logloss:0.39329\n",
      "[0]\teval-logloss:0.59300\n",
      "[1]\teval-logloss:0.52752\n",
      "[2]\teval-logloss:0.48713\n",
      "[3]\teval-logloss:0.45195\n",
      "[4]\teval-logloss:0.42641\n",
      "[5]\teval-logloss:0.40939\n"
     ]
    },
    {
     "name": "stderr",
     "output_type": "stream",
     "text": [
      "/opt/conda/lib/python3.7/site-packages/xgboost/core.py:94: UserWarning: ntree_limit is deprecated, use `iteration_range` or model slicing instead.\n",
      "  UserWarning\n"
     ]
    },
    {
     "name": "stdout",
     "output_type": "stream",
     "text": [
      "[6]\teval-logloss:0.40188\n",
      "[7]\teval-logloss:0.39025\n",
      "[8]\teval-logloss:0.37678\n",
      "[9]\teval-logloss:0.37476\n"
     ]
    },
    {
     "name": "stderr",
     "output_type": "stream",
     "text": [
      "/opt/conda/lib/python3.7/site-packages/xgboost/core.py:94: UserWarning: ntree_limit is deprecated, use `iteration_range` or model slicing instead.\n",
      "  UserWarning\n",
      "[I 2023-07-25 12:46:15,308] Trial 34 finished with value: 0.8238069740182212 and parameters: {'booster': 'gbtree', 'lambda': 2.586853327955488, 'alpha': 2.2217242489694153, 'max_depth': 5, 'eta': 0.30750384735035935, 'gamma': 0.35560915045425184, 'grow_policy': 'lossguide', 'min_child_weight': 2, 'scale_pos_weight': 1.6960413239558962}. Best is trial 18 with value: 0.836590541750283.\n"
     ]
    },
    {
     "name": "stdout",
     "output_type": "stream",
     "text": [
      "[0]\teval-logloss:0.55499\n",
      "[1]\teval-logloss:0.49728\n",
      "[2]\teval-logloss:0.46317\n",
      "[3]\teval-logloss:0.43140\n",
      "[4]\teval-logloss:0.41442\n",
      "[5]\teval-logloss:0.39979\n",
      "[6]\teval-logloss:0.38816\n",
      "[7]\teval-logloss:0.38312\n",
      "[8]\teval-logloss:0.37970\n",
      "[9]\teval-logloss:0.37697\n",
      "[0]\teval-logloss:0.54768\n",
      "[1]\teval-logloss:0.47614\n",
      "[2]\teval-logloss:0.44793\n",
      "[3]\teval-logloss:0.41905\n"
     ]
    },
    {
     "name": "stderr",
     "output_type": "stream",
     "text": [
      "/opt/conda/lib/python3.7/site-packages/xgboost/core.py:94: UserWarning: ntree_limit is deprecated, use `iteration_range` or model slicing instead.\n",
      "  UserWarning\n"
     ]
    },
    {
     "name": "stdout",
     "output_type": "stream",
     "text": [
      "[4]\teval-logloss:0.39877\n",
      "[5]\teval-logloss:0.39538\n",
      "[6]\teval-logloss:0.39128\n",
      "[7]\teval-logloss:0.37956\n",
      "[8]\teval-logloss:0.37220\n",
      "[9]\teval-logloss:0.36815\n",
      "[0]\teval-logloss:0.55791\n",
      "[1]\teval-logloss:0.49784\n",
      "[2]\teval-logloss:0.45563\n",
      "[3]\teval-logloss:0.43823\n",
      "[4]\teval-logloss:0.41900\n"
     ]
    },
    {
     "name": "stderr",
     "output_type": "stream",
     "text": [
      "/opt/conda/lib/python3.7/site-packages/xgboost/core.py:94: UserWarning: ntree_limit is deprecated, use `iteration_range` or model slicing instead.\n",
      "  UserWarning\n"
     ]
    },
    {
     "name": "stdout",
     "output_type": "stream",
     "text": [
      "[5]\teval-logloss:0.40214\n",
      "[6]\teval-logloss:0.39466\n",
      "[7]\teval-logloss:0.38908\n",
      "[8]\teval-logloss:0.38881\n",
      "[9]\teval-logloss:0.38462\n",
      "[0]\teval-logloss:0.55770\n",
      "[1]\teval-logloss:0.48718\n",
      "[2]\teval-logloss:0.44695\n",
      "[3]\teval-logloss:0.42521\n",
      "[4]\teval-logloss:0.41156\n"
     ]
    },
    {
     "name": "stderr",
     "output_type": "stream",
     "text": [
      "/opt/conda/lib/python3.7/site-packages/xgboost/core.py:94: UserWarning: ntree_limit is deprecated, use `iteration_range` or model slicing instead.\n",
      "  UserWarning\n"
     ]
    },
    {
     "name": "stdout",
     "output_type": "stream",
     "text": [
      "[5]\teval-logloss:0.39775\n",
      "[6]\teval-logloss:0.39046\n",
      "[7]\teval-logloss:0.39040\n",
      "[8]\teval-logloss:0.38410\n",
      "[9]\teval-logloss:0.38389\n",
      "[0]\teval-logloss:0.54944\n",
      "[1]\teval-logloss:0.48033\n",
      "[2]\teval-logloss:0.44124\n",
      "[3]\teval-logloss:0.41385\n",
      "[4]\teval-logloss:0.39134\n"
     ]
    },
    {
     "name": "stderr",
     "output_type": "stream",
     "text": [
      "/opt/conda/lib/python3.7/site-packages/xgboost/core.py:94: UserWarning: ntree_limit is deprecated, use `iteration_range` or model slicing instead.\n",
      "  UserWarning\n"
     ]
    },
    {
     "name": "stdout",
     "output_type": "stream",
     "text": [
      "[5]\teval-logloss:0.37844\n",
      "[6]\teval-logloss:0.36857\n",
      "[7]\teval-logloss:0.36429\n",
      "[8]\teval-logloss:0.36158\n",
      "[9]\teval-logloss:0.35666\n"
     ]
    },
    {
     "name": "stderr",
     "output_type": "stream",
     "text": [
      "/opt/conda/lib/python3.7/site-packages/xgboost/core.py:94: UserWarning: ntree_limit is deprecated, use `iteration_range` or model slicing instead.\n",
      "  UserWarning\n",
      "[I 2023-07-25 12:46:17,118] Trial 35 finished with value: 0.8157791678856782 and parameters: {'booster': 'gbtree', 'lambda': 3.325137288285743, 'alpha': 0.5356450749425087, 'max_depth': 7, 'eta': 0.47239446301777527, 'gamma': 0.1387117442989058, 'grow_policy': 'lossguide', 'min_child_weight': 3, 'scale_pos_weight': 1.8270391927682954}. Best is trial 18 with value: 0.836590541750283.\n"
     ]
    },
    {
     "name": "stdout",
     "output_type": "stream",
     "text": [
      "[0]\teval-logloss:0.61661\n",
      "[1]\teval-logloss:0.56467\n",
      "[2]\teval-logloss:0.52840\n",
      "[3]\teval-logloss:0.49986\n",
      "[4]\teval-logloss:0.47722\n",
      "[5]\teval-logloss:0.46175\n",
      "[6]\teval-logloss:0.44466\n",
      "[7]\teval-logloss:0.42884\n",
      "[8]\teval-logloss:0.41790\n",
      "[9]\teval-logloss:0.40663\n",
      "[0]\teval-logloss:0.61829\n",
      "[1]\teval-logloss:0.56484\n",
      "[2]\teval-logloss:0.52752\n",
      "[3]\teval-logloss:0.49690\n"
     ]
    },
    {
     "name": "stderr",
     "output_type": "stream",
     "text": [
      "/opt/conda/lib/python3.7/site-packages/xgboost/core.py:94: UserWarning: ntree_limit is deprecated, use `iteration_range` or model slicing instead.\n",
      "  UserWarning\n"
     ]
    },
    {
     "name": "stdout",
     "output_type": "stream",
     "text": [
      "[4]\teval-logloss:0.47679\n",
      "[5]\teval-logloss:0.45559\n",
      "[6]\teval-logloss:0.44023\n",
      "[7]\teval-logloss:0.42641\n",
      "[8]\teval-logloss:0.41566\n",
      "[9]\teval-logloss:0.40708\n",
      "[0]\teval-logloss:0.61871\n",
      "[1]\teval-logloss:0.56848\n",
      "[2]\teval-logloss:0.52977\n",
      "[3]\teval-logloss:0.50440\n"
     ]
    },
    {
     "name": "stderr",
     "output_type": "stream",
     "text": [
      "/opt/conda/lib/python3.7/site-packages/xgboost/core.py:94: UserWarning: ntree_limit is deprecated, use `iteration_range` or model slicing instead.\n",
      "  UserWarning\n"
     ]
    },
    {
     "name": "stdout",
     "output_type": "stream",
     "text": [
      "[4]\teval-logloss:0.48119\n",
      "[5]\teval-logloss:0.46517\n",
      "[6]\teval-logloss:0.45191\n",
      "[7]\teval-logloss:0.44004\n",
      "[8]\teval-logloss:0.42987\n",
      "[9]\teval-logloss:0.42069\n",
      "[0]\teval-logloss:0.61352\n",
      "[1]\teval-logloss:0.56165\n",
      "[2]\teval-logloss:0.52630\n",
      "[3]\teval-logloss:0.49964\n"
     ]
    },
    {
     "name": "stderr",
     "output_type": "stream",
     "text": [
      "/opt/conda/lib/python3.7/site-packages/xgboost/core.py:94: UserWarning: ntree_limit is deprecated, use `iteration_range` or model slicing instead.\n",
      "  UserWarning\n"
     ]
    },
    {
     "name": "stdout",
     "output_type": "stream",
     "text": [
      "[4]\teval-logloss:0.47959\n",
      "[5]\teval-logloss:0.46194\n",
      "[6]\teval-logloss:0.44831\n",
      "[7]\teval-logloss:0.43651\n",
      "[8]\teval-logloss:0.42796\n",
      "[9]\teval-logloss:0.42181\n",
      "[0]\teval-logloss:0.61027\n",
      "[1]\teval-logloss:0.55859\n",
      "[2]\teval-logloss:0.51970\n",
      "[3]\teval-logloss:0.48859\n"
     ]
    },
    {
     "name": "stderr",
     "output_type": "stream",
     "text": [
      "/opt/conda/lib/python3.7/site-packages/xgboost/core.py:94: UserWarning: ntree_limit is deprecated, use `iteration_range` or model slicing instead.\n",
      "  UserWarning\n"
     ]
    },
    {
     "name": "stdout",
     "output_type": "stream",
     "text": [
      "[4]\teval-logloss:0.46410\n",
      "[5]\teval-logloss:0.44291\n",
      "[6]\teval-logloss:0.42436\n",
      "[7]\teval-logloss:0.41369\n",
      "[8]\teval-logloss:0.40365\n",
      "[9]\teval-logloss:0.39292\n"
     ]
    },
    {
     "name": "stderr",
     "output_type": "stream",
     "text": [
      "/opt/conda/lib/python3.7/site-packages/xgboost/core.py:94: UserWarning: ntree_limit is deprecated, use `iteration_range` or model slicing instead.\n",
      "  UserWarning\n",
      "[I 2023-07-25 12:46:19,173] Trial 36 finished with value: 0.8057116739132614 and parameters: {'booster': 'gbtree', 'lambda': 9.893135736165256, 'alpha': 0.4463824481487185, 'max_depth': 8, 'eta': 0.25601110892832046, 'gamma': 0.308975581782131, 'grow_policy': 'depthwise', 'min_child_weight': 2, 'scale_pos_weight': 2.5447003652573428}. Best is trial 18 with value: 0.836590541750283.\n"
     ]
    },
    {
     "name": "stdout",
     "output_type": "stream",
     "text": [
      "[0]\teval-logloss:0.56268\n",
      "[1]\teval-logloss:0.49947\n",
      "[2]\teval-logloss:0.46039\n",
      "[3]\teval-logloss:0.42636\n",
      "[4]\teval-logloss:0.41082\n",
      "[5]\teval-logloss:0.39436\n",
      "[6]\teval-logloss:0.38588\n",
      "[7]\teval-logloss:0.37810\n",
      "[8]\teval-logloss:0.37276\n",
      "[9]\teval-logloss:0.36787\n",
      "[0]\teval-logloss:0.54786\n",
      "[1]\teval-logloss:0.46787\n",
      "[2]\teval-logloss:0.42940\n",
      "[3]\teval-logloss:0.39975\n",
      "[4]\teval-logloss:0.37759\n",
      "[5]\teval-logloss:0.36283\n"
     ]
    },
    {
     "name": "stderr",
     "output_type": "stream",
     "text": [
      "/opt/conda/lib/python3.7/site-packages/xgboost/core.py:94: UserWarning: ntree_limit is deprecated, use `iteration_range` or model slicing instead.\n",
      "  UserWarning\n"
     ]
    },
    {
     "name": "stdout",
     "output_type": "stream",
     "text": [
      "[6]\teval-logloss:0.35388\n",
      "[7]\teval-logloss:0.34739\n",
      "[8]\teval-logloss:0.34149\n",
      "[9]\teval-logloss:0.34173\n",
      "[0]\teval-logloss:0.56199\n",
      "[1]\teval-logloss:0.48912\n",
      "[2]\teval-logloss:0.45507\n",
      "[3]\teval-logloss:0.42789\n",
      "[4]\teval-logloss:0.40878\n",
      "[5]\teval-logloss:0.39029\n"
     ]
    },
    {
     "name": "stderr",
     "output_type": "stream",
     "text": [
      "/opt/conda/lib/python3.7/site-packages/xgboost/core.py:94: UserWarning: ntree_limit is deprecated, use `iteration_range` or model slicing instead.\n",
      "  UserWarning\n"
     ]
    },
    {
     "name": "stdout",
     "output_type": "stream",
     "text": [
      "[6]\teval-logloss:0.38402\n",
      "[7]\teval-logloss:0.37753\n",
      "[8]\teval-logloss:0.37028\n",
      "[9]\teval-logloss:0.36338\n",
      "[0]\teval-logloss:0.55215\n",
      "[1]\teval-logloss:0.47874\n",
      "[2]\teval-logloss:0.43687\n",
      "[3]\teval-logloss:0.40517\n",
      "[4]\teval-logloss:0.38629\n",
      "[5]\teval-logloss:0.37079\n"
     ]
    },
    {
     "name": "stderr",
     "output_type": "stream",
     "text": [
      "/opt/conda/lib/python3.7/site-packages/xgboost/core.py:94: UserWarning: ntree_limit is deprecated, use `iteration_range` or model slicing instead.\n",
      "  UserWarning\n"
     ]
    },
    {
     "name": "stdout",
     "output_type": "stream",
     "text": [
      "[6]\teval-logloss:0.36491\n",
      "[7]\teval-logloss:0.35964\n",
      "[8]\teval-logloss:0.35683\n",
      "[9]\teval-logloss:0.35433\n",
      "[0]\teval-logloss:0.55095\n",
      "[1]\teval-logloss:0.47230\n",
      "[2]\teval-logloss:0.42067\n",
      "[3]\teval-logloss:0.38592\n",
      "[4]\teval-logloss:0.36847\n"
     ]
    },
    {
     "name": "stderr",
     "output_type": "stream",
     "text": [
      "/opt/conda/lib/python3.7/site-packages/xgboost/core.py:94: UserWarning: ntree_limit is deprecated, use `iteration_range` or model slicing instead.\n",
      "  UserWarning\n"
     ]
    },
    {
     "name": "stdout",
     "output_type": "stream",
     "text": [
      "[5]\teval-logloss:0.35583\n",
      "[6]\teval-logloss:0.34513\n",
      "[7]\teval-logloss:0.33781\n",
      "[8]\teval-logloss:0.33627\n",
      "[9]\teval-logloss:0.33273\n"
     ]
    },
    {
     "name": "stderr",
     "output_type": "stream",
     "text": [
      "/opt/conda/lib/python3.7/site-packages/xgboost/core.py:94: UserWarning: ntree_limit is deprecated, use `iteration_range` or model slicing instead.\n",
      "  UserWarning\n",
      "[I 2023-07-25 12:46:20,764] Trial 37 finished with value: 0.8380699501582379 and parameters: {'booster': 'gbtree', 'lambda': 1.5301423151873739, 'alpha': 1.092349802931107, 'max_depth': 6, 'eta': 0.40415568623376047, 'gamma': 0.43295391878559036, 'grow_policy': 'lossguide', 'min_child_weight': 3, 'scale_pos_weight': 1.0155185632319368}. Best is trial 37 with value: 0.8380699501582379.\n"
     ]
    },
    {
     "name": "stdout",
     "output_type": "stream",
     "text": [
      "[0]\teval-logloss:0.58977\n",
      "[1]\teval-logloss:0.53571\n",
      "[2]\teval-logloss:0.50567\n",
      "[3]\teval-logloss:0.47257\n",
      "[4]\teval-logloss:0.45171\n",
      "[5]\teval-logloss:0.42998\n",
      "[6]\teval-logloss:0.42392\n",
      "[7]\teval-logloss:0.41585\n",
      "[8]\teval-logloss:0.40768\n",
      "[9]\teval-logloss:0.40021\n",
      "[0]\teval-logloss:0.58430\n",
      "[1]\teval-logloss:0.52527\n",
      "[2]\teval-logloss:0.49110\n",
      "[3]\teval-logloss:0.46548\n",
      "[4]\teval-logloss:0.45074\n",
      "[5]\teval-logloss:0.43143\n",
      "[6]\teval-logloss:0.42005\n"
     ]
    },
    {
     "name": "stderr",
     "output_type": "stream",
     "text": [
      "/opt/conda/lib/python3.7/site-packages/xgboost/core.py:94: UserWarning: ntree_limit is deprecated, use `iteration_range` or model slicing instead.\n",
      "  UserWarning\n"
     ]
    },
    {
     "name": "stdout",
     "output_type": "stream",
     "text": [
      "[7]\teval-logloss:0.41410\n",
      "[8]\teval-logloss:0.40353\n",
      "[9]\teval-logloss:0.39616\n",
      "[0]\teval-logloss:0.58841\n",
      "[1]\teval-logloss:0.52815\n",
      "[2]\teval-logloss:0.49060\n",
      "[3]\teval-logloss:0.46180\n",
      "[4]\teval-logloss:0.44008\n",
      "[5]\teval-logloss:0.42702\n",
      "[6]\teval-logloss:0.42345\n"
     ]
    },
    {
     "name": "stderr",
     "output_type": "stream",
     "text": [
      "/opt/conda/lib/python3.7/site-packages/xgboost/core.py:94: UserWarning: ntree_limit is deprecated, use `iteration_range` or model slicing instead.\n",
      "  UserWarning\n"
     ]
    },
    {
     "name": "stdout",
     "output_type": "stream",
     "text": [
      "[7]\teval-logloss:0.41330\n",
      "[8]\teval-logloss:0.40416\n",
      "[9]\teval-logloss:0.39732\n",
      "[0]\teval-logloss:0.58237\n",
      "[1]\teval-logloss:0.51623\n",
      "[2]\teval-logloss:0.48525\n",
      "[3]\teval-logloss:0.46061\n",
      "[4]\teval-logloss:0.44207\n",
      "[5]\teval-logloss:0.43267\n",
      "[6]\teval-logloss:0.41738\n"
     ]
    },
    {
     "name": "stderr",
     "output_type": "stream",
     "text": [
      "/opt/conda/lib/python3.7/site-packages/xgboost/core.py:94: UserWarning: ntree_limit is deprecated, use `iteration_range` or model slicing instead.\n",
      "  UserWarning\n"
     ]
    },
    {
     "name": "stdout",
     "output_type": "stream",
     "text": [
      "[7]\teval-logloss:0.40945\n",
      "[8]\teval-logloss:0.40646\n",
      "[9]\teval-logloss:0.40416\n",
      "[0]\teval-logloss:0.58097\n",
      "[1]\teval-logloss:0.51820\n",
      "[2]\teval-logloss:0.48202\n",
      "[3]\teval-logloss:0.45140\n",
      "[4]\teval-logloss:0.43424\n",
      "[5]\teval-logloss:0.41516\n",
      "[6]\teval-logloss:0.40721\n"
     ]
    },
    {
     "name": "stderr",
     "output_type": "stream",
     "text": [
      "/opt/conda/lib/python3.7/site-packages/xgboost/core.py:94: UserWarning: ntree_limit is deprecated, use `iteration_range` or model slicing instead.\n",
      "  UserWarning\n"
     ]
    },
    {
     "name": "stdout",
     "output_type": "stream",
     "text": [
      "[7]\teval-logloss:0.39393\n",
      "[8]\teval-logloss:0.38856\n",
      "[9]\teval-logloss:0.38145\n"
     ]
    },
    {
     "name": "stderr",
     "output_type": "stream",
     "text": [
      "/opt/conda/lib/python3.7/site-packages/xgboost/core.py:94: UserWarning: ntree_limit is deprecated, use `iteration_range` or model slicing instead.\n",
      "  UserWarning\n",
      "[I 2023-07-25 12:46:22,144] Trial 38 finished with value: 0.8059118248125567 and parameters: {'booster': 'gbtree', 'lambda': 1.82446879466058, 'alpha': 1.0407868816138561, 'max_depth': 5, 'eta': 0.3943554658523011, 'gamma': 0.48884931164425716, 'grow_policy': 'lossguide', 'min_child_weight': 7, 'scale_pos_weight': 2.114771673650921}. Best is trial 37 with value: 0.8380699501582379.\n"
     ]
    },
    {
     "name": "stdout",
     "output_type": "stream",
     "text": [
      "[0]\teval-logloss:0.62640\n",
      "[1]\teval-logloss:0.57739\n",
      "[2]\teval-logloss:0.54244\n",
      "[3]\teval-logloss:0.51481\n",
      "[4]\teval-logloss:0.49400\n",
      "[5]\teval-logloss:0.47790\n",
      "[6]\teval-logloss:0.45827\n",
      "[7]\teval-logloss:0.44662\n",
      "[8]\teval-logloss:0.43389\n",
      "[9]\teval-logloss:0.42241\n",
      "[0]\teval-logloss:0.62215\n",
      "[1]\teval-logloss:0.57122\n",
      "[2]\teval-logloss:0.53129\n",
      "[3]\teval-logloss:0.50150\n",
      "[4]\teval-logloss:0.47372\n",
      "[5]\teval-logloss:0.45419\n"
     ]
    },
    {
     "name": "stderr",
     "output_type": "stream",
     "text": [
      "/opt/conda/lib/python3.7/site-packages/xgboost/core.py:94: UserWarning: ntree_limit is deprecated, use `iteration_range` or model slicing instead.\n",
      "  UserWarning\n"
     ]
    },
    {
     "name": "stdout",
     "output_type": "stream",
     "text": [
      "[6]\teval-logloss:0.43752\n",
      "[7]\teval-logloss:0.42169\n",
      "[8]\teval-logloss:0.40714\n",
      "[9]\teval-logloss:0.39660\n",
      "[0]\teval-logloss:0.62664\n",
      "[1]\teval-logloss:0.57524\n",
      "[2]\teval-logloss:0.54263\n",
      "[3]\teval-logloss:0.51195\n",
      "[4]\teval-logloss:0.49181\n",
      "[5]\teval-logloss:0.47070\n"
     ]
    },
    {
     "name": "stderr",
     "output_type": "stream",
     "text": [
      "/opt/conda/lib/python3.7/site-packages/xgboost/core.py:94: UserWarning: ntree_limit is deprecated, use `iteration_range` or model slicing instead.\n",
      "  UserWarning\n"
     ]
    },
    {
     "name": "stdout",
     "output_type": "stream",
     "text": [
      "[6]\teval-logloss:0.45444\n",
      "[7]\teval-logloss:0.43845\n",
      "[8]\teval-logloss:0.42729\n",
      "[9]\teval-logloss:0.41503\n",
      "[0]\teval-logloss:0.62480\n",
      "[1]\teval-logloss:0.57541\n",
      "[2]\teval-logloss:0.53604\n",
      "[3]\teval-logloss:0.50664\n",
      "[4]\teval-logloss:0.48534\n",
      "[5]\teval-logloss:0.46613\n"
     ]
    },
    {
     "name": "stderr",
     "output_type": "stream",
     "text": [
      "/opt/conda/lib/python3.7/site-packages/xgboost/core.py:94: UserWarning: ntree_limit is deprecated, use `iteration_range` or model slicing instead.\n",
      "  UserWarning\n"
     ]
    },
    {
     "name": "stdout",
     "output_type": "stream",
     "text": [
      "[6]\teval-logloss:0.45019\n",
      "[7]\teval-logloss:0.43787\n",
      "[8]\teval-logloss:0.42684\n",
      "[9]\teval-logloss:0.41910\n",
      "[0]\teval-logloss:0.62116\n",
      "[1]\teval-logloss:0.56783\n",
      "[2]\teval-logloss:0.52944\n",
      "[3]\teval-logloss:0.49439\n",
      "[4]\teval-logloss:0.46946\n",
      "[5]\teval-logloss:0.45100\n"
     ]
    },
    {
     "name": "stderr",
     "output_type": "stream",
     "text": [
      "/opt/conda/lib/python3.7/site-packages/xgboost/core.py:94: UserWarning: ntree_limit is deprecated, use `iteration_range` or model slicing instead.\n",
      "  UserWarning\n"
     ]
    },
    {
     "name": "stdout",
     "output_type": "stream",
     "text": [
      "[6]\teval-logloss:0.43099\n",
      "[7]\teval-logloss:0.41937\n",
      "[8]\teval-logloss:0.40690\n",
      "[9]\teval-logloss:0.39611\n"
     ]
    },
    {
     "name": "stderr",
     "output_type": "stream",
     "text": [
      "/opt/conda/lib/python3.7/site-packages/xgboost/core.py:94: UserWarning: ntree_limit is deprecated, use `iteration_range` or model slicing instead.\n",
      "  UserWarning\n",
      "[I 2023-07-25 12:46:23,724] Trial 39 finished with value: 0.8273967596596332 and parameters: {'booster': 'gbtree', 'lambda': 1.5731176188109461, 'alpha': 0.3259522231436129, 'max_depth': 6, 'eta': 0.19053161158945484, 'gamma': 0.6707539212033264, 'grow_policy': 'depthwise', 'min_child_weight': 5, 'scale_pos_weight': 1.543992278710494}. Best is trial 37 with value: 0.8380699501582379.\n"
     ]
    },
    {
     "name": "stdout",
     "output_type": "stream",
     "text": [
      "[0]\teval-logloss:0.62798\n",
      "[1]\teval-logloss:0.59436\n",
      "[2]\teval-logloss:0.57198\n",
      "[3]\teval-logloss:0.56220\n",
      "[4]\teval-logloss:0.54326\n",
      "[5]\teval-logloss:0.53096\n",
      "[6]\teval-logloss:0.51800\n",
      "[7]\teval-logloss:0.50832\n",
      "[8]\teval-logloss:0.49961\n",
      "[9]\teval-logloss:0.48430\n",
      "[0]\teval-logloss:0.62451\n",
      "[1]\teval-logloss:0.59086\n",
      "[2]\teval-logloss:0.56952\n",
      "[3]\teval-logloss:0.54867\n",
      "[4]\teval-logloss:0.53460\n",
      "[5]\teval-logloss:0.52262\n",
      "[6]\teval-logloss:0.50509\n",
      "[7]\teval-logloss:0.49195\n",
      "[8]\teval-logloss:0.48783\n"
     ]
    },
    {
     "name": "stderr",
     "output_type": "stream",
     "text": [
      "/opt/conda/lib/python3.7/site-packages/xgboost/core.py:94: UserWarning: ntree_limit is deprecated, use `iteration_range` or model slicing instead.\n",
      "  UserWarning\n"
     ]
    },
    {
     "name": "stdout",
     "output_type": "stream",
     "text": [
      "[9]\teval-logloss:0.47547\n",
      "[0]\teval-logloss:0.62642\n",
      "[1]\teval-logloss:0.59162\n",
      "[2]\teval-logloss:0.56660\n",
      "[3]\teval-logloss:0.55280\n",
      "[4]\teval-logloss:0.53598\n",
      "[5]\teval-logloss:0.52574\n",
      "[6]\teval-logloss:0.52142\n",
      "[7]\teval-logloss:0.50607\n",
      "[8]\teval-logloss:0.49457\n"
     ]
    },
    {
     "name": "stderr",
     "output_type": "stream",
     "text": [
      "/opt/conda/lib/python3.7/site-packages/xgboost/core.py:94: UserWarning: ntree_limit is deprecated, use `iteration_range` or model slicing instead.\n",
      "  UserWarning\n"
     ]
    },
    {
     "name": "stdout",
     "output_type": "stream",
     "text": [
      "[9]\teval-logloss:0.48282\n",
      "[0]\teval-logloss:0.62728\n",
      "[1]\teval-logloss:0.59279\n",
      "[2]\teval-logloss:0.57053\n",
      "[3]\teval-logloss:0.55933\n",
      "[4]\teval-logloss:0.54230\n",
      "[5]\teval-logloss:0.53157\n",
      "[6]\teval-logloss:0.51813\n",
      "[7]\teval-logloss:0.50537\n"
     ]
    },
    {
     "name": "stderr",
     "output_type": "stream",
     "text": [
      "/opt/conda/lib/python3.7/site-packages/xgboost/core.py:94: UserWarning: ntree_limit is deprecated, use `iteration_range` or model slicing instead.\n",
      "  UserWarning\n"
     ]
    },
    {
     "name": "stdout",
     "output_type": "stream",
     "text": [
      "[8]\teval-logloss:0.49935\n",
      "[9]\teval-logloss:0.48926\n",
      "[0]\teval-logloss:0.62697\n",
      "[1]\teval-logloss:0.58721\n",
      "[2]\teval-logloss:0.55974\n",
      "[3]\teval-logloss:0.54164\n",
      "[4]\teval-logloss:0.52384\n",
      "[5]\teval-logloss:0.51168\n",
      "[6]\teval-logloss:0.49381\n",
      "[7]\teval-logloss:0.48273\n"
     ]
    },
    {
     "name": "stderr",
     "output_type": "stream",
     "text": [
      "/opt/conda/lib/python3.7/site-packages/xgboost/core.py:94: UserWarning: ntree_limit is deprecated, use `iteration_range` or model slicing instead.\n",
      "  UserWarning\n"
     ]
    },
    {
     "name": "stdout",
     "output_type": "stream",
     "text": [
      "[8]\teval-logloss:0.47347\n",
      "[9]\teval-logloss:0.46114\n"
     ]
    },
    {
     "name": "stderr",
     "output_type": "stream",
     "text": [
      "/opt/conda/lib/python3.7/site-packages/xgboost/core.py:94: UserWarning: ntree_limit is deprecated, use `iteration_range` or model slicing instead.\n",
      "  UserWarning\n",
      "[I 2023-07-25 12:46:24,885] Trial 40 finished with value: 0.7553668158701742 and parameters: {'booster': 'gbtree', 'lambda': 1.214754237873999, 'alpha': 0.7792503515837261, 'max_depth': 4, 'eta': 0.3179551109017021, 'gamma': 0.3956689493839394, 'grow_policy': 'lossguide', 'min_child_weight': 3, 'scale_pos_weight': 3.3561310834515403}. Best is trial 37 with value: 0.8380699501582379.\n"
     ]
    },
    {
     "name": "stdout",
     "output_type": "stream",
     "text": [
      "[0]\teval-logloss:0.54010\n",
      "[1]\teval-logloss:0.48214\n",
      "[2]\teval-logloss:0.43337\n",
      "[3]\teval-logloss:0.40589\n",
      "[4]\teval-logloss:0.39100\n",
      "[5]\teval-logloss:0.38205\n",
      "[6]\teval-logloss:0.37309\n",
      "[7]\teval-logloss:0.36896\n",
      "[8]\teval-logloss:0.36830\n",
      "[9]\teval-logloss:0.36935\n",
      "[0]\teval-logloss:0.52330\n",
      "[1]\teval-logloss:0.44276\n",
      "[2]\teval-logloss:0.39381\n",
      "[3]\teval-logloss:0.37954\n",
      "[4]\teval-logloss:0.36236\n"
     ]
    },
    {
     "name": "stderr",
     "output_type": "stream",
     "text": [
      "/opt/conda/lib/python3.7/site-packages/xgboost/core.py:94: UserWarning: ntree_limit is deprecated, use `iteration_range` or model slicing instead.\n",
      "  UserWarning\n"
     ]
    },
    {
     "name": "stdout",
     "output_type": "stream",
     "text": [
      "[5]\teval-logloss:0.35053\n",
      "[6]\teval-logloss:0.34519\n",
      "[7]\teval-logloss:0.33925\n",
      "[8]\teval-logloss:0.33478\n",
      "[9]\teval-logloss:0.33315\n",
      "[0]\teval-logloss:0.53522\n",
      "[1]\teval-logloss:0.46607\n",
      "[2]\teval-logloss:0.43282\n",
      "[3]\teval-logloss:0.40067\n",
      "[4]\teval-logloss:0.38630\n"
     ]
    },
    {
     "name": "stderr",
     "output_type": "stream",
     "text": [
      "/opt/conda/lib/python3.7/site-packages/xgboost/core.py:94: UserWarning: ntree_limit is deprecated, use `iteration_range` or model slicing instead.\n",
      "  UserWarning\n"
     ]
    },
    {
     "name": "stdout",
     "output_type": "stream",
     "text": [
      "[5]\teval-logloss:0.37562\n",
      "[6]\teval-logloss:0.36881\n",
      "[7]\teval-logloss:0.36116\n",
      "[8]\teval-logloss:0.35675\n",
      "[9]\teval-logloss:0.35402\n",
      "[0]\teval-logloss:0.52466\n",
      "[1]\teval-logloss:0.45133\n",
      "[2]\teval-logloss:0.42189\n",
      "[3]\teval-logloss:0.39395\n",
      "[4]\teval-logloss:0.38999\n"
     ]
    },
    {
     "name": "stderr",
     "output_type": "stream",
     "text": [
      "/opt/conda/lib/python3.7/site-packages/xgboost/core.py:94: UserWarning: ntree_limit is deprecated, use `iteration_range` or model slicing instead.\n",
      "  UserWarning\n"
     ]
    },
    {
     "name": "stdout",
     "output_type": "stream",
     "text": [
      "[5]\teval-logloss:0.38038\n",
      "[6]\teval-logloss:0.37512\n",
      "[7]\teval-logloss:0.37399\n",
      "[8]\teval-logloss:0.36929\n",
      "[9]\teval-logloss:0.36489\n",
      "[0]\teval-logloss:0.53278\n",
      "[1]\teval-logloss:0.44676\n",
      "[2]\teval-logloss:0.40185\n",
      "[3]\teval-logloss:0.36681\n",
      "[4]\teval-logloss:0.35471\n"
     ]
    },
    {
     "name": "stderr",
     "output_type": "stream",
     "text": [
      "/opt/conda/lib/python3.7/site-packages/xgboost/core.py:94: UserWarning: ntree_limit is deprecated, use `iteration_range` or model slicing instead.\n",
      "  UserWarning\n"
     ]
    },
    {
     "name": "stdout",
     "output_type": "stream",
     "text": [
      "[5]\teval-logloss:0.34482\n",
      "[6]\teval-logloss:0.34198\n",
      "[7]\teval-logloss:0.33596\n",
      "[8]\teval-logloss:0.33239\n",
      "[9]\teval-logloss:0.32996\n"
     ]
    },
    {
     "name": "stderr",
     "output_type": "stream",
     "text": [
      "/opt/conda/lib/python3.7/site-packages/xgboost/core.py:94: UserWarning: ntree_limit is deprecated, use `iteration_range` or model slicing instead.\n",
      "  UserWarning\n",
      "[I 2023-07-25 12:46:26,659] Trial 41 finished with value: 0.8349722751383644 and parameters: {'booster': 'gbtree', 'lambda': 6.0181852859564255, 'alpha': 1.8039435613829615, 'max_depth': 7, 'eta': 0.5471144244593988, 'gamma': 0.43425411074035225, 'grow_policy': 'lossguide', 'min_child_weight': 8, 'scale_pos_weight': 1.121693369637392}. Best is trial 37 with value: 0.8380699501582379.\n"
     ]
    },
    {
     "name": "stdout",
     "output_type": "stream",
     "text": [
      "[0]\teval-logloss:0.56705\n",
      "[1]\teval-logloss:0.50295\n",
      "[2]\teval-logloss:0.46214\n",
      "[3]\teval-logloss:0.43582\n",
      "[4]\teval-logloss:0.42091\n",
      "[5]\teval-logloss:0.40584\n",
      "[6]\teval-logloss:0.39509\n",
      "[7]\teval-logloss:0.38599\n",
      "[8]\teval-logloss:0.38170\n",
      "[9]\teval-logloss:0.37830\n",
      "[0]\teval-logloss:0.55786\n",
      "[1]\teval-logloss:0.48584\n",
      "[2]\teval-logloss:0.44426\n",
      "[3]\teval-logloss:0.41437\n",
      "[4]\teval-logloss:0.39112\n",
      "[5]\teval-logloss:0.37570\n"
     ]
    },
    {
     "name": "stderr",
     "output_type": "stream",
     "text": [
      "/opt/conda/lib/python3.7/site-packages/xgboost/core.py:94: UserWarning: ntree_limit is deprecated, use `iteration_range` or model slicing instead.\n",
      "  UserWarning\n"
     ]
    },
    {
     "name": "stdout",
     "output_type": "stream",
     "text": [
      "[6]\teval-logloss:0.36638\n",
      "[7]\teval-logloss:0.36261\n",
      "[8]\teval-logloss:0.35751\n",
      "[9]\teval-logloss:0.34955\n",
      "[0]\teval-logloss:0.56457\n",
      "[1]\teval-logloss:0.49444\n",
      "[2]\teval-logloss:0.45611\n",
      "[3]\teval-logloss:0.42452\n",
      "[4]\teval-logloss:0.40150\n",
      "[5]\teval-logloss:0.38992\n"
     ]
    },
    {
     "name": "stderr",
     "output_type": "stream",
     "text": [
      "/opt/conda/lib/python3.7/site-packages/xgboost/core.py:94: UserWarning: ntree_limit is deprecated, use `iteration_range` or model slicing instead.\n",
      "  UserWarning\n"
     ]
    },
    {
     "name": "stdout",
     "output_type": "stream",
     "text": [
      "[6]\teval-logloss:0.38094\n",
      "[7]\teval-logloss:0.37547\n",
      "[8]\teval-logloss:0.37217\n",
      "[9]\teval-logloss:0.36992\n",
      "[0]\teval-logloss:0.56540\n",
      "[1]\teval-logloss:0.49572\n",
      "[2]\teval-logloss:0.45416\n",
      "[3]\teval-logloss:0.42361\n",
      "[4]\teval-logloss:0.40065\n",
      "[5]\teval-logloss:0.39002\n"
     ]
    },
    {
     "name": "stderr",
     "output_type": "stream",
     "text": [
      "/opt/conda/lib/python3.7/site-packages/xgboost/core.py:94: UserWarning: ntree_limit is deprecated, use `iteration_range` or model slicing instead.\n",
      "  UserWarning\n"
     ]
    },
    {
     "name": "stdout",
     "output_type": "stream",
     "text": [
      "[6]\teval-logloss:0.38200\n",
      "[7]\teval-logloss:0.37373\n",
      "[8]\teval-logloss:0.36765\n",
      "[9]\teval-logloss:0.36201\n",
      "[0]\teval-logloss:0.55448\n",
      "[1]\teval-logloss:0.48213\n",
      "[2]\teval-logloss:0.43698\n",
      "[3]\teval-logloss:0.40063\n",
      "[4]\teval-logloss:0.38033\n",
      "[5]\teval-logloss:0.36608\n"
     ]
    },
    {
     "name": "stderr",
     "output_type": "stream",
     "text": [
      "/opt/conda/lib/python3.7/site-packages/xgboost/core.py:94: UserWarning: ntree_limit is deprecated, use `iteration_range` or model slicing instead.\n",
      "  UserWarning\n"
     ]
    },
    {
     "name": "stdout",
     "output_type": "stream",
     "text": [
      "[6]\teval-logloss:0.35880\n",
      "[7]\teval-logloss:0.35450\n",
      "[8]\teval-logloss:0.35164\n",
      "[9]\teval-logloss:0.34707\n"
     ]
    },
    {
     "name": "stderr",
     "output_type": "stream",
     "text": [
      "/opt/conda/lib/python3.7/site-packages/xgboost/core.py:94: UserWarning: ntree_limit is deprecated, use `iteration_range` or model slicing instead.\n",
      "  UserWarning\n",
      "[I 2023-07-25 12:46:28,219] Trial 42 finished with value: 0.830697495541785 and parameters: {'booster': 'gbtree', 'lambda': 2.5271760977567705, 'alpha': 1.1842090288190288, 'max_depth': 6, 'eta': 0.42113163721302377, 'gamma': 0.4478276652635652, 'grow_policy': 'lossguide', 'min_child_weight': 8, 'scale_pos_weight': 1.4730470838480154}. Best is trial 37 with value: 0.8380699501582379.\n"
     ]
    },
    {
     "name": "stdout",
     "output_type": "stream",
     "text": [
      "[0]\teval-logloss:0.60967\n",
      "[1]\teval-logloss:0.55541\n",
      "[2]\teval-logloss:0.51330\n",
      "[3]\teval-logloss:0.48642\n",
      "[4]\teval-logloss:0.46795\n",
      "[5]\teval-logloss:0.45535\n",
      "[6]\teval-logloss:0.44034\n",
      "[7]\teval-logloss:0.42706\n",
      "[8]\teval-logloss:0.41659\n",
      "[9]\teval-logloss:0.40945\n",
      "[0]\teval-logloss:0.60377\n",
      "[1]\teval-logloss:0.54483\n",
      "[2]\teval-logloss:0.50245\n",
      "[3]\teval-logloss:0.47434\n"
     ]
    },
    {
     "name": "stderr",
     "output_type": "stream",
     "text": [
      "/opt/conda/lib/python3.7/site-packages/xgboost/core.py:94: UserWarning: ntree_limit is deprecated, use `iteration_range` or model slicing instead.\n",
      "  UserWarning\n"
     ]
    },
    {
     "name": "stdout",
     "output_type": "stream",
     "text": [
      "[4]\teval-logloss:0.45231\n",
      "[5]\teval-logloss:0.43087\n",
      "[6]\teval-logloss:0.42180\n",
      "[7]\teval-logloss:0.40787\n",
      "[8]\teval-logloss:0.39776\n",
      "[9]\teval-logloss:0.38899\n",
      "[0]\teval-logloss:0.60969\n",
      "[1]\teval-logloss:0.55530\n",
      "[2]\teval-logloss:0.51669\n",
      "[3]\teval-logloss:0.48981\n"
     ]
    },
    {
     "name": "stderr",
     "output_type": "stream",
     "text": [
      "/opt/conda/lib/python3.7/site-packages/xgboost/core.py:94: UserWarning: ntree_limit is deprecated, use `iteration_range` or model slicing instead.\n",
      "  UserWarning\n"
     ]
    },
    {
     "name": "stdout",
     "output_type": "stream",
     "text": [
      "[4]\teval-logloss:0.46694\n",
      "[5]\teval-logloss:0.45037\n",
      "[6]\teval-logloss:0.43300\n",
      "[7]\teval-logloss:0.42461\n",
      "[8]\teval-logloss:0.41184\n",
      "[9]\teval-logloss:0.40413\n",
      "[0]\teval-logloss:0.60216\n",
      "[1]\teval-logloss:0.54860\n",
      "[2]\teval-logloss:0.50857\n",
      "[3]\teval-logloss:0.48005\n"
     ]
    },
    {
     "name": "stderr",
     "output_type": "stream",
     "text": [
      "/opt/conda/lib/python3.7/site-packages/xgboost/core.py:94: UserWarning: ntree_limit is deprecated, use `iteration_range` or model slicing instead.\n",
      "  UserWarning\n"
     ]
    },
    {
     "name": "stdout",
     "output_type": "stream",
     "text": [
      "[4]\teval-logloss:0.46067\n",
      "[5]\teval-logloss:0.44526\n",
      "[6]\teval-logloss:0.43249\n",
      "[7]\teval-logloss:0.42163\n",
      "[8]\teval-logloss:0.41290\n",
      "[9]\teval-logloss:0.40833\n",
      "[0]\teval-logloss:0.59919\n",
      "[1]\teval-logloss:0.54156\n",
      "[2]\teval-logloss:0.49860\n",
      "[3]\teval-logloss:0.47039\n"
     ]
    },
    {
     "name": "stderr",
     "output_type": "stream",
     "text": [
      "/opt/conda/lib/python3.7/site-packages/xgboost/core.py:94: UserWarning: ntree_limit is deprecated, use `iteration_range` or model slicing instead.\n",
      "  UserWarning\n"
     ]
    },
    {
     "name": "stdout",
     "output_type": "stream",
     "text": [
      "[4]\teval-logloss:0.44206\n",
      "[5]\teval-logloss:0.42348\n",
      "[6]\teval-logloss:0.40562\n",
      "[7]\teval-logloss:0.39490\n",
      "[8]\teval-logloss:0.38231\n",
      "[9]\teval-logloss:0.37510\n"
     ]
    },
    {
     "name": "stderr",
     "output_type": "stream",
     "text": [
      "/opt/conda/lib/python3.7/site-packages/xgboost/core.py:94: UserWarning: ntree_limit is deprecated, use `iteration_range` or model slicing instead.\n",
      "  UserWarning\n",
      "[I 2023-07-25 12:46:30,202] Trial 43 finished with value: 0.8135747427130446 and parameters: {'booster': 'gbtree', 'lambda': 5.963711422863669, 'alpha': 2.1081920339098694, 'max_depth': 8, 'eta': 0.27882056428269547, 'gamma': 0.7346253777611675, 'grow_policy': 'lossguide', 'min_child_weight': 8, 'scale_pos_weight': 2.0999314432015}. Best is trial 37 with value: 0.8380699501582379.\n"
     ]
    },
    {
     "name": "stdout",
     "output_type": "stream",
     "text": [
      "[0]\teval-logloss:0.50755\n",
      "[1]\teval-logloss:0.46420\n",
      "[2]\teval-logloss:0.43105\n",
      "[3]\teval-logloss:0.40491\n",
      "[4]\teval-logloss:0.38929\n",
      "[5]\teval-logloss:0.38302\n",
      "[6]\teval-logloss:0.37879\n",
      "[7]\teval-logloss:0.37441\n",
      "[8]\teval-logloss:0.37538\n",
      "[9]\teval-logloss:0.37614\n",
      "[0]\teval-logloss:0.48119\n",
      "[1]\teval-logloss:0.40425\n",
      "[2]\teval-logloss:0.37352\n",
      "[3]\teval-logloss:0.36046\n",
      "[4]\teval-logloss:0.35085\n"
     ]
    },
    {
     "name": "stderr",
     "output_type": "stream",
     "text": [
      "/opt/conda/lib/python3.7/site-packages/xgboost/core.py:94: UserWarning: ntree_limit is deprecated, use `iteration_range` or model slicing instead.\n",
      "  UserWarning\n"
     ]
    },
    {
     "name": "stdout",
     "output_type": "stream",
     "text": [
      "[5]\teval-logloss:0.35014\n",
      "[6]\teval-logloss:0.34853\n",
      "[7]\teval-logloss:0.34787\n",
      "[8]\teval-logloss:0.34805\n",
      "[9]\teval-logloss:0.34001\n",
      "[0]\teval-logloss:0.51077\n",
      "[1]\teval-logloss:0.44406\n",
      "[2]\teval-logloss:0.41104\n",
      "[3]\teval-logloss:0.39625\n",
      "[4]\teval-logloss:0.38589\n"
     ]
    },
    {
     "name": "stderr",
     "output_type": "stream",
     "text": [
      "/opt/conda/lib/python3.7/site-packages/xgboost/core.py:94: UserWarning: ntree_limit is deprecated, use `iteration_range` or model slicing instead.\n",
      "  UserWarning\n"
     ]
    },
    {
     "name": "stdout",
     "output_type": "stream",
     "text": [
      "[5]\teval-logloss:0.37785\n",
      "[6]\teval-logloss:0.37240\n",
      "[7]\teval-logloss:0.37727\n",
      "[8]\teval-logloss:0.37778\n",
      "[9]\teval-logloss:0.37912\n",
      "[0]\teval-logloss:0.48571\n",
      "[1]\teval-logloss:0.41418\n",
      "[2]\teval-logloss:0.39289\n",
      "[3]\teval-logloss:0.37780\n",
      "[4]\teval-logloss:0.36818\n"
     ]
    },
    {
     "name": "stderr",
     "output_type": "stream",
     "text": [
      "/opt/conda/lib/python3.7/site-packages/xgboost/core.py:94: UserWarning: ntree_limit is deprecated, use `iteration_range` or model slicing instead.\n",
      "  UserWarning\n"
     ]
    },
    {
     "name": "stdout",
     "output_type": "stream",
     "text": [
      "[5]\teval-logloss:0.36605\n",
      "[6]\teval-logloss:0.37029\n",
      "[7]\teval-logloss:0.36815\n",
      "[8]\teval-logloss:0.36893\n",
      "[9]\teval-logloss:0.36534\n",
      "[0]\teval-logloss:0.48107\n",
      "[1]\teval-logloss:0.40660\n",
      "[2]\teval-logloss:0.37938\n",
      "[3]\teval-logloss:0.36101\n"
     ]
    },
    {
     "name": "stderr",
     "output_type": "stream",
     "text": [
      "/opt/conda/lib/python3.7/site-packages/xgboost/core.py:94: UserWarning: ntree_limit is deprecated, use `iteration_range` or model slicing instead.\n",
      "  UserWarning\n"
     ]
    },
    {
     "name": "stdout",
     "output_type": "stream",
     "text": [
      "[4]\teval-logloss:0.34927\n",
      "[5]\teval-logloss:0.34979\n",
      "[6]\teval-logloss:0.34772\n",
      "[7]\teval-logloss:0.34337\n",
      "[8]\teval-logloss:0.34863\n",
      "[9]\teval-logloss:0.35178\n"
     ]
    },
    {
     "name": "stderr",
     "output_type": "stream",
     "text": [
      "/opt/conda/lib/python3.7/site-packages/xgboost/core.py:94: UserWarning: ntree_limit is deprecated, use `iteration_range` or model slicing instead.\n",
      "  UserWarning\n",
      "[I 2023-07-25 12:46:32,005] Trial 44 finished with value: 0.8294917541520492 and parameters: {'booster': 'gbtree', 'lambda': 3.937344026639498, 'alpha': 0.5724872556768057, 'max_depth': 7, 'eta': 0.7475988269390118, 'gamma': 0.385842764476063, 'grow_policy': 'lossguide', 'min_child_weight': 9, 'scale_pos_weight': 1.000322460433447}. Best is trial 37 with value: 0.8380699501582379.\n"
     ]
    },
    {
     "name": "stdout",
     "output_type": "stream",
     "text": [
      "[0]\teval-logloss:0.59021\n",
      "[1]\teval-logloss:0.53860\n",
      "[2]\teval-logloss:0.49823\n",
      "[3]\teval-logloss:0.46196\n",
      "[4]\teval-logloss:0.43974\n",
      "[5]\teval-logloss:0.41841\n",
      "[6]\teval-logloss:0.40614\n",
      "[7]\teval-logloss:0.39655\n",
      "[8]\teval-logloss:0.38868\n",
      "[9]\teval-logloss:0.38660\n",
      "[0]\teval-logloss:0.58133\n",
      "[1]\teval-logloss:0.52134\n",
      "[2]\teval-logloss:0.48282\n",
      "[3]\teval-logloss:0.44827\n",
      "[4]\teval-logloss:0.42917\n",
      "[5]\teval-logloss:0.41158\n"
     ]
    },
    {
     "name": "stderr",
     "output_type": "stream",
     "text": [
      "/opt/conda/lib/python3.7/site-packages/xgboost/core.py:94: UserWarning: ntree_limit is deprecated, use `iteration_range` or model slicing instead.\n",
      "  UserWarning\n"
     ]
    },
    {
     "name": "stdout",
     "output_type": "stream",
     "text": [
      "[6]\teval-logloss:0.39525\n",
      "[7]\teval-logloss:0.38722\n",
      "[8]\teval-logloss:0.37916\n",
      "[9]\teval-logloss:0.36810\n",
      "[0]\teval-logloss:0.58860\n",
      "[1]\teval-logloss:0.52296\n",
      "[2]\teval-logloss:0.48697\n",
      "[3]\teval-logloss:0.45387\n",
      "[4]\teval-logloss:0.43769\n",
      "[5]\teval-logloss:0.42083\n",
      "[6]\teval-logloss:0.40748\n"
     ]
    },
    {
     "name": "stderr",
     "output_type": "stream",
     "text": [
      "/opt/conda/lib/python3.7/site-packages/xgboost/core.py:94: UserWarning: ntree_limit is deprecated, use `iteration_range` or model slicing instead.\n",
      "  UserWarning\n"
     ]
    },
    {
     "name": "stdout",
     "output_type": "stream",
     "text": [
      "[7]\teval-logloss:0.39277\n",
      "[8]\teval-logloss:0.38601\n",
      "[9]\teval-logloss:0.37941\n",
      "[0]\teval-logloss:0.58323\n",
      "[1]\teval-logloss:0.52233\n",
      "[2]\teval-logloss:0.47665\n",
      "[3]\teval-logloss:0.44398\n",
      "[4]\teval-logloss:0.42399\n",
      "[5]\teval-logloss:0.40843\n",
      "[6]\teval-logloss:0.39923\n"
     ]
    },
    {
     "name": "stderr",
     "output_type": "stream",
     "text": [
      "/opt/conda/lib/python3.7/site-packages/xgboost/core.py:94: UserWarning: ntree_limit is deprecated, use `iteration_range` or model slicing instead.\n",
      "  UserWarning\n"
     ]
    },
    {
     "name": "stdout",
     "output_type": "stream",
     "text": [
      "[7]\teval-logloss:0.39022\n",
      "[8]\teval-logloss:0.38190\n",
      "[9]\teval-logloss:0.37605\n",
      "[0]\teval-logloss:0.58447\n",
      "[1]\teval-logloss:0.51590\n",
      "[2]\teval-logloss:0.46989\n",
      "[3]\teval-logloss:0.43372\n",
      "[4]\teval-logloss:0.40947\n",
      "[5]\teval-logloss:0.39874\n",
      "[6]\teval-logloss:0.38758\n"
     ]
    },
    {
     "name": "stderr",
     "output_type": "stream",
     "text": [
      "/opt/conda/lib/python3.7/site-packages/xgboost/core.py:94: UserWarning: ntree_limit is deprecated, use `iteration_range` or model slicing instead.\n",
      "  UserWarning\n"
     ]
    },
    {
     "name": "stdout",
     "output_type": "stream",
     "text": [
      "[7]\teval-logloss:0.37614\n",
      "[8]\teval-logloss:0.36807\n",
      "[9]\teval-logloss:0.36263\n"
     ]
    },
    {
     "name": "stderr",
     "output_type": "stream",
     "text": [
      "/opt/conda/lib/python3.7/site-packages/xgboost/core.py:94: UserWarning: ntree_limit is deprecated, use `iteration_range` or model slicing instead.\n",
      "  UserWarning\n",
      "[I 2023-07-25 12:46:33,408] Trial 45 finished with value: 0.8301588298394321 and parameters: {'booster': 'gbtree', 'lambda': 6.7123148736446785, 'alpha': 1.2414955664691718, 'max_depth': 5, 'eta': 0.36009064282233577, 'gamma': 0.21752516785997214, 'grow_policy': 'depthwise', 'min_child_weight': 10, 'scale_pos_weight': 1.5342209019353223}. Best is trial 37 with value: 0.8380699501582379.\n"
     ]
    },
    {
     "name": "stdout",
     "output_type": "stream",
     "text": [
      "[0]\teval-logloss:0.54749\n",
      "[1]\teval-logloss:0.49066\n",
      "[2]\teval-logloss:0.45766\n",
      "[3]\teval-logloss:0.43154\n",
      "[4]\teval-logloss:0.41159\n",
      "[5]\teval-logloss:0.39547\n",
      "[6]\teval-logloss:0.38891\n",
      "[7]\teval-logloss:0.38838\n",
      "[8]\teval-logloss:0.38851\n",
      "[9]\teval-logloss:0.38788\n",
      "[0]\teval-logloss:0.53571\n",
      "[1]\teval-logloss:0.46967\n",
      "[2]\teval-logloss:0.43296\n",
      "[3]\teval-logloss:0.39912\n",
      "[4]\teval-logloss:0.38508\n"
     ]
    },
    {
     "name": "stderr",
     "output_type": "stream",
     "text": [
      "/opt/conda/lib/python3.7/site-packages/xgboost/core.py:94: UserWarning: ntree_limit is deprecated, use `iteration_range` or model slicing instead.\n",
      "  UserWarning\n"
     ]
    },
    {
     "name": "stdout",
     "output_type": "stream",
     "text": [
      "[5]\teval-logloss:0.37569\n",
      "[6]\teval-logloss:0.36808\n",
      "[7]\teval-logloss:0.36392\n",
      "[8]\teval-logloss:0.36056\n",
      "[9]\teval-logloss:0.35731\n",
      "[0]\teval-logloss:0.54505\n",
      "[1]\teval-logloss:0.47905\n",
      "[2]\teval-logloss:0.43939\n",
      "[3]\teval-logloss:0.41781\n",
      "[4]\teval-logloss:0.40572\n"
     ]
    },
    {
     "name": "stderr",
     "output_type": "stream",
     "text": [
      "/opt/conda/lib/python3.7/site-packages/xgboost/core.py:94: UserWarning: ntree_limit is deprecated, use `iteration_range` or model slicing instead.\n",
      "  UserWarning\n"
     ]
    },
    {
     "name": "stdout",
     "output_type": "stream",
     "text": [
      "[5]\teval-logloss:0.39878\n",
      "[6]\teval-logloss:0.39005\n",
      "[7]\teval-logloss:0.38574\n",
      "[8]\teval-logloss:0.38211\n",
      "[9]\teval-logloss:0.38189\n",
      "[0]\teval-logloss:0.54018\n",
      "[1]\teval-logloss:0.47728\n",
      "[2]\teval-logloss:0.44335\n",
      "[3]\teval-logloss:0.41246\n",
      "[4]\teval-logloss:0.40108\n"
     ]
    },
    {
     "name": "stderr",
     "output_type": "stream",
     "text": [
      "/opt/conda/lib/python3.7/site-packages/xgboost/core.py:94: UserWarning: ntree_limit is deprecated, use `iteration_range` or model slicing instead.\n",
      "  UserWarning\n"
     ]
    },
    {
     "name": "stdout",
     "output_type": "stream",
     "text": [
      "[5]\teval-logloss:0.39512\n",
      "[6]\teval-logloss:0.38957\n",
      "[7]\teval-logloss:0.38665\n",
      "[8]\teval-logloss:0.38162\n",
      "[9]\teval-logloss:0.37903\n",
      "[0]\teval-logloss:0.54246\n",
      "[1]\teval-logloss:0.46164\n",
      "[2]\teval-logloss:0.43275\n",
      "[3]\teval-logloss:0.39995\n",
      "[4]\teval-logloss:0.38722\n",
      "[5]\teval-logloss:0.37538\n"
     ]
    },
    {
     "name": "stderr",
     "output_type": "stream",
     "text": [
      "/opt/conda/lib/python3.7/site-packages/xgboost/core.py:94: UserWarning: ntree_limit is deprecated, use `iteration_range` or model slicing instead.\n",
      "  UserWarning\n"
     ]
    },
    {
     "name": "stdout",
     "output_type": "stream",
     "text": [
      "[6]\teval-logloss:0.37100\n",
      "[7]\teval-logloss:0.36620\n",
      "[8]\teval-logloss:0.36579\n",
      "[9]\teval-logloss:0.36248\n"
     ]
    },
    {
     "name": "stderr",
     "output_type": "stream",
     "text": [
      "/opt/conda/lib/python3.7/site-packages/xgboost/core.py:94: UserWarning: ntree_limit is deprecated, use `iteration_range` or model slicing instead.\n",
      "  UserWarning\n",
      "[I 2023-07-25 12:46:34,993] Trial 46 finished with value: 0.816783799484518 and parameters: {'booster': 'gbtree', 'lambda': 3.2982467093848395, 'alpha': 1.913601006430487, 'max_depth': 6, 'eta': 0.5663650165311724, 'gamma': 0.4704445223191209, 'grow_policy': 'lossguide', 'min_child_weight': 9, 'scale_pos_weight': 1.915817849340565}. Best is trial 37 with value: 0.8380699501582379.\n"
     ]
    },
    {
     "name": "stdout",
     "output_type": "stream",
     "text": [
      "[0]\teval-logloss:0.54732\n",
      "[1]\teval-logloss:0.47594\n",
      "[2]\teval-logloss:0.44454\n",
      "[3]\teval-logloss:0.42202\n",
      "[4]\teval-logloss:0.40094\n",
      "[5]\teval-logloss:0.38950\n",
      "[6]\teval-logloss:0.38373\n",
      "[7]\teval-logloss:0.37832\n",
      "[8]\teval-logloss:0.37348\n",
      "[9]\teval-logloss:0.37153\n",
      "[0]\teval-logloss:0.52850\n",
      "[1]\teval-logloss:0.45293\n",
      "[2]\teval-logloss:0.41812\n",
      "[3]\teval-logloss:0.38471\n"
     ]
    },
    {
     "name": "stderr",
     "output_type": "stream",
     "text": [
      "/opt/conda/lib/python3.7/site-packages/xgboost/core.py:94: UserWarning: ntree_limit is deprecated, use `iteration_range` or model slicing instead.\n",
      "  UserWarning\n"
     ]
    },
    {
     "name": "stdout",
     "output_type": "stream",
     "text": [
      "[4]\teval-logloss:0.36710\n",
      "[5]\teval-logloss:0.35584\n",
      "[6]\teval-logloss:0.34898\n",
      "[7]\teval-logloss:0.34173\n",
      "[8]\teval-logloss:0.33719\n",
      "[9]\teval-logloss:0.33724\n",
      "[0]\teval-logloss:0.54252\n",
      "[1]\teval-logloss:0.47476\n",
      "[2]\teval-logloss:0.44098\n",
      "[3]\teval-logloss:0.41135\n"
     ]
    },
    {
     "name": "stderr",
     "output_type": "stream",
     "text": [
      "/opt/conda/lib/python3.7/site-packages/xgboost/core.py:94: UserWarning: ntree_limit is deprecated, use `iteration_range` or model slicing instead.\n",
      "  UserWarning\n"
     ]
    },
    {
     "name": "stdout",
     "output_type": "stream",
     "text": [
      "[4]\teval-logloss:0.39955\n",
      "[5]\teval-logloss:0.39144\n",
      "[6]\teval-logloss:0.38555\n",
      "[7]\teval-logloss:0.38666\n",
      "[8]\teval-logloss:0.38492\n",
      "[9]\teval-logloss:0.38072\n",
      "[0]\teval-logloss:0.54049\n",
      "[1]\teval-logloss:0.47014\n",
      "[2]\teval-logloss:0.43328\n",
      "[3]\teval-logloss:0.41103\n"
     ]
    },
    {
     "name": "stderr",
     "output_type": "stream",
     "text": [
      "/opt/conda/lib/python3.7/site-packages/xgboost/core.py:94: UserWarning: ntree_limit is deprecated, use `iteration_range` or model slicing instead.\n",
      "  UserWarning\n"
     ]
    },
    {
     "name": "stdout",
     "output_type": "stream",
     "text": [
      "[4]\teval-logloss:0.39966\n",
      "[5]\teval-logloss:0.39146\n",
      "[6]\teval-logloss:0.38731\n",
      "[7]\teval-logloss:0.38339\n",
      "[8]\teval-logloss:0.38356\n",
      "[9]\teval-logloss:0.38494\n",
      "[0]\teval-logloss:0.51917\n",
      "[1]\teval-logloss:0.44593\n",
      "[2]\teval-logloss:0.40330\n",
      "[3]\teval-logloss:0.37826\n"
     ]
    },
    {
     "name": "stderr",
     "output_type": "stream",
     "text": [
      "/opt/conda/lib/python3.7/site-packages/xgboost/core.py:94: UserWarning: ntree_limit is deprecated, use `iteration_range` or model slicing instead.\n",
      "  UserWarning\n"
     ]
    },
    {
     "name": "stdout",
     "output_type": "stream",
     "text": [
      "[4]\teval-logloss:0.35804\n",
      "[5]\teval-logloss:0.35144\n",
      "[6]\teval-logloss:0.34235\n",
      "[7]\teval-logloss:0.33882\n",
      "[8]\teval-logloss:0.33767\n",
      "[9]\teval-logloss:0.33765\n"
     ]
    },
    {
     "name": "stderr",
     "output_type": "stream",
     "text": [
      "/opt/conda/lib/python3.7/site-packages/xgboost/core.py:94: UserWarning: ntree_limit is deprecated, use `iteration_range` or model slicing instead.\n",
      "  UserWarning\n",
      "[I 2023-07-25 12:46:36,982] Trial 47 finished with value: 0.8233654977391296 and parameters: {'booster': 'gbtree', 'lambda': 2.188246920652491, 'alpha': 0.7867176776348156, 'max_depth': 8, 'eta': 0.5027189470118909, 'gamma': 0.7565751832619744, 'grow_policy': 'lossguide', 'min_child_weight': 7, 'scale_pos_weight': 1.4488612172026072}. Best is trial 37 with value: 0.8380699501582379.\n"
     ]
    },
    {
     "name": "stdout",
     "output_type": "stream",
     "text": [
      "[0]\teval-logloss:0.55001\n",
      "[1]\teval-logloss:0.50883\n",
      "[2]\teval-logloss:0.47504\n",
      "[3]\teval-logloss:0.45547\n",
      "[4]\teval-logloss:0.44177\n",
      "[5]\teval-logloss:0.43003\n",
      "[6]\teval-logloss:0.42681\n",
      "[7]\teval-logloss:0.42954\n",
      "[8]\teval-logloss:0.42527\n",
      "[9]\teval-logloss:0.42429\n",
      "[0]\teval-logloss:0.55130\n",
      "[1]\teval-logloss:0.48258\n",
      "[2]\teval-logloss:0.45462\n",
      "[3]\teval-logloss:0.42632\n",
      "[4]\teval-logloss:0.42184\n"
     ]
    },
    {
     "name": "stderr",
     "output_type": "stream",
     "text": [
      "/opt/conda/lib/python3.7/site-packages/xgboost/core.py:94: UserWarning: ntree_limit is deprecated, use `iteration_range` or model slicing instead.\n",
      "  UserWarning\n"
     ]
    },
    {
     "name": "stdout",
     "output_type": "stream",
     "text": [
      "[5]\teval-logloss:0.41120\n",
      "[6]\teval-logloss:0.40423\n",
      "[7]\teval-logloss:0.39989\n",
      "[8]\teval-logloss:0.39593\n",
      "[9]\teval-logloss:0.39195\n",
      "[0]\teval-logloss:0.55633\n",
      "[1]\teval-logloss:0.49727\n",
      "[2]\teval-logloss:0.47624\n",
      "[3]\teval-logloss:0.45002\n",
      "[4]\teval-logloss:0.44583\n"
     ]
    },
    {
     "name": "stderr",
     "output_type": "stream",
     "text": [
      "/opt/conda/lib/python3.7/site-packages/xgboost/core.py:94: UserWarning: ntree_limit is deprecated, use `iteration_range` or model slicing instead.\n",
      "  UserWarning\n"
     ]
    },
    {
     "name": "stdout",
     "output_type": "stream",
     "text": [
      "[5]\teval-logloss:0.43109\n",
      "[6]\teval-logloss:0.42467\n",
      "[7]\teval-logloss:0.41284\n",
      "[8]\teval-logloss:0.41075\n",
      "[9]\teval-logloss:0.41151\n",
      "[0]\teval-logloss:0.55038\n",
      "[1]\teval-logloss:0.48587\n",
      "[2]\teval-logloss:0.45937\n",
      "[3]\teval-logloss:0.44760\n",
      "[4]\teval-logloss:0.44286\n"
     ]
    },
    {
     "name": "stderr",
     "output_type": "stream",
     "text": [
      "/opt/conda/lib/python3.7/site-packages/xgboost/core.py:94: UserWarning: ntree_limit is deprecated, use `iteration_range` or model slicing instead.\n",
      "  UserWarning\n"
     ]
    },
    {
     "name": "stdout",
     "output_type": "stream",
     "text": [
      "[5]\teval-logloss:0.44405\n",
      "[6]\teval-logloss:0.43455\n",
      "[7]\teval-logloss:0.43284\n",
      "[8]\teval-logloss:0.42337\n",
      "[9]\teval-logloss:0.42118\n",
      "[0]\teval-logloss:0.52848\n",
      "[1]\teval-logloss:0.47305\n",
      "[2]\teval-logloss:0.44057\n",
      "[3]\teval-logloss:0.42744\n",
      "[4]\teval-logloss:0.41541\n"
     ]
    },
    {
     "name": "stderr",
     "output_type": "stream",
     "text": [
      "/opt/conda/lib/python3.7/site-packages/xgboost/core.py:94: UserWarning: ntree_limit is deprecated, use `iteration_range` or model slicing instead.\n",
      "  UserWarning\n"
     ]
    },
    {
     "name": "stdout",
     "output_type": "stream",
     "text": [
      "[5]\teval-logloss:0.40696\n",
      "[6]\teval-logloss:0.39684\n",
      "[7]\teval-logloss:0.39377\n",
      "[8]\teval-logloss:0.38919\n",
      "[9]\teval-logloss:0.39017\n"
     ]
    },
    {
     "name": "stderr",
     "output_type": "stream",
     "text": [
      "/opt/conda/lib/python3.7/site-packages/xgboost/core.py:94: UserWarning: ntree_limit is deprecated, use `iteration_range` or model slicing instead.\n",
      "  UserWarning\n",
      "[I 2023-07-25 12:46:38,805] Trial 48 finished with value: 0.7971111417917097 and parameters: {'booster': 'gbtree', 'lambda': 6.623801585117636, 'alpha': 4.400631163571779, 'max_depth': 7, 'eta': 0.7360971403865918, 'gamma': 0.3446219048349643, 'grow_policy': 'lossguide', 'min_child_weight': 6, 'scale_pos_weight': 2.9247224241550995}. Best is trial 37 with value: 0.8380699501582379.\n"
     ]
    },
    {
     "name": "stdout",
     "output_type": "stream",
     "text": [
      "[0]\teval-logloss:0.61856\n",
      "[1]\teval-logloss:0.56732\n",
      "[2]\teval-logloss:0.53107\n",
      "[3]\teval-logloss:0.50376\n",
      "[4]\teval-logloss:0.48645\n",
      "[5]\teval-logloss:0.46922\n",
      "[6]\teval-logloss:0.45413\n",
      "[7]\teval-logloss:0.44680\n",
      "[8]\teval-logloss:0.43731\n",
      "[9]\teval-logloss:0.42670\n",
      "[0]\teval-logloss:0.61691\n",
      "[1]\teval-logloss:0.56542\n",
      "[2]\teval-logloss:0.52546\n",
      "[3]\teval-logloss:0.49810\n",
      "[4]\teval-logloss:0.47862\n"
     ]
    },
    {
     "name": "stderr",
     "output_type": "stream",
     "text": [
      "/opt/conda/lib/python3.7/site-packages/xgboost/core.py:94: UserWarning: ntree_limit is deprecated, use `iteration_range` or model slicing instead.\n",
      "  UserWarning\n"
     ]
    },
    {
     "name": "stdout",
     "output_type": "stream",
     "text": [
      "[5]\teval-logloss:0.46072\n",
      "[6]\teval-logloss:0.44468\n",
      "[7]\teval-logloss:0.43359\n",
      "[8]\teval-logloss:0.42423\n",
      "[9]\teval-logloss:0.41619\n",
      "[0]\teval-logloss:0.62269\n",
      "[1]\teval-logloss:0.57163\n",
      "[2]\teval-logloss:0.53635\n",
      "[3]\teval-logloss:0.50921\n"
     ]
    },
    {
     "name": "stderr",
     "output_type": "stream",
     "text": [
      "/opt/conda/lib/python3.7/site-packages/xgboost/core.py:94: UserWarning: ntree_limit is deprecated, use `iteration_range` or model slicing instead.\n",
      "  UserWarning\n"
     ]
    },
    {
     "name": "stdout",
     "output_type": "stream",
     "text": [
      "[4]\teval-logloss:0.48807\n",
      "[5]\teval-logloss:0.47161\n",
      "[6]\teval-logloss:0.45902\n",
      "[7]\teval-logloss:0.44376\n",
      "[8]\teval-logloss:0.43191\n",
      "[9]\teval-logloss:0.42119\n",
      "[0]\teval-logloss:0.61373\n",
      "[1]\teval-logloss:0.56685\n",
      "[2]\teval-logloss:0.52971\n",
      "[3]\teval-logloss:0.50352\n",
      "[4]\teval-logloss:0.48390\n"
     ]
    },
    {
     "name": "stderr",
     "output_type": "stream",
     "text": [
      "/opt/conda/lib/python3.7/site-packages/xgboost/core.py:94: UserWarning: ntree_limit is deprecated, use `iteration_range` or model slicing instead.\n",
      "  UserWarning\n"
     ]
    },
    {
     "name": "stdout",
     "output_type": "stream",
     "text": [
      "[5]\teval-logloss:0.46697\n",
      "[6]\teval-logloss:0.45184\n",
      "[7]\teval-logloss:0.44003\n",
      "[8]\teval-logloss:0.43056\n",
      "[9]\teval-logloss:0.42358\n",
      "[0]\teval-logloss:0.61664\n",
      "[1]\teval-logloss:0.56371\n",
      "[2]\teval-logloss:0.52173\n",
      "[3]\teval-logloss:0.49190\n",
      "[4]\teval-logloss:0.47092\n"
     ]
    },
    {
     "name": "stderr",
     "output_type": "stream",
     "text": [
      "/opt/conda/lib/python3.7/site-packages/xgboost/core.py:94: UserWarning: ntree_limit is deprecated, use `iteration_range` or model slicing instead.\n",
      "  UserWarning\n"
     ]
    },
    {
     "name": "stdout",
     "output_type": "stream",
     "text": [
      "[5]\teval-logloss:0.45021\n",
      "[6]\teval-logloss:0.43496\n",
      "[7]\teval-logloss:0.42055\n",
      "[8]\teval-logloss:0.41107\n",
      "[9]\teval-logloss:0.40352\n"
     ]
    },
    {
     "name": "stderr",
     "output_type": "stream",
     "text": [
      "/opt/conda/lib/python3.7/site-packages/xgboost/core.py:94: UserWarning: ntree_limit is deprecated, use `iteration_range` or model slicing instead.\n",
      "  UserWarning\n",
      "[I 2023-07-25 12:46:40,645] Trial 49 finished with value: 0.7958376390947421 and parameters: {'booster': 'gbtree', 'lambda': 1.4049971496965679, 'alpha': 2.358262299252796, 'max_depth': 7, 'eta': 0.23748141111488308, 'gamma': 0.2299893649971974, 'grow_policy': 'lossguide', 'min_child_weight': 3, 'scale_pos_weight': 2.46516489100592}. Best is trial 37 with value: 0.8380699501582379.\n"
     ]
    },
    {
     "name": "stdout",
     "output_type": "stream",
     "text": [
      "[0]\teval-logloss:0.58503\n",
      "[1]\teval-logloss:0.51970\n",
      "[2]\teval-logloss:0.48200\n",
      "[3]\teval-logloss:0.45207\n",
      "[4]\teval-logloss:0.43540\n",
      "[5]\teval-logloss:0.41513\n",
      "[6]\teval-logloss:0.40166\n",
      "[7]\teval-logloss:0.39162\n",
      "[8]\teval-logloss:0.38505\n",
      "[9]\teval-logloss:0.37939\n",
      "[0]\teval-logloss:0.57602\n",
      "[1]\teval-logloss:0.50489\n",
      "[2]\teval-logloss:0.45556\n",
      "[3]\teval-logloss:0.42576\n"
     ]
    },
    {
     "name": "stderr",
     "output_type": "stream",
     "text": [
      "/opt/conda/lib/python3.7/site-packages/xgboost/core.py:94: UserWarning: ntree_limit is deprecated, use `iteration_range` or model slicing instead.\n",
      "  UserWarning\n"
     ]
    },
    {
     "name": "stdout",
     "output_type": "stream",
     "text": [
      "[4]\teval-logloss:0.40087\n",
      "[5]\teval-logloss:0.38298\n",
      "[6]\teval-logloss:0.37317\n",
      "[7]\teval-logloss:0.35980\n",
      "[8]\teval-logloss:0.34989\n",
      "[9]\teval-logloss:0.34214\n",
      "[0]\teval-logloss:0.58365\n",
      "[1]\teval-logloss:0.51691\n",
      "[2]\teval-logloss:0.47560\n",
      "[3]\teval-logloss:0.44476\n"
     ]
    },
    {
     "name": "stderr",
     "output_type": "stream",
     "text": [
      "/opt/conda/lib/python3.7/site-packages/xgboost/core.py:94: UserWarning: ntree_limit is deprecated, use `iteration_range` or model slicing instead.\n",
      "  UserWarning\n"
     ]
    },
    {
     "name": "stdout",
     "output_type": "stream",
     "text": [
      "[4]\teval-logloss:0.42019\n",
      "[5]\teval-logloss:0.40223\n",
      "[6]\teval-logloss:0.38929\n",
      "[7]\teval-logloss:0.37998\n",
      "[8]\teval-logloss:0.37603\n",
      "[9]\teval-logloss:0.36986\n",
      "[0]\teval-logloss:0.57553\n",
      "[1]\teval-logloss:0.50995\n",
      "[2]\teval-logloss:0.46672\n",
      "[3]\teval-logloss:0.43869\n"
     ]
    },
    {
     "name": "stderr",
     "output_type": "stream",
     "text": [
      "/opt/conda/lib/python3.7/site-packages/xgboost/core.py:94: UserWarning: ntree_limit is deprecated, use `iteration_range` or model slicing instead.\n",
      "  UserWarning\n"
     ]
    },
    {
     "name": "stdout",
     "output_type": "stream",
     "text": [
      "[4]\teval-logloss:0.41706\n",
      "[5]\teval-logloss:0.40121\n",
      "[6]\teval-logloss:0.39012\n",
      "[7]\teval-logloss:0.38148\n",
      "[8]\teval-logloss:0.37189\n",
      "[9]\teval-logloss:0.36685\n",
      "[0]\teval-logloss:0.57415\n",
      "[1]\teval-logloss:0.50004\n",
      "[2]\teval-logloss:0.45346\n",
      "[3]\teval-logloss:0.41884\n"
     ]
    },
    {
     "name": "stderr",
     "output_type": "stream",
     "text": [
      "/opt/conda/lib/python3.7/site-packages/xgboost/core.py:94: UserWarning: ntree_limit is deprecated, use `iteration_range` or model slicing instead.\n",
      "  UserWarning\n"
     ]
    },
    {
     "name": "stdout",
     "output_type": "stream",
     "text": [
      "[4]\teval-logloss:0.39516\n",
      "[5]\teval-logloss:0.37926\n",
      "[6]\teval-logloss:0.36744\n",
      "[7]\teval-logloss:0.35624\n",
      "[8]\teval-logloss:0.35298\n",
      "[9]\teval-logloss:0.34594\n"
     ]
    },
    {
     "name": "stderr",
     "output_type": "stream",
     "text": [
      "/opt/conda/lib/python3.7/site-packages/xgboost/core.py:94: UserWarning: ntree_limit is deprecated, use `iteration_range` or model slicing instead.\n",
      "  UserWarning\n",
      "[I 2023-07-25 12:46:42,657] Trial 50 finished with value: 0.8316326384949349 and parameters: {'booster': 'gbtree', 'lambda': 4.153644700247849, 'alpha': 0.46349451378673623, 'max_depth': 8, 'eta': 0.32902278843464594, 'gamma': 0.5332288241870907, 'grow_policy': 'depthwise', 'min_child_weight': 4, 'scale_pos_weight': 1.3651009658359876}. Best is trial 37 with value: 0.8380699501582379.\n"
     ]
    },
    {
     "name": "stdout",
     "output_type": "stream",
     "text": [
      "[0]\teval-logloss:0.56189\n",
      "[1]\teval-logloss:0.49833\n",
      "[2]\teval-logloss:0.45856\n",
      "[3]\teval-logloss:0.43489\n",
      "[4]\teval-logloss:0.41359\n",
      "[5]\teval-logloss:0.39988\n",
      "[6]\teval-logloss:0.38989\n",
      "[7]\teval-logloss:0.38235\n",
      "[8]\teval-logloss:0.37736\n",
      "[9]\teval-logloss:0.37454\n",
      "[0]\teval-logloss:0.54989\n",
      "[1]\teval-logloss:0.47291\n",
      "[2]\teval-logloss:0.42644\n",
      "[3]\teval-logloss:0.39269\n"
     ]
    },
    {
     "name": "stderr",
     "output_type": "stream",
     "text": [
      "/opt/conda/lib/python3.7/site-packages/xgboost/core.py:94: UserWarning: ntree_limit is deprecated, use `iteration_range` or model slicing instead.\n",
      "  UserWarning\n"
     ]
    },
    {
     "name": "stdout",
     "output_type": "stream",
     "text": [
      "[4]\teval-logloss:0.37310\n",
      "[5]\teval-logloss:0.35938\n",
      "[6]\teval-logloss:0.35124\n",
      "[7]\teval-logloss:0.34404\n",
      "[8]\teval-logloss:0.33741\n",
      "[9]\teval-logloss:0.33432\n",
      "[0]\teval-logloss:0.55622\n",
      "[1]\teval-logloss:0.48950\n",
      "[2]\teval-logloss:0.45294\n",
      "[3]\teval-logloss:0.42125\n"
     ]
    },
    {
     "name": "stderr",
     "output_type": "stream",
     "text": [
      "/opt/conda/lib/python3.7/site-packages/xgboost/core.py:94: UserWarning: ntree_limit is deprecated, use `iteration_range` or model slicing instead.\n",
      "  UserWarning\n"
     ]
    },
    {
     "name": "stdout",
     "output_type": "stream",
     "text": [
      "[4]\teval-logloss:0.40029\n",
      "[5]\teval-logloss:0.38627\n",
      "[6]\teval-logloss:0.37854\n",
      "[7]\teval-logloss:0.37167\n",
      "[8]\teval-logloss:0.36606\n",
      "[9]\teval-logloss:0.36425\n",
      "[0]\teval-logloss:0.55162\n",
      "[1]\teval-logloss:0.48151\n",
      "[2]\teval-logloss:0.44282\n"
     ]
    },
    {
     "name": "stderr",
     "output_type": "stream",
     "text": [
      "/opt/conda/lib/python3.7/site-packages/xgboost/core.py:94: UserWarning: ntree_limit is deprecated, use `iteration_range` or model slicing instead.\n",
      "  UserWarning\n"
     ]
    },
    {
     "name": "stdout",
     "output_type": "stream",
     "text": [
      "[3]\teval-logloss:0.41175\n",
      "[4]\teval-logloss:0.39360\n",
      "[5]\teval-logloss:0.38515\n",
      "[6]\teval-logloss:0.38046\n",
      "[7]\teval-logloss:0.37637\n",
      "[8]\teval-logloss:0.37275\n",
      "[9]\teval-logloss:0.37225\n",
      "[0]\teval-logloss:0.54762\n",
      "[1]\teval-logloss:0.47067\n",
      "[2]\teval-logloss:0.42409\n",
      "[3]\teval-logloss:0.39480\n"
     ]
    },
    {
     "name": "stderr",
     "output_type": "stream",
     "text": [
      "/opt/conda/lib/python3.7/site-packages/xgboost/core.py:94: UserWarning: ntree_limit is deprecated, use `iteration_range` or model slicing instead.\n",
      "  UserWarning\n"
     ]
    },
    {
     "name": "stdout",
     "output_type": "stream",
     "text": [
      "[4]\teval-logloss:0.37824\n",
      "[5]\teval-logloss:0.36108\n",
      "[6]\teval-logloss:0.35053\n",
      "[7]\teval-logloss:0.34560\n",
      "[8]\teval-logloss:0.33858\n",
      "[9]\teval-logloss:0.33597\n"
     ]
    },
    {
     "name": "stderr",
     "output_type": "stream",
     "text": [
      "/opt/conda/lib/python3.7/site-packages/xgboost/core.py:94: UserWarning: ntree_limit is deprecated, use `iteration_range` or model slicing instead.\n",
      "  UserWarning\n",
      "[I 2023-07-25 12:46:44,748] Trial 51 finished with value: 0.8326592125667638 and parameters: {'booster': 'gbtree', 'lambda': 4.308775803997042, 'alpha': 0.5394976394334734, 'max_depth': 8, 'eta': 0.4203760164052451, 'gamma': 0.538227849769211, 'grow_policy': 'depthwise', 'min_child_weight': 4, 'scale_pos_weight': 1.3221576741801817}. Best is trial 37 with value: 0.8380699501582379.\n"
     ]
    },
    {
     "name": "stdout",
     "output_type": "stream",
     "text": [
      "[0]\teval-logloss:0.55580\n",
      "[1]\teval-logloss:0.48569\n",
      "[2]\teval-logloss:0.44830\n",
      "[3]\teval-logloss:0.42722\n",
      "[4]\teval-logloss:0.41182\n",
      "[5]\teval-logloss:0.39770\n",
      "[6]\teval-logloss:0.39128\n",
      "[7]\teval-logloss:0.38030\n",
      "[8]\teval-logloss:0.37549\n",
      "[9]\teval-logloss:0.37408\n",
      "[0]\teval-logloss:0.54161\n",
      "[1]\teval-logloss:0.46252\n",
      "[2]\teval-logloss:0.42647\n",
      "[3]\teval-logloss:0.40250\n"
     ]
    },
    {
     "name": "stderr",
     "output_type": "stream",
     "text": [
      "/opt/conda/lib/python3.7/site-packages/xgboost/core.py:94: UserWarning: ntree_limit is deprecated, use `iteration_range` or model slicing instead.\n",
      "  UserWarning\n"
     ]
    },
    {
     "name": "stdout",
     "output_type": "stream",
     "text": [
      "[4]\teval-logloss:0.38323\n",
      "[5]\teval-logloss:0.36853\n",
      "[6]\teval-logloss:0.36405\n",
      "[7]\teval-logloss:0.35604\n",
      "[8]\teval-logloss:0.35267\n",
      "[9]\teval-logloss:0.34575\n",
      "[0]\teval-logloss:0.55218\n",
      "[1]\teval-logloss:0.48261\n",
      "[2]\teval-logloss:0.44097\n",
      "[3]\teval-logloss:0.41326\n"
     ]
    },
    {
     "name": "stderr",
     "output_type": "stream",
     "text": [
      "/opt/conda/lib/python3.7/site-packages/xgboost/core.py:94: UserWarning: ntree_limit is deprecated, use `iteration_range` or model slicing instead.\n",
      "  UserWarning\n"
     ]
    },
    {
     "name": "stdout",
     "output_type": "stream",
     "text": [
      "[4]\teval-logloss:0.39983\n",
      "[5]\teval-logloss:0.38658\n",
      "[6]\teval-logloss:0.37872\n",
      "[7]\teval-logloss:0.37053\n",
      "[8]\teval-logloss:0.36780\n",
      "[9]\teval-logloss:0.37014\n",
      "[0]\teval-logloss:0.54422\n",
      "[1]\teval-logloss:0.47900\n",
      "[2]\teval-logloss:0.43891\n",
      "[3]\teval-logloss:0.41714\n"
     ]
    },
    {
     "name": "stderr",
     "output_type": "stream",
     "text": [
      "/opt/conda/lib/python3.7/site-packages/xgboost/core.py:94: UserWarning: ntree_limit is deprecated, use `iteration_range` or model slicing instead.\n",
      "  UserWarning\n"
     ]
    },
    {
     "name": "stdout",
     "output_type": "stream",
     "text": [
      "[4]\teval-logloss:0.39870\n",
      "[5]\teval-logloss:0.39092\n",
      "[6]\teval-logloss:0.38300\n",
      "[7]\teval-logloss:0.38224\n",
      "[8]\teval-logloss:0.37918\n",
      "[9]\teval-logloss:0.37837\n",
      "[0]\teval-logloss:0.54040\n",
      "[1]\teval-logloss:0.46134\n",
      "[2]\teval-logloss:0.42139\n",
      "[3]\teval-logloss:0.39458\n"
     ]
    },
    {
     "name": "stderr",
     "output_type": "stream",
     "text": [
      "/opt/conda/lib/python3.7/site-packages/xgboost/core.py:94: UserWarning: ntree_limit is deprecated, use `iteration_range` or model slicing instead.\n",
      "  UserWarning\n"
     ]
    },
    {
     "name": "stdout",
     "output_type": "stream",
     "text": [
      "[4]\teval-logloss:0.37813\n",
      "[5]\teval-logloss:0.36772\n",
      "[6]\teval-logloss:0.36253\n",
      "[7]\teval-logloss:0.35659\n",
      "[8]\teval-logloss:0.34991\n",
      "[9]\teval-logloss:0.34500\n"
     ]
    },
    {
     "name": "stderr",
     "output_type": "stream",
     "text": [
      "/opt/conda/lib/python3.7/site-packages/xgboost/core.py:94: UserWarning: ntree_limit is deprecated, use `iteration_range` or model slicing instead.\n",
      "  UserWarning\n",
      "[I 2023-07-25 12:46:46,778] Trial 52 finished with value: 0.8284078392101989 and parameters: {'booster': 'gbtree', 'lambda': 2.0750725458713433, 'alpha': 1.2832564722210136, 'max_depth': 8, 'eta': 0.44197540961410475, 'gamma': 0.4513337869636276, 'grow_policy': 'depthwise', 'min_child_weight': 5, 'scale_pos_weight': 1.3197576438403482}. Best is trial 37 with value: 0.8380699501582379.\n"
     ]
    },
    {
     "name": "stdout",
     "output_type": "stream",
     "text": [
      "[0]\teval-logloss:0.54010\n",
      "[1]\teval-logloss:0.48528\n",
      "[2]\teval-logloss:0.45090\n",
      "[3]\teval-logloss:0.42639\n",
      "[4]\teval-logloss:0.40669\n",
      "[5]\teval-logloss:0.39515\n",
      "[6]\teval-logloss:0.39359\n",
      "[7]\teval-logloss:0.39038\n",
      "[8]\teval-logloss:0.39135\n",
      "[9]\teval-logloss:0.38994\n",
      "[0]\teval-logloss:0.53431\n",
      "[1]\teval-logloss:0.46201\n",
      "[2]\teval-logloss:0.42417\n"
     ]
    },
    {
     "name": "stderr",
     "output_type": "stream",
     "text": [
      "/opt/conda/lib/python3.7/site-packages/xgboost/core.py:94: UserWarning: ntree_limit is deprecated, use `iteration_range` or model slicing instead.\n",
      "  UserWarning\n"
     ]
    },
    {
     "name": "stdout",
     "output_type": "stream",
     "text": [
      "[3]\teval-logloss:0.39382\n",
      "[4]\teval-logloss:0.37584\n",
      "[5]\teval-logloss:0.36240\n",
      "[6]\teval-logloss:0.35611\n",
      "[7]\teval-logloss:0.35256\n",
      "[8]\teval-logloss:0.34752\n",
      "[9]\teval-logloss:0.34914\n",
      "[0]\teval-logloss:0.53885\n",
      "[1]\teval-logloss:0.48164\n",
      "[2]\teval-logloss:0.44661\n",
      "[3]\teval-logloss:0.42997\n"
     ]
    },
    {
     "name": "stderr",
     "output_type": "stream",
     "text": [
      "/opt/conda/lib/python3.7/site-packages/xgboost/core.py:94: UserWarning: ntree_limit is deprecated, use `iteration_range` or model slicing instead.\n",
      "  UserWarning\n"
     ]
    },
    {
     "name": "stdout",
     "output_type": "stream",
     "text": [
      "[4]\teval-logloss:0.41496\n",
      "[5]\teval-logloss:0.40465\n",
      "[6]\teval-logloss:0.39660\n",
      "[7]\teval-logloss:0.39490\n",
      "[8]\teval-logloss:0.39153\n",
      "[9]\teval-logloss:0.39396\n",
      "[0]\teval-logloss:0.54618\n",
      "[1]\teval-logloss:0.49126\n",
      "[2]\teval-logloss:0.45453\n"
     ]
    },
    {
     "name": "stderr",
     "output_type": "stream",
     "text": [
      "/opt/conda/lib/python3.7/site-packages/xgboost/core.py:94: UserWarning: ntree_limit is deprecated, use `iteration_range` or model slicing instead.\n",
      "  UserWarning\n"
     ]
    },
    {
     "name": "stdout",
     "output_type": "stream",
     "text": [
      "[3]\teval-logloss:0.42789\n",
      "[4]\teval-logloss:0.41334\n",
      "[5]\teval-logloss:0.40729\n",
      "[6]\teval-logloss:0.39774\n",
      "[7]\teval-logloss:0.39636\n",
      "[8]\teval-logloss:0.39116\n",
      "[9]\teval-logloss:0.38766\n",
      "[0]\teval-logloss:0.53482\n",
      "[1]\teval-logloss:0.46530\n",
      "[2]\teval-logloss:0.42860\n"
     ]
    },
    {
     "name": "stderr",
     "output_type": "stream",
     "text": [
      "/opt/conda/lib/python3.7/site-packages/xgboost/core.py:94: UserWarning: ntree_limit is deprecated, use `iteration_range` or model slicing instead.\n",
      "  UserWarning\n"
     ]
    },
    {
     "name": "stdout",
     "output_type": "stream",
     "text": [
      "[3]\teval-logloss:0.40129\n",
      "[4]\teval-logloss:0.38587\n",
      "[5]\teval-logloss:0.37560\n",
      "[6]\teval-logloss:0.37375\n",
      "[7]\teval-logloss:0.37373\n",
      "[8]\teval-logloss:0.37143\n",
      "[9]\teval-logloss:0.36754\n"
     ]
    },
    {
     "name": "stderr",
     "output_type": "stream",
     "text": [
      "/opt/conda/lib/python3.7/site-packages/xgboost/core.py:94: UserWarning: ntree_limit is deprecated, use `iteration_range` or model slicing instead.\n",
      "  UserWarning\n",
      "[I 2023-07-25 12:46:49,085] Trial 53 finished with value: 0.8153652671141757 and parameters: {'booster': 'gbtree', 'lambda': 3.3790837490086263, 'alpha': 0.7917598365013118, 'max_depth': 9, 'eta': 0.5231950273640127, 'gamma': 0.6240692563223647, 'grow_policy': 'depthwise', 'min_child_weight': 3, 'scale_pos_weight': 1.8412767532593985}. Best is trial 37 with value: 0.8380699501582379.\n"
     ]
    },
    {
     "name": "stdout",
     "output_type": "stream",
     "text": [
      "[0]\teval-logloss:0.49443\n",
      "[1]\teval-logloss:0.43327\n",
      "[2]\teval-logloss:0.40242\n",
      "[3]\teval-logloss:0.39026\n",
      "[4]\teval-logloss:0.38474\n",
      "[5]\teval-logloss:0.38582\n",
      "[6]\teval-logloss:0.38494\n",
      "[7]\teval-logloss:0.38468\n",
      "[8]\teval-logloss:0.38618\n",
      "[9]\teval-logloss:0.39548\n",
      "[0]\teval-logloss:0.47583\n",
      "[1]\teval-logloss:0.39231\n",
      "[2]\teval-logloss:0.37388\n",
      "[3]\teval-logloss:0.36170\n",
      "[4]\teval-logloss:0.34958\n"
     ]
    },
    {
     "name": "stderr",
     "output_type": "stream",
     "text": [
      "/opt/conda/lib/python3.7/site-packages/xgboost/core.py:94: UserWarning: ntree_limit is deprecated, use `iteration_range` or model slicing instead.\n",
      "  UserWarning\n"
     ]
    },
    {
     "name": "stdout",
     "output_type": "stream",
     "text": [
      "[5]\teval-logloss:0.34615\n",
      "[6]\teval-logloss:0.34417\n",
      "[7]\teval-logloss:0.34150\n",
      "[8]\teval-logloss:0.33982\n",
      "[9]\teval-logloss:0.33906\n",
      "[0]\teval-logloss:0.49530\n",
      "[1]\teval-logloss:0.44342\n",
      "[2]\teval-logloss:0.40337\n",
      "[3]\teval-logloss:0.38910\n",
      "[4]\teval-logloss:0.38408\n"
     ]
    },
    {
     "name": "stderr",
     "output_type": "stream",
     "text": [
      "/opt/conda/lib/python3.7/site-packages/xgboost/core.py:94: UserWarning: ntree_limit is deprecated, use `iteration_range` or model slicing instead.\n",
      "  UserWarning\n"
     ]
    },
    {
     "name": "stdout",
     "output_type": "stream",
     "text": [
      "[5]\teval-logloss:0.37812\n",
      "[6]\teval-logloss:0.37731\n",
      "[7]\teval-logloss:0.37978\n",
      "[8]\teval-logloss:0.38361\n",
      "[9]\teval-logloss:0.38621\n",
      "[0]\teval-logloss:0.47688\n",
      "[1]\teval-logloss:0.41917\n",
      "[2]\teval-logloss:0.40044\n",
      "[3]\teval-logloss:0.38485\n",
      "[4]\teval-logloss:0.37692\n"
     ]
    },
    {
     "name": "stderr",
     "output_type": "stream",
     "text": [
      "/opt/conda/lib/python3.7/site-packages/xgboost/core.py:94: UserWarning: ntree_limit is deprecated, use `iteration_range` or model slicing instead.\n",
      "  UserWarning\n"
     ]
    },
    {
     "name": "stdout",
     "output_type": "stream",
     "text": [
      "[5]\teval-logloss:0.37340\n",
      "[6]\teval-logloss:0.37879\n",
      "[7]\teval-logloss:0.37946\n",
      "[8]\teval-logloss:0.38091\n",
      "[9]\teval-logloss:0.38487\n",
      "[0]\teval-logloss:0.47534\n",
      "[1]\teval-logloss:0.40518\n",
      "[2]\teval-logloss:0.37305\n",
      "[3]\teval-logloss:0.35827\n",
      "[4]\teval-logloss:0.35386\n"
     ]
    },
    {
     "name": "stderr",
     "output_type": "stream",
     "text": [
      "/opt/conda/lib/python3.7/site-packages/xgboost/core.py:94: UserWarning: ntree_limit is deprecated, use `iteration_range` or model slicing instead.\n",
      "  UserWarning\n"
     ]
    },
    {
     "name": "stdout",
     "output_type": "stream",
     "text": [
      "[5]\teval-logloss:0.35450\n",
      "[6]\teval-logloss:0.35087\n",
      "[7]\teval-logloss:0.34820\n",
      "[8]\teval-logloss:0.35170\n",
      "[9]\teval-logloss:0.35218\n"
     ]
    },
    {
     "name": "stderr",
     "output_type": "stream",
     "text": [
      "/opt/conda/lib/python3.7/site-packages/xgboost/core.py:94: UserWarning: ntree_limit is deprecated, use `iteration_range` or model slicing instead.\n",
      "  UserWarning\n",
      "[I 2023-07-25 12:46:50,908] Trial 54 finished with value: 0.8275234639520315 and parameters: {'booster': 'gbtree', 'lambda': 5.136224173135753, 'alpha': 1.6918103146350136, 'max_depth': 7, 'eta': 0.8159068193566646, 'gamma': 0.3170116253919054, 'grow_policy': 'depthwise', 'min_child_weight': 4, 'scale_pos_weight': 1.025487223870785}. Best is trial 37 with value: 0.8380699501582379.\n"
     ]
    },
    {
     "name": "stdout",
     "output_type": "stream",
     "text": [
      "[0]\teval-logloss:0.58931\n",
      "[1]\teval-logloss:0.53310\n",
      "[2]\teval-logloss:0.49871\n",
      "[3]\teval-logloss:0.46911\n",
      "[4]\teval-logloss:0.44705\n",
      "[5]\teval-logloss:0.43631\n",
      "[6]\teval-logloss:0.42171\n",
      "[7]\teval-logloss:0.42024\n",
      "[8]\teval-logloss:0.41377\n",
      "[9]\teval-logloss:0.40758\n",
      "[0]\teval-logloss:0.58234\n",
      "[1]\teval-logloss:0.52054\n",
      "[2]\teval-logloss:0.47692\n",
      "[3]\teval-logloss:0.44828\n",
      "[4]\teval-logloss:0.42954\n"
     ]
    },
    {
     "name": "stderr",
     "output_type": "stream",
     "text": [
      "/opt/conda/lib/python3.7/site-packages/xgboost/core.py:94: UserWarning: ntree_limit is deprecated, use `iteration_range` or model slicing instead.\n",
      "  UserWarning\n"
     ]
    },
    {
     "name": "stdout",
     "output_type": "stream",
     "text": [
      "[5]\teval-logloss:0.41481\n",
      "[6]\teval-logloss:0.40774\n",
      "[7]\teval-logloss:0.40027\n",
      "[8]\teval-logloss:0.39312\n",
      "[9]\teval-logloss:0.38979\n",
      "[0]\teval-logloss:0.58904\n",
      "[1]\teval-logloss:0.52651\n",
      "[2]\teval-logloss:0.48991\n",
      "[3]\teval-logloss:0.46611\n",
      "[4]\teval-logloss:0.44487\n",
      "[5]\teval-logloss:0.42895\n"
     ]
    },
    {
     "name": "stderr",
     "output_type": "stream",
     "text": [
      "/opt/conda/lib/python3.7/site-packages/xgboost/core.py:94: UserWarning: ntree_limit is deprecated, use `iteration_range` or model slicing instead.\n",
      "  UserWarning\n"
     ]
    },
    {
     "name": "stdout",
     "output_type": "stream",
     "text": [
      "[6]\teval-logloss:0.41641\n",
      "[7]\teval-logloss:0.40735\n",
      "[8]\teval-logloss:0.40078\n",
      "[9]\teval-logloss:0.39702\n",
      "[0]\teval-logloss:0.57919\n",
      "[1]\teval-logloss:0.52796\n",
      "[2]\teval-logloss:0.49965\n",
      "[3]\teval-logloss:0.47079\n",
      "[4]\teval-logloss:0.45391\n"
     ]
    },
    {
     "name": "stderr",
     "output_type": "stream",
     "text": [
      "/opt/conda/lib/python3.7/site-packages/xgboost/core.py:94: UserWarning: ntree_limit is deprecated, use `iteration_range` or model slicing instead.\n",
      "  UserWarning\n"
     ]
    },
    {
     "name": "stdout",
     "output_type": "stream",
     "text": [
      "[5]\teval-logloss:0.43960\n",
      "[6]\teval-logloss:0.43233\n",
      "[7]\teval-logloss:0.41826\n",
      "[8]\teval-logloss:0.40914\n",
      "[9]\teval-logloss:0.40646\n",
      "[0]\teval-logloss:0.57857\n",
      "[1]\teval-logloss:0.51320\n",
      "[2]\teval-logloss:0.47418\n",
      "[3]\teval-logloss:0.44867\n",
      "[4]\teval-logloss:0.43001\n"
     ]
    },
    {
     "name": "stderr",
     "output_type": "stream",
     "text": [
      "/opt/conda/lib/python3.7/site-packages/xgboost/core.py:94: UserWarning: ntree_limit is deprecated, use `iteration_range` or model slicing instead.\n",
      "  UserWarning\n"
     ]
    },
    {
     "name": "stdout",
     "output_type": "stream",
     "text": [
      "[5]\teval-logloss:0.40779\n",
      "[6]\teval-logloss:0.39344\n",
      "[7]\teval-logloss:0.38410\n",
      "[8]\teval-logloss:0.37852\n",
      "[9]\teval-logloss:0.37639\n"
     ]
    },
    {
     "name": "stderr",
     "output_type": "stream",
     "text": [
      "/opt/conda/lib/python3.7/site-packages/xgboost/core.py:94: UserWarning: ntree_limit is deprecated, use `iteration_range` or model slicing instead.\n",
      "  UserWarning\n",
      "[I 2023-07-25 12:46:52,541] Trial 55 finished with value: 0.8040465506448727 and parameters: {'booster': 'gbtree', 'lambda': 6.872866681535925, 'alpha': 0.3832899020584434, 'max_depth': 6, 'eta': 0.3975048584388339, 'gamma': 0.8201363388411599, 'grow_policy': 'depthwise', 'min_child_weight': 6, 'scale_pos_weight': 2.2638288086942606}. Best is trial 37 with value: 0.8380699501582379.\n"
     ]
    },
    {
     "name": "stdout",
     "output_type": "stream",
     "text": [
      "[0]\teval-logloss:0.52043\n",
      "[1]\teval-logloss:0.46908\n",
      "[2]\teval-logloss:0.43044\n",
      "[3]\teval-logloss:0.40391\n",
      "[4]\teval-logloss:0.39349\n",
      "[5]\teval-logloss:0.38828\n",
      "[6]\teval-logloss:0.38529\n",
      "[7]\teval-logloss:0.38176\n",
      "[8]\teval-logloss:0.38114\n",
      "[9]\teval-logloss:0.38209\n",
      "[0]\teval-logloss:0.50192\n",
      "[1]\teval-logloss:0.43179\n",
      "[2]\teval-logloss:0.39623\n",
      "[3]\teval-logloss:0.37273\n",
      "[4]\teval-logloss:0.36512\n"
     ]
    },
    {
     "name": "stderr",
     "output_type": "stream",
     "text": [
      "/opt/conda/lib/python3.7/site-packages/xgboost/core.py:94: UserWarning: ntree_limit is deprecated, use `iteration_range` or model slicing instead.\n",
      "  UserWarning\n"
     ]
    },
    {
     "name": "stdout",
     "output_type": "stream",
     "text": [
      "[5]\teval-logloss:0.35775\n",
      "[6]\teval-logloss:0.35729\n",
      "[7]\teval-logloss:0.35308\n",
      "[8]\teval-logloss:0.35160\n",
      "[9]\teval-logloss:0.35205\n",
      "[0]\teval-logloss:0.51286\n",
      "[1]\teval-logloss:0.43891\n",
      "[2]\teval-logloss:0.41444\n",
      "[3]\teval-logloss:0.38945\n",
      "[4]\teval-logloss:0.37742\n"
     ]
    },
    {
     "name": "stderr",
     "output_type": "stream",
     "text": [
      "/opt/conda/lib/python3.7/site-packages/xgboost/core.py:94: UserWarning: ntree_limit is deprecated, use `iteration_range` or model slicing instead.\n",
      "  UserWarning\n"
     ]
    },
    {
     "name": "stdout",
     "output_type": "stream",
     "text": [
      "[5]\teval-logloss:0.37459\n",
      "[6]\teval-logloss:0.37104\n",
      "[7]\teval-logloss:0.37489\n",
      "[8]\teval-logloss:0.37138\n",
      "[9]\teval-logloss:0.37294\n",
      "[0]\teval-logloss:0.50765\n",
      "[1]\teval-logloss:0.44650\n",
      "[2]\teval-logloss:0.41553\n",
      "[3]\teval-logloss:0.39922\n",
      "[4]\teval-logloss:0.39170\n"
     ]
    },
    {
     "name": "stderr",
     "output_type": "stream",
     "text": [
      "/opt/conda/lib/python3.7/site-packages/xgboost/core.py:94: UserWarning: ntree_limit is deprecated, use `iteration_range` or model slicing instead.\n",
      "  UserWarning\n"
     ]
    },
    {
     "name": "stdout",
     "output_type": "stream",
     "text": [
      "[5]\teval-logloss:0.38195\n",
      "[6]\teval-logloss:0.38541\n",
      "[7]\teval-logloss:0.38680\n",
      "[8]\teval-logloss:0.38249\n",
      "[9]\teval-logloss:0.38442\n",
      "[0]\teval-logloss:0.50752\n",
      "[1]\teval-logloss:0.42660\n",
      "[2]\teval-logloss:0.38217\n",
      "[3]\teval-logloss:0.36416\n",
      "[4]\teval-logloss:0.35598\n"
     ]
    },
    {
     "name": "stderr",
     "output_type": "stream",
     "text": [
      "/opt/conda/lib/python3.7/site-packages/xgboost/core.py:94: UserWarning: ntree_limit is deprecated, use `iteration_range` or model slicing instead.\n",
      "  UserWarning\n"
     ]
    },
    {
     "name": "stdout",
     "output_type": "stream",
     "text": [
      "[5]\teval-logloss:0.34132\n",
      "[6]\teval-logloss:0.34360\n",
      "[7]\teval-logloss:0.33952\n",
      "[8]\teval-logloss:0.33925\n",
      "[9]\teval-logloss:0.33830\n"
     ]
    },
    {
     "name": "stderr",
     "output_type": "stream",
     "text": [
      "/opt/conda/lib/python3.7/site-packages/xgboost/core.py:94: UserWarning: ntree_limit is deprecated, use `iteration_range` or model slicing instead.\n",
      "  UserWarning\n",
      "[I 2023-07-25 12:46:54,367] Trial 56 finished with value: 0.8216167903600745 and parameters: {'booster': 'gbtree', 'lambda': 4.524116598326103, 'alpha': 1.0418860514057167, 'max_depth': 7, 'eta': 0.6458012620807606, 'gamma': 0.3977868604340183, 'grow_policy': 'lossguide', 'min_child_weight': 3, 'scale_pos_weight': 1.3270625820859503}. Best is trial 37 with value: 0.8380699501582379.\n"
     ]
    },
    {
     "name": "stdout",
     "output_type": "stream",
     "text": [
      "[0]\teval-logloss:0.64374\n",
      "[1]\teval-logloss:0.60433\n",
      "[2]\teval-logloss:0.57170\n",
      "[3]\teval-logloss:0.54890\n",
      "[4]\teval-logloss:0.52831\n",
      "[5]\teval-logloss:0.51034\n",
      "[6]\teval-logloss:0.49697\n",
      "[7]\teval-logloss:0.48459\n",
      "[8]\teval-logloss:0.47155\n",
      "[9]\teval-logloss:0.46080\n",
      "[0]\teval-logloss:0.64100\n",
      "[1]\teval-logloss:0.60144\n",
      "[2]\teval-logloss:0.57142\n",
      "[3]\teval-logloss:0.54379\n",
      "[4]\teval-logloss:0.52008\n",
      "[5]\teval-logloss:0.50226\n",
      "[6]\teval-logloss:0.48753\n"
     ]
    },
    {
     "name": "stderr",
     "output_type": "stream",
     "text": [
      "/opt/conda/lib/python3.7/site-packages/xgboost/core.py:94: UserWarning: ntree_limit is deprecated, use `iteration_range` or model slicing instead.\n",
      "  UserWarning\n"
     ]
    },
    {
     "name": "stdout",
     "output_type": "stream",
     "text": [
      "[7]\teval-logloss:0.47315\n",
      "[8]\teval-logloss:0.46264\n",
      "[9]\teval-logloss:0.45162\n",
      "[0]\teval-logloss:0.64215\n",
      "[1]\teval-logloss:0.60310\n",
      "[2]\teval-logloss:0.57556\n",
      "[3]\teval-logloss:0.55052\n",
      "[4]\teval-logloss:0.52724\n",
      "[5]\teval-logloss:0.50927\n",
      "[6]\teval-logloss:0.49692\n"
     ]
    },
    {
     "name": "stderr",
     "output_type": "stream",
     "text": [
      "/opt/conda/lib/python3.7/site-packages/xgboost/core.py:94: UserWarning: ntree_limit is deprecated, use `iteration_range` or model slicing instead.\n",
      "  UserWarning\n"
     ]
    },
    {
     "name": "stdout",
     "output_type": "stream",
     "text": [
      "[7]\teval-logloss:0.48406\n",
      "[8]\teval-logloss:0.47021\n",
      "[9]\teval-logloss:0.46155\n",
      "[0]\teval-logloss:0.64125\n",
      "[1]\teval-logloss:0.60049\n",
      "[2]\teval-logloss:0.56779\n",
      "[3]\teval-logloss:0.54163\n",
      "[4]\teval-logloss:0.52326\n",
      "[5]\teval-logloss:0.50625\n",
      "[6]\teval-logloss:0.49201\n"
     ]
    },
    {
     "name": "stderr",
     "output_type": "stream",
     "text": [
      "/opt/conda/lib/python3.7/site-packages/xgboost/core.py:94: UserWarning: ntree_limit is deprecated, use `iteration_range` or model slicing instead.\n",
      "  UserWarning\n"
     ]
    },
    {
     "name": "stdout",
     "output_type": "stream",
     "text": [
      "[7]\teval-logloss:0.47554\n",
      "[8]\teval-logloss:0.46298\n",
      "[9]\teval-logloss:0.45272\n",
      "[0]\teval-logloss:0.64107\n",
      "[1]\teval-logloss:0.60068\n",
      "[2]\teval-logloss:0.56853\n",
      "[3]\teval-logloss:0.53911\n",
      "[4]\teval-logloss:0.51642\n",
      "[5]\teval-logloss:0.49559\n",
      "[6]\teval-logloss:0.47863\n"
     ]
    },
    {
     "name": "stderr",
     "output_type": "stream",
     "text": [
      "/opt/conda/lib/python3.7/site-packages/xgboost/core.py:94: UserWarning: ntree_limit is deprecated, use `iteration_range` or model slicing instead.\n",
      "  UserWarning\n"
     ]
    },
    {
     "name": "stdout",
     "output_type": "stream",
     "text": [
      "[7]\teval-logloss:0.46171\n",
      "[8]\teval-logloss:0.44906\n",
      "[9]\teval-logloss:0.43631\n"
     ]
    },
    {
     "name": "stderr",
     "output_type": "stream",
     "text": [
      "/opt/conda/lib/python3.7/site-packages/xgboost/core.py:94: UserWarning: ntree_limit is deprecated, use `iteration_range` or model slicing instead.\n",
      "  UserWarning\n",
      "[I 2023-07-25 12:46:55,747] Trial 57 finished with value: 0.8146815870590153 and parameters: {'booster': 'gbtree', 'lambda': 2.8121921022169865, 'alpha': 0.6486033837719287, 'max_depth': 5, 'eta': 0.15443425665798577, 'gamma': 0.26764430358481917, 'grow_policy': 'lossguide', 'min_child_weight': 4, 'scale_pos_weight': 1.7792966941845816}. Best is trial 37 with value: 0.8380699501582379.\n"
     ]
    },
    {
     "name": "stdout",
     "output_type": "stream",
     "text": [
      "[0]\teval-logloss:0.53214\n",
      "[1]\teval-logloss:0.46617\n",
      "[2]\teval-logloss:0.43569\n",
      "[3]\teval-logloss:0.40628\n",
      "[4]\teval-logloss:0.39061\n",
      "[5]\teval-logloss:0.38183\n",
      "[6]\teval-logloss:0.37862\n",
      "[7]\teval-logloss:0.37249\n",
      "[8]\teval-logloss:0.36760\n",
      "[9]\teval-logloss:0.36568\n",
      "[0]\teval-logloss:0.51869\n",
      "[1]\teval-logloss:0.43973\n",
      "[2]\teval-logloss:0.40738\n"
     ]
    },
    {
     "name": "stderr",
     "output_type": "stream",
     "text": [
      "/opt/conda/lib/python3.7/site-packages/xgboost/core.py:94: UserWarning: ntree_limit is deprecated, use `iteration_range` or model slicing instead.\n",
      "  UserWarning\n"
     ]
    },
    {
     "name": "stdout",
     "output_type": "stream",
     "text": [
      "[3]\teval-logloss:0.38088\n",
      "[4]\teval-logloss:0.36026\n",
      "[5]\teval-logloss:0.35134\n",
      "[6]\teval-logloss:0.34667\n",
      "[7]\teval-logloss:0.34441\n",
      "[8]\teval-logloss:0.34080\n",
      "[9]\teval-logloss:0.34303\n",
      "[0]\teval-logloss:0.53581\n",
      "[1]\teval-logloss:0.46612\n",
      "[2]\teval-logloss:0.42507\n",
      "[3]\teval-logloss:0.40176\n"
     ]
    },
    {
     "name": "stderr",
     "output_type": "stream",
     "text": [
      "/opt/conda/lib/python3.7/site-packages/xgboost/core.py:94: UserWarning: ntree_limit is deprecated, use `iteration_range` or model slicing instead.\n",
      "  UserWarning\n"
     ]
    },
    {
     "name": "stdout",
     "output_type": "stream",
     "text": [
      "[4]\teval-logloss:0.38295\n",
      "[5]\teval-logloss:0.36743\n",
      "[6]\teval-logloss:0.36400\n",
      "[7]\teval-logloss:0.36106\n",
      "[8]\teval-logloss:0.36049\n",
      "[9]\teval-logloss:0.35916\n",
      "[0]\teval-logloss:0.52694\n",
      "[1]\teval-logloss:0.45533\n",
      "[2]\teval-logloss:0.42318\n",
      "[3]\teval-logloss:0.40646\n"
     ]
    },
    {
     "name": "stderr",
     "output_type": "stream",
     "text": [
      "/opt/conda/lib/python3.7/site-packages/xgboost/core.py:94: UserWarning: ntree_limit is deprecated, use `iteration_range` or model slicing instead.\n",
      "  UserWarning\n"
     ]
    },
    {
     "name": "stdout",
     "output_type": "stream",
     "text": [
      "[4]\teval-logloss:0.39415\n",
      "[5]\teval-logloss:0.38881\n",
      "[6]\teval-logloss:0.38655\n",
      "[7]\teval-logloss:0.38124\n",
      "[8]\teval-logloss:0.37583\n",
      "[9]\teval-logloss:0.37746\n",
      "[0]\teval-logloss:0.51535\n",
      "[1]\teval-logloss:0.43548\n",
      "[2]\teval-logloss:0.38485\n"
     ]
    },
    {
     "name": "stderr",
     "output_type": "stream",
     "text": [
      "/opt/conda/lib/python3.7/site-packages/xgboost/core.py:94: UserWarning: ntree_limit is deprecated, use `iteration_range` or model slicing instead.\n",
      "  UserWarning\n"
     ]
    },
    {
     "name": "stdout",
     "output_type": "stream",
     "text": [
      "[3]\teval-logloss:0.36178\n",
      "[4]\teval-logloss:0.35651\n",
      "[5]\teval-logloss:0.34348\n",
      "[6]\teval-logloss:0.33623\n",
      "[7]\teval-logloss:0.32948\n",
      "[8]\teval-logloss:0.32820\n",
      "[9]\teval-logloss:0.32888\n"
     ]
    },
    {
     "name": "stderr",
     "output_type": "stream",
     "text": [
      "/opt/conda/lib/python3.7/site-packages/xgboost/core.py:94: UserWarning: ntree_limit is deprecated, use `iteration_range` or model slicing instead.\n",
      "  UserWarning\n",
      "[I 2023-07-25 12:46:58,015] Trial 58 finished with value: 0.833804138437227 and parameters: {'booster': 'gbtree', 'lambda': 1.1273671632843663, 'alpha': 3.1814991676292608, 'max_depth': 9, 'eta': 0.5368589317039868, 'gamma': 0.18185195888485445, 'grow_policy': 'depthwise', 'min_child_weight': 5, 'scale_pos_weight': 1.25244501965606}. Best is trial 37 with value: 0.8380699501582379.\n"
     ]
    },
    {
     "name": "stdout",
     "output_type": "stream",
     "text": [
      "[0]\teval-logloss:0.49886\n",
      "[1]\teval-logloss:0.44058\n",
      "[2]\teval-logloss:0.42720\n",
      "[3]\teval-logloss:0.41832\n",
      "[4]\teval-logloss:0.41025\n",
      "[5]\teval-logloss:0.41801\n",
      "[6]\teval-logloss:0.42551\n",
      "[7]\teval-logloss:0.42554\n",
      "[8]\teval-logloss:0.42195\n",
      "[9]\teval-logloss:0.42774\n",
      "[0]\teval-logloss:0.49689\n",
      "[1]\teval-logloss:0.44031\n",
      "[2]\teval-logloss:0.41328\n"
     ]
    },
    {
     "name": "stderr",
     "output_type": "stream",
     "text": [
      "/opt/conda/lib/python3.7/site-packages/xgboost/core.py:94: UserWarning: ntree_limit is deprecated, use `iteration_range` or model slicing instead.\n",
      "  UserWarning\n"
     ]
    },
    {
     "name": "stdout",
     "output_type": "stream",
     "text": [
      "[3]\teval-logloss:0.41374\n",
      "[4]\teval-logloss:0.41488\n",
      "[5]\teval-logloss:0.41731\n",
      "[6]\teval-logloss:0.42506\n",
      "[7]\teval-logloss:0.42864\n",
      "[8]\teval-logloss:0.43584\n",
      "[9]\teval-logloss:0.42778\n",
      "[0]\teval-logloss:0.51287\n",
      "[1]\teval-logloss:0.46851\n",
      "[2]\teval-logloss:0.44015\n"
     ]
    },
    {
     "name": "stderr",
     "output_type": "stream",
     "text": [
      "/opt/conda/lib/python3.7/site-packages/xgboost/core.py:94: UserWarning: ntree_limit is deprecated, use `iteration_range` or model slicing instead.\n",
      "  UserWarning\n"
     ]
    },
    {
     "name": "stdout",
     "output_type": "stream",
     "text": [
      "[3]\teval-logloss:0.43669\n",
      "[4]\teval-logloss:0.43170\n",
      "[5]\teval-logloss:0.43563\n",
      "[6]\teval-logloss:0.44375\n",
      "[7]\teval-logloss:0.43980\n",
      "[8]\teval-logloss:0.43588\n",
      "[9]\teval-logloss:0.43663\n",
      "[0]\teval-logloss:0.50589\n",
      "[1]\teval-logloss:0.45278\n",
      "[2]\teval-logloss:0.44183\n"
     ]
    },
    {
     "name": "stderr",
     "output_type": "stream",
     "text": [
      "/opt/conda/lib/python3.7/site-packages/xgboost/core.py:94: UserWarning: ntree_limit is deprecated, use `iteration_range` or model slicing instead.\n",
      "  UserWarning\n"
     ]
    },
    {
     "name": "stdout",
     "output_type": "stream",
     "text": [
      "[3]\teval-logloss:0.44049\n",
      "[4]\teval-logloss:0.44333\n",
      "[5]\teval-logloss:0.44317\n",
      "[6]\teval-logloss:0.44380\n",
      "[7]\teval-logloss:0.44706\n",
      "[8]\teval-logloss:0.44675\n",
      "[9]\teval-logloss:0.44519\n",
      "[0]\teval-logloss:0.49046\n",
      "[1]\teval-logloss:0.43347\n",
      "[2]\teval-logloss:0.42379\n"
     ]
    },
    {
     "name": "stderr",
     "output_type": "stream",
     "text": [
      "/opt/conda/lib/python3.7/site-packages/xgboost/core.py:94: UserWarning: ntree_limit is deprecated, use `iteration_range` or model slicing instead.\n",
      "  UserWarning\n"
     ]
    },
    {
     "name": "stdout",
     "output_type": "stream",
     "text": [
      "[3]\teval-logloss:0.41710\n",
      "[4]\teval-logloss:0.41187\n",
      "[5]\teval-logloss:0.41444\n",
      "[6]\teval-logloss:0.41069\n",
      "[7]\teval-logloss:0.41425\n",
      "[8]\teval-logloss:0.41886\n",
      "[9]\teval-logloss:0.42251\n"
     ]
    },
    {
     "name": "stderr",
     "output_type": "stream",
     "text": [
      "/opt/conda/lib/python3.7/site-packages/xgboost/core.py:94: UserWarning: ntree_limit is deprecated, use `iteration_range` or model slicing instead.\n",
      "  UserWarning\n",
      "[I 2023-07-25 12:47:00,495] Trial 59 finished with value: 0.7974104009513405 and parameters: {'booster': 'gbtree', 'lambda': 1.1453353240516309, 'alpha': 3.6333611700179733, 'max_depth': 10, 'eta': 0.9651996035751017, 'gamma': 0.1735988887796219, 'grow_policy': 'lossguide', 'min_child_weight': 7, 'scale_pos_weight': 2.0888378838339143}. Best is trial 37 with value: 0.8380699501582379.\n"
     ]
    },
    {
     "name": "stdout",
     "output_type": "stream",
     "text": [
      "[0]\teval-logloss:0.54475\n",
      "[1]\teval-logloss:0.49455\n",
      "[2]\teval-logloss:0.46875\n",
      "[3]\teval-logloss:0.44015\n",
      "[4]\teval-logloss:0.42010\n",
      "[5]\teval-logloss:0.41151\n",
      "[6]\teval-logloss:0.40399\n",
      "[7]\teval-logloss:0.40136\n",
      "[8]\teval-logloss:0.39844\n",
      "[9]\teval-logloss:0.39638\n",
      "[0]\teval-logloss:0.54641\n",
      "[1]\teval-logloss:0.48049\n",
      "[2]\teval-logloss:0.44989\n"
     ]
    },
    {
     "name": "stderr",
     "output_type": "stream",
     "text": [
      "/opt/conda/lib/python3.7/site-packages/xgboost/core.py:94: UserWarning: ntree_limit is deprecated, use `iteration_range` or model slicing instead.\n",
      "  UserWarning\n"
     ]
    },
    {
     "name": "stdout",
     "output_type": "stream",
     "text": [
      "[3]\teval-logloss:0.42479\n",
      "[4]\teval-logloss:0.40602\n",
      "[5]\teval-logloss:0.39375\n",
      "[6]\teval-logloss:0.38775\n",
      "[7]\teval-logloss:0.38576\n",
      "[8]\teval-logloss:0.38036\n",
      "[9]\teval-logloss:0.37810\n",
      "[0]\teval-logloss:0.55089\n",
      "[1]\teval-logloss:0.48446\n",
      "[2]\teval-logloss:0.44521\n"
     ]
    },
    {
     "name": "stderr",
     "output_type": "stream",
     "text": [
      "/opt/conda/lib/python3.7/site-packages/xgboost/core.py:94: UserWarning: ntree_limit is deprecated, use `iteration_range` or model slicing instead.\n",
      "  UserWarning\n"
     ]
    },
    {
     "name": "stdout",
     "output_type": "stream",
     "text": [
      "[3]\teval-logloss:0.41923\n",
      "[4]\teval-logloss:0.40550\n",
      "[5]\teval-logloss:0.39126\n",
      "[6]\teval-logloss:0.38571\n",
      "[7]\teval-logloss:0.37981\n",
      "[8]\teval-logloss:0.37634\n",
      "[9]\teval-logloss:0.37528\n",
      "[0]\teval-logloss:0.53738\n",
      "[1]\teval-logloss:0.48950\n",
      "[2]\teval-logloss:0.45091\n"
     ]
    },
    {
     "name": "stderr",
     "output_type": "stream",
     "text": [
      "/opt/conda/lib/python3.7/site-packages/xgboost/core.py:94: UserWarning: ntree_limit is deprecated, use `iteration_range` or model slicing instead.\n",
      "  UserWarning\n"
     ]
    },
    {
     "name": "stdout",
     "output_type": "stream",
     "text": [
      "[3]\teval-logloss:0.42815\n",
      "[4]\teval-logloss:0.42186\n",
      "[5]\teval-logloss:0.41881\n",
      "[6]\teval-logloss:0.41484\n",
      "[7]\teval-logloss:0.40997\n",
      "[8]\teval-logloss:0.41108\n",
      "[9]\teval-logloss:0.40879\n",
      "[0]\teval-logloss:0.54474\n",
      "[1]\teval-logloss:0.47419\n",
      "[2]\teval-logloss:0.42986\n"
     ]
    },
    {
     "name": "stderr",
     "output_type": "stream",
     "text": [
      "/opt/conda/lib/python3.7/site-packages/xgboost/core.py:94: UserWarning: ntree_limit is deprecated, use `iteration_range` or model slicing instead.\n",
      "  UserWarning\n"
     ]
    },
    {
     "name": "stdout",
     "output_type": "stream",
     "text": [
      "[3]\teval-logloss:0.40444\n",
      "[4]\teval-logloss:0.39048\n",
      "[5]\teval-logloss:0.38339\n",
      "[6]\teval-logloss:0.37795\n",
      "[7]\teval-logloss:0.37083\n",
      "[8]\teval-logloss:0.37199\n",
      "[9]\teval-logloss:0.36653\n"
     ]
    },
    {
     "name": "stderr",
     "output_type": "stream",
     "text": [
      "/opt/conda/lib/python3.7/site-packages/xgboost/core.py:94: UserWarning: ntree_limit is deprecated, use `iteration_range` or model slicing instead.\n",
      "  UserWarning\n",
      "[I 2023-07-25 12:47:02,979] Trial 60 finished with value: 0.8116982995307078 and parameters: {'booster': 'gbtree', 'lambda': 0.6975547514791086, 'alpha': 2.963798932070197, 'max_depth': 9, 'eta': 0.5422067933786392, 'gamma': 0.1197704566645481, 'grow_policy': 'lossguide', 'min_child_weight': 1, 'scale_pos_weight': 2.5942392858029026}. Best is trial 37 with value: 0.8380699501582379.\n"
     ]
    },
    {
     "name": "stdout",
     "output_type": "stream",
     "text": [
      "[0]\teval-logloss:0.56208\n",
      "[1]\teval-logloss:0.50305\n",
      "[2]\teval-logloss:0.46070\n",
      "[3]\teval-logloss:0.42918\n",
      "[4]\teval-logloss:0.40910\n",
      "[5]\teval-logloss:0.39474\n",
      "[6]\teval-logloss:0.38432\n",
      "[7]\teval-logloss:0.38039\n",
      "[8]\teval-logloss:0.37427\n",
      "[9]\teval-logloss:0.36895\n",
      "[0]\teval-logloss:0.55877\n",
      "[1]\teval-logloss:0.48720\n",
      "[2]\teval-logloss:0.43289\n",
      "[3]\teval-logloss:0.40900\n"
     ]
    },
    {
     "name": "stderr",
     "output_type": "stream",
     "text": [
      "/opt/conda/lib/python3.7/site-packages/xgboost/core.py:94: UserWarning: ntree_limit is deprecated, use `iteration_range` or model slicing instead.\n",
      "  UserWarning\n"
     ]
    },
    {
     "name": "stdout",
     "output_type": "stream",
     "text": [
      "[4]\teval-logloss:0.38964\n",
      "[5]\teval-logloss:0.37417\n",
      "[6]\teval-logloss:0.36141\n",
      "[7]\teval-logloss:0.35077\n",
      "[8]\teval-logloss:0.34468\n",
      "[9]\teval-logloss:0.33936\n",
      "[0]\teval-logloss:0.56333\n",
      "[1]\teval-logloss:0.49415\n",
      "[2]\teval-logloss:0.45536\n",
      "[3]\teval-logloss:0.42461\n"
     ]
    },
    {
     "name": "stderr",
     "output_type": "stream",
     "text": [
      "/opt/conda/lib/python3.7/site-packages/xgboost/core.py:94: UserWarning: ntree_limit is deprecated, use `iteration_range` or model slicing instead.\n",
      "  UserWarning\n"
     ]
    },
    {
     "name": "stdout",
     "output_type": "stream",
     "text": [
      "[4]\teval-logloss:0.40753\n",
      "[5]\teval-logloss:0.39524\n",
      "[6]\teval-logloss:0.38302\n",
      "[7]\teval-logloss:0.37378\n",
      "[8]\teval-logloss:0.36980\n",
      "[9]\teval-logloss:0.36562\n",
      "[0]\teval-logloss:0.55452\n",
      "[1]\teval-logloss:0.48454\n",
      "[2]\teval-logloss:0.44686\n",
      "[3]\teval-logloss:0.41589\n"
     ]
    },
    {
     "name": "stderr",
     "output_type": "stream",
     "text": [
      "/opt/conda/lib/python3.7/site-packages/xgboost/core.py:94: UserWarning: ntree_limit is deprecated, use `iteration_range` or model slicing instead.\n",
      "  UserWarning\n"
     ]
    },
    {
     "name": "stdout",
     "output_type": "stream",
     "text": [
      "[4]\teval-logloss:0.39484\n",
      "[5]\teval-logloss:0.37926\n",
      "[6]\teval-logloss:0.37176\n",
      "[7]\teval-logloss:0.36338\n",
      "[8]\teval-logloss:0.35890\n",
      "[9]\teval-logloss:0.35835\n",
      "[0]\teval-logloss:0.55693\n",
      "[1]\teval-logloss:0.48158\n",
      "[2]\teval-logloss:0.43538\n",
      "[3]\teval-logloss:0.40205\n"
     ]
    },
    {
     "name": "stderr",
     "output_type": "stream",
     "text": [
      "/opt/conda/lib/python3.7/site-packages/xgboost/core.py:94: UserWarning: ntree_limit is deprecated, use `iteration_range` or model slicing instead.\n",
      "  UserWarning\n"
     ]
    },
    {
     "name": "stdout",
     "output_type": "stream",
     "text": [
      "[4]\teval-logloss:0.37526\n",
      "[5]\teval-logloss:0.36166\n",
      "[6]\teval-logloss:0.35221\n",
      "[7]\teval-logloss:0.34751\n",
      "[8]\teval-logloss:0.33763\n",
      "[9]\teval-logloss:0.33367\n"
     ]
    },
    {
     "name": "stderr",
     "output_type": "stream",
     "text": [
      "/opt/conda/lib/python3.7/site-packages/xgboost/core.py:94: UserWarning: ntree_limit is deprecated, use `iteration_range` or model slicing instead.\n",
      "  UserWarning\n",
      "[I 2023-07-25 12:47:05,010] Trial 61 finished with value: 0.8332988250790262 and parameters: {'booster': 'gbtree', 'lambda': 8.018237414672623, 'alpha': 6.37133641116261, 'max_depth': 8, 'eta': 0.4399945153194994, 'gamma': 0.23604973396443424, 'grow_policy': 'depthwise', 'min_child_weight': 5, 'scale_pos_weight': 1.2731670864861326}. Best is trial 37 with value: 0.8380699501582379.\n"
     ]
    },
    {
     "name": "stdout",
     "output_type": "stream",
     "text": [
      "[0]\teval-logloss:0.55267\n",
      "[1]\teval-logloss:0.49365\n",
      "[2]\teval-logloss:0.44802\n",
      "[3]\teval-logloss:0.42056\n",
      "[4]\teval-logloss:0.39993\n",
      "[5]\teval-logloss:0.39125\n",
      "[6]\teval-logloss:0.38333\n",
      "[7]\teval-logloss:0.37622\n",
      "[8]\teval-logloss:0.36854\n",
      "[9]\teval-logloss:0.36264\n",
      "[0]\teval-logloss:0.54167\n",
      "[1]\teval-logloss:0.47309\n",
      "[2]\teval-logloss:0.42050\n"
     ]
    },
    {
     "name": "stderr",
     "output_type": "stream",
     "text": [
      "/opt/conda/lib/python3.7/site-packages/xgboost/core.py:94: UserWarning: ntree_limit is deprecated, use `iteration_range` or model slicing instead.\n",
      "  UserWarning\n"
     ]
    },
    {
     "name": "stdout",
     "output_type": "stream",
     "text": [
      "[3]\teval-logloss:0.40154\n",
      "[4]\teval-logloss:0.38412\n",
      "[5]\teval-logloss:0.36604\n",
      "[6]\teval-logloss:0.36051\n",
      "[7]\teval-logloss:0.35135\n",
      "[8]\teval-logloss:0.34618\n",
      "[9]\teval-logloss:0.34071\n",
      "[0]\teval-logloss:0.54689\n",
      "[1]\teval-logloss:0.48497\n",
      "[2]\teval-logloss:0.43956\n"
     ]
    },
    {
     "name": "stderr",
     "output_type": "stream",
     "text": [
      "/opt/conda/lib/python3.7/site-packages/xgboost/core.py:94: UserWarning: ntree_limit is deprecated, use `iteration_range` or model slicing instead.\n",
      "  UserWarning\n"
     ]
    },
    {
     "name": "stdout",
     "output_type": "stream",
     "text": [
      "[3]\teval-logloss:0.40910\n",
      "[4]\teval-logloss:0.39734\n",
      "[5]\teval-logloss:0.38546\n",
      "[6]\teval-logloss:0.38111\n",
      "[7]\teval-logloss:0.37596\n",
      "[8]\teval-logloss:0.37032\n",
      "[9]\teval-logloss:0.36676\n",
      "[0]\teval-logloss:0.53341\n",
      "[1]\teval-logloss:0.46559\n",
      "[2]\teval-logloss:0.43017\n"
     ]
    },
    {
     "name": "stderr",
     "output_type": "stream",
     "text": [
      "/opt/conda/lib/python3.7/site-packages/xgboost/core.py:94: UserWarning: ntree_limit is deprecated, use `iteration_range` or model slicing instead.\n",
      "  UserWarning\n"
     ]
    },
    {
     "name": "stdout",
     "output_type": "stream",
     "text": [
      "[3]\teval-logloss:0.39994\n",
      "[4]\teval-logloss:0.38303\n",
      "[5]\teval-logloss:0.37472\n",
      "[6]\teval-logloss:0.36553\n",
      "[7]\teval-logloss:0.36208\n",
      "[8]\teval-logloss:0.35816\n",
      "[9]\teval-logloss:0.35505\n",
      "[0]\teval-logloss:0.54161\n",
      "[1]\teval-logloss:0.46562\n",
      "[2]\teval-logloss:0.41609\n"
     ]
    },
    {
     "name": "stderr",
     "output_type": "stream",
     "text": [
      "/opt/conda/lib/python3.7/site-packages/xgboost/core.py:94: UserWarning: ntree_limit is deprecated, use `iteration_range` or model slicing instead.\n",
      "  UserWarning\n"
     ]
    },
    {
     "name": "stdout",
     "output_type": "stream",
     "text": [
      "[3]\teval-logloss:0.38801\n",
      "[4]\teval-logloss:0.37197\n",
      "[5]\teval-logloss:0.35912\n",
      "[6]\teval-logloss:0.34907\n",
      "[7]\teval-logloss:0.34523\n",
      "[8]\teval-logloss:0.34187\n",
      "[9]\teval-logloss:0.33914\n"
     ]
    },
    {
     "name": "stderr",
     "output_type": "stream",
     "text": [
      "/opt/conda/lib/python3.7/site-packages/xgboost/core.py:94: UserWarning: ntree_limit is deprecated, use `iteration_range` or model slicing instead.\n",
      "  UserWarning\n",
      "[I 2023-07-25 12:47:07,459] Trial 62 finished with value: 0.8298163544993058 and parameters: {'booster': 'gbtree', 'lambda': 7.791940094278399, 'alpha': 6.438012694273148, 'max_depth': 10, 'eta': 0.4925851384702395, 'gamma': 0.1934953067546611, 'grow_policy': 'depthwise', 'min_child_weight': 5, 'scale_pos_weight': 1.063102537282953}. Best is trial 37 with value: 0.8380699501582379.\n"
     ]
    },
    {
     "name": "stdout",
     "output_type": "stream",
     "text": [
      "[0]\teval-logloss:0.54467\n",
      "[1]\teval-logloss:0.48631\n",
      "[2]\teval-logloss:0.44043\n",
      "[3]\teval-logloss:0.41158\n",
      "[4]\teval-logloss:0.39567\n",
      "[5]\teval-logloss:0.38770\n",
      "[6]\teval-logloss:0.38035\n",
      "[7]\teval-logloss:0.37720\n",
      "[8]\teval-logloss:0.37680\n",
      "[9]\teval-logloss:0.37489\n",
      "[0]\teval-logloss:0.52310\n",
      "[1]\teval-logloss:0.45467\n",
      "[2]\teval-logloss:0.41187\n",
      "[3]\teval-logloss:0.38979\n"
     ]
    },
    {
     "name": "stderr",
     "output_type": "stream",
     "text": [
      "/opt/conda/lib/python3.7/site-packages/xgboost/core.py:94: UserWarning: ntree_limit is deprecated, use `iteration_range` or model slicing instead.\n",
      "  UserWarning\n"
     ]
    },
    {
     "name": "stdout",
     "output_type": "stream",
     "text": [
      "[4]\teval-logloss:0.37875\n",
      "[5]\teval-logloss:0.36774\n",
      "[6]\teval-logloss:0.36148\n",
      "[7]\teval-logloss:0.35705\n",
      "[8]\teval-logloss:0.35404\n",
      "[9]\teval-logloss:0.35051\n",
      "[0]\teval-logloss:0.53703\n",
      "[1]\teval-logloss:0.47301\n",
      "[2]\teval-logloss:0.43696\n",
      "[3]\teval-logloss:0.40969\n"
     ]
    },
    {
     "name": "stderr",
     "output_type": "stream",
     "text": [
      "/opt/conda/lib/python3.7/site-packages/xgboost/core.py:94: UserWarning: ntree_limit is deprecated, use `iteration_range` or model slicing instead.\n",
      "  UserWarning\n"
     ]
    },
    {
     "name": "stdout",
     "output_type": "stream",
     "text": [
      "[4]\teval-logloss:0.38948\n",
      "[5]\teval-logloss:0.37582\n",
      "[6]\teval-logloss:0.37219\n",
      "[7]\teval-logloss:0.36886\n",
      "[8]\teval-logloss:0.36668\n",
      "[9]\teval-logloss:0.36494\n",
      "[0]\teval-logloss:0.52996\n",
      "[1]\teval-logloss:0.46296\n",
      "[2]\teval-logloss:0.42101\n"
     ]
    },
    {
     "name": "stderr",
     "output_type": "stream",
     "text": [
      "/opt/conda/lib/python3.7/site-packages/xgboost/core.py:94: UserWarning: ntree_limit is deprecated, use `iteration_range` or model slicing instead.\n",
      "  UserWarning\n"
     ]
    },
    {
     "name": "stdout",
     "output_type": "stream",
     "text": [
      "[3]\teval-logloss:0.40364\n",
      "[4]\teval-logloss:0.39803\n",
      "[5]\teval-logloss:0.38887\n",
      "[6]\teval-logloss:0.38236\n",
      "[7]\teval-logloss:0.37700\n",
      "[8]\teval-logloss:0.37471\n",
      "[9]\teval-logloss:0.37545\n",
      "[0]\teval-logloss:0.52955\n",
      "[1]\teval-logloss:0.45499\n",
      "[2]\teval-logloss:0.41378\n",
      "[3]\teval-logloss:0.38348\n"
     ]
    },
    {
     "name": "stderr",
     "output_type": "stream",
     "text": [
      "/opt/conda/lib/python3.7/site-packages/xgboost/core.py:94: UserWarning: ntree_limit is deprecated, use `iteration_range` or model slicing instead.\n",
      "  UserWarning\n"
     ]
    },
    {
     "name": "stdout",
     "output_type": "stream",
     "text": [
      "[4]\teval-logloss:0.37071\n",
      "[5]\teval-logloss:0.36570\n",
      "[6]\teval-logloss:0.35654\n",
      "[7]\teval-logloss:0.35219\n",
      "[8]\teval-logloss:0.34929\n",
      "[9]\teval-logloss:0.34609\n"
     ]
    },
    {
     "name": "stderr",
     "output_type": "stream",
     "text": [
      "/opt/conda/lib/python3.7/site-packages/xgboost/core.py:94: UserWarning: ntree_limit is deprecated, use `iteration_range` or model slicing instead.\n",
      "  UserWarning\n",
      "[I 2023-07-25 12:47:09,726] Trial 63 finished with value: 0.8215862754273093 and parameters: {'booster': 'gbtree', 'lambda': 6.7233191596488115, 'alpha': 6.06853981347583, 'max_depth': 9, 'eta': 0.594077408103184, 'gamma': 0.2483099376003141, 'grow_policy': 'depthwise', 'min_child_weight': 6, 'scale_pos_weight': 1.6623680021127325}. Best is trial 37 with value: 0.8380699501582379.\n"
     ]
    },
    {
     "name": "stdout",
     "output_type": "stream",
     "text": [
      "[0]\teval-logloss:0.57927\n",
      "[1]\teval-logloss:0.51750\n",
      "[2]\teval-logloss:0.47249\n",
      "[3]\teval-logloss:0.43935\n",
      "[4]\teval-logloss:0.41589\n",
      "[5]\teval-logloss:0.40586\n",
      "[6]\teval-logloss:0.39307\n",
      "[7]\teval-logloss:0.38400\n",
      "[8]\teval-logloss:0.37626\n",
      "[9]\teval-logloss:0.37279\n",
      "[0]\teval-logloss:0.57164\n",
      "[1]\teval-logloss:0.50297\n",
      "[2]\teval-logloss:0.45526\n",
      "[3]\teval-logloss:0.41611\n"
     ]
    },
    {
     "name": "stderr",
     "output_type": "stream",
     "text": [
      "/opt/conda/lib/python3.7/site-packages/xgboost/core.py:94: UserWarning: ntree_limit is deprecated, use `iteration_range` or model slicing instead.\n",
      "  UserWarning\n"
     ]
    },
    {
     "name": "stdout",
     "output_type": "stream",
     "text": [
      "[4]\teval-logloss:0.39722\n",
      "[5]\teval-logloss:0.38064\n",
      "[6]\teval-logloss:0.36833\n",
      "[7]\teval-logloss:0.35483\n",
      "[8]\teval-logloss:0.34845\n",
      "[9]\teval-logloss:0.34263\n",
      "[0]\teval-logloss:0.58241\n",
      "[1]\teval-logloss:0.51641\n",
      "[2]\teval-logloss:0.47320\n",
      "[3]\teval-logloss:0.44076\n"
     ]
    },
    {
     "name": "stderr",
     "output_type": "stream",
     "text": [
      "/opt/conda/lib/python3.7/site-packages/xgboost/core.py:94: UserWarning: ntree_limit is deprecated, use `iteration_range` or model slicing instead.\n",
      "  UserWarning\n"
     ]
    },
    {
     "name": "stdout",
     "output_type": "stream",
     "text": [
      "[4]\teval-logloss:0.42246\n",
      "[5]\teval-logloss:0.40662\n",
      "[6]\teval-logloss:0.39630\n",
      "[7]\teval-logloss:0.38601\n",
      "[8]\teval-logloss:0.37742\n",
      "[9]\teval-logloss:0.37204\n",
      "[0]\teval-logloss:0.56868\n",
      "[1]\teval-logloss:0.50065\n",
      "[2]\teval-logloss:0.45803\n",
      "[3]\teval-logloss:0.42639\n"
     ]
    },
    {
     "name": "stderr",
     "output_type": "stream",
     "text": [
      "/opt/conda/lib/python3.7/site-packages/xgboost/core.py:94: UserWarning: ntree_limit is deprecated, use `iteration_range` or model slicing instead.\n",
      "  UserWarning\n"
     ]
    },
    {
     "name": "stdout",
     "output_type": "stream",
     "text": [
      "[4]\teval-logloss:0.40866\n",
      "[5]\teval-logloss:0.39470\n",
      "[6]\teval-logloss:0.37977\n",
      "[7]\teval-logloss:0.37275\n",
      "[8]\teval-logloss:0.36561\n",
      "[9]\teval-logloss:0.36325\n",
      "[0]\teval-logloss:0.57102\n",
      "[1]\teval-logloss:0.50137\n",
      "[2]\teval-logloss:0.45562\n",
      "[3]\teval-logloss:0.41885\n"
     ]
    },
    {
     "name": "stderr",
     "output_type": "stream",
     "text": [
      "/opt/conda/lib/python3.7/site-packages/xgboost/core.py:94: UserWarning: ntree_limit is deprecated, use `iteration_range` or model slicing instead.\n",
      "  UserWarning\n"
     ]
    },
    {
     "name": "stdout",
     "output_type": "stream",
     "text": [
      "[4]\teval-logloss:0.39742\n",
      "[5]\teval-logloss:0.37617\n",
      "[6]\teval-logloss:0.36448\n",
      "[7]\teval-logloss:0.35476\n",
      "[8]\teval-logloss:0.34898\n",
      "[9]\teval-logloss:0.34281\n"
     ]
    },
    {
     "name": "stderr",
     "output_type": "stream",
     "text": [
      "/opt/conda/lib/python3.7/site-packages/xgboost/core.py:94: UserWarning: ntree_limit is deprecated, use `iteration_range` or model slicing instead.\n",
      "  UserWarning\n",
      "[I 2023-07-25 12:47:11,959] Trial 64 finished with value: 0.8367719484050156 and parameters: {'booster': 'gbtree', 'lambda': 7.744055590170228, 'alpha': 3.643882001839249, 'max_depth': 9, 'eta': 0.3562206225518202, 'gamma': 0.22536845936027142, 'grow_policy': 'depthwise', 'min_child_weight': 5, 'scale_pos_weight': 1.0251355856087356}. Best is trial 37 with value: 0.8380699501582379.\n"
     ]
    },
    {
     "name": "stdout",
     "output_type": "stream",
     "text": [
      "[0]\teval-logloss:0.56809\n",
      "[1]\teval-logloss:0.50129\n",
      "[2]\teval-logloss:0.46441\n",
      "[3]\teval-logloss:0.43542\n",
      "[4]\teval-logloss:0.41497\n",
      "[5]\teval-logloss:0.40089\n",
      "[6]\teval-logloss:0.39073\n",
      "[7]\teval-logloss:0.38134\n",
      "[8]\teval-logloss:0.37790\n",
      "[9]\teval-logloss:0.37065\n",
      "[0]\teval-logloss:0.56129\n",
      "[1]\teval-logloss:0.49076\n",
      "[2]\teval-logloss:0.44612\n"
     ]
    },
    {
     "name": "stderr",
     "output_type": "stream",
     "text": [
      "/opt/conda/lib/python3.7/site-packages/xgboost/core.py:94: UserWarning: ntree_limit is deprecated, use `iteration_range` or model slicing instead.\n",
      "  UserWarning\n"
     ]
    },
    {
     "name": "stdout",
     "output_type": "stream",
     "text": [
      "[3]\teval-logloss:0.41551\n",
      "[4]\teval-logloss:0.38710\n",
      "[5]\teval-logloss:0.37068\n",
      "[6]\teval-logloss:0.35749\n",
      "[7]\teval-logloss:0.35087\n",
      "[8]\teval-logloss:0.34480\n",
      "[9]\teval-logloss:0.34211\n",
      "[0]\teval-logloss:0.57223\n",
      "[1]\teval-logloss:0.50402\n",
      "[2]\teval-logloss:0.45887\n",
      "[3]\teval-logloss:0.43182\n"
     ]
    },
    {
     "name": "stderr",
     "output_type": "stream",
     "text": [
      "/opt/conda/lib/python3.7/site-packages/xgboost/core.py:94: UserWarning: ntree_limit is deprecated, use `iteration_range` or model slicing instead.\n",
      "  UserWarning\n"
     ]
    },
    {
     "name": "stdout",
     "output_type": "stream",
     "text": [
      "[4]\teval-logloss:0.40641\n",
      "[5]\teval-logloss:0.39279\n",
      "[6]\teval-logloss:0.38773\n",
      "[7]\teval-logloss:0.37923\n",
      "[8]\teval-logloss:0.37211\n",
      "[9]\teval-logloss:0.36329\n",
      "[0]\teval-logloss:0.56184\n",
      "[1]\teval-logloss:0.48948\n",
      "[2]\teval-logloss:0.44506\n",
      "[3]\teval-logloss:0.41789\n"
     ]
    },
    {
     "name": "stderr",
     "output_type": "stream",
     "text": [
      "/opt/conda/lib/python3.7/site-packages/xgboost/core.py:94: UserWarning: ntree_limit is deprecated, use `iteration_range` or model slicing instead.\n",
      "  UserWarning\n"
     ]
    },
    {
     "name": "stdout",
     "output_type": "stream",
     "text": [
      "[4]\teval-logloss:0.39775\n",
      "[5]\teval-logloss:0.38254\n",
      "[6]\teval-logloss:0.37277\n",
      "[7]\teval-logloss:0.36606\n",
      "[8]\teval-logloss:0.36410\n",
      "[9]\teval-logloss:0.35934\n",
      "[0]\teval-logloss:0.55343\n",
      "[1]\teval-logloss:0.48349\n",
      "[2]\teval-logloss:0.43316\n",
      "[3]\teval-logloss:0.40022\n"
     ]
    },
    {
     "name": "stderr",
     "output_type": "stream",
     "text": [
      "/opt/conda/lib/python3.7/site-packages/xgboost/core.py:94: UserWarning: ntree_limit is deprecated, use `iteration_range` or model slicing instead.\n",
      "  UserWarning\n"
     ]
    },
    {
     "name": "stdout",
     "output_type": "stream",
     "text": [
      "[4]\teval-logloss:0.37998\n",
      "[5]\teval-logloss:0.36151\n",
      "[6]\teval-logloss:0.34855\n",
      "[7]\teval-logloss:0.34209\n",
      "[8]\teval-logloss:0.33631\n",
      "[9]\teval-logloss:0.33133\n"
     ]
    },
    {
     "name": "stderr",
     "output_type": "stream",
     "text": [
      "/opt/conda/lib/python3.7/site-packages/xgboost/core.py:94: UserWarning: ntree_limit is deprecated, use `iteration_range` or model slicing instead.\n",
      "  UserWarning\n",
      "[I 2023-07-25 12:47:14,236] Trial 65 finished with value: 0.8309450259127964 and parameters: {'booster': 'gbtree', 'lambda': 2.0690967280317896, 'alpha': 1.949085591039503, 'max_depth': 9, 'eta': 0.36276027457369914, 'gamma': 0.16283799230689, 'grow_policy': 'depthwise', 'min_child_weight': 5, 'scale_pos_weight': 1.0180102388769017}. Best is trial 37 with value: 0.8380699501582379.\n"
     ]
    },
    {
     "name": "stdout",
     "output_type": "stream",
     "text": [
      "[0]\teval-logloss:0.59917\n",
      "[1]\teval-logloss:0.53880\n",
      "[2]\teval-logloss:0.49500\n",
      "[3]\teval-logloss:0.46509\n",
      "[4]\teval-logloss:0.44599\n",
      "[5]\teval-logloss:0.42741\n",
      "[6]\teval-logloss:0.41762\n",
      "[7]\teval-logloss:0.40462\n",
      "[8]\teval-logloss:0.39496\n",
      "[9]\teval-logloss:0.39051\n",
      "[0]\teval-logloss:0.58704\n",
      "[1]\teval-logloss:0.52434\n",
      "[2]\teval-logloss:0.48031\n"
     ]
    },
    {
     "name": "stderr",
     "output_type": "stream",
     "text": [
      "/opt/conda/lib/python3.7/site-packages/xgboost/core.py:94: UserWarning: ntree_limit is deprecated, use `iteration_range` or model slicing instead.\n",
      "  UserWarning\n"
     ]
    },
    {
     "name": "stdout",
     "output_type": "stream",
     "text": [
      "[3]\teval-logloss:0.44646\n",
      "[4]\teval-logloss:0.42398\n",
      "[5]\teval-logloss:0.40091\n",
      "[6]\teval-logloss:0.38486\n",
      "[7]\teval-logloss:0.37276\n",
      "[8]\teval-logloss:0.36445\n",
      "[9]\teval-logloss:0.35494\n",
      "[0]\teval-logloss:0.59474\n",
      "[1]\teval-logloss:0.53323\n",
      "[2]\teval-logloss:0.49800\n"
     ]
    },
    {
     "name": "stderr",
     "output_type": "stream",
     "text": [
      "/opt/conda/lib/python3.7/site-packages/xgboost/core.py:94: UserWarning: ntree_limit is deprecated, use `iteration_range` or model slicing instead.\n",
      "  UserWarning\n"
     ]
    },
    {
     "name": "stdout",
     "output_type": "stream",
     "text": [
      "[3]\teval-logloss:0.46396\n",
      "[4]\teval-logloss:0.44574\n",
      "[5]\teval-logloss:0.42985\n",
      "[6]\teval-logloss:0.41590\n",
      "[7]\teval-logloss:0.40798\n",
      "[8]\teval-logloss:0.39760\n",
      "[9]\teval-logloss:0.38970\n",
      "[0]\teval-logloss:0.59171\n",
      "[1]\teval-logloss:0.52940\n",
      "[2]\teval-logloss:0.48568\n"
     ]
    },
    {
     "name": "stderr",
     "output_type": "stream",
     "text": [
      "/opt/conda/lib/python3.7/site-packages/xgboost/core.py:94: UserWarning: ntree_limit is deprecated, use `iteration_range` or model slicing instead.\n",
      "  UserWarning\n"
     ]
    },
    {
     "name": "stdout",
     "output_type": "stream",
     "text": [
      "[3]\teval-logloss:0.46138\n",
      "[4]\teval-logloss:0.44112\n",
      "[5]\teval-logloss:0.42296\n",
      "[6]\teval-logloss:0.41080\n",
      "[7]\teval-logloss:0.39997\n",
      "[8]\teval-logloss:0.39068\n",
      "[9]\teval-logloss:0.38219\n",
      "[0]\teval-logloss:0.58612\n",
      "[1]\teval-logloss:0.51545\n",
      "[2]\teval-logloss:0.47309\n"
     ]
    },
    {
     "name": "stderr",
     "output_type": "stream",
     "text": [
      "/opt/conda/lib/python3.7/site-packages/xgboost/core.py:94: UserWarning: ntree_limit is deprecated, use `iteration_range` or model slicing instead.\n",
      "  UserWarning\n"
     ]
    },
    {
     "name": "stdout",
     "output_type": "stream",
     "text": [
      "[3]\teval-logloss:0.44136\n",
      "[4]\teval-logloss:0.41469\n",
      "[5]\teval-logloss:0.39613\n",
      "[6]\teval-logloss:0.37871\n",
      "[7]\teval-logloss:0.37149\n",
      "[8]\teval-logloss:0.36052\n",
      "[9]\teval-logloss:0.35380\n"
     ]
    },
    {
     "name": "stderr",
     "output_type": "stream",
     "text": [
      "/opt/conda/lib/python3.7/site-packages/xgboost/core.py:94: UserWarning: ntree_limit is deprecated, use `iteration_range` or model slicing instead.\n",
      "  UserWarning\n",
      "[I 2023-07-25 12:47:16,643] Trial 66 finished with value: 0.8266393819175072 and parameters: {'booster': 'gbtree', 'lambda': 5.416720494142633, 'alpha': 2.8290969269678024, 'max_depth': 10, 'eta': 0.2977286424358226, 'gamma': 0.19463067005485526, 'grow_policy': 'lossguide', 'min_child_weight': 6, 'scale_pos_weight': 1.6118711525430909}. Best is trial 37 with value: 0.8380699501582379.\n"
     ]
    },
    {
     "name": "stdout",
     "output_type": "stream",
     "text": [
      "[0]\teval-logloss:0.52070\n",
      "[1]\teval-logloss:0.47337\n",
      "[2]\teval-logloss:0.43665\n",
      "[3]\teval-logloss:0.41455\n",
      "[4]\teval-logloss:0.39941\n",
      "[5]\teval-logloss:0.39512\n",
      "[6]\teval-logloss:0.39189\n",
      "[7]\teval-logloss:0.39329\n",
      "[8]\teval-logloss:0.39351\n",
      "[9]\teval-logloss:0.39102\n",
      "[0]\teval-logloss:0.51624\n",
      "[1]\teval-logloss:0.44663\n",
      "[2]\teval-logloss:0.43119\n"
     ]
    },
    {
     "name": "stderr",
     "output_type": "stream",
     "text": [
      "/opt/conda/lib/python3.7/site-packages/xgboost/core.py:94: UserWarning: ntree_limit is deprecated, use `iteration_range` or model slicing instead.\n",
      "  UserWarning\n"
     ]
    },
    {
     "name": "stdout",
     "output_type": "stream",
     "text": [
      "[3]\teval-logloss:0.41814\n",
      "[4]\teval-logloss:0.40434\n",
      "[5]\teval-logloss:0.39527\n",
      "[6]\teval-logloss:0.39409\n",
      "[7]\teval-logloss:0.38624\n",
      "[8]\teval-logloss:0.38578\n",
      "[9]\teval-logloss:0.37910\n",
      "[0]\teval-logloss:0.52072\n",
      "[1]\teval-logloss:0.45460\n",
      "[2]\teval-logloss:0.43461\n"
     ]
    },
    {
     "name": "stderr",
     "output_type": "stream",
     "text": [
      "/opt/conda/lib/python3.7/site-packages/xgboost/core.py:94: UserWarning: ntree_limit is deprecated, use `iteration_range` or model slicing instead.\n",
      "  UserWarning\n"
     ]
    },
    {
     "name": "stdout",
     "output_type": "stream",
     "text": [
      "[3]\teval-logloss:0.42327\n",
      "[4]\teval-logloss:0.41973\n",
      "[5]\teval-logloss:0.41427\n",
      "[6]\teval-logloss:0.41386\n",
      "[7]\teval-logloss:0.41355\n",
      "[8]\teval-logloss:0.41435\n",
      "[9]\teval-logloss:0.41253\n",
      "[0]\teval-logloss:0.52464\n",
      "[1]\teval-logloss:0.45722\n",
      "[2]\teval-logloss:0.42802\n"
     ]
    },
    {
     "name": "stderr",
     "output_type": "stream",
     "text": [
      "/opt/conda/lib/python3.7/site-packages/xgboost/core.py:94: UserWarning: ntree_limit is deprecated, use `iteration_range` or model slicing instead.\n",
      "  UserWarning\n"
     ]
    },
    {
     "name": "stdout",
     "output_type": "stream",
     "text": [
      "[3]\teval-logloss:0.41739\n",
      "[4]\teval-logloss:0.41126\n",
      "[5]\teval-logloss:0.40452\n",
      "[6]\teval-logloss:0.40149\n",
      "[7]\teval-logloss:0.39901\n",
      "[8]\teval-logloss:0.39961\n",
      "[9]\teval-logloss:0.40411\n",
      "[0]\teval-logloss:0.49982\n",
      "[1]\teval-logloss:0.43413\n",
      "[2]\teval-logloss:0.40832\n"
     ]
    },
    {
     "name": "stderr",
     "output_type": "stream",
     "text": [
      "/opt/conda/lib/python3.7/site-packages/xgboost/core.py:94: UserWarning: ntree_limit is deprecated, use `iteration_range` or model slicing instead.\n",
      "  UserWarning\n"
     ]
    },
    {
     "name": "stdout",
     "output_type": "stream",
     "text": [
      "[3]\teval-logloss:0.38334\n",
      "[4]\teval-logloss:0.37598\n",
      "[5]\teval-logloss:0.37799\n",
      "[6]\teval-logloss:0.36941\n",
      "[7]\teval-logloss:0.36570\n",
      "[8]\teval-logloss:0.36693\n",
      "[9]\teval-logloss:0.36561\n"
     ]
    },
    {
     "name": "stderr",
     "output_type": "stream",
     "text": [
      "/opt/conda/lib/python3.7/site-packages/xgboost/core.py:94: UserWarning: ntree_limit is deprecated, use `iteration_range` or model slicing instead.\n",
      "  UserWarning\n",
      "[I 2023-07-25 12:47:18,992] Trial 67 finished with value: 0.8119810650701942 and parameters: {'booster': 'gbtree', 'lambda': 3.304578814689186, 'alpha': 3.6803170420702926, 'max_depth': 9, 'eta': 0.6979548307876581, 'gamma': 0.31000588348912256, 'grow_policy': 'lossguide', 'min_child_weight': 2, 'scale_pos_weight': 1.921637941995205}. Best is trial 37 with value: 0.8380699501582379.\n"
     ]
    },
    {
     "name": "stdout",
     "output_type": "stream",
     "text": [
      "[0]\teval-logloss:0.51645\n",
      "[1]\teval-logloss:0.44308\n",
      "[2]\teval-logloss:0.42326\n",
      "[3]\teval-logloss:0.40822\n",
      "[4]\teval-logloss:0.39847\n",
      "[5]\teval-logloss:0.38891\n",
      "[6]\teval-logloss:0.38553\n",
      "[7]\teval-logloss:0.38175\n",
      "[8]\teval-logloss:0.37950\n",
      "[9]\teval-logloss:0.37888\n",
      "[0]\teval-logloss:0.49489\n",
      "[1]\teval-logloss:0.43166\n",
      "[2]\teval-logloss:0.39816\n",
      "[3]\teval-logloss:0.39137\n",
      "[4]\teval-logloss:0.36638\n",
      "[5]\teval-logloss:0.36022\n",
      "[6]\teval-logloss:0.35633\n",
      "[7]\teval-logloss:0.34378\n",
      "[8]\teval-logloss:0.33919\n",
      "[9]\teval-logloss:0.33833\n"
     ]
    },
    {
     "name": "stderr",
     "output_type": "stream",
     "text": [
      "/opt/conda/lib/python3.7/site-packages/xgboost/core.py:94: UserWarning: ntree_limit is deprecated, use `iteration_range` or model slicing instead.\n",
      "  UserWarning\n",
      "/opt/conda/lib/python3.7/site-packages/xgboost/core.py:94: UserWarning: ntree_limit is deprecated, use `iteration_range` or model slicing instead.\n",
      "  UserWarning\n"
     ]
    },
    {
     "name": "stdout",
     "output_type": "stream",
     "text": [
      "[0]\teval-logloss:0.53193\n",
      "[1]\teval-logloss:0.45434\n",
      "[2]\teval-logloss:0.42504\n",
      "[3]\teval-logloss:0.39130\n",
      "[4]\teval-logloss:0.38673\n",
      "[5]\teval-logloss:0.38459\n",
      "[6]\teval-logloss:0.37867\n",
      "[7]\teval-logloss:0.37405\n",
      "[8]\teval-logloss:0.37265\n",
      "[9]\teval-logloss:0.37124\n",
      "[0]\teval-logloss:0.50146\n",
      "[1]\teval-logloss:0.43896\n",
      "[2]\teval-logloss:0.39983\n",
      "[3]\teval-logloss:0.38915\n",
      "[4]\teval-logloss:0.37668\n",
      "[5]\teval-logloss:0.36913\n",
      "[6]\teval-logloss:0.36902\n",
      "[7]\teval-logloss:0.36935\n",
      "[8]\teval-logloss:0.37178\n",
      "[9]\teval-logloss:0.37126\n"
     ]
    },
    {
     "name": "stderr",
     "output_type": "stream",
     "text": [
      "/opt/conda/lib/python3.7/site-packages/xgboost/core.py:94: UserWarning: ntree_limit is deprecated, use `iteration_range` or model slicing instead.\n",
      "  UserWarning\n",
      "/opt/conda/lib/python3.7/site-packages/xgboost/core.py:94: UserWarning: ntree_limit is deprecated, use `iteration_range` or model slicing instead.\n",
      "  UserWarning\n"
     ]
    },
    {
     "name": "stdout",
     "output_type": "stream",
     "text": [
      "[0]\teval-logloss:0.51119\n",
      "[1]\teval-logloss:0.43019\n",
      "[2]\teval-logloss:0.40600\n",
      "[3]\teval-logloss:0.37194\n",
      "[4]\teval-logloss:0.35829\n",
      "[5]\teval-logloss:0.35541\n",
      "[6]\teval-logloss:0.35363\n",
      "[7]\teval-logloss:0.35278\n",
      "[8]\teval-logloss:0.34541\n",
      "[9]\teval-logloss:0.34408\n"
     ]
    },
    {
     "name": "stderr",
     "output_type": "stream",
     "text": [
      "/opt/conda/lib/python3.7/site-packages/xgboost/core.py:94: UserWarning: ntree_limit is deprecated, use `iteration_range` or model slicing instead.\n",
      "  UserWarning\n",
      "[I 2023-07-25 12:47:19,998] Trial 68 finished with value: 0.8271117533047235 and parameters: {'booster': 'gbtree', 'lambda': 0.9197743609860489, 'alpha': 1.5630361458644975, 'max_depth': 3, 'eta': 0.8348596956944138, 'gamma': 0.14180536057359056, 'grow_policy': 'depthwise', 'min_child_weight': 4, 'scale_pos_weight': 1.2899528320706521}. Best is trial 37 with value: 0.8380699501582379.\n"
     ]
    },
    {
     "name": "stdout",
     "output_type": "stream",
     "text": [
      "[0]\teval-logloss:0.62978\n",
      "[1]\teval-logloss:0.58244\n",
      "[2]\teval-logloss:0.54716\n",
      "[3]\teval-logloss:0.51974\n",
      "[4]\teval-logloss:0.50006\n",
      "[5]\teval-logloss:0.48281\n",
      "[6]\teval-logloss:0.46681\n",
      "[7]\teval-logloss:0.45783\n",
      "[8]\teval-logloss:0.44483\n",
      "[9]\teval-logloss:0.43244\n",
      "[0]\teval-logloss:0.62680\n",
      "[1]\teval-logloss:0.57549\n",
      "[2]\teval-logloss:0.53638\n",
      "[3]\teval-logloss:0.50639\n"
     ]
    },
    {
     "name": "stderr",
     "output_type": "stream",
     "text": [
      "/opt/conda/lib/python3.7/site-packages/xgboost/core.py:94: UserWarning: ntree_limit is deprecated, use `iteration_range` or model slicing instead.\n",
      "  UserWarning\n"
     ]
    },
    {
     "name": "stdout",
     "output_type": "stream",
     "text": [
      "[4]\teval-logloss:0.48422\n",
      "[5]\teval-logloss:0.46319\n",
      "[6]\teval-logloss:0.44888\n",
      "[7]\teval-logloss:0.43287\n",
      "[8]\teval-logloss:0.42155\n",
      "[9]\teval-logloss:0.41015\n",
      "[0]\teval-logloss:0.63067\n",
      "[1]\teval-logloss:0.58232\n",
      "[2]\teval-logloss:0.54995\n",
      "[3]\teval-logloss:0.52172\n"
     ]
    },
    {
     "name": "stderr",
     "output_type": "stream",
     "text": [
      "/opt/conda/lib/python3.7/site-packages/xgboost/core.py:94: UserWarning: ntree_limit is deprecated, use `iteration_range` or model slicing instead.\n",
      "  UserWarning\n"
     ]
    },
    {
     "name": "stdout",
     "output_type": "stream",
     "text": [
      "[4]\teval-logloss:0.49863\n",
      "[5]\teval-logloss:0.47972\n",
      "[6]\teval-logloss:0.46465\n",
      "[7]\teval-logloss:0.45312\n",
      "[8]\teval-logloss:0.44199\n",
      "[9]\teval-logloss:0.43394\n",
      "[0]\teval-logloss:0.62550\n",
      "[1]\teval-logloss:0.57820\n",
      "[2]\teval-logloss:0.54275\n"
     ]
    },
    {
     "name": "stderr",
     "output_type": "stream",
     "text": [
      "/opt/conda/lib/python3.7/site-packages/xgboost/core.py:94: UserWarning: ntree_limit is deprecated, use `iteration_range` or model slicing instead.\n",
      "  UserWarning\n"
     ]
    },
    {
     "name": "stdout",
     "output_type": "stream",
     "text": [
      "[3]\teval-logloss:0.51398\n",
      "[4]\teval-logloss:0.49068\n",
      "[5]\teval-logloss:0.47451\n",
      "[6]\teval-logloss:0.46216\n",
      "[7]\teval-logloss:0.44921\n",
      "[8]\teval-logloss:0.43729\n",
      "[9]\teval-logloss:0.42822\n",
      "[0]\teval-logloss:0.62285\n",
      "[1]\teval-logloss:0.57203\n",
      "[2]\teval-logloss:0.52922\n",
      "[3]\teval-logloss:0.49924\n"
     ]
    },
    {
     "name": "stderr",
     "output_type": "stream",
     "text": [
      "/opt/conda/lib/python3.7/site-packages/xgboost/core.py:94: UserWarning: ntree_limit is deprecated, use `iteration_range` or model slicing instead.\n",
      "  UserWarning\n"
     ]
    },
    {
     "name": "stdout",
     "output_type": "stream",
     "text": [
      "[4]\teval-logloss:0.47689\n",
      "[5]\teval-logloss:0.45592\n",
      "[6]\teval-logloss:0.43839\n",
      "[7]\teval-logloss:0.42671\n",
      "[8]\teval-logloss:0.41284\n",
      "[9]\teval-logloss:0.40170\n"
     ]
    },
    {
     "name": "stderr",
     "output_type": "stream",
     "text": [
      "/opt/conda/lib/python3.7/site-packages/xgboost/core.py:94: UserWarning: ntree_limit is deprecated, use `iteration_range` or model slicing instead.\n",
      "  UserWarning\n",
      "[I 2023-07-25 12:47:22,264] Trial 69 finished with value: 0.815842088505792 and parameters: {'booster': 'gbtree', 'lambda': 8.392671988286569, 'alpha': 2.315288764093046, 'max_depth': 9, 'eta': 0.20865741774939933, 'gamma': 0.2703715845254046, 'grow_policy': 'lossguide', 'min_child_weight': 7, 'scale_pos_weight': 2.2362927452070527}. Best is trial 37 with value: 0.8380699501582379.\n"
     ]
    },
    {
     "name": "stdout",
     "output_type": "stream",
     "text": [
      "[0]\teval-logloss:0.60835\n",
      "[1]\teval-logloss:0.55313\n",
      "[2]\teval-logloss:0.51298\n",
      "[3]\teval-logloss:0.48696\n",
      "[4]\teval-logloss:0.46170\n",
      "[5]\teval-logloss:0.44246\n",
      "[6]\teval-logloss:0.42503\n",
      "[7]\teval-logloss:0.41209\n",
      "[8]\teval-logloss:0.40560\n",
      "[9]\teval-logloss:0.39834\n",
      "[0]\teval-logloss:0.60112\n",
      "[1]\teval-logloss:0.54339\n",
      "[2]\teval-logloss:0.50185\n",
      "[3]\teval-logloss:0.46836\n",
      "[4]\teval-logloss:0.44410\n",
      "[5]\teval-logloss:0.42828\n"
     ]
    },
    {
     "name": "stderr",
     "output_type": "stream",
     "text": [
      "/opt/conda/lib/python3.7/site-packages/xgboost/core.py:94: UserWarning: ntree_limit is deprecated, use `iteration_range` or model slicing instead.\n",
      "  UserWarning\n"
     ]
    },
    {
     "name": "stdout",
     "output_type": "stream",
     "text": [
      "[6]\teval-logloss:0.41171\n",
      "[7]\teval-logloss:0.39782\n",
      "[8]\teval-logloss:0.38625\n",
      "[9]\teval-logloss:0.37852\n",
      "[0]\teval-logloss:0.60647\n",
      "[1]\teval-logloss:0.54830\n",
      "[2]\teval-logloss:0.51247\n",
      "[3]\teval-logloss:0.48027\n",
      "[4]\teval-logloss:0.45791\n",
      "[5]\teval-logloss:0.44381\n"
     ]
    },
    {
     "name": "stderr",
     "output_type": "stream",
     "text": [
      "/opt/conda/lib/python3.7/site-packages/xgboost/core.py:94: UserWarning: ntree_limit is deprecated, use `iteration_range` or model slicing instead.\n",
      "  UserWarning\n"
     ]
    },
    {
     "name": "stdout",
     "output_type": "stream",
     "text": [
      "[6]\teval-logloss:0.42640\n",
      "[7]\teval-logloss:0.41358\n",
      "[8]\teval-logloss:0.40582\n",
      "[9]\teval-logloss:0.39764\n",
      "[0]\teval-logloss:0.60713\n",
      "[1]\teval-logloss:0.54949\n",
      "[2]\teval-logloss:0.50388\n",
      "[3]\teval-logloss:0.47789\n",
      "[4]\teval-logloss:0.45630\n",
      "[5]\teval-logloss:0.43928\n"
     ]
    },
    {
     "name": "stderr",
     "output_type": "stream",
     "text": [
      "/opt/conda/lib/python3.7/site-packages/xgboost/core.py:94: UserWarning: ntree_limit is deprecated, use `iteration_range` or model slicing instead.\n",
      "  UserWarning\n"
     ]
    },
    {
     "name": "stdout",
     "output_type": "stream",
     "text": [
      "[6]\teval-logloss:0.42253\n",
      "[7]\teval-logloss:0.40913\n",
      "[8]\teval-logloss:0.40013\n",
      "[9]\teval-logloss:0.39602\n",
      "[0]\teval-logloss:0.60027\n",
      "[1]\teval-logloss:0.53886\n",
      "[2]\teval-logloss:0.49776\n",
      "[3]\teval-logloss:0.46582\n",
      "[4]\teval-logloss:0.43570\n",
      "[5]\teval-logloss:0.41338\n"
     ]
    },
    {
     "name": "stderr",
     "output_type": "stream",
     "text": [
      "/opt/conda/lib/python3.7/site-packages/xgboost/core.py:94: UserWarning: ntree_limit is deprecated, use `iteration_range` or model slicing instead.\n",
      "  UserWarning\n"
     ]
    },
    {
     "name": "stdout",
     "output_type": "stream",
     "text": [
      "[6]\teval-logloss:0.39591\n",
      "[7]\teval-logloss:0.38597\n",
      "[8]\teval-logloss:0.37358\n",
      "[9]\teval-logloss:0.36912\n"
     ]
    },
    {
     "name": "stderr",
     "output_type": "stream",
     "text": [
      "/opt/conda/lib/python3.7/site-packages/xgboost/core.py:94: UserWarning: ntree_limit is deprecated, use `iteration_range` or model slicing instead.\n",
      "  UserWarning\n",
      "[I 2023-07-25 12:47:23,840] Trial 70 finished with value: 0.8278398455071713 and parameters: {'booster': 'gbtree', 'lambda': 1.513300334408043, 'alpha': 1.3840931735527429, 'max_depth': 6, 'eta': 0.25990308395214573, 'gamma': 0.21099866399330933, 'grow_policy': 'lossguide', 'min_child_weight': 6, 'scale_pos_weight': 1.603822048356513}. Best is trial 37 with value: 0.8380699501582379.\n"
     ]
    },
    {
     "name": "stdout",
     "output_type": "stream",
     "text": [
      "[0]\teval-logloss:0.55969\n",
      "[1]\teval-logloss:0.49992\n",
      "[2]\teval-logloss:0.46066\n",
      "[3]\teval-logloss:0.42963\n",
      "[4]\teval-logloss:0.40715\n",
      "[5]\teval-logloss:0.39168\n",
      "[6]\teval-logloss:0.38212\n",
      "[7]\teval-logloss:0.37388\n",
      "[8]\teval-logloss:0.37033\n",
      "[9]\teval-logloss:0.36640\n",
      "[0]\teval-logloss:0.55403\n",
      "[1]\teval-logloss:0.47985\n",
      "[2]\teval-logloss:0.43857\n",
      "[3]\teval-logloss:0.39940\n"
     ]
    },
    {
     "name": "stderr",
     "output_type": "stream",
     "text": [
      "/opt/conda/lib/python3.7/site-packages/xgboost/core.py:94: UserWarning: ntree_limit is deprecated, use `iteration_range` or model slicing instead.\n",
      "  UserWarning\n"
     ]
    },
    {
     "name": "stdout",
     "output_type": "stream",
     "text": [
      "[4]\teval-logloss:0.38089\n",
      "[5]\teval-logloss:0.36774\n",
      "[6]\teval-logloss:0.36322\n",
      "[7]\teval-logloss:0.35373\n",
      "[8]\teval-logloss:0.35020\n",
      "[9]\teval-logloss:0.34276\n",
      "[0]\teval-logloss:0.56079\n",
      "[1]\teval-logloss:0.49164\n",
      "[2]\teval-logloss:0.45851\n",
      "[3]\teval-logloss:0.43037\n"
     ]
    },
    {
     "name": "stderr",
     "output_type": "stream",
     "text": [
      "/opt/conda/lib/python3.7/site-packages/xgboost/core.py:94: UserWarning: ntree_limit is deprecated, use `iteration_range` or model slicing instead.\n",
      "  UserWarning\n"
     ]
    },
    {
     "name": "stdout",
     "output_type": "stream",
     "text": [
      "[4]\teval-logloss:0.40928\n",
      "[5]\teval-logloss:0.39771\n",
      "[6]\teval-logloss:0.38507\n",
      "[7]\teval-logloss:0.37806\n",
      "[8]\teval-logloss:0.37170\n",
      "[9]\teval-logloss:0.36887\n",
      "[0]\teval-logloss:0.55291\n",
      "[1]\teval-logloss:0.48316\n",
      "[2]\teval-logloss:0.44558\n",
      "[3]\teval-logloss:0.41526\n"
     ]
    },
    {
     "name": "stderr",
     "output_type": "stream",
     "text": [
      "/opt/conda/lib/python3.7/site-packages/xgboost/core.py:94: UserWarning: ntree_limit is deprecated, use `iteration_range` or model slicing instead.\n",
      "  UserWarning\n"
     ]
    },
    {
     "name": "stdout",
     "output_type": "stream",
     "text": [
      "[4]\teval-logloss:0.39148\n",
      "[5]\teval-logloss:0.38313\n",
      "[6]\teval-logloss:0.37628\n",
      "[7]\teval-logloss:0.37127\n",
      "[8]\teval-logloss:0.36395\n",
      "[9]\teval-logloss:0.36114\n",
      "[0]\teval-logloss:0.55426\n",
      "[1]\teval-logloss:0.47893\n",
      "[2]\teval-logloss:0.43292\n",
      "[3]\teval-logloss:0.40060\n"
     ]
    },
    {
     "name": "stderr",
     "output_type": "stream",
     "text": [
      "/opt/conda/lib/python3.7/site-packages/xgboost/core.py:94: UserWarning: ntree_limit is deprecated, use `iteration_range` or model slicing instead.\n",
      "  UserWarning\n"
     ]
    },
    {
     "name": "stdout",
     "output_type": "stream",
     "text": [
      "[4]\teval-logloss:0.37510\n",
      "[5]\teval-logloss:0.36191\n",
      "[6]\teval-logloss:0.35044\n",
      "[7]\teval-logloss:0.34831\n",
      "[8]\teval-logloss:0.33929\n",
      "[9]\teval-logloss:0.33183\n"
     ]
    },
    {
     "name": "stderr",
     "output_type": "stream",
     "text": [
      "/opt/conda/lib/python3.7/site-packages/xgboost/core.py:94: UserWarning: ntree_limit is deprecated, use `iteration_range` or model slicing instead.\n",
      "  UserWarning\n",
      "[I 2023-07-25 12:47:25,879] Trial 71 finished with value: 0.8327500248981392 and parameters: {'booster': 'gbtree', 'lambda': 7.898243053856021, 'alpha': 5.300484623849817, 'max_depth': 8, 'eta': 0.4444651209346691, 'gamma': 0.23725149038337878, 'grow_policy': 'depthwise', 'min_child_weight': 5, 'scale_pos_weight': 1.2568196390047541}. Best is trial 37 with value: 0.8380699501582379.\n"
     ]
    },
    {
     "name": "stdout",
     "output_type": "stream",
     "text": [
      "[0]\teval-logloss:0.58694\n",
      "[1]\teval-logloss:0.52955\n",
      "[2]\teval-logloss:0.49090\n",
      "[3]\teval-logloss:0.45408\n",
      "[4]\teval-logloss:0.43537\n",
      "[5]\teval-logloss:0.41770\n",
      "[6]\teval-logloss:0.40174\n",
      "[7]\teval-logloss:0.39148\n",
      "[8]\teval-logloss:0.38390\n",
      "[9]\teval-logloss:0.37736\n",
      "[0]\teval-logloss:0.58375\n",
      "[1]\teval-logloss:0.51590\n",
      "[2]\teval-logloss:0.46847\n",
      "[3]\teval-logloss:0.42985\n"
     ]
    },
    {
     "name": "stderr",
     "output_type": "stream",
     "text": [
      "/opt/conda/lib/python3.7/site-packages/xgboost/core.py:94: UserWarning: ntree_limit is deprecated, use `iteration_range` or model slicing instead.\n",
      "  UserWarning\n"
     ]
    },
    {
     "name": "stdout",
     "output_type": "stream",
     "text": [
      "[4]\teval-logloss:0.41307\n",
      "[5]\teval-logloss:0.39889\n",
      "[6]\teval-logloss:0.38489\n",
      "[7]\teval-logloss:0.37308\n",
      "[8]\teval-logloss:0.36447\n",
      "[9]\teval-logloss:0.35553\n",
      "[0]\teval-logloss:0.58704\n",
      "[1]\teval-logloss:0.52237\n",
      "[2]\teval-logloss:0.48336\n",
      "[3]\teval-logloss:0.45635\n"
     ]
    },
    {
     "name": "stderr",
     "output_type": "stream",
     "text": [
      "/opt/conda/lib/python3.7/site-packages/xgboost/core.py:94: UserWarning: ntree_limit is deprecated, use `iteration_range` or model slicing instead.\n",
      "  UserWarning\n"
     ]
    },
    {
     "name": "stdout",
     "output_type": "stream",
     "text": [
      "[4]\teval-logloss:0.43272\n",
      "[5]\teval-logloss:0.41268\n",
      "[6]\teval-logloss:0.40118\n",
      "[7]\teval-logloss:0.39094\n",
      "[8]\teval-logloss:0.38383\n",
      "[9]\teval-logloss:0.37670\n",
      "[0]\teval-logloss:0.58054\n",
      "[1]\teval-logloss:0.51996\n",
      "[2]\teval-logloss:0.47696\n",
      "[3]\teval-logloss:0.44943\n"
     ]
    },
    {
     "name": "stderr",
     "output_type": "stream",
     "text": [
      "/opt/conda/lib/python3.7/site-packages/xgboost/core.py:94: UserWarning: ntree_limit is deprecated, use `iteration_range` or model slicing instead.\n",
      "  UserWarning\n"
     ]
    },
    {
     "name": "stdout",
     "output_type": "stream",
     "text": [
      "[4]\teval-logloss:0.42234\n",
      "[5]\teval-logloss:0.40541\n",
      "[6]\teval-logloss:0.39240\n",
      "[7]\teval-logloss:0.38294\n",
      "[8]\teval-logloss:0.37665\n",
      "[9]\teval-logloss:0.37283\n",
      "[0]\teval-logloss:0.58283\n",
      "[1]\teval-logloss:0.51557\n",
      "[2]\teval-logloss:0.46951\n",
      "[3]\teval-logloss:0.43279\n"
     ]
    },
    {
     "name": "stderr",
     "output_type": "stream",
     "text": [
      "/opt/conda/lib/python3.7/site-packages/xgboost/core.py:94: UserWarning: ntree_limit is deprecated, use `iteration_range` or model slicing instead.\n",
      "  UserWarning\n"
     ]
    },
    {
     "name": "stdout",
     "output_type": "stream",
     "text": [
      "[4]\teval-logloss:0.40330\n",
      "[5]\teval-logloss:0.38487\n",
      "[6]\teval-logloss:0.37058\n",
      "[7]\teval-logloss:0.35915\n",
      "[8]\teval-logloss:0.35098\n",
      "[9]\teval-logloss:0.34850\n"
     ]
    },
    {
     "name": "stderr",
     "output_type": "stream",
     "text": [
      "/opt/conda/lib/python3.7/site-packages/xgboost/core.py:94: UserWarning: ntree_limit is deprecated, use `iteration_range` or model slicing instead.\n",
      "  UserWarning\n",
      "[I 2023-07-25 12:47:27,883] Trial 72 finished with value: 0.8338817776302143 and parameters: {'booster': 'gbtree', 'lambda': 9.696051654787588, 'alpha': 6.988282201662284, 'max_depth': 8, 'eta': 0.3448235744275386, 'gamma': 0.1837041073240057, 'grow_policy': 'depthwise', 'min_child_weight': 5, 'scale_pos_weight': 1.315109247144613}. Best is trial 37 with value: 0.8380699501582379.\n"
     ]
    },
    {
     "name": "stdout",
     "output_type": "stream",
     "text": [
      "[0]\teval-logloss:0.58858\n",
      "[1]\teval-logloss:0.53103\n",
      "[2]\teval-logloss:0.48746\n",
      "[3]\teval-logloss:0.45514\n",
      "[4]\teval-logloss:0.43134\n",
      "[5]\teval-logloss:0.41774\n",
      "[6]\teval-logloss:0.40854\n",
      "[7]\teval-logloss:0.39779\n",
      "[8]\teval-logloss:0.39087\n",
      "[9]\teval-logloss:0.38524\n",
      "[0]\teval-logloss:0.58004\n",
      "[1]\teval-logloss:0.51675\n",
      "[2]\teval-logloss:0.47158\n"
     ]
    },
    {
     "name": "stderr",
     "output_type": "stream",
     "text": [
      "/opt/conda/lib/python3.7/site-packages/xgboost/core.py:94: UserWarning: ntree_limit is deprecated, use `iteration_range` or model slicing instead.\n",
      "  UserWarning\n"
     ]
    },
    {
     "name": "stdout",
     "output_type": "stream",
     "text": [
      "[3]\teval-logloss:0.43002\n",
      "[4]\teval-logloss:0.40509\n",
      "[5]\teval-logloss:0.38943\n",
      "[6]\teval-logloss:0.37594\n",
      "[7]\teval-logloss:0.36437\n",
      "[8]\teval-logloss:0.35591\n",
      "[9]\teval-logloss:0.35003\n",
      "[0]\teval-logloss:0.58509\n",
      "[1]\teval-logloss:0.52453\n",
      "[2]\teval-logloss:0.48276\n",
      "[3]\teval-logloss:0.45973\n"
     ]
    },
    {
     "name": "stderr",
     "output_type": "stream",
     "text": [
      "/opt/conda/lib/python3.7/site-packages/xgboost/core.py:94: UserWarning: ntree_limit is deprecated, use `iteration_range` or model slicing instead.\n",
      "  UserWarning\n"
     ]
    },
    {
     "name": "stdout",
     "output_type": "stream",
     "text": [
      "[4]\teval-logloss:0.43677\n",
      "[5]\teval-logloss:0.41505\n",
      "[6]\teval-logloss:0.40288\n",
      "[7]\teval-logloss:0.39332\n",
      "[8]\teval-logloss:0.38672\n",
      "[9]\teval-logloss:0.38072\n",
      "[0]\teval-logloss:0.57777\n",
      "[1]\teval-logloss:0.51177\n",
      "[2]\teval-logloss:0.47252\n",
      "[3]\teval-logloss:0.44410\n"
     ]
    },
    {
     "name": "stderr",
     "output_type": "stream",
     "text": [
      "/opt/conda/lib/python3.7/site-packages/xgboost/core.py:94: UserWarning: ntree_limit is deprecated, use `iteration_range` or model slicing instead.\n",
      "  UserWarning\n"
     ]
    },
    {
     "name": "stdout",
     "output_type": "stream",
     "text": [
      "[4]\teval-logloss:0.41901\n",
      "[5]\teval-logloss:0.40452\n",
      "[6]\teval-logloss:0.38794\n",
      "[7]\teval-logloss:0.37816\n",
      "[8]\teval-logloss:0.37122\n",
      "[9]\teval-logloss:0.36518\n",
      "[0]\teval-logloss:0.58135\n",
      "[1]\teval-logloss:0.51294\n",
      "[2]\teval-logloss:0.46944\n",
      "[3]\teval-logloss:0.43455\n"
     ]
    },
    {
     "name": "stderr",
     "output_type": "stream",
     "text": [
      "/opt/conda/lib/python3.7/site-packages/xgboost/core.py:94: UserWarning: ntree_limit is deprecated, use `iteration_range` or model slicing instead.\n",
      "  UserWarning\n"
     ]
    },
    {
     "name": "stdout",
     "output_type": "stream",
     "text": [
      "[4]\teval-logloss:0.40319\n",
      "[5]\teval-logloss:0.38453\n",
      "[6]\teval-logloss:0.36901\n",
      "[7]\teval-logloss:0.35873\n",
      "[8]\teval-logloss:0.34762\n",
      "[9]\teval-logloss:0.33841\n"
     ]
    },
    {
     "name": "stderr",
     "output_type": "stream",
     "text": [
      "/opt/conda/lib/python3.7/site-packages/xgboost/core.py:94: UserWarning: ntree_limit is deprecated, use `iteration_range` or model slicing instead.\n",
      "  UserWarning\n",
      "[I 2023-07-25 12:47:30,109] Trial 73 finished with value: 0.8359651957584466 and parameters: {'booster': 'gbtree', 'lambda': 9.942092603602031, 'alpha': 4.2517668888169835, 'max_depth': 9, 'eta': 0.32906339638100296, 'gamma': 0.15998143270478984, 'grow_policy': 'depthwise', 'min_child_weight': 5, 'scale_pos_weight': 1.004235007755857}. Best is trial 37 with value: 0.8380699501582379.\n"
     ]
    },
    {
     "name": "stdout",
     "output_type": "stream",
     "text": [
      "[0]\teval-logloss:0.59399\n",
      "[1]\teval-logloss:0.53605\n",
      "[2]\teval-logloss:0.49926\n",
      "[3]\teval-logloss:0.46889\n",
      "[4]\teval-logloss:0.44262\n",
      "[5]\teval-logloss:0.42841\n",
      "[6]\teval-logloss:0.41331\n",
      "[7]\teval-logloss:0.40639\n",
      "[8]\teval-logloss:0.39735\n",
      "[9]\teval-logloss:0.38867\n",
      "[0]\teval-logloss:0.58994\n",
      "[1]\teval-logloss:0.52722\n",
      "[2]\teval-logloss:0.48980\n"
     ]
    },
    {
     "name": "stderr",
     "output_type": "stream",
     "text": [
      "/opt/conda/lib/python3.7/site-packages/xgboost/core.py:94: UserWarning: ntree_limit is deprecated, use `iteration_range` or model slicing instead.\n",
      "  UserWarning\n"
     ]
    },
    {
     "name": "stdout",
     "output_type": "stream",
     "text": [
      "[3]\teval-logloss:0.45981\n",
      "[4]\teval-logloss:0.42921\n",
      "[5]\teval-logloss:0.41779\n",
      "[6]\teval-logloss:0.40222\n",
      "[7]\teval-logloss:0.39163\n",
      "[8]\teval-logloss:0.38219\n",
      "[9]\teval-logloss:0.37249\n",
      "[0]\teval-logloss:0.59510\n",
      "[1]\teval-logloss:0.53598\n",
      "[2]\teval-logloss:0.50093\n",
      "[3]\teval-logloss:0.47222\n"
     ]
    },
    {
     "name": "stderr",
     "output_type": "stream",
     "text": [
      "/opt/conda/lib/python3.7/site-packages/xgboost/core.py:94: UserWarning: ntree_limit is deprecated, use `iteration_range` or model slicing instead.\n",
      "  UserWarning\n"
     ]
    },
    {
     "name": "stdout",
     "output_type": "stream",
     "text": [
      "[4]\teval-logloss:0.44944\n",
      "[5]\teval-logloss:0.43263\n",
      "[6]\teval-logloss:0.42040\n",
      "[7]\teval-logloss:0.41017\n",
      "[8]\teval-logloss:0.40176\n",
      "[9]\teval-logloss:0.39295\n",
      "[0]\teval-logloss:0.58749\n",
      "[1]\teval-logloss:0.53097\n",
      "[2]\teval-logloss:0.48830\n"
     ]
    },
    {
     "name": "stderr",
     "output_type": "stream",
     "text": [
      "/opt/conda/lib/python3.7/site-packages/xgboost/core.py:94: UserWarning: ntree_limit is deprecated, use `iteration_range` or model slicing instead.\n",
      "  UserWarning\n"
     ]
    },
    {
     "name": "stdout",
     "output_type": "stream",
     "text": [
      "[3]\teval-logloss:0.45840\n",
      "[4]\teval-logloss:0.43830\n",
      "[5]\teval-logloss:0.42038\n",
      "[6]\teval-logloss:0.41089\n",
      "[7]\teval-logloss:0.40079\n",
      "[8]\teval-logloss:0.39488\n",
      "[9]\teval-logloss:0.38686\n",
      "[0]\teval-logloss:0.58828\n",
      "[1]\teval-logloss:0.52343\n",
      "[2]\teval-logloss:0.48209\n"
     ]
    },
    {
     "name": "stderr",
     "output_type": "stream",
     "text": [
      "/opt/conda/lib/python3.7/site-packages/xgboost/core.py:94: UserWarning: ntree_limit is deprecated, use `iteration_range` or model slicing instead.\n",
      "  UserWarning\n"
     ]
    },
    {
     "name": "stdout",
     "output_type": "stream",
     "text": [
      "[3]\teval-logloss:0.44819\n",
      "[4]\teval-logloss:0.41973\n",
      "[5]\teval-logloss:0.40045\n",
      "[6]\teval-logloss:0.38954\n",
      "[7]\teval-logloss:0.37964\n",
      "[8]\teval-logloss:0.37095\n",
      "[9]\teval-logloss:0.36788\n"
     ]
    },
    {
     "name": "stderr",
     "output_type": "stream",
     "text": [
      "/opt/conda/lib/python3.7/site-packages/xgboost/core.py:94: UserWarning: ntree_limit is deprecated, use `iteration_range` or model slicing instead.\n",
      "  UserWarning\n",
      "[I 2023-07-25 12:47:32,420] Trial 74 finished with value: 0.8252771203906697 and parameters: {'booster': 'gbtree', 'lambda': 9.508513557113677, 'alpha': 7.719293149520364, 'max_depth': 9, 'eta': 0.3470328792658049, 'gamma': 0.15507474009584268, 'grow_policy': 'depthwise', 'min_child_weight': 5, 'scale_pos_weight': 1.9194342073905517}. Best is trial 37 with value: 0.8380699501582379.\n"
     ]
    },
    {
     "name": "stdout",
     "output_type": "stream",
     "text": [
      "[0]\teval-logloss:0.59332\n",
      "[1]\teval-logloss:0.53253\n",
      "[2]\teval-logloss:0.49225\n",
      "[3]\teval-logloss:0.46374\n",
      "[4]\teval-logloss:0.44397\n",
      "[5]\teval-logloss:0.42225\n",
      "[6]\teval-logloss:0.41026\n",
      "[7]\teval-logloss:0.39841\n",
      "[8]\teval-logloss:0.39081\n",
      "[9]\teval-logloss:0.38261\n",
      "[0]\teval-logloss:0.58425\n",
      "[1]\teval-logloss:0.52241\n",
      "[2]\teval-logloss:0.47908\n"
     ]
    },
    {
     "name": "stderr",
     "output_type": "stream",
     "text": [
      "/opt/conda/lib/python3.7/site-packages/xgboost/core.py:94: UserWarning: ntree_limit is deprecated, use `iteration_range` or model slicing instead.\n",
      "  UserWarning\n"
     ]
    },
    {
     "name": "stdout",
     "output_type": "stream",
     "text": [
      "[3]\teval-logloss:0.44318\n",
      "[4]\teval-logloss:0.41418\n",
      "[5]\teval-logloss:0.39578\n",
      "[6]\teval-logloss:0.38262\n",
      "[7]\teval-logloss:0.37158\n",
      "[8]\teval-logloss:0.36174\n",
      "[9]\teval-logloss:0.35412\n",
      "[0]\teval-logloss:0.59195\n",
      "[1]\teval-logloss:0.52797\n",
      "[2]\teval-logloss:0.48669\n"
     ]
    },
    {
     "name": "stderr",
     "output_type": "stream",
     "text": [
      "/opt/conda/lib/python3.7/site-packages/xgboost/core.py:94: UserWarning: ntree_limit is deprecated, use `iteration_range` or model slicing instead.\n",
      "  UserWarning\n"
     ]
    },
    {
     "name": "stdout",
     "output_type": "stream",
     "text": [
      "[3]\teval-logloss:0.46273\n",
      "[4]\teval-logloss:0.44109\n",
      "[5]\teval-logloss:0.42263\n",
      "[6]\teval-logloss:0.40794\n",
      "[7]\teval-logloss:0.39903\n",
      "[8]\teval-logloss:0.38877\n",
      "[9]\teval-logloss:0.38340\n",
      "[0]\teval-logloss:0.58911\n",
      "[1]\teval-logloss:0.52553\n",
      "[2]\teval-logloss:0.48523\n"
     ]
    },
    {
     "name": "stderr",
     "output_type": "stream",
     "text": [
      "/opt/conda/lib/python3.7/site-packages/xgboost/core.py:94: UserWarning: ntree_limit is deprecated, use `iteration_range` or model slicing instead.\n",
      "  UserWarning\n"
     ]
    },
    {
     "name": "stdout",
     "output_type": "stream",
     "text": [
      "[3]\teval-logloss:0.45744\n",
      "[4]\teval-logloss:0.43976\n",
      "[5]\teval-logloss:0.41907\n",
      "[6]\teval-logloss:0.40579\n",
      "[7]\teval-logloss:0.39681\n",
      "[8]\teval-logloss:0.38627\n",
      "[9]\teval-logloss:0.38263\n",
      "[0]\teval-logloss:0.58792\n",
      "[1]\teval-logloss:0.52124\n",
      "[2]\teval-logloss:0.47541\n"
     ]
    },
    {
     "name": "stderr",
     "output_type": "stream",
     "text": [
      "/opt/conda/lib/python3.7/site-packages/xgboost/core.py:94: UserWarning: ntree_limit is deprecated, use `iteration_range` or model slicing instead.\n",
      "  UserWarning\n"
     ]
    },
    {
     "name": "stdout",
     "output_type": "stream",
     "text": [
      "[3]\teval-logloss:0.43976\n",
      "[4]\teval-logloss:0.41286\n",
      "[5]\teval-logloss:0.38873\n",
      "[6]\teval-logloss:0.37529\n",
      "[7]\teval-logloss:0.36523\n",
      "[8]\teval-logloss:0.35830\n",
      "[9]\teval-logloss:0.35118\n"
     ]
    },
    {
     "name": "stderr",
     "output_type": "stream",
     "text": [
      "/opt/conda/lib/python3.7/site-packages/xgboost/core.py:94: UserWarning: ntree_limit is deprecated, use `iteration_range` or model slicing instead.\n",
      "  UserWarning\n",
      "[I 2023-07-25 12:47:34,881] Trial 75 finished with value: 0.8281856569561752 and parameters: {'booster': 'gbtree', 'lambda': 6.086886568663899, 'alpha': 4.359806953937375, 'max_depth': 10, 'eta': 0.31239312584844775, 'gamma': 0.18322637006506065, 'grow_policy': 'depthwise', 'min_child_weight': 6, 'scale_pos_weight': 1.5027066151545088}. Best is trial 37 with value: 0.8380699501582379.\n"
     ]
    },
    {
     "name": "stdout",
     "output_type": "stream",
     "text": [
      "[0]\teval-logloss:0.57993\n",
      "[1]\teval-logloss:0.51626\n",
      "[2]\teval-logloss:0.47494\n",
      "[3]\teval-logloss:0.44833\n",
      "[4]\teval-logloss:0.42263\n",
      "[5]\teval-logloss:0.40968\n",
      "[6]\teval-logloss:0.39142\n",
      "[7]\teval-logloss:0.38294\n",
      "[8]\teval-logloss:0.37552\n",
      "[9]\teval-logloss:0.37025\n",
      "[0]\teval-logloss:0.56757\n",
      "[1]\teval-logloss:0.49779\n",
      "[2]\teval-logloss:0.46041\n",
      "[3]\teval-logloss:0.42610\n"
     ]
    },
    {
     "name": "stderr",
     "output_type": "stream",
     "text": [
      "/opt/conda/lib/python3.7/site-packages/xgboost/core.py:94: UserWarning: ntree_limit is deprecated, use `iteration_range` or model slicing instead.\n",
      "  UserWarning\n"
     ]
    },
    {
     "name": "stdout",
     "output_type": "stream",
     "text": [
      "[4]\teval-logloss:0.40006\n",
      "[5]\teval-logloss:0.38329\n",
      "[6]\teval-logloss:0.36926\n",
      "[7]\teval-logloss:0.36117\n",
      "[8]\teval-logloss:0.35361\n",
      "[9]\teval-logloss:0.34616\n",
      "[0]\teval-logloss:0.57585\n",
      "[1]\teval-logloss:0.51102\n",
      "[2]\teval-logloss:0.47077\n",
      "[3]\teval-logloss:0.43873\n"
     ]
    },
    {
     "name": "stderr",
     "output_type": "stream",
     "text": [
      "/opt/conda/lib/python3.7/site-packages/xgboost/core.py:94: UserWarning: ntree_limit is deprecated, use `iteration_range` or model slicing instead.\n",
      "  UserWarning\n"
     ]
    },
    {
     "name": "stdout",
     "output_type": "stream",
     "text": [
      "[4]\teval-logloss:0.42057\n",
      "[5]\teval-logloss:0.40291\n",
      "[6]\teval-logloss:0.39050\n",
      "[7]\teval-logloss:0.38236\n",
      "[8]\teval-logloss:0.37777\n",
      "[9]\teval-logloss:0.37207\n",
      "[0]\teval-logloss:0.57568\n",
      "[1]\teval-logloss:0.50809\n",
      "[2]\teval-logloss:0.47045\n"
     ]
    },
    {
     "name": "stderr",
     "output_type": "stream",
     "text": [
      "/opt/conda/lib/python3.7/site-packages/xgboost/core.py:94: UserWarning: ntree_limit is deprecated, use `iteration_range` or model slicing instead.\n",
      "  UserWarning\n"
     ]
    },
    {
     "name": "stdout",
     "output_type": "stream",
     "text": [
      "[3]\teval-logloss:0.44246\n",
      "[4]\teval-logloss:0.42444\n",
      "[5]\teval-logloss:0.41123\n",
      "[6]\teval-logloss:0.40024\n",
      "[7]\teval-logloss:0.39278\n",
      "[8]\teval-logloss:0.38769\n",
      "[9]\teval-logloss:0.38437\n",
      "[0]\teval-logloss:0.56786\n",
      "[1]\teval-logloss:0.49356\n",
      "[2]\teval-logloss:0.44797\n"
     ]
    },
    {
     "name": "stderr",
     "output_type": "stream",
     "text": [
      "/opt/conda/lib/python3.7/site-packages/xgboost/core.py:94: UserWarning: ntree_limit is deprecated, use `iteration_range` or model slicing instead.\n",
      "  UserWarning\n"
     ]
    },
    {
     "name": "stdout",
     "output_type": "stream",
     "text": [
      "[3]\teval-logloss:0.41601\n",
      "[4]\teval-logloss:0.39093\n",
      "[5]\teval-logloss:0.37045\n",
      "[6]\teval-logloss:0.36079\n",
      "[7]\teval-logloss:0.34833\n",
      "[8]\teval-logloss:0.34426\n",
      "[9]\teval-logloss:0.33723\n"
     ]
    },
    {
     "name": "stderr",
     "output_type": "stream",
     "text": [
      "/opt/conda/lib/python3.7/site-packages/xgboost/core.py:94: UserWarning: ntree_limit is deprecated, use `iteration_range` or model slicing instead.\n",
      "  UserWarning\n",
      "[I 2023-07-25 12:47:37,179] Trial 76 finished with value: 0.8287160320769005 and parameters: {'booster': 'gbtree', 'lambda': 5.175150331524601, 'alpha': 3.727007637298021, 'max_depth': 9, 'eta': 0.3712994010310582, 'gamma': 0.16090260581912239, 'grow_policy': 'depthwise', 'min_child_weight': 5, 'scale_pos_weight': 1.6197310846095723}. Best is trial 37 with value: 0.8380699501582379.\n"
     ]
    },
    {
     "name": "stdout",
     "output_type": "stream",
     "text": [
      "[0]\teval-logloss:0.52805\n",
      "[1]\teval-logloss:0.47041\n",
      "[2]\teval-logloss:0.42282\n",
      "[3]\teval-logloss:0.39841\n",
      "[4]\teval-logloss:0.38300\n",
      "[5]\teval-logloss:0.38348\n",
      "[6]\teval-logloss:0.37624\n",
      "[7]\teval-logloss:0.37021\n",
      "[8]\teval-logloss:0.36683\n",
      "[9]\teval-logloss:0.36423\n",
      "[0]\teval-logloss:0.51428\n",
      "[1]\teval-logloss:0.44503\n",
      "[2]\teval-logloss:0.39714\n",
      "[3]\teval-logloss:0.37706\n"
     ]
    },
    {
     "name": "stderr",
     "output_type": "stream",
     "text": [
      "/opt/conda/lib/python3.7/site-packages/xgboost/core.py:94: UserWarning: ntree_limit is deprecated, use `iteration_range` or model slicing instead.\n",
      "  UserWarning\n"
     ]
    },
    {
     "name": "stdout",
     "output_type": "stream",
     "text": [
      "[4]\teval-logloss:0.36553\n",
      "[5]\teval-logloss:0.36149\n",
      "[6]\teval-logloss:0.35208\n",
      "[7]\teval-logloss:0.34706\n",
      "[8]\teval-logloss:0.34706\n",
      "[9]\teval-logloss:0.34673\n",
      "[0]\teval-logloss:0.52720\n",
      "[1]\teval-logloss:0.45825\n",
      "[2]\teval-logloss:0.42331\n"
     ]
    },
    {
     "name": "stderr",
     "output_type": "stream",
     "text": [
      "/opt/conda/lib/python3.7/site-packages/xgboost/core.py:94: UserWarning: ntree_limit is deprecated, use `iteration_range` or model slicing instead.\n",
      "  UserWarning\n"
     ]
    },
    {
     "name": "stdout",
     "output_type": "stream",
     "text": [
      "[3]\teval-logloss:0.39978\n",
      "[4]\teval-logloss:0.38892\n",
      "[5]\teval-logloss:0.37989\n",
      "[6]\teval-logloss:0.37749\n",
      "[7]\teval-logloss:0.37576\n",
      "[8]\teval-logloss:0.37163\n",
      "[9]\teval-logloss:0.36841\n",
      "[0]\teval-logloss:0.51510\n",
      "[1]\teval-logloss:0.44706\n",
      "[2]\teval-logloss:0.41132\n"
     ]
    },
    {
     "name": "stderr",
     "output_type": "stream",
     "text": [
      "/opt/conda/lib/python3.7/site-packages/xgboost/core.py:94: UserWarning: ntree_limit is deprecated, use `iteration_range` or model slicing instead.\n",
      "  UserWarning\n"
     ]
    },
    {
     "name": "stdout",
     "output_type": "stream",
     "text": [
      "[3]\teval-logloss:0.39152\n",
      "[4]\teval-logloss:0.38087\n",
      "[5]\teval-logloss:0.37707\n",
      "[6]\teval-logloss:0.37810\n",
      "[7]\teval-logloss:0.37752\n",
      "[8]\teval-logloss:0.37274\n",
      "[9]\teval-logloss:0.37111\n",
      "[0]\teval-logloss:0.51786\n",
      "[1]\teval-logloss:0.43797\n",
      "[2]\teval-logloss:0.40257\n"
     ]
    },
    {
     "name": "stderr",
     "output_type": "stream",
     "text": [
      "/opt/conda/lib/python3.7/site-packages/xgboost/core.py:94: UserWarning: ntree_limit is deprecated, use `iteration_range` or model slicing instead.\n",
      "  UserWarning\n"
     ]
    },
    {
     "name": "stdout",
     "output_type": "stream",
     "text": [
      "[3]\teval-logloss:0.37646\n",
      "[4]\teval-logloss:0.36389\n",
      "[5]\teval-logloss:0.35641\n",
      "[6]\teval-logloss:0.35199\n",
      "[7]\teval-logloss:0.34888\n",
      "[8]\teval-logloss:0.34301\n",
      "[9]\teval-logloss:0.34410\n"
     ]
    },
    {
     "name": "stderr",
     "output_type": "stream",
     "text": [
      "/opt/conda/lib/python3.7/site-packages/xgboost/core.py:94: UserWarning: ntree_limit is deprecated, use `iteration_range` or model slicing instead.\n",
      "  UserWarning\n",
      "[I 2023-07-25 12:47:39,507] Trial 77 finished with value: 0.8270683430599617 and parameters: {'booster': 'gbtree', 'lambda': 7.351726071390944, 'alpha': 5.140939713346518, 'max_depth': 9, 'eta': 0.6239032484302129, 'gamma': 0.11854290163433286, 'grow_policy': 'depthwise', 'min_child_weight': 4, 'scale_pos_weight': 1.3004213054442912}. Best is trial 37 with value: 0.8380699501582379.\n"
     ]
    },
    {
     "name": "stdout",
     "output_type": "stream",
     "text": [
      "[0]\teval-logloss:0.62810\n",
      "[1]\teval-logloss:0.58248\n",
      "[2]\teval-logloss:0.54953\n",
      "[3]\teval-logloss:0.52691\n",
      "[4]\teval-logloss:0.50786\n",
      "[5]\teval-logloss:0.49040\n",
      "[6]\teval-logloss:0.47228\n",
      "[7]\teval-logloss:0.45645\n",
      "[8]\teval-logloss:0.44392\n",
      "[9]\teval-logloss:0.43340\n",
      "[0]\teval-logloss:0.62735\n",
      "[1]\teval-logloss:0.58197\n",
      "[2]\teval-logloss:0.54898\n",
      "[3]\teval-logloss:0.51926\n",
      "[4]\teval-logloss:0.49509\n"
     ]
    },
    {
     "name": "stderr",
     "output_type": "stream",
     "text": [
      "/opt/conda/lib/python3.7/site-packages/xgboost/core.py:94: UserWarning: ntree_limit is deprecated, use `iteration_range` or model slicing instead.\n",
      "  UserWarning\n"
     ]
    },
    {
     "name": "stdout",
     "output_type": "stream",
     "text": [
      "[5]\teval-logloss:0.47310\n",
      "[6]\teval-logloss:0.46061\n",
      "[7]\teval-logloss:0.44736\n",
      "[8]\teval-logloss:0.43362\n",
      "[9]\teval-logloss:0.42305\n",
      "[0]\teval-logloss:0.62892\n",
      "[1]\teval-logloss:0.58049\n",
      "[2]\teval-logloss:0.55000\n",
      "[3]\teval-logloss:0.52327\n",
      "[4]\teval-logloss:0.50118\n",
      "[5]\teval-logloss:0.48639\n"
     ]
    },
    {
     "name": "stderr",
     "output_type": "stream",
     "text": [
      "/opt/conda/lib/python3.7/site-packages/xgboost/core.py:94: UserWarning: ntree_limit is deprecated, use `iteration_range` or model slicing instead.\n",
      "  UserWarning\n"
     ]
    },
    {
     "name": "stdout",
     "output_type": "stream",
     "text": [
      "[6]\teval-logloss:0.47128\n",
      "[7]\teval-logloss:0.45535\n",
      "[8]\teval-logloss:0.44163\n",
      "[9]\teval-logloss:0.43332\n",
      "[0]\teval-logloss:0.62466\n",
      "[1]\teval-logloss:0.57774\n",
      "[2]\teval-logloss:0.54289\n",
      "[3]\teval-logloss:0.51306\n",
      "[4]\teval-logloss:0.49386\n"
     ]
    },
    {
     "name": "stderr",
     "output_type": "stream",
     "text": [
      "/opt/conda/lib/python3.7/site-packages/xgboost/core.py:94: UserWarning: ntree_limit is deprecated, use `iteration_range` or model slicing instead.\n",
      "  UserWarning\n"
     ]
    },
    {
     "name": "stdout",
     "output_type": "stream",
     "text": [
      "[5]\teval-logloss:0.47352\n",
      "[6]\teval-logloss:0.45937\n",
      "[7]\teval-logloss:0.44942\n",
      "[8]\teval-logloss:0.43928\n",
      "[9]\teval-logloss:0.43036\n",
      "[0]\teval-logloss:0.62617\n",
      "[1]\teval-logloss:0.57775\n",
      "[2]\teval-logloss:0.54068\n",
      "[3]\teval-logloss:0.51101\n",
      "[4]\teval-logloss:0.49196\n"
     ]
    },
    {
     "name": "stderr",
     "output_type": "stream",
     "text": [
      "/opt/conda/lib/python3.7/site-packages/xgboost/core.py:94: UserWarning: ntree_limit is deprecated, use `iteration_range` or model slicing instead.\n",
      "  UserWarning\n"
     ]
    },
    {
     "name": "stdout",
     "output_type": "stream",
     "text": [
      "[5]\teval-logloss:0.46944\n",
      "[6]\teval-logloss:0.45014\n",
      "[7]\teval-logloss:0.43612\n",
      "[8]\teval-logloss:0.42710\n",
      "[9]\teval-logloss:0.41677\n"
     ]
    },
    {
     "name": "stderr",
     "output_type": "stream",
     "text": [
      "/opt/conda/lib/python3.7/site-packages/xgboost/core.py:94: UserWarning: ntree_limit is deprecated, use `iteration_range` or model slicing instead.\n",
      "  UserWarning\n",
      "[I 2023-07-25 12:47:41,129] Trial 78 finished with value: 0.8120878670569432 and parameters: {'booster': 'gbtree', 'lambda': 9.398481281249596, 'alpha': 7.521185245331281, 'max_depth': 6, 'eta': 0.22363035854092506, 'gamma': 0.30591729412265645, 'grow_policy': 'depthwise', 'min_child_weight': 5, 'scale_pos_weight': 2.1361651115954805}. Best is trial 37 with value: 0.8380699501582379.\n"
     ]
    },
    {
     "name": "stdout",
     "output_type": "stream",
     "text": [
      "[0]\teval-logloss:0.60251\n",
      "[1]\teval-logloss:0.54452\n",
      "[2]\teval-logloss:0.50113\n",
      "[3]\teval-logloss:0.47331\n",
      "[4]\teval-logloss:0.45560\n",
      "[5]\teval-logloss:0.44151\n",
      "[6]\teval-logloss:0.42712\n",
      "[7]\teval-logloss:0.41269\n",
      "[8]\teval-logloss:0.40375\n",
      "[9]\teval-logloss:0.39526\n",
      "[0]\teval-logloss:0.59367\n",
      "[1]\teval-logloss:0.52990\n",
      "[2]\teval-logloss:0.48126\n"
     ]
    },
    {
     "name": "stderr",
     "output_type": "stream",
     "text": [
      "/opt/conda/lib/python3.7/site-packages/xgboost/core.py:94: UserWarning: ntree_limit is deprecated, use `iteration_range` or model slicing instead.\n",
      "  UserWarning\n"
     ]
    },
    {
     "name": "stdout",
     "output_type": "stream",
     "text": [
      "[3]\teval-logloss:0.45409\n",
      "[4]\teval-logloss:0.43077\n",
      "[5]\teval-logloss:0.41339\n",
      "[6]\teval-logloss:0.39690\n",
      "[7]\teval-logloss:0.38751\n",
      "[8]\teval-logloss:0.37571\n",
      "[9]\teval-logloss:0.36645\n",
      "[0]\teval-logloss:0.60070\n",
      "[1]\teval-logloss:0.54182\n",
      "[2]\teval-logloss:0.50503\n"
     ]
    },
    {
     "name": "stderr",
     "output_type": "stream",
     "text": [
      "/opt/conda/lib/python3.7/site-packages/xgboost/core.py:94: UserWarning: ntree_limit is deprecated, use `iteration_range` or model slicing instead.\n",
      "  UserWarning\n"
     ]
    },
    {
     "name": "stdout",
     "output_type": "stream",
     "text": [
      "[3]\teval-logloss:0.47757\n",
      "[4]\teval-logloss:0.45180\n",
      "[5]\teval-logloss:0.43303\n",
      "[6]\teval-logloss:0.41923\n",
      "[7]\teval-logloss:0.40824\n",
      "[8]\teval-logloss:0.39899\n",
      "[9]\teval-logloss:0.39252\n",
      "[0]\teval-logloss:0.59596\n",
      "[1]\teval-logloss:0.53321\n",
      "[2]\teval-logloss:0.49361\n"
     ]
    },
    {
     "name": "stderr",
     "output_type": "stream",
     "text": [
      "/opt/conda/lib/python3.7/site-packages/xgboost/core.py:94: UserWarning: ntree_limit is deprecated, use `iteration_range` or model slicing instead.\n",
      "  UserWarning\n"
     ]
    },
    {
     "name": "stdout",
     "output_type": "stream",
     "text": [
      "[3]\teval-logloss:0.46357\n",
      "[4]\teval-logloss:0.44593\n",
      "[5]\teval-logloss:0.42854\n",
      "[6]\teval-logloss:0.41437\n",
      "[7]\teval-logloss:0.40201\n",
      "[8]\teval-logloss:0.39400\n",
      "[9]\teval-logloss:0.38658\n",
      "[0]\teval-logloss:0.59085\n",
      "[1]\teval-logloss:0.52479\n",
      "[2]\teval-logloss:0.48019\n"
     ]
    },
    {
     "name": "stderr",
     "output_type": "stream",
     "text": [
      "/opt/conda/lib/python3.7/site-packages/xgboost/core.py:94: UserWarning: ntree_limit is deprecated, use `iteration_range` or model slicing instead.\n",
      "  UserWarning\n"
     ]
    },
    {
     "name": "stdout",
     "output_type": "stream",
     "text": [
      "[3]\teval-logloss:0.44918\n",
      "[4]\teval-logloss:0.42271\n",
      "[5]\teval-logloss:0.40643\n",
      "[6]\teval-logloss:0.39057\n",
      "[7]\teval-logloss:0.37751\n",
      "[8]\teval-logloss:0.36735\n",
      "[9]\teval-logloss:0.35804\n"
     ]
    },
    {
     "name": "stderr",
     "output_type": "stream",
     "text": [
      "/opt/conda/lib/python3.7/site-packages/xgboost/core.py:94: UserWarning: ntree_limit is deprecated, use `iteration_range` or model slicing instead.\n",
      "  UserWarning\n",
      "[I 2023-07-25 12:47:43,504] Trial 79 finished with value: 0.8217069660893866 and parameters: {'booster': 'gbtree', 'lambda': 3.7868888672702647, 'alpha': 2.717480297126949, 'max_depth': 10, 'eta': 0.2873979746143803, 'gamma': 0.1872257558505785, 'grow_policy': 'depthwise', 'min_child_weight': 8, 'scale_pos_weight': 1.7683555699539015}. Best is trial 37 with value: 0.8380699501582379.\n"
     ]
    },
    {
     "name": "stdout",
     "output_type": "stream",
     "text": [
      "[0]\teval-logloss:0.56880\n",
      "[1]\teval-logloss:0.50755\n",
      "[2]\teval-logloss:0.46606\n",
      "[3]\teval-logloss:0.43364\n",
      "[4]\teval-logloss:0.41400\n",
      "[5]\teval-logloss:0.40036\n",
      "[6]\teval-logloss:0.38727\n",
      "[7]\teval-logloss:0.37910\n",
      "[8]\teval-logloss:0.37258\n",
      "[9]\teval-logloss:0.36750\n",
      "[0]\teval-logloss:0.56180\n",
      "[1]\teval-logloss:0.49070\n",
      "[2]\teval-logloss:0.44608\n",
      "[3]\teval-logloss:0.40874\n",
      "[4]\teval-logloss:0.39328\n"
     ]
    },
    {
     "name": "stderr",
     "output_type": "stream",
     "text": [
      "/opt/conda/lib/python3.7/site-packages/xgboost/core.py:94: UserWarning: ntree_limit is deprecated, use `iteration_range` or model slicing instead.\n",
      "  UserWarning\n"
     ]
    },
    {
     "name": "stdout",
     "output_type": "stream",
     "text": [
      "[5]\teval-logloss:0.37982\n",
      "[6]\teval-logloss:0.36693\n",
      "[7]\teval-logloss:0.35665\n",
      "[8]\teval-logloss:0.34893\n",
      "[9]\teval-logloss:0.34251\n",
      "[0]\teval-logloss:0.56996\n",
      "[1]\teval-logloss:0.49958\n",
      "[2]\teval-logloss:0.46099\n",
      "[3]\teval-logloss:0.43743\n",
      "[4]\teval-logloss:0.41861\n"
     ]
    },
    {
     "name": "stderr",
     "output_type": "stream",
     "text": [
      "/opt/conda/lib/python3.7/site-packages/xgboost/core.py:94: UserWarning: ntree_limit is deprecated, use `iteration_range` or model slicing instead.\n",
      "  UserWarning\n"
     ]
    },
    {
     "name": "stdout",
     "output_type": "stream",
     "text": [
      "[5]\teval-logloss:0.40126\n",
      "[6]\teval-logloss:0.39003\n",
      "[7]\teval-logloss:0.38164\n",
      "[8]\teval-logloss:0.37305\n",
      "[9]\teval-logloss:0.36803\n",
      "[0]\teval-logloss:0.56082\n",
      "[1]\teval-logloss:0.49167\n",
      "[2]\teval-logloss:0.44646\n",
      "[3]\teval-logloss:0.41830\n",
      "[4]\teval-logloss:0.40180\n"
     ]
    },
    {
     "name": "stderr",
     "output_type": "stream",
     "text": [
      "/opt/conda/lib/python3.7/site-packages/xgboost/core.py:94: UserWarning: ntree_limit is deprecated, use `iteration_range` or model slicing instead.\n",
      "  UserWarning\n"
     ]
    },
    {
     "name": "stdout",
     "output_type": "stream",
     "text": [
      "[5]\teval-logloss:0.38657\n",
      "[6]\teval-logloss:0.37277\n",
      "[7]\teval-logloss:0.36342\n",
      "[8]\teval-logloss:0.35995\n",
      "[9]\teval-logloss:0.35569\n",
      "[0]\teval-logloss:0.56243\n",
      "[1]\teval-logloss:0.48667\n",
      "[2]\teval-logloss:0.43822\n",
      "[3]\teval-logloss:0.40128\n",
      "[4]\teval-logloss:0.37529\n"
     ]
    },
    {
     "name": "stderr",
     "output_type": "stream",
     "text": [
      "/opt/conda/lib/python3.7/site-packages/xgboost/core.py:94: UserWarning: ntree_limit is deprecated, use `iteration_range` or model slicing instead.\n",
      "  UserWarning\n"
     ]
    },
    {
     "name": "stdout",
     "output_type": "stream",
     "text": [
      "[5]\teval-logloss:0.36258\n",
      "[6]\teval-logloss:0.35419\n",
      "[7]\teval-logloss:0.34932\n",
      "[8]\teval-logloss:0.34279\n",
      "[9]\teval-logloss:0.33969\n"
     ]
    },
    {
     "name": "stderr",
     "output_type": "stream",
     "text": [
      "/opt/conda/lib/python3.7/site-packages/xgboost/core.py:94: UserWarning: ntree_limit is deprecated, use `iteration_range` or model slicing instead.\n",
      "  UserWarning\n",
      "[I 2023-07-25 12:47:45,308] Trial 80 finished with value: 0.8344616882679965 and parameters: {'booster': 'gbtree', 'lambda': 6.271985227710606, 'alpha': 3.3680312118656492, 'max_depth': 7, 'eta': 0.39691377915005327, 'gamma': 0.13257219720316887, 'grow_policy': 'depthwise', 'min_child_weight': 5, 'scale_pos_weight': 1.1943573551194109}. Best is trial 37 with value: 0.8380699501582379.\n"
     ]
    },
    {
     "name": "stdout",
     "output_type": "stream",
     "text": [
      "[0]\teval-logloss:0.56994\n",
      "[1]\teval-logloss:0.51120\n",
      "[2]\teval-logloss:0.46919\n",
      "[3]\teval-logloss:0.43637\n",
      "[4]\teval-logloss:0.41346\n",
      "[5]\teval-logloss:0.39724\n",
      "[6]\teval-logloss:0.38547\n",
      "[7]\teval-logloss:0.37894\n",
      "[8]\teval-logloss:0.37436\n",
      "[9]\teval-logloss:0.36908\n",
      "[0]\teval-logloss:0.56094\n",
      "[1]\teval-logloss:0.48640\n",
      "[2]\teval-logloss:0.44400\n",
      "[3]\teval-logloss:0.40675\n",
      "[4]\teval-logloss:0.39126\n"
     ]
    },
    {
     "name": "stderr",
     "output_type": "stream",
     "text": [
      "/opt/conda/lib/python3.7/site-packages/xgboost/core.py:94: UserWarning: ntree_limit is deprecated, use `iteration_range` or model slicing instead.\n",
      "  UserWarning\n"
     ]
    },
    {
     "name": "stdout",
     "output_type": "stream",
     "text": [
      "[5]\teval-logloss:0.37267\n",
      "[6]\teval-logloss:0.36011\n",
      "[7]\teval-logloss:0.35008\n",
      "[8]\teval-logloss:0.34595\n",
      "[9]\teval-logloss:0.34145\n",
      "[0]\teval-logloss:0.57289\n",
      "[1]\teval-logloss:0.50237\n",
      "[2]\teval-logloss:0.46236\n",
      "[3]\teval-logloss:0.43196\n",
      "[4]\teval-logloss:0.41432\n"
     ]
    },
    {
     "name": "stderr",
     "output_type": "stream",
     "text": [
      "/opt/conda/lib/python3.7/site-packages/xgboost/core.py:94: UserWarning: ntree_limit is deprecated, use `iteration_range` or model slicing instead.\n",
      "  UserWarning\n"
     ]
    },
    {
     "name": "stdout",
     "output_type": "stream",
     "text": [
      "[5]\teval-logloss:0.40019\n",
      "[6]\teval-logloss:0.38563\n",
      "[7]\teval-logloss:0.37805\n",
      "[8]\teval-logloss:0.37423\n",
      "[9]\teval-logloss:0.36997\n",
      "[0]\teval-logloss:0.55999\n",
      "[1]\teval-logloss:0.49607\n",
      "[2]\teval-logloss:0.44864\n",
      "[3]\teval-logloss:0.41753\n",
      "[4]\teval-logloss:0.40200\n"
     ]
    },
    {
     "name": "stderr",
     "output_type": "stream",
     "text": [
      "/opt/conda/lib/python3.7/site-packages/xgboost/core.py:94: UserWarning: ntree_limit is deprecated, use `iteration_range` or model slicing instead.\n",
      "  UserWarning\n"
     ]
    },
    {
     "name": "stdout",
     "output_type": "stream",
     "text": [
      "[5]\teval-logloss:0.38765\n",
      "[6]\teval-logloss:0.37488\n",
      "[7]\teval-logloss:0.36709\n",
      "[8]\teval-logloss:0.35967\n",
      "[9]\teval-logloss:0.35808\n",
      "[0]\teval-logloss:0.56105\n",
      "[1]\teval-logloss:0.49002\n",
      "[2]\teval-logloss:0.44679\n",
      "[3]\teval-logloss:0.41106\n",
      "[4]\teval-logloss:0.38503\n"
     ]
    },
    {
     "name": "stderr",
     "output_type": "stream",
     "text": [
      "/opt/conda/lib/python3.7/site-packages/xgboost/core.py:94: UserWarning: ntree_limit is deprecated, use `iteration_range` or model slicing instead.\n",
      "  UserWarning\n"
     ]
    },
    {
     "name": "stdout",
     "output_type": "stream",
     "text": [
      "[5]\teval-logloss:0.37306\n",
      "[6]\teval-logloss:0.36022\n",
      "[7]\teval-logloss:0.35047\n",
      "[8]\teval-logloss:0.34503\n",
      "[9]\teval-logloss:0.34045\n"
     ]
    },
    {
     "name": "stderr",
     "output_type": "stream",
     "text": [
      "/opt/conda/lib/python3.7/site-packages/xgboost/core.py:94: UserWarning: ntree_limit is deprecated, use `iteration_range` or model slicing instead.\n",
      "  UserWarning\n",
      "[I 2023-07-25 12:47:47,135] Trial 81 finished with value: 0.8363132148888022 and parameters: {'booster': 'gbtree', 'lambda': 5.757194131989393, 'alpha': 3.319675128602324, 'max_depth': 7, 'eta': 0.3860996624625631, 'gamma': 0.13705285301647002, 'grow_policy': 'depthwise', 'min_child_weight': 5, 'scale_pos_weight': 1.0233202370412102}. Best is trial 37 with value: 0.8380699501582379.\n"
     ]
    },
    {
     "name": "stdout",
     "output_type": "stream",
     "text": [
      "[0]\teval-logloss:0.57565\n",
      "[1]\teval-logloss:0.51601\n",
      "[2]\teval-logloss:0.47876\n",
      "[3]\teval-logloss:0.44340\n",
      "[4]\teval-logloss:0.41917\n",
      "[5]\teval-logloss:0.40650\n",
      "[6]\teval-logloss:0.39354\n",
      "[7]\teval-logloss:0.38340\n",
      "[8]\teval-logloss:0.37540\n",
      "[9]\teval-logloss:0.37162\n",
      "[0]\teval-logloss:0.56401\n",
      "[1]\teval-logloss:0.49746\n",
      "[2]\teval-logloss:0.45419\n",
      "[3]\teval-logloss:0.41401\n"
     ]
    },
    {
     "name": "stderr",
     "output_type": "stream",
     "text": [
      "/opt/conda/lib/python3.7/site-packages/xgboost/core.py:94: UserWarning: ntree_limit is deprecated, use `iteration_range` or model slicing instead.\n",
      "  UserWarning\n"
     ]
    },
    {
     "name": "stdout",
     "output_type": "stream",
     "text": [
      "[4]\teval-logloss:0.39440\n",
      "[5]\teval-logloss:0.37621\n",
      "[6]\teval-logloss:0.36712\n",
      "[7]\teval-logloss:0.35657\n",
      "[8]\teval-logloss:0.35393\n",
      "[9]\teval-logloss:0.34818\n",
      "[0]\teval-logloss:0.57074\n",
      "[1]\teval-logloss:0.50717\n",
      "[2]\teval-logloss:0.46959\n",
      "[3]\teval-logloss:0.44087\n"
     ]
    },
    {
     "name": "stderr",
     "output_type": "stream",
     "text": [
      "/opt/conda/lib/python3.7/site-packages/xgboost/core.py:94: UserWarning: ntree_limit is deprecated, use `iteration_range` or model slicing instead.\n",
      "  UserWarning\n"
     ]
    },
    {
     "name": "stdout",
     "output_type": "stream",
     "text": [
      "[4]\teval-logloss:0.42210\n",
      "[5]\teval-logloss:0.40568\n",
      "[6]\teval-logloss:0.39406\n",
      "[7]\teval-logloss:0.38432\n",
      "[8]\teval-logloss:0.38150\n",
      "[9]\teval-logloss:0.37375\n",
      "[0]\teval-logloss:0.56372\n",
      "[1]\teval-logloss:0.49323\n",
      "[2]\teval-logloss:0.45234\n",
      "[3]\teval-logloss:0.42048\n",
      "[4]\teval-logloss:0.39691\n"
     ]
    },
    {
     "name": "stderr",
     "output_type": "stream",
     "text": [
      "/opt/conda/lib/python3.7/site-packages/xgboost/core.py:94: UserWarning: ntree_limit is deprecated, use `iteration_range` or model slicing instead.\n",
      "  UserWarning\n"
     ]
    },
    {
     "name": "stdout",
     "output_type": "stream",
     "text": [
      "[5]\teval-logloss:0.38424\n",
      "[6]\teval-logloss:0.37533\n",
      "[7]\teval-logloss:0.36797\n",
      "[8]\teval-logloss:0.36528\n",
      "[9]\teval-logloss:0.36090\n",
      "[0]\teval-logloss:0.56752\n",
      "[1]\teval-logloss:0.49784\n",
      "[2]\teval-logloss:0.44822\n",
      "[3]\teval-logloss:0.40890\n"
     ]
    },
    {
     "name": "stderr",
     "output_type": "stream",
     "text": [
      "/opt/conda/lib/python3.7/site-packages/xgboost/core.py:94: UserWarning: ntree_limit is deprecated, use `iteration_range` or model slicing instead.\n",
      "  UserWarning\n"
     ]
    },
    {
     "name": "stdout",
     "output_type": "stream",
     "text": [
      "[4]\teval-logloss:0.38914\n",
      "[5]\teval-logloss:0.37027\n",
      "[6]\teval-logloss:0.35708\n",
      "[7]\teval-logloss:0.34845\n",
      "[8]\teval-logloss:0.34168\n",
      "[9]\teval-logloss:0.33633\n"
     ]
    },
    {
     "name": "stderr",
     "output_type": "stream",
     "text": [
      "/opt/conda/lib/python3.7/site-packages/xgboost/core.py:94: UserWarning: ntree_limit is deprecated, use `iteration_range` or model slicing instead.\n",
      "  UserWarning\n",
      "[I 2023-07-25 12:47:49,005] Trial 82 finished with value: 0.8346788636614411 and parameters: {'booster': 'gbtree', 'lambda': 9.991960986542015, 'alpha': 4.59073583667329, 'max_depth': 7, 'eta': 0.3878789053823033, 'gamma': 0.1316069163148459, 'grow_policy': 'depthwise', 'min_child_weight': 6, 'scale_pos_weight': 1.0300282664969664}. Best is trial 37 with value: 0.8380699501582379.\n"
     ]
    },
    {
     "name": "stdout",
     "output_type": "stream",
     "text": [
      "[0]\teval-logloss:0.57098\n",
      "[1]\teval-logloss:0.51200\n",
      "[2]\teval-logloss:0.47162\n",
      "[3]\teval-logloss:0.43639\n",
      "[4]\teval-logloss:0.41380\n",
      "[5]\teval-logloss:0.39871\n",
      "[6]\teval-logloss:0.39234\n",
      "[7]\teval-logloss:0.38268\n",
      "[8]\teval-logloss:0.37421\n",
      "[9]\teval-logloss:0.36930\n",
      "[0]\teval-logloss:0.55823\n",
      "[1]\teval-logloss:0.48447\n",
      "[2]\teval-logloss:0.44380\n",
      "[3]\teval-logloss:0.40498\n",
      "[4]\teval-logloss:0.38829\n"
     ]
    },
    {
     "name": "stderr",
     "output_type": "stream",
     "text": [
      "/opt/conda/lib/python3.7/site-packages/xgboost/core.py:94: UserWarning: ntree_limit is deprecated, use `iteration_range` or model slicing instead.\n",
      "  UserWarning\n"
     ]
    },
    {
     "name": "stdout",
     "output_type": "stream",
     "text": [
      "[5]\teval-logloss:0.37209\n",
      "[6]\teval-logloss:0.36138\n",
      "[7]\teval-logloss:0.35141\n",
      "[8]\teval-logloss:0.34465\n",
      "[9]\teval-logloss:0.33962\n",
      "[0]\teval-logloss:0.57063\n",
      "[1]\teval-logloss:0.50096\n",
      "[2]\teval-logloss:0.46214\n",
      "[3]\teval-logloss:0.43070\n",
      "[4]\teval-logloss:0.41089\n"
     ]
    },
    {
     "name": "stderr",
     "output_type": "stream",
     "text": [
      "/opt/conda/lib/python3.7/site-packages/xgboost/core.py:94: UserWarning: ntree_limit is deprecated, use `iteration_range` or model slicing instead.\n",
      "  UserWarning\n"
     ]
    },
    {
     "name": "stdout",
     "output_type": "stream",
     "text": [
      "[5]\teval-logloss:0.39582\n",
      "[6]\teval-logloss:0.38293\n",
      "[7]\teval-logloss:0.37555\n",
      "[8]\teval-logloss:0.37235\n",
      "[9]\teval-logloss:0.36859\n",
      "[0]\teval-logloss:0.56004\n",
      "[1]\teval-logloss:0.49605\n",
      "[2]\teval-logloss:0.45185\n",
      "[3]\teval-logloss:0.42068\n",
      "[4]\teval-logloss:0.39995\n"
     ]
    },
    {
     "name": "stderr",
     "output_type": "stream",
     "text": [
      "/opt/conda/lib/python3.7/site-packages/xgboost/core.py:94: UserWarning: ntree_limit is deprecated, use `iteration_range` or model slicing instead.\n",
      "  UserWarning\n"
     ]
    },
    {
     "name": "stdout",
     "output_type": "stream",
     "text": [
      "[5]\teval-logloss:0.38151\n",
      "[6]\teval-logloss:0.37330\n",
      "[7]\teval-logloss:0.36388\n",
      "[8]\teval-logloss:0.35672\n",
      "[9]\teval-logloss:0.34915\n",
      "[0]\teval-logloss:0.56005\n",
      "[1]\teval-logloss:0.49150\n",
      "[2]\teval-logloss:0.44202\n",
      "[3]\teval-logloss:0.40602\n",
      "[4]\teval-logloss:0.38409\n"
     ]
    },
    {
     "name": "stderr",
     "output_type": "stream",
     "text": [
      "/opt/conda/lib/python3.7/site-packages/xgboost/core.py:94: UserWarning: ntree_limit is deprecated, use `iteration_range` or model slicing instead.\n",
      "  UserWarning\n"
     ]
    },
    {
     "name": "stdout",
     "output_type": "stream",
     "text": [
      "[5]\teval-logloss:0.36950\n",
      "[6]\teval-logloss:0.36252\n",
      "[7]\teval-logloss:0.34984\n",
      "[8]\teval-logloss:0.34375\n",
      "[9]\teval-logloss:0.33596\n"
     ]
    },
    {
     "name": "stderr",
     "output_type": "stream",
     "text": [
      "/opt/conda/lib/python3.7/site-packages/xgboost/core.py:94: UserWarning: ntree_limit is deprecated, use `iteration_range` or model slicing instead.\n",
      "  UserWarning\n",
      "[I 2023-07-25 12:47:50,819] Trial 83 finished with value: 0.8383408040901171 and parameters: {'booster': 'gbtree', 'lambda': 6.016094397513518, 'alpha': 4.711663832668852, 'max_depth': 7, 'eta': 0.39660498695259366, 'gamma': 0.10019525875588906, 'grow_policy': 'depthwise', 'min_child_weight': 6, 'scale_pos_weight': 1.0501106779852665}. Best is trial 83 with value: 0.8383408040901171.\n"
     ]
    },
    {
     "name": "stdout",
     "output_type": "stream",
     "text": [
      "[0]\teval-logloss:0.55161\n",
      "[1]\teval-logloss:0.49589\n",
      "[2]\teval-logloss:0.46367\n",
      "[3]\teval-logloss:0.42678\n",
      "[4]\teval-logloss:0.40782\n",
      "[5]\teval-logloss:0.39167\n",
      "[6]\teval-logloss:0.38639\n",
      "[7]\teval-logloss:0.37709\n",
      "[8]\teval-logloss:0.37166\n",
      "[9]\teval-logloss:0.36771\n",
      "[0]\teval-logloss:0.54066\n",
      "[1]\teval-logloss:0.46680\n",
      "[2]\teval-logloss:0.41223\n",
      "[3]\teval-logloss:0.39593\n",
      "[4]\teval-logloss:0.37462\n"
     ]
    },
    {
     "name": "stderr",
     "output_type": "stream",
     "text": [
      "/opt/conda/lib/python3.7/site-packages/xgboost/core.py:94: UserWarning: ntree_limit is deprecated, use `iteration_range` or model slicing instead.\n",
      "  UserWarning\n"
     ]
    },
    {
     "name": "stdout",
     "output_type": "stream",
     "text": [
      "[5]\teval-logloss:0.35967\n",
      "[6]\teval-logloss:0.34891\n",
      "[7]\teval-logloss:0.34330\n",
      "[8]\teval-logloss:0.33698\n",
      "[9]\teval-logloss:0.33021\n",
      "[0]\teval-logloss:0.55190\n",
      "[1]\teval-logloss:0.48165\n",
      "[2]\teval-logloss:0.44434\n",
      "[3]\teval-logloss:0.42044\n",
      "[4]\teval-logloss:0.39882\n"
     ]
    },
    {
     "name": "stderr",
     "output_type": "stream",
     "text": [
      "/opt/conda/lib/python3.7/site-packages/xgboost/core.py:94: UserWarning: ntree_limit is deprecated, use `iteration_range` or model slicing instead.\n",
      "  UserWarning\n"
     ]
    },
    {
     "name": "stdout",
     "output_type": "stream",
     "text": [
      "[5]\teval-logloss:0.38655\n",
      "[6]\teval-logloss:0.37610\n",
      "[7]\teval-logloss:0.36965\n",
      "[8]\teval-logloss:0.36981\n",
      "[9]\teval-logloss:0.36555\n",
      "[0]\teval-logloss:0.54037\n",
      "[1]\teval-logloss:0.46863\n",
      "[2]\teval-logloss:0.42907\n",
      "[3]\teval-logloss:0.40352\n",
      "[4]\teval-logloss:0.39356\n"
     ]
    },
    {
     "name": "stderr",
     "output_type": "stream",
     "text": [
      "/opt/conda/lib/python3.7/site-packages/xgboost/core.py:94: UserWarning: ntree_limit is deprecated, use `iteration_range` or model slicing instead.\n",
      "  UserWarning\n"
     ]
    },
    {
     "name": "stdout",
     "output_type": "stream",
     "text": [
      "[5]\teval-logloss:0.37640\n",
      "[6]\teval-logloss:0.36721\n",
      "[7]\teval-logloss:0.36137\n",
      "[8]\teval-logloss:0.35557\n",
      "[9]\teval-logloss:0.35548\n",
      "[0]\teval-logloss:0.54544\n",
      "[1]\teval-logloss:0.47186\n",
      "[2]\teval-logloss:0.42224\n",
      "[3]\teval-logloss:0.39284\n",
      "[4]\teval-logloss:0.37070\n"
     ]
    },
    {
     "name": "stderr",
     "output_type": "stream",
     "text": [
      "/opt/conda/lib/python3.7/site-packages/xgboost/core.py:94: UserWarning: ntree_limit is deprecated, use `iteration_range` or model slicing instead.\n",
      "  UserWarning\n"
     ]
    },
    {
     "name": "stdout",
     "output_type": "stream",
     "text": [
      "[5]\teval-logloss:0.36171\n",
      "[6]\teval-logloss:0.35175\n",
      "[7]\teval-logloss:0.34581\n",
      "[8]\teval-logloss:0.34207\n",
      "[9]\teval-logloss:0.33796\n"
     ]
    },
    {
     "name": "stderr",
     "output_type": "stream",
     "text": [
      "/opt/conda/lib/python3.7/site-packages/xgboost/core.py:94: UserWarning: ntree_limit is deprecated, use `iteration_range` or model slicing instead.\n",
      "  UserWarning\n",
      "[I 2023-07-25 12:47:52,624] Trial 84 finished with value: 0.8340170245659838 and parameters: {'booster': 'gbtree', 'lambda': 4.837309187630721, 'alpha': 4.04892858406875, 'max_depth': 7, 'eta': 0.47030430455238265, 'gamma': 0.08629439042512585, 'grow_policy': 'depthwise', 'min_child_weight': 7, 'scale_pos_weight': 1.0414399184567629}. Best is trial 83 with value: 0.8383408040901171.\n"
     ]
    },
    {
     "name": "stdout",
     "output_type": "stream",
     "text": [
      "[0]\teval-logloss:0.61769\n",
      "[1]\teval-logloss:0.56722\n",
      "[2]\teval-logloss:0.53235\n",
      "[3]\teval-logloss:0.50507\n",
      "[4]\teval-logloss:0.48136\n",
      "[5]\teval-logloss:0.45857\n",
      "[6]\teval-logloss:0.44224\n",
      "[7]\teval-logloss:0.43274\n",
      "[8]\teval-logloss:0.42003\n",
      "[9]\teval-logloss:0.41045\n",
      "[0]\teval-logloss:0.61045\n",
      "[1]\teval-logloss:0.55881\n",
      "[2]\teval-logloss:0.51999\n",
      "[3]\teval-logloss:0.49249\n",
      "[4]\teval-logloss:0.46458\n",
      "[5]\teval-logloss:0.44655\n"
     ]
    },
    {
     "name": "stderr",
     "output_type": "stream",
     "text": [
      "/opt/conda/lib/python3.7/site-packages/xgboost/core.py:94: UserWarning: ntree_limit is deprecated, use `iteration_range` or model slicing instead.\n",
      "  UserWarning\n"
     ]
    },
    {
     "name": "stdout",
     "output_type": "stream",
     "text": [
      "[6]\teval-logloss:0.42614\n",
      "[7]\teval-logloss:0.41412\n",
      "[8]\teval-logloss:0.40317\n",
      "[9]\teval-logloss:0.39322\n",
      "[0]\teval-logloss:0.61647\n",
      "[1]\teval-logloss:0.56294\n",
      "[2]\teval-logloss:0.52700\n",
      "[3]\teval-logloss:0.50105\n",
      "[4]\teval-logloss:0.47894\n",
      "[5]\teval-logloss:0.45594\n"
     ]
    },
    {
     "name": "stderr",
     "output_type": "stream",
     "text": [
      "/opt/conda/lib/python3.7/site-packages/xgboost/core.py:94: UserWarning: ntree_limit is deprecated, use `iteration_range` or model slicing instead.\n",
      "  UserWarning\n"
     ]
    },
    {
     "name": "stdout",
     "output_type": "stream",
     "text": [
      "[6]\teval-logloss:0.44082\n",
      "[7]\teval-logloss:0.42884\n",
      "[8]\teval-logloss:0.41879\n",
      "[9]\teval-logloss:0.41007\n",
      "[0]\teval-logloss:0.61300\n",
      "[1]\teval-logloss:0.56080\n",
      "[2]\teval-logloss:0.51600\n",
      "[3]\teval-logloss:0.48704\n",
      "[4]\teval-logloss:0.46114\n",
      "[5]\teval-logloss:0.44609\n"
     ]
    },
    {
     "name": "stderr",
     "output_type": "stream",
     "text": [
      "/opt/conda/lib/python3.7/site-packages/xgboost/core.py:94: UserWarning: ntree_limit is deprecated, use `iteration_range` or model slicing instead.\n",
      "  UserWarning\n"
     ]
    },
    {
     "name": "stdout",
     "output_type": "stream",
     "text": [
      "[6]\teval-logloss:0.43090\n",
      "[7]\teval-logloss:0.41824\n",
      "[8]\teval-logloss:0.40831\n",
      "[9]\teval-logloss:0.40030\n",
      "[0]\teval-logloss:0.61293\n",
      "[1]\teval-logloss:0.55493\n",
      "[2]\teval-logloss:0.51337\n",
      "[3]\teval-logloss:0.47881\n",
      "[4]\teval-logloss:0.45557\n"
     ]
    },
    {
     "name": "stderr",
     "output_type": "stream",
     "text": [
      "/opt/conda/lib/python3.7/site-packages/xgboost/core.py:94: UserWarning: ntree_limit is deprecated, use `iteration_range` or model slicing instead.\n",
      "  UserWarning\n"
     ]
    },
    {
     "name": "stdout",
     "output_type": "stream",
     "text": [
      "[5]\teval-logloss:0.43237\n",
      "[6]\teval-logloss:0.41872\n",
      "[7]\teval-logloss:0.40637\n",
      "[8]\teval-logloss:0.39596\n",
      "[9]\teval-logloss:0.38505\n"
     ]
    },
    {
     "name": "stderr",
     "output_type": "stream",
     "text": [
      "/opt/conda/lib/python3.7/site-packages/xgboost/core.py:94: UserWarning: ntree_limit is deprecated, use `iteration_range` or model slicing instead.\n",
      "  UserWarning\n",
      "[I 2023-07-25 12:47:54,240] Trial 85 finished with value: 0.831423653877158 and parameters: {'booster': 'gbtree', 'lambda': 5.904322307231409, 'alpha': 9.899532253687987, 'max_depth': 6, 'eta': 0.2485332038396119, 'gamma': 0.10329754809588967, 'grow_policy': 'depthwise', 'min_child_weight': 6, 'scale_pos_weight': 1.5300038456749823}. Best is trial 83 with value: 0.8383408040901171.\n"
     ]
    },
    {
     "name": "stdout",
     "output_type": "stream",
     "text": [
      "[0]\teval-logloss:0.59040\n",
      "[1]\teval-logloss:0.53324\n",
      "[2]\teval-logloss:0.49248\n",
      "[3]\teval-logloss:0.47039\n",
      "[4]\teval-logloss:0.44303\n",
      "[5]\teval-logloss:0.42337\n",
      "[6]\teval-logloss:0.40623\n",
      "[7]\teval-logloss:0.39634\n",
      "[8]\teval-logloss:0.39128\n",
      "[9]\teval-logloss:0.38358\n",
      "[0]\teval-logloss:0.58037\n",
      "[1]\teval-logloss:0.51709\n",
      "[2]\teval-logloss:0.47500\n",
      "[3]\teval-logloss:0.43380\n"
     ]
    },
    {
     "name": "stderr",
     "output_type": "stream",
     "text": [
      "/opt/conda/lib/python3.7/site-packages/xgboost/core.py:94: UserWarning: ntree_limit is deprecated, use `iteration_range` or model slicing instead.\n",
      "  UserWarning\n"
     ]
    },
    {
     "name": "stdout",
     "output_type": "stream",
     "text": [
      "[4]\teval-logloss:0.41189\n",
      "[5]\teval-logloss:0.39435\n",
      "[6]\teval-logloss:0.37902\n",
      "[7]\teval-logloss:0.36988\n",
      "[8]\teval-logloss:0.36305\n",
      "[9]\teval-logloss:0.35421\n",
      "[0]\teval-logloss:0.58613\n",
      "[1]\teval-logloss:0.52861\n",
      "[2]\teval-logloss:0.48492\n",
      "[3]\teval-logloss:0.45408\n",
      "[4]\teval-logloss:0.42866\n"
     ]
    },
    {
     "name": "stderr",
     "output_type": "stream",
     "text": [
      "/opt/conda/lib/python3.7/site-packages/xgboost/core.py:94: UserWarning: ntree_limit is deprecated, use `iteration_range` or model slicing instead.\n",
      "  UserWarning\n"
     ]
    },
    {
     "name": "stdout",
     "output_type": "stream",
     "text": [
      "[5]\teval-logloss:0.41174\n",
      "[6]\teval-logloss:0.40106\n",
      "[7]\teval-logloss:0.38730\n",
      "[8]\teval-logloss:0.37892\n",
      "[9]\teval-logloss:0.37190\n",
      "[0]\teval-logloss:0.57996\n",
      "[1]\teval-logloss:0.51314\n",
      "[2]\teval-logloss:0.47417\n",
      "[3]\teval-logloss:0.44317\n",
      "[4]\teval-logloss:0.42604\n"
     ]
    },
    {
     "name": "stderr",
     "output_type": "stream",
     "text": [
      "/opt/conda/lib/python3.7/site-packages/xgboost/core.py:94: UserWarning: ntree_limit is deprecated, use `iteration_range` or model slicing instead.\n",
      "  UserWarning\n"
     ]
    },
    {
     "name": "stdout",
     "output_type": "stream",
     "text": [
      "[5]\teval-logloss:0.40573\n",
      "[6]\teval-logloss:0.39666\n",
      "[7]\teval-logloss:0.38398\n",
      "[8]\teval-logloss:0.37900\n",
      "[9]\teval-logloss:0.37245\n",
      "[0]\teval-logloss:0.58004\n",
      "[1]\teval-logloss:0.51509\n",
      "[2]\teval-logloss:0.46908\n",
      "[3]\teval-logloss:0.43612\n",
      "[4]\teval-logloss:0.41534\n"
     ]
    },
    {
     "name": "stderr",
     "output_type": "stream",
     "text": [
      "/opt/conda/lib/python3.7/site-packages/xgboost/core.py:94: UserWarning: ntree_limit is deprecated, use `iteration_range` or model slicing instead.\n",
      "  UserWarning\n"
     ]
    },
    {
     "name": "stdout",
     "output_type": "stream",
     "text": [
      "[5]\teval-logloss:0.39180\n",
      "[6]\teval-logloss:0.37768\n",
      "[7]\teval-logloss:0.36426\n",
      "[8]\teval-logloss:0.35813\n",
      "[9]\teval-logloss:0.35065\n"
     ]
    },
    {
     "name": "stderr",
     "output_type": "stream",
     "text": [
      "/opt/conda/lib/python3.7/site-packages/xgboost/core.py:94: UserWarning: ntree_limit is deprecated, use `iteration_range` or model slicing instead.\n",
      "  UserWarning\n",
      "[I 2023-07-25 12:47:56,071] Trial 86 finished with value: 0.8353083859408563 and parameters: {'booster': 'gbtree', 'lambda': 7.827128463641814, 'alpha': 4.854500173557092, 'max_depth': 7, 'eta': 0.32254823888308987, 'gamma': 0.13128443302522766, 'grow_policy': 'depthwise', 'min_child_weight': 6, 'scale_pos_weight': 1.0074676136446183}. Best is trial 83 with value: 0.8383408040901171.\n"
     ]
    },
    {
     "name": "stdout",
     "output_type": "stream",
     "text": [
      "[0]\teval-logloss:0.60928\n",
      "[1]\teval-logloss:0.55634\n",
      "[2]\teval-logloss:0.52026\n",
      "[3]\teval-logloss:0.49056\n",
      "[4]\teval-logloss:0.47508\n",
      "[5]\teval-logloss:0.45585\n",
      "[6]\teval-logloss:0.44027\n",
      "[7]\teval-logloss:0.43104\n",
      "[8]\teval-logloss:0.42014\n",
      "[9]\teval-logloss:0.41154\n",
      "[0]\teval-logloss:0.60769\n",
      "[1]\teval-logloss:0.55303\n",
      "[2]\teval-logloss:0.51340\n",
      "[3]\teval-logloss:0.48502\n",
      "[4]\teval-logloss:0.45928\n"
     ]
    },
    {
     "name": "stderr",
     "output_type": "stream",
     "text": [
      "/opt/conda/lib/python3.7/site-packages/xgboost/core.py:94: UserWarning: ntree_limit is deprecated, use `iteration_range` or model slicing instead.\n",
      "  UserWarning\n"
     ]
    },
    {
     "name": "stdout",
     "output_type": "stream",
     "text": [
      "[5]\teval-logloss:0.44035\n",
      "[6]\teval-logloss:0.42341\n",
      "[7]\teval-logloss:0.41237\n",
      "[8]\teval-logloss:0.40399\n",
      "[9]\teval-logloss:0.39586\n",
      "[0]\teval-logloss:0.61091\n",
      "[1]\teval-logloss:0.55509\n",
      "[2]\teval-logloss:0.51870\n",
      "[3]\teval-logloss:0.49128\n",
      "[4]\teval-logloss:0.46883\n",
      "[5]\teval-logloss:0.45324\n"
     ]
    },
    {
     "name": "stderr",
     "output_type": "stream",
     "text": [
      "/opt/conda/lib/python3.7/site-packages/xgboost/core.py:94: UserWarning: ntree_limit is deprecated, use `iteration_range` or model slicing instead.\n",
      "  UserWarning\n"
     ]
    },
    {
     "name": "stdout",
     "output_type": "stream",
     "text": [
      "[6]\teval-logloss:0.43812\n",
      "[7]\teval-logloss:0.42692\n",
      "[8]\teval-logloss:0.41502\n",
      "[9]\teval-logloss:0.40703\n",
      "[0]\teval-logloss:0.60567\n",
      "[1]\teval-logloss:0.55371\n",
      "[2]\teval-logloss:0.51319\n",
      "[3]\teval-logloss:0.48878\n",
      "[4]\teval-logloss:0.46496\n"
     ]
    },
    {
     "name": "stderr",
     "output_type": "stream",
     "text": [
      "/opt/conda/lib/python3.7/site-packages/xgboost/core.py:94: UserWarning: ntree_limit is deprecated, use `iteration_range` or model slicing instead.\n",
      "  UserWarning\n"
     ]
    },
    {
     "name": "stdout",
     "output_type": "stream",
     "text": [
      "[5]\teval-logloss:0.44902\n",
      "[6]\teval-logloss:0.43411\n",
      "[7]\teval-logloss:0.42351\n",
      "[8]\teval-logloss:0.41366\n",
      "[9]\teval-logloss:0.40661\n",
      "[0]\teval-logloss:0.60808\n",
      "[1]\teval-logloss:0.55081\n",
      "[2]\teval-logloss:0.50841\n",
      "[3]\teval-logloss:0.47434\n",
      "[4]\teval-logloss:0.44706\n",
      "[5]\teval-logloss:0.43306\n"
     ]
    },
    {
     "name": "stderr",
     "output_type": "stream",
     "text": [
      "/opt/conda/lib/python3.7/site-packages/xgboost/core.py:94: UserWarning: ntree_limit is deprecated, use `iteration_range` or model slicing instead.\n",
      "  UserWarning\n"
     ]
    },
    {
     "name": "stdout",
     "output_type": "stream",
     "text": [
      "[6]\teval-logloss:0.41668\n",
      "[7]\teval-logloss:0.40424\n",
      "[8]\teval-logloss:0.39212\n",
      "[9]\teval-logloss:0.38387\n"
     ]
    },
    {
     "name": "stderr",
     "output_type": "stream",
     "text": [
      "/opt/conda/lib/python3.7/site-packages/xgboost/core.py:94: UserWarning: ntree_limit is deprecated, use `iteration_range` or model slicing instead.\n",
      "  UserWarning\n",
      "[I 2023-07-25 12:47:57,676] Trial 87 finished with value: 0.8171318433748509 and parameters: {'booster': 'gbtree', 'lambda': 7.382290008722967, 'alpha': 5.189642578033286, 'max_depth': 6, 'eta': 0.283776468837485, 'gamma': 0.07804834723986862, 'grow_policy': 'depthwise', 'min_child_weight': 8, 'scale_pos_weight': 1.9278002899011781}. Best is trial 83 with value: 0.8383408040901171.\n"
     ]
    },
    {
     "name": "stdout",
     "output_type": "stream",
     "text": [
      "[0]\teval-logloss:0.59007\n",
      "[1]\teval-logloss:0.52725\n",
      "[2]\teval-logloss:0.48802\n",
      "[3]\teval-logloss:0.46312\n",
      "[4]\teval-logloss:0.43459\n",
      "[5]\teval-logloss:0.42074\n",
      "[6]\teval-logloss:0.40857\n",
      "[7]\teval-logloss:0.39665\n",
      "[8]\teval-logloss:0.38890\n",
      "[9]\teval-logloss:0.38223\n",
      "[0]\teval-logloss:0.57917\n",
      "[1]\teval-logloss:0.51456\n",
      "[2]\teval-logloss:0.47089\n",
      "[3]\teval-logloss:0.43918\n",
      "[4]\teval-logloss:0.40988\n"
     ]
    },
    {
     "name": "stderr",
     "output_type": "stream",
     "text": [
      "/opt/conda/lib/python3.7/site-packages/xgboost/core.py:94: UserWarning: ntree_limit is deprecated, use `iteration_range` or model slicing instead.\n",
      "  UserWarning\n"
     ]
    },
    {
     "name": "stdout",
     "output_type": "stream",
     "text": [
      "[5]\teval-logloss:0.39404\n",
      "[6]\teval-logloss:0.37751\n",
      "[7]\teval-logloss:0.36774\n",
      "[8]\teval-logloss:0.35771\n",
      "[9]\teval-logloss:0.34998\n",
      "[0]\teval-logloss:0.58783\n",
      "[1]\teval-logloss:0.52215\n",
      "[2]\teval-logloss:0.47958\n",
      "[3]\teval-logloss:0.44993\n"
     ]
    },
    {
     "name": "stderr",
     "output_type": "stream",
     "text": [
      "/opt/conda/lib/python3.7/site-packages/xgboost/core.py:94: UserWarning: ntree_limit is deprecated, use `iteration_range` or model slicing instead.\n",
      "  UserWarning\n"
     ]
    },
    {
     "name": "stdout",
     "output_type": "stream",
     "text": [
      "[4]\teval-logloss:0.43211\n",
      "[5]\teval-logloss:0.41083\n",
      "[6]\teval-logloss:0.39737\n",
      "[7]\teval-logloss:0.38604\n",
      "[8]\teval-logloss:0.37899\n",
      "[9]\teval-logloss:0.37128\n",
      "[0]\teval-logloss:0.58430\n",
      "[1]\teval-logloss:0.52048\n",
      "[2]\teval-logloss:0.47869\n",
      "[3]\teval-logloss:0.45246\n",
      "[4]\teval-logloss:0.42866\n"
     ]
    },
    {
     "name": "stderr",
     "output_type": "stream",
     "text": [
      "/opt/conda/lib/python3.7/site-packages/xgboost/core.py:94: UserWarning: ntree_limit is deprecated, use `iteration_range` or model slicing instead.\n",
      "  UserWarning\n"
     ]
    },
    {
     "name": "stdout",
     "output_type": "stream",
     "text": [
      "[5]\teval-logloss:0.41292\n",
      "[6]\teval-logloss:0.40053\n",
      "[7]\teval-logloss:0.39451\n",
      "[8]\teval-logloss:0.38513\n",
      "[9]\teval-logloss:0.38130\n",
      "[0]\teval-logloss:0.57926\n",
      "[1]\teval-logloss:0.51401\n",
      "[2]\teval-logloss:0.46827\n",
      "[3]\teval-logloss:0.43157\n"
     ]
    },
    {
     "name": "stderr",
     "output_type": "stream",
     "text": [
      "/opt/conda/lib/python3.7/site-packages/xgboost/core.py:94: UserWarning: ntree_limit is deprecated, use `iteration_range` or model slicing instead.\n",
      "  UserWarning\n"
     ]
    },
    {
     "name": "stdout",
     "output_type": "stream",
     "text": [
      "[4]\teval-logloss:0.40552\n",
      "[5]\teval-logloss:0.38229\n",
      "[6]\teval-logloss:0.37180\n",
      "[7]\teval-logloss:0.36417\n",
      "[8]\teval-logloss:0.35500\n",
      "[9]\teval-logloss:0.34914\n"
     ]
    },
    {
     "name": "stderr",
     "output_type": "stream",
     "text": [
      "/opt/conda/lib/python3.7/site-packages/xgboost/core.py:94: UserWarning: ntree_limit is deprecated, use `iteration_range` or model slicing instead.\n",
      "  UserWarning\n",
      "[I 2023-07-25 12:47:59,508] Trial 88 finished with value: 0.8353000334585975 and parameters: {'booster': 'gbtree', 'lambda': 4.034330938431478, 'alpha': 1.92776207627147, 'max_depth': 7, 'eta': 0.3272113575394927, 'gamma': 0.21446496857925934, 'grow_policy': 'depthwise', 'min_child_weight': 7, 'scale_pos_weight': 1.484024210830789}. Best is trial 83 with value: 0.8383408040901171.\n"
     ]
    },
    {
     "name": "stdout",
     "output_type": "stream",
     "text": [
      "[0]\teval-logloss:0.59286\n",
      "[1]\teval-logloss:0.53117\n",
      "[2]\teval-logloss:0.49165\n",
      "[3]\teval-logloss:0.46446\n",
      "[4]\teval-logloss:0.43777\n",
      "[5]\teval-logloss:0.42419\n",
      "[6]\teval-logloss:0.40776\n",
      "[7]\teval-logloss:0.39543\n",
      "[8]\teval-logloss:0.38928\n",
      "[9]\teval-logloss:0.38322\n",
      "[0]\teval-logloss:0.58176\n",
      "[1]\teval-logloss:0.51912\n",
      "[2]\teval-logloss:0.47431\n",
      "[3]\teval-logloss:0.44517\n",
      "[4]\teval-logloss:0.41859\n"
     ]
    },
    {
     "name": "stderr",
     "output_type": "stream",
     "text": [
      "/opt/conda/lib/python3.7/site-packages/xgboost/core.py:94: UserWarning: ntree_limit is deprecated, use `iteration_range` or model slicing instead.\n",
      "  UserWarning\n"
     ]
    },
    {
     "name": "stdout",
     "output_type": "stream",
     "text": [
      "[5]\teval-logloss:0.39963\n",
      "[6]\teval-logloss:0.38558\n",
      "[7]\teval-logloss:0.37702\n",
      "[8]\teval-logloss:0.36634\n",
      "[9]\teval-logloss:0.35715\n",
      "[0]\teval-logloss:0.59225\n",
      "[1]\teval-logloss:0.52657\n",
      "[2]\teval-logloss:0.48854\n",
      "[3]\teval-logloss:0.46133\n",
      "[4]\teval-logloss:0.44291\n"
     ]
    },
    {
     "name": "stderr",
     "output_type": "stream",
     "text": [
      "/opt/conda/lib/python3.7/site-packages/xgboost/core.py:94: UserWarning: ntree_limit is deprecated, use `iteration_range` or model slicing instead.\n",
      "  UserWarning\n"
     ]
    },
    {
     "name": "stdout",
     "output_type": "stream",
     "text": [
      "[5]\teval-logloss:0.42274\n",
      "[6]\teval-logloss:0.40733\n",
      "[7]\teval-logloss:0.39391\n",
      "[8]\teval-logloss:0.38696\n",
      "[9]\teval-logloss:0.37750\n",
      "[0]\teval-logloss:0.58787\n",
      "[1]\teval-logloss:0.52433\n",
      "[2]\teval-logloss:0.48209\n",
      "[3]\teval-logloss:0.45294\n",
      "[4]\teval-logloss:0.42865\n"
     ]
    },
    {
     "name": "stderr",
     "output_type": "stream",
     "text": [
      "/opt/conda/lib/python3.7/site-packages/xgboost/core.py:94: UserWarning: ntree_limit is deprecated, use `iteration_range` or model slicing instead.\n",
      "  UserWarning\n"
     ]
    },
    {
     "name": "stdout",
     "output_type": "stream",
     "text": [
      "[5]\teval-logloss:0.41470\n",
      "[6]\teval-logloss:0.40279\n",
      "[7]\teval-logloss:0.39450\n",
      "[8]\teval-logloss:0.38664\n",
      "[9]\teval-logloss:0.38036\n",
      "[0]\teval-logloss:0.58251\n",
      "[1]\teval-logloss:0.51428\n",
      "[2]\teval-logloss:0.46916\n",
      "[3]\teval-logloss:0.43497\n",
      "[4]\teval-logloss:0.41078\n"
     ]
    },
    {
     "name": "stderr",
     "output_type": "stream",
     "text": [
      "/opt/conda/lib/python3.7/site-packages/xgboost/core.py:94: UserWarning: ntree_limit is deprecated, use `iteration_range` or model slicing instead.\n",
      "  UserWarning\n"
     ]
    },
    {
     "name": "stdout",
     "output_type": "stream",
     "text": [
      "[5]\teval-logloss:0.38737\n",
      "[6]\teval-logloss:0.37634\n",
      "[7]\teval-logloss:0.36556\n",
      "[8]\teval-logloss:0.35930\n",
      "[9]\teval-logloss:0.35457\n"
     ]
    },
    {
     "name": "stderr",
     "output_type": "stream",
     "text": [
      "/opt/conda/lib/python3.7/site-packages/xgboost/core.py:94: UserWarning: ntree_limit is deprecated, use `iteration_range` or model slicing instead.\n",
      "  UserWarning\n",
      "[I 2023-07-25 12:48:01,333] Trial 89 finished with value: 0.8310134346572976 and parameters: {'booster': 'gbtree', 'lambda': 3.9476919165600397, 'alpha': 2.5212171656103406, 'max_depth': 7, 'eta': 0.31877432573876807, 'gamma': 0.14307732048836053, 'grow_policy': 'depthwise', 'min_child_weight': 7, 'scale_pos_weight': 1.5056965047475845}. Best is trial 83 with value: 0.8383408040901171.\n"
     ]
    },
    {
     "name": "stdout",
     "output_type": "stream",
     "text": [
      "[0]\teval-logloss:0.61335\n",
      "[1]\teval-logloss:0.56067\n",
      "[2]\teval-logloss:0.52112\n",
      "[3]\teval-logloss:0.49436\n",
      "[4]\teval-logloss:0.47562\n",
      "[5]\teval-logloss:0.45466\n",
      "[6]\teval-logloss:0.43891\n",
      "[7]\teval-logloss:0.43154\n",
      "[8]\teval-logloss:0.41635\n",
      "[9]\teval-logloss:0.40887\n",
      "[0]\teval-logloss:0.60606\n",
      "[1]\teval-logloss:0.55076\n",
      "[2]\teval-logloss:0.51253\n",
      "[3]\teval-logloss:0.48045\n",
      "[4]\teval-logloss:0.45436\n"
     ]
    },
    {
     "name": "stderr",
     "output_type": "stream",
     "text": [
      "/opt/conda/lib/python3.7/site-packages/xgboost/core.py:94: UserWarning: ntree_limit is deprecated, use `iteration_range` or model slicing instead.\n",
      "  UserWarning\n"
     ]
    },
    {
     "name": "stdout",
     "output_type": "stream",
     "text": [
      "[5]\teval-logloss:0.43756\n",
      "[6]\teval-logloss:0.41932\n",
      "[7]\teval-logloss:0.40543\n",
      "[8]\teval-logloss:0.39282\n",
      "[9]\teval-logloss:0.38517\n",
      "[0]\teval-logloss:0.61073\n",
      "[1]\teval-logloss:0.55617\n",
      "[2]\teval-logloss:0.52294\n",
      "[3]\teval-logloss:0.49153\n",
      "[4]\teval-logloss:0.46707\n"
     ]
    },
    {
     "name": "stderr",
     "output_type": "stream",
     "text": [
      "/opt/conda/lib/python3.7/site-packages/xgboost/core.py:94: UserWarning: ntree_limit is deprecated, use `iteration_range` or model slicing instead.\n",
      "  UserWarning\n"
     ]
    },
    {
     "name": "stdout",
     "output_type": "stream",
     "text": [
      "[5]\teval-logloss:0.45056\n",
      "[6]\teval-logloss:0.43219\n",
      "[7]\teval-logloss:0.41802\n",
      "[8]\teval-logloss:0.40814\n",
      "[9]\teval-logloss:0.39959\n",
      "[0]\teval-logloss:0.61192\n",
      "[1]\teval-logloss:0.55542\n",
      "[2]\teval-logloss:0.51584\n",
      "[3]\teval-logloss:0.48641\n",
      "[4]\teval-logloss:0.45977\n",
      "[5]\teval-logloss:0.44453\n"
     ]
    },
    {
     "name": "stderr",
     "output_type": "stream",
     "text": [
      "/opt/conda/lib/python3.7/site-packages/xgboost/core.py:94: UserWarning: ntree_limit is deprecated, use `iteration_range` or model slicing instead.\n",
      "  UserWarning\n"
     ]
    },
    {
     "name": "stdout",
     "output_type": "stream",
     "text": [
      "[6]\teval-logloss:0.43262\n",
      "[7]\teval-logloss:0.42126\n",
      "[8]\teval-logloss:0.41253\n",
      "[9]\teval-logloss:0.40715\n",
      "[0]\teval-logloss:0.60492\n",
      "[1]\teval-logloss:0.54853\n",
      "[2]\teval-logloss:0.50622\n",
      "[3]\teval-logloss:0.47402\n",
      "[4]\teval-logloss:0.44618\n"
     ]
    },
    {
     "name": "stderr",
     "output_type": "stream",
     "text": [
      "/opt/conda/lib/python3.7/site-packages/xgboost/core.py:94: UserWarning: ntree_limit is deprecated, use `iteration_range` or model slicing instead.\n",
      "  UserWarning\n"
     ]
    },
    {
     "name": "stdout",
     "output_type": "stream",
     "text": [
      "[5]\teval-logloss:0.42632\n",
      "[6]\teval-logloss:0.40912\n",
      "[7]\teval-logloss:0.40146\n",
      "[8]\teval-logloss:0.38895\n",
      "[9]\teval-logloss:0.38526\n"
     ]
    },
    {
     "name": "stderr",
     "output_type": "stream",
     "text": [
      "/opt/conda/lib/python3.7/site-packages/xgboost/core.py:94: UserWarning: ntree_limit is deprecated, use `iteration_range` or model slicing instead.\n",
      "  UserWarning\n",
      "[I 2023-07-25 12:48:02,960] Trial 90 finished with value: 0.8291307798234346 and parameters: {'booster': 'gbtree', 'lambda': 4.696154220447055, 'alpha': 3.2764396212384144, 'max_depth': 6, 'eta': 0.2593042742903562, 'gamma': 0.2112424729590667, 'grow_policy': 'depthwise', 'min_child_weight': 6, 'scale_pos_weight': 1.7253053809262657}. Best is trial 83 with value: 0.8383408040901171.\n"
     ]
    },
    {
     "name": "stdout",
     "output_type": "stream",
     "text": [
      "[0]\teval-logloss:0.55031\n",
      "[1]\teval-logloss:0.49552\n",
      "[2]\teval-logloss:0.46245\n",
      "[3]\teval-logloss:0.42677\n",
      "[4]\teval-logloss:0.40726\n",
      "[5]\teval-logloss:0.39514\n",
      "[6]\teval-logloss:0.38992\n",
      "[7]\teval-logloss:0.38044\n",
      "[8]\teval-logloss:0.37413\n",
      "[9]\teval-logloss:0.37045\n",
      "[0]\teval-logloss:0.54025\n",
      "[1]\teval-logloss:0.46318\n",
      "[2]\teval-logloss:0.41170\n",
      "[3]\teval-logloss:0.39107\n",
      "[4]\teval-logloss:0.37924\n"
     ]
    },
    {
     "name": "stderr",
     "output_type": "stream",
     "text": [
      "/opt/conda/lib/python3.7/site-packages/xgboost/core.py:94: UserWarning: ntree_limit is deprecated, use `iteration_range` or model slicing instead.\n",
      "  UserWarning\n"
     ]
    },
    {
     "name": "stdout",
     "output_type": "stream",
     "text": [
      "[5]\teval-logloss:0.36238\n",
      "[6]\teval-logloss:0.34873\n",
      "[7]\teval-logloss:0.34257\n",
      "[8]\teval-logloss:0.33874\n",
      "[9]\teval-logloss:0.33674\n",
      "[0]\teval-logloss:0.55098\n",
      "[1]\teval-logloss:0.48080\n",
      "[2]\teval-logloss:0.45405\n",
      "[3]\teval-logloss:0.42324\n",
      "[4]\teval-logloss:0.40341\n"
     ]
    },
    {
     "name": "stderr",
     "output_type": "stream",
     "text": [
      "/opt/conda/lib/python3.7/site-packages/xgboost/core.py:94: UserWarning: ntree_limit is deprecated, use `iteration_range` or model slicing instead.\n",
      "  UserWarning\n"
     ]
    },
    {
     "name": "stdout",
     "output_type": "stream",
     "text": [
      "[5]\teval-logloss:0.38894\n",
      "[6]\teval-logloss:0.37838\n",
      "[7]\teval-logloss:0.37258\n",
      "[8]\teval-logloss:0.36885\n",
      "[9]\teval-logloss:0.36618\n",
      "[0]\teval-logloss:0.54085\n",
      "[1]\teval-logloss:0.47333\n",
      "[2]\teval-logloss:0.42828\n",
      "[3]\teval-logloss:0.40481\n",
      "[4]\teval-logloss:0.38112\n"
     ]
    },
    {
     "name": "stderr",
     "output_type": "stream",
     "text": [
      "/opt/conda/lib/python3.7/site-packages/xgboost/core.py:94: UserWarning: ntree_limit is deprecated, use `iteration_range` or model slicing instead.\n",
      "  UserWarning\n"
     ]
    },
    {
     "name": "stdout",
     "output_type": "stream",
     "text": [
      "[5]\teval-logloss:0.37218\n",
      "[6]\teval-logloss:0.36634\n",
      "[7]\teval-logloss:0.36064\n",
      "[8]\teval-logloss:0.35676\n",
      "[9]\teval-logloss:0.35323\n",
      "[0]\teval-logloss:0.54487\n",
      "[1]\teval-logloss:0.46604\n",
      "[2]\teval-logloss:0.41714\n",
      "[3]\teval-logloss:0.39067\n",
      "[4]\teval-logloss:0.37646\n"
     ]
    },
    {
     "name": "stderr",
     "output_type": "stream",
     "text": [
      "/opt/conda/lib/python3.7/site-packages/xgboost/core.py:94: UserWarning: ntree_limit is deprecated, use `iteration_range` or model slicing instead.\n",
      "  UserWarning\n"
     ]
    },
    {
     "name": "stdout",
     "output_type": "stream",
     "text": [
      "[5]\teval-logloss:0.35913\n",
      "[6]\teval-logloss:0.35491\n",
      "[7]\teval-logloss:0.34882\n",
      "[8]\teval-logloss:0.34290\n",
      "[9]\teval-logloss:0.34063\n"
     ]
    },
    {
     "name": "stderr",
     "output_type": "stream",
     "text": [
      "/opt/conda/lib/python3.7/site-packages/xgboost/core.py:94: UserWarning: ntree_limit is deprecated, use `iteration_range` or model slicing instead.\n",
      "  UserWarning\n",
      "[I 2023-07-25 12:48:04,766] Trial 91 finished with value: 0.8363301053212574 and parameters: {'booster': 'gbtree', 'lambda': 5.552297009123723, 'alpha': 1.7552867582365455, 'max_depth': 7, 'eta': 0.4671631727138414, 'gamma': 0.25684775090748796, 'grow_policy': 'depthwise', 'min_child_weight': 7, 'scale_pos_weight': 1.0066447241972982}. Best is trial 83 with value: 0.8383408040901171.\n"
     ]
    },
    {
     "name": "stdout",
     "output_type": "stream",
     "text": [
      "[0]\teval-logloss:0.57220\n",
      "[1]\teval-logloss:0.50832\n",
      "[2]\teval-logloss:0.47004\n",
      "[3]\teval-logloss:0.43835\n",
      "[4]\teval-logloss:0.41999\n",
      "[5]\teval-logloss:0.40699\n",
      "[6]\teval-logloss:0.39464\n",
      "[7]\teval-logloss:0.38396\n",
      "[8]\teval-logloss:0.37460\n",
      "[9]\teval-logloss:0.36998\n",
      "[0]\teval-logloss:0.56007\n",
      "[1]\teval-logloss:0.49257\n",
      "[2]\teval-logloss:0.45584\n",
      "[3]\teval-logloss:0.41881\n",
      "[4]\teval-logloss:0.39640\n"
     ]
    },
    {
     "name": "stderr",
     "output_type": "stream",
     "text": [
      "/opt/conda/lib/python3.7/site-packages/xgboost/core.py:94: UserWarning: ntree_limit is deprecated, use `iteration_range` or model slicing instead.\n",
      "  UserWarning\n"
     ]
    },
    {
     "name": "stdout",
     "output_type": "stream",
     "text": [
      "[5]\teval-logloss:0.38394\n",
      "[6]\teval-logloss:0.37124\n",
      "[7]\teval-logloss:0.36516\n",
      "[8]\teval-logloss:0.35729\n",
      "[9]\teval-logloss:0.34982\n",
      "[0]\teval-logloss:0.57294\n",
      "[1]\teval-logloss:0.50537\n",
      "[2]\teval-logloss:0.46405\n",
      "[3]\teval-logloss:0.43005\n",
      "[4]\teval-logloss:0.41680\n"
     ]
    },
    {
     "name": "stderr",
     "output_type": "stream",
     "text": [
      "/opt/conda/lib/python3.7/site-packages/xgboost/core.py:94: UserWarning: ntree_limit is deprecated, use `iteration_range` or model slicing instead.\n",
      "  UserWarning\n"
     ]
    },
    {
     "name": "stdout",
     "output_type": "stream",
     "text": [
      "[5]\teval-logloss:0.40065\n",
      "[6]\teval-logloss:0.38944\n",
      "[7]\teval-logloss:0.38075\n",
      "[8]\teval-logloss:0.37594\n",
      "[9]\teval-logloss:0.37399\n",
      "[0]\teval-logloss:0.56350\n",
      "[1]\teval-logloss:0.49686\n",
      "[2]\teval-logloss:0.45740\n",
      "[3]\teval-logloss:0.42756\n",
      "[4]\teval-logloss:0.41175\n"
     ]
    },
    {
     "name": "stderr",
     "output_type": "stream",
     "text": [
      "/opt/conda/lib/python3.7/site-packages/xgboost/core.py:94: UserWarning: ntree_limit is deprecated, use `iteration_range` or model slicing instead.\n",
      "  UserWarning\n"
     ]
    },
    {
     "name": "stdout",
     "output_type": "stream",
     "text": [
      "[5]\teval-logloss:0.39811\n",
      "[6]\teval-logloss:0.38369\n",
      "[7]\teval-logloss:0.37376\n",
      "[8]\teval-logloss:0.36470\n",
      "[9]\teval-logloss:0.36125\n",
      "[0]\teval-logloss:0.56080\n",
      "[1]\teval-logloss:0.48395\n",
      "[2]\teval-logloss:0.43618\n",
      "[3]\teval-logloss:0.40134\n",
      "[4]\teval-logloss:0.38615\n"
     ]
    },
    {
     "name": "stderr",
     "output_type": "stream",
     "text": [
      "/opt/conda/lib/python3.7/site-packages/xgboost/core.py:94: UserWarning: ntree_limit is deprecated, use `iteration_range` or model slicing instead.\n",
      "  UserWarning\n"
     ]
    },
    {
     "name": "stdout",
     "output_type": "stream",
     "text": [
      "[5]\teval-logloss:0.37199\n",
      "[6]\teval-logloss:0.36283\n",
      "[7]\teval-logloss:0.35703\n",
      "[8]\teval-logloss:0.34903\n",
      "[9]\teval-logloss:0.34614\n"
     ]
    },
    {
     "name": "stderr",
     "output_type": "stream",
     "text": [
      "/opt/conda/lib/python3.7/site-packages/xgboost/core.py:94: UserWarning: ntree_limit is deprecated, use `iteration_range` or model slicing instead.\n",
      "  UserWarning\n",
      "[I 2023-07-25 12:48:06,563] Trial 92 finished with value: 0.8311810148176884 and parameters: {'booster': 'gbtree', 'lambda': 8.380563560535272, 'alpha': 0.9529529452130947, 'max_depth': 7, 'eta': 0.4071116185715251, 'gamma': 0.281408211953047, 'grow_policy': 'depthwise', 'min_child_weight': 7, 'scale_pos_weight': 1.4327267689459746}. Best is trial 83 with value: 0.8383408040901171.\n"
     ]
    },
    {
     "name": "stdout",
     "output_type": "stream",
     "text": [
      "[0]\teval-logloss:0.55057\n",
      "[1]\teval-logloss:0.49428\n",
      "[2]\teval-logloss:0.46003\n",
      "[3]\teval-logloss:0.42435\n",
      "[4]\teval-logloss:0.40495\n",
      "[5]\teval-logloss:0.39040\n",
      "[6]\teval-logloss:0.38208\n",
      "[7]\teval-logloss:0.37569\n",
      "[8]\teval-logloss:0.37317\n",
      "[9]\teval-logloss:0.37032\n",
      "[0]\teval-logloss:0.54020\n",
      "[1]\teval-logloss:0.46394\n",
      "[2]\teval-logloss:0.41189\n",
      "[3]\teval-logloss:0.38900\n",
      "[4]\teval-logloss:0.37824\n"
     ]
    },
    {
     "name": "stderr",
     "output_type": "stream",
     "text": [
      "/opt/conda/lib/python3.7/site-packages/xgboost/core.py:94: UserWarning: ntree_limit is deprecated, use `iteration_range` or model slicing instead.\n",
      "  UserWarning\n"
     ]
    },
    {
     "name": "stdout",
     "output_type": "stream",
     "text": [
      "[5]\teval-logloss:0.36537\n",
      "[6]\teval-logloss:0.35191\n",
      "[7]\teval-logloss:0.34361\n",
      "[8]\teval-logloss:0.34108\n",
      "[9]\teval-logloss:0.33911\n",
      "[0]\teval-logloss:0.55094\n",
      "[1]\teval-logloss:0.48081\n",
      "[2]\teval-logloss:0.44927\n",
      "[3]\teval-logloss:0.42015\n",
      "[4]\teval-logloss:0.40221\n"
     ]
    },
    {
     "name": "stderr",
     "output_type": "stream",
     "text": [
      "/opt/conda/lib/python3.7/site-packages/xgboost/core.py:94: UserWarning: ntree_limit is deprecated, use `iteration_range` or model slicing instead.\n",
      "  UserWarning\n"
     ]
    },
    {
     "name": "stdout",
     "output_type": "stream",
     "text": [
      "[5]\teval-logloss:0.39076\n",
      "[6]\teval-logloss:0.38082\n",
      "[7]\teval-logloss:0.37390\n",
      "[8]\teval-logloss:0.37307\n",
      "[9]\teval-logloss:0.36940\n",
      "[0]\teval-logloss:0.54079\n",
      "[1]\teval-logloss:0.46894\n",
      "[2]\teval-logloss:0.42592\n",
      "[3]\teval-logloss:0.39960\n",
      "[4]\teval-logloss:0.38617\n"
     ]
    },
    {
     "name": "stderr",
     "output_type": "stream",
     "text": [
      "/opt/conda/lib/python3.7/site-packages/xgboost/core.py:94: UserWarning: ntree_limit is deprecated, use `iteration_range` or model slicing instead.\n",
      "  UserWarning\n"
     ]
    },
    {
     "name": "stdout",
     "output_type": "stream",
     "text": [
      "[5]\teval-logloss:0.37563\n",
      "[6]\teval-logloss:0.36940\n",
      "[7]\teval-logloss:0.36499\n",
      "[8]\teval-logloss:0.35897\n",
      "[9]\teval-logloss:0.35771\n",
      "[0]\teval-logloss:0.54479\n",
      "[1]\teval-logloss:0.46609\n",
      "[2]\teval-logloss:0.41681\n",
      "[3]\teval-logloss:0.38987\n",
      "[4]\teval-logloss:0.37566\n"
     ]
    },
    {
     "name": "stderr",
     "output_type": "stream",
     "text": [
      "/opt/conda/lib/python3.7/site-packages/xgboost/core.py:94: UserWarning: ntree_limit is deprecated, use `iteration_range` or model slicing instead.\n",
      "  UserWarning\n"
     ]
    },
    {
     "name": "stdout",
     "output_type": "stream",
     "text": [
      "[5]\teval-logloss:0.35963\n",
      "[6]\teval-logloss:0.35136\n",
      "[7]\teval-logloss:0.34746\n",
      "[8]\teval-logloss:0.34325\n",
      "[9]\teval-logloss:0.33797\n"
     ]
    },
    {
     "name": "stderr",
     "output_type": "stream",
     "text": [
      "/opt/conda/lib/python3.7/site-packages/xgboost/core.py:94: UserWarning: ntree_limit is deprecated, use `iteration_range` or model slicing instead.\n",
      "  UserWarning\n",
      "[I 2023-07-25 12:48:08,356] Trial 93 finished with value: 0.8342338069943814 and parameters: {'booster': 'gbtree', 'lambda': 5.5238536490232795, 'alpha': 2.0098417564333193, 'max_depth': 7, 'eta': 0.46840134496972446, 'gamma': 0.16141486600178623, 'grow_policy': 'depthwise', 'min_child_weight': 7, 'scale_pos_weight': 1.0082716809937913}. Best is trial 83 with value: 0.8383408040901171.\n"
     ]
    },
    {
     "name": "stdout",
     "output_type": "stream",
     "text": [
      "[0]\teval-logloss:0.58435\n",
      "[1]\teval-logloss:0.52475\n",
      "[2]\teval-logloss:0.48522\n",
      "[3]\teval-logloss:0.45486\n",
      "[4]\teval-logloss:0.42822\n",
      "[5]\teval-logloss:0.41404\n",
      "[6]\teval-logloss:0.40224\n",
      "[7]\teval-logloss:0.39030\n",
      "[8]\teval-logloss:0.38266\n",
      "[9]\teval-logloss:0.37379\n",
      "[0]\teval-logloss:0.57652\n",
      "[1]\teval-logloss:0.50871\n",
      "[2]\teval-logloss:0.46443\n",
      "[3]\teval-logloss:0.43275\n",
      "[4]\teval-logloss:0.40294\n"
     ]
    },
    {
     "name": "stderr",
     "output_type": "stream",
     "text": [
      "/opt/conda/lib/python3.7/site-packages/xgboost/core.py:94: UserWarning: ntree_limit is deprecated, use `iteration_range` or model slicing instead.\n",
      "  UserWarning\n"
     ]
    },
    {
     "name": "stdout",
     "output_type": "stream",
     "text": [
      "[5]\teval-logloss:0.38454\n",
      "[6]\teval-logloss:0.37109\n",
      "[7]\teval-logloss:0.35943\n",
      "[8]\teval-logloss:0.35385\n",
      "[9]\teval-logloss:0.34821\n",
      "[0]\teval-logloss:0.58530\n",
      "[1]\teval-logloss:0.51719\n",
      "[2]\teval-logloss:0.47327\n",
      "[3]\teval-logloss:0.44187\n",
      "[4]\teval-logloss:0.41939\n"
     ]
    },
    {
     "name": "stderr",
     "output_type": "stream",
     "text": [
      "/opt/conda/lib/python3.7/site-packages/xgboost/core.py:94: UserWarning: ntree_limit is deprecated, use `iteration_range` or model slicing instead.\n",
      "  UserWarning\n"
     ]
    },
    {
     "name": "stdout",
     "output_type": "stream",
     "text": [
      "[5]\teval-logloss:0.40883\n",
      "[6]\teval-logloss:0.39624\n",
      "[7]\teval-logloss:0.38927\n",
      "[8]\teval-logloss:0.38087\n",
      "[9]\teval-logloss:0.37341\n",
      "[0]\teval-logloss:0.57944\n",
      "[1]\teval-logloss:0.51423\n",
      "[2]\teval-logloss:0.47399\n",
      "[3]\teval-logloss:0.44200\n",
      "[4]\teval-logloss:0.41632\n"
     ]
    },
    {
     "name": "stderr",
     "output_type": "stream",
     "text": [
      "/opt/conda/lib/python3.7/site-packages/xgboost/core.py:94: UserWarning: ntree_limit is deprecated, use `iteration_range` or model slicing instead.\n",
      "  UserWarning\n"
     ]
    },
    {
     "name": "stdout",
     "output_type": "stream",
     "text": [
      "[5]\teval-logloss:0.40025\n",
      "[6]\teval-logloss:0.39034\n",
      "[7]\teval-logloss:0.38387\n",
      "[8]\teval-logloss:0.37339\n",
      "[9]\teval-logloss:0.36554\n",
      "[0]\teval-logloss:0.57499\n",
      "[1]\teval-logloss:0.50421\n",
      "[2]\teval-logloss:0.45907\n",
      "[3]\teval-logloss:0.42324\n",
      "[4]\teval-logloss:0.40308\n"
     ]
    },
    {
     "name": "stderr",
     "output_type": "stream",
     "text": [
      "/opt/conda/lib/python3.7/site-packages/xgboost/core.py:94: UserWarning: ntree_limit is deprecated, use `iteration_range` or model slicing instead.\n",
      "  UserWarning\n"
     ]
    },
    {
     "name": "stdout",
     "output_type": "stream",
     "text": [
      "[5]\teval-logloss:0.37887\n",
      "[6]\teval-logloss:0.36804\n",
      "[7]\teval-logloss:0.35614\n",
      "[8]\teval-logloss:0.34900\n",
      "[9]\teval-logloss:0.34254\n"
     ]
    },
    {
     "name": "stderr",
     "output_type": "stream",
     "text": [
      "/opt/conda/lib/python3.7/site-packages/xgboost/core.py:94: UserWarning: ntree_limit is deprecated, use `iteration_range` or model slicing instead.\n",
      "  UserWarning\n",
      "[I 2023-07-25 12:48:10,171] Trial 94 finished with value: 0.8352306779628934 and parameters: {'booster': 'gbtree', 'lambda': 3.682182780409565, 'alpha': 1.514652145168275, 'max_depth': 7, 'eta': 0.3253140224176121, 'gamma': 0.2158395164561985, 'grow_policy': 'depthwise', 'min_child_weight': 6, 'scale_pos_weight': 1.2052419941412618}. Best is trial 83 with value: 0.8383408040901171.\n"
     ]
    },
    {
     "name": "stdout",
     "output_type": "stream",
     "text": [
      "[0]\teval-logloss:0.58479\n",
      "[1]\teval-logloss:0.52534\n",
      "[2]\teval-logloss:0.48251\n",
      "[3]\teval-logloss:0.45752\n",
      "[4]\teval-logloss:0.44189\n",
      "[5]\teval-logloss:0.42402\n",
      "[6]\teval-logloss:0.40973\n",
      "[7]\teval-logloss:0.39773\n",
      "[8]\teval-logloss:0.38933\n",
      "[9]\teval-logloss:0.38477\n",
      "[0]\teval-logloss:0.57370\n",
      "[1]\teval-logloss:0.50749\n",
      "[2]\teval-logloss:0.46671\n",
      "[3]\teval-logloss:0.43037\n",
      "[4]\teval-logloss:0.40841\n"
     ]
    },
    {
     "name": "stderr",
     "output_type": "stream",
     "text": [
      "/opt/conda/lib/python3.7/site-packages/xgboost/core.py:94: UserWarning: ntree_limit is deprecated, use `iteration_range` or model slicing instead.\n",
      "  UserWarning\n"
     ]
    },
    {
     "name": "stdout",
     "output_type": "stream",
     "text": [
      "[5]\teval-logloss:0.39012\n",
      "[6]\teval-logloss:0.38376\n",
      "[7]\teval-logloss:0.37201\n",
      "[8]\teval-logloss:0.36366\n",
      "[9]\teval-logloss:0.35678\n",
      "[0]\teval-logloss:0.58145\n",
      "[1]\teval-logloss:0.51562\n",
      "[2]\teval-logloss:0.47652\n",
      "[3]\teval-logloss:0.44355\n",
      "[4]\teval-logloss:0.42469\n"
     ]
    },
    {
     "name": "stderr",
     "output_type": "stream",
     "text": [
      "/opt/conda/lib/python3.7/site-packages/xgboost/core.py:94: UserWarning: ntree_limit is deprecated, use `iteration_range` or model slicing instead.\n",
      "  UserWarning\n"
     ]
    },
    {
     "name": "stdout",
     "output_type": "stream",
     "text": [
      "[5]\teval-logloss:0.40962\n",
      "[6]\teval-logloss:0.39602\n",
      "[7]\teval-logloss:0.38599\n",
      "[8]\teval-logloss:0.38104\n",
      "[9]\teval-logloss:0.37744\n",
      "[0]\teval-logloss:0.58152\n",
      "[1]\teval-logloss:0.51466\n",
      "[2]\teval-logloss:0.47393\n",
      "[3]\teval-logloss:0.44222\n",
      "[4]\teval-logloss:0.42196\n",
      "[5]\teval-logloss:0.41234\n"
     ]
    },
    {
     "name": "stderr",
     "output_type": "stream",
     "text": [
      "/opt/conda/lib/python3.7/site-packages/xgboost/core.py:94: UserWarning: ntree_limit is deprecated, use `iteration_range` or model slicing instead.\n",
      "  UserWarning\n"
     ]
    },
    {
     "name": "stdout",
     "output_type": "stream",
     "text": [
      "[6]\teval-logloss:0.39727\n",
      "[7]\teval-logloss:0.39087\n",
      "[8]\teval-logloss:0.38569\n",
      "[9]\teval-logloss:0.37988\n",
      "[0]\teval-logloss:0.57587\n",
      "[1]\teval-logloss:0.50410\n",
      "[2]\teval-logloss:0.45646\n",
      "[3]\teval-logloss:0.41959\n",
      "[4]\teval-logloss:0.39380\n",
      "[5]\teval-logloss:0.38470\n"
     ]
    },
    {
     "name": "stderr",
     "output_type": "stream",
     "text": [
      "/opt/conda/lib/python3.7/site-packages/xgboost/core.py:94: UserWarning: ntree_limit is deprecated, use `iteration_range` or model slicing instead.\n",
      "  UserWarning\n"
     ]
    },
    {
     "name": "stdout",
     "output_type": "stream",
     "text": [
      "[6]\teval-logloss:0.36841\n",
      "[7]\teval-logloss:0.36024\n",
      "[8]\teval-logloss:0.34950\n",
      "[9]\teval-logloss:0.34607\n"
     ]
    },
    {
     "name": "stderr",
     "output_type": "stream",
     "text": [
      "/opt/conda/lib/python3.7/site-packages/xgboost/core.py:94: UserWarning: ntree_limit is deprecated, use `iteration_range` or model slicing instead.\n",
      "  UserWarning\n",
      "[I 2023-07-25 12:48:11,788] Trial 95 finished with value: 0.8301889487415852 and parameters: {'booster': 'gbtree', 'lambda': 6.997366043865078, 'alpha': 1.2042925650383502, 'max_depth': 6, 'eta': 0.36309360700793664, 'gamma': 0.25479061573814976, 'grow_policy': 'depthwise', 'min_child_weight': 7, 'scale_pos_weight': 1.5085205673539381}. Best is trial 83 with value: 0.8383408040901171.\n"
     ]
    },
    {
     "name": "stdout",
     "output_type": "stream",
     "text": [
      "[0]\teval-logloss:0.55575\n",
      "[1]\teval-logloss:0.49833\n",
      "[2]\teval-logloss:0.45658\n",
      "[3]\teval-logloss:0.42350\n",
      "[4]\teval-logloss:0.40210\n",
      "[5]\teval-logloss:0.38438\n",
      "[6]\teval-logloss:0.37624\n",
      "[7]\teval-logloss:0.37167\n",
      "[8]\teval-logloss:0.36658\n",
      "[9]\teval-logloss:0.36429\n",
      "[0]\teval-logloss:0.54324\n",
      "[1]\teval-logloss:0.47144\n",
      "[2]\teval-logloss:0.42573\n",
      "[3]\teval-logloss:0.41465\n",
      "[4]\teval-logloss:0.39094\n",
      "[5]\teval-logloss:0.38081\n",
      "[6]\teval-logloss:0.37037\n"
     ]
    },
    {
     "name": "stderr",
     "output_type": "stream",
     "text": [
      "/opt/conda/lib/python3.7/site-packages/xgboost/core.py:94: UserWarning: ntree_limit is deprecated, use `iteration_range` or model slicing instead.\n",
      "  UserWarning\n"
     ]
    },
    {
     "name": "stdout",
     "output_type": "stream",
     "text": [
      "[7]\teval-logloss:0.36182\n",
      "[8]\teval-logloss:0.35974\n",
      "[9]\teval-logloss:0.35292\n",
      "[0]\teval-logloss:0.55598\n",
      "[1]\teval-logloss:0.49283\n",
      "[2]\teval-logloss:0.45345\n",
      "[3]\teval-logloss:0.41734\n",
      "[4]\teval-logloss:0.39963\n",
      "[5]\teval-logloss:0.38298\n",
      "[6]\teval-logloss:0.37242\n"
     ]
    },
    {
     "name": "stderr",
     "output_type": "stream",
     "text": [
      "/opt/conda/lib/python3.7/site-packages/xgboost/core.py:94: UserWarning: ntree_limit is deprecated, use `iteration_range` or model slicing instead.\n",
      "  UserWarning\n"
     ]
    },
    {
     "name": "stdout",
     "output_type": "stream",
     "text": [
      "[7]\teval-logloss:0.36699\n",
      "[8]\teval-logloss:0.36016\n",
      "[9]\teval-logloss:0.36107\n",
      "[0]\teval-logloss:0.54302\n",
      "[1]\teval-logloss:0.46309\n",
      "[2]\teval-logloss:0.42641\n",
      "[3]\teval-logloss:0.40954\n",
      "[4]\teval-logloss:0.39138\n",
      "[5]\teval-logloss:0.38241\n",
      "[6]\teval-logloss:0.37336\n"
     ]
    },
    {
     "name": "stderr",
     "output_type": "stream",
     "text": [
      "/opt/conda/lib/python3.7/site-packages/xgboost/core.py:94: UserWarning: ntree_limit is deprecated, use `iteration_range` or model slicing instead.\n",
      "  UserWarning\n"
     ]
    },
    {
     "name": "stdout",
     "output_type": "stream",
     "text": [
      "[7]\teval-logloss:0.36683\n",
      "[8]\teval-logloss:0.36451\n",
      "[9]\teval-logloss:0.36257\n",
      "[0]\teval-logloss:0.54360\n",
      "[1]\teval-logloss:0.46437\n",
      "[2]\teval-logloss:0.42477\n",
      "[3]\teval-logloss:0.39324\n",
      "[4]\teval-logloss:0.37716\n",
      "[5]\teval-logloss:0.36536\n",
      "[6]\teval-logloss:0.35531\n"
     ]
    },
    {
     "name": "stderr",
     "output_type": "stream",
     "text": [
      "/opt/conda/lib/python3.7/site-packages/xgboost/core.py:94: UserWarning: ntree_limit is deprecated, use `iteration_range` or model slicing instead.\n",
      "  UserWarning\n"
     ]
    },
    {
     "name": "stdout",
     "output_type": "stream",
     "text": [
      "[7]\teval-logloss:0.34599\n",
      "[8]\teval-logloss:0.34575\n",
      "[9]\teval-logloss:0.34407\n"
     ]
    },
    {
     "name": "stderr",
     "output_type": "stream",
     "text": [
      "/opt/conda/lib/python3.7/site-packages/xgboost/core.py:94: UserWarning: ntree_limit is deprecated, use `iteration_range` or model slicing instead.\n",
      "  UserWarning\n",
      "[I 2023-07-25 12:48:13,183] Trial 96 finished with value: 0.8322490397316777 and parameters: {'booster': 'gbtree', 'lambda': 4.475650524085297, 'alpha': 2.616630265980309, 'max_depth': 5, 'eta': 0.48985608279260756, 'gamma': 0.35279907316036646, 'grow_policy': 'depthwise', 'min_child_weight': 6, 'scale_pos_weight': 1.20704666176362}. Best is trial 83 with value: 0.8383408040901171.\n"
     ]
    },
    {
     "name": "stdout",
     "output_type": "stream",
     "text": [
      "[0]\teval-logloss:0.57201\n",
      "[1]\teval-logloss:0.50333\n",
      "[2]\teval-logloss:0.47149\n",
      "[3]\teval-logloss:0.43814\n",
      "[4]\teval-logloss:0.41497\n",
      "[5]\teval-logloss:0.40453\n",
      "[6]\teval-logloss:0.39721\n",
      "[7]\teval-logloss:0.38859\n",
      "[8]\teval-logloss:0.38624\n",
      "[9]\teval-logloss:0.38444\n",
      "[0]\teval-logloss:0.56035\n",
      "[1]\teval-logloss:0.49112\n",
      "[2]\teval-logloss:0.45109\n",
      "[3]\teval-logloss:0.41683\n",
      "[4]\teval-logloss:0.40693\n"
     ]
    },
    {
     "name": "stderr",
     "output_type": "stream",
     "text": [
      "/opt/conda/lib/python3.7/site-packages/xgboost/core.py:94: UserWarning: ntree_limit is deprecated, use `iteration_range` or model slicing instead.\n",
      "  UserWarning\n"
     ]
    },
    {
     "name": "stdout",
     "output_type": "stream",
     "text": [
      "[5]\teval-logloss:0.38746\n",
      "[6]\teval-logloss:0.37570\n",
      "[7]\teval-logloss:0.36768\n",
      "[8]\teval-logloss:0.36189\n",
      "[9]\teval-logloss:0.35459\n",
      "[0]\teval-logloss:0.56970\n",
      "[1]\teval-logloss:0.50522\n",
      "[2]\teval-logloss:0.46540\n",
      "[3]\teval-logloss:0.43693\n"
     ]
    },
    {
     "name": "stderr",
     "output_type": "stream",
     "text": [
      "/opt/conda/lib/python3.7/site-packages/xgboost/core.py:94: UserWarning: ntree_limit is deprecated, use `iteration_range` or model slicing instead.\n",
      "  UserWarning\n"
     ]
    },
    {
     "name": "stdout",
     "output_type": "stream",
     "text": [
      "[4]\teval-logloss:0.41365\n",
      "[5]\teval-logloss:0.40126\n",
      "[6]\teval-logloss:0.39260\n",
      "[7]\teval-logloss:0.38542\n",
      "[8]\teval-logloss:0.38061\n",
      "[9]\teval-logloss:0.38005\n",
      "[0]\teval-logloss:0.57040\n",
      "[1]\teval-logloss:0.50478\n",
      "[2]\teval-logloss:0.45840\n",
      "[3]\teval-logloss:0.42952\n"
     ]
    },
    {
     "name": "stderr",
     "output_type": "stream",
     "text": [
      "/opt/conda/lib/python3.7/site-packages/xgboost/core.py:94: UserWarning: ntree_limit is deprecated, use `iteration_range` or model slicing instead.\n",
      "  UserWarning\n"
     ]
    },
    {
     "name": "stdout",
     "output_type": "stream",
     "text": [
      "[4]\teval-logloss:0.41210\n",
      "[5]\teval-logloss:0.40162\n",
      "[6]\teval-logloss:0.39448\n",
      "[7]\teval-logloss:0.38847\n",
      "[8]\teval-logloss:0.38050\n",
      "[9]\teval-logloss:0.37965\n",
      "[0]\teval-logloss:0.55535\n",
      "[1]\teval-logloss:0.48134\n",
      "[2]\teval-logloss:0.44201\n",
      "[3]\teval-logloss:0.40882\n",
      "[4]\teval-logloss:0.38636\n"
     ]
    },
    {
     "name": "stderr",
     "output_type": "stream",
     "text": [
      "/opt/conda/lib/python3.7/site-packages/xgboost/core.py:94: UserWarning: ntree_limit is deprecated, use `iteration_range` or model slicing instead.\n",
      "  UserWarning\n"
     ]
    },
    {
     "name": "stdout",
     "output_type": "stream",
     "text": [
      "[5]\teval-logloss:0.37090\n",
      "[6]\teval-logloss:0.36412\n",
      "[7]\teval-logloss:0.35445\n",
      "[8]\teval-logloss:0.35109\n",
      "[9]\teval-logloss:0.34682\n"
     ]
    },
    {
     "name": "stderr",
     "output_type": "stream",
     "text": [
      "/opt/conda/lib/python3.7/site-packages/xgboost/core.py:94: UserWarning: ntree_limit is deprecated, use `iteration_range` or model slicing instead.\n",
      "  UserWarning\n",
      "[I 2023-07-25 12:48:15,011] Trial 97 finished with value: 0.825789870870438 and parameters: {'booster': 'gbtree', 'lambda': 2.672798164366422, 'alpha': 1.7006302644206923, 'max_depth': 7, 'eta': 0.41595811139791455, 'gamma': 0.1246620682635388, 'grow_policy': 'depthwise', 'min_child_weight': 6, 'scale_pos_weight': 1.763689123286206}. Best is trial 83 with value: 0.8383408040901171.\n"
     ]
    },
    {
     "name": "stdout",
     "output_type": "stream",
     "text": [
      "[0]\teval-logloss:0.60018\n",
      "[1]\teval-logloss:0.53992\n",
      "[2]\teval-logloss:0.49734\n",
      "[3]\teval-logloss:0.46988\n",
      "[4]\teval-logloss:0.44441\n",
      "[5]\teval-logloss:0.42937\n",
      "[6]\teval-logloss:0.41414\n",
      "[7]\teval-logloss:0.40247\n",
      "[8]\teval-logloss:0.39127\n",
      "[9]\teval-logloss:0.38141\n",
      "[0]\teval-logloss:0.59195\n",
      "[1]\teval-logloss:0.52938\n",
      "[2]\teval-logloss:0.49029\n",
      "[3]\teval-logloss:0.45612\n"
     ]
    },
    {
     "name": "stderr",
     "output_type": "stream",
     "text": [
      "/opt/conda/lib/python3.7/site-packages/xgboost/core.py:94: UserWarning: ntree_limit is deprecated, use `iteration_range` or model slicing instead.\n",
      "  UserWarning\n"
     ]
    },
    {
     "name": "stdout",
     "output_type": "stream",
     "text": [
      "[4]\teval-logloss:0.42624\n",
      "[5]\teval-logloss:0.40738\n",
      "[6]\teval-logloss:0.39262\n",
      "[7]\teval-logloss:0.37982\n",
      "[8]\teval-logloss:0.37220\n",
      "[9]\teval-logloss:0.36403\n",
      "[0]\teval-logloss:0.59715\n",
      "[1]\teval-logloss:0.53527\n",
      "[2]\teval-logloss:0.49611\n",
      "[3]\teval-logloss:0.46829\n",
      "[4]\teval-logloss:0.44156\n"
     ]
    },
    {
     "name": "stderr",
     "output_type": "stream",
     "text": [
      "/opt/conda/lib/python3.7/site-packages/xgboost/core.py:94: UserWarning: ntree_limit is deprecated, use `iteration_range` or model slicing instead.\n",
      "  UserWarning\n"
     ]
    },
    {
     "name": "stdout",
     "output_type": "stream",
     "text": [
      "[5]\teval-logloss:0.42540\n",
      "[6]\teval-logloss:0.41135\n",
      "[7]\teval-logloss:0.39960\n",
      "[8]\teval-logloss:0.39113\n",
      "[9]\teval-logloss:0.38259\n",
      "[0]\teval-logloss:0.59319\n",
      "[1]\teval-logloss:0.53219\n",
      "[2]\teval-logloss:0.48974\n",
      "[3]\teval-logloss:0.45901\n"
     ]
    },
    {
     "name": "stderr",
     "output_type": "stream",
     "text": [
      "/opt/conda/lib/python3.7/site-packages/xgboost/core.py:94: UserWarning: ntree_limit is deprecated, use `iteration_range` or model slicing instead.\n",
      "  UserWarning\n"
     ]
    },
    {
     "name": "stdout",
     "output_type": "stream",
     "text": [
      "[4]\teval-logloss:0.43929\n",
      "[5]\teval-logloss:0.41773\n",
      "[6]\teval-logloss:0.40413\n",
      "[7]\teval-logloss:0.39869\n",
      "[8]\teval-logloss:0.38988\n",
      "[9]\teval-logloss:0.38130\n",
      "[0]\teval-logloss:0.59583\n",
      "[1]\teval-logloss:0.52937\n",
      "[2]\teval-logloss:0.48384\n",
      "[3]\teval-logloss:0.44869\n",
      "[4]\teval-logloss:0.41887\n"
     ]
    },
    {
     "name": "stderr",
     "output_type": "stream",
     "text": [
      "/opt/conda/lib/python3.7/site-packages/xgboost/core.py:94: UserWarning: ntree_limit is deprecated, use `iteration_range` or model slicing instead.\n",
      "  UserWarning\n"
     ]
    },
    {
     "name": "stdout",
     "output_type": "stream",
     "text": [
      "[5]\teval-logloss:0.40027\n",
      "[6]\teval-logloss:0.38582\n",
      "[7]\teval-logloss:0.37123\n",
      "[8]\teval-logloss:0.36154\n",
      "[9]\teval-logloss:0.35284\n"
     ]
    },
    {
     "name": "stderr",
     "output_type": "stream",
     "text": [
      "/opt/conda/lib/python3.7/site-packages/xgboost/core.py:94: UserWarning: ntree_limit is deprecated, use `iteration_range` or model slicing instead.\n",
      "  UserWarning\n",
      "[I 2023-07-25 12:48:16,885] Trial 98 finished with value: 0.8367118537997991 and parameters: {'booster': 'gbtree', 'lambda': 8.25813102587121, 'alpha': 4.1653902351466465, 'max_depth': 7, 'eta': 0.2892118079935368, 'gamma': 0.10385349058124971, 'grow_policy': 'depthwise', 'min_child_weight': 1, 'scale_pos_weight': 1.4469945384766016}. Best is trial 83 with value: 0.8383408040901171.\n"
     ]
    },
    {
     "name": "stdout",
     "output_type": "stream",
     "text": [
      "[0]\teval-logloss:0.60587\n",
      "[1]\teval-logloss:0.54925\n",
      "[2]\teval-logloss:0.51477\n",
      "[3]\teval-logloss:0.48735\n",
      "[4]\teval-logloss:0.46945\n",
      "[5]\teval-logloss:0.44917\n",
      "[6]\teval-logloss:0.43325\n",
      "[7]\teval-logloss:0.42149\n",
      "[8]\teval-logloss:0.41331\n",
      "[9]\teval-logloss:0.40739\n",
      "[0]\teval-logloss:0.60277\n",
      "[1]\teval-logloss:0.54420\n",
      "[2]\teval-logloss:0.50332\n",
      "[3]\teval-logloss:0.47016\n",
      "[4]\teval-logloss:0.45112\n"
     ]
    },
    {
     "name": "stderr",
     "output_type": "stream",
     "text": [
      "/opt/conda/lib/python3.7/site-packages/xgboost/core.py:94: UserWarning: ntree_limit is deprecated, use `iteration_range` or model slicing instead.\n",
      "  UserWarning\n"
     ]
    },
    {
     "name": "stdout",
     "output_type": "stream",
     "text": [
      "[5]\teval-logloss:0.42881\n",
      "[6]\teval-logloss:0.41431\n",
      "[7]\teval-logloss:0.40964\n",
      "[8]\teval-logloss:0.39914\n",
      "[9]\teval-logloss:0.38956\n",
      "[0]\teval-logloss:0.60431\n",
      "[1]\teval-logloss:0.55070\n",
      "[2]\teval-logloss:0.51608\n",
      "[3]\teval-logloss:0.48831\n",
      "[4]\teval-logloss:0.46750\n",
      "[5]\teval-logloss:0.44578\n"
     ]
    },
    {
     "name": "stderr",
     "output_type": "stream",
     "text": [
      "/opt/conda/lib/python3.7/site-packages/xgboost/core.py:94: UserWarning: ntree_limit is deprecated, use `iteration_range` or model slicing instead.\n",
      "  UserWarning\n"
     ]
    },
    {
     "name": "stdout",
     "output_type": "stream",
     "text": [
      "[6]\teval-logloss:0.43227\n",
      "[7]\teval-logloss:0.42047\n",
      "[8]\teval-logloss:0.41206\n",
      "[9]\teval-logloss:0.40480\n",
      "[0]\teval-logloss:0.60059\n",
      "[1]\teval-logloss:0.54801\n",
      "[2]\teval-logloss:0.50824\n",
      "[3]\teval-logloss:0.48099\n",
      "[4]\teval-logloss:0.45721\n"
     ]
    },
    {
     "name": "stderr",
     "output_type": "stream",
     "text": [
      "/opt/conda/lib/python3.7/site-packages/xgboost/core.py:94: UserWarning: ntree_limit is deprecated, use `iteration_range` or model slicing instead.\n",
      "  UserWarning\n"
     ]
    },
    {
     "name": "stdout",
     "output_type": "stream",
     "text": [
      "[5]\teval-logloss:0.44207\n",
      "[6]\teval-logloss:0.42759\n",
      "[7]\teval-logloss:0.41749\n",
      "[8]\teval-logloss:0.41115\n",
      "[9]\teval-logloss:0.40243\n",
      "[0]\teval-logloss:0.60255\n",
      "[1]\teval-logloss:0.54307\n",
      "[2]\teval-logloss:0.50386\n",
      "[3]\teval-logloss:0.46901\n",
      "[4]\teval-logloss:0.44304\n"
     ]
    },
    {
     "name": "stderr",
     "output_type": "stream",
     "text": [
      "/opt/conda/lib/python3.7/site-packages/xgboost/core.py:94: UserWarning: ntree_limit is deprecated, use `iteration_range` or model slicing instead.\n",
      "  UserWarning\n"
     ]
    },
    {
     "name": "stdout",
     "output_type": "stream",
     "text": [
      "[5]\teval-logloss:0.42394\n",
      "[6]\teval-logloss:0.40879\n",
      "[7]\teval-logloss:0.39717\n",
      "[8]\teval-logloss:0.38757\n",
      "[9]\teval-logloss:0.38237\n"
     ]
    },
    {
     "name": "stderr",
     "output_type": "stream",
     "text": [
      "/opt/conda/lib/python3.7/site-packages/xgboost/core.py:94: UserWarning: ntree_limit is deprecated, use `iteration_range` or model slicing instead.\n",
      "  UserWarning\n",
      "[I 2023-07-25 12:48:18,508] Trial 99 finished with value: 0.8148921393613019 and parameters: {'booster': 'gbtree', 'lambda': 8.2827252779417, 'alpha': 4.030347532810654, 'max_depth': 6, 'eta': 0.3003584203792646, 'gamma': 0.10678610348942028, 'grow_policy': 'depthwise', 'min_child_weight': 2, 'scale_pos_weight': 1.963530686020547}. Best is trial 83 with value: 0.8383408040901171.\n"
     ]
    },
    {
     "name": "stdout",
     "output_type": "stream",
     "text": [
      "Average F1-score: 0.8383408040901171\n",
      "Best hyperparameters: {'booster': 'gbtree', 'lambda': 6.016094397513518, 'alpha': 4.711663832668852, 'max_depth': 7, 'eta': 0.39660498695259366, 'gamma': 0.10019525875588906, 'grow_policy': 'depthwise', 'min_child_weight': 6, 'scale_pos_weight': 1.0501106779852665}\n"
     ]
    }
   ],
   "source": [
    "X_train = X_train.values\n",
    "\n",
    "\n",
    "def objective(trial):\n",
    "    param = {\n",
    "        'objective': 'binary:logistic',\n",
    "        'eval_metric': 'logloss',\n",
    "        'booster': trial.suggest_categorical('booster', ['gbtree']),\n",
    "        'lambda': trial.suggest_float('lambda', 0.01, 10.0, log=True),\n",
    "        'alpha': trial.suggest_float('alpha', 0.01, 10.0, log=True),\n",
    "        'max_depth': trial.suggest_int('max_depth', 3, 10),\n",
    "        'eta': trial.suggest_float('eta', 0.01, 1.0, log=True),\n",
    "        'gamma': trial.suggest_float('gamma', 0.01, 1.0, log=True),\n",
    "        'grow_policy': trial.suggest_categorical('grow_policy', ['depthwise', 'lossguide']),\n",
    "        'min_child_weight': trial.suggest_int('min_child_weight', 1, 10),\n",
    "        'scale_pos_weight': trial.suggest_float('scale_pos_weight', 1, 10)\n",
    "    }\n",
    "    \n",
    "    skf = StratifiedKFold(n_splits=5, shuffle=True, random_state=0)\n",
    "    f1_scores = []\n",
    "\n",
    "    for train_index, val_index in skf.split(X_train, y_train):\n",
    "        X_train_fold, X_val_fold = X_train[train_index], X_train[val_index]\n",
    "        y_train_fold, y_val_fold = y_train[train_index], y_train[val_index]\n",
    "\n",
    "        train_data = xgb.DMatrix(data=X_train_fold, label=y_train_fold)\n",
    "        val_data = xgb.DMatrix(data=X_val_fold, label=y_val_fold)\n",
    "\n",
    "        bst = xgb.train(param, train_data, evals=[(val_data, 'eval')], early_stopping_rounds=10)\n",
    "        preds = bst.predict(val_data, ntree_limit=bst.best_ntree_limit)\n",
    "        pred_labels = np.rint(preds)\n",
    "        f1 = f1_score(y_val_fold, pred_labels)  \n",
    "        f1_scores.append(f1)\n",
    "\n",
    "    return np.mean(f1_scores) \n",
    "\n",
    "study = optuna.create_study(direction='maximize')\n",
    "study.optimize(objective, n_trials=100)\n",
    "\n",
    "trial = study.best_trial\n",
    "\n",
    "print('Average F1-score: {}'.format(trial.value))\n",
    "print(\"Best hyperparameters: {}\".format(trial.params))\n",
    "\n",
    "\n"
   ]
  },
  {
   "cell_type": "code",
   "execution_count": 17,
   "metadata": {},
   "outputs": [
    {
     "name": "stdout",
     "output_type": "stream",
     "text": [
      "Best Threshold=0.249627, F-Score=0.393, Precision=0.290, Recall=0.609\n",
      "              precision    recall  f1-score   support\n",
      "\n",
      "           0       0.85      0.60      0.70       472\n",
      "           1       0.29      0.61      0.39       128\n",
      "\n",
      "    accuracy                           0.60       600\n",
      "   macro avg       0.57      0.60      0.55       600\n",
      "weighted avg       0.73      0.60      0.63       600\n",
      "\n"
     ]
    }
   ],
   "source": [
    "# Train the XGBoost model with best hyperparameters obtained from Optuna\n",
    "best_params = trial.params\n",
    "best_params['objective'] = 'binary:logistic'\n",
    "best_model = xgb.train(best_params, train_data)\n",
    "\n",
    "# Predict probabilities on the validation set\n",
    "y_val_prob = best_model.predict(val_data)\n",
    "\n",
    "# Generate precision-recall curve values: precisions, recalls, thresholds\n",
    "precisions, recalls, thresholds = precision_recall_curve(y_val, y_val_prob)\n",
    "\n",
    "# Convert to f score\n",
    "fscore = (2 * precisions * recalls) / (precisions + recalls)\n",
    "\n",
    "# Locate the index of the largest f score\n",
    "ix = np.argmax(fscore)\n",
    "print('Best Threshold=%f, F-Score=%.3f, Precision=%.3f, Recall=%.3f' % (thresholds[ix], \n",
    "                                                                          fscore[ix], \n",
    "                                                                          precisions[ix], \n",
    "                                                                          recalls[ix]))\n",
    "\n",
    "# Adjust the threshold\n",
    "adjusted_y_val_pred = [1 if y >= thresholds[ix] else 0 for y in y_val_prob]\n",
    "\n",
    "# Print classification report\n",
    "print(classification_report(y_val, adjusted_y_val_pred))\n"
   ]
  },
  {
   "cell_type": "code",
   "execution_count": 18,
   "metadata": {},
   "outputs": [
    {
     "data": {
      "image/png": "[encoded data removed]",
      "text/plain": [
       "<Figure size 576x432 with 1 Axes>"
      ]
     },
     "metadata": {
      "needs_background": "light"
     },
     "output_type": "display_data"
    }
   ],
   "source": [
    "# Calculate probabilities for calibration \n",
    "calibration_y_prob = best_model.predict(val_data)\n",
    "\n",
    "# Calculate frequencies for calibration\n",
    "calibration_y_true = y_val\n",
    "\n",
    "# Plot calibration curve\n",
    "plt.figure(figsize=(8, 6))\n",
    "fraction_of_positives, mean_predicted_value = calibration_curve(calibration_y_true, calibration_y_prob, n_bins=10)\n",
    "plt.plot(mean_predicted_value, fraction_of_positives, 's-', label='Calibration curve')\n",
    "plt.plot([0, 1], [0, 1], 'k--', label='Perfectly calibrated')\n",
    "plt.xlabel('Mean Predicted Value')\n",
    "plt.ylabel('Fraction of Positives')\n",
    "plt.title('Calibration Curve')\n",
    "plt.legend()\n",
    "plt.grid(True)\n",
    "plt.show()\n"
   ]
  },
  {
   "cell_type": "code",
   "execution_count": 19,
   "metadata": {},
   "outputs": [
    {
     "data": {
      "image/png": "[encoded data removed]",
      "text/plain": [
       "<Figure size 576x432 with 1 Axes>"
      ]
     },
     "metadata": {
      "needs_background": "light"
     },
     "output_type": "display_data"
    }
   ],
   "source": [
    "#XGBClassifier with the best hyperparameters\n",
    "xgb_model = XGBClassifier(**best_params)\n",
    "xgb_model.fit(X_train, y_train)\n",
    "\n",
    "# Calculate the learning curve\n",
    "train_sizes, train_scores, val_scores = learning_curve(xgb_model, X_train, y_train, cv=5, scoring='accuracy')\n",
    "\n",
    "# Calculate the mean and standard deviation of train and validation scores\n",
    "train_scores_mean = np.mean(train_scores, axis=1)\n",
    "train_scores_std = np.std(train_scores, axis=1)\n",
    "val_scores_mean = np.mean(val_scores, axis=1)\n",
    "val_scores_std = np.std(val_scores, axis=1)\n",
    "\n",
    "# Plot the learning curve\n",
    "plt.figure(figsize=(8, 6))\n",
    "plt.plot(train_sizes, train_scores_mean, 'o-', label='Training Score')\n",
    "plt.plot(train_sizes, val_scores_mean, 'o-', label='Validation Score')\n",
    "plt.fill_between(train_sizes, train_scores_mean - train_scores_std, train_scores_mean + train_scores_std, alpha=0.2)\n",
    "plt.fill_between(train_sizes, val_scores_mean - val_scores_std, val_scores_mean + val_scores_std, alpha=0.2)\n",
    "plt.xlabel('Training Set Size')\n",
    "plt.ylabel('Accuracy Score')\n",
    "plt.title('Learning Curve')\n",
    "plt.legend()\n",
    "plt.grid(True)\n",
    "plt.show()\n"
   ]
  },
  {
   "cell_type": "markdown",
   "metadata": {},
   "source": [
    "### Optuna optimization sacrificed recall in class 1 for a more accurate overall model. Below we built a precision-recall curve and roc curve to analyze the tradeoff between true positive rate and false positive rate."
   ]
  },
  {
   "cell_type": "code",
   "execution_count": 20,
   "metadata": {},
   "outputs": [
    {
     "data": {
      "image/png": "[encoded data removed]",
      "text/plain": [
       "<Figure size 576x432 with 1 Axes>"
      ]
     },
     "metadata": {
      "needs_background": "light"
     },
     "output_type": "display_data"
    },
    {
     "name": "stdout",
     "output_type": "stream",
     "text": [
      "              precision    recall  f1-score   support\n",
      "\n",
      "           0       0.85      0.60      0.70       472\n",
      "           1       0.29      0.61      0.39       128\n",
      "\n",
      "    accuracy                           0.60       600\n",
      "   macro avg       0.57      0.60      0.55       600\n",
      "weighted avg       0.73      0.60      0.63       600\n",
      "\n"
     ]
    }
   ],
   "source": [
    "# Calculate precision, recall, and thresholds\n",
    "precisions, recalls, thresholds = precision_recall_curve(y_val, adjusted_y_val_pred)\n",
    "\n",
    "# Plot precision-recall curve\n",
    "plt.figure(figsize=(8, 6))\n",
    "plt.plot(recalls, precisions, color='blue', lw=2)\n",
    "plt.fill_between(recalls, precisions, alpha=0.2, color='blue')\n",
    "plt.xlabel('Recall')\n",
    "plt.ylabel('Precision')\n",
    "plt.title('Precision-Recall Curve')\n",
    "plt.xlim([0.0, 1.0])\n",
    "plt.ylim([0.0, 1.05])\n",
    "plt.grid(True)\n",
    "plt.show()\n",
    "\n",
    "# Print classification report\n",
    "print(classification_report(y_val, adjusted_y_val_pred))\n"
   ]
  },
  {
   "cell_type": "code",
   "execution_count": 21,
   "metadata": {},
   "outputs": [
    {
     "name": "stdout",
     "output_type": "stream",
     "text": [
      "Best Threshold=0.240920, G-Mean=0.609\n"
     ]
    },
    {
     "data": {
      "image/png": "[encoded data removed]",
      "text/plain": [
       "<Figure size 576x432 with 1 Axes>"
      ]
     },
     "metadata": {
      "needs_background": "light"
     },
     "output_type": "display_data"
    }
   ],
   "source": [
    "# Compute the ROC curve points\n",
    "fpr, tpr, thresholds = roc_curve(y_val, val_predictions)\n",
    "\n",
    "# Calculate the g-mean for each threshold\n",
    "gmeans = np.sqrt(tpr * (1-fpr))\n",
    "\n",
    "# Locate the index of the largest g-mean\n",
    "ix = np.argmax(gmeans)\n",
    "\n",
    "print('Best Threshold=%f, G-Mean=%.3f' % (thresholds[ix], gmeans[ix]))\n",
    "\n",
    "# Plot the roc curve\n",
    "plt.figure(figsize=(8, 6))\n",
    "plt.plot([0,1], [0,1], linestyle='--', label='No Skill')\n",
    "plt.plot(fpr, tpr, marker='.', label='XGBoost')\n",
    "plt.scatter(fpr[ix], tpr[ix], marker='o', color='black', label='Best')\n",
    "plt.xlabel('False Positive Rate')\n",
    "plt.ylabel('True Positive Rate')\n",
    "plt.legend()\n",
    "plt.show()\n"
   ]
  },
  {
   "cell_type": "markdown",
   "metadata": {},
   "source": [
    "# Risk Stratification<a name=\"risk-stratification\"></a>\n",
    "\n",
    "### Okay, performance of our model is not amazing. There is some opportunity for discriptive analysis of feature importance and potentially some predictive benefit of the high recall rate for class 1 in terms of early warning metric. Below is the beginning of work to attempt to stratify risk according to low, medium, and high. "
   ]
  },
  {
   "cell_type": "code",
   "execution_count": 22,
   "metadata": {},
   "outputs": [],
   "source": [
    "#new matrices to prevent redundancy\n",
    "dtrain = xgb.DMatrix(X_train, label=y_train)\n",
    "dval = xgb.DMatrix(X_val, label=y_val)\n",
    "dtest = xgb.DMatrix(X_test)"
   ]
  },
  {
   "cell_type": "code",
   "execution_count": 23,
   "metadata": {},
   "outputs": [],
   "source": [
    "#build a function for threshold categorization\n",
    "def categorize_risk(probability, low_risk_threshold, medium_risk_threshold):\n",
    "    if probability <= low_risk_threshold:\n",
    "        return 'low'\n",
    "    elif probability <= medium_risk_threshold:\n",
    "        return 'medium'\n",
    "    else:\n",
    "        return 'high'\n",
    "low_risk_threshold = 0.33\n",
    "medium_risk_threshold = 0.6"
   ]
  },
  {
   "cell_type": "code",
   "execution_count": 24,
   "metadata": {},
   "outputs": [],
   "source": [
    "risk_categories = [categorize_risk(p, low_risk_threshold, medium_risk_threshold) for p in y_val_prob]\n"
   ]
  },
  {
   "cell_type": "code",
   "execution_count": 25,
   "metadata": {},
   "outputs": [
    {
     "name": "stdout",
     "output_type": "stream",
     "text": [
      "RiskCategory\n",
      "high      0.500000\n",
      "low       0.183807\n",
      "medium    0.302158\n",
      "Name: ActualOutcome, dtype: float64\n",
      "RiskCategory\n",
      "high       2\n",
      "low       84\n",
      "medium    42\n",
      "Name: ActualOutcome, dtype: int64\n"
     ]
    }
   ],
   "source": [
    "y_val_flat = y_val.values.ravel()\n",
    "\n",
    "# Convert to the correct data types\n",
    "y_val_numeric = pd.to_numeric(y_val_flat)\n",
    "\n",
    "df_evaluation = pd.DataFrame({'RiskCategory': risk_categories, 'ActualOutcome': y_val_numeric})\n",
    "\n",
    "# Now we calculate the mean and sum of ActualOutcome within each RiskCategory\n",
    "mean_outcomes = df_evaluation.groupby('RiskCategory')['ActualOutcome'].mean()\n",
    "sum_outcomes = df_evaluation.groupby('RiskCategory')['ActualOutcome'].sum()\n",
    "\n",
    "print(mean_outcomes)\n",
    "print(sum_outcomes)"
   ]
  },
  {
   "cell_type": "code",
   "execution_count": 26,
   "metadata": {},
   "outputs": [],
   "source": [
    "# Save model\n",
    "bst.save_model('/dsa/groups/casestudy2023su/team03/model_data/pickeled_models/XGb4optuna.json')\n",
    "best_model.save_model('/dsa/groups/casestudy2023su/team03/model_data/pickeled_models/XGoptuna.json')\n",
    "\n"
   ]
  },
  {
   "cell_type": "code",
   "execution_count": null,
   "metadata": {},
   "outputs": [],
   "source": []
  }
 ],
 "metadata": {
  "kernelspec": {
   "display_name": "Python 3",
   "language": "python",
   "name": "python3"
  },
  "language_info": {
   "codemirror_mode": {
    "name": "ipython",
    "version": 3
   },
   "file_extension": ".py",
   "mimetype": "text/x-python",
   "name": "python",
   "nbconvert_exporter": "python",
   "pygments_lexer": "ipython3",
   "version": "3.7.3"
  }
 },
 "nbformat": 4,
 "nbformat_minor": 2
}
