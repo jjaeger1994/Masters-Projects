{
 "cells": [
  {
   "cell_type": "markdown",
   "metadata": {},
   "source": [
    "## EDA5 - LightGBM Hyperparameter Tuning\n",
    "#### 1. [Installation and Importing of Libraries](#eda_import)\n",
    "#### 2. [Data Retrieval](#eda_csv)\n",
    "#### 3. [Create Pipeline and Tune Using RandomSearch ](#eda_pipe)\n",
    "#### 4. [Tune Using Optuna](#eda_optuna)\n"
   ]
  },
  {
   "cell_type": "markdown",
   "metadata": {},
   "source": [
    "### <a name=\"eda_import\"></a>Installation and Importing of Libraries"
   ]
  },
  {
   "cell_type": "code",
   "execution_count": 1,
   "metadata": {},
   "outputs": [
    {
     "name": "stdout",
     "output_type": "stream",
     "text": [
      "Requirement already satisfied: optuna in /opt/conda/lib/python3.7/site-packages (3.2.0)\n",
      "Requirement already satisfied: PyYAML in /opt/conda/lib/python3.7/site-packages (from optuna) (5.1.2)\n",
      "Requirement already satisfied: colorlog in /opt/conda/lib/python3.7/site-packages (from optuna) (6.7.0)\n",
      "Requirement already satisfied: alembic>=1.5.0 in /opt/conda/lib/python3.7/site-packages (from optuna) (1.11.1)\n",
      "Requirement already satisfied: cmaes>=0.9.1 in /opt/conda/lib/python3.7/site-packages (from optuna) (0.9.1)\n",
      "Requirement already satisfied: tqdm in /opt/conda/lib/python3.7/site-packages (from optuna) (4.33.0)\n",
      "Requirement already satisfied: numpy in /opt/conda/lib/python3.7/site-packages (from optuna) (1.17.3)\n",
      "Requirement already satisfied: packaging>=20.0 in /opt/conda/lib/python3.7/site-packages (from optuna) (23.1)\n",
      "Requirement already satisfied: sqlalchemy>=1.3.0 in /opt/conda/lib/python3.7/site-packages (from optuna) (1.3.6)\n",
      "Requirement already satisfied: typing-extensions>=4 in /opt/conda/lib/python3.7/site-packages (from alembic>=1.5.0->optuna) (4.7.1)\n",
      "Requirement already satisfied: importlib-metadata; python_version < \"3.9\" in /opt/conda/lib/python3.7/site-packages (from alembic>=1.5.0->optuna) (6.7.0)\n",
      "Requirement already satisfied: Mako in /opt/conda/lib/python3.7/site-packages (from alembic>=1.5.0->optuna) (1.1.0)\n",
      "Requirement already satisfied: importlib-resources; python_version < \"3.9\" in /opt/conda/lib/python3.7/site-packages (from alembic>=1.5.0->optuna) (5.12.0)\n",
      "Requirement already satisfied: zipp>=0.5 in /opt/conda/lib/python3.7/site-packages (from importlib-metadata; python_version < \"3.9\"->alembic>=1.5.0->optuna) (3.15.0)\n",
      "Requirement already satisfied: MarkupSafe>=0.9.2 in /opt/conda/lib/python3.7/site-packages (from Mako->alembic>=1.5.0->optuna) (1.1.1)\n"
     ]
    }
   ],
   "source": [
    "!pip install optuna"
   ]
  },
  {
   "cell_type": "code",
   "execution_count": 2,
   "metadata": {},
   "outputs": [
    {
     "name": "stdout",
     "output_type": "stream",
     "text": [
      "Requirement already up-to-date: seaborn in /opt/conda/lib/python3.7/site-packages (0.12.2)\n",
      "Requirement already satisfied, skipping upgrade: pandas>=0.25 in /opt/conda/lib/python3.7/site-packages (from seaborn) (0.25.2)\n",
      "Requirement already satisfied, skipping upgrade: typing_extensions; python_version < \"3.8\" in /opt/conda/lib/python3.7/site-packages (from seaborn) (4.7.1)\n",
      "Requirement already satisfied, skipping upgrade: numpy!=1.24.0,>=1.17 in /opt/conda/lib/python3.7/site-packages (from seaborn) (1.17.3)\n",
      "Requirement already satisfied, skipping upgrade: matplotlib!=3.6.1,>=3.1 in /opt/conda/lib/python3.7/site-packages (from seaborn) (3.1.1)\n",
      "Requirement already satisfied, skipping upgrade: python-dateutil>=2.6.1 in /opt/conda/lib/python3.7/site-packages (from pandas>=0.25->seaborn) (2.8.0)\n",
      "Requirement already satisfied, skipping upgrade: pytz>=2017.2 in /opt/conda/lib/python3.7/site-packages (from pandas>=0.25->seaborn) (2019.2)\n",
      "Requirement already satisfied, skipping upgrade: kiwisolver>=1.0.1 in /opt/conda/lib/python3.7/site-packages (from matplotlib!=3.6.1,>=3.1->seaborn) (1.1.0)\n",
      "Requirement already satisfied, skipping upgrade: pyparsing!=2.0.4,!=2.1.2,!=2.1.6,>=2.0.1 in /opt/conda/lib/python3.7/site-packages (from matplotlib!=3.6.1,>=3.1->seaborn) (2.4.2)\n",
      "Requirement already satisfied, skipping upgrade: cycler>=0.10 in /opt/conda/lib/python3.7/site-packages (from matplotlib!=3.6.1,>=3.1->seaborn) (0.10.0)\n",
      "Requirement already satisfied, skipping upgrade: six>=1.5 in /opt/conda/lib/python3.7/site-packages (from python-dateutil>=2.6.1->pandas>=0.25->seaborn) (1.12.0)\n",
      "Requirement already satisfied, skipping upgrade: setuptools in /opt/conda/lib/python3.7/site-packages (from kiwisolver>=1.0.1->matplotlib!=3.6.1,>=3.1->seaborn) (41.0.1)\n"
     ]
    }
   ],
   "source": [
    "!pip install seaborn --upgrade"
   ]
  },
  {
   "cell_type": "code",
   "execution_count": 3,
   "metadata": {},
   "outputs": [
    {
     "name": "stdout",
     "output_type": "stream",
     "text": [
      "Requirement already satisfied: lightgbm==3.3.5 in /opt/conda/lib/python3.7/site-packages (3.3.5)\n",
      "Requirement already satisfied: wheel in /opt/conda/lib/python3.7/site-packages (from lightgbm==3.3.5) (0.33.4)\n",
      "Requirement already satisfied: scikit-learn!=0.22.0 in /opt/conda/lib/python3.7/site-packages (from lightgbm==3.3.5) (1.0.2)\n",
      "Requirement already satisfied: scipy in /opt/conda/lib/python3.7/site-packages (from lightgbm==3.3.5) (1.2.1)\n",
      "Requirement already satisfied: numpy in /opt/conda/lib/python3.7/site-packages (from lightgbm==3.3.5) (1.17.3)\n",
      "Requirement already satisfied: joblib>=0.11 in /opt/conda/lib/python3.7/site-packages (from scikit-learn!=0.22.0->lightgbm==3.3.5) (1.3.1)\n",
      "Requirement already satisfied: threadpoolctl>=2.0.0 in /opt/conda/lib/python3.7/site-packages (from scikit-learn!=0.22.0->lightgbm==3.3.5) (3.1.0)\n"
     ]
    }
   ],
   "source": [
    "!pip install lightgbm==3.3.5"
   ]
  },
  {
   "cell_type": "code",
   "execution_count": 4,
   "metadata": {},
   "outputs": [
    {
     "name": "stdout",
     "output_type": "stream",
     "text": [
      "Requirement already up-to-date: scikit-learn in /opt/conda/lib/python3.7/site-packages (1.0.2)\n",
      "Requirement already satisfied, skipping upgrade: numpy>=1.14.6 in /opt/conda/lib/python3.7/site-packages (from scikit-learn) (1.17.3)\n",
      "Requirement already satisfied, skipping upgrade: joblib>=0.11 in /opt/conda/lib/python3.7/site-packages (from scikit-learn) (1.3.1)\n",
      "Requirement already satisfied, skipping upgrade: threadpoolctl>=2.0.0 in /opt/conda/lib/python3.7/site-packages (from scikit-learn) (3.1.0)\n",
      "Requirement already satisfied, skipping upgrade: scipy>=1.1.0 in /opt/conda/lib/python3.7/site-packages (from scikit-learn) (1.2.1)\n"
     ]
    }
   ],
   "source": [
    "!pip install --upgrade scikit-learn"
   ]
  },
  {
   "cell_type": "code",
   "execution_count": 6,
   "metadata": {},
   "outputs": [],
   "source": [
    "import numpy as np\n",
    "import os\n",
    "import pandas as pd\n",
    "import matplotlib.pyplot as plt\n",
    "import seaborn as sns\n",
    "from sklearn.decomposition import PCA\n",
    "import mpl_toolkits.mplot3d\n",
    "from sklearn.feature_selection import SelectKBest, f_classif, chi2, mutual_info_classif\n",
    "from sklearn.preprocessing import StandardScaler\n",
    "from sklearn.compose import make_column_transformer\n",
    "from sklearn.preprocessing import OrdinalEncoder\n",
    "from sklearn.model_selection import train_test_split\n",
    "from sklearn.metrics import accuracy_score, confusion_matrix, ConfusionMatrixDisplay, average_precision_score,\\\n",
    "classification_report, auc, recall_score, roc_curve, precision_score, precision_recall_curve, roc_auc_score\n",
    "from sklearn.model_selection import StratifiedKFold\n",
    "from sklearn.pipeline import Pipeline\n",
    "from sklearn.model_selection import RandomizedSearchCV\n",
    "from statsmodels.stats.outliers_influence import variance_inflation_factor\n",
    "from scipy.stats import uniform, randint\n",
    "import lightgbm as lgb\n",
    "import optuna\n",
    "from lightgbm import LGBMClassifier\n",
    "import joblib\n",
    "import warnings"
   ]
  },
  {
   "cell_type": "code",
   "execution_count": 7,
   "metadata": {},
   "outputs": [],
   "source": [
    "warnings.filterwarnings('ignore')"
   ]
  },
  {
   "cell_type": "code",
   "execution_count": 8,
   "metadata": {},
   "outputs": [],
   "source": [
    "def makeConfusionMatrixandScore(model,y_actual,X_set,thresh=0.5):\n",
    "    ###A function for printing out a confusion matric and classification report\n",
    "    ###to consistantly evaluate model performance\n",
    "    y_pred_prob = model.predict(X_set)\n",
    "    y_pred = pd.Series(y_pred_prob).apply(lambda x: 1 if x > thresh else 0)\n",
    "    \n",
    "    cm = confusion_matrix(y_actual,np.round(y_pred))\n",
    "    disp = ConfusionMatrixDisplay(confusion_matrix=cm)\n",
    "    disp.plot()\n",
    "    plt.show()    \n",
    "    \n",
    "    print(classification_report(y_actual, y_pred))\n",
    "    "
   ]
  },
  {
   "cell_type": "code",
   "execution_count": 9,
   "metadata": {},
   "outputs": [],
   "source": [
    "def optimizedf1(y_test, y_pred_proc):\n",
    "    precision,recall,thresholds = precision_recall_curve(y_test, y_pred_proc,pos_label=1)\n",
    "    \n",
    "    fscore = np.nan_to_num((2 * precision * recall) / (precision + recall))\n",
    "    \n",
    "    index = np.argmax(fscore)\n",
    "    \n",
    "    return thresholds[index]"
   ]
  },
  {
   "cell_type": "code",
   "execution_count": 10,
   "metadata": {},
   "outputs": [],
   "source": [
    "def plot_roc_and_prc(y_test, y_pred_proc):\n",
    "    fpr,tpr,_ = roc_curve(y_test, y_pred_proc)\n",
    "    precision,recall,thresholds = precision_recall_curve(y_test, y_pred_proc)\n",
    "    \n",
    "    \n",
    "    auc = roc_auc_score(y_test, y_pred_proc)\n",
    "    \n",
    "    ap = average_precision_score(y_test, y_pred_proc)\n",
    "    \n",
    "    fig, (ax1,ax2) = plt.subplots(1,2,figsize=(16,8))\n",
    "    \n",
    "    \n",
    "    ##plot ROC\n",
    "    ax1.plot(fpr,tpr)\n",
    "    ax1.plot([0,1],[0,1], \"k-\", color = \"r\",lw=1)\n",
    "    ax1.annotate(f\"AUC: {auc:.2f}\",(.75,.25),weight=\"bold\",size=14)\n",
    "    ax1.set_ylabel('True Positive Rate/ Recall')\n",
    "    ax1.set_xlabel('False Positive Rate')\n",
    "    ax1.set_title(\"ROC Curve\")\n",
    "    \n",
    "    ##plot Precision-Recall Curve\n",
    "    ax2.plot(recall,precision)\n",
    "    ax2.set_ylabel(\"Precision\")\n",
    "    ax2.set_xlabel(\"Recall\")\n",
    "    ax2.set_title(\"Precision-Recall Curve\")\n",
    "    ax2.annotate(f\"AP: {ap:.2f}\",(.5,.75),weight=\"bold\",size=14)\n",
    "    \n",
    "    plt.show()"
   ]
  },
  {
   "cell_type": "markdown",
   "metadata": {},
   "source": [
    "### <a name= \"eda_csv\"> </a>  Get Training and Validation Data"
   ]
  },
  {
   "cell_type": "code",
   "execution_count": 11,
   "metadata": {},
   "outputs": [],
   "source": [
    "X_train = pd.read_csv(\"/dsa/groups/casestudy2023su/team03/Data4/X_train.csv\")\n",
    "y_train = pd.read_csv(\"/dsa/groups/casestudy2023su/team03/Data4/y_train.csv\")\n",
    "X_validation = pd.read_csv(\"/dsa/groups/casestudy2023su/team03/Data4/X_validation.csv\")\n",
    "y_validation = pd.read_csv(\"/dsa/groups/casestudy2023su/team03/Data4/y_validation.csv\")"
   ]
  },
  {
   "cell_type": "code",
   "execution_count": 12,
   "metadata": {},
   "outputs": [],
   "source": [
    "features = joblib.load(\"/dsa/groups/casestudy2023su/team03/merged_data/LGBM/features.pkl\")"
   ]
  },
  {
   "cell_type": "code",
   "execution_count": 13,
   "metadata": {},
   "outputs": [],
   "source": [
    "X_train = X_train[features].values\n",
    "X_validation = X_validation[features].values\n",
    "y_train = y_train.values.ravel()\n",
    "y_validation = y_validation.values.ravel()"
   ]
  },
  {
   "cell_type": "markdown",
   "metadata": {},
   "source": [
    "### <a name= \"eda_pipe\"> </a> Create Pipeline and Tune Using RandomSearch "
   ]
  },
  {
   "cell_type": "code",
   "execution_count": 13,
   "metadata": {},
   "outputs": [],
   "source": [
    "pipe = Pipeline(steps=[(\"kbest\",SelectKBest(mutual_info_classif)),(\"lgb\",LGBMClassifier(objective=\"binary\",n_jobs=-1,scale_pos_weight=2.33))])"
   ]
  },
  {
   "cell_type": "code",
   "execution_count": 14,
   "metadata": {},
   "outputs": [
    {
     "data": {
      "text/plain": [
       "<bound method Pipeline.get_params of Pipeline(steps=[('kbest',\n",
       "                 SelectKBest(score_func=<function mutual_info_classif at 0x7f1ca80f19d8>)),\n",
       "                ('lgb',\n",
       "                 LGBMClassifier(objective='binary', scale_pos_weight=2.33))])>"
      ]
     },
     "execution_count": 14,
     "metadata": {},
     "output_type": "execute_result"
    }
   ],
   "source": [
    "pipe.get_params"
   ]
  },
  {
   "cell_type": "code",
   "execution_count": null,
   "metadata": {},
   "outputs": [],
   "source": [
    "LGBMClassifier()"
   ]
  },
  {
   "cell_type": "code",
   "execution_count": 15,
   "metadata": {},
   "outputs": [],
   "source": [
    "params = {\n",
    "    \"kbest__k\":randint(3,20),\n",
    "    \"lgb__learning_rate\":[0.01,0.3],\n",
    "    \"lgb__num_leaves\":randint(20,3000),\n",
    "    \"lgb__extra_trees\":[True,False],\n",
    "    \"lgb__max_bin\":randint(100,300),\n",
    "    \"lgb__feature_fraction\":uniform(0.2,0.8)\n",
    "}"
   ]
  },
  {
   "cell_type": "code",
   "execution_count": 22,
   "metadata": {},
   "outputs": [],
   "source": [
    "rcv = RandomizedSearchCV(pipe,params,cv=5,n_iter=50,scoring=\"roc_auc\")"
   ]
  },
  {
   "cell_type": "code",
   "execution_count": 25,
   "metadata": {},
   "outputs": [
    {
     "name": "stdout",
     "output_type": "stream",
     "text": [
      "[LightGBM] [Warning] feature_fraction is set=0.6698349982333079, colsample_bytree=1.0 will be ignored. Current value: feature_fraction=0.6698349982333079\n",
      "[LightGBM] [Warning] feature_fraction is set=0.6698349982333079, colsample_bytree=1.0 will be ignored. Current value: feature_fraction=0.6698349982333079\n",
      "[LightGBM] [Warning] feature_fraction is set=0.6698349982333079, colsample_bytree=1.0 will be ignored. Current value: feature_fraction=0.6698349982333079\n",
      "[LightGBM] [Warning] feature_fraction is set=0.6698349982333079, colsample_bytree=1.0 will be ignored. Current value: feature_fraction=0.6698349982333079\n",
      "[LightGBM] [Warning] feature_fraction is set=0.6698349982333079, colsample_bytree=1.0 will be ignored. Current value: feature_fraction=0.6698349982333079\n",
      "[LightGBM] [Warning] feature_fraction is set=0.8904959864128139, colsample_bytree=1.0 will be ignored. Current value: feature_fraction=0.8904959864128139\n",
      "[LightGBM] [Warning] feature_fraction is set=0.8904959864128139, colsample_bytree=1.0 will be ignored. Current value: feature_fraction=0.8904959864128139\n",
      "[LightGBM] [Warning] feature_fraction is set=0.8904959864128139, colsample_bytree=1.0 will be ignored. Current value: feature_fraction=0.8904959864128139\n",
      "[LightGBM] [Warning] feature_fraction is set=0.8904959864128139, colsample_bytree=1.0 will be ignored. Current value: feature_fraction=0.8904959864128139\n",
      "[LightGBM] [Warning] feature_fraction is set=0.8904959864128139, colsample_bytree=1.0 will be ignored. Current value: feature_fraction=0.8904959864128139\n",
      "[LightGBM] [Warning] feature_fraction is set=0.39235173054229505, colsample_bytree=1.0 will be ignored. Current value: feature_fraction=0.39235173054229505\n",
      "[LightGBM] [Warning] feature_fraction is set=0.39235173054229505, colsample_bytree=1.0 will be ignored. Current value: feature_fraction=0.39235173054229505\n",
      "[LightGBM] [Warning] feature_fraction is set=0.39235173054229505, colsample_bytree=1.0 will be ignored. Current value: feature_fraction=0.39235173054229505\n",
      "[LightGBM] [Warning] feature_fraction is set=0.39235173054229505, colsample_bytree=1.0 will be ignored. Current value: feature_fraction=0.39235173054229505\n",
      "[LightGBM] [Warning] feature_fraction is set=0.39235173054229505, colsample_bytree=1.0 will be ignored. Current value: feature_fraction=0.39235173054229505\n",
      "[LightGBM] [Warning] feature_fraction is set=0.5348433487475204, colsample_bytree=1.0 will be ignored. Current value: feature_fraction=0.5348433487475204\n",
      "[LightGBM] [Warning] feature_fraction is set=0.5348433487475204, colsample_bytree=1.0 will be ignored. Current value: feature_fraction=0.5348433487475204\n",
      "[LightGBM] [Warning] feature_fraction is set=0.5348433487475204, colsample_bytree=1.0 will be ignored. Current value: feature_fraction=0.5348433487475204\n",
      "[LightGBM] [Warning] feature_fraction is set=0.5348433487475204, colsample_bytree=1.0 will be ignored. Current value: feature_fraction=0.5348433487475204\n",
      "[LightGBM] [Warning] feature_fraction is set=0.5348433487475204, colsample_bytree=1.0 will be ignored. Current value: feature_fraction=0.5348433487475204\n",
      "[LightGBM] [Warning] feature_fraction is set=0.8933737263996566, colsample_bytree=1.0 will be ignored. Current value: feature_fraction=0.8933737263996566\n",
      "[LightGBM] [Warning] feature_fraction is set=0.8933737263996566, colsample_bytree=1.0 will be ignored. Current value: feature_fraction=0.8933737263996566\n",
      "[LightGBM] [Warning] feature_fraction is set=0.8933737263996566, colsample_bytree=1.0 will be ignored. Current value: feature_fraction=0.8933737263996566\n",
      "[LightGBM] [Warning] feature_fraction is set=0.8933737263996566, colsample_bytree=1.0 will be ignored. Current value: feature_fraction=0.8933737263996566\n",
      "[LightGBM] [Warning] feature_fraction is set=0.8933737263996566, colsample_bytree=1.0 will be ignored. Current value: feature_fraction=0.8933737263996566\n",
      "[LightGBM] [Warning] feature_fraction is set=0.724704119729159, colsample_bytree=1.0 will be ignored. Current value: feature_fraction=0.724704119729159\n",
      "[LightGBM] [Warning] feature_fraction is set=0.724704119729159, colsample_bytree=1.0 will be ignored. Current value: feature_fraction=0.724704119729159\n",
      "[LightGBM] [Warning] feature_fraction is set=0.724704119729159, colsample_bytree=1.0 will be ignored. Current value: feature_fraction=0.724704119729159\n",
      "[LightGBM] [Warning] feature_fraction is set=0.724704119729159, colsample_bytree=1.0 will be ignored. Current value: feature_fraction=0.724704119729159\n",
      "[LightGBM] [Warning] feature_fraction is set=0.724704119729159, colsample_bytree=1.0 will be ignored. Current value: feature_fraction=0.724704119729159\n",
      "[LightGBM] [Warning] feature_fraction is set=0.6452194331122969, colsample_bytree=1.0 will be ignored. Current value: feature_fraction=0.6452194331122969\n",
      "[LightGBM] [Warning] feature_fraction is set=0.6452194331122969, colsample_bytree=1.0 will be ignored. Current value: feature_fraction=0.6452194331122969\n",
      "[LightGBM] [Warning] feature_fraction is set=0.6452194331122969, colsample_bytree=1.0 will be ignored. Current value: feature_fraction=0.6452194331122969\n",
      "[LightGBM] [Warning] feature_fraction is set=0.6452194331122969, colsample_bytree=1.0 will be ignored. Current value: feature_fraction=0.6452194331122969\n",
      "[LightGBM] [Warning] feature_fraction is set=0.6452194331122969, colsample_bytree=1.0 will be ignored. Current value: feature_fraction=0.6452194331122969\n",
      "[LightGBM] [Warning] feature_fraction is set=0.633512860878757, colsample_bytree=1.0 will be ignored. Current value: feature_fraction=0.633512860878757\n",
      "[LightGBM] [Warning] feature_fraction is set=0.633512860878757, colsample_bytree=1.0 will be ignored. Current value: feature_fraction=0.633512860878757\n",
      "[LightGBM] [Warning] feature_fraction is set=0.633512860878757, colsample_bytree=1.0 will be ignored. Current value: feature_fraction=0.633512860878757\n",
      "[LightGBM] [Warning] feature_fraction is set=0.633512860878757, colsample_bytree=1.0 will be ignored. Current value: feature_fraction=0.633512860878757\n",
      "[LightGBM] [Warning] feature_fraction is set=0.633512860878757, colsample_bytree=1.0 will be ignored. Current value: feature_fraction=0.633512860878757\n",
      "[LightGBM] [Warning] feature_fraction is set=0.9670752065086563, colsample_bytree=1.0 will be ignored. Current value: feature_fraction=0.9670752065086563\n",
      "[LightGBM] [Warning] feature_fraction is set=0.9670752065086563, colsample_bytree=1.0 will be ignored. Current value: feature_fraction=0.9670752065086563\n",
      "[LightGBM] [Warning] feature_fraction is set=0.9670752065086563, colsample_bytree=1.0 will be ignored. Current value: feature_fraction=0.9670752065086563\n",
      "[LightGBM] [Warning] feature_fraction is set=0.9670752065086563, colsample_bytree=1.0 will be ignored. Current value: feature_fraction=0.9670752065086563\n",
      "[LightGBM] [Warning] feature_fraction is set=0.9670752065086563, colsample_bytree=1.0 will be ignored. Current value: feature_fraction=0.9670752065086563\n",
      "[LightGBM] [Warning] feature_fraction is set=0.3026871180216977, colsample_bytree=1.0 will be ignored. Current value: feature_fraction=0.3026871180216977\n",
      "[LightGBM] [Warning] feature_fraction is set=0.3026871180216977, colsample_bytree=1.0 will be ignored. Current value: feature_fraction=0.3026871180216977\n",
      "[LightGBM] [Warning] feature_fraction is set=0.3026871180216977, colsample_bytree=1.0 will be ignored. Current value: feature_fraction=0.3026871180216977\n",
      "[LightGBM] [Warning] feature_fraction is set=0.3026871180216977, colsample_bytree=1.0 will be ignored. Current value: feature_fraction=0.3026871180216977\n",
      "[LightGBM] [Warning] feature_fraction is set=0.3026871180216977, colsample_bytree=1.0 will be ignored. Current value: feature_fraction=0.3026871180216977\n",
      "[LightGBM] [Warning] feature_fraction is set=0.683573980913766, colsample_bytree=1.0 will be ignored. Current value: feature_fraction=0.683573980913766\n",
      "[LightGBM] [Warning] feature_fraction is set=0.683573980913766, colsample_bytree=1.0 will be ignored. Current value: feature_fraction=0.683573980913766\n",
      "[LightGBM] [Warning] feature_fraction is set=0.683573980913766, colsample_bytree=1.0 will be ignored. Current value: feature_fraction=0.683573980913766\n",
      "[LightGBM] [Warning] feature_fraction is set=0.683573980913766, colsample_bytree=1.0 will be ignored. Current value: feature_fraction=0.683573980913766\n"
     ]
    },
    {
     "name": "stdout",
     "output_type": "stream",
     "text": [
      "[LightGBM] [Warning] feature_fraction is set=0.683573980913766, colsample_bytree=1.0 will be ignored. Current value: feature_fraction=0.683573980913766\n",
      "[LightGBM] [Warning] feature_fraction is set=0.8094308040791034, colsample_bytree=1.0 will be ignored. Current value: feature_fraction=0.8094308040791034\n",
      "[LightGBM] [Warning] feature_fraction is set=0.8094308040791034, colsample_bytree=1.0 will be ignored. Current value: feature_fraction=0.8094308040791034\n",
      "[LightGBM] [Warning] feature_fraction is set=0.8094308040791034, colsample_bytree=1.0 will be ignored. Current value: feature_fraction=0.8094308040791034\n",
      "[LightGBM] [Warning] feature_fraction is set=0.8094308040791034, colsample_bytree=1.0 will be ignored. Current value: feature_fraction=0.8094308040791034\n",
      "[LightGBM] [Warning] feature_fraction is set=0.8094308040791034, colsample_bytree=1.0 will be ignored. Current value: feature_fraction=0.8094308040791034\n",
      "[LightGBM] [Warning] feature_fraction is set=0.7998277406470442, colsample_bytree=1.0 will be ignored. Current value: feature_fraction=0.7998277406470442\n",
      "[LightGBM] [Warning] feature_fraction is set=0.7998277406470442, colsample_bytree=1.0 will be ignored. Current value: feature_fraction=0.7998277406470442\n",
      "[LightGBM] [Warning] feature_fraction is set=0.7998277406470442, colsample_bytree=1.0 will be ignored. Current value: feature_fraction=0.7998277406470442\n",
      "[LightGBM] [Warning] feature_fraction is set=0.7998277406470442, colsample_bytree=1.0 will be ignored. Current value: feature_fraction=0.7998277406470442\n",
      "[LightGBM] [Warning] feature_fraction is set=0.7998277406470442, colsample_bytree=1.0 will be ignored. Current value: feature_fraction=0.7998277406470442\n",
      "[LightGBM] [Warning] feature_fraction is set=0.2212049702689999, colsample_bytree=1.0 will be ignored. Current value: feature_fraction=0.2212049702689999\n",
      "[LightGBM] [Warning] feature_fraction is set=0.2212049702689999, colsample_bytree=1.0 will be ignored. Current value: feature_fraction=0.2212049702689999\n",
      "[LightGBM] [Warning] feature_fraction is set=0.2212049702689999, colsample_bytree=1.0 will be ignored. Current value: feature_fraction=0.2212049702689999\n",
      "[LightGBM] [Warning] feature_fraction is set=0.2212049702689999, colsample_bytree=1.0 will be ignored. Current value: feature_fraction=0.2212049702689999\n",
      "[LightGBM] [Warning] feature_fraction is set=0.2212049702689999, colsample_bytree=1.0 will be ignored. Current value: feature_fraction=0.2212049702689999\n",
      "[LightGBM] [Warning] feature_fraction is set=0.6977075215794444, colsample_bytree=1.0 will be ignored. Current value: feature_fraction=0.6977075215794444\n",
      "[LightGBM] [Warning] feature_fraction is set=0.6977075215794444, colsample_bytree=1.0 will be ignored. Current value: feature_fraction=0.6977075215794444\n",
      "[LightGBM] [Warning] feature_fraction is set=0.6977075215794444, colsample_bytree=1.0 will be ignored. Current value: feature_fraction=0.6977075215794444\n",
      "[LightGBM] [Warning] feature_fraction is set=0.6977075215794444, colsample_bytree=1.0 will be ignored. Current value: feature_fraction=0.6977075215794444\n",
      "[LightGBM] [Warning] feature_fraction is set=0.6977075215794444, colsample_bytree=1.0 will be ignored. Current value: feature_fraction=0.6977075215794444\n",
      "[LightGBM] [Warning] feature_fraction is set=0.732706275661988, colsample_bytree=1.0 will be ignored. Current value: feature_fraction=0.732706275661988\n",
      "[LightGBM] [Warning] feature_fraction is set=0.732706275661988, colsample_bytree=1.0 will be ignored. Current value: feature_fraction=0.732706275661988\n",
      "[LightGBM] [Warning] feature_fraction is set=0.732706275661988, colsample_bytree=1.0 will be ignored. Current value: feature_fraction=0.732706275661988\n",
      "[LightGBM] [Warning] feature_fraction is set=0.732706275661988, colsample_bytree=1.0 will be ignored. Current value: feature_fraction=0.732706275661988\n",
      "[LightGBM] [Warning] feature_fraction is set=0.732706275661988, colsample_bytree=1.0 will be ignored. Current value: feature_fraction=0.732706275661988\n",
      "[LightGBM] [Warning] feature_fraction is set=0.38011652226228904, colsample_bytree=1.0 will be ignored. Current value: feature_fraction=0.38011652226228904\n",
      "[LightGBM] [Warning] feature_fraction is set=0.38011652226228904, colsample_bytree=1.0 will be ignored. Current value: feature_fraction=0.38011652226228904\n",
      "[LightGBM] [Warning] feature_fraction is set=0.38011652226228904, colsample_bytree=1.0 will be ignored. Current value: feature_fraction=0.38011652226228904\n",
      "[LightGBM] [Warning] feature_fraction is set=0.38011652226228904, colsample_bytree=1.0 will be ignored. Current value: feature_fraction=0.38011652226228904\n",
      "[LightGBM] [Warning] feature_fraction is set=0.38011652226228904, colsample_bytree=1.0 will be ignored. Current value: feature_fraction=0.38011652226228904\n",
      "[LightGBM] [Warning] feature_fraction is set=0.5904301098428061, colsample_bytree=1.0 will be ignored. Current value: feature_fraction=0.5904301098428061\n",
      "[LightGBM] [Warning] feature_fraction is set=0.5904301098428061, colsample_bytree=1.0 will be ignored. Current value: feature_fraction=0.5904301098428061\n",
      "[LightGBM] [Warning] feature_fraction is set=0.5904301098428061, colsample_bytree=1.0 will be ignored. Current value: feature_fraction=0.5904301098428061\n",
      "[LightGBM] [Warning] feature_fraction is set=0.5904301098428061, colsample_bytree=1.0 will be ignored. Current value: feature_fraction=0.5904301098428061\n",
      "[LightGBM] [Warning] feature_fraction is set=0.5904301098428061, colsample_bytree=1.0 will be ignored. Current value: feature_fraction=0.5904301098428061\n",
      "[LightGBM] [Warning] feature_fraction is set=0.43184696865964, colsample_bytree=1.0 will be ignored. Current value: feature_fraction=0.43184696865964\n",
      "[LightGBM] [Warning] feature_fraction is set=0.43184696865964, colsample_bytree=1.0 will be ignored. Current value: feature_fraction=0.43184696865964\n",
      "[LightGBM] [Warning] feature_fraction is set=0.43184696865964, colsample_bytree=1.0 will be ignored. Current value: feature_fraction=0.43184696865964\n",
      "[LightGBM] [Warning] feature_fraction is set=0.43184696865964, colsample_bytree=1.0 will be ignored. Current value: feature_fraction=0.43184696865964\n",
      "[LightGBM] [Warning] feature_fraction is set=0.43184696865964, colsample_bytree=1.0 will be ignored. Current value: feature_fraction=0.43184696865964\n",
      "[LightGBM] [Warning] feature_fraction is set=0.916156628568523, colsample_bytree=1.0 will be ignored. Current value: feature_fraction=0.916156628568523\n",
      "[LightGBM] [Warning] feature_fraction is set=0.916156628568523, colsample_bytree=1.0 will be ignored. Current value: feature_fraction=0.916156628568523\n",
      "[LightGBM] [Warning] feature_fraction is set=0.916156628568523, colsample_bytree=1.0 will be ignored. Current value: feature_fraction=0.916156628568523\n",
      "[LightGBM] [Warning] feature_fraction is set=0.916156628568523, colsample_bytree=1.0 will be ignored. Current value: feature_fraction=0.916156628568523\n",
      "[LightGBM] [Warning] feature_fraction is set=0.916156628568523, colsample_bytree=1.0 will be ignored. Current value: feature_fraction=0.916156628568523\n",
      "[LightGBM] [Warning] feature_fraction is set=0.6769180209292227, colsample_bytree=1.0 will be ignored. Current value: feature_fraction=0.6769180209292227\n",
      "[LightGBM] [Warning] feature_fraction is set=0.6769180209292227, colsample_bytree=1.0 will be ignored. Current value: feature_fraction=0.6769180209292227\n",
      "[LightGBM] [Warning] feature_fraction is set=0.6769180209292227, colsample_bytree=1.0 will be ignored. Current value: feature_fraction=0.6769180209292227\n",
      "[LightGBM] [Warning] feature_fraction is set=0.6769180209292227, colsample_bytree=1.0 will be ignored. Current value: feature_fraction=0.6769180209292227\n",
      "[LightGBM] [Warning] feature_fraction is set=0.6769180209292227, colsample_bytree=1.0 will be ignored. Current value: feature_fraction=0.6769180209292227\n",
      "[LightGBM] [Warning] feature_fraction is set=0.7055053464371226, colsample_bytree=1.0 will be ignored. Current value: feature_fraction=0.7055053464371226\n",
      "[LightGBM] [Warning] feature_fraction is set=0.7055053464371226, colsample_bytree=1.0 will be ignored. Current value: feature_fraction=0.7055053464371226\n",
      "[LightGBM] [Warning] feature_fraction is set=0.7055053464371226, colsample_bytree=1.0 will be ignored. Current value: feature_fraction=0.7055053464371226\n"
     ]
    },
    {
     "name": "stdout",
     "output_type": "stream",
     "text": [
      "[LightGBM] [Warning] feature_fraction is set=0.7055053464371226, colsample_bytree=1.0 will be ignored. Current value: feature_fraction=0.7055053464371226\n",
      "[LightGBM] [Warning] feature_fraction is set=0.7055053464371226, colsample_bytree=1.0 will be ignored. Current value: feature_fraction=0.7055053464371226\n",
      "[LightGBM] [Warning] feature_fraction is set=0.3524501987607768, colsample_bytree=1.0 will be ignored. Current value: feature_fraction=0.3524501987607768\n",
      "[LightGBM] [Warning] feature_fraction is set=0.3524501987607768, colsample_bytree=1.0 will be ignored. Current value: feature_fraction=0.3524501987607768\n",
      "[LightGBM] [Warning] feature_fraction is set=0.3524501987607768, colsample_bytree=1.0 will be ignored. Current value: feature_fraction=0.3524501987607768\n",
      "[LightGBM] [Warning] feature_fraction is set=0.3524501987607768, colsample_bytree=1.0 will be ignored. Current value: feature_fraction=0.3524501987607768\n",
      "[LightGBM] [Warning] feature_fraction is set=0.3524501987607768, colsample_bytree=1.0 will be ignored. Current value: feature_fraction=0.3524501987607768\n",
      "[LightGBM] [Warning] feature_fraction is set=0.22376506846241, colsample_bytree=1.0 will be ignored. Current value: feature_fraction=0.22376506846241\n",
      "[LightGBM] [Warning] feature_fraction is set=0.22376506846241, colsample_bytree=1.0 will be ignored. Current value: feature_fraction=0.22376506846241\n",
      "[LightGBM] [Warning] feature_fraction is set=0.22376506846241, colsample_bytree=1.0 will be ignored. Current value: feature_fraction=0.22376506846241\n",
      "[LightGBM] [Warning] feature_fraction is set=0.22376506846241, colsample_bytree=1.0 will be ignored. Current value: feature_fraction=0.22376506846241\n",
      "[LightGBM] [Warning] feature_fraction is set=0.22376506846241, colsample_bytree=1.0 will be ignored. Current value: feature_fraction=0.22376506846241\n",
      "[LightGBM] [Warning] feature_fraction is set=0.44396472457603875, colsample_bytree=1.0 will be ignored. Current value: feature_fraction=0.44396472457603875\n",
      "[LightGBM] [Warning] feature_fraction is set=0.44396472457603875, colsample_bytree=1.0 will be ignored. Current value: feature_fraction=0.44396472457603875\n",
      "[LightGBM] [Warning] feature_fraction is set=0.44396472457603875, colsample_bytree=1.0 will be ignored. Current value: feature_fraction=0.44396472457603875\n",
      "[LightGBM] [Warning] feature_fraction is set=0.44396472457603875, colsample_bytree=1.0 will be ignored. Current value: feature_fraction=0.44396472457603875\n",
      "[LightGBM] [Warning] feature_fraction is set=0.44396472457603875, colsample_bytree=1.0 will be ignored. Current value: feature_fraction=0.44396472457603875\n",
      "[LightGBM] [Warning] feature_fraction is set=0.3634221178498, colsample_bytree=1.0 will be ignored. Current value: feature_fraction=0.3634221178498\n",
      "[LightGBM] [Warning] feature_fraction is set=0.3634221178498, colsample_bytree=1.0 will be ignored. Current value: feature_fraction=0.3634221178498\n",
      "[LightGBM] [Warning] feature_fraction is set=0.3634221178498, colsample_bytree=1.0 will be ignored. Current value: feature_fraction=0.3634221178498\n",
      "[LightGBM] [Warning] feature_fraction is set=0.3634221178498, colsample_bytree=1.0 will be ignored. Current value: feature_fraction=0.3634221178498\n",
      "[LightGBM] [Warning] feature_fraction is set=0.3634221178498, colsample_bytree=1.0 will be ignored. Current value: feature_fraction=0.3634221178498\n",
      "[LightGBM] [Warning] feature_fraction is set=0.29118523475301333, colsample_bytree=1.0 will be ignored. Current value: feature_fraction=0.29118523475301333\n",
      "[LightGBM] [Warning] feature_fraction is set=0.29118523475301333, colsample_bytree=1.0 will be ignored. Current value: feature_fraction=0.29118523475301333\n",
      "[LightGBM] [Warning] feature_fraction is set=0.29118523475301333, colsample_bytree=1.0 will be ignored. Current value: feature_fraction=0.29118523475301333\n",
      "[LightGBM] [Warning] feature_fraction is set=0.29118523475301333, colsample_bytree=1.0 will be ignored. Current value: feature_fraction=0.29118523475301333\n",
      "[LightGBM] [Warning] feature_fraction is set=0.29118523475301333, colsample_bytree=1.0 will be ignored. Current value: feature_fraction=0.29118523475301333\n",
      "[LightGBM] [Warning] feature_fraction is set=0.42105258359360054, colsample_bytree=1.0 will be ignored. Current value: feature_fraction=0.42105258359360054\n",
      "[LightGBM] [Warning] feature_fraction is set=0.42105258359360054, colsample_bytree=1.0 will be ignored. Current value: feature_fraction=0.42105258359360054\n",
      "[LightGBM] [Warning] feature_fraction is set=0.42105258359360054, colsample_bytree=1.0 will be ignored. Current value: feature_fraction=0.42105258359360054\n",
      "[LightGBM] [Warning] feature_fraction is set=0.42105258359360054, colsample_bytree=1.0 will be ignored. Current value: feature_fraction=0.42105258359360054\n",
      "[LightGBM] [Warning] feature_fraction is set=0.42105258359360054, colsample_bytree=1.0 will be ignored. Current value: feature_fraction=0.42105258359360054\n",
      "[LightGBM] [Warning] feature_fraction is set=0.4559230859118943, colsample_bytree=1.0 will be ignored. Current value: feature_fraction=0.4559230859118943\n",
      "[LightGBM] [Warning] feature_fraction is set=0.4559230859118943, colsample_bytree=1.0 will be ignored. Current value: feature_fraction=0.4559230859118943\n",
      "[LightGBM] [Warning] feature_fraction is set=0.4559230859118943, colsample_bytree=1.0 will be ignored. Current value: feature_fraction=0.4559230859118943\n",
      "[LightGBM] [Warning] feature_fraction is set=0.4559230859118943, colsample_bytree=1.0 will be ignored. Current value: feature_fraction=0.4559230859118943\n",
      "[LightGBM] [Warning] feature_fraction is set=0.4559230859118943, colsample_bytree=1.0 will be ignored. Current value: feature_fraction=0.4559230859118943\n",
      "[LightGBM] [Warning] feature_fraction is set=0.6648458651907141, colsample_bytree=1.0 will be ignored. Current value: feature_fraction=0.6648458651907141\n",
      "[LightGBM] [Warning] feature_fraction is set=0.6648458651907141, colsample_bytree=1.0 will be ignored. Current value: feature_fraction=0.6648458651907141\n",
      "[LightGBM] [Warning] feature_fraction is set=0.6648458651907141, colsample_bytree=1.0 will be ignored. Current value: feature_fraction=0.6648458651907141\n",
      "[LightGBM] [Warning] feature_fraction is set=0.6648458651907141, colsample_bytree=1.0 will be ignored. Current value: feature_fraction=0.6648458651907141\n",
      "[LightGBM] [Warning] feature_fraction is set=0.6648458651907141, colsample_bytree=1.0 will be ignored. Current value: feature_fraction=0.6648458651907141\n",
      "[LightGBM] [Warning] feature_fraction is set=0.4136505211783222, colsample_bytree=1.0 will be ignored. Current value: feature_fraction=0.4136505211783222\n",
      "[LightGBM] [Warning] feature_fraction is set=0.4136505211783222, colsample_bytree=1.0 will be ignored. Current value: feature_fraction=0.4136505211783222\n",
      "[LightGBM] [Warning] feature_fraction is set=0.4136505211783222, colsample_bytree=1.0 will be ignored. Current value: feature_fraction=0.4136505211783222\n",
      "[LightGBM] [Warning] feature_fraction is set=0.4136505211783222, colsample_bytree=1.0 will be ignored. Current value: feature_fraction=0.4136505211783222\n",
      "[LightGBM] [Warning] feature_fraction is set=0.4136505211783222, colsample_bytree=1.0 will be ignored. Current value: feature_fraction=0.4136505211783222\n",
      "[LightGBM] [Warning] feature_fraction is set=0.994309100321739, colsample_bytree=1.0 will be ignored. Current value: feature_fraction=0.994309100321739\n",
      "[LightGBM] [Warning] feature_fraction is set=0.994309100321739, colsample_bytree=1.0 will be ignored. Current value: feature_fraction=0.994309100321739\n",
      "[LightGBM] [Warning] feature_fraction is set=0.994309100321739, colsample_bytree=1.0 will be ignored. Current value: feature_fraction=0.994309100321739\n",
      "[LightGBM] [Warning] feature_fraction is set=0.994309100321739, colsample_bytree=1.0 will be ignored. Current value: feature_fraction=0.994309100321739\n",
      "[LightGBM] [Warning] feature_fraction is set=0.994309100321739, colsample_bytree=1.0 will be ignored. Current value: feature_fraction=0.994309100321739\n",
      "[LightGBM] [Warning] feature_fraction is set=0.4612570680258128, colsample_bytree=1.0 will be ignored. Current value: feature_fraction=0.4612570680258128\n",
      "[LightGBM] [Warning] feature_fraction is set=0.4612570680258128, colsample_bytree=1.0 will be ignored. Current value: feature_fraction=0.4612570680258128\n"
     ]
    },
    {
     "name": "stdout",
     "output_type": "stream",
     "text": [
      "[LightGBM] [Warning] feature_fraction is set=0.4612570680258128, colsample_bytree=1.0 will be ignored. Current value: feature_fraction=0.4612570680258128\n",
      "[LightGBM] [Warning] feature_fraction is set=0.4612570680258128, colsample_bytree=1.0 will be ignored. Current value: feature_fraction=0.4612570680258128\n",
      "[LightGBM] [Warning] feature_fraction is set=0.4612570680258128, colsample_bytree=1.0 will be ignored. Current value: feature_fraction=0.4612570680258128\n",
      "[LightGBM] [Warning] feature_fraction is set=0.6065911971221689, colsample_bytree=1.0 will be ignored. Current value: feature_fraction=0.6065911971221689\n",
      "[LightGBM] [Warning] feature_fraction is set=0.6065911971221689, colsample_bytree=1.0 will be ignored. Current value: feature_fraction=0.6065911971221689\n",
      "[LightGBM] [Warning] feature_fraction is set=0.6065911971221689, colsample_bytree=1.0 will be ignored. Current value: feature_fraction=0.6065911971221689\n",
      "[LightGBM] [Warning] feature_fraction is set=0.6065911971221689, colsample_bytree=1.0 will be ignored. Current value: feature_fraction=0.6065911971221689\n",
      "[LightGBM] [Warning] feature_fraction is set=0.6065911971221689, colsample_bytree=1.0 will be ignored. Current value: feature_fraction=0.6065911971221689\n",
      "[LightGBM] [Warning] feature_fraction is set=0.6561824885990719, colsample_bytree=1.0 will be ignored. Current value: feature_fraction=0.6561824885990719\n",
      "[LightGBM] [Warning] feature_fraction is set=0.6561824885990719, colsample_bytree=1.0 will be ignored. Current value: feature_fraction=0.6561824885990719\n",
      "[LightGBM] [Warning] feature_fraction is set=0.6561824885990719, colsample_bytree=1.0 will be ignored. Current value: feature_fraction=0.6561824885990719\n",
      "[LightGBM] [Warning] feature_fraction is set=0.6561824885990719, colsample_bytree=1.0 will be ignored. Current value: feature_fraction=0.6561824885990719\n",
      "[LightGBM] [Warning] feature_fraction is set=0.6561824885990719, colsample_bytree=1.0 will be ignored. Current value: feature_fraction=0.6561824885990719\n",
      "[LightGBM] [Warning] feature_fraction is set=0.29048404441594383, colsample_bytree=1.0 will be ignored. Current value: feature_fraction=0.29048404441594383\n",
      "[LightGBM] [Warning] feature_fraction is set=0.29048404441594383, colsample_bytree=1.0 will be ignored. Current value: feature_fraction=0.29048404441594383\n",
      "[LightGBM] [Warning] feature_fraction is set=0.29048404441594383, colsample_bytree=1.0 will be ignored. Current value: feature_fraction=0.29048404441594383\n",
      "[LightGBM] [Warning] feature_fraction is set=0.29048404441594383, colsample_bytree=1.0 will be ignored. Current value: feature_fraction=0.29048404441594383\n",
      "[LightGBM] [Warning] feature_fraction is set=0.29048404441594383, colsample_bytree=1.0 will be ignored. Current value: feature_fraction=0.29048404441594383\n",
      "[LightGBM] [Warning] feature_fraction is set=0.931628408762454, colsample_bytree=1.0 will be ignored. Current value: feature_fraction=0.931628408762454\n",
      "[LightGBM] [Warning] feature_fraction is set=0.931628408762454, colsample_bytree=1.0 will be ignored. Current value: feature_fraction=0.931628408762454\n",
      "[LightGBM] [Warning] feature_fraction is set=0.931628408762454, colsample_bytree=1.0 will be ignored. Current value: feature_fraction=0.931628408762454\n",
      "[LightGBM] [Warning] feature_fraction is set=0.931628408762454, colsample_bytree=1.0 will be ignored. Current value: feature_fraction=0.931628408762454\n",
      "[LightGBM] [Warning] feature_fraction is set=0.931628408762454, colsample_bytree=1.0 will be ignored. Current value: feature_fraction=0.931628408762454\n",
      "[LightGBM] [Warning] feature_fraction is set=0.37428621033857956, colsample_bytree=1.0 will be ignored. Current value: feature_fraction=0.37428621033857956\n",
      "[LightGBM] [Warning] feature_fraction is set=0.37428621033857956, colsample_bytree=1.0 will be ignored. Current value: feature_fraction=0.37428621033857956\n",
      "[LightGBM] [Warning] feature_fraction is set=0.37428621033857956, colsample_bytree=1.0 will be ignored. Current value: feature_fraction=0.37428621033857956\n",
      "[LightGBM] [Warning] feature_fraction is set=0.37428621033857956, colsample_bytree=1.0 will be ignored. Current value: feature_fraction=0.37428621033857956\n",
      "[LightGBM] [Warning] feature_fraction is set=0.37428621033857956, colsample_bytree=1.0 will be ignored. Current value: feature_fraction=0.37428621033857956\n",
      "[LightGBM] [Warning] feature_fraction is set=0.8332689775663373, colsample_bytree=1.0 will be ignored. Current value: feature_fraction=0.8332689775663373\n",
      "[LightGBM] [Warning] feature_fraction is set=0.8332689775663373, colsample_bytree=1.0 will be ignored. Current value: feature_fraction=0.8332689775663373\n",
      "[LightGBM] [Warning] feature_fraction is set=0.8332689775663373, colsample_bytree=1.0 will be ignored. Current value: feature_fraction=0.8332689775663373\n",
      "[LightGBM] [Warning] feature_fraction is set=0.8332689775663373, colsample_bytree=1.0 will be ignored. Current value: feature_fraction=0.8332689775663373\n",
      "[LightGBM] [Warning] feature_fraction is set=0.8332689775663373, colsample_bytree=1.0 will be ignored. Current value: feature_fraction=0.8332689775663373\n",
      "[LightGBM] [Warning] feature_fraction is set=0.4788791226627286, colsample_bytree=1.0 will be ignored. Current value: feature_fraction=0.4788791226627286\n",
      "[LightGBM] [Warning] feature_fraction is set=0.4788791226627286, colsample_bytree=1.0 will be ignored. Current value: feature_fraction=0.4788791226627286\n",
      "[LightGBM] [Warning] feature_fraction is set=0.4788791226627286, colsample_bytree=1.0 will be ignored. Current value: feature_fraction=0.4788791226627286\n",
      "[LightGBM] [Warning] feature_fraction is set=0.4788791226627286, colsample_bytree=1.0 will be ignored. Current value: feature_fraction=0.4788791226627286\n",
      "[LightGBM] [Warning] feature_fraction is set=0.4788791226627286, colsample_bytree=1.0 will be ignored. Current value: feature_fraction=0.4788791226627286\n",
      "[LightGBM] [Warning] feature_fraction is set=0.23559447304512304, colsample_bytree=1.0 will be ignored. Current value: feature_fraction=0.23559447304512304\n",
      "[LightGBM] [Warning] feature_fraction is set=0.23559447304512304, colsample_bytree=1.0 will be ignored. Current value: feature_fraction=0.23559447304512304\n",
      "[LightGBM] [Warning] feature_fraction is set=0.23559447304512304, colsample_bytree=1.0 will be ignored. Current value: feature_fraction=0.23559447304512304\n",
      "[LightGBM] [Warning] feature_fraction is set=0.23559447304512304, colsample_bytree=1.0 will be ignored. Current value: feature_fraction=0.23559447304512304\n",
      "[LightGBM] [Warning] feature_fraction is set=0.23559447304512304, colsample_bytree=1.0 will be ignored. Current value: feature_fraction=0.23559447304512304\n",
      "[LightGBM] [Warning] feature_fraction is set=0.34089033324548357, colsample_bytree=1.0 will be ignored. Current value: feature_fraction=0.34089033324548357\n",
      "[LightGBM] [Warning] feature_fraction is set=0.34089033324548357, colsample_bytree=1.0 will be ignored. Current value: feature_fraction=0.34089033324548357\n",
      "[LightGBM] [Warning] feature_fraction is set=0.34089033324548357, colsample_bytree=1.0 will be ignored. Current value: feature_fraction=0.34089033324548357\n",
      "[LightGBM] [Warning] feature_fraction is set=0.34089033324548357, colsample_bytree=1.0 will be ignored. Current value: feature_fraction=0.34089033324548357\n",
      "[LightGBM] [Warning] feature_fraction is set=0.34089033324548357, colsample_bytree=1.0 will be ignored. Current value: feature_fraction=0.34089033324548357\n",
      "[LightGBM] [Warning] feature_fraction is set=0.36571101344855195, colsample_bytree=1.0 will be ignored. Current value: feature_fraction=0.36571101344855195\n",
      "[LightGBM] [Warning] feature_fraction is set=0.36571101344855195, colsample_bytree=1.0 will be ignored. Current value: feature_fraction=0.36571101344855195\n",
      "[LightGBM] [Warning] feature_fraction is set=0.36571101344855195, colsample_bytree=1.0 will be ignored. Current value: feature_fraction=0.36571101344855195\n",
      "[LightGBM] [Warning] feature_fraction is set=0.36571101344855195, colsample_bytree=1.0 will be ignored. Current value: feature_fraction=0.36571101344855195\n",
      "[LightGBM] [Warning] feature_fraction is set=0.36571101344855195, colsample_bytree=1.0 will be ignored. Current value: feature_fraction=0.36571101344855195\n"
     ]
    },
    {
     "name": "stdout",
     "output_type": "stream",
     "text": [
      "[LightGBM] [Warning] feature_fraction is set=0.6032982217038831, colsample_bytree=1.0 will be ignored. Current value: feature_fraction=0.6032982217038831\n",
      "[LightGBM] [Warning] feature_fraction is set=0.6032982217038831, colsample_bytree=1.0 will be ignored. Current value: feature_fraction=0.6032982217038831\n",
      "[LightGBM] [Warning] feature_fraction is set=0.6032982217038831, colsample_bytree=1.0 will be ignored. Current value: feature_fraction=0.6032982217038831\n",
      "[LightGBM] [Warning] feature_fraction is set=0.6032982217038831, colsample_bytree=1.0 will be ignored. Current value: feature_fraction=0.6032982217038831\n",
      "[LightGBM] [Warning] feature_fraction is set=0.6032982217038831, colsample_bytree=1.0 will be ignored. Current value: feature_fraction=0.6032982217038831\n",
      "[LightGBM] [Warning] feature_fraction is set=0.3608778235353965, colsample_bytree=1.0 will be ignored. Current value: feature_fraction=0.3608778235353965\n",
      "[LightGBM] [Warning] feature_fraction is set=0.3608778235353965, colsample_bytree=1.0 will be ignored. Current value: feature_fraction=0.3608778235353965\n",
      "[LightGBM] [Warning] feature_fraction is set=0.3608778235353965, colsample_bytree=1.0 will be ignored. Current value: feature_fraction=0.3608778235353965\n",
      "[LightGBM] [Warning] feature_fraction is set=0.3608778235353965, colsample_bytree=1.0 will be ignored. Current value: feature_fraction=0.3608778235353965\n",
      "[LightGBM] [Warning] feature_fraction is set=0.3608778235353965, colsample_bytree=1.0 will be ignored. Current value: feature_fraction=0.3608778235353965\n",
      "[LightGBM] [Warning] feature_fraction is set=0.9209841582425804, colsample_bytree=1.0 will be ignored. Current value: feature_fraction=0.9209841582425804\n",
      "[LightGBM] [Warning] feature_fraction is set=0.9209841582425804, colsample_bytree=1.0 will be ignored. Current value: feature_fraction=0.9209841582425804\n",
      "[LightGBM] [Warning] feature_fraction is set=0.9209841582425804, colsample_bytree=1.0 will be ignored. Current value: feature_fraction=0.9209841582425804\n",
      "[LightGBM] [Warning] feature_fraction is set=0.9209841582425804, colsample_bytree=1.0 will be ignored. Current value: feature_fraction=0.9209841582425804\n",
      "[LightGBM] [Warning] feature_fraction is set=0.9209841582425804, colsample_bytree=1.0 will be ignored. Current value: feature_fraction=0.9209841582425804\n",
      "[LightGBM] [Warning] feature_fraction is set=0.8003194127700424, colsample_bytree=1.0 will be ignored. Current value: feature_fraction=0.8003194127700424\n",
      "[LightGBM] [Warning] feature_fraction is set=0.8003194127700424, colsample_bytree=1.0 will be ignored. Current value: feature_fraction=0.8003194127700424\n",
      "[LightGBM] [Warning] feature_fraction is set=0.8003194127700424, colsample_bytree=1.0 will be ignored. Current value: feature_fraction=0.8003194127700424\n",
      "[LightGBM] [Warning] feature_fraction is set=0.8003194127700424, colsample_bytree=1.0 will be ignored. Current value: feature_fraction=0.8003194127700424\n",
      "[LightGBM] [Warning] feature_fraction is set=0.8003194127700424, colsample_bytree=1.0 will be ignored. Current value: feature_fraction=0.8003194127700424\n",
      "[LightGBM] [Warning] feature_fraction is set=0.3949929152795553, colsample_bytree=1.0 will be ignored. Current value: feature_fraction=0.3949929152795553\n",
      "[LightGBM] [Warning] feature_fraction is set=0.3949929152795553, colsample_bytree=1.0 will be ignored. Current value: feature_fraction=0.3949929152795553\n",
      "[LightGBM] [Warning] feature_fraction is set=0.3949929152795553, colsample_bytree=1.0 will be ignored. Current value: feature_fraction=0.3949929152795553\n",
      "[LightGBM] [Warning] feature_fraction is set=0.3949929152795553, colsample_bytree=1.0 will be ignored. Current value: feature_fraction=0.3949929152795553\n",
      "[LightGBM] [Warning] feature_fraction is set=0.3949929152795553, colsample_bytree=1.0 will be ignored. Current value: feature_fraction=0.3949929152795553\n",
      "[LightGBM] [Warning] feature_fraction is set=0.2916003533450696, colsample_bytree=1.0 will be ignored. Current value: feature_fraction=0.2916003533450696\n",
      "[LightGBM] [Warning] feature_fraction is set=0.2916003533450696, colsample_bytree=1.0 will be ignored. Current value: feature_fraction=0.2916003533450696\n",
      "[LightGBM] [Warning] feature_fraction is set=0.2916003533450696, colsample_bytree=1.0 will be ignored. Current value: feature_fraction=0.2916003533450696\n",
      "[LightGBM] [Warning] feature_fraction is set=0.2916003533450696, colsample_bytree=1.0 will be ignored. Current value: feature_fraction=0.2916003533450696\n",
      "[LightGBM] [Warning] feature_fraction is set=0.2916003533450696, colsample_bytree=1.0 will be ignored. Current value: feature_fraction=0.2916003533450696\n",
      "[LightGBM] [Warning] feature_fraction is set=0.6691148925733179, colsample_bytree=1.0 will be ignored. Current value: feature_fraction=0.6691148925733179\n",
      "[LightGBM] [Warning] feature_fraction is set=0.6691148925733179, colsample_bytree=1.0 will be ignored. Current value: feature_fraction=0.6691148925733179\n",
      "[LightGBM] [Warning] feature_fraction is set=0.6691148925733179, colsample_bytree=1.0 will be ignored. Current value: feature_fraction=0.6691148925733179\n",
      "[LightGBM] [Warning] feature_fraction is set=0.6691148925733179, colsample_bytree=1.0 will be ignored. Current value: feature_fraction=0.6691148925733179\n",
      "[LightGBM] [Warning] feature_fraction is set=0.6691148925733179, colsample_bytree=1.0 will be ignored. Current value: feature_fraction=0.6691148925733179\n",
      "[LightGBM] [Warning] feature_fraction is set=0.8332689775663373, colsample_bytree=1.0 will be ignored. Current value: feature_fraction=0.8332689775663373\n"
     ]
    },
    {
     "data": {
      "text/plain": [
       "RandomizedSearchCV(cv=5,\n",
       "                   estimator=Pipeline(steps=[('kbest',\n",
       "                                              SelectKBest(score_func=<function mutual_info_classif at 0x7f1ca80f19d8>)),\n",
       "                                             ('lgb',\n",
       "                                              LGBMClassifier(objective='binary',\n",
       "                                                             scale_pos_weight=2.33))]),\n",
       "                   n_iter=50,\n",
       "                   param_distributions={'kbest__k': <scipy.stats._distn_infrastructure.rv_frozen object at 0x7f1c9c6a9588>,\n",
       "                                        'lgb__extra_trees': [True, False],\n",
       "                                        'lgb__feature_fraction': <scipy.stats._distn_infrastructure.rv_frozen object at 0x7f1c9c6abd30>,\n",
       "                                        'lgb__learning_rate': [0.01, 0.3],\n",
       "                                        'lgb__max_bin': <scipy.stats._distn_infrastructure.rv_frozen object at 0x7f1c9c6ab278>,\n",
       "                                        'lgb__num_leaves': <scipy.stats._distn_infrastructure.rv_frozen object at 0x7f1c9c6b50f0>},\n",
       "                   scoring='roc_auc')"
      ]
     },
     "execution_count": 25,
     "metadata": {},
     "output_type": "execute_result"
    }
   ],
   "source": [
    "rcv.fit(X_train,y_train)"
   ]
  },
  {
   "cell_type": "code",
   "execution_count": 26,
   "metadata": {},
   "outputs": [
    {
     "data": {
      "text/plain": [
       "['LGBMpipe.pkl']"
      ]
     },
     "execution_count": 26,
     "metadata": {},
     "output_type": "execute_result"
    }
   ],
   "source": [
    "import joblib\n",
    "joblib.dump(rcv,\"LGBMpipe.pkl\")"
   ]
  },
  {
   "cell_type": "code",
   "execution_count": null,
   "metadata": {},
   "outputs": [],
   "source": [
    "rcv = joblib.load(\"LGBMpipe.pkl\")"
   ]
  },
  {
   "cell_type": "code",
   "execution_count": 27,
   "metadata": {},
   "outputs": [
    {
     "data": {
      "text/plain": [
       "{'kbest__k': 18,\n",
       " 'lgb__extra_trees': True,\n",
       " 'lgb__feature_fraction': 0.8332689775663373,\n",
       " 'lgb__learning_rate': 0.3,\n",
       " 'lgb__max_bin': 167,\n",
       " 'lgb__num_leaves': 1044}"
      ]
     },
     "execution_count": 27,
     "metadata": {},
     "output_type": "execute_result"
    }
   ],
   "source": [
    "rcv.best_params_"
   ]
  },
  {
   "cell_type": "code",
   "execution_count": 30,
   "metadata": {},
   "outputs": [
    {
     "data": {
      "image/png": "[encoded data removed]",
      "text/plain": [
       "<Figure size 432x288 with 2 Axes>"
      ]
     },
     "metadata": {
      "needs_background": "light"
     },
     "output_type": "display_data"
    },
    {
     "name": "stdout",
     "output_type": "stream",
     "text": [
      "              precision    recall  f1-score   support\n",
      "\n",
      "           0       0.80      0.80      0.80       472\n",
      "           1       0.25      0.24      0.25       128\n",
      "\n",
      "    accuracy                           0.68       600\n",
      "   macro avg       0.52      0.52      0.52       600\n",
      "weighted avg       0.68      0.68      0.68       600\n",
      "\n"
     ]
    }
   ],
   "source": [
    "thresh = optimizedf1(y_validation,rcv.predict(X_validation))\n",
    "makeConfusionMatrixandScore(rcv,y_validation,X_validation, thresh = thresh)"
   ]
  },
  {
   "cell_type": "code",
   "execution_count": 31,
   "metadata": {},
   "outputs": [
    {
     "data": {
      "image/png": "[encoded data removed]",
      "text/plain": [
       "<Figure size 1152x576 with 2 Axes>"
      ]
     },
     "metadata": {
      "needs_background": "light"
     },
     "output_type": "display_data"
    }
   ],
   "source": [
    "plot_roc_and_prc(y_validation,rcv.predict(X_validation))"
   ]
  },
  {
   "cell_type": "markdown",
   "metadata": {},
   "source": [
    "### <a name=\"eda_optuna\"> </a> Hyperparameter Tuning Using Optuna"
   ]
  },
  {
   "cell_type": "code",
   "execution_count": 48,
   "metadata": {},
   "outputs": [],
   "source": [
    "\n",
    "def objective(trial):\n",
    "        \n",
    "    \n",
    "    \n",
    "    param = {\n",
    "        'objective': 'binary',\n",
    "        'metric': 'auc',\n",
    "        'lambda_l1': trial.suggest_float('lambda_l1', 1e-8, 10.0,log=True),\n",
    "        'lambda_l2': trial.suggest_float('lambda_l2', 1e-8, 10.0,log=True),\n",
    "        'num_leaves': trial.suggest_int('num_leaves', 2, 256),\n",
    "        'feature_fraction': trial.suggest_float('feature_fraction', 0.4, 0.8),\n",
    "        'bagging_fraction': trial.suggest_float('bagging_fraction', 0.4, 1.0),\n",
    "        'bagging_freq': trial.suggest_int('bagging_freq', 1, 7),\n",
    "        'min_child_samples': trial.suggest_int('min_child_samples', 5, 50),\n",
    "        'verbosity': -1,\n",
    "        'num_threads':4\n",
    "        \n",
    "    }\n",
    "    skf = StratifiedKFold(n_splits=5, shuffle=True, random_state=0)\n",
    "    auc_scores = []\n",
    "        \n",
    "    for train_index, val_index in skf.split(X_train, y_train):\n",
    "        X_train_fold, X_val_fold = X_train[train_index], X_train[val_index]\n",
    "        y_train_fold, y_val_fold = y_train[train_index], y_train[val_index]\n",
    "\n",
    "        train_data = lgb.Dataset(data=X_train_fold, label=y_train_fold)\n",
    "        \n",
    "\n",
    "        bst = lgb.train(param, train_data,verbose_eval=False)\n",
    "        preds = bst.predict(X_val_fold)\n",
    "        \n",
    "        auc = roc_auc_score(y_val_fold, preds)  \n",
    "        auc_scores.append(auc)\n",
    "    print(f\"Mean Score:{np.mean(auc_scores):.2f} trial scores:\")\n",
    "    print(*auc_scores, sep=\",\")\n",
    "    return np.mean(auc_scores)\n",
    "    "
   ]
  },
  {
   "cell_type": "code",
   "execution_count": null,
   "metadata": {},
   "outputs": [
    {
     "name": "stderr",
     "output_type": "stream",
     "text": [
      "[I 2023-07-15 13:48:20,577] A new study created in memory with name: no-name-0c92f1d9-c36c-42d3-a9ae-8641a1e88fb3\n",
      "[I 2023-07-15 13:48:27,344] Trial 0 finished with value: 0.9088233190827435 and parameters: {'lambda_l1': 0.0001823151227083342, 'lambda_l2': 8.678448687404686e-07, 'num_leaves': 40, 'feature_fraction': 0.7750579138200193, 'bagging_fraction': 0.7705451755423873, 'bagging_freq': 2, 'min_child_samples': 17}. Best is trial 0 with value: 0.9088233190827435.\n"
     ]
    },
    {
     "name": "stdout",
     "output_type": "stream",
     "text": [
      "Mean Score:0.91 trial scores:\n",
      "0.9041584877841445,0.9207931443768971,0.8984390018500589,0.9044672374332456,0.9162587239693707\n"
     ]
    },
    {
     "name": "stderr",
     "output_type": "stream",
     "text": [
      "[I 2023-07-15 13:48:35,461] Trial 1 finished with value: 0.9093273459429122 and parameters: {'lambda_l1': 5.144428289523027, 'lambda_l2': 2.6416083778925876, 'num_leaves': 192, 'feature_fraction': 0.4053697800038945, 'bagging_fraction': 0.82248035297027, 'bagging_freq': 5, 'min_child_samples': 11}. Best is trial 1 with value: 0.9093273459429122.\n"
     ]
    },
    {
     "name": "stdout",
     "output_type": "stream",
     "text": [
      "Mean Score:0.91 trial scores:\n",
      "0.9049962169912648,0.9220982382995684,0.8988975483634298,0.9012213557119041,0.9194233703483936\n"
     ]
    },
    {
     "name": "stderr",
     "output_type": "stream",
     "text": [
      "[I 2023-07-15 13:48:51,156] Trial 2 finished with value: 0.9182867978980258 and parameters: {'lambda_l1': 3.3593970067065135e-06, 'lambda_l2': 2.2973341652554997, 'num_leaves': 156, 'feature_fraction': 0.43694128821759676, 'bagging_fraction': 0.9392138210133557, 'bagging_freq': 6, 'min_child_samples': 15}. Best is trial 2 with value: 0.9182867978980258.\n"
     ]
    },
    {
     "name": "stdout",
     "output_type": "stream",
     "text": [
      "Mean Score:0.92 trial scores:\n",
      "0.9160877516935357,0.9300822385535326,0.9054300725385311,0.913664490972281,0.9261694357322483\n"
     ]
    },
    {
     "name": "stderr",
     "output_type": "stream",
     "text": [
      "[I 2023-07-15 13:49:06,746] Trial 3 finished with value: 0.9162523406229095 and parameters: {'lambda_l1': 3.528860828831351e-05, 'lambda_l2': 3.896468770790473e-08, 'num_leaves': 240, 'feature_fraction': 0.7508441422348937, 'bagging_fraction': 0.9700197648265579, 'bagging_freq': 7, 'min_child_samples': 31}. Best is trial 2 with value: 0.9182867978980258.\n"
     ]
    },
    {
     "name": "stdout",
     "output_type": "stream",
     "text": [
      "Mean Score:0.92 trial scores:\n",
      "0.9115005229193893,0.9291651455267905,0.9004671883515076,0.9135426379588031,0.9265862083580572\n"
     ]
    },
    {
     "name": "stderr",
     "output_type": "stream",
     "text": [
      "[I 2023-07-15 13:49:10,147] Trial 4 finished with value: 0.9036977545442542 and parameters: {'lambda_l1': 0.18159481696311042, 'lambda_l2': 2.487919335774517e-08, 'num_leaves': 20, 'feature_fraction': 0.5098389825975639, 'bagging_fraction': 0.9166543902167038, 'bagging_freq': 3, 'min_child_samples': 8}. Best is trial 2 with value: 0.9182867978980258.\n"
     ]
    },
    {
     "name": "stdout",
     "output_type": "stream",
     "text": [
      "Mean Score:0.90 trial scores:\n",
      "0.8994319314155508,0.9146345119742367,0.8945942656994863,0.8995736910513972,0.9102543725805996\n"
     ]
    },
    {
     "name": "stderr",
     "output_type": "stream",
     "text": [
      "[I 2023-07-15 13:49:17,446] Trial 5 finished with value: 0.9076941093621427 and parameters: {'lambda_l1': 8.637313558133482e-08, 'lambda_l2': 0.0038822985104898914, 'num_leaves': 79, 'feature_fraction': 0.40723903272196216, 'bagging_fraction': 0.656675648803049, 'bagging_freq': 2, 'min_child_samples': 40}. Best is trial 2 with value: 0.9182867978980258.\n"
     ]
    },
    {
     "name": "stdout",
     "output_type": "stream",
     "text": [
      "Mean Score:0.91 trial scores:\n",
      "0.9052448902927467,0.9181811928911182,0.901437190591331,0.9032769630697071,0.9103303099658105\n"
     ]
    },
    {
     "name": "stderr",
     "output_type": "stream",
     "text": [
      "[I 2023-07-15 13:49:22,460] Trial 6 finished with value: 0.9059422515451836 and parameters: {'lambda_l1': 7.37741932663729, 'lambda_l2': 0.0016843600209177406, 'num_leaves': 200, 'feature_fraction': 0.7561212753449655, 'bagging_fraction': 0.7037451374560919, 'bagging_freq': 4, 'min_child_samples': 33}. Best is trial 2 with value: 0.9182867978980258.\n"
     ]
    },
    {
     "name": "stdout",
     "output_type": "stream",
     "text": [
      "Mean Score:0.91 trial scores:\n",
      "0.906047346691146,0.9150736584428112,0.8931180986545187,0.8982315419174366,0.9172406120200051\n"
     ]
    },
    {
     "name": "stderr",
     "output_type": "stream",
     "text": [
      "[I 2023-07-15 13:49:38,060] Trial 7 finished with value: 0.9159493204599588 and parameters: {'lambda_l1': 0.6779152982953104, 'lambda_l2': 1.4419516139534322e-06, 'num_leaves': 144, 'feature_fraction': 0.6056936160195492, 'bagging_fraction': 0.7799103156956828, 'bagging_freq': 4, 'min_child_samples': 12}. Best is trial 2 with value: 0.9182867978980258.\n"
     ]
    },
    {
     "name": "stdout",
     "output_type": "stream",
     "text": [
      "Mean Score:0.92 trial scores:\n",
      "0.9158179147068212,0.9207437624446879,0.9044847612648124,0.9130181402051367,0.9256820236783362\n"
     ]
    },
    {
     "name": "stderr",
     "output_type": "stream",
     "text": [
      "[I 2023-07-15 13:49:49,564] Trial 8 finished with value: 0.9126715534328829 and parameters: {'lambda_l1': 2.761281884493614e-08, 'lambda_l2': 0.040869860807183606, 'num_leaves': 251, 'feature_fraction': 0.41298179874576385, 'bagging_fraction': 0.6645220403262733, 'bagging_freq': 6, 'min_child_samples': 25}. Best is trial 2 with value: 0.9182867978980258.\n"
     ]
    },
    {
     "name": "stdout",
     "output_type": "stream",
     "text": [
      "Mean Score:0.91 trial scores:\n",
      "0.9085040978185532,0.9222181658492192,0.8987388207241861,0.910837147862451,0.9230595349100054\n"
     ]
    },
    {
     "name": "stderr",
     "output_type": "stream",
     "text": [
      "[I 2023-07-15 13:50:00,064] Trial 9 finished with value: 0.9130553764710028 and parameters: {'lambda_l1': 0.00010238419885688583, 'lambda_l2': 0.08281791024428131, 'num_leaves': 112, 'feature_fraction': 0.4293870179103963, 'bagging_fraction': 0.9100729147928943, 'bagging_freq': 7, 'min_child_samples': 37}. Best is trial 2 with value: 0.9182867978980258.\n"
     ]
    },
    {
     "name": "stdout",
     "output_type": "stream",
     "text": [
      "Mean Score:0.91 trial scores:\n",
      "0.9086487163343087,0.9247119534257834,0.9044530157369637,0.9089139894323415,0.9185492074256167\n"
     ]
    },
    {
     "name": "stderr",
     "output_type": "stream",
     "text": [
      "[I 2023-07-15 13:50:05,549] Trial 10 finished with value: 0.9067780632623827 and parameters: {'lambda_l1': 1.318045392573629e-06, 'lambda_l2': 2.9939149117543513, 'num_leaves': 162, 'feature_fraction': 0.5262592677979445, 'bagging_fraction': 0.5339298809432291, 'bagging_freq': 5, 'min_child_samples': 48}. Best is trial 2 with value: 0.9182867978980258.\n"
     ]
    },
    {
     "name": "stdout",
     "output_type": "stream",
     "text": [
      "Mean Score:0.91 trial scores:\n",
      "0.8992679128549987,0.9197384873961436,0.8960069416887563,0.9026765279308299,0.9162004464411856\n"
     ]
    },
    {
     "name": "stderr",
     "output_type": "stream",
     "text": [
      "[I 2023-07-15 13:50:25,854] Trial 11 finished with value: 0.9202548545797784 and parameters: {'lambda_l1': 7.50598357662e-06, 'lambda_l2': 4.445160750866582e-05, 'num_leaves': 248, 'feature_fraction': 0.6869826349630017, 'bagging_fraction': 0.9936820375410613, 'bagging_freq': 7, 'min_child_samples': 23}. Best is trial 11 with value: 0.9202548545797784.\n"
     ]
    },
    {
     "name": "stdout",
     "output_type": "stream",
     "text": [
      "Mean Score:0.92 trial scores:\n",
      "0.9184792481248093,0.9278265424358344,0.909119608330732,0.9168997767794074,0.9289490972281089\n"
     ]
    },
    {
     "name": "stderr",
     "output_type": "stream",
     "text": [
      "[I 2023-07-15 13:50:47,368] Trial 12 finished with value: 0.9175768402190171 and parameters: {'lambda_l1': 2.2462937608146448e-06, 'lambda_l2': 4.8612190041486916e-05, 'num_leaves': 205, 'feature_fraction': 0.6230173546307289, 'bagging_fraction': 0.9815911951276097, 'bagging_freq': 6, 'min_child_samples': 22}. Best is trial 11 with value: 0.9202548545797784.\n"
     ]
    },
    {
     "name": "stdout",
     "output_type": "stream",
     "text": [
      "Mean Score:0.92 trial scores:\n",
      "0.9170630448546673,0.9268671220386272,0.9051320173048398,0.9131876748325846,0.9256343420643666\n"
     ]
    },
    {
     "name": "stderr",
     "output_type": "stream",
     "text": [
      "[I 2023-07-15 13:51:01,146] Trial 13 finished with value: 0.9145126308175604 and parameters: {'lambda_l1': 0.00985355579348487, 'lambda_l2': 2.525637127138237e-05, 'num_leaves': 101, 'feature_fraction': 0.674549198768038, 'bagging_fraction': 0.9967840274676245, 'bagging_freq': 7, 'min_child_samples': 18}. Best is trial 11 with value: 0.9202548545797784.\n"
     ]
    },
    {
     "name": "stdout",
     "output_type": "stream",
     "text": [
      "Mean Score:0.91 trial scores:\n",
      "0.9125816345066833,0.9219853653116618,0.899401949528138,0.9112450905597469,0.9273491141815716\n"
     ]
    },
    {
     "name": "stderr",
     "output_type": "stream",
     "text": [
      "[I 2023-07-15 13:51:19,353] Trial 14 finished with value: 0.9216614797813822 and parameters: {'lambda_l1': 5.510710967088529e-06, 'lambda_l2': 0.0001290090066175564, 'num_leaves': 165, 'feature_fraction': 0.6815674480873333, 'bagging_fraction': 0.8625258008349302, 'bagging_freq': 6, 'min_child_samples': 18}. Best is trial 14 with value: 0.9216614797813822.\n"
     ]
    },
    {
     "name": "stdout",
     "output_type": "stream",
     "text": [
      "Mean Score:0.92 trial scores:\n",
      "0.9224245117802363,0.9296430920849581,0.9039556691339995,0.9194710519623633,0.9328130739453533\n"
     ]
    },
    {
     "name": "stderr",
     "output_type": "stream",
     "text": [
      "[I 2023-07-15 13:51:53,650] Trial 15 finished with value: 0.9239116673370378 and parameters: {'lambda_l1': 0.0020509726567226774, 'lambda_l2': 0.00013128906058866555, 'num_leaves': 225, 'feature_fraction': 0.6915173412664041, 'bagging_fraction': 0.8581350988668321, 'bagging_freq': 5, 'min_child_samples': 5}. Best is trial 15 with value: 0.9239116673370378.\n"
     ]
    },
    {
     "name": "stdout",
     "output_type": "stream",
     "text": [
      "Mean Score:0.92 trial scores:\n",
      "0.9191159223222207,0.9310028588611468,0.9153188044634213,0.9197942273459354,0.9343265236924642\n"
     ]
    },
    {
     "name": "stderr",
     "output_type": "stream",
     "text": [
      "[I 2023-07-15 13:52:22,269] Trial 16 finished with value: 0.9220800390312391 and parameters: {'lambda_l1': 0.0016196273523282267, 'lambda_l2': 0.00031686183552936395, 'num_leaves': 183, 'feature_fraction': 0.6970853760877085, 'bagging_fraction': 0.8574985923621379, 'bagging_freq': 5, 'min_child_samples': 6}. Best is trial 15 with value: 0.9239116673370378.\n"
     ]
    },
    {
     "name": "stdout",
     "output_type": "stream",
     "text": [
      "Mean Score:0.92 trial scores:\n",
      "0.9196538326552137,0.9296572012084463,0.911946723949708,0.9155399677884207,0.9336024695544065\n"
     ]
    },
    {
     "name": "stderr",
     "output_type": "stream",
     "text": [
      "[I 2023-07-15 13:53:18,844] Trial 17 finished with value: 0.9223433735319523 and parameters: {'lambda_l1': 0.0013142725059975139, 'lambda_l2': 0.0007600488474296333, 'num_leaves': 221, 'feature_fraction': 0.7232919238040633, 'bagging_fraction': 0.8602391938032639, 'bagging_freq': 1, 'min_child_samples': 7}. Best is trial 15 with value: 0.9239116673370378.\n"
     ]
    },
    {
     "name": "stdout",
     "output_type": "stream",
     "text": [
      "Mean Score:0.92 trial scores:\n",
      "0.9193751774663188,0.931553114677192,0.9108955942498267,0.9164070667683875,0.9334859144980363\n"
     ]
    },
    {
     "name": "stderr",
     "output_type": "stream",
     "text": [
      "[I 2023-07-15 13:54:04,266] Trial 18 finished with value: 0.9243398145055522 and parameters: {'lambda_l1': 0.002874594857238398, 'lambda_l2': 0.0028653146630632682, 'num_leaves': 221, 'feature_fraction': 0.7946658136127679, 'bagging_fraction': 0.8798348828609295, 'bagging_freq': 1, 'min_child_samples': 7}. Best is trial 18 with value: 0.9243398145055522.\n"
     ]
    },
    {
     "name": "stdout",
     "output_type": "stream",
     "text": [
      "Mean Score:0.92 trial scores:\n",
      "0.9241211338797092,0.9303714755850436,0.9146574392999052,0.921102822751547,0.9314462010115565\n"
     ]
    },
    {
     "name": "stderr",
     "output_type": "stream",
     "text": [
      "[I 2023-07-15 14:00:05,661] Trial 19 finished with value: 0.9231835136730726 and parameters: {'lambda_l1': 0.01144619056622563, 'lambda_l2': 0.00935160318016033, 'num_leaves': 220, 'feature_fraction': 0.783753730650165, 'bagging_fraction': 0.7594896831715805, 'bagging_freq': 1, 'min_child_samples': 11}. Best is trial 18 with value: 0.9243398145055522.\n"
     ]
    },
    {
     "name": "stdout",
     "output_type": "stream",
     "text": [
      "Mean Score:0.92 trial scores:\n",
      "0.9226238031495091,0.9312815140500414,0.9070261671331495,0.9186198468537199,0.9363662371789437\n"
     ]
    },
    {
     "name": "stderr",
     "output_type": "stream",
     "text": [
      "[I 2023-07-15 14:00:15,461] Trial 20 finished with value: 0.9079143500592863 and parameters: {'lambda_l1': 0.026004486545589095, 'lambda_l2': 0.014590863270891449, 'num_leaves': 67, 'feature_fraction': 0.7839489125311981, 'bagging_fraction': 0.4120865409025207, 'bagging_freq': 3, 'min_child_samples': 5}. Best is trial 18 with value: 0.9243398145055522.\n"
     ]
    },
    {
     "name": "stdout",
     "output_type": "stream",
     "text": [
      "Mean Score:0.91 trial scores:\n",
      "0.9008904620561577,0.9176573916816135,0.8922874240091427,0.9096768952558559,0.9190595772936623\n"
     ]
    }
   ],
   "source": [
    "study = optuna.create_study(direction='maximize')\n",
    "study.optimize(objective, n_trials=100)\n",
    " "
   ]
  },
  {
   "cell_type": "code",
   "execution_count": null,
   "metadata": {},
   "outputs": [],
   "source": [
    "print('Number of finished trials:', len(study.trials))\n",
    "print('Best trial:', study.best_trial.params)"
   ]
  },
  {
   "cell_type": "code",
   "execution_count": null,
   "metadata": {
    "scrolled": true
   },
   "outputs": [],
   "source": [
    "train_data = lgb.Dataset(X_train,label=y_train)\n",
    "\n",
    "param =study.best_trial.params\n",
    "\n",
    "\n",
    "\n",
    "bst = lgb.train(param, train_data)"
   ]
  },
  {
   "cell_type": "code",
   "execution_count": null,
   "metadata": {},
   "outputs": [],
   "source": [
    "joblib.dump(bst,\"LGBMoptuna.pkl\")"
   ]
  },
  {
   "cell_type": "code",
   "execution_count": 14,
   "metadata": {},
   "outputs": [],
   "source": [
    "bst = joblib.load(\"LGBMoptuna.pkl\")"
   ]
  },
  {
   "cell_type": "code",
   "execution_count": 15,
   "metadata": {},
   "outputs": [
    {
     "data": {
      "image/png": "[encoded data removed]",
      "text/plain": [
       "<Figure size 432x288 with 2 Axes>"
      ]
     },
     "metadata": {
      "needs_background": "light"
     },
     "output_type": "display_data"
    },
    {
     "name": "stdout",
     "output_type": "stream",
     "text": [
      "              precision    recall  f1-score   support\n",
      "\n",
      "           0       0.85      0.23      0.37       472\n",
      "           1       0.23      0.84      0.36       128\n",
      "\n",
      "    accuracy                           0.36       600\n",
      "   macro avg       0.54      0.54      0.36       600\n",
      "weighted avg       0.71      0.36      0.36       600\n",
      "\n"
     ]
    }
   ],
   "source": [
    "thresh = optimizedf1(y_validation,bst.predict(X_validation))\n",
    "makeConfusionMatrixandScore(bst,y_validation,X_validation, thresh = thresh)"
   ]
  },
  {
   "cell_type": "code",
   "execution_count": 16,
   "metadata": {},
   "outputs": [
    {
     "data": {
      "image/png": "[encoded data removed]",
      "text/plain": [
       "<Figure size 1152x576 with 2 Axes>"
      ]
     },
     "metadata": {
      "needs_background": "light"
     },
     "output_type": "display_data"
    }
   ],
   "source": [
    "plot_roc_and_prc(y_validation,bst.predict(X_validation))"
   ]
  },
  {
   "cell_type": "code",
   "execution_count": null,
   "metadata": {},
   "outputs": [],
   "source": []
  }
 ],
 "metadata": {
  "kernelspec": {
   "display_name": "Python 3",
   "language": "python",
   "name": "python3"
  },
  "language_info": {
   "codemirror_mode": {
    "name": "ipython",
    "version": 3
   },
   "file_extension": ".py",
   "mimetype": "text/x-python",
   "name": "python",
   "nbconvert_exporter": "python",
   "pygments_lexer": "ipython3",
   "version": "3.7.3"
  }
 },
 "nbformat": 4,
 "nbformat_minor": 2
}
